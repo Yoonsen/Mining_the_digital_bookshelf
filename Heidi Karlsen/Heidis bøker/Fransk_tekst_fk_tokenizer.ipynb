{
 "cells": [
  {
   "cell_type": "markdown",
   "metadata": {
    "extensions": {
     "jupyter_dashboards": {
      "version": 1,
      "views": {
       "grid_default": {
        "col": 4,
        "height": 4,
        "hidden": false,
        "row": 0,
        "width": 4
       },
       "report_default": {
        "hidden": false
       }
      }
     }
    }
   },
   "source": [
    "## Notebook for topic-modellering av Delicia."
   ]
  },
  {
   "cell_type": "markdown",
   "metadata": {
    "extensions": {
     "jupyter_dashboards": {
      "version": 1,
      "views": {
       "grid_default": {
        "col": 8,
        "height": 4,
        "hidden": false,
        "row": 16,
        "width": 4
       },
       "report_default": {
        "hidden": true
       }
      }
     }
    }
   },
   "source": [
    "Litt boilerplate import"
   ]
  },
  {
   "cell_type": "code",
   "execution_count": 1,
   "metadata": {
    "extensions": {
     "jupyter_dashboards": {
      "version": 1,
      "views": {
       "grid_default": {
        "hidden": true
       },
       "report_default": {
        "hidden": true
       }
      }
     }
    }
   },
   "outputs": [],
   "source": [
    "import topicmodelling as tm\n",
    "import imp\n",
    "import util\n",
    "from bs4 import BeautifulSoup\n",
    "import fork_kombo as fk\n",
    "import nltk\n",
    "from nltk.tokenize import word_tokenize\n",
    "import matplotlib.pyplot as plt\n",
    "from IPython.display import HTML\n",
    "%matplotlib inline"
   ]
  },
  {
   "cell_type": "markdown",
   "metadata": {},
   "source": [
    "## Definisjon av konkordans\n",
    "\n",
    "konk(corpus, ord, n) har tre parametre, det første er korpuset (som i variabelen **corpus**), det neste er en liste av ord, skriv ordene med anførselstegn skilt med blanke som f.eks. \"droit sa raison\". Det siste parametret, n er et tall fra 1 og nedover til for eksempel 1/2, som angir hvor mange av ordene som skal treffes på. Hele avsnittet vises - ser at for den franske er hver setning tolket som avsnitt.\n",
    "\n",
    "Prøv det litt og se hvor det bærer. Eksempel på bruk nederst i notebooken. Trenger du litt mindre konkordans, mer standard, så bare si fra!"
   ]
  },
  {
   "cell_type": "code",
   "execution_count": 34,
   "metadata": {},
   "outputs": [],
   "source": [
    "def konk(corpus, words, n=1):\n",
    "    \n",
    "    \"\"\"n is percent of match - jaccardish\"\"\"\n",
    "\n",
    "    words = [w.strip() for w in words.split()]\n",
    "    lines = \"\"\n",
    "    for p in corpus:\n",
    "        \n",
    "        if len(set(words) & set(p)) >= n*len(set(words)):\n",
    "            line = ' '.join(p)\n",
    "            for w in words:\n",
    "                line = line.replace(w, \"<span style='color:tomato;'>{w}</span>\".format(w=w))\n",
    "            lines+= \"<p>{konk}</p>\".format(konk = line)\n",
    "            #print(line)\n",
    "    return HTML(lines)"
   ]
  },
  {
   "cell_type": "code",
   "execution_count": null,
   "metadata": {
    "collapsed": true
   },
   "outputs": [],
   "source": []
  },
  {
   "cell_type": "markdown",
   "metadata": {
    "extensions": {
     "jupyter_dashboards": {
      "version": 1,
      "views": {
       "grid_default": {
        "col": 0,
        "height": 5,
        "hidden": false,
        "row": 205,
        "width": 12
       },
       "report_default": {
        "hidden": false
       }
      }
     }
    }
   },
   "source": [
    "### Hvor ligger tekstene\n",
    "\n",
    "De norske kan eventuelt splittes opp i to"
   ]
  },
  {
   "cell_type": "code",
   "execution_count": 49,
   "metadata": {},
   "outputs": [],
   "source": [
    "#my_norwegian_files = [ 'ad3.txt', 'constance.txt']\n",
    "my_french_files = ['sand-indiana.txt']"
   ]
  },
  {
   "cell_type": "markdown",
   "metadata": {},
   "source": [
    "## Kjør en av cellene under\n",
    "\n",
    "Den første er med fransk tokenisering - skulle funke, men sjekk at alt er som det skal"
   ]
  },
  {
   "cell_type": "markdown",
   "metadata": {},
   "source": [
    "### Fransk"
   ]
  },
  {
   "cell_type": "code",
   "execution_count": 51,
   "metadata": {},
   "outputs": [],
   "source": [
    "# fransk tekst\n",
    "\n",
    "corpus=[]\n",
    "for filename in my_french_files:\n",
    "    text = open(filename, encoding='utf-8').read()\n",
    "    for paragraph in text.split('\\n\\n'):\n",
    "        corpus.append(fk.tokenize(paragraph))"
   ]
  },
  {
   "cell_type": "markdown",
   "metadata": {},
   "source": [
    "### Norsk"
   ]
  },
  {
   "cell_type": "markdown",
   "metadata": {},
   "source": [
    "### Se på korpuset\n",
    "\n",
    "For å sjekke tokenisering, at punktum og andre tegn er skilt ut."
   ]
  },
  {
   "cell_type": "raw",
   "metadata": {},
   "source": [
    "# norsk tekst\n",
    "\n",
    "corpus=[]\n",
    "for filename in my_norwegian_files:\n",
    "    text = open(filename, encoding='utf-8').read()\n",
    "    for paragraph in text.split('\\n'):\n",
    "        corpus.append(fk.tokenize(paragraph))"
   ]
  },
  {
   "cell_type": "code",
   "execution_count": 52,
   "metadata": {},
   "outputs": [
    {
     "name": "stdout",
     "output_type": "stream",
     "text": [
      "ne dois pas vous le dire ... – Eh bien , moi , je le sais , Indiana . Je sais toute votre histoire , toute votre vie . Rien de ce qui vous concerne ne m ’ est étranger , parce que rien de ce qui vous concerne ne m ’ est indifférent . J ’ ai voulu tout connaître de vous , et je n ’ ai rien appris que ne m ’ eût révélé un instant passé chez vous , lorsqu ’ on m ’ apporta tout sanglant , tout brisé à vos pieds , et que votre mari s ’ irrita de vous voir , si belle et si bonne , me faire un appui de vos bras mœlleux , un baume de votre douce haleine . Lui , jaloux ! oh ! je le conçois bien ; à sa place , je le serais , Indiana ; ou plutôt , à sa place , je me tuerais ; car , être votre époux , madame , vous posséder , vous tenir dans ses bras , et ne pas vous mériter , n ’ avoir pas votre cœur , c ’ est être le plus misérable ou le plus lâche des hommes . – Ô ciel ! taisez-vous , s ’ écria-t- elle en lui fermant la bouche avec ses mains , taisez-vous , car vous me rendez coupable . Pourquoi me parlez-vous de lui ? pourquoi voulez-vous m ’ enseigner à le maudire ? ... S ’ il vous entendait ! ... Mais je n ’ ai pas dit de mal de lui ; 88\n",
      "ce n ’ est pas moi qui vous autorise à ce crime ! moi , je ne le hais pas , je l ’ estime je l ’ aime ! ... – Dites que vous le craignez horriblement ; car le despote a brisé votre âme , et la peur s ’ est assise à votre chevet depuis que vous êtes devenue la proie de cet homme . Vous , Indiana , profanée à ce rustre dont la main de fer a courbé votre tête et flétri votre vie ! Pauvre enfant ! si jeune et si belle , avoir déjà tant souffert ! ... car ce n ’ est pas moi que vous tromperiez , Indiana ; moi qui vous regarde avec d ’ autres yeux que ceux de la foule , je sais tous les secrets de votre destinée , et vous ne pouvez pas espérer vous cacher de moi . Que ceux qui vous regardent parce que vous êtes belle disent en remarquant votre pâleur et votre mélancolie : « Elle est malade ... » , à la bonne heure ; mais , moi qui vous suis avec mon cœur , moi dont l ’ âme tout entière vous entoure de sollicitude et d ’ amour , je connais bien votre mal . Je sais bien que , si le ciel l ’ eût voulu , s ’ il vous eût donnée à moi , à moi malheureux qui devrais me briser la tête d ’ être venu si tard , vous ne seriez pas malade . Indiana , moi , j ’ en jure sur ma vie , je vous aurais tant aimée , que vous m ’ auriez 89\n",
      "aimé aussi , et que vous auriez béni votre chaîne . Je vous aurais portée dans mes bras pour empêcher vos pieds de se blesser ; je les aurais réchauffés de mon haleine . Je vous aurais appuyée contre mon cœur pour vous préserver de souffrir . J ’ aurais donné tout mon sang pour réparer le vôtre , et , si vous aviez perdu le sommeil avec moi , j ’ aurais passé la nuit à vous dire de douces paroles , à vous sourire pour vous rendre le courage , tout en pleurant de vous voir souffrir . Quand le sommeil serait venu se glisser sur vos paupières de soie , je les aurais effleurées de mes lèvres pour les clore plus doucement , et , à genoux près de votre lit , j ’ aurais veillé sur vous . J ’ aurais forcé l ’ air à vous caresser légèrement , les songes dorés à vous jeter des fleurs . J ’ aurais baisé sans bruit les tresses de vos cheveux , j ’ aurais compté avec volupté les palpitations de votre sein , et , à votre réveil , Indiana , vous m ’ eussiez trouvé là , à vos pieds , vous gardant en maître jaloux , vous servant en esclave , épiant votre premier sourire , m ’ emparant de votre première pensée , de votre premier regard , de votre premier baiser ... 90\n",
      "– Assez , assez ! dit Indiana tout éperdue , toute palpitante ; vous me faites mal . Et pourtant , si l ’ on mourait de bonheur , Indiana serait morte en ce moment . – Ne me parlez pas ainsi , lui dit-elle , à moi qui ne dois pas être heureuse ; ne me montrez pas le ciel sur la terre , à moi qui suis marquée pour mourir . – Pour mourir ! s ’ écria Raymon avec force en la saisissant dans ses bras ; toi , mourir ! Indiana ! mourir avant d ’ avoir vécu , avant d ’ avoir aimé ! ... Non , tu ne mourras pas ; ce n ’ est pas moi qui te laisserai mourir ; car ma vie maintenant est liée à la tienne . Tu es la femme que j ’ avais rêvée , la pureté que j ’ adorais ; la chimère qui m ’ avait toujours fui , l ’ étoile brillante qui luisait devant moi pour me dire : « Marche encore dans cette vie de misère , et le ciel t ’ enverra un de ses anges pour t ’ accompagner . » De tout temps , tu m ’ étais destinée , ton âme était fiancée à la mienne , Indiana ! Les hommes et leurs lois de fer ont disposé de toi ; ils m ’ ont arraché la compagne que Dieu m ’ eût choisie , si Dieu n ’ oubliait parfois 91\n",
      "ses promesses . Mais que nous importent les hommes et les lois , si je t ’ aime encore aux bras d ’ un autre , si tu peux encore m ’ aimer , maudit et malheureux comme je suis de t ’ avoir perdue ! Vois-tu , Indiana , tu m ’ appartiens , tu es la moitié de mon âme , qui cherchait depuis longtemps à rejoindre l ’ autre . Quand tu rêvais d ’ un ami à l ’ île Bourbon , c ’ était de moi que tu rêvais ; quand , au nom d ’ époux , un doux frisson de crainte et d ’ espoir passait dans ton âme , c ’ est que je devais être ton époux . Ne me reconnais-tu pas ? ne te semble-t- il pas qu ’ il y a vingt ans que nous ne nous sommes vus ? Ne t ’ ai-je pas reconnu , ange , lorsque tu étanchais mon sang avec ton voile , lorsque tu plaçais ta main sur mon cœur éteint pour y ramener la chaleur et la vie ? Ah ! je m ’ en souviens bien , moi . Quand j ’ ouvris les yeux , je me dis : « La voilà ! c ’ est ainsi qu ’ elle était dans tous mes rêves , blanche , mélancolique et bienfaisante . C ’ est mon bien , à moi , c ’ est elle qui doit m ’ abreuver de félicités inconnues . » Et déjà la vie physique que je venais de retrouver était ton ouvrage , Car ce ne sont pas des circonstances vulgaires qui nous ont réunis , vois-tu ; ce n ’ est ni 92\n"
     ]
    }
   ],
   "source": [
    "# velg noen avsnitt for å få et inntrykk - 5 eller 10 om gangen.\n",
    "\n",
    "for p in corpus[100:105]:\n",
    "    print(' '.join(p))"
   ]
  },
  {
   "cell_type": "code",
   "execution_count": 40,
   "metadata": {
    "collapsed": true
   },
   "outputs": [],
   "source": [
    "freqs = tm.corpusfreq(corpus)"
   ]
  },
  {
   "cell_type": "code",
   "execution_count": 41,
   "metadata": {},
   "outputs": [
    {
     "data": {
      "text/plain": [
       "[(',', 7346),\n",
       " ('’', 6621),\n",
       " ('de', 4375),\n",
       " ('.', 3222),\n",
       " ('et', 2649),\n",
       " ('la', 2150),\n",
       " ('le', 1734),\n",
       " ('à', 1725),\n",
       " ('l', 1673),\n",
       " (';', 1431),\n",
       " ('il', 1313),\n",
       " ('que', 1308),\n",
       " ('d', 1256),\n",
       " ('un', 1141),\n",
       " ('vous', 1099),\n",
       " ('les', 1093),\n",
       " ('qu', 949),\n",
       " ('qui', 940),\n",
       " ('ne', 935),\n",
       " ('en', 915)]"
      ]
     },
     "execution_count": 41,
     "metadata": {},
     "output_type": "execute_result"
    }
   ],
   "source": [
    "freqs.most_common(20)"
   ]
  },
  {
   "cell_type": "markdown",
   "metadata": {
    "extensions": {
     "jupyter_dashboards": {
      "version": 1,
      "views": {
       "grid_default": {},
       "report_default": {
        "hidden": false
       }
      }
     }
    }
   },
   "source": [
    "## Lag  selve stoppordliste\n",
    "\n",
    "Ordlista kan endres ved å legge til og trekke fra. Viser nedenfor hvordan det gjøres.\n",
    "\n",
    "Ett paramater som er enkelt å endre er tallet i **freqs.most_common()**, bare endre det for å få andre stoppordlister. Ord som er tatt ut kan legges inn igjen. Se et par celler nedenfor."
   ]
  },
  {
   "cell_type": "code",
   "execution_count": 42,
   "metadata": {
    "collapsed": true
   },
   "outputs": [],
   "source": [
    "korpus_stopp = dict({x[0]:freqs[x[0]] for x in freqs.most_common(100)})"
   ]
  },
  {
   "cell_type": "markdown",
   "metadata": {},
   "source": [
    "**Sjekk ut hva som fjernes...**"
   ]
  },
  {
   "cell_type": "code",
   "execution_count": 43,
   "metadata": {},
   "outputs": [
    {
     "name": "stdout",
     "output_type": "stream",
     "text": [
      "dict_keys([',', '’', 'de', '.', 'et', 'la', 'le', 'à', 'l', ';', 'il', 'que', 'd', 'un', 'vous', 'les', 'qu', 'qui', 'ne', 'en', 'pas', 'elle', 'une', 'dans', 'je', 'pour', 'se', 'lui', 'son', 's', 'n', 'était', 'sa', 'avait', 'des', 'est', 'ses', '–', '!', 'plus', 'du', 'sur', 'avec', 'ce', 'si', 'Raymon', 'me', 'Il', 'au', 'mais', 'Delmare', 'm', 'comme', 'cette', 'Indiana', '?', 'Ralph', 'tout', 'Mme', 'j', 'par', 'y', 'c', 'bien', 'sans', 'mon', 'ai', 'Je', 'a', 'femme', 'votre', 'moi', 'vie', 'homme', '...', 'Elle', 'ma', 'nous', 'ces', ':', 'cœur', 'eût', 'être', 'aux', 'on', 'dit', 'Mais', 'où', 'fait', 'cet', 'encore', 'M.', 'amour', 'Noun', 'autre', 'donc', 'toute', 'tous', 'Vous', 'été'])\n"
     ]
    }
   ],
   "source": [
    "print(korpus_stopp.keys())"
   ]
  },
  {
   "cell_type": "code",
   "execution_count": 44,
   "metadata": {},
   "outputs": [
    {
     "data": {
      "text/plain": [
       "['monde, peu, faire, toutes, aussi, mère, Ramière, esprit, point, fut, voulait, rien, pouvait, jamais, quand',\n",
       " 'tu, te, ton, t, toi, ta, suis, tes, mes, as, Et, serai, es, sais, sang',\n",
       " 'avez, suis, vos, mes, jamais, J, dit-elle, êtes, aime, peut-être, jour, puis, Et, car, ici',\n",
       " 'colonel, sir, monsieur, madame, faire, répondit, suis, Ramière, ici, jeune, dit-il, main, mari, Le, toujours',\n",
       " 'leur, ils, leurs, deux, avaient, Les, étaient, Ils, toujours, sont, quelques, main, eux, ont, hommes',\n",
       " 'ni, sais, réponse, mal, fois, ordinaire, caractère, espoir, Dieu, pensées, Comme, vers, personnage, première, mes',\n",
       " 'sous, dont, vers, chambre, porte, même, instant, tête, fit, avaient, devant, La, yeux, fois, fut',\n",
       " 'ou, quelque, yeux, chez, car, chose, point, là, aimait, peut-être, sir, courage, quand, esprit, puis',\n",
       " 'aurais, mes, vos, J, étais, voir, bras, car, seul, souffrir, pieds, ans, sourire, vôtre, quand',\n",
       " '«, », Dieu, avoir, jour, peut-être, même, J, C, fut, avais, âme, car, jamais, mort']"
      ]
     },
     "execution_count": 44,
     "metadata": {},
     "output_type": "execute_result"
    }
   ],
   "source": [
    "tm.modeller_set(corpus, tema=10, chunk_size=100, stop_words = korpus_stopp, topic_size=15)"
   ]
  },
  {
   "cell_type": "markdown",
   "metadata": {
    "extensions": {
     "jupyter_dashboards": {
      "version": 1,
      "views": {
       "grid_default": {
        "col": 0,
        "height": 4,
        "hidden": false,
        "row": 201,
        "width": 12
       },
       "report_default": {
        "hidden": false
       }
      }
     }
    }
   },
   "source": [
    "** Her er noen konkordanser også **"
   ]
  },
  {
   "cell_type": "code",
   "execution_count": 48,
   "metadata": {},
   "outputs": [
    {
     "data": {
      "text/html": [
       "<p>ce n ’ est pas moi qui vous autorise à ce crime ! moi , je ne le hais pas , je l ’ estime je l ’ aime ! ... – Dites que vous le craignez horriblement ; car le despote a brisé votre âme , et la peur s ’ est assise à votre chevet depuis que vous êtes devenue la proie de cet <span style='color:tomato;'>homme</span> . Vous , Indiana , profanée à ce rustre dont la main de fer a courbé votre tête et flétri votre vie ! Pauvre <span style='color:tomato;'>enfant</span> ! si jeune et si belle , avoir déjà tant souffert ! ... car ce n ’ est pas moi que vous tromperiez , Indiana ; moi qui vous regarde avec d ’ autres yeux que ceux de la foule , je sais tous les secrets de votre destinée , et vous ne pouvez pas espérer vous cacher de moi . Que ceux qui vous regardent parce que vous êtes belle disent en remarquant votre pâleur et votre mélancolie : « Elle est malade ... » , à la bonne heure ; mais , moi qui vous suis avec mon cœur , moi dont l ’ âme tout entière vous entoure de sollicitude et d ’ <span style='color:tomato;'>amour</span> , je connais bien votre mal . Je sais bien que , si le ciel l ’ eût voulu , s ’ il vous eût donnée à moi , à moi malheureux qui devrais me briser la tête d ’ être venu si tard , vous ne seriez pas malade . Indiana , moi , j ’ en jure sur ma vie , je vous aurais tant aimée , que vous m ’ auriez 89</p><p>l ’ on intéresse le cœur au succès de folles entreprises et d ’ impossibles félicités . C ’ est horriblement vrai , Raymon , ce que vous avez dit là ! Ce qui m ’ épouvante et me terrasse , c ’ est que vous avez raison . « Ce que je n ’ explique pas aussi bien , c ’ est que l ’ impossibilité n ’ ait pas été égale pour nous deux ; c ’ est que , moi , faible femme , j ’ aie puisé dans l ’ exaltation de mes sentiments la force de me placer seule dans une situation d ’ invraisemblance et de roman , et que vous , <span style='color:tomato;'>homme</span> de cœur , vous n ’ ayez pas trouvé dans votre volonté celle de m ’ y suivre . Pourtant , vous aviez partagé ces rêves d ’ avenir , vous aviez consenti à ces illusions , vous aviez nourri en moi cet espoir impossible à réaliser . Depuis longtemps , vous écoutiez mes projets d ’ <span style='color:tomato;'>enfant</span> , mes ambitions de pygmée , avec le sourire sur les lèvres et la joie dans les yeux , et vos paroles étaient toutes d ’ <span style='color:tomato;'>amour</span> et de reconnaissance . Vous aussi , vous fûtes aveugle , imprévoyant , fanfaron . Comment se fait-il que la raison ne vous soit revenue qu ’ à la vue du danger ? Moi , je croyais que le danger fascinait les yeux , exaltait 369</p>"
      ],
      "text/plain": [
       "<IPython.core.display.HTML object>"
      ]
     },
     "execution_count": 48,
     "metadata": {},
     "output_type": "execute_result"
    }
   ],
   "source": [
    "konk(corpus, 'homme amour enfant', 1)"
   ]
  },
  {
   "cell_type": "code",
   "execution_count": null,
   "metadata": {
    "collapsed": true
   },
   "outputs": [],
   "source": []
  },
  {
   "cell_type": "code",
   "execution_count": null,
   "metadata": {
    "collapsed": true
   },
   "outputs": [],
   "source": []
  }
 ],
 "metadata": {
  "anaconda-cloud": {},
  "extensions": {
   "jupyter_dashboards": {
    "activeView": "report_default",
    "version": 1,
    "views": {
     "grid_default": {
      "cellMargin": 10,
      "defaultCellHeight": 20,
      "maxColumns": 12,
      "name": "grid",
      "type": "grid"
     },
     "report_default": {
      "name": "report",
      "type": "report"
     }
    }
   }
  },
  "kernelspec": {
   "display_name": "Python 3",
   "language": "python",
   "name": "python3"
  },
  "language_info": {
   "codemirror_mode": {
    "name": "ipython",
    "version": 3
   },
   "file_extension": ".py",
   "mimetype": "text/x-python",
   "name": "python",
   "nbconvert_exporter": "python",
   "pygments_lexer": "ipython3",
   "version": "3.6.10"
  }
 },
 "nbformat": 4,
 "nbformat_minor": 1
}
