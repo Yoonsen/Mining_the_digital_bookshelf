{
 "cells": [
  {
   "cell_type": "markdown",
   "metadata": {},
   "source": [
    "\n",
    "Vedlegg tilgjengelige fram til 26. nov. 2019\n",
    " \n",
    "Hei!\n",
    "\n",
    "Nå er jeg ikke så veldig langt unna med å ha ferdig analysen av de forrige resultatene jeg fikk. Det er ganske gøy å holde på med det. Men jeg jobber på spreng for å holde tidsskjemaet mitt :)  \n",
    "\n",
    "\n",
    "Dette betyr at jeg snart gjerne vil få hentet ut et siste sett med resultater. Som vi snakket om sist, da ønsker jeg å gjøre bruk av flere automatisk genererte temaer. Jeg satser på å sende deg nye temaer innen torsdag. Det vil bli mindre omfattende enn sist. \n",
    "\n",
    "\n",
    "\n",
    "Men kunne du i mellomtiden hjelpe meg litt med “dyp-topic-modellering” og legge inn flere måter å generere temaer på i notebøkene av de kvinnelige forfatterne mine? \n",
    "\n",
    "\n",
    "Hertha- notebooken er genial i så måte. Her har du lagt inn mange forskjellige parametere for tema-generering.   \n",
    "Klikk for å laste ned\n",
    "TM_Hertha.ipynb\n",
    "385 kB\n",
    "\n",
    "\n",
    "Kunne du sett litt nærmere på de andre notebookene også? Er det flere nyttige fremgangsmåter for automatisk tema-generering du kan legge til? \n",
    "\n",
    "Klikk for å laste ned\n",
    "TM_Til Sverriges Qvinder .ipynb\n",
    "13 kB\n",
    " \n",
    "Klikk for å laste ned\n",
    "denconstitutionelle.txt\n",
    "14 kB\n",
    " \n",
    "Klikk for å laste ned\n",
    "Amtmandens døtre .ipynb\n",
    "1,4 MB\n",
    " \n",
    "Klikk for å laste ned\n",
    "Indiana.ipynb\n",
    "3,1 MB\n",
    " \n",
    "Klikk for å laste ned\n",
    "sand-indiana.txt\n",
    "570 kB\n",
    "\n",
    "\n",
    "I Amtmandens Døtre-notebooken har vi brukt denne teksten  \n",
    "Klikk for å laste ned\n",
    "ad3.txt\n",
    "667 kB\n",
    " men det ville vært veldig fint om vi heller kunne brukt 1855-utgaven: \n",
    "https://www.nb.no/items/fbf5c6432c86426817fe167282f603ad?page=519&searchText=Amtmandens%20døttre\n",
    "\n",
    "\n",
    "Til slutt skulle jeg veldig gjerne laget meg et dokument av de tre artiklene til Aasta Hansteen også. For jeg vil gjerne også få generert automatiske temaer fra hennes tekster. Er det mulig å ta ut Dagbladet-utgavene og legge den inn i et txt-dokument? Jeg kan i tilfelle gå inn i det etterpå og fjerne all annen tekst fra de respektive avisene (slik jeg har gjort for “Til Sverriges Qvinder”) . Her er de tre Dagblad-utgavene det gjelder: \n",
    "\n",
    "Klikk for å laste ned\n",
    "Hansteen 12 August 1870.pdf\n",
    "19,9 MB\n",
    " \n",
    "Klikk for å laste ned\n",
    "Hansteen 06 August 1870.pdf\n",
    "21,4 MB\n",
    " \n",
    "Klikk for å laste ned\n",
    "Hansteen 13 July 1870.pdf\n",
    "20,6 MB\n"
   ]
  },
  {
   "cell_type": "code",
   "execution_count": 1,
   "metadata": {},
   "outputs": [],
   "source": [
    "import requests\n",
    "import os\n",
    "from IPython.display import HTML, Markdown, display\n",
    "from urllib.parse import urlparse, urljoin\n",
    "import ipywidgets as widgets\n",
    "\n",
    "def code_toggle(button_text = \"Klikk for å vise/skjule kodeceller\"):\n",
    "    from IPython.display import HTML, display\n",
    "\n",
    "    display(\n",
    "        HTML(\n",
    "        '''<div>\n",
    "                <style>\n",
    "                 .mybutton {\n",
    "                    background-color: lightgrey;\n",
    "                    border: none;\n",
    "                    color: white;\n",
    "                    padding: 10px 16px;\n",
    "                    text-align: center;\n",
    "                    text-decoration: none;\n",
    "                    display: inline-block;\n",
    "                    font-size: 16px;\n",
    "                    margin: 4px 2px;\n",
    "                    cursor: pointer;\n",
    "                }\n",
    "            </style>\n",
    "            <script>\n",
    "                code_show=true; \n",
    "                function code_toggle() {\n",
    "                 if (code_show){\n",
    "                 $('div.input').hide();\n",
    "                 } else {\n",
    "                 $('div.input').show();\n",
    "                 }\n",
    "                 code_show = !code_show\n",
    "                } \n",
    "                $( document ).ready(code_toggle);\n",
    "            </script>\n",
    "            <form  action=\"javascript:code_toggle()\">\n",
    "                <input class='mybutton' type=\"submit\" value=''' + '\"'  + button_text + '\"' + '''>\n",
    "            </form>\n",
    "        </div>'''\n",
    "        ))\n",
    "    \n",
    "def printmd(S):\n",
    "    display(Markdown(S))\n",
    "    return\n",
    "\n",
    "def update(module=\"\", overwrite=True, silent=False):\n",
    "    \"\"\"Fetch modules from Github and write them to folder\"\"\"\n",
    "    nba = requests.get(\n",
    "        \"https://raw.githubusercontent.com/Yoonsen/Modules/master/{module}.py\".format(module=module),\n",
    "        headers={'Cache-Control': 'no-cache'}\n",
    "        )\n",
    "    filename = '{m}.py'.format(m=module)\n",
    "    if nba.status_code == 200:\n",
    "        file_exists = os.path.exists(filename)\n",
    "        if file_exists and not(overwrite):\n",
    "            if not silent:\n",
    "                printmd(\"File {f} exists - call `update('{m}', overwrite = True)` in order to download module `{m}` anyway\".format(f = os.path.abspath(filename), m = module))\n",
    "        else:\n",
    "            nba = nba.text\n",
    "            with open(filename,'w', encoding='UTF-8') as pyfile:\n",
    "                pyfile.write(nba)\n",
    "                pyfile.flush()\n",
    "                pyfile.close()\n",
    "            if not silent:\n",
    "                printmd(\"Updated file `{module}.py`\".format(module= os.path.abspath(module)))\n",
    "    else:\n",
    "        printmd( \n",
    "            \"\"\"{intro} for {module} with error {code}\"\"\".format(\n",
    "                intro = \"An error occured during download\", \n",
    "                module = module, \n",
    "                code= nba.status_code\n",
    "            )\n",
    "        )\n",
    "    return\n",
    "\n"
   ]
  },
  {
   "cell_type": "code",
   "execution_count": 28,
   "metadata": {},
   "outputs": [],
   "source": [
    "import pandas as pd\n",
    "from dhlab.nbtokenizer import tokenize\n",
    "import dhlab.graph_networkx_louvain as gnl\n",
    "from IPython.display import HTML, Markdown, display\n",
    "from collections import Counter\n",
    "import networkx as nx\n",
    "from bs4 import BeautifulSoup\n",
    "import json"
   ]
  },
  {
   "cell_type": "code",
   "execution_count": 20,
   "metadata": {},
   "outputs": [
    {
     "data": {
      "text/plain": [
       "['hertha-txt\\\\kap01.html',\n",
       " 'hertha-txt\\\\kap02.html',\n",
       " 'hertha-txt\\\\kap03.html',\n",
       " 'hertha-txt\\\\kap04.html',\n",
       " 'hertha-txt\\\\kap05.html',\n",
       " 'hertha-txt\\\\kap06.html',\n",
       " 'hertha-txt\\\\kap07.html',\n",
       " 'hertha-txt\\\\kap08.html',\n",
       " 'hertha-txt\\\\kap09.html',\n",
       " 'hertha-txt\\\\kap10.html',\n",
       " 'hertha-txt\\\\kap11.html',\n",
       " 'hertha-txt\\\\kap12.html',\n",
       " 'hertha-txt\\\\kap13.html',\n",
       " 'hertha-txt\\\\kap14.html',\n",
       " 'hertha-txt\\\\kap15.html',\n",
       " 'hertha-txt\\\\kap16.html',\n",
       " 'hertha-txt\\\\kap17.html',\n",
       " 'hertha-txt\\\\kap18.html',\n",
       " 'hertha-txt\\\\kap19.html',\n",
       " 'hertha-txt\\\\kap20.html',\n",
       " 'hertha-txt\\\\kap21.html',\n",
       " 'hertha-txt\\\\kap22.html',\n",
       " 'hertha-txt\\\\kap23.html',\n",
       " 'hertha-txt\\\\kap24.html',\n",
       " 'hertha-txt\\\\kap25.html',\n",
       " 'hertha-txt\\\\kap26.html',\n",
       " 'hertha-txt\\\\kap27.html',\n",
       " 'hertha-txt\\\\kap28.html',\n",
       " 'hertha-txt\\\\kap29.html',\n",
       " 'hertha-txt\\\\kap30.html',\n",
       " 'hertha-txt\\\\kap31.html',\n",
       " 'hertha-txt\\\\kap32.html',\n",
       " 'hertha-txt\\\\kap33.html',\n",
       " 'hertha-txt\\\\kap34.html',\n",
       " 'hertha-txt\\\\kap35.html',\n",
       " 'hertha-txt\\\\kap36.html',\n",
       " 'hertha-txt\\\\kap37.html',\n",
       " 'hertha-txt\\\\kap38.html',\n",
       " 'hertha-txt\\\\kap39.html']"
      ]
     },
     "execution_count": 20,
     "metadata": {},
     "output_type": "execute_result"
    }
   ],
   "source": [
    "filstruct = os.walk('hertha-txt')\n",
    "myfiles = [os.path.join('hertha-txt', f) for _ ,_ , file in filstruct for f in file if f.startswith('kap') and f.endswith('.html')]\n",
    "myfiles"
   ]
  },
  {
   "cell_type": "markdown",
   "metadata": {},
   "source": [
    "# Extract text from file"
   ]
  },
  {
   "cell_type": "code",
   "execution_count": 31,
   "metadata": {},
   "outputs": [],
   "source": [
    "text = []\n",
    "for filname in myfiles:\n",
    "    with open(filname, encoding='utf-8') as f:\n",
    "        soup = BeautifulSoup(f.read(), 'html')\n",
    "        for n in soup.find_all('p'):\n",
    "            text.append(tokenize(n.text))"
   ]
  },
  {
   "cell_type": "code",
   "execution_count": 33,
   "metadata": {},
   "outputs": [],
   "source": [
    "#temaene ble lagret med annen notebook - Heidis definisjoner_0_november\n",
    "with open('../Nye tema november 2019/heidis_temadefinisjoner_november.json') as f:\n",
    "    first = json.load(f)\n",
    "\n",
    "wordbags = dict()\n",
    "for f in first:\n",
    "    for wb in first[f]:\n",
    "        wordbags[wb] = first[f][wb]"
   ]
  },
  {
   "cell_type": "code",
   "execution_count": 91,
   "metadata": {},
   "outputs": [],
   "source": [
    "def paragraphs(textfile):\n",
    "    with open(textfile, encoding='utf-8') as f:\n",
    "        text = f.read()\n",
    "    # return tokenizes paragraphs \n",
    "    return [tokenize(p) for p in text.split('\\n')]"
   ]
  },
  {
   "cell_type": "code",
   "execution_count": 94,
   "metadata": {},
   "outputs": [],
   "source": [
    "def paragraphs_hot(textfile, freqlim = 1):\n",
    "    # return tokenizes paragraphs \n",
    "    i = 0\n",
    "    struct = dict()\n",
    "    for p in paragraphs(textfile):\n",
    "        struct[i] = Counter(p)\n",
    "        i += 1\n",
    "    return pd.DataFrame(struct).fillna(0)\n",
    "\n",
    "def paragraphs_hot_from_list(paragraphs, freqlim = 1):\n",
    "    # return tokenizes paragraphs \n",
    "    i = 0\n",
    "    struct = dict()\n",
    "    for p in paragraphs:\n",
    "        struct[i] = Counter(p)\n",
    "        i += 1\n",
    "    return pd.DataFrame(struct).fillna(0)\n",
    "        "
   ]
  },
  {
   "cell_type": "code",
   "execution_count": 95,
   "metadata": {},
   "outputs": [],
   "source": [
    "texthot = paragraphs_hot_from_list(text)"
   ]
  },
  {
   "cell_type": "code",
   "execution_count": 99,
   "metadata": {},
   "outputs": [],
   "source": [
    "freqs = texthot.sum(axis=1).sort_values()"
   ]
  },
  {
   "cell_type": "code",
   "execution_count": 40,
   "metadata": {},
   "outputs": [],
   "source": [
    "def pcoll(word, paras):\n",
    "    \"\"\"paras as a numbered dictionary of paragraphs\"\"\"\n",
    "    hits = pd.DataFrame([paras[para] for para in paras if word in paras[para]])\n",
    "    return hits"
   ]
  },
  {
   "cell_type": "code",
   "execution_count": 100,
   "metadata": {},
   "outputs": [],
   "source": [
    "def coll(word, paras, exp=1.2):\n",
    "    if word in paras.index:\n",
    "        res = (paras[[i for i in paras if paras[i][word] > 0]].sum(axis=1)**exp/freqs).sort_values(ascending=False)\n",
    "    else:\n",
    "        res = pd.Series()\n",
    "    return res"
   ]
  },
  {
   "cell_type": "code",
   "execution_count": 101,
   "metadata": {},
   "outputs": [],
   "source": [
    "def collwb(wordbag, paras, exp=1.2, column=None):\n",
    "    res = pd.DataFrame()\n",
    "    for w in wordbag:\n",
    "        res[w] = coll(w, paras, exp)\n",
    "    result = pd.DataFrame()\n",
    "    if column == None:\n",
    "        colname = 'coll'\n",
    "    else:\n",
    "        colname = column\n",
    "    result[colname] = res.sum(axis=1)\n",
    "    return result.sort_values(by=colname, ascending=False)\n",
    "\n",
    "def combocoll(wordbag, paras, exps = None, freqs = None):\n",
    "    \n",
    "    if exps == None:\n",
    "        exps = [1.05, 1.2]\n",
    "    \n",
    "    rescoll = pd.concat([collwb(wordbag, paras, exp = a, column = a) for a in exps], axis=1, sort=True)\n",
    "    \n",
    "    # wise to compute the frequencies beforehand, it takes a second or so off the time\n",
    "    if freqs == None:\n",
    "        freqs = paras.sum(axis=1)\n",
    "    \n",
    "    rescoll['freq'] = freqs[rescoll.index]\n",
    "    \n",
    "    return rescoll"
   ]
  },
  {
   "cell_type": "code",
   "execution_count": 102,
   "metadata": {},
   "outputs": [],
   "source": [
    "def inspectcoll(collocation, freqlim = 0, colnum = None, colname = None):\n",
    "    if colname == None:\n",
    "        if colnum == None:\n",
    "            column = collocation.columns[0]\n",
    "        else:\n",
    "            column = collocation.columns[colnum]\n",
    "    else:\n",
    "        column = colname\n",
    "        \n",
    "    return collocation[collocation.freq > freqlim].sort_values(by=column, ascending=False)"
   ]
  },
  {
   "cell_type": "code",
   "execution_count": 103,
   "metadata": {},
   "outputs": [],
   "source": [
    "def displaycoll(collocation,n = 20, freqlim = 0):        \n",
    "    for column in collocation:\n",
    "        if column != 'freq':\n",
    "            display(Markdown('### ' + str(column)))\n",
    "            display(Markdown(', '.join(list(collocation[collocation.freq > freqlim].sort_values(by=column, ascending=False).index[:n]))))\n",
    "            display(Markdown('<br>'))"
   ]
  },
  {
   "cell_type": "code",
   "execution_count": 104,
   "metadata": {},
   "outputs": [
    {
     "data": {
      "text/plain": [
       "dict_keys(['Kvinde_', 'Sandhed_', 'Frihed_', 'Legeme_', 'Læserinde_', 'Litteratur_', 'Religion_', 'Kvindeforening_', 'Forfatterinde_', 'Myndighed_', 'Yrkesaktiv_', 'Sivil status_', 'Ligestilling_', 'Folkeoplysning_', 'Sundhed_', 'Befolkningsprosesser_'])"
      ]
     },
     "execution_count": 104,
     "metadata": {},
     "output_type": "execute_result"
    }
   ],
   "source": [
    "wordbags.keys()"
   ]
  },
  {
   "cell_type": "code",
   "execution_count": null,
   "metadata": {},
   "outputs": [],
   "source": []
  },
  {
   "cell_type": "code",
   "execution_count": 111,
   "metadata": {},
   "outputs": [
    {
     "data": {
      "text/plain": [
       "kvinnor       2.131526\n",
       "vanligaste    1.245731\n",
       "simmade       1.245731\n",
       "lyssnen       1.148698\n",
       "Låten         1.148698\n",
       "dtype: float64"
      ]
     },
     "execution_count": 111,
     "metadata": {},
     "output_type": "execute_result"
    }
   ],
   "source": [
    "coll('kvinnor', texthot).head()"
   ]
  },
  {
   "cell_type": "code",
   "execution_count": 106,
   "metadata": {},
   "outputs": [],
   "source": [
    "themes = dict()\n",
    "for w in wordbags.keys():\n",
    "    themes[w] = combocoll(wordbags[w], texthot, exps = [1.05, 1.2, 1.5])\n"
   ]
  },
  {
   "cell_type": "markdown",
   "metadata": {},
   "source": [
    "# Her er kollokasjonene for temaordene\n",
    "\n",
    "Passer greit nok på svensk, men noen er blanke."
   ]
  },
  {
   "cell_type": "code",
   "execution_count": 108,
   "metadata": {},
   "outputs": [
    {
     "data": {
      "text/markdown": [
       "## Kvinde_"
      ],
      "text/plain": [
       "<IPython.core.display.Markdown object>"
      ]
     },
     "metadata": {},
     "output_type": "display_data"
    },
    {
     "data": {
      "text/markdown": [
       "### 1.05"
      ],
      "text/plain": [
       "<IPython.core.display.Markdown object>"
      ]
     },
     "metadata": {},
     "output_type": "display_data"
    },
    {
     "data": {
      "text/markdown": [
       "husmoder, småbarnsskola, moderlig, tillsyn, moder, hustru, rådlösa, egenkärlek, grön, sorgliga, stött, mor, möta, damer, huldhet, dä, va, rensa, nedbrunna, självständig, döttrarnas, återkommo, värdighet, skämtade, upphov, övergick, Tro, olympiska, tinningarna, stav, Bed, vården, förskaffa, samtycka, berömde, företag, ungarna, spela, överlämna, språkade"
      ],
      "text/plain": [
       "<IPython.core.display.Markdown object>"
      ]
     },
     "metadata": {},
     "output_type": "display_data"
    },
    {
     "data": {
      "text/markdown": [
       "<br>"
      ],
      "text/plain": [
       "<IPython.core.display.Markdown object>"
      ]
     },
     "metadata": {},
     "output_type": "display_data"
    },
    {
     "data": {
      "text/markdown": [
       "### 1.2"
      ],
      "text/plain": [
       "<IPython.core.display.Markdown object>"
      ]
     },
     "metadata": {},
     "output_type": "display_data"
    },
    {
     "data": {
      "text/markdown": [
       "moder, mor, husmoder, moderlig, småbarnsskola, hustru, damer, tillsyn, rådlösa, huldhet, egenkärlek, grön, stött, sorgliga, dä, va, möta, rensa, nedbrunna, Ingeborgs, skämtade, stav, värdighet, återkommo, döttrarnas, upphov, tinningarna, Tro, självständig, övergick, olympiska, Bed, vården, räddade, förskaffa, barnen, undervisning, företag, styrkande, överlämna"
      ],
      "text/plain": [
       "<IPython.core.display.Markdown object>"
      ]
     },
     "metadata": {},
     "output_type": "display_data"
    },
    {
     "data": {
      "text/markdown": [
       "<br>"
      ],
      "text/plain": [
       "<IPython.core.display.Markdown object>"
      ]
     },
     "metadata": {},
     "output_type": "display_data"
    },
    {
     "data": {
      "text/markdown": [
       "### 1.5"
      ],
      "text/plain": [
       "<IPython.core.display.Markdown object>"
      ]
     },
     "metadata": {},
     "output_type": "display_data"
    },
    {
     "data": {
      "text/markdown": [
       "mor, moder, moderlig, hustru, ,, husmoder, småbarnsskola, damer, dä, va, och, huldhet, Ingeborgs, rådlösa, rensa, barnen, tillsyn, sorgliga, egenkärlek, grön, stött, Amalia, ., räddade, barn, att, nedbrunna, som, en, hem, med, möta, läkarinna, uppträda, upphov, Tro, stav, tinningarna, självständig, övergick"
      ],
      "text/plain": [
       "<IPython.core.display.Markdown object>"
      ]
     },
     "metadata": {},
     "output_type": "display_data"
    },
    {
     "data": {
      "text/markdown": [
       "<br>"
      ],
      "text/plain": [
       "<IPython.core.display.Markdown object>"
      ]
     },
     "metadata": {},
     "output_type": "display_data"
    },
    {
     "data": {
      "text/markdown": [
       "## Sandhed_"
      ],
      "text/plain": [
       "<IPython.core.display.Markdown object>"
      ]
     },
     "metadata": {},
     "output_type": "display_data"
    },
    {
     "data": {
      "text/markdown": [
       "### 1.05"
      ],
      "text/plain": [
       "<IPython.core.display.Markdown object>"
      ]
     },
     "metadata": {},
     "output_type": "display_data"
    },
    {
     "data": {
      "text/markdown": [],
      "text/plain": [
       "<IPython.core.display.Markdown object>"
      ]
     },
     "metadata": {},
     "output_type": "display_data"
    },
    {
     "data": {
      "text/markdown": [
       "<br>"
      ],
      "text/plain": [
       "<IPython.core.display.Markdown object>"
      ]
     },
     "metadata": {},
     "output_type": "display_data"
    },
    {
     "data": {
      "text/markdown": [
       "### 1.2"
      ],
      "text/plain": [
       "<IPython.core.display.Markdown object>"
      ]
     },
     "metadata": {},
     "output_type": "display_data"
    },
    {
     "data": {
      "text/markdown": [],
      "text/plain": [
       "<IPython.core.display.Markdown object>"
      ]
     },
     "metadata": {},
     "output_type": "display_data"
    },
    {
     "data": {
      "text/markdown": [
       "<br>"
      ],
      "text/plain": [
       "<IPython.core.display.Markdown object>"
      ]
     },
     "metadata": {},
     "output_type": "display_data"
    },
    {
     "data": {
      "text/markdown": [
       "### 1.5"
      ],
      "text/plain": [
       "<IPython.core.display.Markdown object>"
      ]
     },
     "metadata": {},
     "output_type": "display_data"
    },
    {
     "data": {
      "text/markdown": [],
      "text/plain": [
       "<IPython.core.display.Markdown object>"
      ]
     },
     "metadata": {},
     "output_type": "display_data"
    },
    {
     "data": {
      "text/markdown": [
       "<br>"
      ],
      "text/plain": [
       "<IPython.core.display.Markdown object>"
      ]
     },
     "metadata": {},
     "output_type": "display_data"
    },
    {
     "data": {
      "text/markdown": [
       "## Frihed_"
      ],
      "text/plain": [
       "<IPython.core.display.Markdown object>"
      ]
     },
     "metadata": {},
     "output_type": "display_data"
    },
    {
     "data": {
      "text/markdown": [
       "### 1.05"
      ],
      "text/plain": [
       "<IPython.core.display.Markdown object>"
      ]
     },
     "metadata": {},
     "output_type": "display_data"
    },
    {
     "data": {
      "text/markdown": [
       "bit, stuga, räkning, Barnen, övergiven, vinter, föddes, bodde, föda, Granberg, gråtit, utanför, ens, mat, dar, Ofta, förtjäna, sov, längre, bröd, förrän, nöd, behålla, sträng, väckte, förbi, yttrade, barnet, svag, mod, Anna, därunder, sjukdom, dagar, gråta, flickan, kvar, sätta, krafter, Ett"
      ],
      "text/plain": [
       "<IPython.core.display.Markdown object>"
      ]
     },
     "metadata": {},
     "output_type": "display_data"
    },
    {
     "data": {
      "text/markdown": [
       "<br>"
      ],
      "text/plain": [
       "<IPython.core.display.Markdown object>"
      ]
     },
     "metadata": {},
     "output_type": "display_data"
    },
    {
     "data": {
      "text/markdown": [
       "### 1.2"
      ],
      "text/plain": [
       "<IPython.core.display.Markdown object>"
      ]
     },
     "metadata": {},
     "output_type": "display_data"
    },
    {
     "data": {
      "text/markdown": [
       "Barnen, bit, stuga, räkning, övergiven, vinter, bodde, föddes, föda, Granberg, gråtit, mat, ens, utanför, Ofta, dar, förtjäna, längre, bröd, sov, behålla, väckte, sträng, nöd, förbi, förrän, barnet, yttrade, Anna, mod, svag, därunder, dagar, sjukdom, gråta, flickan, kvar, sätta, krafter, Ett"
      ],
      "text/plain": [
       "<IPython.core.display.Markdown object>"
      ]
     },
     "metadata": {},
     "output_type": "display_data"
    },
    {
     "data": {
      "text/markdown": [
       "<br>"
      ],
      "text/plain": [
       "<IPython.core.display.Markdown object>"
      ]
     },
     "metadata": {},
     "output_type": "display_data"
    },
    {
     "data": {
      "text/markdown": [
       "### 1.5"
      ],
      "text/plain": [
       "<IPython.core.display.Markdown object>"
      ]
     },
     "metadata": {},
     "output_type": "display_data"
    },
    {
     "data": {
      "text/markdown": [
       "vinter, Barnen, bit, stuga, räkning, övergiven, föda, bodde, föddes, Granberg, gråtit, mat, ens, utanför, längre, bröd, Ofta, dar, förtjäna, sov, behålla, väckte, sträng, nöd, förbi, förrän, dagar, barnet, yttrade, Anna, mod, svag, därunder, sjukdom, inte, gråta, flickan, kvar, sätta, krafter"
      ],
      "text/plain": [
       "<IPython.core.display.Markdown object>"
      ]
     },
     "metadata": {},
     "output_type": "display_data"
    },
    {
     "data": {
      "text/markdown": [
       "<br>"
      ],
      "text/plain": [
       "<IPython.core.display.Markdown object>"
      ]
     },
     "metadata": {},
     "output_type": "display_data"
    },
    {
     "data": {
      "text/markdown": [
       "## Legeme_"
      ],
      "text/plain": [
       "<IPython.core.display.Markdown object>"
      ]
     },
     "metadata": {},
     "output_type": "display_data"
    },
    {
     "data": {
      "text/markdown": [
       "### 1.05"
      ],
      "text/plain": [
       "<IPython.core.display.Markdown object>"
      ]
     },
     "metadata": {},
     "output_type": "display_data"
    },
    {
     "data": {
      "text/markdown": [
       "kropp, småbarnsskola, vårdar, hemmen, arbetat, godo, svetten, Livet, vandringen, Flera, sysslorna, grönska, tackat, skälvde, sjuklighet, skada, lön, klarnar, oavvänt, fester, lågornas, räcker, dystrare, fond, igenkänna, förkovra, omringade, festen, himlens, besöken, Två, punsch, hemåt, kraftigt, gator, pryder, olympiska, helgdagsskolan, lärjungar, ungarna"
      ],
      "text/plain": [
       "<IPython.core.display.Markdown object>"
      ]
     },
     "metadata": {},
     "output_type": "display_data"
    },
    {
     "data": {
      "text/markdown": [
       "<br>"
      ],
      "text/plain": [
       "<IPython.core.display.Markdown object>"
      ]
     },
     "metadata": {},
     "output_type": "display_data"
    },
    {
     "data": {
      "text/markdown": [
       "### 1.2"
      ],
      "text/plain": [
       "<IPython.core.display.Markdown object>"
      ]
     },
     "metadata": {},
     "output_type": "display_data"
    },
    {
     "data": {
      "text/markdown": [
       "kropp, småbarnsskola, vårdar, hemmen, arbetat, skada, lågornas, klarnar, festen, fester, bilda, undervisning, ungarna, stirrade, besöken, oavvänt, igenkänna, lön, gator, sjuklighet, fond, omringade, Flera, olympiska, skälvde, godo, vandringen, kraftigt, tackat, helgdagsskolan, Svenska, dystrare, hemåt, inse, räcker, Två, förkovra, himlens, grönska, punsch"
      ],
      "text/plain": [
       "<IPython.core.display.Markdown object>"
      ]
     },
     "metadata": {},
     "output_type": "display_data"
    },
    {
     "data": {
      "text/markdown": [
       "<br>"
      ],
      "text/plain": [
       "<IPython.core.display.Markdown object>"
      ]
     },
     "metadata": {},
     "output_type": "display_data"
    },
    {
     "data": {
      "text/markdown": [
       "### 1.5"
      ],
      "text/plain": [
       "<IPython.core.display.Markdown object>"
      ]
     },
     "metadata": {},
     "output_type": "display_data"
    },
    {
     "data": {
      "text/markdown": [
       "kropp, småbarnsskola, hemmen, vårdar, arbetat, däremot, gudinnor, Hela, aning, fester, grönska, fond, sjuklighet, räcker, Livet, Flera, stirrade, festen, sysslorna, svetten, godo, tackat, fattiga, gator, dystrare, skälvde, helgdagsskolan, ungarna, inse, behöva, oavvänt, igenkänna, klarnar, olympiska, omringade, besöken, undervisning, skada, bilda, kraftigt"
      ],
      "text/plain": [
       "<IPython.core.display.Markdown object>"
      ]
     },
     "metadata": {},
     "output_type": "display_data"
    },
    {
     "data": {
      "text/markdown": [
       "<br>"
      ],
      "text/plain": [
       "<IPython.core.display.Markdown object>"
      ]
     },
     "metadata": {},
     "output_type": "display_data"
    },
    {
     "data": {
      "text/markdown": [
       "## Læserinde_"
      ],
      "text/plain": [
       "<IPython.core.display.Markdown object>"
      ]
     },
     "metadata": {},
     "output_type": "display_data"
    },
    {
     "data": {
      "text/markdown": [
       "### 1.05"
      ],
      "text/plain": [
       "<IPython.core.display.Markdown object>"
      ]
     },
     "metadata": {},
     "output_type": "display_data"
    },
    {
     "data": {
      "text/markdown": [],
      "text/plain": [
       "<IPython.core.display.Markdown object>"
      ]
     },
     "metadata": {},
     "output_type": "display_data"
    },
    {
     "data": {
      "text/markdown": [
       "<br>"
      ],
      "text/plain": [
       "<IPython.core.display.Markdown object>"
      ]
     },
     "metadata": {},
     "output_type": "display_data"
    },
    {
     "data": {
      "text/markdown": [
       "### 1.2"
      ],
      "text/plain": [
       "<IPython.core.display.Markdown object>"
      ]
     },
     "metadata": {},
     "output_type": "display_data"
    },
    {
     "data": {
      "text/markdown": [],
      "text/plain": [
       "<IPython.core.display.Markdown object>"
      ]
     },
     "metadata": {},
     "output_type": "display_data"
    },
    {
     "data": {
      "text/markdown": [
       "<br>"
      ],
      "text/plain": [
       "<IPython.core.display.Markdown object>"
      ]
     },
     "metadata": {},
     "output_type": "display_data"
    },
    {
     "data": {
      "text/markdown": [
       "### 1.5"
      ],
      "text/plain": [
       "<IPython.core.display.Markdown object>"
      ]
     },
     "metadata": {},
     "output_type": "display_data"
    },
    {
     "data": {
      "text/markdown": [],
      "text/plain": [
       "<IPython.core.display.Markdown object>"
      ]
     },
     "metadata": {},
     "output_type": "display_data"
    },
    {
     "data": {
      "text/markdown": [
       "<br>"
      ],
      "text/plain": [
       "<IPython.core.display.Markdown object>"
      ]
     },
     "metadata": {},
     "output_type": "display_data"
    },
    {
     "data": {
      "text/markdown": [
       "## Litteratur_"
      ],
      "text/plain": [
       "<IPython.core.display.Markdown object>"
      ]
     },
     "metadata": {},
     "output_type": "display_data"
    },
    {
     "data": {
      "text/markdown": [
       "### 1.05"
      ],
      "text/plain": [
       "<IPython.core.display.Markdown object>"
      ]
     },
     "metadata": {},
     "output_type": "display_data"
    },
    {
     "data": {
      "text/markdown": [
       "tillbringat, Djupt, praktiska, missnöjd, kvinnligt, pjunk, känsliga, bords, bestod, idéer, prydnad, röt, arbeten, förvandlas, uppgjort, viset, förbannat, vårdande, ytterst, ungdoms, dumheter, tavlor, planer, gråtit, fan, tillsammans, läsa, historien, vittnade, rök, förstugan, Hör, vänster, olycklig, rörande, stodo, drömmar, sucka, tvenne, ägde"
      ],
      "text/plain": [
       "<IPython.core.display.Markdown object>"
      ]
     },
     "metadata": {},
     "output_type": "display_data"
    },
    {
     "data": {
      "text/markdown": [
       "<br>"
      ],
      "text/plain": [
       "<IPython.core.display.Markdown object>"
      ]
     },
     "metadata": {},
     "output_type": "display_data"
    },
    {
     "data": {
      "text/markdown": [
       "### 1.2"
      ],
      "text/plain": [
       "<IPython.core.display.Markdown object>"
      ]
     },
     "metadata": {},
     "output_type": "display_data"
    },
    {
     "data": {
      "text/markdown": [
       "tillbringat, missnöjd, känsliga, Djupt, bestod, bords, praktiska, pjunk, kvinnligt, prydnad, röt, uppgjort, ungdoms, arbeten, viset, dumheter, ytterst, vårdande, idéer, förbannat, förvandlas, gråtit, tavlor, planer, tillsammans, fan, läsa, historien, rök, vittnade, Hör, förstugan, olycklig, vänster, rörande, stodo, tvenne, drömmar, sucka, Till"
      ],
      "text/plain": [
       "<IPython.core.display.Markdown object>"
      ]
     },
     "metadata": {},
     "output_type": "display_data"
    },
    {
     "data": {
      "text/markdown": [
       "<br>"
      ],
      "text/plain": [
       "<IPython.core.display.Markdown object>"
      ]
     },
     "metadata": {},
     "output_type": "display_data"
    },
    {
     "data": {
      "text/markdown": [
       "### 1.5"
      ],
      "text/plain": [
       "<IPython.core.display.Markdown object>"
      ]
     },
     "metadata": {},
     "output_type": "display_data"
    },
    {
     "data": {
      "text/markdown": [
       "tillbringat, känsliga, pjunk, Djupt, kvinnligt, bestod, missnöjd, bords, praktiska, tillsammans, förbannat, röt, ungdoms, idéer, viset, ytterst, dumheter, vårdande, prydnad, förvandlas, uppgjort, arbeten, läsa, tavlor, planer, gråtit, fan, rök, historien, vittnade, tvenne, olycklig, Hör, vänster, förstugan, rörande, stodo, drömmar, sucka, Till"
      ],
      "text/plain": [
       "<IPython.core.display.Markdown object>"
      ]
     },
     "metadata": {},
     "output_type": "display_data"
    },
    {
     "data": {
      "text/markdown": [
       "<br>"
      ],
      "text/plain": [
       "<IPython.core.display.Markdown object>"
      ]
     },
     "metadata": {},
     "output_type": "display_data"
    },
    {
     "data": {
      "text/markdown": [
       "## Religion_"
      ],
      "text/plain": [
       "<IPython.core.display.Markdown object>"
      ]
     },
     "metadata": {},
     "output_type": "display_data"
    },
    {
     "data": {
      "text/markdown": [
       "### 1.05"
      ],
      "text/plain": [
       "<IPython.core.display.Markdown object>"
      ]
     },
     "metadata": {},
     "output_type": "display_data"
    },
    {
     "data": {
      "text/markdown": [
       "kristen, hjältinna, hållning, enkla, välvilligt, företrädesrätt, evangelium, begåvade, intrycket, dräkt, sammanhang, plötsligen, väckt, värdiga, gladare, själs, vågade, rikt, leda, riktning, bekänner, varje, rör, samvetets, intryck, bröt, ställning, tvivel, väcka, skymning, klappande, tystnad, sanna, medvetande, plats, strålar, tanke, världens, öga, '"
      ],
      "text/plain": [
       "<IPython.core.display.Markdown object>"
      ]
     },
     "metadata": {},
     "output_type": "display_data"
    },
    {
     "data": {
      "text/markdown": [
       "<br>"
      ],
      "text/plain": [
       "<IPython.core.display.Markdown object>"
      ]
     },
     "metadata": {},
     "output_type": "display_data"
    },
    {
     "data": {
      "text/markdown": [
       "### 1.2"
      ],
      "text/plain": [
       "<IPython.core.display.Markdown object>"
      ]
     },
     "metadata": {},
     "output_type": "display_data"
    },
    {
     "data": {
      "text/markdown": [
       "kristen, hjältinna, hållning, enkla, välvilligt, företrädesrätt, evangelium, begåvade, intrycket, dräkt, sammanhang, plötsligen, väckt, värdiga, gladare, själs, vågade, rikt, leda, varje, riktning, bekänner, intryck, rör, samvetets, bröt, ställning, tvivel, väcka, skymning, klappande, tystnad, sanna, medvetande, plats, ', strålar, sett, världens, öga"
      ],
      "text/plain": [
       "<IPython.core.display.Markdown object>"
      ]
     },
     "metadata": {},
     "output_type": "display_data"
    },
    {
     "data": {
      "text/markdown": [
       "<br>"
      ],
      "text/plain": [
       "<IPython.core.display.Markdown object>"
      ]
     },
     "metadata": {},
     "output_type": "display_data"
    },
    {
     "data": {
      "text/markdown": [
       "### 1.5"
      ],
      "text/plain": [
       "<IPython.core.display.Markdown object>"
      ]
     },
     "metadata": {},
     "output_type": "display_data"
    },
    {
     "data": {
      "text/markdown": [
       "kristen, hjältinna, hållning, enkla, begåvade, evangelium, välvilligt, företrädesrätt, intrycket, dräkt, sammanhang, själs, väckt, plötsligen, gladare, värdiga, varje, rikt, vågade, leda, intryck, riktning, bekänner, ', rör, samvetets, sett, bröt, ställning, tvivel, skymning, väcka, klappande, plats, tystnad, medvetande, sanna, strålar, högsta, ädla"
      ],
      "text/plain": [
       "<IPython.core.display.Markdown object>"
      ]
     },
     "metadata": {},
     "output_type": "display_data"
    },
    {
     "data": {
      "text/markdown": [
       "<br>"
      ],
      "text/plain": [
       "<IPython.core.display.Markdown object>"
      ]
     },
     "metadata": {},
     "output_type": "display_data"
    },
    {
     "data": {
      "text/markdown": [
       "## Kvindeforening_"
      ],
      "text/plain": [
       "<IPython.core.display.Markdown object>"
      ]
     },
     "metadata": {},
     "output_type": "display_data"
    },
    {
     "data": {
      "text/markdown": [
       "### 1.05"
      ],
      "text/plain": [
       "<IPython.core.display.Markdown object>"
      ]
     },
     "metadata": {},
     "output_type": "display_data"
    },
    {
     "data": {
      "text/markdown": [],
      "text/plain": [
       "<IPython.core.display.Markdown object>"
      ]
     },
     "metadata": {},
     "output_type": "display_data"
    },
    {
     "data": {
      "text/markdown": [
       "<br>"
      ],
      "text/plain": [
       "<IPython.core.display.Markdown object>"
      ]
     },
     "metadata": {},
     "output_type": "display_data"
    },
    {
     "data": {
      "text/markdown": [
       "### 1.2"
      ],
      "text/plain": [
       "<IPython.core.display.Markdown object>"
      ]
     },
     "metadata": {},
     "output_type": "display_data"
    },
    {
     "data": {
      "text/markdown": [],
      "text/plain": [
       "<IPython.core.display.Markdown object>"
      ]
     },
     "metadata": {},
     "output_type": "display_data"
    },
    {
     "data": {
      "text/markdown": [
       "<br>"
      ],
      "text/plain": [
       "<IPython.core.display.Markdown object>"
      ]
     },
     "metadata": {},
     "output_type": "display_data"
    },
    {
     "data": {
      "text/markdown": [
       "### 1.5"
      ],
      "text/plain": [
       "<IPython.core.display.Markdown object>"
      ]
     },
     "metadata": {},
     "output_type": "display_data"
    },
    {
     "data": {
      "text/markdown": [],
      "text/plain": [
       "<IPython.core.display.Markdown object>"
      ]
     },
     "metadata": {},
     "output_type": "display_data"
    },
    {
     "data": {
      "text/markdown": [
       "<br>"
      ],
      "text/plain": [
       "<IPython.core.display.Markdown object>"
      ]
     },
     "metadata": {},
     "output_type": "display_data"
    },
    {
     "data": {
      "text/markdown": [
       "## Forfatterinde_"
      ],
      "text/plain": [
       "<IPython.core.display.Markdown object>"
      ]
     },
     "metadata": {},
     "output_type": "display_data"
    },
    {
     "data": {
      "text/markdown": [
       "### 1.05"
      ],
      "text/plain": [
       "<IPython.core.display.Markdown object>"
      ]
     },
     "metadata": {},
     "output_type": "display_data"
    },
    {
     "data": {
      "text/markdown": [],
      "text/plain": [
       "<IPython.core.display.Markdown object>"
      ]
     },
     "metadata": {},
     "output_type": "display_data"
    },
    {
     "data": {
      "text/markdown": [
       "<br>"
      ],
      "text/plain": [
       "<IPython.core.display.Markdown object>"
      ]
     },
     "metadata": {},
     "output_type": "display_data"
    },
    {
     "data": {
      "text/markdown": [
       "### 1.2"
      ],
      "text/plain": [
       "<IPython.core.display.Markdown object>"
      ]
     },
     "metadata": {},
     "output_type": "display_data"
    },
    {
     "data": {
      "text/markdown": [],
      "text/plain": [
       "<IPython.core.display.Markdown object>"
      ]
     },
     "metadata": {},
     "output_type": "display_data"
    },
    {
     "data": {
      "text/markdown": [
       "<br>"
      ],
      "text/plain": [
       "<IPython.core.display.Markdown object>"
      ]
     },
     "metadata": {},
     "output_type": "display_data"
    },
    {
     "data": {
      "text/markdown": [
       "### 1.5"
      ],
      "text/plain": [
       "<IPython.core.display.Markdown object>"
      ]
     },
     "metadata": {},
     "output_type": "display_data"
    },
    {
     "data": {
      "text/markdown": [],
      "text/plain": [
       "<IPython.core.display.Markdown object>"
      ]
     },
     "metadata": {},
     "output_type": "display_data"
    },
    {
     "data": {
      "text/markdown": [
       "<br>"
      ],
      "text/plain": [
       "<IPython.core.display.Markdown object>"
      ]
     },
     "metadata": {},
     "output_type": "display_data"
    },
    {
     "data": {
      "text/markdown": [
       "## Myndighed_"
      ],
      "text/plain": [
       "<IPython.core.display.Markdown object>"
      ]
     },
     "metadata": {},
     "output_type": "display_data"
    },
    {
     "data": {
      "text/markdown": [
       "### 1.05"
      ],
      "text/plain": [
       "<IPython.core.display.Markdown object>"
      ]
     },
     "metadata": {},
     "output_type": "display_data"
    },
    {
     "data": {
      "text/markdown": [
       "arvet, tjugusju, mild, önskar, gammal, fast, Min, fader, moder, frihet, röst, år, efter, bli, min, Jag, sade, men, Hertha, -, \", är, med, jag, ., att, ,, och, ringar, ro, ringaste, ringa, riktning, roa, !, roade, rodnad, rodnade, roligt, rop"
      ],
      "text/plain": [
       "<IPython.core.display.Markdown object>"
      ]
     },
     "metadata": {},
     "output_type": "display_data"
    },
    {
     "data": {
      "text/markdown": [
       "<br>"
      ],
      "text/plain": [
       "<IPython.core.display.Markdown object>"
      ]
     },
     "metadata": {},
     "output_type": "display_data"
    },
    {
     "data": {
      "text/markdown": [
       "### 1.2"
      ],
      "text/plain": [
       "<IPython.core.display.Markdown object>"
      ]
     },
     "metadata": {},
     "output_type": "display_data"
    },
    {
     "data": {
      "text/markdown": [
       "arvet, tjugusju, mild, önskar, gammal, fast, Min, fader, moder, frihet, röst, år, efter, bli, min, Jag, sade, men, -, Hertha, \", är, med, jag, ,, ., att, och, ringar, ro, ringaste, ringa, riktning, roa, !, roade, rodnad, rodnade, roligt, rop"
      ],
      "text/plain": [
       "<IPython.core.display.Markdown object>"
      ]
     },
     "metadata": {},
     "output_type": "display_data"
    },
    {
     "data": {
      "text/markdown": [
       "<br>"
      ],
      "text/plain": [
       "<IPython.core.display.Markdown object>"
      ]
     },
     "metadata": {},
     "output_type": "display_data"
    },
    {
     "data": {
      "text/markdown": [
       "### 1.5"
      ],
      "text/plain": [
       "<IPython.core.display.Markdown object>"
      ]
     },
     "metadata": {},
     "output_type": "display_data"
    },
    {
     "data": {
      "text/markdown": [
       "arvet, tjugusju, mild, önskar, gammal, fast, Min, fader, moder, frihet, röst, år, efter, bli, min, Jag, sade, \", -, men, Hertha, är, ,, med, jag, ., att, och, ringar, ro, ringaste, ringa, riktning, roa, !, roade, rodnad, rodnade, roligt, rop"
      ],
      "text/plain": [
       "<IPython.core.display.Markdown object>"
      ]
     },
     "metadata": {},
     "output_type": "display_data"
    },
    {
     "data": {
      "text/markdown": [
       "<br>"
      ],
      "text/plain": [
       "<IPython.core.display.Markdown object>"
      ]
     },
     "metadata": {},
     "output_type": "display_data"
    },
    {
     "data": {
      "text/markdown": [
       "## Yrkesaktiv_"
      ],
      "text/plain": [
       "<IPython.core.display.Markdown object>"
      ]
     },
     "metadata": {},
     "output_type": "display_data"
    },
    {
     "data": {
      "text/markdown": [
       "### 1.05"
      ],
      "text/plain": [
       "<IPython.core.display.Markdown object>"
      ]
     },
     "metadata": {},
     "output_type": "display_data"
    },
    {
     "data": {
      "text/markdown": [],
      "text/plain": [
       "<IPython.core.display.Markdown object>"
      ]
     },
     "metadata": {},
     "output_type": "display_data"
    },
    {
     "data": {
      "text/markdown": [
       "<br>"
      ],
      "text/plain": [
       "<IPython.core.display.Markdown object>"
      ]
     },
     "metadata": {},
     "output_type": "display_data"
    },
    {
     "data": {
      "text/markdown": [
       "### 1.2"
      ],
      "text/plain": [
       "<IPython.core.display.Markdown object>"
      ]
     },
     "metadata": {},
     "output_type": "display_data"
    },
    {
     "data": {
      "text/markdown": [],
      "text/plain": [
       "<IPython.core.display.Markdown object>"
      ]
     },
     "metadata": {},
     "output_type": "display_data"
    },
    {
     "data": {
      "text/markdown": [
       "<br>"
      ],
      "text/plain": [
       "<IPython.core.display.Markdown object>"
      ]
     },
     "metadata": {},
     "output_type": "display_data"
    },
    {
     "data": {
      "text/markdown": [
       "### 1.5"
      ],
      "text/plain": [
       "<IPython.core.display.Markdown object>"
      ]
     },
     "metadata": {},
     "output_type": "display_data"
    },
    {
     "data": {
      "text/markdown": [],
      "text/plain": [
       "<IPython.core.display.Markdown object>"
      ]
     },
     "metadata": {},
     "output_type": "display_data"
    },
    {
     "data": {
      "text/markdown": [
       "<br>"
      ],
      "text/plain": [
       "<IPython.core.display.Markdown object>"
      ]
     },
     "metadata": {},
     "output_type": "display_data"
    },
    {
     "data": {
      "text/markdown": [
       "## Sivil status_"
      ],
      "text/plain": [
       "<IPython.core.display.Markdown object>"
      ]
     },
     "metadata": {},
     "output_type": "display_data"
    },
    {
     "data": {
      "text/markdown": [
       "### 1.05"
      ],
      "text/plain": [
       "<IPython.core.display.Markdown object>"
      ]
     },
     "metadata": {},
     "output_type": "display_data"
    },
    {
     "data": {
      "text/markdown": [
       "gift, hustru, rensa, förstukvisten, förmögna, småbarnsskola, förmögen, sjåp, värdighet, nystfot, olympiska, Flera, paret, beskedlig, fruntimmersförening, fjärdingen, kungsköpingsborna, upptagna, fixa, fäster, idéer, vården, Stora, bjöd, fattigas, förena, börjat, varjehanda, herrskap, anseende, redig, gränder, ungarna, rakt, undervisning, händelsen, bilda, sades, bjuda, råkat"
      ],
      "text/plain": [
       "<IPython.core.display.Markdown object>"
      ]
     },
     "metadata": {},
     "output_type": "display_data"
    },
    {
     "data": {
      "text/markdown": [
       "<br>"
      ],
      "text/plain": [
       "<IPython.core.display.Markdown object>"
      ]
     },
     "metadata": {},
     "output_type": "display_data"
    },
    {
     "data": {
      "text/markdown": [
       "### 1.2"
      ],
      "text/plain": [
       "<IPython.core.display.Markdown object>"
      ]
     },
     "metadata": {},
     "output_type": "display_data"
    },
    {
     "data": {
      "text/markdown": [
       "gift, hustru, rensa, förstukvisten, nystfot, förmögen, förmögna, olympiska, sjåp, värdighet, småbarnsskola, paret, Flera, beskedlig, fjärdingen, fruntimmersförening, kungsköpingsborna, fäster, upptagna, idéer, fixa, Stora, vården, bjöd, fattigas, förena, herrskap, varjehanda, börjat, anseende, Hjärtat, lyckan, livstid, hjärtans, kroppens, kretsar, tänk, utvecklas, kraftigt, kopp"
      ],
      "text/plain": [
       "<IPython.core.display.Markdown object>"
      ]
     },
     "metadata": {},
     "output_type": "display_data"
    },
    {
     "data": {
      "text/markdown": [
       "<br>"
      ],
      "text/plain": [
       "<IPython.core.display.Markdown object>"
      ]
     },
     "metadata": {},
     "output_type": "display_data"
    },
    {
     "data": {
      "text/markdown": [
       "### 1.5"
      ],
      "text/plain": [
       "<IPython.core.display.Markdown object>"
      ]
     },
     "metadata": {},
     "output_type": "display_data"
    },
    {
     "data": {
      "text/markdown": [
       "gift, hustru, rensa, förstukvisten, fjärdingen, småbarnsskola, sjåp, nystfot, förmögen, olympiska, förmögna, värdighet, kungsköpingsborna, fruntimmersförening, Stora, fäster, upptagna, idéer, fixa, beskedlig, paret, Flera, herrskap, förena, fattigas, bjöd, vården, varjehanda, B., anseende, fattiga, Nellas, elände, fruntimmersföreningar, börjat, N., Duva, gudinnor, därinom, suckande"
      ],
      "text/plain": [
       "<IPython.core.display.Markdown object>"
      ]
     },
     "metadata": {},
     "output_type": "display_data"
    },
    {
     "data": {
      "text/markdown": [
       "<br>"
      ],
      "text/plain": [
       "<IPython.core.display.Markdown object>"
      ]
     },
     "metadata": {},
     "output_type": "display_data"
    },
    {
     "data": {
      "text/markdown": [
       "## Ligestilling_"
      ],
      "text/plain": [
       "<IPython.core.display.Markdown object>"
      ]
     },
     "metadata": {},
     "output_type": "display_data"
    },
    {
     "data": {
      "text/markdown": [
       "### 1.05"
      ],
      "text/plain": [
       "<IPython.core.display.Markdown object>"
      ]
     },
     "metadata": {},
     "output_type": "display_data"
    },
    {
     "data": {
      "text/markdown": [
       "Glömde, åtta, fruntimmernas, pocka, hundrade, glömmer, precis, order, förbannade, åtagit, outsägligt, ytterligt, trassliga, glömde, porten, klockan, tåla, Skall, högaktning, moderna, smekningar, lag, misstankar, numera, återkomst, plikter, stöta, lydnad, gånger, oupphörligt, äldsta, halvhögt, före, läto, hör, fruktade, herre, glömma, sagt, stränga"
      ],
      "text/plain": [
       "<IPython.core.display.Markdown object>"
      ]
     },
     "metadata": {},
     "output_type": "display_data"
    },
    {
     "data": {
      "text/markdown": [
       "<br>"
      ],
      "text/plain": [
       "<IPython.core.display.Markdown object>"
      ]
     },
     "metadata": {},
     "output_type": "display_data"
    },
    {
     "data": {
      "text/markdown": [
       "### 1.2"
      ],
      "text/plain": [
       "<IPython.core.display.Markdown object>"
      ]
     },
     "metadata": {},
     "output_type": "display_data"
    },
    {
     "data": {
      "text/markdown": [
       "Glömde, åtta, fruntimmernas, hundrade, pocka, glömmer, precis, klockan, trassliga, förbannade, ytterligt, order, åtagit, outsägligt, glömde, porten, tåla, smekningar, Skall, högaktning, moderna, lag, misstankar, gånger, plikter, numera, stöta, återkomst, lydnad, halvhögt, oupphörligt, äldsta, hör, före, läto, herre, fruktade, sagt, glömma, Moster"
      ],
      "text/plain": [
       "<IPython.core.display.Markdown object>"
      ]
     },
     "metadata": {},
     "output_type": "display_data"
    },
    {
     "data": {
      "text/markdown": [
       "<br>"
      ],
      "text/plain": [
       "<IPython.core.display.Markdown object>"
      ]
     },
     "metadata": {},
     "output_type": "display_data"
    },
    {
     "data": {
      "text/markdown": [
       "### 1.5"
      ],
      "text/plain": [
       "<IPython.core.display.Markdown object>"
      ]
     },
     "metadata": {},
     "output_type": "display_data"
    },
    {
     "data": {
      "text/markdown": [
       "Glömde, åtta, glömmer, fruntimmernas, pocka, hundrade, precis, klockan, glömde, porten, tåla, åtagit, förbannade, trassliga, outsägligt, ytterligt, order, högaktning, smekningar, Skall, moderna, lag, gånger, misstankar, hör, lydnad, återkomst, plikter, numera, stöta, herre, halvhögt, oupphörligt, äldsta, sagt, läto, före, vill, fruktade, hus"
      ],
      "text/plain": [
       "<IPython.core.display.Markdown object>"
      ]
     },
     "metadata": {},
     "output_type": "display_data"
    },
    {
     "data": {
      "text/markdown": [
       "<br>"
      ],
      "text/plain": [
       "<IPython.core.display.Markdown object>"
      ]
     },
     "metadata": {},
     "output_type": "display_data"
    },
    {
     "data": {
      "text/markdown": [
       "## Folkeoplysning_"
      ],
      "text/plain": [
       "<IPython.core.display.Markdown object>"
      ]
     },
     "metadata": {},
     "output_type": "display_data"
    },
    {
     "data": {
      "text/markdown": [
       "### 1.05"
      ],
      "text/plain": [
       "<IPython.core.display.Markdown object>"
      ]
     },
     "metadata": {},
     "output_type": "display_data"
    },
    {
     "data": {
      "text/markdown": [
       "skolen, jordisk, gladde, döda, ormen, förvåning, levande, herrarna, sällhet, böjde, eviga, männen, däröver, kvinnorna, döden, inför, I, söka, säkert, giva, kvinnan, dö, kvinna, högt, rätt, arbete, hörde, djupt, likväl, frihet, systrar, Då, jorden, detta, sade, deras, :, över, dem, sig"
      ],
      "text/plain": [
       "<IPython.core.display.Markdown object>"
      ]
     },
     "metadata": {},
     "output_type": "display_data"
    },
    {
     "data": {
      "text/markdown": [
       "<br>"
      ],
      "text/plain": [
       "<IPython.core.display.Markdown object>"
      ]
     },
     "metadata": {},
     "output_type": "display_data"
    },
    {
     "data": {
      "text/markdown": [
       "### 1.2"
      ],
      "text/plain": [
       "<IPython.core.display.Markdown object>"
      ]
     },
     "metadata": {},
     "output_type": "display_data"
    },
    {
     "data": {
      "text/markdown": [
       "skolen, jordisk, gladde, döda, ormen, förvåning, levande, herrarna, sällhet, böjde, eviga, männen, däröver, kvinnorna, I, döden, inför, söka, säkert, giva, kvinnan, dö, kvinna, högt, rätt, arbete, hörde, djupt, likväl, frihet, systrar, Då, jorden, sade, detta, :, deras, över, sig, dem"
      ],
      "text/plain": [
       "<IPython.core.display.Markdown object>"
      ]
     },
     "metadata": {},
     "output_type": "display_data"
    },
    {
     "data": {
      "text/markdown": [
       "<br>"
      ],
      "text/plain": [
       "<IPython.core.display.Markdown object>"
      ]
     },
     "metadata": {},
     "output_type": "display_data"
    },
    {
     "data": {
      "text/markdown": [
       "### 1.5"
      ],
      "text/plain": [
       "<IPython.core.display.Markdown object>"
      ]
     },
     "metadata": {},
     "output_type": "display_data"
    },
    {
     "data": {
      "text/markdown": [
       "skolen, jordisk, gladde, döda, ormen, förvåning, levande, herrarna, I, sällhet, böjde, eviga, männen, däröver, kvinnorna, döden, inför, söka, säkert, giva, kvinnan, dö, rätt, kvinna, högt, arbete, hörde, djupt, likväl, frihet, systrar, Då, jorden, sade, :, detta, deras, över, sig, till"
      ],
      "text/plain": [
       "<IPython.core.display.Markdown object>"
      ]
     },
     "metadata": {},
     "output_type": "display_data"
    },
    {
     "data": {
      "text/markdown": [
       "<br>"
      ],
      "text/plain": [
       "<IPython.core.display.Markdown object>"
      ]
     },
     "metadata": {},
     "output_type": "display_data"
    },
    {
     "data": {
      "text/markdown": [
       "## Sundhed_"
      ],
      "text/plain": [
       "<IPython.core.display.Markdown object>"
      ]
     },
     "metadata": {},
     "output_type": "display_data"
    },
    {
     "data": {
      "text/markdown": [
       "### 1.05"
      ],
      "text/plain": [
       "<IPython.core.display.Markdown object>"
      ]
     },
     "metadata": {},
     "output_type": "display_data"
    },
    {
     "data": {
      "text/markdown": [
       "stelt, barnslig, kyssa, döttrarna, tung, skicka, middag, brukade, vördnad, upprepade, Direktören, Anna, böjde, räckte, God, faderns, afton, därom, handen, morgon, huvudet, natt, hus, gamla, blivit, ty, år, några, blev, gick, in, hand, hjärta, denna, åter, blott, sedan, detta, henne, såg"
      ],
      "text/plain": [
       "<IPython.core.display.Markdown object>"
      ]
     },
     "metadata": {},
     "output_type": "display_data"
    },
    {
     "data": {
      "text/markdown": [
       "<br>"
      ],
      "text/plain": [
       "<IPython.core.display.Markdown object>"
      ]
     },
     "metadata": {},
     "output_type": "display_data"
    },
    {
     "data": {
      "text/markdown": [
       "### 1.2"
      ],
      "text/plain": [
       "<IPython.core.display.Markdown object>"
      ]
     },
     "metadata": {},
     "output_type": "display_data"
    },
    {
     "data": {
      "text/markdown": [
       "stelt, tung, barnslig, kyssa, döttrarna, skicka, middag, brukade, vördnad, Direktören, upprepade, Anna, böjde, räckte, God, faderns, afton, därom, handen, morgon, huvudet, natt, hus, gamla, ty, blivit, år, några, blev, gick, in, denna, hand, hjärta, åter, blott, henne, sedan, detta, såg"
      ],
      "text/plain": [
       "<IPython.core.display.Markdown object>"
      ]
     },
     "metadata": {},
     "output_type": "display_data"
    },
    {
     "data": {
      "text/markdown": [
       "<br>"
      ],
      "text/plain": [
       "<IPython.core.display.Markdown object>"
      ]
     },
     "metadata": {},
     "output_type": "display_data"
    },
    {
     "data": {
      "text/markdown": [
       "### 1.5"
      ],
      "text/plain": [
       "<IPython.core.display.Markdown object>"
      ]
     },
     "metadata": {},
     "output_type": "display_data"
    },
    {
     "data": {
      "text/markdown": [
       "stelt, skicka, döttrarna, barnslig, kyssa, tung, middag, brukade, vördnad, upprepade, Direktören, böjde, Anna, räckte, God, faderns, afton, därom, morgon, handen, huvudet, natt, hus, ty, gamla, blivit, några, år, denna, blev, gick, in, henne, hand, hjärta, åter, blott, :, sedan, detta"
      ],
      "text/plain": [
       "<IPython.core.display.Markdown object>"
      ]
     },
     "metadata": {},
     "output_type": "display_data"
    },
    {
     "data": {
      "text/markdown": [
       "<br>"
      ],
      "text/plain": [
       "<IPython.core.display.Markdown object>"
      ]
     },
     "metadata": {},
     "output_type": "display_data"
    },
    {
     "data": {
      "text/markdown": [
       "## Befolkningsprosesser_"
      ],
      "text/plain": [
       "<IPython.core.display.Markdown object>"
      ]
     },
     "metadata": {},
     "output_type": "display_data"
    },
    {
     "data": {
      "text/markdown": [
       "### 1.05"
      ],
      "text/plain": [
       "<IPython.core.display.Markdown object>"
      ]
     },
     "metadata": {},
     "output_type": "display_data"
    },
    {
     "data": {
      "text/markdown": [
       "befolkning, rensa, gränder, fjärdingen, Stora, herrskap, samlat, tröttnade, förmögna, svetten, talaren, värdighet, livstid, gator, ting, samkväm, angår, stolar, handräckning, olympiska, strumpor, förmiddagen, villervalla, elände, däråt, flygande, värma, gammalt, farlig, nedåt, bodde, ordspråk, brunno, kristliga, skaffa, sopfjärdingen, halva, förena, prästen, torget"
      ],
      "text/plain": [
       "<IPython.core.display.Markdown object>"
      ]
     },
     "metadata": {},
     "output_type": "display_data"
    },
    {
     "data": {
      "text/markdown": [
       "<br>"
      ],
      "text/plain": [
       "<IPython.core.display.Markdown object>"
      ]
     },
     "metadata": {},
     "output_type": "display_data"
    },
    {
     "data": {
      "text/markdown": [
       "### 1.2"
      ],
      "text/plain": [
       "<IPython.core.display.Markdown object>"
      ]
     },
     "metadata": {},
     "output_type": "display_data"
    },
    {
     "data": {
      "text/markdown": [
       "befolkning, rensa, gränder, fjärdingen, Stora, herrskap, angår, värdighet, talaren, svetten, olympiska, förmögna, livstid, stolar, samkväm, samlat, tröttnade, handräckning, villervalla, ting, strumpor, förmiddagen, gator, elände, nedåt, värma, bodde, däråt, farlig, gammalt, flygande, sopfjärdingen, brunno, ordspråk, kristliga, prästen, torget, halva, förena, skaffa"
      ],
      "text/plain": [
       "<IPython.core.display.Markdown object>"
      ]
     },
     "metadata": {},
     "output_type": "display_data"
    },
    {
     "data": {
      "text/markdown": [
       "<br>"
      ],
      "text/plain": [
       "<IPython.core.display.Markdown object>"
      ]
     },
     "metadata": {},
     "output_type": "display_data"
    },
    {
     "data": {
      "text/markdown": [
       "### 1.5"
      ],
      "text/plain": [
       "<IPython.core.display.Markdown object>"
      ]
     },
     "metadata": {},
     "output_type": "display_data"
    },
    {
     "data": {
      "text/markdown": [
       "befolkning, rensa, fjärdingen, gränder, Stora, herrskap, elände, samkväm, värdighet, förmögna, strumpor, svetten, talaren, angår, tröttnade, samlat, stolar, livstid, ting, handräckning, förmiddagen, gator, villervalla, olympiska, däråt, värma, flygande, farlig, gammalt, nedåt, bodde, stadens, Många, kristliga, fruntimmersförening, brunno, sopfjärdingen, förena, halva, börjat"
      ],
      "text/plain": [
       "<IPython.core.display.Markdown object>"
      ]
     },
     "metadata": {},
     "output_type": "display_data"
    },
    {
     "data": {
      "text/markdown": [
       "<br>"
      ],
      "text/plain": [
       "<IPython.core.display.Markdown object>"
      ]
     },
     "metadata": {},
     "output_type": "display_data"
    }
   ],
   "source": [
    "for w in themes:\n",
    "    display(Markdown(\"## \"+ w))\n",
    "    displaycoll(themes[w], n=40, freqlim=2)"
   ]
  },
  {
   "cell_type": "code",
   "execution_count": null,
   "metadata": {},
   "outputs": [],
   "source": []
  }
 ],
 "metadata": {
  "kernelspec": {
   "display_name": "Python 3",
   "language": "python",
   "name": "python3"
  },
  "language_info": {
   "codemirror_mode": {
    "name": "ipython",
    "version": 3
   },
   "file_extension": ".py",
   "mimetype": "text/x-python",
   "name": "python",
   "nbconvert_exporter": "python",
   "pygments_lexer": "ipython3",
   "version": "3.7.3"
  }
 },
 "nbformat": 4,
 "nbformat_minor": 2
}
