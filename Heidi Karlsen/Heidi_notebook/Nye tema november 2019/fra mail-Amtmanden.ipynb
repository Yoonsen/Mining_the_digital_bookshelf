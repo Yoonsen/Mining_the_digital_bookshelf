{
 "cells": [
  {
   "cell_type": "markdown",
   "metadata": {},
   "source": [
    "\n",
    "Vedlegg tilgjengelige fram til 26. nov. 2019\n",
    " \n",
    "Hei!\n",
    "\n",
    "Nå er jeg ikke så veldig langt unna med å ha ferdig analysen av de forrige resultatene jeg fikk. Det er ganske gøy å holde på med det. Men jeg jobber på spreng for å holde tidsskjemaet mitt :)  \n",
    "\n",
    "\n",
    "Dette betyr at jeg snart gjerne vil få hentet ut et siste sett med resultater. Som vi snakket om sist, da ønsker jeg å gjøre bruk av flere automatisk genererte temaer. Jeg satser på å sende deg nye temaer innen torsdag. Det vil bli mindre omfattende enn sist. \n",
    "\n",
    "\n",
    "\n",
    "Men kunne du i mellomtiden hjelpe meg litt med “dyp-topic-modellering” og legge inn flere måter å generere temaer på i notebøkene av de kvinnelige forfatterne mine? \n",
    "\n",
    "\n",
    "Hertha- notebooken er genial i så måte. Her har du lagt inn mange forskjellige parametere for tema-generering.   \n",
    "Klikk for å laste ned\n",
    "TM_Hertha.ipynb\n",
    "385 kB\n",
    "\n",
    "\n",
    "Kunne du sett litt nærmere på de andre notebookene også? Er det flere nyttige fremgangsmåter for automatisk tema-generering du kan legge til? \n",
    "\n",
    "Klikk for å laste ned\n",
    "TM_Til Sverriges Qvinder .ipynb\n",
    "13 kB\n",
    " \n",
    "Klikk for å laste ned\n",
    "denconstitutionelle.txt\n",
    "14 kB\n",
    " \n",
    "Klikk for å laste ned\n",
    "Amtmandens døtre .ipynb\n",
    "1,4 MB\n",
    " \n",
    "Klikk for å laste ned\n",
    "Indiana.ipynb\n",
    "3,1 MB\n",
    " \n",
    "Klikk for å laste ned\n",
    "sand-indiana.txt\n",
    "570 kB\n",
    "\n",
    "\n",
    "I Amtmandens Døtre-notebooken har vi brukt denne teksten  \n",
    "Klikk for å laste ned\n",
    "ad3.txt\n",
    "667 kB\n",
    " men det ville vært veldig fint om vi heller kunne brukt 1855-utgaven: \n",
    "https://www.nb.no/items/fbf5c6432c86426817fe167282f603ad?page=519&searchText=Amtmandens%20døttre\n",
    "\n",
    "\n",
    "Til slutt skulle jeg veldig gjerne laget meg et dokument av de tre artiklene til Aasta Hansteen også. For jeg vil gjerne også få generert automatiske temaer fra hennes tekster. Er det mulig å ta ut Dagbladet-utgavene og legge den inn i et txt-dokument? Jeg kan i tilfelle gå inn i det etterpå og fjerne all annen tekst fra de respektive avisene (slik jeg har gjort for “Til Sverriges Qvinder”) . Her er de tre Dagblad-utgavene det gjelder: \n",
    "\n",
    "Klikk for å laste ned\n",
    "Hansteen 12 August 1870.pdf\n",
    "19,9 MB\n",
    " \n",
    "Klikk for å laste ned\n",
    "Hansteen 06 August 1870.pdf\n",
    "21,4 MB\n",
    " \n",
    "Klikk for å laste ned\n",
    "Hansteen 13 July 1870.pdf\n",
    "20,6 MB\n"
   ]
  },
  {
   "cell_type": "code",
   "execution_count": 1,
   "metadata": {},
   "outputs": [],
   "source": [
    "import requests\n",
    "import os\n",
    "from IPython.display import HTML, Markdown, display\n",
    "from urllib.parse import urlparse, urljoin\n",
    "import ipywidgets as widgets\n",
    "\n",
    "def code_toggle(button_text = \"Klikk for å vise/skjule kodeceller\"):\n",
    "    from IPython.display import HTML, display\n",
    "\n",
    "    display(\n",
    "        HTML(\n",
    "        '''<div>\n",
    "                <style>\n",
    "                 .mybutton {\n",
    "                    background-color: lightgrey;\n",
    "                    border: none;\n",
    "                    color: white;\n",
    "                    padding: 10px 16px;\n",
    "                    text-align: center;\n",
    "                    text-decoration: none;\n",
    "                    display: inline-block;\n",
    "                    font-size: 16px;\n",
    "                    margin: 4px 2px;\n",
    "                    cursor: pointer;\n",
    "                }\n",
    "            </style>\n",
    "            <script>\n",
    "                code_show=true; \n",
    "                function code_toggle() {\n",
    "                 if (code_show){\n",
    "                 $('div.input').hide();\n",
    "                 } else {\n",
    "                 $('div.input').show();\n",
    "                 }\n",
    "                 code_show = !code_show\n",
    "                } \n",
    "                $( document ).ready(code_toggle);\n",
    "            </script>\n",
    "            <form  action=\"javascript:code_toggle()\">\n",
    "                <input class='mybutton' type=\"submit\" value=''' + '\"'  + button_text + '\"' + '''>\n",
    "            </form>\n",
    "        </div>'''\n",
    "        ))\n",
    "    \n",
    "def printmd(S):\n",
    "    display(Markdown(S))\n",
    "    return\n",
    "\n",
    "def update(module=\"\", overwrite=True, silent=False):\n",
    "    \"\"\"Fetch modules from Github and write them to folder\"\"\"\n",
    "    nba = requests.get(\n",
    "        \"https://raw.githubusercontent.com/Yoonsen/Modules/master/{module}.py\".format(module=module),\n",
    "        headers={'Cache-Control': 'no-cache'}\n",
    "        )\n",
    "    filename = '{m}.py'.format(m=module)\n",
    "    if nba.status_code == 200:\n",
    "        file_exists = os.path.exists(filename)\n",
    "        if file_exists and not(overwrite):\n",
    "            if not silent:\n",
    "                printmd(\"File {f} exists - call `update('{m}', overwrite = True)` in order to download module `{m}` anyway\".format(f = os.path.abspath(filename), m = module))\n",
    "        else:\n",
    "            nba = nba.text\n",
    "            with open(filename,'w', encoding='UTF-8') as pyfile:\n",
    "                pyfile.write(nba)\n",
    "                pyfile.flush()\n",
    "                pyfile.close()\n",
    "            if not silent:\n",
    "                printmd(\"Updated file `{module}.py`\".format(module= os.path.abspath(module)))\n",
    "    else:\n",
    "        printmd( \n",
    "            \"\"\"{intro} for {module} with error {code}\"\"\".format(\n",
    "                intro = \"An error occured during download\", \n",
    "                module = module, \n",
    "                code= nba.status_code\n",
    "            )\n",
    "        )\n",
    "    return\n",
    "\n"
   ]
  },
  {
   "cell_type": "code",
   "execution_count": 27,
   "metadata": {},
   "outputs": [],
   "source": [
    "import pandas as pd\n",
    "from dhlab.nbtokenizer import tokenize\n",
    "import dhlab.graph_networkx_louvain as gnl\n",
    "from IPython.display import HTML, Markdown, display\n",
    "from collections import Counter\n",
    "import networkx as nx\n",
    "import json"
   ]
  },
  {
   "cell_type": "code",
   "execution_count": 3,
   "metadata": {},
   "outputs": [
    {
     "data": {
      "text/plain": [
       "['hallo', 'der', 'borte', '.']"
      ]
     },
     "execution_count": 3,
     "metadata": {},
     "output_type": "execute_result"
    }
   ],
   "source": [
    "tokenize(\"hallo der borte.\")"
   ]
  },
  {
   "cell_type": "code",
   "execution_count": 4,
   "metadata": {},
   "outputs": [],
   "source": [
    "with open('ad3.txt', encoding='utf-8') as f:\n",
    "    amt = f.read()"
   ]
  },
  {
   "cell_type": "code",
   "execution_count": 5,
   "metadata": {},
   "outputs": [],
   "source": [
    "#temaene ble lagret med annen notebook - Heidis definisjoner_0_november\n",
    "with open('../Nye tema november 2019/heidis_temadefinisjoner_november.json') as f:\n",
    "    first = json.load(f)\n",
    "\n",
    "wordbags = dict()\n",
    "for f in first:\n",
    "    for wb in first[f]:\n",
    "        wordbags[wb] = first[f][wb]"
   ]
  },
  {
   "cell_type": "code",
   "execution_count": 6,
   "metadata": {},
   "outputs": [],
   "source": [
    "def paragraphs(textfile):\n",
    "    with open('ad3.txt', encoding='utf-8') as f:\n",
    "        text = f.read()\n",
    "    # return tokenizes paragraphs \n",
    "    return [tokenize(p) for p in text.split('\\n')]"
   ]
  },
  {
   "cell_type": "code",
   "execution_count": 7,
   "metadata": {},
   "outputs": [],
   "source": [
    "def paragraphs_hot(textfile, freqlim = 1):\n",
    "    # return tokenizes paragraphs \n",
    "    i = 0\n",
    "    struct = dict()\n",
    "    for p in paragraphs(textfile):\n",
    "        struct[i] = Counter(p)\n",
    "        i += 1\n",
    "    return pd.DataFrame(struct).fillna(0)\n",
    "        "
   ]
  },
  {
   "cell_type": "code",
   "execution_count": 8,
   "metadata": {},
   "outputs": [],
   "source": [
    "amth = paragraphs_hot('ad3.txt')"
   ]
  },
  {
   "cell_type": "code",
   "execution_count": 9,
   "metadata": {},
   "outputs": [],
   "source": [
    "freqs = amth.sum(axis=1).sort_values()"
   ]
  },
  {
   "cell_type": "code",
   "execution_count": 10,
   "metadata": {},
   "outputs": [],
   "source": [
    "def pcoll(word, paras):\n",
    "    \"\"\"paras as a numbered dictionary of paragraphs\"\"\"\n",
    "    hits = pd.DataFrame([paras[para] for para in paras if word in paras[para]])\n",
    "    return hits"
   ]
  },
  {
   "cell_type": "code",
   "execution_count": 11,
   "metadata": {},
   "outputs": [],
   "source": [
    "def coll(word, paras, exp=1.2):\n",
    "    if word in paras.index:\n",
    "        res = (amth[[i for i in amth if amth[i][word] > 0]].sum(axis=1)**exp/freqs).sort_values(ascending=False)\n",
    "    else:\n",
    "        res = pd.Series()\n",
    "    return res"
   ]
  },
  {
   "cell_type": "code",
   "execution_count": 12,
   "metadata": {},
   "outputs": [],
   "source": [
    "def collwb(wordbag, paras, exp=1.2, column=None):\n",
    "    res = pd.DataFrame()\n",
    "    for w in wordbag:\n",
    "        res[w] = coll(w, paras, exp)\n",
    "    result = pd.DataFrame()\n",
    "    if column == None:\n",
    "        colname = 'coll'\n",
    "    else:\n",
    "        colname = column\n",
    "    result[colname] = res.sum(axis=1)\n",
    "    return result.sort_values(by=colname, ascending=False)\n",
    "\n",
    "def combocoll(wordbag, paras, exps = None, freqs = None):\n",
    "    \n",
    "    if exps == None:\n",
    "        exps = [1.05, 1.2]\n",
    "    \n",
    "    rescoll = pd.concat([collwb(wordbag, amth, exp = a, column = a) for a in exps], axis=1, sort=True)\n",
    "    \n",
    "    # wise to compute the frequencies beforehand, it takes a second or so off the time\n",
    "    if freqs == None:\n",
    "        freqs = paras.sum(axis=1)\n",
    "    \n",
    "    rescoll['freq'] = freqs[rescoll.index]\n",
    "    \n",
    "    return rescoll"
   ]
  },
  {
   "cell_type": "code",
   "execution_count": 13,
   "metadata": {},
   "outputs": [],
   "source": [
    "def inspectcoll(collocation, freqlim = 0, colnum = None, colname = None):\n",
    "    if colname == None:\n",
    "        if colnum == None:\n",
    "            column = collocation.columns[0]\n",
    "        else:\n",
    "            column = collocation.columns[colnum]\n",
    "    else:\n",
    "        column = colname\n",
    "        \n",
    "    return collocation[collocation.freq > freqlim].sort_values(by=column, ascending=False)"
   ]
  },
  {
   "cell_type": "code",
   "execution_count": 14,
   "metadata": {},
   "outputs": [],
   "source": [
    "def displaycoll(collocation,n = 20, freqlim = 0):        \n",
    "    for column in collocation:\n",
    "        if column != 'freq':\n",
    "            display(Markdown('### ' + str(column)))\n",
    "            display(Markdown(', '.join(list(collocation[collocation.freq > freqlim].sort_values(by=column, ascending=False).index[:n]))))\n",
    "            display(Markdown('<br>'))"
   ]
  },
  {
   "cell_type": "code",
   "execution_count": 15,
   "metadata": {},
   "outputs": [
    {
     "data": {
      "text/plain": [
       "dict_keys(['Kvinde_', 'Sandhed_', 'Frihed_', 'Legeme_', 'Læserinde_', 'Litteratur_', 'Religion_', 'Kvindeforening_', 'Forfatterinde_', 'Myndighed_', 'Yrkesaktiv_', 'Sivil status_', 'Ligestilling_', 'Folkeoplysning_', 'Sundhed_', 'Befolkningsprosesser_'])"
      ]
     },
     "execution_count": 15,
     "metadata": {},
     "output_type": "execute_result"
    }
   ],
   "source": [
    "wordbags.keys()"
   ]
  },
  {
   "cell_type": "code",
   "execution_count": 16,
   "metadata": {},
   "outputs": [],
   "source": [
    "amtmand_tema = dict()\n",
    "for w in wordbags.keys():\n",
    "    amtmand_tema[w] = combocoll(wordbags[w], amth, exps = [1.05, 1.2, 1.5])\n"
   ]
  },
  {
   "cell_type": "code",
   "execution_count": 17,
   "metadata": {},
   "outputs": [
    {
     "data": {
      "text/markdown": [
       "## Kvinde_"
      ],
      "text/plain": [
       "<IPython.core.display.Markdown object>"
      ]
     },
     "metadata": {},
     "output_type": "display_data"
    },
    {
     "data": {
      "text/markdown": [
       "### 1.05"
      ],
      "text/plain": [
       "<IPython.core.display.Markdown object>"
      ]
     },
     "metadata": {},
     "output_type": "display_data"
    },
    {
     "data": {
      "text/markdown": [
       "Kvindelighedens, ydmygende, Vist, Kvindelighed, Kvinder, Kvindes, Kavallerer, Væsener, Ballet, Damer, brogede, Indkjørselen, Vækst, romantiske, Forsagelse, Damerne, Kvindens, kvindelig, Mor, Kvinde"
      ],
      "text/plain": [
       "<IPython.core.display.Markdown object>"
      ]
     },
     "metadata": {},
     "output_type": "display_data"
    },
    {
     "data": {
      "text/markdown": [
       "<br>"
      ],
      "text/plain": [
       "<IPython.core.display.Markdown object>"
      ]
     },
     "metadata": {},
     "output_type": "display_data"
    },
    {
     "data": {
      "text/markdown": [
       "### 1.2"
      ],
      "text/plain": [
       "<IPython.core.display.Markdown object>"
      ]
     },
     "metadata": {},
     "output_type": "display_data"
    },
    {
     "data": {
      "text/markdown": [
       "Mor, Damer, Moder, Damerne, Dame, Kvindelighedens, Kvindelighed, Kvinde, ydmygende, Vist, Hustru, Kvinder, Kvindens, kvindelig, Kone, kvindelige, Kvindes, Kavallerer, Væsener, Forsagelse"
      ],
      "text/plain": [
       "<IPython.core.display.Markdown object>"
      ]
     },
     "metadata": {},
     "output_type": "display_data"
    },
    {
     "data": {
      "text/markdown": [
       "<br>"
      ],
      "text/plain": [
       "<IPython.core.display.Markdown object>"
      ]
     },
     "metadata": {},
     "output_type": "display_data"
    },
    {
     "data": {
      "text/markdown": [
       "### 1.5"
      ],
      "text/plain": [
       "<IPython.core.display.Markdown object>"
      ]
     },
     "metadata": {},
     "output_type": "display_data"
    },
    {
     "data": {
      "text/markdown": [
       "Moder, Mor, Damer, Dame, ,, Damerne, Kvinde, Hustru, Kone, kvindelig, Kvindens, kvindelige, Kvindelighed, Kvinder, Kvindelighedens, Båden, og, Fruentimmer, ., at"
      ],
      "text/plain": [
       "<IPython.core.display.Markdown object>"
      ]
     },
     "metadata": {},
     "output_type": "display_data"
    },
    {
     "data": {
      "text/markdown": [
       "<br>"
      ],
      "text/plain": [
       "<IPython.core.display.Markdown object>"
      ]
     },
     "metadata": {},
     "output_type": "display_data"
    },
    {
     "data": {
      "text/markdown": [
       "## Sandhed_"
      ],
      "text/plain": [
       "<IPython.core.display.Markdown object>"
      ]
     },
     "metadata": {},
     "output_type": "display_data"
    },
    {
     "data": {
      "text/markdown": [
       "### 1.05"
      ],
      "text/plain": [
       "<IPython.core.display.Markdown object>"
      ]
     },
     "metadata": {},
     "output_type": "display_data"
    },
    {
     "data": {
      "text/markdown": [
       "Sandhed, Længsel, oplyste, Oplysning, Sandheden, Toppen, Alene, Virkninger, vaklede, udfoldet, la, Bal, Sti, tabte, føie, Våren, gjennemgå, Stine, Udholdenhed, Over"
      ],
      "text/plain": [
       "<IPython.core.display.Markdown object>"
      ]
     },
     "metadata": {},
     "output_type": "display_data"
    },
    {
     "data": {
      "text/markdown": [
       "<br>"
      ],
      "text/plain": [
       "<IPython.core.display.Markdown object>"
      ]
     },
     "metadata": {},
     "output_type": "display_data"
    },
    {
     "data": {
      "text/markdown": [
       "### 1.2"
      ],
      "text/plain": [
       "<IPython.core.display.Markdown object>"
      ]
     },
     "metadata": {},
     "output_type": "display_data"
    },
    {
     "data": {
      "text/markdown": [
       "Sandhed, Længsel, oplyste, Sandheden, Oplysning, Toppen, Alene, Bal, vaklede, la, udfoldet, Virkninger, føie, Våren, Stine, tabte, gjennemgå, Sti, Udholdenhed, mægtige"
      ],
      "text/plain": [
       "<IPython.core.display.Markdown object>"
      ]
     },
     "metadata": {},
     "output_type": "display_data"
    },
    {
     "data": {
      "text/markdown": [
       "<br>"
      ],
      "text/plain": [
       "<IPython.core.display.Markdown object>"
      ]
     },
     "metadata": {},
     "output_type": "display_data"
    },
    {
     "data": {
      "text/markdown": [
       "### 1.5"
      ],
      "text/plain": [
       "<IPython.core.display.Markdown object>"
      ]
     },
     "metadata": {},
     "output_type": "display_data"
    },
    {
     "data": {
      "text/markdown": [
       "Sandhed, Længsel, oplyste, Oplysning, Sandheden, Bal, Alene, Toppen, gjennemgå, Stine, Sti, føie, Våren, tabte, ventet, udfoldet, vaklede, la, Virkninger, kvindelige"
      ],
      "text/plain": [
       "<IPython.core.display.Markdown object>"
      ]
     },
     "metadata": {},
     "output_type": "display_data"
    },
    {
     "data": {
      "text/markdown": [
       "<br>"
      ],
      "text/plain": [
       "<IPython.core.display.Markdown object>"
      ]
     },
     "metadata": {},
     "output_type": "display_data"
    },
    {
     "data": {
      "text/markdown": [
       "## Frihed_"
      ],
      "text/plain": [
       "<IPython.core.display.Markdown object>"
      ]
     },
     "metadata": {},
     "output_type": "display_data"
    },
    {
     "data": {
      "text/markdown": [
       "### 1.05"
      ],
      "text/plain": [
       "<IPython.core.display.Markdown object>"
      ]
     },
     "metadata": {},
     "output_type": "display_data"
    },
    {
     "data": {
      "text/markdown": [
       "Villie, Indflydelse, Vilje, Frihed, lystige, Buret, Ånden, Umulige, Besvær, ler, Baggrund, Kort, Udholdenhed, Beslutning, Forsagelse, Hvile, stærkere, øvet, drive, fin"
      ],
      "text/plain": [
       "<IPython.core.display.Markdown object>"
      ]
     },
     "metadata": {},
     "output_type": "display_data"
    },
    {
     "data": {
      "text/markdown": [
       "<br>"
      ],
      "text/plain": [
       "<IPython.core.display.Markdown object>"
      ]
     },
     "metadata": {},
     "output_type": "display_data"
    },
    {
     "data": {
      "text/markdown": [
       "### 1.2"
      ],
      "text/plain": [
       "<IPython.core.display.Markdown object>"
      ]
     },
     "metadata": {},
     "output_type": "display_data"
    },
    {
     "data": {
      "text/markdown": [
       "Villie, Indflydelse, Vilje, Frihed, Ånden, Buret, lystige, ler, Baggrund, Umulige, Besvær, Beslutning, Udholdenhed, Kort, Forsagelse, Hvile, øvet, stærkere, fin, drive"
      ],
      "text/plain": [
       "<IPython.core.display.Markdown object>"
      ]
     },
     "metadata": {},
     "output_type": "display_data"
    },
    {
     "data": {
      "text/markdown": [
       "<br>"
      ],
      "text/plain": [
       "<IPython.core.display.Markdown object>"
      ]
     },
     "metadata": {},
     "output_type": "display_data"
    },
    {
     "data": {
      "text/markdown": [
       "### 1.5"
      ],
      "text/plain": [
       "<IPython.core.display.Markdown object>"
      ]
     },
     "metadata": {},
     "output_type": "display_data"
    },
    {
     "data": {
      "text/markdown": [
       "Villie, Indflydelse, Vilje, Frihed, lystige, Ånden, Buret, Beslutning, Besvær, ler, Baggrund, Umulige, Forsagelse, Hvile, stærkere, øvet, Udholdenhed, Kort, Smag, fatte"
      ],
      "text/plain": [
       "<IPython.core.display.Markdown object>"
      ]
     },
     "metadata": {},
     "output_type": "display_data"
    },
    {
     "data": {
      "text/markdown": [
       "<br>"
      ],
      "text/plain": [
       "<IPython.core.display.Markdown object>"
      ]
     },
     "metadata": {},
     "output_type": "display_data"
    },
    {
     "data": {
      "text/markdown": [
       "## Legeme_"
      ],
      "text/plain": [
       "<IPython.core.display.Markdown object>"
      ]
     },
     "metadata": {},
     "output_type": "display_data"
    },
    {
     "data": {
      "text/markdown": [
       "### 1.05"
      ],
      "text/plain": [
       "<IPython.core.display.Markdown object>"
      ]
     },
     "metadata": {},
     "output_type": "display_data"
    },
    {
     "data": {
      "text/markdown": [
       "Legeme, Følelse, Følelser, Kjøn, Følelsen, legemlig, Besvær, Hanne, inderligere, Instinkt, spørg, murede, jordiske, Naturer, beseire, såsandt, Umage, tilfældigvis, Barmhjertighed, Krav"
      ],
      "text/plain": [
       "<IPython.core.display.Markdown object>"
      ]
     },
     "metadata": {},
     "output_type": "display_data"
    },
    {
     "data": {
      "text/markdown": [
       "<br>"
      ],
      "text/plain": [
       "<IPython.core.display.Markdown object>"
      ]
     },
     "metadata": {},
     "output_type": "display_data"
    },
    {
     "data": {
      "text/markdown": [
       "### 1.2"
      ],
      "text/plain": [
       "<IPython.core.display.Markdown object>"
      ]
     },
     "metadata": {},
     "output_type": "display_data"
    },
    {
     "data": {
      "text/markdown": [
       "Følelse, Følelser, Legeme, Kjøn, Følelsen, legemlig, Besvær, Hanne, murede, spørg, inderligere, Instinkt, jordiske, Naturer, beseire, såsandt, uendelig, Øieblikke, bemærket, Barmhjertighed"
      ],
      "text/plain": [
       "<IPython.core.display.Markdown object>"
      ]
     },
     "metadata": {},
     "output_type": "display_data"
    },
    {
     "data": {
      "text/markdown": [
       "<br>"
      ],
      "text/plain": [
       "<IPython.core.display.Markdown object>"
      ]
     },
     "metadata": {},
     "output_type": "display_data"
    },
    {
     "data": {
      "text/markdown": [
       "### 1.5"
      ],
      "text/plain": [
       "<IPython.core.display.Markdown object>"
      ]
     },
     "metadata": {},
     "output_type": "display_data"
    },
    {
     "data": {
      "text/markdown": [
       "Følelse, Følelser, ,, Legeme, Kjøn, legemlig, Følelsen, ., at, Besvær, Hvorfor, uendelig, Hanne, den, en, og, bemærket, Øieblikke, beseire, såsandt"
      ],
      "text/plain": [
       "<IPython.core.display.Markdown object>"
      ]
     },
     "metadata": {},
     "output_type": "display_data"
    },
    {
     "data": {
      "text/markdown": [
       "<br>"
      ],
      "text/plain": [
       "<IPython.core.display.Markdown object>"
      ]
     },
     "metadata": {},
     "output_type": "display_data"
    },
    {
     "data": {
      "text/markdown": [
       "## Læserinde_"
      ],
      "text/plain": [
       "<IPython.core.display.Markdown object>"
      ]
     },
     "metadata": {},
     "output_type": "display_data"
    },
    {
     "data": {
      "text/markdown": [
       "### 1.05"
      ],
      "text/plain": [
       "<IPython.core.display.Markdown object>"
      ]
     },
     "metadata": {},
     "output_type": "display_data"
    },
    {
     "data": {
      "text/markdown": [
       "tyve, ærlige, dyrebareste, Eks, trække, Sort, slippe, Fanden, dyrebare, f, nytter, bryder, slå, største, Kjere, Altsammen, derfra, skikket, kaste, ende"
      ],
      "text/plain": [
       "<IPython.core.display.Markdown object>"
      ]
     },
     "metadata": {},
     "output_type": "display_data"
    },
    {
     "data": {
      "text/markdown": [
       "<br>"
      ],
      "text/plain": [
       "<IPython.core.display.Markdown object>"
      ]
     },
     "metadata": {},
     "output_type": "display_data"
    },
    {
     "data": {
      "text/markdown": [
       "### 1.2"
      ],
      "text/plain": [
       "<IPython.core.display.Markdown object>"
      ]
     },
     "metadata": {},
     "output_type": "display_data"
    },
    {
     "data": {
      "text/markdown": [
       "tyve, ærlige, Sort, slippe, Eks, dyrebareste, trække, Fanden, f, nytter, bryder, dyrebare, største, slå, derfra, Kjere, Altsammen, hvorfra, ende, kaste"
      ],
      "text/plain": [
       "<IPython.core.display.Markdown object>"
      ]
     },
     "metadata": {},
     "output_type": "display_data"
    },
    {
     "data": {
      "text/markdown": [
       "<br>"
      ],
      "text/plain": [
       "<IPython.core.display.Markdown object>"
      ]
     },
     "metadata": {},
     "output_type": "display_data"
    },
    {
     "data": {
      "text/markdown": [
       "### 1.5"
      ],
      "text/plain": [
       "<IPython.core.display.Markdown object>"
      ]
     },
     "metadata": {},
     "output_type": "display_data"
    },
    {
     "data": {
      "text/markdown": [
       "tyve, ærlige, dyrebareste, slippe, Eks, trække, Fanden, Sort, dyrebare, nytter, f, bryder, slå, største, lad, Kjere, derfra, Altsammen, ende, hvorfra"
      ],
      "text/plain": [
       "<IPython.core.display.Markdown object>"
      ]
     },
     "metadata": {},
     "output_type": "display_data"
    },
    {
     "data": {
      "text/markdown": [
       "<br>"
      ],
      "text/plain": [
       "<IPython.core.display.Markdown object>"
      ]
     },
     "metadata": {},
     "output_type": "display_data"
    },
    {
     "data": {
      "text/markdown": [
       "## Litteratur_"
      ],
      "text/plain": [
       "<IPython.core.display.Markdown object>"
      ]
     },
     "metadata": {},
     "output_type": "display_data"
    },
    {
     "data": {
      "text/markdown": [
       "### 1.05"
      ],
      "text/plain": [
       "<IPython.core.display.Markdown object>"
      ]
     },
     "metadata": {},
     "output_type": "display_data"
    },
    {
     "data": {
      "text/markdown": [
       "Fortælling, Romaner, Roman, Underholdning, Forståelse, fornøiede, uforsøgt, særlig, velgjørende, Skildring, Forventninger, fornemmelig, fjernt, mægtige, selskabelige, Porten, Hjelp, afløste, Vilkår, behagelig"
      ],
      "text/plain": [
       "<IPython.core.display.Markdown object>"
      ]
     },
     "metadata": {},
     "output_type": "display_data"
    },
    {
     "data": {
      "text/markdown": [
       "<br>"
      ],
      "text/plain": [
       "<IPython.core.display.Markdown object>"
      ]
     },
     "metadata": {},
     "output_type": "display_data"
    },
    {
     "data": {
      "text/markdown": [
       "### 1.2"
      ],
      "text/plain": [
       "<IPython.core.display.Markdown object>"
      ]
     },
     "metadata": {},
     "output_type": "display_data"
    },
    {
     "data": {
      "text/markdown": [
       "Fortælling, Romaner, Roman, Underholdning, fornøiede, Forståelse, uforsøgt, velgjørende, særlig, Skildring, Forventninger, fornemmelig, fjernt, mægtige, Porten, selskabelige, Hjelp, behagelig, Overgang, tildels"
      ],
      "text/plain": [
       "<IPython.core.display.Markdown object>"
      ]
     },
     "metadata": {},
     "output_type": "display_data"
    },
    {
     "data": {
      "text/markdown": [
       "<br>"
      ],
      "text/plain": [
       "<IPython.core.display.Markdown object>"
      ]
     },
     "metadata": {},
     "output_type": "display_data"
    },
    {
     "data": {
      "text/markdown": [
       "### 1.5"
      ],
      "text/plain": [
       "<IPython.core.display.Markdown object>"
      ]
     },
     "metadata": {},
     "output_type": "display_data"
    },
    {
     "data": {
      "text/markdown": [
       "Romaner, Fortælling, Roman, fornøiede, Forståelse, Underholdning, uforsøgt, Skildring, Forventninger, særlig, velgjørende, fornemmelig, Porten, selskabelige, fjernt, mægtige, stige, tildels, Overgang, Hjelp"
      ],
      "text/plain": [
       "<IPython.core.display.Markdown object>"
      ]
     },
     "metadata": {},
     "output_type": "display_data"
    },
    {
     "data": {
      "text/markdown": [
       "<br>"
      ],
      "text/plain": [
       "<IPython.core.display.Markdown object>"
      ]
     },
     "metadata": {},
     "output_type": "display_data"
    },
    {
     "data": {
      "text/markdown": [
       "## Religion_"
      ],
      "text/plain": [
       "<IPython.core.display.Markdown object>"
      ]
     },
     "metadata": {},
     "output_type": "display_data"
    },
    {
     "data": {
      "text/markdown": [
       "### 1.05"
      ],
      "text/plain": [
       "<IPython.core.display.Markdown object>"
      ]
     },
     "metadata": {},
     "output_type": "display_data"
    },
    {
     "data": {
      "text/markdown": [
       "Fruentimmers, Tilfredsstillelse, forestille, Prydelse, Småpiger, trætte, vidt, fordrage, hjertelig, Straf, Slutning, søde, mangengang, hverandre, Nød, glade, levet, Pligter, rev, Derfor"
      ],
      "text/plain": [
       "<IPython.core.display.Markdown object>"
      ]
     },
     "metadata": {},
     "output_type": "display_data"
    },
    {
     "data": {
      "text/markdown": [
       "<br>"
      ],
      "text/plain": [
       "<IPython.core.display.Markdown object>"
      ]
     },
     "metadata": {},
     "output_type": "display_data"
    },
    {
     "data": {
      "text/markdown": [
       "### 1.2"
      ],
      "text/plain": [
       "<IPython.core.display.Markdown object>"
      ]
     },
     "metadata": {},
     "output_type": "display_data"
    },
    {
     "data": {
      "text/markdown": [
       "Fruentimmers, Tilfredsstillelse, forestille, Prydelse, Småpiger, trætte, vidt, fordrage, hjertelig, Straf, Slutning, søde, mangengang, hverandre, Nød, glade, levet, Pligter, rev, Derfor"
      ],
      "text/plain": [
       "<IPython.core.display.Markdown object>"
      ]
     },
     "metadata": {},
     "output_type": "display_data"
    },
    {
     "data": {
      "text/markdown": [
       "<br>"
      ],
      "text/plain": [
       "<IPython.core.display.Markdown object>"
      ]
     },
     "metadata": {},
     "output_type": "display_data"
    },
    {
     "data": {
      "text/markdown": [
       "### 1.5"
      ],
      "text/plain": [
       "<IPython.core.display.Markdown object>"
      ]
     },
     "metadata": {},
     "output_type": "display_data"
    },
    {
     "data": {
      "text/markdown": [
       "Fruentimmers, Tilfredsstillelse, forestille, trætte, Småpiger, fordrage, vidt, Prydelse, Slutning, hjertelig, Straf, hverandre, mangengang, søde, Nød, glade, levet, Pligter, vi, bort"
      ],
      "text/plain": [
       "<IPython.core.display.Markdown object>"
      ]
     },
     "metadata": {},
     "output_type": "display_data"
    },
    {
     "data": {
      "text/markdown": [
       "<br>"
      ],
      "text/plain": [
       "<IPython.core.display.Markdown object>"
      ]
     },
     "metadata": {},
     "output_type": "display_data"
    },
    {
     "data": {
      "text/markdown": [
       "## Kvindeforening_"
      ],
      "text/plain": [
       "<IPython.core.display.Markdown object>"
      ]
     },
     "metadata": {},
     "output_type": "display_data"
    },
    {
     "data": {
      "text/markdown": [
       "### 1.05"
      ],
      "text/plain": [
       "<IPython.core.display.Markdown object>"
      ]
     },
     "metadata": {},
     "output_type": "display_data"
    },
    {
     "data": {
      "text/markdown": [],
      "text/plain": [
       "<IPython.core.display.Markdown object>"
      ]
     },
     "metadata": {},
     "output_type": "display_data"
    },
    {
     "data": {
      "text/markdown": [
       "<br>"
      ],
      "text/plain": [
       "<IPython.core.display.Markdown object>"
      ]
     },
     "metadata": {},
     "output_type": "display_data"
    },
    {
     "data": {
      "text/markdown": [
       "### 1.2"
      ],
      "text/plain": [
       "<IPython.core.display.Markdown object>"
      ]
     },
     "metadata": {},
     "output_type": "display_data"
    },
    {
     "data": {
      "text/markdown": [],
      "text/plain": [
       "<IPython.core.display.Markdown object>"
      ]
     },
     "metadata": {},
     "output_type": "display_data"
    },
    {
     "data": {
      "text/markdown": [
       "<br>"
      ],
      "text/plain": [
       "<IPython.core.display.Markdown object>"
      ]
     },
     "metadata": {},
     "output_type": "display_data"
    },
    {
     "data": {
      "text/markdown": [
       "### 1.5"
      ],
      "text/plain": [
       "<IPython.core.display.Markdown object>"
      ]
     },
     "metadata": {},
     "output_type": "display_data"
    },
    {
     "data": {
      "text/markdown": [],
      "text/plain": [
       "<IPython.core.display.Markdown object>"
      ]
     },
     "metadata": {},
     "output_type": "display_data"
    },
    {
     "data": {
      "text/markdown": [
       "<br>"
      ],
      "text/plain": [
       "<IPython.core.display.Markdown object>"
      ]
     },
     "metadata": {},
     "output_type": "display_data"
    },
    {
     "data": {
      "text/markdown": [
       "## Forfatterinde_"
      ],
      "text/plain": [
       "<IPython.core.display.Markdown object>"
      ]
     },
     "metadata": {},
     "output_type": "display_data"
    },
    {
     "data": {
      "text/markdown": [
       "### 1.05"
      ],
      "text/plain": [
       "<IPython.core.display.Markdown object>"
      ]
     },
     "metadata": {},
     "output_type": "display_data"
    },
    {
     "data": {
      "text/markdown": [
       "Fordomme, utallige, Frihed, Tråde, la, falsk, Dom, fattige, geniale, åndelig, offentlig, borgerlige, forskruede, sandere, Sand, latterlige, Hensyn, Tunge, Udholdenhed, virker"
      ],
      "text/plain": [
       "<IPython.core.display.Markdown object>"
      ]
     },
     "metadata": {},
     "output_type": "display_data"
    },
    {
     "data": {
      "text/markdown": [
       "<br>"
      ],
      "text/plain": [
       "<IPython.core.display.Markdown object>"
      ]
     },
     "metadata": {},
     "output_type": "display_data"
    },
    {
     "data": {
      "text/markdown": [
       "### 1.2"
      ],
      "text/plain": [
       "<IPython.core.display.Markdown object>"
      ]
     },
     "metadata": {},
     "output_type": "display_data"
    },
    {
     "data": {
      "text/markdown": [
       "Fordomme, Tråde, Dom, falsk, utallige, Frihed, la, offentlig, fattige, åndelig, sandere, geniale, borgerlige, forskruede, latterlige, Sand, Hensyn, Udholdenhed, virker, Tunge"
      ],
      "text/plain": [
       "<IPython.core.display.Markdown object>"
      ]
     },
     "metadata": {},
     "output_type": "display_data"
    },
    {
     "data": {
      "text/markdown": [
       "<br>"
      ],
      "text/plain": [
       "<IPython.core.display.Markdown object>"
      ]
     },
     "metadata": {},
     "output_type": "display_data"
    },
    {
     "data": {
      "text/markdown": [
       "### 1.5"
      ],
      "text/plain": [
       "<IPython.core.display.Markdown object>"
      ]
     },
     "metadata": {},
     "output_type": "display_data"
    },
    {
     "data": {
      "text/markdown": [
       "Frihed, Tråde, Dom, falsk, utallige, la, Fordomme, fattige, borgerlige, sandere, åndelig, geniale, forskruede, offentlig, latterlige, Sand, Tunge, virker, Udholdenhed, Hensyn"
      ],
      "text/plain": [
       "<IPython.core.display.Markdown object>"
      ]
     },
     "metadata": {},
     "output_type": "display_data"
    },
    {
     "data": {
      "text/markdown": [
       "<br>"
      ],
      "text/plain": [
       "<IPython.core.display.Markdown object>"
      ]
     },
     "metadata": {},
     "output_type": "display_data"
    },
    {
     "data": {
      "text/markdown": [
       "## Myndighed_"
      ],
      "text/plain": [
       "<IPython.core.display.Markdown object>"
      ]
     },
     "metadata": {},
     "output_type": "display_data"
    },
    {
     "data": {
      "text/markdown": [
       "### 1.05"
      ],
      "text/plain": [
       "<IPython.core.display.Markdown object>"
      ]
     },
     "metadata": {},
     "output_type": "display_data"
    },
    {
     "data": {
      "text/markdown": [
       "slutter, Redskab, farligt, Ængstelser, Forsikringer, Uger, slumrende, nærer, nødt, knuse, muntert, svagt, forelsket, led, gift, betragte, Nærheden, forlovet, Müllers, Offer"
      ],
      "text/plain": [
       "<IPython.core.display.Markdown object>"
      ]
     },
     "metadata": {},
     "output_type": "display_data"
    },
    {
     "data": {
      "text/markdown": [
       "<br>"
      ],
      "text/plain": [
       "<IPython.core.display.Markdown object>"
      ]
     },
     "metadata": {},
     "output_type": "display_data"
    },
    {
     "data": {
      "text/markdown": [
       "### 1.2"
      ],
      "text/plain": [
       "<IPython.core.display.Markdown object>"
      ]
     },
     "metadata": {},
     "output_type": "display_data"
    },
    {
     "data": {
      "text/markdown": [
       "slutter, Redskab, farligt, Ængstelser, Forsikringer, Uger, slumrende, nærer, nødt, knuse, muntert, svagt, forelsket, led, gift, betragte, Nærheden, forlovet, Müllers, Offer"
      ],
      "text/plain": [
       "<IPython.core.display.Markdown object>"
      ]
     },
     "metadata": {},
     "output_type": "display_data"
    },
    {
     "data": {
      "text/markdown": [
       "<br>"
      ],
      "text/plain": [
       "<IPython.core.display.Markdown object>"
      ]
     },
     "metadata": {},
     "output_type": "display_data"
    },
    {
     "data": {
      "text/markdown": [
       "### 1.5"
      ],
      "text/plain": [
       "<IPython.core.display.Markdown object>"
      ]
     },
     "metadata": {},
     "output_type": "display_data"
    },
    {
     "data": {
      "text/markdown": [
       "slutter, Redskab, farligt, Ængstelser, Forsikringer, Uger, slumrende, nærer, nødt, knuse, muntert, svagt, forelsket, led, gift, betragte, Nærheden, forlovet, Müllers, Offer"
      ],
      "text/plain": [
       "<IPython.core.display.Markdown object>"
      ]
     },
     "metadata": {},
     "output_type": "display_data"
    },
    {
     "data": {
      "text/markdown": [
       "<br>"
      ],
      "text/plain": [
       "<IPython.core.display.Markdown object>"
      ]
     },
     "metadata": {},
     "output_type": "display_data"
    },
    {
     "data": {
      "text/markdown": [
       "## Yrkesaktiv_"
      ],
      "text/plain": [
       "<IPython.core.display.Markdown object>"
      ]
     },
     "metadata": {},
     "output_type": "display_data"
    },
    {
     "data": {
      "text/markdown": [
       "### 1.05"
      ],
      "text/plain": [
       "<IPython.core.display.Markdown object>"
      ]
     },
     "metadata": {},
     "output_type": "display_data"
    },
    {
     "data": {
      "text/markdown": [
       "Tjenestepige, skelede, Kår, taug, Hemmeligheden, Vildfarelse, bedækkede, belyst, brogede, stryge, Kappe, skyldig, forefaldt, Atlask, gratiøse, harmonisk, Flid, nyttige, Formiddag, Formiddagen"
      ],
      "text/plain": [
       "<IPython.core.display.Markdown object>"
      ]
     },
     "metadata": {},
     "output_type": "display_data"
    },
    {
     "data": {
      "text/markdown": [
       "<br>"
      ],
      "text/plain": [
       "<IPython.core.display.Markdown object>"
      ]
     },
     "metadata": {},
     "output_type": "display_data"
    },
    {
     "data": {
      "text/markdown": [
       "### 1.2"
      ],
      "text/plain": [
       "<IPython.core.display.Markdown object>"
      ]
     },
     "metadata": {},
     "output_type": "display_data"
    },
    {
     "data": {
      "text/markdown": [
       "skelede, Tjenestepige, Kår, taug, Formiddagen, stumt, uheldig, bedækkede, belyst, brogede, Hemmeligheden, nyttige, Atlask, Formiddag, stryge, gratiøse, harmonisk, skyldig, Flid, indtrådt"
      ],
      "text/plain": [
       "<IPython.core.display.Markdown object>"
      ]
     },
     "metadata": {},
     "output_type": "display_data"
    },
    {
     "data": {
      "text/markdown": [
       "<br>"
      ],
      "text/plain": [
       "<IPython.core.display.Markdown object>"
      ]
     },
     "metadata": {},
     "output_type": "display_data"
    },
    {
     "data": {
      "text/markdown": [
       "### 1.5"
      ],
      "text/plain": [
       "<IPython.core.display.Markdown object>"
      ]
     },
     "metadata": {},
     "output_type": "display_data"
    },
    {
     "data": {
      "text/markdown": [
       "Tjenestepige, skelede, Kår, taug, Bolette, Udvortes, gratiøse, Formiddag, Formiddagen, uheldig, skyldig, nyttige, forefaldt, Simpelhed, Kappe, harmonisk, Hemmeligheden, Provstindens, stumt, stryge"
      ],
      "text/plain": [
       "<IPython.core.display.Markdown object>"
      ]
     },
     "metadata": {},
     "output_type": "display_data"
    },
    {
     "data": {
      "text/markdown": [
       "<br>"
      ],
      "text/plain": [
       "<IPython.core.display.Markdown object>"
      ]
     },
     "metadata": {},
     "output_type": "display_data"
    },
    {
     "data": {
      "text/markdown": [
       "## Sivil status_"
      ],
      "text/plain": [
       "<IPython.core.display.Markdown object>"
      ]
     },
     "metadata": {},
     "output_type": "display_data"
    },
    {
     "data": {
      "text/markdown": [
       "### 1.05"
      ],
      "text/plain": [
       "<IPython.core.display.Markdown object>"
      ]
     },
     "metadata": {},
     "output_type": "display_data"
    },
    {
     "data": {
      "text/markdown": [
       "gift, Hustru, Hustruer, Gift, forelsket, Ugen, skikkelig, vandret, pyntede, Ængstelser, farligt, Kusine, Uger, agter, giftet, slutter, Forsikringer, undvære, Jomfruer, Redskab"
      ],
      "text/plain": [
       "<IPython.core.display.Markdown object>"
      ]
     },
     "metadata": {},
     "output_type": "display_data"
    },
    {
     "data": {
      "text/markdown": [
       "<br>"
      ],
      "text/plain": [
       "<IPython.core.display.Markdown object>"
      ]
     },
     "metadata": {},
     "output_type": "display_data"
    },
    {
     "data": {
      "text/markdown": [
       "### 1.2"
      ],
      "text/plain": [
       "<IPython.core.display.Markdown object>"
      ]
     },
     "metadata": {},
     "output_type": "display_data"
    },
    {
     "data": {
      "text/markdown": [
       "Hustru, gift, Hustruer, Gift, forelsket, Ugen, vandret, skikkelig, Uger, Jomfruer, Ængstelser, desuagtet, Kusine, undvære, Forsikringer, pyntede, slutter, agter, giftet, Redskab"
      ],
      "text/plain": [
       "<IPython.core.display.Markdown object>"
      ]
     },
     "metadata": {},
     "output_type": "display_data"
    },
    {
     "data": {
      "text/markdown": [
       "<br>"
      ],
      "text/plain": [
       "<IPython.core.display.Markdown object>"
      ]
     },
     "metadata": {},
     "output_type": "display_data"
    },
    {
     "data": {
      "text/markdown": [
       "### 1.5"
      ],
      "text/plain": [
       "<IPython.core.display.Markdown object>"
      ]
     },
     "metadata": {},
     "output_type": "display_data"
    },
    {
     "data": {
      "text/markdown": [
       "Hustru, gift, Gift, Hustruer, forelsket, Ugen, vandret, skikkelig, Lidelse, naturligt, passe, hellige, behagelige, modstå, tilgive, Sorger, Rygte, Gardinet, slutter, agter"
      ],
      "text/plain": [
       "<IPython.core.display.Markdown object>"
      ]
     },
     "metadata": {},
     "output_type": "display_data"
    },
    {
     "data": {
      "text/markdown": [
       "<br>"
      ],
      "text/plain": [
       "<IPython.core.display.Markdown object>"
      ]
     },
     "metadata": {},
     "output_type": "display_data"
    },
    {
     "data": {
      "text/markdown": [
       "## Ligestilling_"
      ],
      "text/plain": [
       "<IPython.core.display.Markdown object>"
      ]
     },
     "metadata": {},
     "output_type": "display_data"
    },
    {
     "data": {
      "text/markdown": [
       "### 1.05"
      ],
      "text/plain": [
       "<IPython.core.display.Markdown object>"
      ]
     },
     "metadata": {},
     "output_type": "display_data"
    },
    {
     "data": {
      "text/markdown": [
       "Digter, artede, forsonende, nationale, Forfatternote, Helt, Måder, Grav, uimodståelig, Betragtninger, Sidste, mer, nået, Død, Hvorledes, Trang, Tiden, Punkt, flere, Nat"
      ],
      "text/plain": [
       "<IPython.core.display.Markdown object>"
      ]
     },
     "metadata": {},
     "output_type": "display_data"
    },
    {
     "data": {
      "text/markdown": [
       "<br>"
      ],
      "text/plain": [
       "<IPython.core.display.Markdown object>"
      ]
     },
     "metadata": {},
     "output_type": "display_data"
    },
    {
     "data": {
      "text/markdown": [
       "### 1.2"
      ],
      "text/plain": [
       "<IPython.core.display.Markdown object>"
      ]
     },
     "metadata": {},
     "output_type": "display_data"
    },
    {
     "data": {
      "text/markdown": [
       "Digter, artede, forsonende, nationale, Forfatternote, Helt, Måder, Grav, uimodståelig, Betragtninger, mer, Sidste, nået, Død, Hvorledes, Trang, Tiden, Punkt, flere, Nat"
      ],
      "text/plain": [
       "<IPython.core.display.Markdown object>"
      ]
     },
     "metadata": {},
     "output_type": "display_data"
    },
    {
     "data": {
      "text/markdown": [
       "<br>"
      ],
      "text/plain": [
       "<IPython.core.display.Markdown object>"
      ]
     },
     "metadata": {},
     "output_type": "display_data"
    },
    {
     "data": {
      "text/markdown": [
       "### 1.5"
      ],
      "text/plain": [
       "<IPython.core.display.Markdown object>"
      ]
     },
     "metadata": {},
     "output_type": "display_data"
    },
    {
     "data": {
      "text/markdown": [
       "Digter, artede, forsonende, nationale, Helt, Forfatternote, Grav, Måder, uimodståelig, Betragtninger, mer, Sidste, nået, Død, Hvorledes, Trang, Tiden, Punkt, flere, Nat"
      ],
      "text/plain": [
       "<IPython.core.display.Markdown object>"
      ]
     },
     "metadata": {},
     "output_type": "display_data"
    },
    {
     "data": {
      "text/markdown": [
       "<br>"
      ],
      "text/plain": [
       "<IPython.core.display.Markdown object>"
      ]
     },
     "metadata": {},
     "output_type": "display_data"
    },
    {
     "data": {
      "text/markdown": [
       "## Folkeoplysning_"
      ],
      "text/plain": [
       "<IPython.core.display.Markdown object>"
      ]
     },
     "metadata": {},
     "output_type": "display_data"
    },
    {
     "data": {
      "text/markdown": [
       "### 1.05"
      ],
      "text/plain": [
       "<IPython.core.display.Markdown object>"
      ]
     },
     "metadata": {},
     "output_type": "display_data"
    },
    {
     "data": {
      "text/markdown": [
       "Civilisationens, Mindre, Vilje, Individer, Kilder, flyttede, fjerneste, hånlig, Samfundet, synlige, Illusioner, Digteren, Omvei, værste, Nissen, Gaderne, Blot, nøgne, Forbund, prægtige"
      ],
      "text/plain": [
       "<IPython.core.display.Markdown object>"
      ]
     },
     "metadata": {},
     "output_type": "display_data"
    },
    {
     "data": {
      "text/markdown": [
       "<br>"
      ],
      "text/plain": [
       "<IPython.core.display.Markdown object>"
      ]
     },
     "metadata": {},
     "output_type": "display_data"
    },
    {
     "data": {
      "text/markdown": [
       "### 1.2"
      ],
      "text/plain": [
       "<IPython.core.display.Markdown object>"
      ]
     },
     "metadata": {},
     "output_type": "display_data"
    },
    {
     "data": {
      "text/markdown": [
       "Civilisationens, Mindre, Vilje, Individer, synlige, prægtige, Kilder, Nissen, umoden, plage, Samfundet, Illusioner, Digteren, fjerneste, hånlig, Omvei, bringes, nøgne, Maskine, Forbund"
      ],
      "text/plain": [
       "<IPython.core.display.Markdown object>"
      ]
     },
     "metadata": {},
     "output_type": "display_data"
    },
    {
     "data": {
      "text/markdown": [
       "<br>"
      ],
      "text/plain": [
       "<IPython.core.display.Markdown object>"
      ]
     },
     "metadata": {},
     "output_type": "display_data"
    },
    {
     "data": {
      "text/markdown": [
       "### 1.5"
      ],
      "text/plain": [
       "<IPython.core.display.Markdown object>"
      ]
     },
     "metadata": {},
     "output_type": "display_data"
    },
    {
     "data": {
      "text/markdown": [
       "Civilisationens, Vilje, Mindre, Digteren, Maskine, Omvei, Individer, flyttede, umoden, fjerneste, nøgne, Gaderne, bringes, hånlig, Forbund, Yderligheder, synlige, Illusioner, Samfundet, værste"
      ],
      "text/plain": [
       "<IPython.core.display.Markdown object>"
      ]
     },
     "metadata": {},
     "output_type": "display_data"
    },
    {
     "data": {
      "text/markdown": [
       "<br>"
      ],
      "text/plain": [
       "<IPython.core.display.Markdown object>"
      ]
     },
     "metadata": {},
     "output_type": "display_data"
    },
    {
     "data": {
      "text/markdown": [
       "## Sundhed_"
      ],
      "text/plain": [
       "<IPython.core.display.Markdown object>"
      ]
     },
     "metadata": {},
     "output_type": "display_data"
    },
    {
     "data": {
      "text/markdown": [
       "### 1.05"
      ],
      "text/plain": [
       "<IPython.core.display.Markdown object>"
      ]
     },
     "metadata": {},
     "output_type": "display_data"
    },
    {
     "data": {
      "text/markdown": [
       "Klipperne, Sæder, nytter, Hvælvingen, Sans, vedligeholde, Hustruer, moralske, Opmuntring, Oplysning, sluttes, bygge, Elven, Bækken, Beboerne, savner, foragte, Virksomhed, Hjelp, mærke"
      ],
      "text/plain": [
       "<IPython.core.display.Markdown object>"
      ]
     },
     "metadata": {},
     "output_type": "display_data"
    },
    {
     "data": {
      "text/markdown": [
       "<br>"
      ],
      "text/plain": [
       "<IPython.core.display.Markdown object>"
      ]
     },
     "metadata": {},
     "output_type": "display_data"
    },
    {
     "data": {
      "text/markdown": [
       "### 1.2"
      ],
      "text/plain": [
       "<IPython.core.display.Markdown object>"
      ]
     },
     "metadata": {},
     "output_type": "display_data"
    },
    {
     "data": {
      "text/markdown": [
       "Klipperne, Sæder, nytter, Hvælvingen, vedligeholde, Hustruer, sluttes, bygge, Oplysning, Opmuntring, moralske, Sans, Beboerne, Elven, Bækken, foragte, savner, Hjelp, Virksomhed, mærke"
      ],
      "text/plain": [
       "<IPython.core.display.Markdown object>"
      ]
     },
     "metadata": {},
     "output_type": "display_data"
    },
    {
     "data": {
      "text/markdown": [
       "<br>"
      ],
      "text/plain": [
       "<IPython.core.display.Markdown object>"
      ]
     },
     "metadata": {},
     "output_type": "display_data"
    },
    {
     "data": {
      "text/markdown": [
       "### 1.5"
      ],
      "text/plain": [
       "<IPython.core.display.Markdown object>"
      ]
     },
     "metadata": {},
     "output_type": "display_data"
    },
    {
     "data": {
      "text/markdown": [
       "Klipperne, Sæder, nytter, Hvælvingen, Beboerne, Bækken, Elven, Opmuntring, Oplysning, moralske, Hustruer, Sans, sluttes, bygge, vedligeholde, Hjelp, savner, foragte, Virksomhed, Romaner"
      ],
      "text/plain": [
       "<IPython.core.display.Markdown object>"
      ]
     },
     "metadata": {},
     "output_type": "display_data"
    },
    {
     "data": {
      "text/markdown": [
       "<br>"
      ],
      "text/plain": [
       "<IPython.core.display.Markdown object>"
      ]
     },
     "metadata": {},
     "output_type": "display_data"
    },
    {
     "data": {
      "text/markdown": [
       "## Befolkningsprosesser_"
      ],
      "text/plain": [
       "<IPython.core.display.Markdown object>"
      ]
     },
     "metadata": {},
     "output_type": "display_data"
    },
    {
     "data": {
      "text/markdown": [
       "### 1.05"
      ],
      "text/plain": [
       "<IPython.core.display.Markdown object>"
      ]
     },
     "metadata": {},
     "output_type": "display_data"
    },
    {
     "data": {
      "text/markdown": [
       "Lidet, Præget, hilst, Lyksalighed, Nøiagtighed, matte, Mysterium, iforveien, omvendt, udtale, Opførsel, Scenen, simpel, nationale, Mandens, Lystighed, Norsk, bevidst, ment, Beregning"
      ],
      "text/plain": [
       "<IPython.core.display.Markdown object>"
      ]
     },
     "metadata": {},
     "output_type": "display_data"
    },
    {
     "data": {
      "text/markdown": [
       "<br>"
      ],
      "text/plain": [
       "<IPython.core.display.Markdown object>"
      ]
     },
     "metadata": {},
     "output_type": "display_data"
    },
    {
     "data": {
      "text/markdown": [
       "### 1.2"
      ],
      "text/plain": [
       "<IPython.core.display.Markdown object>"
      ]
     },
     "metadata": {},
     "output_type": "display_data"
    },
    {
     "data": {
      "text/markdown": [
       "Lidet, Nøiagtighed, iforveien, omvendt, Mysterium, matte, Lyksalighed, Præget, hilst, udtale, Opførsel, Norsk, Scenen, ment, Mandens, nationale, Lystighed, Vished, bevidst, Beregning"
      ],
      "text/plain": [
       "<IPython.core.display.Markdown object>"
      ]
     },
     "metadata": {},
     "output_type": "display_data"
    },
    {
     "data": {
      "text/markdown": [
       "<br>"
      ],
      "text/plain": [
       "<IPython.core.display.Markdown object>"
      ]
     },
     "metadata": {},
     "output_type": "display_data"
    },
    {
     "data": {
      "text/markdown": [
       "### 1.5"
      ],
      "text/plain": [
       "<IPython.core.display.Markdown object>"
      ]
     },
     "metadata": {},
     "output_type": "display_data"
    },
    {
     "data": {
      "text/markdown": [
       "Lidet, Opførsel, hilst, Præget, Mysterium, omvendt, Lyksalighed, Nøiagtighed, matte, iforveien, udtale, igår, Vished, Scenen, nationale, bevidst, ment, Beregning, Norsk, Mandens"
      ],
      "text/plain": [
       "<IPython.core.display.Markdown object>"
      ]
     },
     "metadata": {},
     "output_type": "display_data"
    },
    {
     "data": {
      "text/markdown": [
       "<br>"
      ],
      "text/plain": [
       "<IPython.core.display.Markdown object>"
      ]
     },
     "metadata": {},
     "output_type": "display_data"
    }
   ],
   "source": [
    "for w in amtmand_tema:\n",
    "    display(Markdown(\"## \"+ w))\n",
    "    displaycoll(amtmand_tema[w], freqlim=2)"
   ]
  },
  {
   "cell_type": "code",
   "execution_count": null,
   "metadata": {},
   "outputs": [],
   "source": []
  },
  {
   "cell_type": "code",
   "execution_count": 24,
   "metadata": {},
   "outputs": [],
   "source": [
    "amtxamt = amth.dot(amth.transpose())"
   ]
  },
  {
   "cell_type": "code",
   "execution_count": 33,
   "metadata": {},
   "outputs": [
    {
     "data": {
      "text/html": [
       "<div>\n",
       "<style scoped>\n",
       "    .dataframe tbody tr th:only-of-type {\n",
       "        vertical-align: middle;\n",
       "    }\n",
       "\n",
       "    .dataframe tbody tr th {\n",
       "        vertical-align: top;\n",
       "    }\n",
       "\n",
       "    .dataframe thead th {\n",
       "        text-align: right;\n",
       "    }\n",
       "</style>\n",
       "<table border=\"1\" class=\"dataframe\">\n",
       "  <thead>\n",
       "    <tr style=\"text-align: right;\">\n",
       "      <th></th>\n",
       "      <th>!</th>\n",
       "      <th>'</th>\n",
       "      <th>(</th>\n",
       "      <th>)</th>\n",
       "      <th>,</th>\n",
       "      <th>-</th>\n",
       "      <th>.</th>\n",
       "      <th>/</th>\n",
       "      <th>05</th>\n",
       "      <th>1</th>\n",
       "      <th>...</th>\n",
       "      <th>øser</th>\n",
       "      <th>østlige</th>\n",
       "      <th>øve</th>\n",
       "      <th>øvede</th>\n",
       "      <th>øvedes</th>\n",
       "      <th>øver</th>\n",
       "      <th>øves</th>\n",
       "      <th>øvet</th>\n",
       "      <th>øvrige</th>\n",
       "      <th>–</th>\n",
       "    </tr>\n",
       "  </thead>\n",
       "  <tbody>\n",
       "    <tr>\n",
       "      <th>!</th>\n",
       "      <td>2448.0</td>\n",
       "      <td>30.0</td>\n",
       "      <td>0.0</td>\n",
       "      <td>0.0</td>\n",
       "      <td>10459.0</td>\n",
       "      <td>0.0</td>\n",
       "      <td>8833.0</td>\n",
       "      <td>0.0</td>\n",
       "      <td>0.0</td>\n",
       "      <td>0.0</td>\n",
       "      <td>...</td>\n",
       "      <td>5.0</td>\n",
       "      <td>0.0</td>\n",
       "      <td>2.0</td>\n",
       "      <td>2.0</td>\n",
       "      <td>1.0</td>\n",
       "      <td>1.0</td>\n",
       "      <td>1.0</td>\n",
       "      <td>1.0</td>\n",
       "      <td>2.0</td>\n",
       "      <td>535.0</td>\n",
       "    </tr>\n",
       "    <tr>\n",
       "      <th>'</th>\n",
       "      <td>30.0</td>\n",
       "      <td>27.0</td>\n",
       "      <td>0.0</td>\n",
       "      <td>0.0</td>\n",
       "      <td>260.0</td>\n",
       "      <td>0.0</td>\n",
       "      <td>136.0</td>\n",
       "      <td>0.0</td>\n",
       "      <td>0.0</td>\n",
       "      <td>0.0</td>\n",
       "      <td>...</td>\n",
       "      <td>0.0</td>\n",
       "      <td>0.0</td>\n",
       "      <td>0.0</td>\n",
       "      <td>0.0</td>\n",
       "      <td>0.0</td>\n",
       "      <td>0.0</td>\n",
       "      <td>0.0</td>\n",
       "      <td>0.0</td>\n",
       "      <td>0.0</td>\n",
       "      <td>7.0</td>\n",
       "    </tr>\n",
       "    <tr>\n",
       "      <th>(</th>\n",
       "      <td>0.0</td>\n",
       "      <td>0.0</td>\n",
       "      <td>23.0</td>\n",
       "      <td>23.0</td>\n",
       "      <td>85.0</td>\n",
       "      <td>1.0</td>\n",
       "      <td>50.0</td>\n",
       "      <td>4.0</td>\n",
       "      <td>0.0</td>\n",
       "      <td>0.0</td>\n",
       "      <td>...</td>\n",
       "      <td>0.0</td>\n",
       "      <td>0.0</td>\n",
       "      <td>0.0</td>\n",
       "      <td>1.0</td>\n",
       "      <td>0.0</td>\n",
       "      <td>0.0</td>\n",
       "      <td>0.0</td>\n",
       "      <td>0.0</td>\n",
       "      <td>0.0</td>\n",
       "      <td>1.0</td>\n",
       "    </tr>\n",
       "    <tr>\n",
       "      <th>)</th>\n",
       "      <td>0.0</td>\n",
       "      <td>0.0</td>\n",
       "      <td>23.0</td>\n",
       "      <td>23.0</td>\n",
       "      <td>85.0</td>\n",
       "      <td>1.0</td>\n",
       "      <td>50.0</td>\n",
       "      <td>4.0</td>\n",
       "      <td>0.0</td>\n",
       "      <td>0.0</td>\n",
       "      <td>...</td>\n",
       "      <td>0.0</td>\n",
       "      <td>0.0</td>\n",
       "      <td>0.0</td>\n",
       "      <td>1.0</td>\n",
       "      <td>0.0</td>\n",
       "      <td>0.0</td>\n",
       "      <td>0.0</td>\n",
       "      <td>0.0</td>\n",
       "      <td>0.0</td>\n",
       "      <td>1.0</td>\n",
       "    </tr>\n",
       "    <tr>\n",
       "      <th>,</th>\n",
       "      <td>10459.0</td>\n",
       "      <td>260.0</td>\n",
       "      <td>85.0</td>\n",
       "      <td>85.0</td>\n",
       "      <td>178616.0</td>\n",
       "      <td>2.0</td>\n",
       "      <td>96929.0</td>\n",
       "      <td>2.0</td>\n",
       "      <td>0.0</td>\n",
       "      <td>4.0</td>\n",
       "      <td>...</td>\n",
       "      <td>52.0</td>\n",
       "      <td>11.0</td>\n",
       "      <td>46.0</td>\n",
       "      <td>86.0</td>\n",
       "      <td>35.0</td>\n",
       "      <td>36.0</td>\n",
       "      <td>21.0</td>\n",
       "      <td>85.0</td>\n",
       "      <td>75.0</td>\n",
       "      <td>6245.0</td>\n",
       "    </tr>\n",
       "    <tr>\n",
       "      <th>-</th>\n",
       "      <td>0.0</td>\n",
       "      <td>0.0</td>\n",
       "      <td>1.0</td>\n",
       "      <td>1.0</td>\n",
       "      <td>2.0</td>\n",
       "      <td>17.0</td>\n",
       "      <td>4.0</td>\n",
       "      <td>1.0</td>\n",
       "      <td>4.0</td>\n",
       "      <td>0.0</td>\n",
       "      <td>...</td>\n",
       "      <td>0.0</td>\n",
       "      <td>0.0</td>\n",
       "      <td>0.0</td>\n",
       "      <td>0.0</td>\n",
       "      <td>0.0</td>\n",
       "      <td>0.0</td>\n",
       "      <td>0.0</td>\n",
       "      <td>0.0</td>\n",
       "      <td>0.0</td>\n",
       "      <td>0.0</td>\n",
       "    </tr>\n",
       "    <tr>\n",
       "      <th>.</th>\n",
       "      <td>8833.0</td>\n",
       "      <td>136.0</td>\n",
       "      <td>50.0</td>\n",
       "      <td>50.0</td>\n",
       "      <td>96929.0</td>\n",
       "      <td>4.0</td>\n",
       "      <td>99898.0</td>\n",
       "      <td>9.0</td>\n",
       "      <td>0.0</td>\n",
       "      <td>1.0</td>\n",
       "      <td>...</td>\n",
       "      <td>12.0</td>\n",
       "      <td>5.0</td>\n",
       "      <td>18.0</td>\n",
       "      <td>54.0</td>\n",
       "      <td>10.0</td>\n",
       "      <td>14.0</td>\n",
       "      <td>23.0</td>\n",
       "      <td>48.0</td>\n",
       "      <td>35.0</td>\n",
       "      <td>3692.0</td>\n",
       "    </tr>\n",
       "    <tr>\n",
       "      <th>/</th>\n",
       "      <td>0.0</td>\n",
       "      <td>0.0</td>\n",
       "      <td>4.0</td>\n",
       "      <td>4.0</td>\n",
       "      <td>2.0</td>\n",
       "      <td>1.0</td>\n",
       "      <td>9.0</td>\n",
       "      <td>4.0</td>\n",
       "      <td>0.0</td>\n",
       "      <td>0.0</td>\n",
       "      <td>...</td>\n",
       "      <td>0.0</td>\n",
       "      <td>0.0</td>\n",
       "      <td>0.0</td>\n",
       "      <td>0.0</td>\n",
       "      <td>0.0</td>\n",
       "      <td>0.0</td>\n",
       "      <td>0.0</td>\n",
       "      <td>0.0</td>\n",
       "      <td>0.0</td>\n",
       "      <td>0.0</td>\n",
       "    </tr>\n",
       "    <tr>\n",
       "      <th>05</th>\n",
       "      <td>0.0</td>\n",
       "      <td>0.0</td>\n",
       "      <td>0.0</td>\n",
       "      <td>0.0</td>\n",
       "      <td>0.0</td>\n",
       "      <td>4.0</td>\n",
       "      <td>0.0</td>\n",
       "      <td>0.0</td>\n",
       "      <td>1.0</td>\n",
       "      <td>0.0</td>\n",
       "      <td>...</td>\n",
       "      <td>0.0</td>\n",
       "      <td>0.0</td>\n",
       "      <td>0.0</td>\n",
       "      <td>0.0</td>\n",
       "      <td>0.0</td>\n",
       "      <td>0.0</td>\n",
       "      <td>0.0</td>\n",
       "      <td>0.0</td>\n",
       "      <td>0.0</td>\n",
       "      <td>0.0</td>\n",
       "    </tr>\n",
       "    <tr>\n",
       "      <th>1</th>\n",
       "      <td>0.0</td>\n",
       "      <td>0.0</td>\n",
       "      <td>0.0</td>\n",
       "      <td>0.0</td>\n",
       "      <td>4.0</td>\n",
       "      <td>0.0</td>\n",
       "      <td>1.0</td>\n",
       "      <td>0.0</td>\n",
       "      <td>0.0</td>\n",
       "      <td>5.0</td>\n",
       "      <td>...</td>\n",
       "      <td>0.0</td>\n",
       "      <td>0.0</td>\n",
       "      <td>0.0</td>\n",
       "      <td>0.0</td>\n",
       "      <td>0.0</td>\n",
       "      <td>0.0</td>\n",
       "      <td>0.0</td>\n",
       "      <td>0.0</td>\n",
       "      <td>0.0</td>\n",
       "      <td>0.0</td>\n",
       "    </tr>\n",
       "    <tr>\n",
       "      <th>10</th>\n",
       "      <td>0.0</td>\n",
       "      <td>0.0</td>\n",
       "      <td>0.0</td>\n",
       "      <td>0.0</td>\n",
       "      <td>19.0</td>\n",
       "      <td>0.0</td>\n",
       "      <td>7.0</td>\n",
       "      <td>0.0</td>\n",
       "      <td>0.0</td>\n",
       "      <td>0.0</td>\n",
       "      <td>...</td>\n",
       "      <td>0.0</td>\n",
       "      <td>0.0</td>\n",
       "      <td>0.0</td>\n",
       "      <td>0.0</td>\n",
       "      <td>0.0</td>\n",
       "      <td>0.0</td>\n",
       "      <td>0.0</td>\n",
       "      <td>0.0</td>\n",
       "      <td>0.0</td>\n",
       "      <td>0.0</td>\n",
       "    </tr>\n",
       "    <tr>\n",
       "      <th>100</th>\n",
       "      <td>3.0</td>\n",
       "      <td>0.0</td>\n",
       "      <td>0.0</td>\n",
       "      <td>0.0</td>\n",
       "      <td>2.0</td>\n",
       "      <td>0.0</td>\n",
       "      <td>4.0</td>\n",
       "      <td>0.0</td>\n",
       "      <td>0.0</td>\n",
       "      <td>0.0</td>\n",
       "      <td>...</td>\n",
       "      <td>0.0</td>\n",
       "      <td>0.0</td>\n",
       "      <td>0.0</td>\n",
       "      <td>0.0</td>\n",
       "      <td>0.0</td>\n",
       "      <td>0.0</td>\n",
       "      <td>0.0</td>\n",
       "      <td>0.0</td>\n",
       "      <td>0.0</td>\n",
       "      <td>0.0</td>\n",
       "    </tr>\n",
       "    <tr>\n",
       "      <th>101</th>\n",
       "      <td>3.0</td>\n",
       "      <td>0.0</td>\n",
       "      <td>0.0</td>\n",
       "      <td>0.0</td>\n",
       "      <td>9.0</td>\n",
       "      <td>0.0</td>\n",
       "      <td>8.0</td>\n",
       "      <td>0.0</td>\n",
       "      <td>0.0</td>\n",
       "      <td>0.0</td>\n",
       "      <td>...</td>\n",
       "      <td>0.0</td>\n",
       "      <td>0.0</td>\n",
       "      <td>0.0</td>\n",
       "      <td>0.0</td>\n",
       "      <td>0.0</td>\n",
       "      <td>0.0</td>\n",
       "      <td>0.0</td>\n",
       "      <td>0.0</td>\n",
       "      <td>0.0</td>\n",
       "      <td>0.0</td>\n",
       "    </tr>\n",
       "    <tr>\n",
       "      <th>102</th>\n",
       "      <td>0.0</td>\n",
       "      <td>0.0</td>\n",
       "      <td>0.0</td>\n",
       "      <td>0.0</td>\n",
       "      <td>9.0</td>\n",
       "      <td>0.0</td>\n",
       "      <td>11.0</td>\n",
       "      <td>0.0</td>\n",
       "      <td>0.0</td>\n",
       "      <td>0.0</td>\n",
       "      <td>...</td>\n",
       "      <td>0.0</td>\n",
       "      <td>0.0</td>\n",
       "      <td>0.0</td>\n",
       "      <td>0.0</td>\n",
       "      <td>0.0</td>\n",
       "      <td>0.0</td>\n",
       "      <td>0.0</td>\n",
       "      <td>0.0</td>\n",
       "      <td>0.0</td>\n",
       "      <td>0.0</td>\n",
       "    </tr>\n",
       "    <tr>\n",
       "      <th>103</th>\n",
       "      <td>1.0</td>\n",
       "      <td>0.0</td>\n",
       "      <td>0.0</td>\n",
       "      <td>0.0</td>\n",
       "      <td>31.0</td>\n",
       "      <td>0.0</td>\n",
       "      <td>21.0</td>\n",
       "      <td>0.0</td>\n",
       "      <td>0.0</td>\n",
       "      <td>0.0</td>\n",
       "      <td>...</td>\n",
       "      <td>0.0</td>\n",
       "      <td>0.0</td>\n",
       "      <td>0.0</td>\n",
       "      <td>0.0</td>\n",
       "      <td>0.0</td>\n",
       "      <td>0.0</td>\n",
       "      <td>0.0</td>\n",
       "      <td>0.0</td>\n",
       "      <td>0.0</td>\n",
       "      <td>4.0</td>\n",
       "    </tr>\n",
       "    <tr>\n",
       "      <th>104</th>\n",
       "      <td>0.0</td>\n",
       "      <td>0.0</td>\n",
       "      <td>0.0</td>\n",
       "      <td>0.0</td>\n",
       "      <td>4.0</td>\n",
       "      <td>0.0</td>\n",
       "      <td>4.0</td>\n",
       "      <td>0.0</td>\n",
       "      <td>0.0</td>\n",
       "      <td>0.0</td>\n",
       "      <td>...</td>\n",
       "      <td>0.0</td>\n",
       "      <td>0.0</td>\n",
       "      <td>0.0</td>\n",
       "      <td>0.0</td>\n",
       "      <td>0.0</td>\n",
       "      <td>0.0</td>\n",
       "      <td>0.0</td>\n",
       "      <td>0.0</td>\n",
       "      <td>0.0</td>\n",
       "      <td>0.0</td>\n",
       "    </tr>\n",
       "    <tr>\n",
       "      <th>105</th>\n",
       "      <td>0.0</td>\n",
       "      <td>0.0</td>\n",
       "      <td>0.0</td>\n",
       "      <td>0.0</td>\n",
       "      <td>28.0</td>\n",
       "      <td>0.0</td>\n",
       "      <td>7.0</td>\n",
       "      <td>0.0</td>\n",
       "      <td>0.0</td>\n",
       "      <td>0.0</td>\n",
       "      <td>...</td>\n",
       "      <td>0.0</td>\n",
       "      <td>0.0</td>\n",
       "      <td>0.0</td>\n",
       "      <td>0.0</td>\n",
       "      <td>0.0</td>\n",
       "      <td>0.0</td>\n",
       "      <td>0.0</td>\n",
       "      <td>0.0</td>\n",
       "      <td>0.0</td>\n",
       "      <td>0.0</td>\n",
       "    </tr>\n",
       "    <tr>\n",
       "      <th>106</th>\n",
       "      <td>0.0</td>\n",
       "      <td>0.0</td>\n",
       "      <td>0.0</td>\n",
       "      <td>0.0</td>\n",
       "      <td>28.0</td>\n",
       "      <td>0.0</td>\n",
       "      <td>13.0</td>\n",
       "      <td>0.0</td>\n",
       "      <td>0.0</td>\n",
       "      <td>0.0</td>\n",
       "      <td>...</td>\n",
       "      <td>0.0</td>\n",
       "      <td>0.0</td>\n",
       "      <td>0.0</td>\n",
       "      <td>0.0</td>\n",
       "      <td>0.0</td>\n",
       "      <td>0.0</td>\n",
       "      <td>0.0</td>\n",
       "      <td>0.0</td>\n",
       "      <td>0.0</td>\n",
       "      <td>4.0</td>\n",
       "    </tr>\n",
       "    <tr>\n",
       "      <th>107</th>\n",
       "      <td>5.0</td>\n",
       "      <td>1.0</td>\n",
       "      <td>0.0</td>\n",
       "      <td>0.0</td>\n",
       "      <td>62.0</td>\n",
       "      <td>0.0</td>\n",
       "      <td>27.0</td>\n",
       "      <td>0.0</td>\n",
       "      <td>0.0</td>\n",
       "      <td>0.0</td>\n",
       "      <td>...</td>\n",
       "      <td>0.0</td>\n",
       "      <td>0.0</td>\n",
       "      <td>0.0</td>\n",
       "      <td>0.0</td>\n",
       "      <td>0.0</td>\n",
       "      <td>0.0</td>\n",
       "      <td>0.0</td>\n",
       "      <td>0.0</td>\n",
       "      <td>1.0</td>\n",
       "      <td>0.0</td>\n",
       "    </tr>\n",
       "    <tr>\n",
       "      <th>108</th>\n",
       "      <td>2.0</td>\n",
       "      <td>0.0</td>\n",
       "      <td>0.0</td>\n",
       "      <td>0.0</td>\n",
       "      <td>33.0</td>\n",
       "      <td>0.0</td>\n",
       "      <td>20.0</td>\n",
       "      <td>0.0</td>\n",
       "      <td>0.0</td>\n",
       "      <td>0.0</td>\n",
       "      <td>...</td>\n",
       "      <td>0.0</td>\n",
       "      <td>0.0</td>\n",
       "      <td>0.0</td>\n",
       "      <td>0.0</td>\n",
       "      <td>0.0</td>\n",
       "      <td>0.0</td>\n",
       "      <td>0.0</td>\n",
       "      <td>0.0</td>\n",
       "      <td>0.0</td>\n",
       "      <td>1.0</td>\n",
       "    </tr>\n",
       "    <tr>\n",
       "      <th>109</th>\n",
       "      <td>2.0</td>\n",
       "      <td>0.0</td>\n",
       "      <td>0.0</td>\n",
       "      <td>0.0</td>\n",
       "      <td>24.0</td>\n",
       "      <td>0.0</td>\n",
       "      <td>12.0</td>\n",
       "      <td>0.0</td>\n",
       "      <td>0.0</td>\n",
       "      <td>0.0</td>\n",
       "      <td>...</td>\n",
       "      <td>0.0</td>\n",
       "      <td>0.0</td>\n",
       "      <td>0.0</td>\n",
       "      <td>0.0</td>\n",
       "      <td>0.0</td>\n",
       "      <td>0.0</td>\n",
       "      <td>0.0</td>\n",
       "      <td>0.0</td>\n",
       "      <td>0.0</td>\n",
       "      <td>0.0</td>\n",
       "    </tr>\n",
       "    <tr>\n",
       "      <th>11</th>\n",
       "      <td>0.0</td>\n",
       "      <td>0.0</td>\n",
       "      <td>1.0</td>\n",
       "      <td>1.0</td>\n",
       "      <td>68.0</td>\n",
       "      <td>0.0</td>\n",
       "      <td>30.0</td>\n",
       "      <td>0.0</td>\n",
       "      <td>0.0</td>\n",
       "      <td>0.0</td>\n",
       "      <td>...</td>\n",
       "      <td>0.0</td>\n",
       "      <td>0.0</td>\n",
       "      <td>0.0</td>\n",
       "      <td>0.0</td>\n",
       "      <td>0.0</td>\n",
       "      <td>0.0</td>\n",
       "      <td>0.0</td>\n",
       "      <td>0.0</td>\n",
       "      <td>0.0</td>\n",
       "      <td>3.0</td>\n",
       "    </tr>\n",
       "    <tr>\n",
       "      <th>110</th>\n",
       "      <td>3.0</td>\n",
       "      <td>0.0</td>\n",
       "      <td>0.0</td>\n",
       "      <td>0.0</td>\n",
       "      <td>69.0</td>\n",
       "      <td>0.0</td>\n",
       "      <td>41.0</td>\n",
       "      <td>0.0</td>\n",
       "      <td>0.0</td>\n",
       "      <td>0.0</td>\n",
       "      <td>...</td>\n",
       "      <td>0.0</td>\n",
       "      <td>0.0</td>\n",
       "      <td>0.0</td>\n",
       "      <td>0.0</td>\n",
       "      <td>0.0</td>\n",
       "      <td>0.0</td>\n",
       "      <td>0.0</td>\n",
       "      <td>0.0</td>\n",
       "      <td>0.0</td>\n",
       "      <td>2.0</td>\n",
       "    </tr>\n",
       "    <tr>\n",
       "      <th>111</th>\n",
       "      <td>1.0</td>\n",
       "      <td>0.0</td>\n",
       "      <td>0.0</td>\n",
       "      <td>0.0</td>\n",
       "      <td>22.0</td>\n",
       "      <td>0.0</td>\n",
       "      <td>14.0</td>\n",
       "      <td>0.0</td>\n",
       "      <td>0.0</td>\n",
       "      <td>0.0</td>\n",
       "      <td>...</td>\n",
       "      <td>0.0</td>\n",
       "      <td>0.0</td>\n",
       "      <td>0.0</td>\n",
       "      <td>0.0</td>\n",
       "      <td>0.0</td>\n",
       "      <td>0.0</td>\n",
       "      <td>0.0</td>\n",
       "      <td>0.0</td>\n",
       "      <td>0.0</td>\n",
       "      <td>0.0</td>\n",
       "    </tr>\n",
       "    <tr>\n",
       "      <th>112</th>\n",
       "      <td>6.0</td>\n",
       "      <td>0.0</td>\n",
       "      <td>0.0</td>\n",
       "      <td>0.0</td>\n",
       "      <td>28.0</td>\n",
       "      <td>0.0</td>\n",
       "      <td>26.0</td>\n",
       "      <td>0.0</td>\n",
       "      <td>0.0</td>\n",
       "      <td>0.0</td>\n",
       "      <td>...</td>\n",
       "      <td>0.0</td>\n",
       "      <td>0.0</td>\n",
       "      <td>0.0</td>\n",
       "      <td>0.0</td>\n",
       "      <td>0.0</td>\n",
       "      <td>0.0</td>\n",
       "      <td>0.0</td>\n",
       "      <td>0.0</td>\n",
       "      <td>0.0</td>\n",
       "      <td>3.0</td>\n",
       "    </tr>\n",
       "    <tr>\n",
       "      <th>113</th>\n",
       "      <td>7.0</td>\n",
       "      <td>0.0</td>\n",
       "      <td>0.0</td>\n",
       "      <td>0.0</td>\n",
       "      <td>35.0</td>\n",
       "      <td>0.0</td>\n",
       "      <td>16.0</td>\n",
       "      <td>0.0</td>\n",
       "      <td>0.0</td>\n",
       "      <td>0.0</td>\n",
       "      <td>...</td>\n",
       "      <td>0.0</td>\n",
       "      <td>0.0</td>\n",
       "      <td>0.0</td>\n",
       "      <td>0.0</td>\n",
       "      <td>0.0</td>\n",
       "      <td>0.0</td>\n",
       "      <td>0.0</td>\n",
       "      <td>0.0</td>\n",
       "      <td>0.0</td>\n",
       "      <td>0.0</td>\n",
       "    </tr>\n",
       "    <tr>\n",
       "      <th>114</th>\n",
       "      <td>0.0</td>\n",
       "      <td>0.0</td>\n",
       "      <td>0.0</td>\n",
       "      <td>0.0</td>\n",
       "      <td>6.0</td>\n",
       "      <td>0.0</td>\n",
       "      <td>10.0</td>\n",
       "      <td>0.0</td>\n",
       "      <td>0.0</td>\n",
       "      <td>0.0</td>\n",
       "      <td>...</td>\n",
       "      <td>0.0</td>\n",
       "      <td>0.0</td>\n",
       "      <td>0.0</td>\n",
       "      <td>0.0</td>\n",
       "      <td>0.0</td>\n",
       "      <td>0.0</td>\n",
       "      <td>0.0</td>\n",
       "      <td>0.0</td>\n",
       "      <td>0.0</td>\n",
       "      <td>0.0</td>\n",
       "    </tr>\n",
       "    <tr>\n",
       "      <th>115</th>\n",
       "      <td>4.0</td>\n",
       "      <td>0.0</td>\n",
       "      <td>0.0</td>\n",
       "      <td>0.0</td>\n",
       "      <td>25.0</td>\n",
       "      <td>0.0</td>\n",
       "      <td>23.0</td>\n",
       "      <td>0.0</td>\n",
       "      <td>0.0</td>\n",
       "      <td>0.0</td>\n",
       "      <td>...</td>\n",
       "      <td>0.0</td>\n",
       "      <td>0.0</td>\n",
       "      <td>0.0</td>\n",
       "      <td>0.0</td>\n",
       "      <td>0.0</td>\n",
       "      <td>0.0</td>\n",
       "      <td>0.0</td>\n",
       "      <td>0.0</td>\n",
       "      <td>0.0</td>\n",
       "      <td>1.0</td>\n",
       "    </tr>\n",
       "    <tr>\n",
       "      <th>116</th>\n",
       "      <td>2.0</td>\n",
       "      <td>0.0</td>\n",
       "      <td>0.0</td>\n",
       "      <td>0.0</td>\n",
       "      <td>11.0</td>\n",
       "      <td>0.0</td>\n",
       "      <td>6.0</td>\n",
       "      <td>0.0</td>\n",
       "      <td>0.0</td>\n",
       "      <td>0.0</td>\n",
       "      <td>...</td>\n",
       "      <td>0.0</td>\n",
       "      <td>0.0</td>\n",
       "      <td>0.0</td>\n",
       "      <td>0.0</td>\n",
       "      <td>0.0</td>\n",
       "      <td>0.0</td>\n",
       "      <td>0.0</td>\n",
       "      <td>0.0</td>\n",
       "      <td>0.0</td>\n",
       "      <td>3.0</td>\n",
       "    </tr>\n",
       "    <tr>\n",
       "      <th>117</th>\n",
       "      <td>0.0</td>\n",
       "      <td>0.0</td>\n",
       "      <td>0.0</td>\n",
       "      <td>0.0</td>\n",
       "      <td>51.0</td>\n",
       "      <td>0.0</td>\n",
       "      <td>27.0</td>\n",
       "      <td>0.0</td>\n",
       "      <td>0.0</td>\n",
       "      <td>0.0</td>\n",
       "      <td>...</td>\n",
       "      <td>0.0</td>\n",
       "      <td>0.0</td>\n",
       "      <td>0.0</td>\n",
       "      <td>0.0</td>\n",
       "      <td>0.0</td>\n",
       "      <td>0.0</td>\n",
       "      <td>0.0</td>\n",
       "      <td>0.0</td>\n",
       "      <td>0.0</td>\n",
       "      <td>0.0</td>\n",
       "    </tr>\n",
       "    <tr>\n",
       "      <th>...</th>\n",
       "      <td>...</td>\n",
       "      <td>...</td>\n",
       "      <td>...</td>\n",
       "      <td>...</td>\n",
       "      <td>...</td>\n",
       "      <td>...</td>\n",
       "      <td>...</td>\n",
       "      <td>...</td>\n",
       "      <td>...</td>\n",
       "      <td>...</td>\n",
       "      <td>...</td>\n",
       "      <td>...</td>\n",
       "      <td>...</td>\n",
       "      <td>...</td>\n",
       "      <td>...</td>\n",
       "      <td>...</td>\n",
       "      <td>...</td>\n",
       "      <td>...</td>\n",
       "      <td>...</td>\n",
       "      <td>...</td>\n",
       "      <td>...</td>\n",
       "    </tr>\n",
       "    <tr>\n",
       "      <th>ét</th>\n",
       "      <td>11.0</td>\n",
       "      <td>0.0</td>\n",
       "      <td>0.0</td>\n",
       "      <td>0.0</td>\n",
       "      <td>326.0</td>\n",
       "      <td>0.0</td>\n",
       "      <td>159.0</td>\n",
       "      <td>0.0</td>\n",
       "      <td>0.0</td>\n",
       "      <td>0.0</td>\n",
       "      <td>...</td>\n",
       "      <td>1.0</td>\n",
       "      <td>0.0</td>\n",
       "      <td>0.0</td>\n",
       "      <td>0.0</td>\n",
       "      <td>0.0</td>\n",
       "      <td>0.0</td>\n",
       "      <td>0.0</td>\n",
       "      <td>0.0</td>\n",
       "      <td>0.0</td>\n",
       "      <td>8.0</td>\n",
       "    </tr>\n",
       "    <tr>\n",
       "      <th>øde</th>\n",
       "      <td>6.0</td>\n",
       "      <td>0.0</td>\n",
       "      <td>0.0</td>\n",
       "      <td>0.0</td>\n",
       "      <td>78.0</td>\n",
       "      <td>0.0</td>\n",
       "      <td>40.0</td>\n",
       "      <td>0.0</td>\n",
       "      <td>0.0</td>\n",
       "      <td>0.0</td>\n",
       "      <td>...</td>\n",
       "      <td>0.0</td>\n",
       "      <td>0.0</td>\n",
       "      <td>0.0</td>\n",
       "      <td>0.0</td>\n",
       "      <td>0.0</td>\n",
       "      <td>0.0</td>\n",
       "      <td>0.0</td>\n",
       "      <td>0.0</td>\n",
       "      <td>0.0</td>\n",
       "      <td>0.0</td>\n",
       "    </tr>\n",
       "    <tr>\n",
       "      <th>ødelægge</th>\n",
       "      <td>2.0</td>\n",
       "      <td>0.0</td>\n",
       "      <td>0.0</td>\n",
       "      <td>0.0</td>\n",
       "      <td>28.0</td>\n",
       "      <td>0.0</td>\n",
       "      <td>12.0</td>\n",
       "      <td>0.0</td>\n",
       "      <td>0.0</td>\n",
       "      <td>0.0</td>\n",
       "      <td>...</td>\n",
       "      <td>0.0</td>\n",
       "      <td>0.0</td>\n",
       "      <td>0.0</td>\n",
       "      <td>0.0</td>\n",
       "      <td>0.0</td>\n",
       "      <td>0.0</td>\n",
       "      <td>0.0</td>\n",
       "      <td>0.0</td>\n",
       "      <td>0.0</td>\n",
       "      <td>0.0</td>\n",
       "    </tr>\n",
       "    <tr>\n",
       "      <th>ødelæggende</th>\n",
       "      <td>0.0</td>\n",
       "      <td>0.0</td>\n",
       "      <td>0.0</td>\n",
       "      <td>0.0</td>\n",
       "      <td>22.0</td>\n",
       "      <td>0.0</td>\n",
       "      <td>13.0</td>\n",
       "      <td>0.0</td>\n",
       "      <td>0.0</td>\n",
       "      <td>0.0</td>\n",
       "      <td>...</td>\n",
       "      <td>0.0</td>\n",
       "      <td>0.0</td>\n",
       "      <td>0.0</td>\n",
       "      <td>0.0</td>\n",
       "      <td>0.0</td>\n",
       "      <td>0.0</td>\n",
       "      <td>0.0</td>\n",
       "      <td>0.0</td>\n",
       "      <td>0.0</td>\n",
       "      <td>1.0</td>\n",
       "    </tr>\n",
       "    <tr>\n",
       "      <th>øieblikkelig</th>\n",
       "      <td>2.0</td>\n",
       "      <td>0.0</td>\n",
       "      <td>0.0</td>\n",
       "      <td>0.0</td>\n",
       "      <td>52.0</td>\n",
       "      <td>0.0</td>\n",
       "      <td>32.0</td>\n",
       "      <td>0.0</td>\n",
       "      <td>0.0</td>\n",
       "      <td>0.0</td>\n",
       "      <td>...</td>\n",
       "      <td>0.0</td>\n",
       "      <td>0.0</td>\n",
       "      <td>0.0</td>\n",
       "      <td>1.0</td>\n",
       "      <td>0.0</td>\n",
       "      <td>0.0</td>\n",
       "      <td>0.0</td>\n",
       "      <td>0.0</td>\n",
       "      <td>0.0</td>\n",
       "      <td>5.0</td>\n",
       "    </tr>\n",
       "    <tr>\n",
       "      <th>øieblikkelige</th>\n",
       "      <td>0.0</td>\n",
       "      <td>0.0</td>\n",
       "      <td>0.0</td>\n",
       "      <td>0.0</td>\n",
       "      <td>34.0</td>\n",
       "      <td>0.0</td>\n",
       "      <td>19.0</td>\n",
       "      <td>0.0</td>\n",
       "      <td>0.0</td>\n",
       "      <td>0.0</td>\n",
       "      <td>...</td>\n",
       "      <td>0.0</td>\n",
       "      <td>0.0</td>\n",
       "      <td>0.0</td>\n",
       "      <td>0.0</td>\n",
       "      <td>0.0</td>\n",
       "      <td>0.0</td>\n",
       "      <td>0.0</td>\n",
       "      <td>1.0</td>\n",
       "      <td>0.0</td>\n",
       "      <td>0.0</td>\n",
       "    </tr>\n",
       "    <tr>\n",
       "      <th>øieblikkeligt</th>\n",
       "      <td>0.0</td>\n",
       "      <td>0.0</td>\n",
       "      <td>0.0</td>\n",
       "      <td>0.0</td>\n",
       "      <td>11.0</td>\n",
       "      <td>0.0</td>\n",
       "      <td>5.0</td>\n",
       "      <td>0.0</td>\n",
       "      <td>0.0</td>\n",
       "      <td>0.0</td>\n",
       "      <td>...</td>\n",
       "      <td>0.0</td>\n",
       "      <td>0.0</td>\n",
       "      <td>0.0</td>\n",
       "      <td>0.0</td>\n",
       "      <td>0.0</td>\n",
       "      <td>0.0</td>\n",
       "      <td>0.0</td>\n",
       "      <td>0.0</td>\n",
       "      <td>0.0</td>\n",
       "      <td>0.0</td>\n",
       "    </tr>\n",
       "    <tr>\n",
       "      <th>øiensynlig</th>\n",
       "      <td>0.0</td>\n",
       "      <td>0.0</td>\n",
       "      <td>1.0</td>\n",
       "      <td>1.0</td>\n",
       "      <td>55.0</td>\n",
       "      <td>0.0</td>\n",
       "      <td>30.0</td>\n",
       "      <td>0.0</td>\n",
       "      <td>0.0</td>\n",
       "      <td>0.0</td>\n",
       "      <td>...</td>\n",
       "      <td>0.0</td>\n",
       "      <td>0.0</td>\n",
       "      <td>0.0</td>\n",
       "      <td>0.0</td>\n",
       "      <td>0.0</td>\n",
       "      <td>0.0</td>\n",
       "      <td>0.0</td>\n",
       "      <td>0.0</td>\n",
       "      <td>0.0</td>\n",
       "      <td>2.0</td>\n",
       "    </tr>\n",
       "    <tr>\n",
       "      <th>øiner</th>\n",
       "      <td>0.0</td>\n",
       "      <td>0.0</td>\n",
       "      <td>0.0</td>\n",
       "      <td>0.0</td>\n",
       "      <td>8.0</td>\n",
       "      <td>0.0</td>\n",
       "      <td>4.0</td>\n",
       "      <td>0.0</td>\n",
       "      <td>0.0</td>\n",
       "      <td>0.0</td>\n",
       "      <td>...</td>\n",
       "      <td>0.0</td>\n",
       "      <td>0.0</td>\n",
       "      <td>0.0</td>\n",
       "      <td>0.0</td>\n",
       "      <td>0.0</td>\n",
       "      <td>0.0</td>\n",
       "      <td>0.0</td>\n",
       "      <td>0.0</td>\n",
       "      <td>0.0</td>\n",
       "      <td>0.0</td>\n",
       "    </tr>\n",
       "    <tr>\n",
       "      <th>øm</th>\n",
       "      <td>3.0</td>\n",
       "      <td>0.0</td>\n",
       "      <td>0.0</td>\n",
       "      <td>0.0</td>\n",
       "      <td>165.0</td>\n",
       "      <td>0.0</td>\n",
       "      <td>87.0</td>\n",
       "      <td>0.0</td>\n",
       "      <td>0.0</td>\n",
       "      <td>0.0</td>\n",
       "      <td>...</td>\n",
       "      <td>0.0</td>\n",
       "      <td>0.0</td>\n",
       "      <td>0.0</td>\n",
       "      <td>1.0</td>\n",
       "      <td>0.0</td>\n",
       "      <td>0.0</td>\n",
       "      <td>0.0</td>\n",
       "      <td>0.0</td>\n",
       "      <td>0.0</td>\n",
       "      <td>5.0</td>\n",
       "    </tr>\n",
       "    <tr>\n",
       "      <th>ømme</th>\n",
       "      <td>9.0</td>\n",
       "      <td>0.0</td>\n",
       "      <td>0.0</td>\n",
       "      <td>0.0</td>\n",
       "      <td>129.0</td>\n",
       "      <td>0.0</td>\n",
       "      <td>76.0</td>\n",
       "      <td>0.0</td>\n",
       "      <td>0.0</td>\n",
       "      <td>0.0</td>\n",
       "      <td>...</td>\n",
       "      <td>0.0</td>\n",
       "      <td>0.0</td>\n",
       "      <td>0.0</td>\n",
       "      <td>0.0</td>\n",
       "      <td>0.0</td>\n",
       "      <td>0.0</td>\n",
       "      <td>0.0</td>\n",
       "      <td>0.0</td>\n",
       "      <td>0.0</td>\n",
       "      <td>10.0</td>\n",
       "    </tr>\n",
       "    <tr>\n",
       "      <th>ømmeste</th>\n",
       "      <td>1.0</td>\n",
       "      <td>0.0</td>\n",
       "      <td>0.0</td>\n",
       "      <td>0.0</td>\n",
       "      <td>24.0</td>\n",
       "      <td>0.0</td>\n",
       "      <td>19.0</td>\n",
       "      <td>0.0</td>\n",
       "      <td>0.0</td>\n",
       "      <td>0.0</td>\n",
       "      <td>...</td>\n",
       "      <td>0.0</td>\n",
       "      <td>0.0</td>\n",
       "      <td>0.0</td>\n",
       "      <td>0.0</td>\n",
       "      <td>0.0</td>\n",
       "      <td>0.0</td>\n",
       "      <td>0.0</td>\n",
       "      <td>0.0</td>\n",
       "      <td>0.0</td>\n",
       "      <td>0.0</td>\n",
       "    </tr>\n",
       "    <tr>\n",
       "      <th>ømt</th>\n",
       "      <td>2.0</td>\n",
       "      <td>0.0</td>\n",
       "      <td>0.0</td>\n",
       "      <td>0.0</td>\n",
       "      <td>63.0</td>\n",
       "      <td>0.0</td>\n",
       "      <td>49.0</td>\n",
       "      <td>0.0</td>\n",
       "      <td>0.0</td>\n",
       "      <td>0.0</td>\n",
       "      <td>...</td>\n",
       "      <td>0.0</td>\n",
       "      <td>0.0</td>\n",
       "      <td>0.0</td>\n",
       "      <td>0.0</td>\n",
       "      <td>0.0</td>\n",
       "      <td>0.0</td>\n",
       "      <td>0.0</td>\n",
       "      <td>0.0</td>\n",
       "      <td>0.0</td>\n",
       "      <td>1.0</td>\n",
       "    </tr>\n",
       "    <tr>\n",
       "      <th>ønske</th>\n",
       "      <td>9.0</td>\n",
       "      <td>0.0</td>\n",
       "      <td>0.0</td>\n",
       "      <td>0.0</td>\n",
       "      <td>38.0</td>\n",
       "      <td>0.0</td>\n",
       "      <td>27.0</td>\n",
       "      <td>0.0</td>\n",
       "      <td>0.0</td>\n",
       "      <td>0.0</td>\n",
       "      <td>...</td>\n",
       "      <td>0.0</td>\n",
       "      <td>0.0</td>\n",
       "      <td>0.0</td>\n",
       "      <td>0.0</td>\n",
       "      <td>0.0</td>\n",
       "      <td>0.0</td>\n",
       "      <td>0.0</td>\n",
       "      <td>0.0</td>\n",
       "      <td>0.0</td>\n",
       "      <td>1.0</td>\n",
       "    </tr>\n",
       "    <tr>\n",
       "      <th>ønskede</th>\n",
       "      <td>12.0</td>\n",
       "      <td>3.0</td>\n",
       "      <td>0.0</td>\n",
       "      <td>0.0</td>\n",
       "      <td>137.0</td>\n",
       "      <td>0.0</td>\n",
       "      <td>72.0</td>\n",
       "      <td>0.0</td>\n",
       "      <td>0.0</td>\n",
       "      <td>0.0</td>\n",
       "      <td>...</td>\n",
       "      <td>0.0</td>\n",
       "      <td>0.0</td>\n",
       "      <td>0.0</td>\n",
       "      <td>0.0</td>\n",
       "      <td>0.0</td>\n",
       "      <td>0.0</td>\n",
       "      <td>0.0</td>\n",
       "      <td>0.0</td>\n",
       "      <td>0.0</td>\n",
       "      <td>2.0</td>\n",
       "    </tr>\n",
       "    <tr>\n",
       "      <th>ønsker</th>\n",
       "      <td>6.0</td>\n",
       "      <td>0.0</td>\n",
       "      <td>0.0</td>\n",
       "      <td>0.0</td>\n",
       "      <td>53.0</td>\n",
       "      <td>0.0</td>\n",
       "      <td>58.0</td>\n",
       "      <td>0.0</td>\n",
       "      <td>0.0</td>\n",
       "      <td>0.0</td>\n",
       "      <td>...</td>\n",
       "      <td>0.0</td>\n",
       "      <td>0.0</td>\n",
       "      <td>0.0</td>\n",
       "      <td>0.0</td>\n",
       "      <td>0.0</td>\n",
       "      <td>0.0</td>\n",
       "      <td>0.0</td>\n",
       "      <td>0.0</td>\n",
       "      <td>0.0</td>\n",
       "      <td>2.0</td>\n",
       "    </tr>\n",
       "    <tr>\n",
       "      <th>ønsket</th>\n",
       "      <td>0.0</td>\n",
       "      <td>0.0</td>\n",
       "      <td>0.0</td>\n",
       "      <td>0.0</td>\n",
       "      <td>21.0</td>\n",
       "      <td>0.0</td>\n",
       "      <td>16.0</td>\n",
       "      <td>0.0</td>\n",
       "      <td>0.0</td>\n",
       "      <td>0.0</td>\n",
       "      <td>...</td>\n",
       "      <td>0.0</td>\n",
       "      <td>0.0</td>\n",
       "      <td>0.0</td>\n",
       "      <td>0.0</td>\n",
       "      <td>0.0</td>\n",
       "      <td>0.0</td>\n",
       "      <td>0.0</td>\n",
       "      <td>0.0</td>\n",
       "      <td>0.0</td>\n",
       "      <td>0.0</td>\n",
       "    </tr>\n",
       "    <tr>\n",
       "      <th>ør</th>\n",
       "      <td>0.0</td>\n",
       "      <td>0.0</td>\n",
       "      <td>0.0</td>\n",
       "      <td>0.0</td>\n",
       "      <td>37.0</td>\n",
       "      <td>0.0</td>\n",
       "      <td>13.0</td>\n",
       "      <td>0.0</td>\n",
       "      <td>0.0</td>\n",
       "      <td>0.0</td>\n",
       "      <td>...</td>\n",
       "      <td>0.0</td>\n",
       "      <td>0.0</td>\n",
       "      <td>0.0</td>\n",
       "      <td>0.0</td>\n",
       "      <td>0.0</td>\n",
       "      <td>0.0</td>\n",
       "      <td>0.0</td>\n",
       "      <td>0.0</td>\n",
       "      <td>0.0</td>\n",
       "      <td>0.0</td>\n",
       "    </tr>\n",
       "    <tr>\n",
       "      <th>øreskrigende</th>\n",
       "      <td>0.0</td>\n",
       "      <td>0.0</td>\n",
       "      <td>0.0</td>\n",
       "      <td>0.0</td>\n",
       "      <td>12.0</td>\n",
       "      <td>0.0</td>\n",
       "      <td>4.0</td>\n",
       "      <td>0.0</td>\n",
       "      <td>0.0</td>\n",
       "      <td>0.0</td>\n",
       "      <td>...</td>\n",
       "      <td>0.0</td>\n",
       "      <td>0.0</td>\n",
       "      <td>0.0</td>\n",
       "      <td>0.0</td>\n",
       "      <td>0.0</td>\n",
       "      <td>0.0</td>\n",
       "      <td>0.0</td>\n",
       "      <td>0.0</td>\n",
       "      <td>0.0</td>\n",
       "      <td>0.0</td>\n",
       "    </tr>\n",
       "    <tr>\n",
       "      <th>ørkesløst</th>\n",
       "      <td>0.0</td>\n",
       "      <td>0.0</td>\n",
       "      <td>0.0</td>\n",
       "      <td>0.0</td>\n",
       "      <td>42.0</td>\n",
       "      <td>0.0</td>\n",
       "      <td>8.0</td>\n",
       "      <td>0.0</td>\n",
       "      <td>0.0</td>\n",
       "      <td>0.0</td>\n",
       "      <td>...</td>\n",
       "      <td>0.0</td>\n",
       "      <td>0.0</td>\n",
       "      <td>0.0</td>\n",
       "      <td>0.0</td>\n",
       "      <td>0.0</td>\n",
       "      <td>0.0</td>\n",
       "      <td>0.0</td>\n",
       "      <td>0.0</td>\n",
       "      <td>0.0</td>\n",
       "      <td>2.0</td>\n",
       "    </tr>\n",
       "    <tr>\n",
       "      <th>øser</th>\n",
       "      <td>5.0</td>\n",
       "      <td>0.0</td>\n",
       "      <td>0.0</td>\n",
       "      <td>0.0</td>\n",
       "      <td>52.0</td>\n",
       "      <td>0.0</td>\n",
       "      <td>12.0</td>\n",
       "      <td>0.0</td>\n",
       "      <td>0.0</td>\n",
       "      <td>0.0</td>\n",
       "      <td>...</td>\n",
       "      <td>1.0</td>\n",
       "      <td>0.0</td>\n",
       "      <td>0.0</td>\n",
       "      <td>0.0</td>\n",
       "      <td>0.0</td>\n",
       "      <td>0.0</td>\n",
       "      <td>0.0</td>\n",
       "      <td>0.0</td>\n",
       "      <td>0.0</td>\n",
       "      <td>0.0</td>\n",
       "    </tr>\n",
       "    <tr>\n",
       "      <th>østlige</th>\n",
       "      <td>0.0</td>\n",
       "      <td>0.0</td>\n",
       "      <td>0.0</td>\n",
       "      <td>0.0</td>\n",
       "      <td>11.0</td>\n",
       "      <td>0.0</td>\n",
       "      <td>5.0</td>\n",
       "      <td>0.0</td>\n",
       "      <td>0.0</td>\n",
       "      <td>0.0</td>\n",
       "      <td>...</td>\n",
       "      <td>0.0</td>\n",
       "      <td>1.0</td>\n",
       "      <td>0.0</td>\n",
       "      <td>0.0</td>\n",
       "      <td>0.0</td>\n",
       "      <td>0.0</td>\n",
       "      <td>0.0</td>\n",
       "      <td>0.0</td>\n",
       "      <td>1.0</td>\n",
       "      <td>0.0</td>\n",
       "    </tr>\n",
       "    <tr>\n",
       "      <th>øve</th>\n",
       "      <td>2.0</td>\n",
       "      <td>0.0</td>\n",
       "      <td>0.0</td>\n",
       "      <td>0.0</td>\n",
       "      <td>46.0</td>\n",
       "      <td>0.0</td>\n",
       "      <td>18.0</td>\n",
       "      <td>0.0</td>\n",
       "      <td>0.0</td>\n",
       "      <td>0.0</td>\n",
       "      <td>...</td>\n",
       "      <td>0.0</td>\n",
       "      <td>0.0</td>\n",
       "      <td>4.0</td>\n",
       "      <td>0.0</td>\n",
       "      <td>0.0</td>\n",
       "      <td>0.0</td>\n",
       "      <td>0.0</td>\n",
       "      <td>0.0</td>\n",
       "      <td>0.0</td>\n",
       "      <td>2.0</td>\n",
       "    </tr>\n",
       "    <tr>\n",
       "      <th>øvede</th>\n",
       "      <td>2.0</td>\n",
       "      <td>0.0</td>\n",
       "      <td>1.0</td>\n",
       "      <td>1.0</td>\n",
       "      <td>86.0</td>\n",
       "      <td>0.0</td>\n",
       "      <td>54.0</td>\n",
       "      <td>0.0</td>\n",
       "      <td>0.0</td>\n",
       "      <td>0.0</td>\n",
       "      <td>...</td>\n",
       "      <td>0.0</td>\n",
       "      <td>0.0</td>\n",
       "      <td>0.0</td>\n",
       "      <td>6.0</td>\n",
       "      <td>0.0</td>\n",
       "      <td>0.0</td>\n",
       "      <td>0.0</td>\n",
       "      <td>0.0</td>\n",
       "      <td>0.0</td>\n",
       "      <td>4.0</td>\n",
       "    </tr>\n",
       "    <tr>\n",
       "      <th>øvedes</th>\n",
       "      <td>1.0</td>\n",
       "      <td>0.0</td>\n",
       "      <td>0.0</td>\n",
       "      <td>0.0</td>\n",
       "      <td>35.0</td>\n",
       "      <td>0.0</td>\n",
       "      <td>10.0</td>\n",
       "      <td>0.0</td>\n",
       "      <td>0.0</td>\n",
       "      <td>0.0</td>\n",
       "      <td>...</td>\n",
       "      <td>0.0</td>\n",
       "      <td>0.0</td>\n",
       "      <td>0.0</td>\n",
       "      <td>0.0</td>\n",
       "      <td>1.0</td>\n",
       "      <td>0.0</td>\n",
       "      <td>0.0</td>\n",
       "      <td>0.0</td>\n",
       "      <td>0.0</td>\n",
       "      <td>0.0</td>\n",
       "    </tr>\n",
       "    <tr>\n",
       "      <th>øver</th>\n",
       "      <td>1.0</td>\n",
       "      <td>0.0</td>\n",
       "      <td>0.0</td>\n",
       "      <td>0.0</td>\n",
       "      <td>36.0</td>\n",
       "      <td>0.0</td>\n",
       "      <td>14.0</td>\n",
       "      <td>0.0</td>\n",
       "      <td>0.0</td>\n",
       "      <td>0.0</td>\n",
       "      <td>...</td>\n",
       "      <td>0.0</td>\n",
       "      <td>0.0</td>\n",
       "      <td>0.0</td>\n",
       "      <td>0.0</td>\n",
       "      <td>0.0</td>\n",
       "      <td>4.0</td>\n",
       "      <td>0.0</td>\n",
       "      <td>0.0</td>\n",
       "      <td>0.0</td>\n",
       "      <td>1.0</td>\n",
       "    </tr>\n",
       "    <tr>\n",
       "      <th>øves</th>\n",
       "      <td>1.0</td>\n",
       "      <td>0.0</td>\n",
       "      <td>0.0</td>\n",
       "      <td>0.0</td>\n",
       "      <td>21.0</td>\n",
       "      <td>0.0</td>\n",
       "      <td>23.0</td>\n",
       "      <td>0.0</td>\n",
       "      <td>0.0</td>\n",
       "      <td>0.0</td>\n",
       "      <td>...</td>\n",
       "      <td>0.0</td>\n",
       "      <td>0.0</td>\n",
       "      <td>0.0</td>\n",
       "      <td>0.0</td>\n",
       "      <td>0.0</td>\n",
       "      <td>0.0</td>\n",
       "      <td>1.0</td>\n",
       "      <td>0.0</td>\n",
       "      <td>0.0</td>\n",
       "      <td>0.0</td>\n",
       "    </tr>\n",
       "    <tr>\n",
       "      <th>øvet</th>\n",
       "      <td>1.0</td>\n",
       "      <td>0.0</td>\n",
       "      <td>0.0</td>\n",
       "      <td>0.0</td>\n",
       "      <td>85.0</td>\n",
       "      <td>0.0</td>\n",
       "      <td>48.0</td>\n",
       "      <td>0.0</td>\n",
       "      <td>0.0</td>\n",
       "      <td>0.0</td>\n",
       "      <td>...</td>\n",
       "      <td>0.0</td>\n",
       "      <td>0.0</td>\n",
       "      <td>0.0</td>\n",
       "      <td>0.0</td>\n",
       "      <td>0.0</td>\n",
       "      <td>0.0</td>\n",
       "      <td>0.0</td>\n",
       "      <td>5.0</td>\n",
       "      <td>0.0</td>\n",
       "      <td>0.0</td>\n",
       "    </tr>\n",
       "    <tr>\n",
       "      <th>øvrige</th>\n",
       "      <td>2.0</td>\n",
       "      <td>0.0</td>\n",
       "      <td>0.0</td>\n",
       "      <td>0.0</td>\n",
       "      <td>75.0</td>\n",
       "      <td>0.0</td>\n",
       "      <td>35.0</td>\n",
       "      <td>0.0</td>\n",
       "      <td>0.0</td>\n",
       "      <td>0.0</td>\n",
       "      <td>...</td>\n",
       "      <td>0.0</td>\n",
       "      <td>1.0</td>\n",
       "      <td>0.0</td>\n",
       "      <td>0.0</td>\n",
       "      <td>0.0</td>\n",
       "      <td>0.0</td>\n",
       "      <td>0.0</td>\n",
       "      <td>0.0</td>\n",
       "      <td>5.0</td>\n",
       "      <td>1.0</td>\n",
       "    </tr>\n",
       "    <tr>\n",
       "      <th>–</th>\n",
       "      <td>535.0</td>\n",
       "      <td>7.0</td>\n",
       "      <td>1.0</td>\n",
       "      <td>1.0</td>\n",
       "      <td>6245.0</td>\n",
       "      <td>0.0</td>\n",
       "      <td>3692.0</td>\n",
       "      <td>0.0</td>\n",
       "      <td>0.0</td>\n",
       "      <td>0.0</td>\n",
       "      <td>...</td>\n",
       "      <td>0.0</td>\n",
       "      <td>0.0</td>\n",
       "      <td>2.0</td>\n",
       "      <td>4.0</td>\n",
       "      <td>0.0</td>\n",
       "      <td>1.0</td>\n",
       "      <td>0.0</td>\n",
       "      <td>0.0</td>\n",
       "      <td>1.0</td>\n",
       "      <td>1229.0</td>\n",
       "    </tr>\n",
       "  </tbody>\n",
       "</table>\n",
       "<p>14764 rows × 14764 columns</p>\n",
       "</div>"
      ],
      "text/plain": [
       "                     !      '     (     )         ,     -        .    /   05  \\\n",
       "!               2448.0   30.0   0.0   0.0   10459.0   0.0   8833.0  0.0  0.0   \n",
       "'                 30.0   27.0   0.0   0.0     260.0   0.0    136.0  0.0  0.0   \n",
       "(                  0.0    0.0  23.0  23.0      85.0   1.0     50.0  4.0  0.0   \n",
       ")                  0.0    0.0  23.0  23.0      85.0   1.0     50.0  4.0  0.0   \n",
       ",              10459.0  260.0  85.0  85.0  178616.0   2.0  96929.0  2.0  0.0   \n",
       "-                  0.0    0.0   1.0   1.0       2.0  17.0      4.0  1.0  4.0   \n",
       ".               8833.0  136.0  50.0  50.0   96929.0   4.0  99898.0  9.0  0.0   \n",
       "/                  0.0    0.0   4.0   4.0       2.0   1.0      9.0  4.0  0.0   \n",
       "05                 0.0    0.0   0.0   0.0       0.0   4.0      0.0  0.0  1.0   \n",
       "1                  0.0    0.0   0.0   0.0       4.0   0.0      1.0  0.0  0.0   \n",
       "10                 0.0    0.0   0.0   0.0      19.0   0.0      7.0  0.0  0.0   \n",
       "100                3.0    0.0   0.0   0.0       2.0   0.0      4.0  0.0  0.0   \n",
       "101                3.0    0.0   0.0   0.0       9.0   0.0      8.0  0.0  0.0   \n",
       "102                0.0    0.0   0.0   0.0       9.0   0.0     11.0  0.0  0.0   \n",
       "103                1.0    0.0   0.0   0.0      31.0   0.0     21.0  0.0  0.0   \n",
       "104                0.0    0.0   0.0   0.0       4.0   0.0      4.0  0.0  0.0   \n",
       "105                0.0    0.0   0.0   0.0      28.0   0.0      7.0  0.0  0.0   \n",
       "106                0.0    0.0   0.0   0.0      28.0   0.0     13.0  0.0  0.0   \n",
       "107                5.0    1.0   0.0   0.0      62.0   0.0     27.0  0.0  0.0   \n",
       "108                2.0    0.0   0.0   0.0      33.0   0.0     20.0  0.0  0.0   \n",
       "109                2.0    0.0   0.0   0.0      24.0   0.0     12.0  0.0  0.0   \n",
       "11                 0.0    0.0   1.0   1.0      68.0   0.0     30.0  0.0  0.0   \n",
       "110                3.0    0.0   0.0   0.0      69.0   0.0     41.0  0.0  0.0   \n",
       "111                1.0    0.0   0.0   0.0      22.0   0.0     14.0  0.0  0.0   \n",
       "112                6.0    0.0   0.0   0.0      28.0   0.0     26.0  0.0  0.0   \n",
       "113                7.0    0.0   0.0   0.0      35.0   0.0     16.0  0.0  0.0   \n",
       "114                0.0    0.0   0.0   0.0       6.0   0.0     10.0  0.0  0.0   \n",
       "115                4.0    0.0   0.0   0.0      25.0   0.0     23.0  0.0  0.0   \n",
       "116                2.0    0.0   0.0   0.0      11.0   0.0      6.0  0.0  0.0   \n",
       "117                0.0    0.0   0.0   0.0      51.0   0.0     27.0  0.0  0.0   \n",
       "...                ...    ...   ...   ...       ...   ...      ...  ...  ...   \n",
       "ét                11.0    0.0   0.0   0.0     326.0   0.0    159.0  0.0  0.0   \n",
       "øde                6.0    0.0   0.0   0.0      78.0   0.0     40.0  0.0  0.0   \n",
       "ødelægge           2.0    0.0   0.0   0.0      28.0   0.0     12.0  0.0  0.0   \n",
       "ødelæggende        0.0    0.0   0.0   0.0      22.0   0.0     13.0  0.0  0.0   \n",
       "øieblikkelig       2.0    0.0   0.0   0.0      52.0   0.0     32.0  0.0  0.0   \n",
       "øieblikkelige      0.0    0.0   0.0   0.0      34.0   0.0     19.0  0.0  0.0   \n",
       "øieblikkeligt      0.0    0.0   0.0   0.0      11.0   0.0      5.0  0.0  0.0   \n",
       "øiensynlig         0.0    0.0   1.0   1.0      55.0   0.0     30.0  0.0  0.0   \n",
       "øiner              0.0    0.0   0.0   0.0       8.0   0.0      4.0  0.0  0.0   \n",
       "øm                 3.0    0.0   0.0   0.0     165.0   0.0     87.0  0.0  0.0   \n",
       "ømme               9.0    0.0   0.0   0.0     129.0   0.0     76.0  0.0  0.0   \n",
       "ømmeste            1.0    0.0   0.0   0.0      24.0   0.0     19.0  0.0  0.0   \n",
       "ømt                2.0    0.0   0.0   0.0      63.0   0.0     49.0  0.0  0.0   \n",
       "ønske              9.0    0.0   0.0   0.0      38.0   0.0     27.0  0.0  0.0   \n",
       "ønskede           12.0    3.0   0.0   0.0     137.0   0.0     72.0  0.0  0.0   \n",
       "ønsker             6.0    0.0   0.0   0.0      53.0   0.0     58.0  0.0  0.0   \n",
       "ønsket             0.0    0.0   0.0   0.0      21.0   0.0     16.0  0.0  0.0   \n",
       "ør                 0.0    0.0   0.0   0.0      37.0   0.0     13.0  0.0  0.0   \n",
       "øreskrigende       0.0    0.0   0.0   0.0      12.0   0.0      4.0  0.0  0.0   \n",
       "ørkesløst          0.0    0.0   0.0   0.0      42.0   0.0      8.0  0.0  0.0   \n",
       "øser               5.0    0.0   0.0   0.0      52.0   0.0     12.0  0.0  0.0   \n",
       "østlige            0.0    0.0   0.0   0.0      11.0   0.0      5.0  0.0  0.0   \n",
       "øve                2.0    0.0   0.0   0.0      46.0   0.0     18.0  0.0  0.0   \n",
       "øvede              2.0    0.0   1.0   1.0      86.0   0.0     54.0  0.0  0.0   \n",
       "øvedes             1.0    0.0   0.0   0.0      35.0   0.0     10.0  0.0  0.0   \n",
       "øver               1.0    0.0   0.0   0.0      36.0   0.0     14.0  0.0  0.0   \n",
       "øves               1.0    0.0   0.0   0.0      21.0   0.0     23.0  0.0  0.0   \n",
       "øvet               1.0    0.0   0.0   0.0      85.0   0.0     48.0  0.0  0.0   \n",
       "øvrige             2.0    0.0   0.0   0.0      75.0   0.0     35.0  0.0  0.0   \n",
       "–                535.0    7.0   1.0   1.0    6245.0   0.0   3692.0  0.0  0.0   \n",
       "\n",
       "                 1  ...  øser  østlige   øve  øvede  øvedes  øver  øves  øvet  \\\n",
       "!              0.0  ...   5.0      0.0   2.0    2.0     1.0   1.0   1.0   1.0   \n",
       "'              0.0  ...   0.0      0.0   0.0    0.0     0.0   0.0   0.0   0.0   \n",
       "(              0.0  ...   0.0      0.0   0.0    1.0     0.0   0.0   0.0   0.0   \n",
       ")              0.0  ...   0.0      0.0   0.0    1.0     0.0   0.0   0.0   0.0   \n",
       ",              4.0  ...  52.0     11.0  46.0   86.0    35.0  36.0  21.0  85.0   \n",
       "-              0.0  ...   0.0      0.0   0.0    0.0     0.0   0.0   0.0   0.0   \n",
       ".              1.0  ...  12.0      5.0  18.0   54.0    10.0  14.0  23.0  48.0   \n",
       "/              0.0  ...   0.0      0.0   0.0    0.0     0.0   0.0   0.0   0.0   \n",
       "05             0.0  ...   0.0      0.0   0.0    0.0     0.0   0.0   0.0   0.0   \n",
       "1              5.0  ...   0.0      0.0   0.0    0.0     0.0   0.0   0.0   0.0   \n",
       "10             0.0  ...   0.0      0.0   0.0    0.0     0.0   0.0   0.0   0.0   \n",
       "100            0.0  ...   0.0      0.0   0.0    0.0     0.0   0.0   0.0   0.0   \n",
       "101            0.0  ...   0.0      0.0   0.0    0.0     0.0   0.0   0.0   0.0   \n",
       "102            0.0  ...   0.0      0.0   0.0    0.0     0.0   0.0   0.0   0.0   \n",
       "103            0.0  ...   0.0      0.0   0.0    0.0     0.0   0.0   0.0   0.0   \n",
       "104            0.0  ...   0.0      0.0   0.0    0.0     0.0   0.0   0.0   0.0   \n",
       "105            0.0  ...   0.0      0.0   0.0    0.0     0.0   0.0   0.0   0.0   \n",
       "106            0.0  ...   0.0      0.0   0.0    0.0     0.0   0.0   0.0   0.0   \n",
       "107            0.0  ...   0.0      0.0   0.0    0.0     0.0   0.0   0.0   0.0   \n",
       "108            0.0  ...   0.0      0.0   0.0    0.0     0.0   0.0   0.0   0.0   \n",
       "109            0.0  ...   0.0      0.0   0.0    0.0     0.0   0.0   0.0   0.0   \n",
       "11             0.0  ...   0.0      0.0   0.0    0.0     0.0   0.0   0.0   0.0   \n",
       "110            0.0  ...   0.0      0.0   0.0    0.0     0.0   0.0   0.0   0.0   \n",
       "111            0.0  ...   0.0      0.0   0.0    0.0     0.0   0.0   0.0   0.0   \n",
       "112            0.0  ...   0.0      0.0   0.0    0.0     0.0   0.0   0.0   0.0   \n",
       "113            0.0  ...   0.0      0.0   0.0    0.0     0.0   0.0   0.0   0.0   \n",
       "114            0.0  ...   0.0      0.0   0.0    0.0     0.0   0.0   0.0   0.0   \n",
       "115            0.0  ...   0.0      0.0   0.0    0.0     0.0   0.0   0.0   0.0   \n",
       "116            0.0  ...   0.0      0.0   0.0    0.0     0.0   0.0   0.0   0.0   \n",
       "117            0.0  ...   0.0      0.0   0.0    0.0     0.0   0.0   0.0   0.0   \n",
       "...            ...  ...   ...      ...   ...    ...     ...   ...   ...   ...   \n",
       "ét             0.0  ...   1.0      0.0   0.0    0.0     0.0   0.0   0.0   0.0   \n",
       "øde            0.0  ...   0.0      0.0   0.0    0.0     0.0   0.0   0.0   0.0   \n",
       "ødelægge       0.0  ...   0.0      0.0   0.0    0.0     0.0   0.0   0.0   0.0   \n",
       "ødelæggende    0.0  ...   0.0      0.0   0.0    0.0     0.0   0.0   0.0   0.0   \n",
       "øieblikkelig   0.0  ...   0.0      0.0   0.0    1.0     0.0   0.0   0.0   0.0   \n",
       "øieblikkelige  0.0  ...   0.0      0.0   0.0    0.0     0.0   0.0   0.0   1.0   \n",
       "øieblikkeligt  0.0  ...   0.0      0.0   0.0    0.0     0.0   0.0   0.0   0.0   \n",
       "øiensynlig     0.0  ...   0.0      0.0   0.0    0.0     0.0   0.0   0.0   0.0   \n",
       "øiner          0.0  ...   0.0      0.0   0.0    0.0     0.0   0.0   0.0   0.0   \n",
       "øm             0.0  ...   0.0      0.0   0.0    1.0     0.0   0.0   0.0   0.0   \n",
       "ømme           0.0  ...   0.0      0.0   0.0    0.0     0.0   0.0   0.0   0.0   \n",
       "ømmeste        0.0  ...   0.0      0.0   0.0    0.0     0.0   0.0   0.0   0.0   \n",
       "ømt            0.0  ...   0.0      0.0   0.0    0.0     0.0   0.0   0.0   0.0   \n",
       "ønske          0.0  ...   0.0      0.0   0.0    0.0     0.0   0.0   0.0   0.0   \n",
       "ønskede        0.0  ...   0.0      0.0   0.0    0.0     0.0   0.0   0.0   0.0   \n",
       "ønsker         0.0  ...   0.0      0.0   0.0    0.0     0.0   0.0   0.0   0.0   \n",
       "ønsket         0.0  ...   0.0      0.0   0.0    0.0     0.0   0.0   0.0   0.0   \n",
       "ør             0.0  ...   0.0      0.0   0.0    0.0     0.0   0.0   0.0   0.0   \n",
       "øreskrigende   0.0  ...   0.0      0.0   0.0    0.0     0.0   0.0   0.0   0.0   \n",
       "ørkesløst      0.0  ...   0.0      0.0   0.0    0.0     0.0   0.0   0.0   0.0   \n",
       "øser           0.0  ...   1.0      0.0   0.0    0.0     0.0   0.0   0.0   0.0   \n",
       "østlige        0.0  ...   0.0      1.0   0.0    0.0     0.0   0.0   0.0   0.0   \n",
       "øve            0.0  ...   0.0      0.0   4.0    0.0     0.0   0.0   0.0   0.0   \n",
       "øvede          0.0  ...   0.0      0.0   0.0    6.0     0.0   0.0   0.0   0.0   \n",
       "øvedes         0.0  ...   0.0      0.0   0.0    0.0     1.0   0.0   0.0   0.0   \n",
       "øver           0.0  ...   0.0      0.0   0.0    0.0     0.0   4.0   0.0   0.0   \n",
       "øves           0.0  ...   0.0      0.0   0.0    0.0     0.0   0.0   1.0   0.0   \n",
       "øvet           0.0  ...   0.0      0.0   0.0    0.0     0.0   0.0   0.0   5.0   \n",
       "øvrige         0.0  ...   0.0      1.0   0.0    0.0     0.0   0.0   0.0   0.0   \n",
       "–              0.0  ...   0.0      0.0   2.0    4.0     0.0   1.0   0.0   0.0   \n",
       "\n",
       "               øvrige       –  \n",
       "!                 2.0   535.0  \n",
       "'                 0.0     7.0  \n",
       "(                 0.0     1.0  \n",
       ")                 0.0     1.0  \n",
       ",                75.0  6245.0  \n",
       "-                 0.0     0.0  \n",
       ".                35.0  3692.0  \n",
       "/                 0.0     0.0  \n",
       "05                0.0     0.0  \n",
       "1                 0.0     0.0  \n",
       "10                0.0     0.0  \n",
       "100               0.0     0.0  \n",
       "101               0.0     0.0  \n",
       "102               0.0     0.0  \n",
       "103               0.0     4.0  \n",
       "104               0.0     0.0  \n",
       "105               0.0     0.0  \n",
       "106               0.0     4.0  \n",
       "107               1.0     0.0  \n",
       "108               0.0     1.0  \n",
       "109               0.0     0.0  \n",
       "11                0.0     3.0  \n",
       "110               0.0     2.0  \n",
       "111               0.0     0.0  \n",
       "112               0.0     3.0  \n",
       "113               0.0     0.0  \n",
       "114               0.0     0.0  \n",
       "115               0.0     1.0  \n",
       "116               0.0     3.0  \n",
       "117               0.0     0.0  \n",
       "...               ...     ...  \n",
       "ét                0.0     8.0  \n",
       "øde               0.0     0.0  \n",
       "ødelægge          0.0     0.0  \n",
       "ødelæggende       0.0     1.0  \n",
       "øieblikkelig      0.0     5.0  \n",
       "øieblikkelige     0.0     0.0  \n",
       "øieblikkeligt     0.0     0.0  \n",
       "øiensynlig        0.0     2.0  \n",
       "øiner             0.0     0.0  \n",
       "øm                0.0     5.0  \n",
       "ømme              0.0    10.0  \n",
       "ømmeste           0.0     0.0  \n",
       "ømt               0.0     1.0  \n",
       "ønske             0.0     1.0  \n",
       "ønskede           0.0     2.0  \n",
       "ønsker            0.0     2.0  \n",
       "ønsket            0.0     0.0  \n",
       "ør                0.0     0.0  \n",
       "øreskrigende      0.0     0.0  \n",
       "ørkesløst         0.0     2.0  \n",
       "øser              0.0     0.0  \n",
       "østlige           1.0     0.0  \n",
       "øve               0.0     2.0  \n",
       "øvede             0.0     4.0  \n",
       "øvedes            0.0     0.0  \n",
       "øver              0.0     1.0  \n",
       "øves              0.0     0.0  \n",
       "øvet              0.0     0.0  \n",
       "øvrige            5.0     1.0  \n",
       "–                 1.0  1229.0  \n",
       "\n",
       "[14764 rows x 14764 columns]"
      ]
     },
     "execution_count": 33,
     "metadata": {},
     "output_type": "execute_result"
    }
   ],
   "source": [
    "amtxamt"
   ]
  },
  {
   "cell_type": "code",
   "execution_count": 47,
   "metadata": {},
   "outputs": [
    {
     "data": {
      "text/plain": [
       "!                 13.0\n",
       "'                  0.0\n",
       "(                  0.0\n",
       ")                  0.0\n",
       ",                254.0\n",
       "-                  0.0\n",
       ".                101.0\n",
       "/                  0.0\n",
       "05                 0.0\n",
       "1                  0.0\n",
       "10                 0.0\n",
       "100                0.0\n",
       "101                0.0\n",
       "102                0.0\n",
       "103                0.0\n",
       "104                0.0\n",
       "105                0.0\n",
       "106                0.0\n",
       "107                0.0\n",
       "108                0.0\n",
       "109                0.0\n",
       "11                 0.0\n",
       "110                0.0\n",
       "111                0.0\n",
       "112                0.0\n",
       "113                0.0\n",
       "114                0.0\n",
       "115                0.0\n",
       "116                0.0\n",
       "117                0.0\n",
       "                 ...  \n",
       "ét                 1.0\n",
       "øde                0.0\n",
       "ødelægge           0.0\n",
       "ødelæggende        0.0\n",
       "øieblikkelig       0.0\n",
       "øieblikkelige      0.0\n",
       "øieblikkeligt      0.0\n",
       "øiensynlig         0.0\n",
       "øiner              0.0\n",
       "øm                 1.0\n",
       "ømme               0.0\n",
       "ømmeste            0.0\n",
       "ømt                0.0\n",
       "ønske              0.0\n",
       "ønskede            0.0\n",
       "ønsker             0.0\n",
       "ønsket             0.0\n",
       "ør                 0.0\n",
       "øreskrigende       0.0\n",
       "ørkesløst          0.0\n",
       "øser               1.0\n",
       "østlige            0.0\n",
       "øve                0.0\n",
       "øvede              0.0\n",
       "øvedes             0.0\n",
       "øver               0.0\n",
       "øves               0.0\n",
       "øvet               0.0\n",
       "øvrige             0.0\n",
       "–                 10.0\n",
       "Name: Kvinde, Length: 14764, dtype: float64"
      ]
     },
     "execution_count": 47,
     "metadata": {},
     "output_type": "execute_result"
    }
   ],
   "source": [
    "amtxamt['Kvinde']"
   ]
  },
  {
   "cell_type": "code",
   "execution_count": 43,
   "metadata": {},
   "outputs": [],
   "source": [
    "G = nx.from_pandas_adjacency(amtxamt)"
   ]
  },
  {
   "cell_type": "code",
   "execution_count": 60,
   "metadata": {},
   "outputs": [
    {
     "data": {
      "text/plain": [
       "[('Kvinde', 'Kvinde', {'weight': 17.0}),\n",
       " ('Kvinde', 'Lidendes', {'weight': 2.0}),\n",
       " ('Kvinde', 'Liv', {'weight': 4.0}),\n",
       " ('Kvinde', 'Livets', {'weight': 2.0}),\n",
       " ('Kvinde', 'Livsskjebne', {'weight': 2.0}),\n",
       " ('Kvinde', 'Mand', {'weight': 8.0}),\n",
       " ('Kvinde', 'Men', {'weight': 4.0}),\n",
       " ('Kvinde', 'Moders', {'weight': 2.0}),\n",
       " ('Kvinde', 'Måde', {'weight': 2.0}),\n",
       " ('Kvinde', 'Naget', {'weight': 2.0}),\n",
       " ('Kvinde', 'Noget', {'weight': 4.0}),\n",
       " ('Kvinde', 'O', {'weight': 4.0}),\n",
       " ('Kvinde', 'Og', {'weight': 3.0}),\n",
       " ('Kvinde', 'Ord', {'weight': 3.0}),\n",
       " ('Kvinde', 'Ret', {'weight': 2.0}),\n",
       " ('Kvinde', 'Sag', {'weight': 2.0}),\n",
       " ('Kvinde', 'Seir', {'weight': 2.0}),\n",
       " ('Kvinde', 'Side', {'weight': 2.0}),\n",
       " ('Kvinde', 'Sjel', {'weight': 2.0}),\n",
       " ('Kvinde', 'Skabning', {'weight': 2.0}),\n",
       " ('Kvinde', 'Skat', {'weight': 2.0}),\n",
       " ('Kvinde', 'Skånselen', {'weight': 2.0}),\n",
       " ('Kvinde', 'Sofie', {'weight': 3.0}),\n",
       " ('Kvinde', 'Stolthed', {'weight': 3.0}),\n",
       " ('Kvinde', 'Sådan', {'weight': 2.0}),\n",
       " ('Kvinde', 'Tilfældet', {'weight': 2.0}),\n",
       " ('Kvinde', 'Trætop', {'weight': 2.0}),\n",
       " ('Kvinde', 'Tunge', {'weight': 2.0}),\n",
       " ('Kvinde', 'Udtryk', {'weight': 2.0}),\n",
       " ('Kvinde', 'Udvortes', {'weight': 2.0}),\n",
       " ('Kvinde', 'Ulykke', {'weight': 2.0}),\n",
       " ('Kvinde', 'Ulykken', {'weight': 2.0}),\n",
       " ('Kvinde', 'Var', {'weight': 2.0}),\n",
       " ('Kvinde', 'Varsel', {'weight': 2.0}),\n",
       " ('Kvinde', 'Ved', {'weight': 3.0}),\n",
       " ('Kvinde', 'Vi', {'weight': 2.0}),\n",
       " ('Kvinde', 'Vilje', {'weight': 2.0}),\n",
       " ('Kvinde', 'Vrede', {'weight': 2.0}),\n",
       " ('Kvinde', 'Væsener', {'weight': 2.0}),\n",
       " ('Kvinde', 'Væsens', {'weight': 2.0}),\n",
       " ('Kvinde', '[', {'weight': 10.0}),\n",
       " ('Kvinde', ']', {'weight': 10.0}),\n",
       " ('Kvinde', 'af', {'weight': 29.0}),\n",
       " ('Kvinde', 'afgjorde', {'weight': 2.0}),\n",
       " ('Kvinde', 'al', {'weight': 2.0}),\n",
       " ('Kvinde', 'alene', {'weight': 2.0}),\n",
       " ('Kvinde', 'alle', {'weight': 5.0}),\n",
       " ('Kvinde', 'almindelige', {'weight': 2.0}),\n",
       " ('Kvinde', 'alt', {'weight': 2.0}),\n",
       " ('Kvinde', 'altid', {'weight': 2.0}),\n",
       " ('Kvinde', 'anden', {'weight': 3.0}),\n",
       " ('Kvinde', 'at', {'weight': 53.0}),\n",
       " ('Kvinde', 'bedre', {'weight': 3.0}),\n",
       " ('Kvinde', 'bleven', {'weight': 2.0}),\n",
       " ('Kvinde', 'blive', {'weight': 2.0}),\n",
       " ('Kvinde', 'bliver', {'weight': 8.0}),\n",
       " ('Kvinde', 'blot', {'weight': 4.0}),\n",
       " ('Kvinde', 'blå', {'weight': 2.0}),\n",
       " ('Kvinde', 'både', {'weight': 2.0}),\n",
       " ('Kvinde', 'da', {'weight': 4.0}),\n",
       " ('Kvinde', 'de', {'weight': 23.0}),\n",
       " ('Kvinde', 'dem', {'weight': 11.0}),\n",
       " ('Kvinde', 'den', {'weight': 51.0}),\n",
       " ('Kvinde', 'denne', {'weight': 13.0}),\n",
       " ('Kvinde', 'dennes', {'weight': 2.0}),\n",
       " ('Kvinde', 'der', {'weight': 34.0}),\n",
       " ('Kvinde', 'deraf', {'weight': 2.0}),\n",
       " ('Kvinde', 'deres', {'weight': 6.0}),\n",
       " ('Kvinde', 'det', {'weight': 49.0}),\n",
       " ('Kvinde', 'dette', {'weight': 9.0}),\n",
       " ('Kvinde', 'dine', {'weight': 2.0}),\n",
       " ('Kvinde', 'disse', {'weight': 6.0}),\n",
       " ('Kvinde', 'dog', {'weight': 7.0}),\n",
       " ('Kvinde', 'du', {'weight': 3.0}),\n",
       " ('Kvinde', 'efter', {'weight': 2.0}),\n",
       " ('Kvinde', 'eller', {'weight': 11.0}),\n",
       " ('Kvinde', 'elsket', {'weight': 3.0}),\n",
       " ('Kvinde', 'en', {'weight': 61.0}),\n",
       " ('Kvinde', 'end', {'weight': 6.0}),\n",
       " ('Kvinde', 'endnu', {'weight': 3.0}),\n",
       " ('Kvinde', 'endog', {'weight': 2.0}),\n",
       " ('Kvinde', 'eneste', {'weight': 2.0}),\n",
       " ('Kvinde', 'engang', {'weight': 8.0}),\n",
       " ('Kvinde', 'enhver', {'weight': 2.0}),\n",
       " ('Kvinde', 'er', {'weight': 32.0}),\n",
       " ('Kvinde', 'et', {'weight': 22.0}),\n",
       " ('Kvinde', 'falder', {'weight': 2.0}),\n",
       " ('Kvinde', 'finde', {'weight': 3.0}),\n",
       " ('Kvinde', 'for', {'weight': 15.0}),\n",
       " ('Kvinde', 'foran', {'weight': 2.0}),\n",
       " ('Kvinde', 'forblev', {'weight': 2.0}),\n",
       " ('Kvinde', 'fra', {'weight': 4.0}),\n",
       " ('Kvinde', 'få', {'weight': 3.0}),\n",
       " ('Kvinde', 'fået', {'weight': 2.0}),\n",
       " ('Kvinde', 'gjennem', {'weight': 5.0}),\n",
       " ('Kvinde', 'gjennemtrængende', {'weight': 2.0}),\n",
       " ('Kvinde', 'gjør', {'weight': 2.0}),\n",
       " ('Kvinde', 'godt', {'weight': 4.0}),\n",
       " ('Kvinde', 'gå', {'weight': 2.0}),\n",
       " ('Kvinde', 'ham', {'weight': 2.0}),\n",
       " ('Kvinde', 'han', {'weight': 10.0}),\n",
       " ('Kvinde', 'hans', {'weight': 3.0}),\n",
       " ('Kvinde', 'har', {'weight': 16.0}),\n",
       " ('Kvinde', 'havde', {'weight': 12.0}),\n",
       " ('Kvinde', 'have', {'weight': 3.0}),\n",
       " ('Kvinde', 'hele', {'weight': 4.0}),\n",
       " ('Kvinde', 'hende', {'weight': 5.0}),\n",
       " ('Kvinde', 'hendes', {'weight': 8.0}),\n",
       " ('Kvinde', 'her', {'weight': 3.0}),\n",
       " ('Kvinde', 'holde', {'weight': 2.0}),\n",
       " ('Kvinde', 'hun', {'weight': 21.0}),\n",
       " ('Kvinde', 'huske', {'weight': 2.0}),\n",
       " ('Kvinde', 'hvad', {'weight': 5.0}),\n",
       " ('Kvinde', 'hverandre', {'weight': 4.0}),\n",
       " ('Kvinde', 'hverken', {'weight': 2.0}),\n",
       " ('Kvinde', 'hvis', {'weight': 2.0}),\n",
       " ('Kvinde', 'hvor', {'weight': 4.0}),\n",
       " ('Kvinde', 'hvorledes', {'weight': 4.0}),\n",
       " ('Kvinde', 'hvormed', {'weight': 3.0}),\n",
       " ('Kvinde', 'i', {'weight': 34.0}),\n",
       " ('Kvinde', 'igjen', {'weight': 4.0}),\n",
       " ('Kvinde', 'ikke', {'weight': 29.0}),\n",
       " ('Kvinde', 'ingen', {'weight': 7.0}),\n",
       " ('Kvinde', 'intet', {'weight': 2.0}),\n",
       " ('Kvinde', 'jeg', {'weight': 6.0}),\n",
       " ('Kvinde', 'kalde', {'weight': 3.0}),\n",
       " ('Kvinde', 'kan', {'weight': 19.0}),\n",
       " ('Kvinde', 'kanske', {'weight': 2.0}),\n",
       " ('Kvinde', 'kjender', {'weight': 3.0}),\n",
       " ('Kvinde', 'kom', {'weight': 3.0}),\n",
       " ('Kvinde', 'kun', {'weight': 6.0}),\n",
       " ('Kvinde', 'kunde', {'weight': 5.0}),\n",
       " ('Kvinde', 'ladet', {'weight': 2.0}),\n",
       " ('Kvinde', 'lammet', {'weight': 2.0}),\n",
       " ('Kvinde', 'let', {'weight': 2.0}),\n",
       " ('Kvinde', 'leve', {'weight': 4.0}),\n",
       " ('Kvinde', 'lidt', {'weight': 3.0}),\n",
       " ('Kvinde', 'ligeoverfor', {'weight': 5.0}),\n",
       " ('Kvinde', 'ligesom', {'weight': 2.0}),\n",
       " ('Kvinde', 'lille', {'weight': 4.0}),\n",
       " ('Kvinde', 'længere', {'weight': 2.0}),\n",
       " ('Kvinde', 'man', {'weight': 11.0}),\n",
       " ('Kvinde', 'mange', {'weight': 4.0}),\n",
       " ('Kvinde', 'med', {'weight': 11.0}),\n",
       " ('Kvinde', 'meget', {'weight': 2.0}),\n",
       " ('Kvinde', 'mellem', {'weight': 2.0}),\n",
       " ('Kvinde', 'men', {'weight': 9.0}),\n",
       " ('Kvinde', 'mere', {'weight': 5.0}),\n",
       " ('Kvinde', 'mild', {'weight': 2.0}),\n",
       " ('Kvinde', 'mod', {'weight': 6.0}),\n",
       " ('Kvinde', 'må', {'weight': 4.0}),\n",
       " ('Kvinde', 'mørkere', {'weight': 2.0}),\n",
       " ('Kvinde', 'netop', {'weight': 6.0}),\n",
       " ('Kvinde', 'nogensinde', {'weight': 2.0}),\n",
       " ('Kvinde', 'noget', {'weight': 3.0}),\n",
       " ('Kvinde', 'nok', {'weight': 5.0}),\n",
       " ('Kvinde', 'nu', {'weight': 3.0}),\n",
       " ('Kvinde', 'når', {'weight': 11.0}),\n",
       " ('Kvinde', 'næste', {'weight': 2.0}),\n",
       " ('Kvinde', 'og', {'weight': 66.0}),\n",
       " ('Kvinde', 'også', {'weight': 4.0}),\n",
       " ('Kvinde', 'om', {'weight': 12.0}),\n",
       " ('Kvinde', 'ondt', {'weight': 2.0}),\n",
       " ('Kvinde', 'os', {'weight': 5.0}),\n",
       " ('Kvinde', 'over', {'weight': 6.0}),\n",
       " ('Kvinde', 'på', {'weight': 22.0}),\n",
       " ('Kvinde', 'rigtig', {'weight': 2.0}),\n",
       " ('Kvinde', 'samme', {'weight': 4.0}),\n",
       " ('Kvinde', 'sang', {'weight': 3.0}),\n",
       " ('Kvinde', 'se', {'weight': 3.0}),\n",
       " ('Kvinde', 'selv', {'weight': 4.0}),\n",
       " ('Kvinde', 'sig', {'weight': 20.0}),\n",
       " ('Kvinde', 'sige', {'weight': 3.0}),\n",
       " ('Kvinde', 'sin', {'weight': 6.0}),\n",
       " ('Kvinde', 'skal', {'weight': 8.0}),\n",
       " ('Kvinde', 'skulde', {'weight': 2.0}),\n",
       " ('Kvinde', 'smuk', {'weight': 2.0}),\n",
       " ('Kvinde', 'som', {'weight': 32.0}),\n",
       " ('Kvinde', 'stod', {'weight': 2.0}),\n",
       " ('Kvinde', 'stor', {'weight': 5.0}),\n",
       " ('Kvinde', 'store', {'weight': 2.0}),\n",
       " ('Kvinde', 'stum', {'weight': 4.0}),\n",
       " ('Kvinde', 'stå', {'weight': 2.0}),\n",
       " ('Kvinde', 'står', {'weight': 2.0}),\n",
       " ('Kvinde', 'større', {'weight': 2.0}),\n",
       " ('Kvinde', 'synes', {'weight': 2.0}),\n",
       " ('Kvinde', 'syntes', {'weight': 2.0}),\n",
       " ('Kvinde', 'så', {'weight': 12.0}),\n",
       " ('Kvinde', 'sådan', {'weight': 4.0}),\n",
       " ('Kvinde', 'således', {'weight': 4.0}),\n",
       " ('Kvinde', 'sålænge', {'weight': 2.0}),\n",
       " ('Kvinde', 'talt', {'weight': 2.0}),\n",
       " ('Kvinde', 'til', {'weight': 24.0}),\n",
       " ('Kvinde', 'tog', {'weight': 3.0}),\n",
       " ('Kvinde', 'træt', {'weight': 2.0}),\n",
       " ('Kvinde', 'ud', {'weight': 5.0}),\n",
       " ('Kvinde', 'ude', {'weight': 2.0}),\n",
       " ('Kvinde', 'uden', {'weight': 2.0}),\n",
       " ('Kvinde', 'uendelig', {'weight': 3.0}),\n",
       " ('Kvinde', 'under', {'weight': 5.0}),\n",
       " ('Kvinde', 'undertiden', {'weight': 2.0}),\n",
       " ('Kvinde', 'var', {'weight': 24.0}),\n",
       " ('Kvinde', 'ved', {'weight': 18.0}),\n",
       " ('Kvinde', 'vi', {'weight': 4.0}),\n",
       " ('Kvinde', 'vil', {'weight': 5.0}),\n",
       " ('Kvinde', 'vilde', {'weight': 5.0}),\n",
       " ('Kvinde', 'vore', {'weight': 2.0}),\n",
       " ('Kvinde', 'vort', {'weight': 5.0}),\n",
       " ('Kvinde', 'vågen', {'weight': 2.0}),\n",
       " ('Kvinde', 'være', {'weight': 8.0}),\n",
       " ('Kvinde', 'År', {'weight': 3.0}),\n",
       " ('Kvinde', 'Øieblik', {'weight': 6.0}),\n",
       " ('Kvinde', 'Øine', {'weight': 3.0}),\n",
       " ('Kvinde', '–', {'weight': 10.0})]"
      ]
     },
     "execution_count": 60,
     "metadata": {},
     "output_type": "execute_result"
    }
   ],
   "source": [
    "[e for e in G.edges(data=True) if e[0] == 'Kvinde' if e[2]['weight'] > 1]"
   ]
  },
  {
   "cell_type": "code",
   "execution_count": 105,
   "metadata": {},
   "outputs": [],
   "source": [
    "def extract_sub(word, G, minimum = 1, maximum = 100):\n",
    "    edges = ([e for e in G.edges(data=True) if word in e and maximum > e[2]['weight'] and e[2]['weight'] > minimum])\n",
    "    Gs = nx.Graph(edges)\n",
    "    Gsubs = dict()\n",
    "    for w in Gs.nodes():\n",
    "        subedges = [e for e in G.edges(data=True) if (w in e and maximum > e[2]['weight'] and e[2]['weight'] > minimum)]\n",
    "        if subedges != []:\n",
    "            Gsubs[w]= nx.Graph(subedges)\n",
    "            #print(w, len(subedges))\n",
    "    return Gs, Gsubs"
   ]
  },
  {
   "cell_type": "code",
   "execution_count": 106,
   "metadata": {},
   "outputs": [],
   "source": [
    "Gs, Gsubs = extract_sub('Kvinde', G)"
   ]
  },
  {
   "cell_type": "code",
   "execution_count": 112,
   "metadata": {},
   "outputs": [],
   "source": [
    "for w in Gsubs:\n",
    "    Gs.add_edges_from(Gsubs[w].edges(data=True))"
   ]
  },
  {
   "cell_type": "code",
   "execution_count": 115,
   "metadata": {},
   "outputs": [
    {
     "name": "stdout",
     "output_type": "stream",
     "text": [
      "så-er :  så, er, jeg, har, !, Du, du, leve, Døtre, uendelig, hverandre, kanske, træt, Naget, sat, ét, lagt, bære, sådant, Mod, idelig, Tro, førend, Også, kalder, glad, længer, Piger, vide, Skridt, muligt, dybt, just, Disse, Alvor, Blikke, Post, Måske, umuligt, Tak, skjule, By, Mændene, Louise, lide, Samme, glemt, Villie, rent, Synd, høit, ', vedblev, holder, sidde, Ære, ak, alvorlig, fortvivlet, bad, elsker, fremmede, Mening, styrte, Spil, borte, trænger, Individualitet, feil, Hvilken, Hjertet, finder, Godt, Mærke, Se, fortælle, mangen, inderlig, lad, Gård, sidder, én, råbte, død, Fra, skulle, Savn, f, Sky, dig, Sjelen, troet, mente, Lad, Død, Begivenheder, lært, Stedet, ti, begynde, Fremtid, Ser, spørger, Kjøbenhavn, ringe, lever, Faders, taler, sætter, Eks, idag, værge, ende, skrive, syg, kaste, såmeget, levet, langsomt, fortalt, Knæ, Derfor, an, Herrerne, Grav, voksen, formår, svage, Individ, forekommer, Uge, bruge, Mangel, røre, forundret, Din, forandret, heroppe, stærkere, fremfor, Bal, Vemod, Smag, Ulykkelige, Plet, rolige, Blomster, Marie, vred, Sig, latterlig, passer, Bolette, føle, Kald, Kort, frygtelig, Elendighed, udbrød, nedlagde, Sligt, ønskede, forståeligt, Herrer, Stakkels, bekjendt, læste, snil, daglige, igår, Kilder, Strid, skjulte, Barndom, mildnende, hente, forstyrrende, Veie, giftes, Tror, forstået, le, herefter, Goder, voksne, Valg, Kunde, Farvel, forskrækket, lo, sandelig, Vil, angik, Gråd, ordentlig, opdage, møder, Kjere, mærket, farlige, Bygdens, tyve, Manden, Fold, elskværdig, Feil, Hør, tilgive, ubehagelige, otte, forsvunden, forkyndt, Vrå, læst, Kraft, samlede, Lyksalighed, lærte, ligesågodt, berolige, akkurat, Himmel, Sålænge, Sorger, Mødrene, Uret, usigelig, fatte, hjælper, Dansen, Skuffelser, trække, Nerver, Taushed, Misforståelse, Klokkeslet, Ansigter, Frugt, taber, morer, Agtelse, Sommer, smukkere, Bestræbelse, Frue, Lykketræf, anstillede, tildøde, Grunde, Skjebnen, ligner, springer, byde, Provst, fortærende, formeget, drømmer, Mig, tære, Havde, Vær, Skulde, ærlige, længes, heri, svag, Mismod, Spot, Døden, erindrer, opfylde, Overlæg, Hvilket, Ømhed, Imidlertid, Overbevisning, herop, agte, Speil, tvivle, beherske, Navne, Hanne, redeligt, Mildhed, Sit, rørende, rulle, allerførst, tillade, ordnet, reddet, forklaret, bryder, mon, sikrere, modig, beholde, valgt, himmelske, forstyrrer, murede, Veninder, drømme, velgjørende, Eders, jublende, Aftener, strax, ovenfra, fylde, Ængstelser, pådraget, Lidenskaber, grundigt, stygt, hemmelige, erstatte, håber, Hvordan, Vel, ane, Barmhjertighed, bærer, Broen, dække, Opslag, Fruentimmer, Tilgiv, grænseløs, yndig, pludseligt, tidligere, skikkelige, dyrebareste, aflægge, Beregning, Stockholm, Sangen, yndige, Ensomhed, venskabeligst, Skylden, Skoletimer, Venskab, fornøiet, vare, Samliv, Fraser, indbilde, ler, nogenlunde, drager, skamfuld, omgivet, Pinebænken, Hensigt, Hustruer, formodentlig, Tilfældighed, fødes, stiller, Umulighed, behandlede, skjært, Nerve, kjerligt, Forskjellen, Bogen, Umulige, Fordele, frygtelige, Pligter, Jomfruer, Overfald, henrev, trofast, skelede, Skatte, Forsagelse, beseire, slår, Tommer, 246, rædsom, Stykket, Egne, Foragt, flygtig, beundrede, Ånden, bekjendte, Modstander, fyldes, Tids, fortjent, Svømmer, Sødme, betroet, grave, brave, reddes, forlanger, Ideer, desuagtet, Anstand, Øvrige, svævet, Smukt, hungrede, klæder, D., Dukken, naiv, Bugt, såsandt, undgå, 160, Gjensyn, sindigt, Nøgenhed, Forlovelser, Damerække, tilende, gu, behøver, Elsk, Herskab, Mangen, Pedant, tidsnok, anet, Tænk, regelmæssige, grublende, Dengang, Fantast, norsk, modtager, solide, 203, Råhed, søvnløs, Én, seks, prøvet, værdig, Spillet, vær, såvidt, gjælde, strikke, ha, bange, støder, ånder, Skrækkelige, Utrættelighed, Skrin, udfordrende, brav, faderlig, enlige, Ærgrelse, ruger, ifølge, Får, Mørke, oplevede, dyriske, gjennemgået, forberedt, Fordi, Anstalter, Hemmeligheder, påtage, luftige, Tilfredsstillelse, hermetisk, Tingen, skjulteste, usynligt, Danmark, vågnet, duer, forsikrer, 254, lukke, trøstede, Sødskende, spinde, forlegen, varmt, Snak, Lønnen, mærkes, forslår, Døde, forsage, stormede, lånt, vemodigt, Kommer, Bibliothek, Plage, stride, landlige, udmattet, hviskede, Ødelæggelsens, 98, korrekte, hakke, foretrækker, Gravmarsch, Ligning, klinge, Åbningen, Gadehjørne, fornagler, besluttet, sløv, Stadier, fornuftig, Seigeste, øser, Tusindnebbede, affældig, Nydelsens, Byes, Frankrige, clair-obscur, Christianssand, Adskillelser, uopdaget, Stor, fyldestgjøre, hvæsse, Eget, Fantasiens, Illusionens, anstille, Herregud, overfladisk, kjæk, Rystelser, Beundringen, Ulykkelig, Norsk, høiest, Higen, arbeide, henviser, afklædende, Tromsø, begrave, Enthusiasmen, fattig, Digt, Personerne, Alderen, Armod, Husker, Beskaffenhed, interesserede, afmålt, grænseløse, bart, Gjerning, Jalousi, afvise, Engelsk, komplet, opstillede, tvivlede, Idé, Tankeløshed, nuværende, skurrende, Andel, oplyse, skaber, hånligt, 240, dulmende, Ældste, sættes, holdes, knuget, vovet, Alteret, opmuntret, hvorlænge, Streger, Lilleholt, Åsen, forudsætter, ønsker, derind, Selvmord, Fleste, 214, Skriftemål, nytte, inderligste, skriger, glædet, utålmodigt, overmåde, Gift, nyder, herligt, Opsving, velsigne, Engang, Øiesten, begriber, Skal, anser, skjærende, Langt, vurderet, forspildt, Åget, Herligste, Misforhold, sunget, Husvarmen, Meiers, Drammen, overbevise, kjæmpe, Welhaven, melder, Inklination, Wergeland, udholde, Brylluper, 120, fornemt, pikant, påstår, glatte, hæver, erklærer, styre, Beregninger, rive, danne, Nætter, Søsters, spilde, negt, lysende, tåle, Straks, Realitet, 233, Oldemoders, betagen, Forestilling, ydmygt, skiller, fortrak, klog, Elise, nævner, Vinger, Hullerne, skikkelig, veie, Ujevnheder, Jag, Lotterispil, Byder, Familieforbindelser, forgylde, Betryggende, Djævel, præker, Vegtskålen, Hjertebenauelser, ramte, Skrinet, lykkesyg, henvender, Pillen, bane, hykle, uvigtigt, fordragelige, begrædte, vakkert, Slå, Gevinster, anstændigt, skriver, Friskt, Lokkemad, bygge, Udkomme, Øieblikkets, Hårdhed, Næste, undgået, Ungdomsår, straffede, udtales, Menneskes, Ubegribeligt, Smukke, Ungdomsvenner, 169, forestiller, Exaltation, seirede, Dygtigt, lyttet, ufravigelig, N., forglemte, sært, fortæl, Forsætter, Forgreninger, dulgt, fare, Dansere, yder, bor, Strenge, øieblikkelige, Glød, Lektien, Mislyd, Skuffer, umådeligt, Exempler, drillede, stimlede, bevare, budne, Eller, forsikkrede, 148, moret, Mimose, Tjenestefolk, fortvilet, uimodståeligt, Ida, Musikens, Længden, skadelig, gid, merkværdige, Adel, Psyche, navnløse, Adam, Ha, Glædens, vidunderlig, utrolig, hinandens, 211, ukjerlig, bedrøve, Hverken, kysser, Illusioner, Pilegrim, Forbryder, grænsesløs, overbevist, koldblodig, Villien, tilorde, velkomne, hvorvidt, 63, Dadel, faret, opofrer, Jammerdyb, 21, skaldet, henad, vandrende, Begynder, Forklar, siddet, beklager, seire, karrig, forsonende, Kjoler, indlysende, 212, Måned, låne, Herligheder, Tilstanden, vasket, hjerteløse, Kvalm, plagede, Gutten, 137, 256, Gjengjæld, Fornegtelse, Alf, respektfuld, Leir, indrettede, Expectorationer, Modstanderne, Kirkegaden, lavet, Samstemningens, Gemytlighed, Dommerminer, Afsluttende, illustrere, Fiender, Sukke, vildeste, hedder, Konstitutionelles, Partimand, Personlige, Desmere, Opbrusning, forat, Oplandsbygder, Kyststæder, førtes, Komme, Nævn, trodsig, Ah, Vidar, Lærkens, Boghandler, Ensidige, Partigjængeres, fatalere, klingende, begges, forudse, Afsondring, seige, Vrængebilleder, Sæde, fanatiske, sværme, figurerer, Spalter, støiedes, Forsamlingerne, fornærmede, treårige, udmalet, Nytænkt, Program, offre, Partichefdigterne, Hadefuldhed, klinkedes, Dahl, skabte, Forkjæmpere, lunken, forbauses, tirrende, Sommermorgen, gjemme, Bedrøvende, Broder, Videnskab, beredet, lettet, Balsal, Underværk, freidig, hænde, unyttig, Bladet, straffer, laveste, bundløst, heftigt, nedarvede, lærer, Trængende, Understøttelse, snakket, Hytter, Fattige, gad, Døttre, Gavmildhed, Streg, Insektsverm, Bo, Modtageren, 235, hjælpeløse, lede, 222, Ligeover, udvide, nedfalden, gruppere, Rettigheder, Tilskyndelse, nådig, Gavmildheden, tanke-, foresvæver, anråbe, Attrå, ugjerne, almenfattelige, svandt, Gaver, Poesi, Typer, fornummet, kald, skydes, Hungrende, Statsøkonomi, etsteds, Kunne, indgravet, Lidelses, herligere, Himlens, Faren, Principer, Råbet, hed, Regnskab, Danser, Kirkerne, ignoreres, tauseste, lykkeligt, henvises, Jammer, forhungrede, doven, uudslettelig, Presterne, Mariane, bortskakrede, Tilværelsen, Indbild, Brunetter, Uregelmæssighed, Veirmøller, seg, Fornuftslutninger, spirende, Hårreflexer, fordrer, klogt, rafaelske, Asparges, Bønhør, Naturoverensstemmelser, styg, Sjelene, Erter, Skoletøs, tilårs, bedrage, eders, Ån2, nederdrægtige, modnere, vurdere, lumpneste, agter, Hvidtjørnen, Sludder, tiltrådte, Forstillelsesfærdighed, indeholder, medynksomt, skjul, 243, fange, Forudbestemmelser, Kvindernes, vokse, Alders, Træks, sneverhjertet, tryglede, Forkvakling, Slavemærke, påtrykt, Evas, lyv, Ægte, altsammen, opløben, begå, læg, Bedstemødre, Gjenforening, Lægerne, Lungen, seksogtyve, tal-, dale, Spørgsmåle, Rædsler, fleste, Testament, assureret, troskyldigt, overvundet, tilsendes, moderlig, hurtigere, Hær, Skulle, Skamme, udtærede, Evigheden, indgroet, ryddet, ungdomssikre, Skaberen, forsegle, stammer, opbevares, Hjertens, Grød, Fædre, Kvarter, Ligevægten, Satans, stiger, nemt, Slægtens, klassiske, sammenlignet, Eksistents, Gå, Varetægtskasse, higer, synker, personlige, gjorte, straffet, takke, koge, berammet, anstrenge, gjentage, vinker, Beskuelse, slukkede, rigere, botanisk, tilfredsstillende, Mændenes, Kundskab, Lærelyst, Mølleleddet, Roder, hensigtsmæssig, omgående, Diskussion, Tykkeste, Billederne, seksten, Dobbelte, Nærmede, Skolevæsenets, yttrede, Lån, Rodeinddeling, forener, unegtelig, navnlig, Filister, Skolelærer, Bogsamling, Fjerdingstad, Forslag, Sidstes, lærde, Lommen, overkomme, Lensmanden, svarende, subjektive, befinder, Forretningen, hjerteligst, Kommunens, Fordomsfri, Norske, Fattigvæsenets, Dårekisten, Veilængderne, kunstigt, Hils, Reol, Tarv, skjændig, R., Usling, aflagt, knuste, Marmorgenier, 323, uforklarlige, ensom, beskyld, bah, lunkne, drives, forekomme, System, dirrende, løst, slemme, dårlig, herske, 62, Modgrund, Doktorerne, beundrende, Troppisten, A., bekræfter, belivende, Borgere, delikate, tilfalder, Rapport, Generation, Udkårede, fortræffelig, indtaget, mysteriøse, beskytte, liker, Terningkast, Ægtemænd, vedgår, skjelve, oplukkes, afhængigt, vægtige, 39, bævede, Kanter, hede, filantropiske, tilstår, Rammen, glæder, vælger, angribe, fæl, Forstår, 165, Snog, Flere, Vilhelm, undtagen, belærende, Meier, lønnende, Artighed, Slotte, Gods, 152, mishandlet, Stæderne, tilslænger, 99, forser, belære, dadlende, drikker, Nathimmel, beleiligt, afskyr, Fester, Husfruen, rede, Manøvrer, Tidsrum, Blir, anseet, 277, pene, veldresserede, Fremtræden, Formalitets, tilrette, dækkes, Misnøie, Ballerne, livagtig, Enkekassen, skubbes, billige, Magerhed, Brudekammeret, latterligt, Spektakel, Flitterstasen, præstelige, Grædekor, Optøier, Dragter, allerbedst, antydes, Herskerens, forbandet, Brudekjolen, uendelige, Dameklæder, symbolsk, Portræterne, Brudekjole, Mamas, giv, kjer, Tingest, utækkelig, Sporer, Allerhelst, Stakkel, hvormegen, Venstre, grusomt, taknemmelige, tiltakke, gjenså, lyksalige, Formular, Trofasthed, 67, Grupperinger, Vippetangen, Organ, av, vindig, Au, hvidsket, opregnes, Støt, Vesta, splittet, åndrige, befinde, uforsigtig, legemlige, Barnekammerets, ansvarlige, tifoldn23, Organisation, Bagatellernes, Florshimmel, Nydelser, Blære, gjenstridige, tungvindte, begrundet, osende, Redskabet, Takken, mattet, Ufuldkommenheden, Fysisk, Sagde, Småligheder, Hverdagslivets, Præstinde, Hovedøen, tvivler, salig, Indskrænkninger, Kjøkkenets, Lamper, Vogterske, Nyere, Læger, soleklart, Plumper, plumpede, Tørre, modsigende, massiveste, Einheriestrid, Salte, Patron, 220, Æresord, Eng, forrådet, udenlands, Parodien, gjengjælde, Undskyldende, angå, enfoldig, martre, Åndn22, ironisk, forventningsrigt, Uforståelige, Thorvaldsens, like, vrænge, Koner, fremdraget, tvangfrit, Legekammerater, dyrebarest, Puh, Hvormange, mumlede, kjendes, spydig, Rødm, Emma, Tummel, endmindre, mene, simpleste, fornegtet, tilbydes, Sjelsanstrengelse, Jordboere, Eie, pålægger, Vekst, Erindringens, høstes, Brevveksling, plukkes, emanciperes, dølger, Menneskehed, 210, flyde, Livslede, Unatur, Klenodi, beundrer, udgrædes, Takke, sorgfuld, Emancipationsskrig, Formalitet, Bispespeilet, Bortkast, Hjerteblade, plag, Ruinerne, Genialitet, behersken27, verne, fyrgetyve, Indsamlerne, smerter, Keiseren, Bekjendelse, blegsottige, Emanicipation, Templet, Præsterne, Skaberi, anstår, Beskyt, Ei, ivrer, Idag, besøger, stupide, Forstyr, forøvrigt, Gudmor, Kryster, henviste, frastøde, Lotto, Dine, skjærer, Lindesnæs, Kammerlærke, skrifte, hendrages, Stokfisk, kors, Budeie, Forholdenes, Skolen, påskjønner, Gjengjeld, Nordkap, Fuldmægtig, Forskjellighed, mellemliggende, bild, forhindre, Nationaleiendommelige, Pas, kror, læges, sympathetisk, Verdensbegivenhedernes, opstrammet, hader, Spundet, Lidelsesår, Morgenro, istemme, tilbyder, nyd, mentorsværdig, Rolig, trillede, umodent, flittig, frygte, Iaften, trodse, spandt, Kvidren, ufrivillig, stemmes, hvisker, tilhører, uvirksom, sammenlignede, Filologen, Helvedet, Rok, skynd, 97, Dumhed, Snurren, friste, Vingeflugt, Vævet, næsegrus, opdrives, selvtilfreds, Spinden, Magten, Kontrasten, udspunden, Vansmægtende, olympiske, formå, Fuglenes, formastelige, formaaede, naragtige, Livstråd, Kaffebordet, allesammen, Hymne, gladere, oprevet, ligefort, Besind, bitte, Igjenfødelse, Gudeudfordreres, Afsig, begeistret, Hertz, afslåt, Fortæl, begjære, Tinstager, gjemtes, Dåd, Schillers, Seks, Duften, sælsomt, Underligt, Nichen, Høstmorgen, Imorgen, indånde, Fortegnelse, 184, Ler, gryede, lander, overskrifter, Kisten, Kostbarheder, egensindig, Nærmeste, males, Budeierne, satt, Åbningenn15, forvandles, Uopnåeligt, Pisk, Møllefossen, Papa, Fjeldlinierne, 20, iførte, Udmattet, indvilge, å, Nedværdigelse, stege, skrinlagde, Vokslys, tågede, oprigtige, Blideste, forrykke, Verdensordenen, Æspeløv, Stryg, hæderlig, sagtens, behjertet, Overmål, Byron, neden, gjøs, vælge, Forstenelsen, ligt, fantaserer, dundrende, fuldvægtigt, undskylder, Armbåndene, myrder, Bolettets, stygge, Naturlighed, kjær, miserabel, Bobler, herinde, allerhelvedes, Salighed, mishager, lystre, betalte, hyggeligt, protesterer, Skalv, vakreste, grant, Rigshospitalet, Frøkenerne, svedes, Mént, forbistret, Bedrag, Menneskeværd, spist, Mår, Koralhalsbånd, begjerer, bobler, Lyksaliggjørende, følsomme, griskere, forvinder, Idéer, Vendinger, ulidelige, Prøveklud, Drømmens, ah, foragtelig, Besat, diplomatisk, fremføre, Begjering, fredet, 193, 138, Fortryllelsen, lyksaliggjørende, tvinger, Reis, blodig, udslettet, harmløse, Målestokken, besværger, ældede, vogtede, Skrupler, blændet, begribelig, Allernyttigste, Kors, tal, Bjerget, dødblege, berige, sandse, reis, skaffet, dum, gjennemskuer, Indtagne, Udenverdenen, nokså, Lisbeth-Marie, Kvindelige, begeistrede, Forlystelsesapparat, helbredet, Hjord, vergeløse, Nordmand, ubeleiligt, 202, beskjæftiger, væltede, Jordens, Virkelig, beskjæftige, Pottemagerarbeide, Nøden, klinkes, erkjender, høitstemte, Uforståeligt, vies, græsseligste, udfører, Forbedringer, sniger, Tomsbakken, timelige, smigre, fornøielig, 209, Mønster, nøiedes, Skruer, ængstes, Ubehageligheder, Ulveklæder, Dunhoved, hulde, Skuffet, Hyrde, flittigt, Skrællingen, korresponderer, Tal, Kjerester, Malm, oplever, tilstod, Berolige, dåre, blæse, Skjækerne, Ho, gider, gjettet, skjænker, Lurendreiere, skylder, advare, Leg, grædt, 52, moden, Forlibelser, 234, 116, frels, riv, 194, forløbne, Coelibatet, udgrunde, opheftede, Tumleplads, uddø, Antydning, Lege-, forelsk, fordømte, Anskuelse, opmuntrede, 259, svæver, Allersidste, Sofien, beriget, trygle, e, 118, Verdenserfaringer, fortrolige, Glasset, Strenghed, Helvede, Pinedød, Snerper, Hulken, altbeseirende, overgiver, kuns, iøinefaldende, Taskenspillers, naturligere, Ædelmod, Temperament, skjønte, overdreven, fordrukne, Bænken, uafhængigt, Reglementet, Husmødre, Henvisnen, pragtfulde, udfolde, Saksen, 268, grusom, værdigere, Middelvei, Betydningsløshedens, skyndte, nævntes, uforbederlige, beskjærme, Fletningerne, Maleres, uopmerksom, håbløse, ætherrent, fristes, Snakkelyst, Husmoder, Es, misforstår, Nede, Allersundeste, Sønnen, Maleriet, Fremtidsdrømme, forbinde, Hoppe, Emne, snildt, Cognak, bøier, Blændverk, Ligefremme, Papegøie, Gamles, Dualisme, fortrydeligt, Charlotte, Kontor, fortryllet, 141, 24, interesseret, jordet, Aha, Fik, repræsenterer, kjøler, hjertebedrøvet, hjulpne, Kongesøn, hvileløse, bæmerket, identificerede, Monument, betød, Glemselen, fordømt, anbefale, Skintilværelse, Bopæl, Bryllupsfest, Hede, 1879, Ham, Gadehjørnerne, Jagtdragt, spøger, indlade, Eier, Sporerne, Voksdukke, udslette, sygne, Holmn9, probat, redelig, vanskelige, 163, Stratonike, Niche, Heroisme, Stedmoder, virksomt, Nytår, Temperatur, Antiochus, gal, inddigtede, Bærme, blakkede, sluge, Perler, Kant, Taucher, Mellemrum, Husvarmetheorier, ringere, Skolebøger, Orde, medført, flyttes, Duren, hengik, indtræffe, blindt, savnede, Hyrdinderne, Ovn, Dernede, Selvstudier, 124, Hyrderne, undværet, Ulykkesspådomme, Snue, Dybder, sentimentalsk, Bekymret, friet, Hovedbetingelserne, Interessen, Hjørne, Sø, slappede, Udtog, troende, tankefuldt, /, Dykkerklokker, 89, skede, 285, frygtsomt, lyserød, melankolske, bindegale, sorgløsere, Klasser, Slyngen, was, Kommunikationsmidler, Tragedier, betegnende, vender, Bibel, Landboforhold, Forsynet, svimmel, Flaskerne, Habit, Shakespeare, Blendværket, Ginevra, Falkejagt, høitflyvende, Livstilskikkelser, Lampens, Syskrin, kuriøs, usvækket, Landstryger, lusket, Geniets, 300, smiler, nymodens, svermeriske, vild, forglemt, Besynderlig, isolerede, Tagfat, Barselseng, narrer, Moster, ist, Afmindelser, vever, vrage, Vandring, omkredse, Benet, tumlede, besverlig, sikrer, trøst, Sophokles, Rhinskvin, Titelen, Håbefulde, magrere, opsøgt, Konfekt, blødere, svoret, Sags, idel, Sagnet, Biroller, 151, Anne, jevn, hviskende, Arbeidskurv, Tårerne, arter, Kokkepige, Bleghed, Fortrolighed, Romanen, taknemelig, Frederik, Syning, nidkjær, påskjønnet, Reiser, Faun, straffe, Væk, Høider, mishandle, Sagn, bestikke, Vindbeutel, Y., Konen, Ford, Tænkte, gentile, trodset, B., Titelbladet, Opbrud, Rådede, Nødvendigheden, Psalmebogen, Dekoration, Hjertekamre, Kontrasterne, Rodeinddelinger, Sygesengen, Tilstandene, Lande, Rasende, bestemtere, Glædesudbrud, gjættede, stormet, 84, Kjølnen, sygt, fremtrædende, Oldemor, Begrændsning, glædessky, O., broderede, Forbundsløven, godvillig, Tort, trampede, trøstet, Beundringsrus, føltes, kjører, Husretten, omgåes, glemmende, opmuntre, velordnet, arbeidet, Biron, ubestemt, 316, spottet, Individualiteterne, Forholdene, Landsmænd, Evnes, Duftvækster, Bitterheden, parfumer, fortroligste, Psykologerne, desperat, krænkede, skjules, Fysiognomier, Huses, vride, Bagtalelse, indestår, Rod, storme, dansende, Pynt, Bestyrerinde, Poesiens, benauet, Kones, nærmet, Honnør, Samling, Skillevei, subtil, rumme, uklar, Lordgrillerne, kjæmpet, gjennemskue, Ydmygelser, uafhængig, ledende, pustede, ubønhørt, Søskende, omstændeligt, Stjerneskud, Afgrunden, Anretningen, fornegtede, Retterne, takker, dumme, Ræk, forbandede, Triumf, indeslutte, Forsagelsen, utroligt, Pruh, uimodsigelig, utgave, føies, resignerede, Drøftelse, mælte, Huldrene, furede, skjæv, præstere, Tænder, helligt, Hval, strakt, Kristin, teksten, utgaven, Minutter, Tallet, regner, urent, 334, lyslevende, Forlang, Vår, frappant, Angerpletter, bæver, vissent, Antal, Tredivetallet, Reiselysten, Sandkornene, vrantne, niogtyve, Norne, Ventilationer, frelse, Vildfarelser, erindret, Annotationsbog, Barndomsdrømme, forøges, tilføie, iaften, Lev, Personernes, Terminer, fatal, vantro, Niogtyve, erklæret, Håndklæderne, from, tæller, Epidemien, Numrene, kyniske, ungdommeligt, forstød, påtide, blier, væddede, Magen, beskinnede, uundgåeligt, Bureauchef, dødelig, indredet, helligere, unævnelig, knirkende, bytter, fortjene, bistre, Dørene, Overraskelser, drikkes, Natlys, ukjendeligt, Fjæs, Behandlingsmåde, berettet, treogtyve, Ekcentrisk, gladeste, fordrager, Dyrebare, 319, Skjænd, afhandler, Colletts, signe, hél, Nelliker, morsomt, Vase, parallellvisningen, Ubedragelige, omfavne, ligbleg, klagede, viss, høihalset, sideskift, klipper, haster, Bror, Embedet, fæle, skamme, grubl, udgjød, Mathilde, ringeagtende, betydelige, klatre, Upasselighed, begår, Ryger, deiligere, Helbred, femme, Skjændsel, Birolle, anfegtes, hindret, hitte, Bærer, Merinos, klammer, Biskopens, emancipée, Anstændigheden, Sidder, Fy, Græd, Amtmandinde, fungeret, halseløse, bekymrede, Jamren, 16, uskjønne, Blomsterbedene, kostbareste, Gratiøse, Amtmands, afskrækket, tilhest, Lokkerne, tvers, rædsomt, Menneskeforstand, set, Tornene, Informator, Fuldmægtige, 251, Herefter, omgive, oplyst, nystoppede, melankolsk, Dyder, grænsede, slæbende, Tordenbygen, Ravhjerte, Oversigt, medtagen, Forstød, kjerlig, Hører, Skårene, slukørede, forbrudt, udsat, Stakittet, markert, forræderisk, overlæsset, brusende, Fire, vakrere, Maskineri, Taknemlighed, Alvorlig, prægtig, Skogs, Hallunk, schöne, hu, afgjort, Æresmand, opgivet, ministerielt, opleve, faldne, spil, tillades, Kløften, Regnestykke, Beskjæmmelse, fordriste, Kopist, gudsforgåen, Wiger, rosværdigt, Årn12, Levemåde, traditionelle, nedrig, Herrens, guddommelige, overdriver, Metamorfose, dyrebar, Tilbedte, Zeiten, Etatsrådinde, afspise, Morges, indgydt, digital, Fligen, betænker, omtale, Ømheden, gratulerer, gedigne, Overmåde, leget, Karlos, Nessheim, waren, Disharmonier, tredjeutgaven, Slyngel, supplerede, fornærme, Tiderne, Mønsteret, tumlet, Revisionsdepartementet, sterk, Ellen, rimelig, Nok, Yndigheder, skjendigt, Storthingsmand, rummede, Ydmygste, bedrøvetn38, brudte, Bygdeprokurator, fortabes, Adgang, Ivrigste, Tjener, Lensmandspost, Fiskerhytte, tapper, gløder, Iduns, 100, ramponerede, Information, 327, Paludan-Müllers, rigeligt, Blakkede, Barsel, bokselskap.no, affærdige, Skrædderens, indesluttede, Originalt, selvbevidst, språk-, Sandfærdighed, Flammen, Sæt, farvet, Fat, Polskpas, lyssky, Prik, sandfærdig, lallende, analyseres, Viktoria, besøgt, litteraturselskap, Vidnesbyrd, nitten, sønderrevet, intime, pånyt, Lim, toogtyve, nøiagtigt, afskyligt, Nå, besvoret, indbragt, Air, klynke, hyggelig, lumpent, frapperet, sytten, Fugle, Yngste, fanger, læge, tilfredsstillede, Underansigtet, forpagte, nedslagne, gunstigere, greiet, Møllestenen, Farvandet, Sluseverk, Halsens, Broderen, kummerfuld, oh, urgamle, 121, Reparationer, opsætter, Derhenne, opofre, Justedalen, spilder, sage, fjantet, Wangen, mediterer, vælt, markere, Væbnet, verschämten, Voksen, tekst, affekterte, barmhjertigere, inn, Metamorfosen, Kvaklerier, Jungfrau, erobrer, Utgaven, hidsig, bestille, Ædleste, gelassen, Varetægt, sich, jevngammel, steh, fortryde, slik, rastet, utgivers, roligere, føielig, hav, kapittelinndeling, laget, Heine, Fortabte, tanke, heromkring, Velbekommekysset, forlegne, Kjørehest, Camilla, miskjend, lesingen, opbragt, Pædagogus, misunder, Damen, fredeligt, rådet, trallende, Legemsstørrelse, Vielse, September, ekstra, Levebrød, Fordom, forblindede, Beundrer, luft, gale, Atlaskeskjoler, Smertenskorn, kjede, Kjolerne, kapitteltelling, rødmede, spadserte, skræmte, Befordringen, besværge, himmelfaldne, Noen, sieh, rådslog, Taskenspillerstykke, Schiller, Koloratur, Troppisters, pyntet, kniber, vokset, Mikkelsmis, angrer, die, Skjelm, udsprungen, Maskiner, Indtægt, høimodig, t, jammerligt, kapitler, lyriske, Bygdefrøkener, modsætter, forfølgende, schüchternen, rodfæstet, gjæste, utaknemmelig, ufornøielige, -, opsamlet, litt, selvironiske, Ti, Kløverblad, Henvisnede, græder, Overbevise, Pokkerivold, skeptisk, Oliemaleri, Kristianiabeboer, savnes, lastet, beundret, Slægterne, stivnende, trykk-, Allermindste, utført, hold, trætter, Ansættelse, Lommetørklædet, tossede, ræd, hilse, Skose, Stenhjerte, Menneskers, uddele, skalv, forgifter, tyk, Afsted, Antikvitetsjæger, udskrige, Kugle, Fødsel, ubarmhjertigt, Kalveland, Livstegn, Opplagte, Vertinden, bragende, ilive, ubeskadiget, fælt, Romanscene, 310, Gry, setterfeil, skurrede, klaprede, harmfuld, indvendte, Sommerhede, Levningerne, Syskole, forbauser, musikalsk, Lomme, tvungent, Sov, betydningsløst, herned, beholder, 294, Takt, Sædvane, underrette, jamrede, Behandlingen, Perorationer, besindende, afsindigt, hensyn, Berg, observeret, Damehest, overstige, tvil, huldsaligste, styr, Javist, betaget, fastende, Doven, ligedan, lønne, betvivle, Rivning, betvingende, uroligt, forsiktig, Forvovne, Slørene, Slanger, mageløst, brustent, moderat, undseligt, rettelser, Bevares, Rococospeil, Fremtidsplaner, Manuduktører, Høi, Høist, Tidligere, utgitt, skjænk, udstået, Cammermeyers, umulig, Mikaline, slukt, Landhusholdning, Halli, Sheherezades, Menneskekjerlighed, Overordentlig, 318, skilt, Engelen, 320, Digtere, Smeden, Dumheder, født, Begå, forbarme, betakker, sirligere, emanciperede, Stangbidsel, hårdhjertet, Hallo, Språket, Institut, emanciperet, kultiveret, Dårskab, Hid, Stangen, modsagt, Organisten, Forgjængere, Langtfra, gjøende, Forlag, Oprørende, Alb, granskende, lettede, Stedbørn, sagde.n36, Tekstgrunnlag, ble, Udrydde, jaså, Vingen, Gyseligt, Tølpere, Emnet, uvillig, flittigere, stikker, Talerne, Gemak, Erkeprosaist, normalisert, anbragte, Jochumspladsen, afskjere, Tys, Byttet, Profilen, råbe, Seiervindingers, tonløst, fletter, passet\n",
      "\n",
      "om-denne :  om, denne, men, ;, ved, ], [, sin, –, Det, man, da, dette, Sofie, kunde, kan, hendes, dem, fra, vilde, Jeg, over, vil, Hun, hans, selv, ?, ud, end, hvor, være, eller, dog, disse, mere, De, Men, nu, endnu, alle, skulde, hvad, vi, noget, når, kun, skal, Den, have, I, efter, En, kom, mod, os, uden, igjen, også, ingen, Alt, Dig, hele, stod, nok, blot, deres, sige, under, netop, må, se, engang, Noget, her, Og, Ord, Dag, Der, blive, syntes, lille, Øieblik, Mand, meget, sådan, ligesom, altid, O, mellem, al, eneste, År, Liv, samme, hvis, anden, bliver, lidt, Ingen, Vi, således, gjennem, få, gå, Hendes, Hvor, gjør, bedre, store, Her, Måde, Øine, Andre, Sjel, Fru, Følelse, Alle, mange, Side, Dette, godt, tog, vore, hvormed, enhver, alt, bleven, intet, stor, hvorledes, Ved, vort, Kjerlighed, fået, alene, finde, foran, let, kjender, Udtryk, smuk, rigtig, synes, Ak, holde, dine, Art, Ikke, Ret, større, står, undertiden, Livets, Ulykke, endog, ligeoverfor, deraf, næste, ude, almindelige, ladet, Var, længere, sålænge, Dog, elsket, falder, Kulde, både, hverken, nogensinde, Dragt, stå, ondt, Sag, Kvinde, Hustru, Vilje, mild, Moders, kalde, Lidendes, måske, virkelig, hos, Gang, Stolthed, ganske, vor, stakkels, gjort, aldrig, ned, sine, unge, :, været, Når, allerede, vel, egen, næsten, «, holdt, sit, går, stille, Børn, Tid, kunne, siden, mine, op, Pige, », ind, Ting, nogen, ofte, Denne, Hvad, thi, Ja, Gud, første, Menneske, blev, gjøre, Da, medens, tilbage, ung, gamle, måtte, jo, gjorde, bedste, Glæde, seet, min, gik, sagde, derpå, Amalie, heller, ja, Hjerte, vidste, nogle, Lykke, længe, Intet, snart, ser, Moder, hvori, tror, fordi, komme, to, Man, endelig, Blik, derfor, sandt, Müller, mit, indtil, Nu, Et, Verden, Om, dens, Han, kommer, viste, Har, vist, give, inden, Andet, før, først, slet, Barn, bare, begyndte, Ansigt, fik, mindre, din, tro, søgte, At, andet, hen, tænkte, Væsen, Ramm, Sofies, Kold, sagt, hvem, Magt, lå, For, Grund, frem, Anden, ligeså, Hus, smukke, neppe, straks, taget, troede, pludselig, faldt, fandt, Dagen, sidste, høre, Med, ene, Forhold, Livet, god, o, derom, Navn, Nei, gjerne, Huset, Mor, Skjønhed, Stemme, kort, Hans, Indtryk, lidet, Mennesker, nei, liden, hin, Dage, lagde, slige, følte, udenfor, Deres, havt, tage, talt, Landet, siger, Hånd, Enhver, Brandt, sad, Lorenz, talte, ligger, hver, Tanke, anderledes, hinanden, ret, tilsidst, hjem, hørte, ethvert, Dem, Stilling, Ven, lod, Par, mest, andre, gået, bringe, Efter, Værelse, bort, Døren, lade, Tale, ad, langt, turde, Søster, gav, Luise, Hår, Gange, Grunden, gode, hjemme, egentlig, lige, imellem, Slags, lægge, kommen, omkring, kolde, gives, bag, trådte, Bevægelse, tænker, lange, Hoved, Ro, Sted, nye, dertil, gammel, sætte, kjere, Er, ny, nær, forstår, aldeles, idetsamme, Interesse, Aften, forbi, hvorfor, sammen, idet, søge, rolig, Datter, Skyld, Så, tænke, hørt, altfor, reiste, Edvard, På, Plads, tale, Hele, dit, Ada, Gården, får, Bordet, Min, smukt, Skjebne, Rein, spurgte, Frygt, Bedste, Georg, lykkelig, Tegn, ske, hvordan, visse, kunnet, Guds, Håb, Provsten, Virkelighed, burde, med., Kan, Hvorfor, mærkede, Forældre, Frøken, sådanne, Tag, hårdt, Grotten, flere, forstå, Far, trænge, Hænder, nede, hører, Bryst, Lov, Sådant, tænkt, Forstand, mig, føler, tager, hine, Hvem, altså, sand, Hvorledes, blandt, roligt, idetmindste, dels, Lod, Stenen, åndelige, Tante, naturlig, alligevel, tillige, Klokken, giver, Styrke, Tillid, søger, Hr., Penge, Selskab, tilstede, øm, fuldkommen, Slægt, Bestemmelse, Caspers, naturlige, kjendt, Veninde, mangler, Alting, hundrede, brudt, hvorved, virke, Historie, forenet, Altså, Hvis, mener, Madame, Bevidsthed, dernede, venter, bringer, Bånd, sky, Nytte, Tone, oprigtig, rigtigt, Syge, længesiden, Betingelser, Skjønheden, Slige, reiser, Svaghed, fin, viser, Tider, Rette, Romaner, Ungdommen, evige, glimrende, Lidelse, Tusinde, Usandhed, Håbet, Arter, grib, virker, nytter, skaffe, fortjente, Ønsker, Almisse, Kom, forsigtig, Fare, Interesser, Gaven, Bryllup, Svælg, isnende, Uvilje, dæmonisk, Kår, Erindringer, mærke, hellige, Straffe, desværre, forfærdelige, plage, Kristianias, Opløsning, ni, Situationer, tjener, lykkeligere, Kontrast, lettere, Forholde, Behageligheder, Buret, medlidende, bestemte, Gid, ligne, Inddeling, almengyldige, ulidelig, Bruden, nævnes, Bønder, Forsørgelse, savner, eksisterer, Undine, Søvnen, Mådehold, Slet, tidsmæssig, handle, forsømte, hilset, feig, Forholdet, usle, hjertelig, bliv, Blot, Tilfældige, Beklagelser, Navnet, Nar, Spørgsmålet, rettet, Sædvaner, vokser, navnløs, klage, overdøve, Fornuft, Ånder, 28, Glem, Forsonlighed, overlegent, imorgen, moralske, 225, Skrifttræk, voldsomme, foragtede, 195, bedraget, hade, ligesåmange, Håndsrækning, due, fornuftige, Favn, Sygeleiet, sjeleligt, Sygepleie, Sygeurimelighed, Ikkeformeget, Pleierske, Inspiration, Begrebet, kogende, besjeles, pine, varmes, Feilgreb, syges, Angsten, Sygdommens, hjælpeløs, afkjøle, Simple, overladt, Kapricer, ledes, udannet, kjerligste, Adamine, Øren, Midte, 236, Fattigkommissionen, Stavelse, Dagbog, Æresfølelse, Dansk, 181, plumper, omgikkes, venskabelig, Mishandling, Pulsslagene, privilegerede, Sløvhed, Forfølgen, Undergivne, fly, Grader, kvælende, bestaltede, visnet, Tortur, hjulpet, Alverden, Storhed, uundgåelig, Livsopgave, underligt, hindre, ringer, Grundpillerne, Smuler, afse, Last, Arbeidslyst, bemægtige, luge, skjærpe, Sædelighed, Ukrudt, Overflødighed, Erhvervede, indse, Belønning, Gaverne, erhverve, Ringeste, Almissen, Sæd, udeblive, arbeider, Læsere, Trøstesløsheden, Danskheden, Tilbage, besværlig, 201, Sorgens, did, forkrænkelige, Indholdet, ryster, forringes, elskelige, Håndskrift, Afdødes, Lap, Lidenhed, svimlende, usandsynlige, afvisende, Utilgjængelighed, Gysen, bekjendten19, pulserer, 50, Amerikanerinderne, værner, Offentlige, uafhængige, Kaldelse, fortælles, Egoisme, Arvepart, Diamant, Arrogance, slibes, fordømmer, Kruste, Verdslighed, Diamanten, udholdende, Ungdommens, Ægtemand, Forurettede, uforsonlig, Nerverne, Undseelsen, Foruretteren, forsent, 161, Klokkerne, opdager, bæres, Bortgangne, kristelig, vemodige, slip, sterkeste, halstarrig, sigter, tekstene, Sjeledrift, ærekjer, uplettede, skiftes, herfra, lydeligere, Sjæl, Bort, Hustrus, side, anfægte, dybest, Vildelse, helbrede, Lidelsen, Undseelse, Hungeren, Eiermanden, 296, Fandens, Panden, Stjernerne, nedtage, tiltror, Dybde, Forviklinger, avertere, afvæbne, Offrene, tårefulde, grunde, Religionen, lover, Bødlerne, forsker, Burde, Bi, God, Familielivet, ændre, Åndensn1, udfylder, Fortsættelse, benævne, fastslået, Vinduesruderne, ufeilbarlige, fremmaner, Ubeskrivelige, Dunbølger, Gjesteværelse, Efterretning, Terskel, Indtil, uopnåelige, Kjæmpesengen, Fusentast, udtrykker, forandrede, Trylleformular, kap., indadvendte, fremkaldte, ammes, Mennesketunge, 1, Afsluttethed, 2, Ar, vandt, slukkes, jog, klager, uskikkede, forhåne, Karo, Aftes, Majorens, tilblods, vurderer, Norge, Karaktererne, nedbøiede, sur, utydeligt, Komplektion, ensidig, Sommerklarhed, hliv, udtrykt, Jomfruen, Ritmesterens, vinterlig, Vaklen, skaf, uten, uforligneligt, dufter, Aprildag, vuggedes, Milen, dømmer, Uddrag, arveligt, Brændspeil, drøit, studerte, Beretning, ubevæget, antageligt, indstrømmede, velge, foredrage, Knebet, føsterlige, Fortid, foresvævede, knække, forlange, ubrudte, dårlige, Kl, røgte, Elskværdigt, Kapitlet, Vane, basetekst, II, andægtig, Pude, punktum, Pluralis, hei, Spillende, angrebet, Horizonts, Lea, Bliv, skjænde, fysiske, istemte, udmerket, forstille, gjettede, Balles, stirrer, spærret, træl, indskjerpe, Geografi, Huser, Bjergtroldene, positivt, Smerterne, hastigt, forfærdede, Fjerdingvei, Røsten, Ærinder, Solrinding, pitoresk, Utilstrækkelighed, Kirurg, Dødes, Ørene, Sværg, indser, påtvinge, voves, Lærebog, ufrugtbare, Satyrblik, Natlampen, overliste, Småønsker, blivn31, Næring, Robinson, Kufferten, Minni, volder, lev, underkaste, Thiemes, Sne, Nisse, Replik, påfærde, Erindrer, Invitationer, Bibliothekn26, kromatiske, Angersskål, Vælg, tig, Operationen, Platous, Menneskenaturens, Øvelser, våndede\n",
      "\n",
      "Skat-Skabning :  Skat, Skabning, Sådan, Væsener, dennes, Egenskaber, Væsens, Udvortes, Aks, Jer, Ulykken, Skånselen, stum, vågen, Krav, Indtrykket, Vrede, behøvede, Tunge, Tilfældet, Trætop, huske, Seir, glinsende, Kamp, Vind, poetisk, mørkere, skudt, gjennemtrængende, vedblive, Elskværdige, Nådens, Selvagtelse, Fineste, Agernelliker, Stubber, afmeiet, uagtværdig, Inderste, Skrækkeligste, bølger, silkeblødt, Ager, udgjør, resignerte, anretter, Afskum, Hvedeageren, skikkeligt, strække, Smykke, ., Varsel, ,, forblev, Livsskjebne, afgjorde, lammet, Diskantstemme, vansirer, bansatte, nedslående\n",
      "\n",
      "og-i :  og, i, at, en, den, det, der, ikke, til, var, af, som, på, med, for, sig, et, havde, de, hun, han, ham, hende, sang, blå, imod, stort, ellers, levende, dengang, fundet, begge, hvilken, lang, Brev, Nogen, Sind, Hånden, imidlertid, tør, tidlig, Gamle, Dame, Siden, bestemt, Dorthe, drog, Amtmanden, sjelden, slog, Stykke, Trang, forekom, kjendte, sagte, små, kommet, derimod, Alder, Brøcher, Arme, Anledning, Vinduet, megen, oppe, vis, ventede, Træk, Tanker, Kun, eget, stærk, lykkelige, førte, Skræk, drev, Mine, drage, Røst, senere, fulgte, Angst, igjennem, Tilfælde, Damer, halv, Opmærksomhed, svarede, Skikkelse, Søstre, givet, Folk, skjønt, fine, Fruen, hvorpå, påfaldende, åbne, Del, nemlig, enten, Natur, Under, dyb, Haven, blevet, besynderlig, bragte, Tilværelse, forstod, Sorg, dannede, vakte, kaldte, Familien, desto, Således, Som, mindst, Øie, Veien, kastede, Hovedet, Kreds, Endnu, Stund, dybere, Ét, Karakter, strålende, dunkel, Ungdom, bar, derved, oplevet, Time, såre, Evne, Begreb, Kristiania, forladt, Lykken, Meget, hvert, Lyst, Stuen, Ønske, greb, Lyd, ville, Trøst, høist, tusinde, dunkle, kjende, hvide, Thi, satte, ulykkelige, inde, Amtmandens, brød, Tanken, Drøm, Form, nyt, vakt, Damerne, tre, Søsteren, indre, læse, lader, imøde, Begge, hvilket, Smerte, Svar, Nat, trods, Samtale, glemme, Spor, Spørgsmål, sov, trængte, Lys, Tilstand, klart, s, fire, forrige, Timer, Hjem, lære, atter, Naturen, uhyre, tabt, Menneskene, Neppe, Nød, Følelser, bragt, Piges, Mands, Forbindelse, stærkt, Breve, løse, rig, midt, åbnede, indenfor, Skygge, ældre, hel, hvortil, opdagede, især, grønne, lød, ei, elskede, nærmere, Uro, Andres, Kone, grå, Besøg, hvilede, stirrede, Sprog, Tiden, hvilke, Luft, husker, Tur, dybe, mer, Dør, vinde, Tårer, Vis, ivrig, ligge, lukkede, Jomfru, stumme, passe, Solen, drømt, taus, Luften, sluttede, endt, Punkt, Pigen, frisk, Endelig, traf, falde, bagefter, egne, fuld, virkelige, Søvn, elske, yngre, tilfreds, Syn, dø, Himlen, Iver, ægte, Vei, Blade, Kjole, mødte, danse, forklare, Grad, grebet, elskværdige, Til, Livs, Fremmede, vente, overalt, Øinene, gjaldt, lykkedes, blevne, nå, Pause, Forundring, ventet, bøiede, Gjenstand, deri, Seng, Morgen, Først, Tvivl, Ene, skrev, Bevægelser, stansede, høiere, Miner, halvt, rørte, vække, Byen, reise, hvoraf, sent, mildt, Varme, fri, Af, Midler, vandrede, Eneste, Lyset, nået, strakte, Person, Smil, Samtalen, tilmode, Morgenen, Farve, steg, Margrethe, manglede, Hemmelighed, desuden, Samfund, Pris, Fremmed, fast, lyse, Venner, Forandring, kold, Amalies, vundet, tilside, Elskede, fortalte, Dagligstuen, sædvanlige, ulykkelig, ydre, vise, Mænd, naturligvis, Sagen, begribe, Samtaler, tomme, stak, Jo, Moderen, stolt, alvorlige, lykkes, Løfte, Kampe, Søn, opdaget, drevet, fyldte, vendte, Betydning, Fader, Trin, Ethvert, glemmer, videre, Sider, møde, tilbringe, Udbrud, Inden, Jorden, Støtte, fortæller, spillede, hurtigt, rakte, lignede, langs, Beundring, overordentlig, Klæder, løb, ungdommelige, sneg, føre, rigtignok, Hjælp, deilige, sank, Elev, hang, lidende, dets, Vindu, dobbelt, ligget, Billede, røbede, Kræfter, skuffe, naturligt, Opgave, Blikket, Medens, milde, Fornøielse, Sæteren, Fornemmelse, opholdt, Sommeren, mangt, dybeste, Familie, Ånd, Fylde, rette, tom, huslige, nød, Breien, Slag, forgjæves, Lærer, tjent, Herre, Talen, hint, mørke, endte, Offer, Øre, omtrent, villig, korte, Sten, Lidelser, sikker, Fryd, strømme, Vor, anede, klang, Nogle, Elskværdighed, egentlige, Erindring, følge, usynlige, fremmed, Kolds, Barns, Dannelse, Ordet, søgt, afbrød, Musiken, Hjemmet, Ramms, samle, Leilighed, Skrig, hadede, Scene, Præg, Skoven, lokkende, Mund, Aftenen, fattet, Fødder, Lille, færdig, bitter, nåede, værre, Række, Sandhed, ensomme, Mål, truffet, Dorthes, Munden, tabte, hvile, ilde, blomstrende, Betragtning, ømme, hvorfra, Hos, tête, sædvanlig, Bøn, Suk, mødt, tilbragt, opfyldt, skarpe, bestandig, Sang, Gulvet, opsøge, Dammen, Bog, Musik, Værelset, underlig, gribe, høieste, dansede, uimodståelig, skrevet, Figur, lig, begavet, Lokker, Retning, blandede, Kirke, Drømme, Høieste, vanskelig, forlade, gift, Skjul, Uvillie, menneskelige, Sjels, enkelte, træffe, eier, ren, varme, Mere, Indre, hemmelighedsfulde, Træer, simple, Vigtighed, Forvirring, tilligemed, båret, fuldt, herlige, varm, Møllen, Øieblikke, henvende, Maria, Legeme, Forskjel, flyve, Sidste, rev, skuffet, Brandts, Undertiden, urolig, bevogtede, voldte, nyde, Børnene, sender, Gut, helt, bedst, Søstrene, ophøiede, Omrids, farlig, friske, forreste, Orden, lukket, Fristelsen, Længsel, Egnen, begyndt, Lyden, Synet, derover, fulgt, Virkeligheden, glemte, temmelig, ældste, dermed, skjøn, Mulighed, stormende, Nærheden, Væg, voldsomt, befandt, Nysgjerrighed, Hals, skjult, dølge, Omhu, trygt, Afsked, tørre, syge, deiligt, Rædsel, To, gifte, dvæle, overrasket, drømte, Stilhed, Ondt, bemærket, stillet, forsømt, Forretninger, Egn, trådt, styrtede, dygtig, undgik, Afstand, Skinnet, største, Trappen, Arbeide, Jord, Holdning, falmede, Flor, Beslutning, sød, foregik, Duft, nærmede, frygtede, Opførsel, blotte, Dalen, forsikrede, Virkning, arme, skikket, Stue, Udholdenhed, Smule, forsøge, hårde, synge, rene, op., vant, Ramme, Omgivelserne, erindrede, dømme, Situation, Ydmygelse, modtage, nære, Råd, griber, redde, Mama, bede, Vore, Pligt, brede, Hver, formåede, borgerlige, modtog, blanke, hemmelig, Krog, almindelig, gjælder, besynderligt, trykkede, Overraskelse, Drik, sorte, Bunden, Afslag, tillidsfuldt, Nødvendighed, Blomst, jordiske, negte, fløi, Vandet, lette, Oprør, ungdommelig, Bøger, Henseende, følt, tilhøre, Altsammen, efterat, overvældede, Brud, Skade, fortrolig, Gratie, Mængde, Bønner, Provstens, råder, Velsignelse, bævende, stanse, hidtil, Kjerlighedens, besvaret, Øiet, spise, v., indtagende, forsøgte, Sti, Forelskelse, skinnende, heldigvis, Forklaring, stive, stige, erindre, enkelt, rose, Skuffelse, Lykkelige, lukker, Unge, Sfære, bød, berørte, Vognen, Afreise, høitidelig, Nærhed, forlovet, trak, Stræben, vækket, passede, hændte, Deltagelse, løfte, tolv, rundt, Angreb, klar, udbredt, Udsigt, tynd, Omgivelse, Overalt, deilig, Indgangen, Vinduer, Medlidenhed, hvergang, Forsøg, Reise, samlet, Stort, rystede, derfra, forstyrrede, Glæder, måle, Marken, Betragtninger, vækker, Gardinet, Portræt, istand, Tålmodighed, Opfatning, Nærværelse, Rygtet, forud, stærke, Broch, Over, behagede, Vold, bleg, afløste, kvindelig, volde, Kinder, Leiligheder, Natten, mindste, Skygger, lignende, Fruens, Selv, Bevidstheden, glade, Fred, Stien, Møllerup, Heftighed, skjønne, Hund, Aldrig, optog, stående, Skjær, Ydre, fører, spørge, Rum, uskyldige, Linier, tidligt, selskabelige, særdeles, Støvet, nylig, øvede, dannet, skete, Bekymring, vågnede, sirlige, Første, Hvilke, forgjeves, udtalt, tilfældigt, Ole, Åen, passeret, Fald, Yngre, Feighed, evig, Lune, Feiltagelse, Dagens, ilet, Evner, The, Spøg, yde, Gåde, høi, krævede, øvet, Stråler, Armen, ungt, Omstændighed, lægger, stigende, triste, Glas, venlig, inderligere, træde, frygter, forekommende, Tilbud, begynder, usynlig, dæmpet, beregnet, onde, ædel, beskjeftigede, bestræbte, Markerne, streng, mærker, Selskabet, fjern, letsindig, bryde, Øiemed, bemærkede, sendte, Summen, tålmodig, fremad, jevne, overraskede, Anlæg, Erfaringer, Resignation, Sygdom, ubarmhjertig, Kirken, flinke, kaldes, tvertimod, røde, Alleen, tungt, såkaldte, Opdragelse, brast, briste, istedet, græd, tages, Våren, optaget, Hænderne, Råheden, Reisen, flytte, uvilkårlig, nærme, Humør, mærkværdigt, hjælpe, Stød, Begeistring, sjeldne, udstødte, vanskeligt, Måder, fortræffelige, livlig, Latter, gaves, træder, Bord, ufrivillige, ubemærket, sørge, personlig, forestillede, Ringeagt, Øiebliks, iagttog, falsk, alvorligt, beskjeftiget, Toner, Mindre, Rolle, tunge, Personlighed, tie, røbe, underlige, Faderen, særegne, Snit, Slør, Dans, livlige, Fasthed, benyttet, berede, bekjende, Baggrund, Affektation, Dertil, lyttede, Parti, Tilstande, egoistisk, fulde, undrede, fortvivlede, Flugt, Hvælving, derefter, spørg, foregået, Kammer, Ide, opstå, forskjellige, klæde, findes, Værelser, Sofaen, ubønhørlig, Karoline, Søvne, sandsynligvis, skjuler, reist, norske, sandere, Forstyrrelse, hængte, synke, Volden, Vilkår, Brystet, berusende, vænnet, trukket, Dukke, Verdens, Mindste, Forståelse, Harmoni, umærkelig, udviklede, Møde, huskede, Vuggen, Lidenskab, kvindelige, Yderligheder, derhen, fornemmelig, angår, Egenskab, Støi, tillod, Opsigt, Søndag, taug, forkyndte, Høsten, forsvandt, modstå, henvendte, praktiske, Opdragelsen, Virksomhed, voldt, såmen, udtalte, ovenikjøbet, instinktmæssig, Mad, Dybet, Ridder, fredelige, høilig, fint, rød, skeet, à, gammelt, Længsler, Pibe, mangengang, smertelig, Døtrene, Hjemkomst, Kjøn, udvikle, besøgte, driver, overlod, Skin, tilhørte, latterlige, smerteligt, Civilisationens, bevæge, afsted, vid, Mode, betog, Vandfarve, affekteret, støde, trist, Farer, nævnt, Overgang, streifede, ubetinget, Vanvid, Ende, hilst, pleie, Middel, forvirret, Ly, svævende, stødt, blændende, Hesten, varsomt, barnlig, indbildte, Afsnit, nydelig, Land, bedrøvet, Eder, Byens, gjennemgå, brændende, paa, Brug, Stykker, Sikkerhed, oprindelige, Værd, modtaget, Sporene, Slutning, sende, oplyste, skrækkelige, Møie, sande, beskeden, Graner, Pladsen, udenfra, bevægede, iført, rørt, Bekjendtskab, Husets, tause, ovenpå, ubevidst, Ceremonier, omtalte, veltalende, selve, Lampen, række, osv., Halsen, stødte, Værste, Travlhed, stiv, skjændte, Træerne, Helt, ombyttet, hvid, Glæden, Eventyr, undvære, Veltalenhed, forinden, dunkelt, kritisk, tilstå, Gårdens, Fordringer, Læber, uhildet, Adas, Tjenestepige, Havens, broget, hjalp, Lægen, udvikler, Dyb, Pianoet, Ryggen, elendige, bekjæmpe, kjerlige, Amtmandinden, stivt, Fjeldet, Lindring, Kvindens, Forestillinger, Luises, Beskuelsen, fremkaldt, Uorden, slyngede, Komedien, usædvanlig, Flid, Igår, umoden, Udtrykket, tomt, Omstændigheder, slå, Stine, tilstrækkelig, formelig, Hjertets, opnå, Naturer, arbeidede, dyrebare, blege, beskrive, Værk, Vildt, Reisende, Folkene, uagtet, forfærdet, Års, alvorligere, Klasse, bør, ubehagelig, afskyelige, Almindelighed, bemærker, Familierne, Byrde, såes, Sjelens, yderst, oftere, pinlige, forsvare, Glimt, koldt, vandret, Ugen, bi, ubeskriveligt, tilegne, såmange, Forbedring, strålede, frivilligt, eiendommelige, venlige, Hygge, erfaret, Læge, Idet, trøste, Samvittighed, (, malet, Taler, tegnede, Godhed, Kulturen, Små, Salen, Spørg, vemodig, Træthed, ), øvrige, ilede, ubevægelig, Bakken, Lighed, Døtres, Stand, vistnok, hævede, skreg, udsatte, vanskeligere, trængt, Raseri, tynde, Hengivenhed, ædelt, Tilhører, bo, nødvendigt, Gjester, vidst, Hjerteanliggende, mægtige, berører, Scener, Guld, harmonisk, slået, såret, Utålmodighed, Overlegenhed, uforsøgt, Udvei, Læseren, nydelige, Landskabet, Revne, Græs, antog, Sandet, Pust, Åsyn, sødt, Sæder, føie, pyntede, skarpt, ligesålidt, Lethed, Brune, Siderne, skjelne, Vildfarelse, glødende, Drilleri, yngste, barnlige, forvirrede, hindrede, udtale, lune, Våben, beroliget, skjød, dreie, overfaldt, forlod, spøgende, Billedet, henimod, mekanisk, rakt, kræver, Målet, Sindet, besluttede, Spring, belyst, Respekt, pleiede, synlige, pent, Omgivelser, Nærmelse, Møllerups, Reden, vaklede, forunderlig, værdige, beredt, Anstrengelse, fordums, Forbauselse, Skjæbne, yderste, indhente, bringes, Båden, svagt, Lidet, helst, bestemme, Lidende, Tankerne, Forlovelse, vovede, færdige, betragtede, Hvert, Tvang, Udladelser, Forekommenhed, glædede, behandlet, betragter, love, forstenet, Historien, uundværlige, Morskab, forsvinder, Fod, nyttigt, Modbydelighed, gjennemsøgte, Ydmyghed, Ideen, efterhånden, Hjørnet, Bråd, sønderknust, forstyrres, Skjønne, brune, romantiske, Behandling, hænger, Kusine, fem, ømt, frastødende, Digteren, mørk, skimte, skabt, Rolighed, bemærke, Skabninger, Øielåg, Ligeså, livligt, eie, Åndedræt, arte, gjenopstå, overlegne, Fuglene, Hast, Hensyn, udover, Maskine, Belysning, Hvirvel, Vedtægten, kloge, Undskyldning, klædt, Stråle, Ledet, Yderste, smilende, Harme, Livslyst, Tilbageholdenhed, Skarpsindighed, sover, rå, uskyldigt, overlade, Krogen, bevidst, Anseelse, barnagtig, døde, består, Armene, Enkelte, Grille, Opholdssted, Venlighed, undlod, berøve, interessant, Ængstelse, uerfarent, Ligesom, Fornøielser, bly, lokkede, glæde, pleier, støtte, Herlighed, Besindelse, fordybede, øieblikkelig, Forældrene, bankede, værd, afbrudt, Skadefryd, Træ, Student, løftede, Terskelen, nøgne, glødede, ligegyldig, Streng, Beboerne, stået, heftigere, Polemik, Agt, bygget, Åse, malede, ligetil, Ytringer, banke, Kløft, farligste, henne, Anfald, smeltende, øde, Bedre, liggende, betragte, Elskværdigheden, opnåes, narre, nærmeste, Engle, krænket, stikke, Livlighed, Akt, Forbundet, Andens, slemt, lys, Måneder, Blanding, Erindringen, døie, Kvindelighed, bestod, Klædning, Papir, Præsten, Jagt, forleden, vove, føiede, måttet, Arm, 107, Bebreidelser, hårdnakket, Elven, utålelige, oprømt, ophøre, iveien, listede, Anskuelser, Hurtighed, springe, Mistanke, Skam, Lilles, Blomsterne, sorgløs, Udvikling, Fatning, omhyggeligt, bebreide, bittert, grelt, Sort, Busk, danner, slap, Fletninger, malerisk, tredive, Søen, gjette, jomfruelig, pålagde, omhyggelig, hænder, fæstet, more, Rygte, åndelig, fandtes, forlængst, Lænestol, Derved, mildere, vidt, Høien, græde, forskrække, Frelse, Indvirkning, Indhold, drive, Bolig, Lidt, Lykkens, Snart, hvorover, høirøstet, studere, ophøiet, tilladt, forstyrre, Baller, tung, muntert, moderlige, Birken, friskt, beseglet, betroede, Afsky, Kammeret, Vand, 14, Raden, fortabt, tørt, trætte, Bekvemmelighed, Afbrydelse, pranger, Anstrengelser, Leddet, uventet, Herskabet, itu, Sandheden, forskruet, indsugede, vildt, Omsorg, behagelige, Papiret, eiendommelig, løsrive, Kummer, blande, Meddelelse, antage, tidligste, vendt, ment, fuldendte, uvisse, uvant, Løfter, Thema, Bestræbelser, rettere, Dybeste, Studium, nyttige, Sand, inderligt, munter, Bitterhed, tålte, Udseende, Skjønt, sluttes, tag, Skikkelser, indbildt, tildels, Gaderne, 11, ukjendt, Studerkammer, indtrængende, Hvile, skinnede, 110, Hjertes, Klangen, nedad, værdigt, roste, Mos, Flåden, åbent, berette, Grundsætning, tilbragte, enig, Kvinder, Beskytter, simpel, Personer, Tyridalen, Ynde, Græsset, indtrådt, forsikre, Dom, 221, sikkert, almindeligt, bevæget, ialfald, Vinduerne, varmere, gjenvandt, passende, fjerneste, Straf, oplivende, Rørende, betyde, lystige, Gjæster, Strømme, opfyldte, deroppe, tilfældigvis, forelsket, dreiede, Møblerne, iagttage, forene, tykke, venligt, ualmindelige, sort, velsignede, Momenter, heftige, begravet, Kunst, Beliggenhed, engagere, attenårig, Tidens, Nordfjord, Farver, Brøde, forøge, løbe, veg, Førstningen, Mange, Anelse, Studenten, Vist, Forgjæves, Vending, Tallerken, foræret, vende, menneskelig, opvokset, enige, gule, Reins, Umage, tilbød, Teppe, stræbte, berøvet, beklage, Fødselsdag, tillader, høire, Hvælvingen, Barndoms, uerfaren, godmodige, Element, træffer, lovede, andensteds, 180, udsætte, mindes, slippe, bitreste, Stolen, vedholdende, 247, sprang, tankefuld, Enden, uartig, Fortrin, Tilliden, Rigdom, kvæle, 58, Sjele, følger, skyede, derinde, bugtede, indfandt, Kvindes, Vinden, flygtigt, påny, Ballet, betegner, bitre, Stole, Væggene, åbnet, falden, Heste, fattige, optage, Trældommens, 208, Stemmer, Historier, Roser, vinder, Brevet, Simpelhed, afgive, ordentligt, forvildet, Altfor, fængslede, Komoden, kaldt, Virkninger, 44, Stemning, undertrykte, fjernere, klare, dulgte, Spire, Kjøkkenet, overførte, mærkelig, heldige, Handling, heldig, Capellanen, Tage, Graven, Frugter, heftig, Evige, 25, truende, komne, vige, slutte, Gave, rigt, Indflydelse, Bane, smagfuld, farligt, Troskab, Hjembygds, Hint, Individer, Betragtningen, Mord, Uvished, Længe, alskens, Fruer, spæde, vover, svær, Dødens, danset, lovet, hid, Barnet, Sindsstemning, følgende, Omsvøb, Opfyldelsen, Pragt, Lære, samt, ypperlig, itide, Appetit, Bækken, nævnte, intetsigende, afspeilede, nærer, svare, lytter, meddelt, Forfængelighed, sørgelige, blussende, Ophold, herom, Lokalitet, forlangte, hurtig, Tøiet, Eftermiddagen, Kammerater, romantisk, fiks, stumt, Jubel, Stene, led, Fuglen, adspredt, moderne, vågner, Valnøddeskal, Forsømte, bedækkede, udtømt, elskværdigere, Buske, mystiske, rykkede, takket, Spænding, Muligheder, Fremtiden, gjentog, beskue, varede, savne, øiensynlig, krænke, Havestuen, kjæmpede, nærliggende, kvindeligt, skrækkelig, forstenede, ligefra, forbeholdt, opvågnende, tilintetgjøre, naivt, Bladene, forskruede, Medlem, gratiøse, Indledning, spildt, klædte, tryg, betage, Hin, Sorgen, Elsker, beundre, tidlige, nærværende, påvirket, Hjelp, skiltes, Svaret, slidte, Skildring, uforbeholdent, Toppen, sy, opfundet, Værn, Jordbund, grundede, Troen, Bad, ventedes, harmoniske, Forbindelser, strengt, holden, betegnede, Udseendet, bestilt, nydeligt, blidt, boede, Misforholdet, Rummet, tyst, Talent, Smerten, mørkt, beholdt, Vort, surrende, Følelsen, sværmede, Forstillelse, forrette, såmegen, Handsker, Beskjeftigelser, Savnet, øve, Eftermiddag, Landskab, Sammenhæng, Udebliven, Ingenting, Gjæst, Yndlingsretter, Henseender, Låven, fraværende, fjerne, bagerste, trues, skuffende, Kirkespir, ivrigt, erklærede, Modstand, Sønnerne, Fortjeneste, Hilsen, eiede, Støvler, Mørket, derned, indrette, lave, synlig, Vigtigheden, smukkeste, opfange, opgive, Müllers, Fanden, brogede, varmeste, bukkede, Småtræk, kyssede, Hjemreisen, Klage, Koketteri, indtræder, gjenseet, fastholde, Doktor, Døre, hård, Udsigten, omsluttede, 80, Vished, morede, udrette, Middag, Mandens, dristig, gemytlige, aflagte, hævet, Brøchers, ender, Kjøbmanden, bekræftede, efterlod, særlig, hengav, Lystighed, blikstille, tjente, knyttede, ukjendte, afsky, beskjeftige, Naturens, Tantes, modløs, betydelig, bøiet, ufordærvede, borgerlig, Anledninger, beskjæftiget, Gode, Åre, halve, pålidelige, skildre, Foran, Fjeldvægge, Rosenskjær, stryge, ubegribeligt, Besvær, Berørelse, brændte, Bagatel, rigeste, bøie, beherskede, Farlige, ærlig, Ovnen, spurgt, drømmende, fortsatte, ifærd, Tilståelse, fat, behandler, Julen, Veiret, forsøger, Vunder, Forventninger, værste, Vertinde, udfoldet, Tusmørke, Månen, Præst, Sans, fattede, knuse, overstrømmende, Inkarnat, udfoldede, fremhævede, behøves, belyste, Gjenstande, deltog, drøi, Hindringer, Scenen, beruset, 140, frivillige, skingrende, Synneve, vedligeholde, utåleligt, skyndt, Hue, værdt, søde, endda, Flaske, Fraværelse, svømmet, underholdt, Rede, Grimaser, vanskeligste, grundig, Lysets, blander, misforstået, skriftlig, snevre, susede, Punkter, Hjertesorg, iforveien, ydede, Duggen, mulige, Røster, Tilværelsens, uhyggeligt, 213, Vinterfængsel, Rygter, nærmest, tilføiede, Følgerne, Rov, Glasdøren, ældet, Rene, uddød, rødt, forladte, forefaldt, afmeiede, krusede, Rand, beroligende, fyldestgjørende, Netop, Strømper, Hest, Formening, høitidelige, knytte, Tjeneste, kraftigt, meddelsom, Ben, nødt, ængstelig, forbød, Frokost, hertil, mægtigere, Anstrængelse, Høitideligheden, aparte, skjere, Charlottes, Aftensolen, ægge, skilte, Skyggerne, streife, Husholdersken, Delikatesse, besøge, vågne, sene, Nakken, skatte, prægtige, Elegance, Husene, Påskud, foruden, Legemet, Ofte, Syner, Gnist, noksom, komisk, forfulgte, Skuldre, ridderlige, lammede, skuet, Møllesten, Tryk, Lærere, høie, negtede, udbreder, gråt, sund, hvilet, strenge, flyttede, Modløshed, sikre, Lykkes, jevnt, bemægtigede, Forfatter, 252, Økonomi, beder, styrke, hensat, brugt, Eksempel, oftest, Redning, Verk, modsatte, begjærer, Pen, Forlegenhed, Selskabelighed, Minde, Mors, Præget, skarp, hæve, Ægteskab, Sladder, hendøende, Forsvar, behagelig, Klipperne, Portræter, afkastet, Mysterium, oppebie, uudtømmelig, Præster, Tråde, Selskaber, Høsteftermiddag, Væven, overflødigt, tabe, Former, udmærkede, Minut, fagre, opløst, praktisk, elegant, sænkede, erkjende, Omegn, forsvaret, tillidsfuld, Spadsertur, Hurtigere, benyttes, Sække, 15, Fortælling, vakre, Landeveien, Røgen, besindigere, hvælvede, blide, tiggede, fatale, Fjernelse, 174, Lægedom, Svælget, interessere, 131, dele, Oplysning, istedenfor, Retsindighed, Digtning, tydede, Nøiagtighed, beror, rører, bleve, Dunkelhed, vænne, Major, Lave, halvtredie, syede, behage, besværlige, S., finere, forsvundet, Ansigtet, tvende, Kritik, Loddet, Hvidt, frygtsom, Derpå, Anfegtelser, halvvoksen, Veninden, rullede, prædike, udelukkede, blæste, Forleden, ligeledes, Merke, Vækst, Trældom, benegte, Møbel, Læsning, nationale, hist, mistet, blinkede, Gutter, Husmand, indtrådte, lyste, istedetfor, Livskår, Udflugter, Al, Skove, Refleksen, Lag, dølges, Bekjendte, svigtede, opmærksom, hilsede, martret, Tabet, Velbehag, Skyggen, Porten, sindrigt, Stad, dydige, smerteligere, Klokker, agtet, afgjørende, Desværre, Leiligheden, la, færdigt, levede, Prosa, ønske, Bekjendt, virkede, Begreber, Louises, opdraget, ligegyldigt, Passerede, Himmels, Sætning, Forlystelser, Lemmer, Hovedstad, vigtig, Væggen, lyttende, grelle, uheldige, frivillig, afsides, Formiddagen, protesterede, Blandt, Besøget, Beskyttelse, agtede, Eiendomsret, skille, Kapellanen, udbredte, Forbund, afviste, trykket, Gardiner, ulyksalige, ubevidste, resigneret, reddede, opblussende, svævede, håbede, Velsignelsen, desmindre, Kappe, Fortrøstning, Yngling, Gjennem, nøie, Redskab, Lær, Reisetøi, tvinge, Årene, Kredsen, Håret, 188, kjereste, tredie, 159, savnet, vrøvle, ydmygende, Adspredelse, blomstrede, Tanten, skilles, Horisonten, ordknap, Ligevegt, offentlige, 172, uforstyrret, Solens, Bygd, Overmod, lurede, Pesten, frembød, klappede, muntre, fordrage, Stier, Lina, antaget, udhæve, Vanhelligelse, snarere, begavede, Trusel, smale, Faderens, Bedst, usand, Besiddelse, utålmodig, kvæles, forspilde, tilvende, fortumlet, Oppe, redningsløst, blinkende, Klipper, Hvo, opfattede, ingenlunde, daglig, fortabte, skjælvende, himmelsk, Buskads, slem, Ganske, Bruddet, Helligste, Begavede, selsomt, speidende, udspundet, udmærket, tilgavns, Vægge, åbenhjertig, bibringe, kaster, Spidsen, spirer, Lidelsens, Klarhed, Anliggender, 8, menneskeligt, Capellan, Stranden, strandede, fiske, behageligt, tilgode, opfatte, betydeligt, Melodi, standsede, uværdige, Moment, Børns, afgiver, Minka, Kaldet, Livsanskuelse, synderlig, bedt, Kilde, stole, 242, lutter, fortørret, Kassen, Sengen, Loft, tjene, forelskede, bevares, Føre, 200, såkaldet, Skue, tilbageholden, ydmyg, total, Damers, bemærkeligt, vekselvis, Opmuntring, Anger, Kaffe, Hængebirke, 198, Stil, Ritmesteren, Vilde, Fingeren, stillede, vinkede, forsøgt, Sandt, 162, Pludselig, Hvisken, forbauset, Anslag, stridende, Værtinde, ledte, 183, gjensidig, Freden, Stol, sker, opfangede, Målestok, omfatter, Måneskin, Ofre, bred, Skov, forfærdelig, svigte, 173, udholdt, Tilbøielighed, nikkede, angående, forekommet, renere, formået, Færde, ubetydelig, Gåder, Solskinnet, endvidere, Læberne, Inde, ængstende, 23, tvivlende, 170, traurige, Krøsus, næst, Kapellan, 258, Aparte, Kundskaber, Kurv, Frihed, Ordene, skammede, ængstede, Menneskeliv, Allerede, Danaidernes, tilførte, 69, Dreng, 112, andetsteds, mekaniske, Romanerne, Frie, Loftet, Bondegård, Elskedes, kvidrede, 30, fortabe, Marts, giftet, hvorhen, tilsyneladende, hædret, Drikken, bese, Underholdning, udvortes, Vanen, Herregårde, Indkjørselen, sendt, Behag, anstændig, Oplysninger, etc., behandle, stred, indeholdt, mishagede, Mage, Sager, usikkert, Samfundet, Nåle, Præstens, Trætheden, Råb, tilkjæmpe, forundre, 117, Uheld, mulig, fordringsfuld, velvilligt, Kvindelighedens, Nissen, skånsomt, blid, Sangens, forskjellig, Marit, distrait, Ve, Jagen, Hentydning, Gårde, Kat, Forandringen, red, anseligt, gådefuld, Rollerne, tilfredsstillet, bruges, E., geniale, bestå, Fugtighed, lidenskabelig, Sirtses, Kultur, uafladelig, forblive, slutter, undre, modnes, nævne, Skydsen, traurig, stolte, nærede, Eventyret, skred, betro, særegen, pen, Periode, skadefro, Pil, uberørt, K., Villiekraft, foragte, Gunst, mæglende, 206, 61, Udråb, overraskende, rødmende, inderste, Smertens, utrættelig, Ægteskabet, Drømmen, Lokken, betydeligere, hjemligt, fordybet, fromme, Universitetet, Anstrøg, undertrykke, følgelig, Strikketøi, kostbar, 223, Modtagelse, drillende, Kunsten, Enten, Seire, Hengivelse, Hat, tilintetgjør, Vårdag, Gåsepige, skadede, høstlig, Turen, længtes, sjeldneste, nedenunder, Landets, kravlede, Passivitet, Skolebog, gjennemisnede, greben, udslettes, Bidslet, utallige, minde, Mængden, ofret, Udmærket, Nationalitetens, Forventning, leende, fløitende, Træstamme, efterladt, Fornemhed, Kjøns, forskjønnet, Klippevæg, Vert, utvungne, mageløs, vuggede, simpelt, Småpiger, ubehageligste, Ideal, hæslige, Kvinderne, Prydelse, Afmagt, europæisk, afværgende, Dampbåd, Forhæng, sære, skidne, und, lægges, Få, Fravær, Forhåbninger, Skyer, Kjern, repræsenterede, Mosset, Festen, uforstilt, smuttede, Rødme, udelukkende, slumrende, gled, dernæst, Værelserne, leet, Rest, Tilskikkelse, rige, Svøb, tælle, bortkommen, udmalede, Svogre, uheldig, fordum, gjennemtrænge, Behændighed, gned, Muren, Erfaring, Bod, Slægts, dristigste, tæt, siddende, tørrede, Barnesorger, skjønneste, 76, svageste, Glædesskrig, faste, ryste, Arier, 191, opdrage, tjåres, stilede, Anders, 48, Kjereste, Jesuit, overstået, frasiger, Skydsgutten, Hytte, dreiet, sitrede, forvinde, skyder, Lofter, Lovene, opklaredes, merker, Tålmodigheden, plukket, Udkig, Frugterne, Bygningsmåde, gjenkaldte, gjengivet, Postvæsken, Staven, Hæggen, 95, Påskrift, Svulst, Spir, ubehageligt, Hjørnestuen, overbærende, Love, skjænkede, plumpe, eiendommeligt, oplivede, bemerkede, selsomme, 13, Overraskelsen, Intetsteds, opdæmmede, Tungen, Samklang, tier, tirret, 71, Borde, bekymret, blødt, tonede, Gardinerne, 135, Mangler, Kristian, åndende, Embedssegl, løs, tyde, Opmærksomheden, behørige, nærigt, uforstyrrede, gyselige, Uden, afholdt, Væsken, ridderlig, beredte, kunstmæssigt, høflig, summer, uforskammet, Mit, Vigtigt, Indfald, Runding, iversygt, Nølende, Fjøs, 219, grøn, umiskjendelig, rigtige, ængsteligt, ubemærkede, småt, Stjerne, slippes, trykkende, Siesta, Barnekammeret, opklarer, ældgamle, Læserinde, Smågutterne, indrettet, Frakke, dunklere, omhyggeligere, Linned, dennegang, knugende, 123, Næsten, Udenfor, uordentlig, forestående, mystisk, flyttet, udgrædt, strømmede, umærkeligt, uhyggelig, sluppen, lav, Skolemesterens, Kanapéen, slank, brutalt, Handlinger, smagfuldt, Sletterne, ulige, Tænkning, bereder, opløste, Tilfældigheder, misbruge, hedt, øver, Efterat, Harefod, Sporet, plumpt, 217, afmægtig, fuldstændig, sysselsætte, Seddel, 103, forskudt, forskende, åben, Amtmand, Sublimt, hemmeligt, Karakterstyrke, ypperlige, Miniaturroser, bortdrømme, hvidt, tilstødt, omstændelig, delte, Stimandsskoven, genial, Skorstene, Nødskrig, ubestemte, Halsbetændelse, Overgangen, Karrikatur, skinne, Sommernat, grusomme, uforklarligt, tiltagende, tilfredsstilles, Margrethes, Dårskaber, opad, Blad, tydeligt, Tillokkelse, Furulunden, Krands, Silhouetterne, Heinen, Subjekter, 81, bidrog, forstikker, Haglpung, Hukommelsen, henstille, stemmede, forbitret, Lede, forebygge, offentlig, Tillader, ræddedes, fortrinsvis, blålige, Skjulte, Uger, uregelmæssig, fornyende, Uvirksomhed, bortreiste, ædle, Gevær, synger, Formiddag, krymper, halt, Laster, Let, Selvstændighed, styrkende, Dets, underfuld, Alderens, begik, Læser, Afreisen, modsat, Tomhed, Silkekjole, tilsyne, dødt, Idealister, Ansigtstræk, Beretninger, Familiestykke, henvendt, Forsigtighed, sydligere, Ruder, betvang, Midnat, ustanseligt, Galleriet, skrøbelig, kjørte, Vogn, 31, Veir, dobbelte, indrettes, Grusdynge, Vals, Vidner, sælsomme, aner, Virkningen, bestræber, 149, bunden, fornøiede, Teint, glindsende, stammede, snevrere, tåbelig, 113, ringeste, Grimace, Prestegård, forventede, anvende, Goethe, trøstig, Pleie, lænet, tætte, Optrin, hemmende, lettelig, ytret, tømte, Følelsens, Fantasien, Kjolen, Præstegård, fjorten, tvinges, Pande, fyldt, fornye, påtaget, duftende, Kop, Atlask, Hentydninger, fremstille, Opfordring, Afskeden, oprørtes, Dunkelheden, slukket, Undtagelser, Bygning, indgjød, Kvaler, Mistro, dryppende, Juli, opfordret, Flade, Overenskomst, river, 6, betænkelig, bønligt, hemmer, Omdømme, gyselig, oplukket, fordærve, Karakteristik, tændt, beskedne, Timers, tilværks, tillokkende, Uleilighed, omskabt, jaget, gjengjældt, Ubønhørlige, beskyldte, Nysgjerrigheden, egger, ubarmhjertigere, skånet, Toget, omsættes, Tør, nysgjerrige, Strækninger, Verdener, forlangt, unaturlig, lønnet, 255, Lærerforhold, frister, glide, Modsætning, Rige, Allesammen, allerfarligst, 73, gjennemsigtigt, gjemte, vigtige, Elskov, letsindigt, stjæle, vakker, slanke, indflettede, skikkede, Mængdens, Kuld, Anliggende, 59, lyde, Galt, bedømme, Inderlighed, Kranse, Dyr, ufortjent, leirede, Pilen, Påtrængenhed, Fortryllelse, ualmindeligt, Løv, tilhørt, Adskillelse, Trøie, 177, Grændser, flink, udpræget, bemerke, Hidtil, Tågen, rane, lysegrønt, Purpur, lidenskabsfri, Tilflugt, bløde, sterkt, balanceret, Mødre, Ironi, Resultater, Tomheden, Fjeldpasset, Ydmygende, tragisk, forskjelligt, Åndeløs, forundrede, Spidse, Punsch, Skik, Uoverskridelige, forstemt, hjerteskjærende, sågar, Dudevants, Klædedragt, Shawl, Vidne, lykkeligere.n20, Løsrivelse, rødlig, Svækkelse, Dudevant, 227, Sindets, indsuget, Humor, Tårestrøm, Delagtighed, Ødelæggelse, Flasker, Forskudt, Pengehensyn, Hvilen, Standpunkt, behøvedes, Præstegården, raffineret, Mølleren, skrækfulde, foroven, beklemt, stemme, Værnething, uafbrudt, erstattet, udstrakt, besinde, Overkultiverede, anlægge, 51, 75, fornegte, Legetøi, dødlignende, Engene, Årsager, Røver, bøiende, Udsigter, Vanrygt, Naturudbrud, spottende, Forsyndelse, Dames, sjeldent, sørget, bemerker, Forskrækket, 65, kjække, Modersmelken, Omvei, hurtige, Paradis, Bjørn, gjældende, Havn, frembragt, udbryde, sovet, galt, ubeskrivelige, Monstrum, Velstand, rødlige, fængslet, Tillokkende, Ligestillen, Året, glat, værgede, gjøglede, henvist, Klem, omspændt, Chimæren, 126, nedskrive, Begyndende, opdrages, røber, ydmyge, låset, Leveregler, alles, befrygtede, Vegne, Mennesket, civiliserede, Uudviklede, Læg, Voks, Freidighed, brillant, afrettet, derude, Pletten, umiskjendelige, Sammensluttede, gudbesjelet, Hverv, 250, repræsentere, Moradser, indprente, hædre, iagttager, franske, derop, Friskhed, hør, dettes, opgav, Knop, interessantere, bortrykket, Blod, Bispekammeret, klavre, Spade, røbet, føleligt, allerbedrøveligst, forrådt, trygge, Bæven, knapt, Alene, iveiret, Trællesindet, Skånsel, begribeligt, tiltalt, Folkeoplysning, tilrøgede, Sol, Kavallerer, Overtalelser, blinder, Hjemstavn, Skolepogen, politisk-sociale, Brevskrivning, mægter, Anføreren, hvormange, Nationalbegivenhed, Familiens, Storstue, 12, Omstændighederne, Kapitel, lunefuldeste, Mon, Ros, berigede, fredelskende, Parterne, blegblå, Trapperne, Udflyttere, Sammentræf, adskillige, Vogt, Høire, Hækken, Nordenvind, diskuteredes, Poplerne, Snemasserne, velbekjendte, skimter, Klager, utilgjængelig, Afgjørende, tilslut, Aftensbordet, stråler, Brydninger, Guderne, præcis, Tempelridderskab, Theen, Overflytningen, tænkeligt, Forening, høirøde, pludselige, ensformig, Forargelse, undfly, 239, Pladse, lyder, Programmet, ligened, Seier, prøve, Ørret, Mådeholdets, danske, Ubevægelighed, grædende, enfant, chéri, skåret, von, Feiden, Menigheden, formilde, mødes, Hævdelse, Almanakken, besynderlige, tilsengs, rastløst, stupte, udført, Ståhei, Opdagelse, Slagene, Stridsspørgsmålene, Studentersamfundets, fuldendt, Lykkeligvis, tilvante, 136, Fodringssystem, sårende, 127, jager, Tilhængere, Glasklir, Efterspil, Hovedstadens, Kompromis, sammenhængende, Mil, ør, terrible, Udbyttelsen, Spadserende, Atter, Gardin, Forsikringer, Borgeres, Flytninger, Vægternes, Vårmåned, Kvarantæne, Welhaven-Wergeland, tvungen, Lysten, Studentersamfundet, opløfter, Idrætter, Tilløb, Apostle, 204, udtrykkelig, Skrål, afslået, Penne, strid, Ark, Stiftelsen, Menneskelivet, Udskillelse, Hjerteudgydelse, Undergang, 40, flyttedes, Offentligheden, græmme, myntet, fordrive, foreholdt, yndigt, Arne, Opvokset, Tærskerens, Partimedlem, bandede, tilægte, Mutterwitz, tilsammen, Medicin, Fjeldrammen, Elskers, blinke, Sine, Centrum, svært, Fruentimmers, Forfærdelse, Krigsvidenskab, Effekt, Tåge, sluppet, Elementerne, anlægges, afslog, Martssolen, snigende, festsmykkede, Hustrues, langvarigt, Elvedybet, Indbildskhed, tyrannisk, Indbydelse, velfrankeret, Slaget, Sommerlys, maleriske, tristere, indhyllede, Grantoppene, danaidiske, villet, strøg, imponerede, ædlere, ogn17, Selvdødelsens, ubeskjeftiget, Helligdommen, livligere, varer, forudsættes, dødeligst, Vinteren, blistrende, 205, Fjeldtrakten, Fordomme, uærbødigt, Ormegræs, Silkesnoren, Skovbrande, legemlig, Besked, hørtes, plaskende, pudsede, velforseglet, blussede, herjer, lavere, ventende, udføre, ledsaget, opbyde, krænkende, ærefuldere, Skamfuldhed, begiære, kjendelig, nedlod, Frafald, Lærvillighed, Pigers, Regning, løsne, taknemligt, mindede, underordnede, syv, Betleren, lysnede, streifer, forlovede, Dunkelhedens, uforberedt, Ynglings, Naturlov, betrukket, lokket, henvendtes, Ufordragelighed, Slagets, kontraktmæssig, Valget, Vindpust, sove, vekslende, Masser, lokke, femtende, Klokketime, Vink, Opsigelse, dem.n21, Trækkene, bedøve, 231, Grilles, Venusvogn, Baltriumfer, Velin, Hjælpeløshed, frosne, overdøvede, forsørges, Planten, Kjækhed, elendigen, Tilfældighedsparti, 325, forstokket, Førstefødselsret, forlorent, tændte, knus, bestyre, benyttede, Løb, Frierbrev, Grusomme, Modet, Brandstiftelse, Huslivets, Årn16, Vogtere, plyndret, Trøstesløshed, brændt, udeblev, rodfæste, steget, Ligesålidt, Sal, Gru, Strikken, sanktionerer, Forestillingen, Attestas, Latterlige, Kampen, Ægtestanden, Bred, Husholdersker, underholde, gul, Ringere, W., kummerligt, opsigtvækkende, Brødstudium, Indlader, hvo, Jus, Trævægge, Grændsen, skue, tusindfold, skylde, Regnveir, ædru, Indretning, Kroge, idelige, Jordbærene, fylder, betænkelige, anstrænge, kjæmpemæssige, fornemme, 253, fordristet, Luksus, bogstavelig, Vorherre, Bistand, Kjerligheden, Skilderierne, håbe, Vishedens, farende, Passion, Præstegjeld, Livstræ, kasseres, yppige, støvet, Længde, spiller, heftet, stirrende, grove, Skrænt, net, ensidige, indtager, oprykke, Pigerne, Midten, uddamper, Huslærer, ramme, hykler, udøse, Årer, Solstråle, Regn, Øieblikket, 70, 91, himmelstormende, Uforstand, 87, utidig, Gran, tilgiver, intetsteds, Tonen, Fortjenester, Vers, de., indesluttet, nikkende, Kalden, Puderne, Tingene, Indgreb, Asters, sværmerisk, indestå, tilveie, oppudses, Næse, uafladeligt, Mærk, Vens, Sindsbevægelser, sukke, artede, Kobberstik, hernede, Moderens, Portrætter, Rækken, råbt, rykket, Forskud, indhyllet, medfødt, umoralsk, jordisk, Meningen, hvilende, Nøglehullet, barmhjertige, skummende, Forklædet, velbehagelig, min., Nys, 94, kysse, Forsæt, Gangen, 111, Vistnok, heftigste, Fortrolige, Visit, uskikket, 134, Bud, afrives, blind, Trylleriet, revet, jer, lurende, Spinkel, bebreidede, Fjed, trivielleste, Grænser, Gjenskinnet, sirligt, Utrøstelig, Såmeget, Fantomer, Fordring, modstridende, 17, Festlighed, overseet, opstod, Kammerjomfruer, artigt, Falskhed, Forgyldningen, varigt, Råhedens, Besvimelse, vredes, afslebet, nyslået, Selskabssnak, Hengivelsesmoment, 115, svunden, Hemmende, flagrede, das, Lyngen, nærgående, sværmer, Heller, rykkes, reiseklædte, trøstende, virket, blomsterduftende, Beskedenhed, 43, forslå, Strømmen, Sands, skrække, Korthed, unde, forfulgt, ilfærdig, uvelkommen, Martyrskab, ulykkeinspireret, fragmentariske, flydende, lytte, elastiske, Tilgivelse, Glorie, 156, gjennemborende, spendt, bitterlig, dæmoniske, evigt, Grene, marterfuld, mandligt, godtgjorde, seierrig, Åndsselvstændighed, Pigens, 237, småligste, tæmmet, Stads, støttet, Tilskyndelser, Skikkelsen, Morgenstunden, Behøvede, Kloppen, Hemmeligheden, ømmeste, Fortrolighedsforhold, Forlangende, påtrængende, Sysler, Velærværdighed, Inklinationer, Sladrerske, Venskabs-, Lykkesforstyrrer, forgrædt, frittet, Smagsanliggender, Letsindighed, gjæstfri, trange, undres, voldsom, Nypetorn, foretages, Teglstenstag, Vinter, fjerde, fæste, Romantiken, Aftenerne, Kjøerne, Tonerne, Materier, Karakteranlæg, faren, Husfælle, Tankerigdom, seirende, Selskabsliv, 106, endel, afficere, glæd, iverksat, Hyldest, interesserer, Feber, Færd, flygtige, undsluppet, Skriftebarnet, formildet, Undtagelsens, Overflod, rådvilde, Speilet, takkede, Dygtighed, Læste, Prosaliv, Poesien, tyet, Bakke, Formler, Phænomen, fineste, hjemført, Halve, Bar, vidunderlige, lovlige, yderlig, nådige, omgiver, Knuder, Sigte, gratiøs, velkommen, afbrudte, Kilden, Trykket, Forvisning, Boliger, 78, Smertelig, Reisevognen, Sibylla, tilsteder, Ånds-, glimtede, kuet, Erotisk, Enkemand, Utrøstelige, hjemmelavet, sågodtsom, kraftig, Planer, forretningsmæssig, Terner, dækket, tiltræde, Beskyldninger, smertefulde, n, Forstemthed, Surrogat, svevende, hånlig, veiede, svæve, omgiven, Forudsætninger, Forår, fremtrådt, Hjerter, Sjelsstyrke, bedømte, 85, beskyttet, Derimellem, indskrænkede, Livstræthed, snakke, Gjetningsevne, Behandl, Ukjendte, Tiders, Ligevegten, krænk, Forbigående, fortryllede, festlige, skildrede, spillet, 54, Sterkt, fortsætte, Snare, Udgang, Ansigts, viljeløs, tømme, Fattigdom, Vurderen, lykketørstende, Forveksling, feire, skyldig, overveiet, uregelmæssige, varligt, Skygning, Trist, anse, Ånde, Leiet, tarveligste, Tab, Eksentrisk, mistroisk, Ærinde, samledes, Forkjert, fjernt, Støv, Advarsel, Forsikring, Skilsmisse, berigende, Foråret, Magelighed, blegt, Begavet, 33, sjeldnere, Afkrog, Bænk, Skrækken, Prindsesse, bedende, ber, opbød, Klenodie, passerer, monotone, vredt, Skammel, Krystal, Fjeld, Presenter, Pile, Roman, Prokuratorens, anbetroet, Livsplan, Buketten, 45, ængste, forplumre, Mosten, Ensidigt, gjære, forgyldte, grov, 47, Vogter, Sproget, efterlader, Stumme, afværge, buden, tilbagelagt, Dødelig, vunden, Anstrengelsen, bitrere, brun, Barbari, visnede, Ry, Dronning, Fortræd, fornuftigt, 56, rækker, Søndagen, uimodtagelig, Visen, skjønsom, Lidenskabens, Forhåbning, Beroligelse, fuldføre, Alter, Familier, drille, skattet, uerfarne, sunket, pedantiske, negativt, Greb, tilskrive, besynge, 155, Triumfen, 166, Sinde, Garnison, 128, usande, vidnede, Publikum, hentyder, regnet, Grus, 108, Cour, Flokken, glimrer, Motiver, sandsynlig, glædeligt, væddet, nøiagtig, 18, umiddelbare, Agtværdighed, døtrerig, Hvedeager, ualmindelig, Alternativer, Uhyret, sprukne, Vildfarende, Manerer, Seiren, hyppigst, lindrende, Barndommen, sansede, virkeligt, Mark, citrongul, fremstillede, Pikante, nødes, bogstaveligt, nødtørftig, tiende, sysselsatte, ærgerlig, heldigt, rastløse, 146, bevæger, velsignet, Eskadron, mage, Hjertelighed, mandig, udrydde, Forældres, Blindebuk, uvederkvægelig, 9, Gjerdet, Ørkenen, Sove-, agtværdig, Digter, opfattet, 261, Formål, inviteret, åbenbarede, Lignelse, Indredningen, tilstrækkeligt, Besjelet, Væverstue, fordelagtigt, afgjøre, Erotiske, Usikkerhed, slette, fortvivle, beskriver, sunde, Halvdele, flyver, Tankens, Moral, bestandige, tusind, Søsterens, fuldbyrde, medbragte, uindtagelig, Tildragelse, anmassende, opfinde, betegnet, Fodspor, tryller, oprykket, Klæde, Symptomer, affærdigede, Karolines, fremmanet, Brusen, udfylde, skrider, familie-, gjengive, Fløiten, Husbonds, Fornøielsen, utilfreds, Selvforstyrrelsens, 196, Vinding, ynder, Elskeren, sørgeligt, Lystigheder, Vine, dødet, erstattede, Fjeldene, 157, Menneskeslægten, tilbageholdt, Givne, Ritmester, beroligede, røres, Skive, Fakirer, spredte, tænkelige, begået, Elskerinden, Adskillige, uværdig, opbudt, hvorom, Ture, solgt, nedenfor, Kjøkken, Officerer, Forræder, nappe, Sophaen, flotte, magelig, Opholdet, fordoblede, gjemt, Arbeidsomhed, bekjæmpet, pertentlige, Exil, livsglad, ulykkeligvis, femten, forfeiles, tyndklædte, manende, hvoriblandt, Væverske, spillende, 22, Veiledet, nettere, Skildvagts, 178, Produkter, Merket, Stenpotte, mosgroede, Kløfter, Ofring, dalede, Frokosten, Bedene, standsende, hidindtil, Hårdeste, glattede, Modvægt, ideale, snever, ubetydeligt, Eftergivenhed, Nøglen, laborerede, Åreslag, natlige, 158, modstræbende, Georgs, 248, nedstyrtet, Spidsborgerligt, Skjød, uforstyrrelige, godtgjøre, Desto, utålmodige, Grind, slumre, Epoke, røg, Søndageftermiddags, 171, Yndlingslam, uretfærdig, Selvmartyrer, speide, Augustsolen, Uagtet, påligger, langtfran25, Runder, våde, muntrere, Havnen, Låget, melde, bær, Vogne, lakoniske, udklækket, beskyldt, Seilbåde, opveiede, bortslængt, Nattoilette, Sommerlede, Atmosfæren, afdøde, Sum, våg, indså, Top, Fossen, Kommen, ubrødelig, Idealer, Nattevinden, Opmerksomheder, skjøttede, glemmes, Ensomheden, Stald, velartede, holdningsløs, uklart, Distrikt, stræber, barokke, Frokostbordet, gribende, Tuskhandel, Bastion, Forlystelsessteder, Istedenfor, tvunget, udtrykke, blinde, Befindende, afstået, Yngel, Yndlingsdue, husligt, Stilheden, Kjøbmand, Andungerne, Øerne, Pleiedatter, 167, Gratiøst, ere, Husflid, Lige, selvrådigt, legede, planløs, Gris, Aftenlængsler, Skjønhedssans, ensformige, dæmpede, dvælede, 264, Hyggeligt, Værdien, målende, rastsløse, Nattekulden, 32, Bengel, eksisterede, Skovene, Tridschlers, Gaden, ængstelige, Løvet, Hvide, Levende, tumler, svaret, Digterens, Privilegier, forblød, rådede, ilsomme, Afskedens, Vævens, Løsaf, Opdragelsesværk, Våg, Lise, Skovens, langvarig, Høns, Sorgerne, Fædrehjem, udbrede, 263, Tå, Plante, umildt, ufølsom, besvarede, Tilfredsheden, friskere, Påvirkning, Fæstningen, forsmåede, Kjærn, Hang, bande, arvet, Ulyksaligt, Rigtig, Sandhedens, forfængelig, Rækker, ammet, Parodi, 153, Herligt, kastet, 182, forstyrret, Bag, dårende, Begrændset, ordne, tilintetgjorde, byrdefuld, spiste, Mur, Kiste, Gudsengel, udrustede, Krænkelse, Atmosfære, Bare, Yndlingsskribenter, farverige, forpligtet, deltagende, heder, 216, Brystværnet, Skjorteærmer, Borgerfolk, beklagede, forsigtigt, flettede, sunken, Landsteder, Provstindes, Beskyldning, Alligevel, Lafontaineske, Bærumsåser, pudses, foreholde, usikre, fromt, fastnet, hængt, teglstensfarvet, Thingsalen, Blink, fjollede, nødvenDig, Gangene, Ungdommelighed, Havfrusang, Tørhed, påpege, nogensomhelst, tækkelige, Skrupel, Masse, ubesøgt, Kristus, Hvirvelen, Ledsager, hjelpe, ligeover, Udførelsen, udlagde, Menighed, Konflikter, jamrende, anordnede, Svageres, Engen, Rosen, Ulykkeligste, fornærmet, studerede, stenet, mægtigste, parret, Amuleten, Gestus, hævde, Salmer, Tilegnen, IX, djervt, hæves, lykønskende, Ubehagelige, rosenrøde, anbragt, Tepper, ødelæggende, freidigt, indstiftede, Despotiet, geistlige, frigjøres, særskilt, Længselen, Maner, Bravo, Konvalen, hilste, jamrer, Militær, Blegnen, jammerligste, fornem, bøder, grånet, Værdighed, Græsmark, ile, Marienøglen, velopdragen, chevaleresk, Sat, Vidunderligste, ophævet, gjenfødes, Anemoner, Planen, Evangelium, Betydenhed, Gjøgesyren, Skyttens, hobedes, vårlige, charmerede, Uddannelse, ensomste, udtryksfuldt, steril, forloren, uangribeligt, Bøining, Trylleri, tilfælles, kultiverede, Tantens, Bekostning, bundne, timelange, besvares, Kirkefolket, Guddommen, uselig, indenfra, bevislig, Ildebefindende, mager, Ceremoniel, Altergang, Tue, Kirkemøde, Blomsterfamilie, Øret, Øst, urolige, foredrog, Gjenkjendelse, Vækker, bredte, Pinligste, forståes, 313, udtvære, Fjeldvæggen, Festskrud, Kirker, miskjendt, ubetimeligt, Dansende, uvilkårlige, Nedenunder, Mammuthhjerte, Vasen, Mislykkede, Mildt, Sko, søsterlige, Toneart, konserveret, knoppede, eftergivende, gleden, Adolf, Barnedåb, Gjæk, forholder, bankende, døsige, stereotypt, 109, merkelig, vægrede, Skår, bestak, åndsforladte, Udlevethed, sociale, opsteg, Flora, federe, beængstende, Lea.n24, Egenretfærdigheden, forsinkede, Brydsomme, galant, Aftensbord, anmodet, liste, siste, Fornyelseskilde, gammelklog, altereret, Ligeansvar, Knitren, Forløb, kjed, 230, Gjæsten, Ytring, Pagten, belavet, Famlen, nøkterne, Opvartningen, Gemyts, ærligt, Tilbageturen, Ligeret, ubestikkelige, forholdt, vækkes, kjernesundt, undvige, siges, Katekisation, slumrer, Yndigere, elegante, svulmende, Rødt, tilbords, Overmålet, standse, karakteriserer, Pathos, Opløftelse, spille, reglementerede, tilfalden, ørkesløst, opfanget, opreist, legemliges, Regel, fortæret, hængende, Stivhed, Høitideligt, Håndteringer, Tillidsvækkende, ringeagtet, hårdhændte, Familieanliggender, Martsdag, Underholdningen, friere, Kristi, overholde, Hustruen, Mildheden, Franskmændene, snille, optræder, tilfaldt, vægtigt, Skovpryd, Klipperanden, bevarer, forøgede, udøver, pakke, Gudstjenesten, Morgendæmring, ty, Piano, sagtnede, brødefulde, geistlig, imponerende, femte, gavmild, Mostuer, sanktioneret, flygtede, dump, grublet, Tidsspilde, Per, 215, Tilflugtssted, gjennemile, Andagtens, Lykkelig, Forfald, Stillinger, Uforstyrret, Kjernen, Instrument, krystalliserede, Gjestebesøg, perlede, Siljefløite, Lighedens, tiltrækkende, rigest, Sofa, forsvarede, stukne, Frelseren, Sammenligning, Reputation, opstår, Rachel, Magtsprog, Sjelsevne, Evangeliet, plump, vokste, smækker, ligefuldt, Søstrenes, verdsligsindet, henfalder, tryggere, Folkesnak, Engbund, erkyndigede, behandles, Vildskab, uskrømtet, iagt, øvedes, rungende, religiøse, udveksle, Påfaldende, Hist, Iblandt, Slegtninger, Tempo, listet, Kirketjenesten, forsigtigere, Fangsten, sjelfuld, Konversationen, uforståelig, Hårvekst, Veiet, mægtet, Opreisning, elegisk, Eftermiddagshimmel, knarrende, mægtigt, Bestemmelsen, Landhandlere, mismodige, fladt, Lysthuset, Sygestuen, Oktober, ideelle, Stemmen, Naboersker, gridsk, fastgroet, erfaren, svaier, mønstrer, Foredrag, Troskaben, heraf, modbydelige, 271, Studsen, tamme, søvndyssende, undtager, draget, Mile, sværmende, snurrende, Sytøi, Pintsedag, tindrede, Relief, Septembersolen, Idetsamme, opløser, fremstiller, Ophav, Hr, Kammerat, Galterud, lorgnetterede, Kavaler, sikres, Manøvre, Kopper, gunstigste, Helligdom, mægtede, Luftning, Officererne, Bjelder, Solnedgangen, gjestfri, Skyggerids, afhandle, ægtede, opreise, Grupper, ve, Rimfrost, Sommerblomster, tiltvungne, erholdt, Tusinder, Dæmringen, magnetisk, Vinteraftener, violette, Aretthusa, Strauszer, Taget, Aftenstund, Konsert, Gløden, kronede, åndeløs, lege, Bæk, Sletter, Gjertrudsfugl, Indskydelser, vælter, r., Rast, broderet, danser, Grottens, 284, dulme, Granerne, Ænder, forundres, raillerede, Ulykkeliges, konfust, Munterhed, sørgmodige, strengeste, Bakkeheldet, Domme, Rang, Karakterens, miste, Birkene, melodisk, Storstuen, Kunster, berømte, Kjertegn, uvilkårligt, udtaler, ynkelig, Forblødning, Flodgud, Tyv, opførte, ødelægge, Sved, herind, forræderske, værgeløs, Trangen, bønfaldt, kneisede, sløvet, overmenneskelige, Ryg, 293, Forklaringer, Kostbareste, Sværmerier, Løvtrær, eliske, nedlægge, ryddede, Slappelse, Æreløs, umelodisk, Naturpragt, Foretagender, udsætter, Overgange, Klageskrig, Balsalen, fordoblende, fordetmeste, beregnede, vante, anstrengte, Nuancer, Træernes, Gjestfrihed, Rugbråte, Geledderne, ruge, Kroner, skrattende, placeret, zarteste, berørt, imødekommes, frugtbare, Georginer, hemmelighedsfuldt, Samfunds, Tandpine, Sammenkomster, pralende, 297, søsterlig, Buskadset, Sidemand, majestætiske, Spiren, Feiltagelsen, skinner, ubeskrivelig, Vinteraftenerne, Trusler, Fornærmelse, Damerækker, Tømmerne, Føden, Skovduen, afslå, 66, trækker, forsvinde, Efterår, rædselsfuldt, Kobber, hovmodigt, forfølge, Pakke, omvendt, oprindelig, smertede, blålig, Grundsætninger, Kramsfugle, Farvenuancer, Marker, forstøde, Malerne, Rognetræer, ogn14, afbladede, Duen, hvinende, Modigere, slentrede, Rækkerne, lystig, Granmasser, betænke, Ædelstene, Sletten, sædeligt, Menneskeblik, pibende, hændervridende, sterke, fantastiske, Redningsmiddel, Gjerder, Hvemsomhelst, Toppe, Vingeslag, Grænse, ytrede, tusende, fortonede, forhøiede, opmuntrende, Hjemvendte, Skybelte, Opfordringer, 38, overskredet, Barnefantasiens, Vemodigt, styrter, udsættes, Nabolavet, derhenne, Drømmerier, Guitar, hovmodig, Mistillid, Skjørt, Sønner, Lien, iseng, fantastisk, Bestyrelse, Kjender, Byerne, huslig, Theorier, klangfuld, Konge, Nittengryn, trofastere, Bonde, opofret, Utallige, heil, tildelte, opkiltrede, forsmå, stanset, 7, Hylderne, Fars, Provsts, smaragdgrønne, oprørende, Omkreds, gjestmilde, tålmodige, krammes, hvilkensomhelst, Pragtmøbel, Teppet, Fuldkommenheder, Frimurersang, Champagne, Damepynt, Bakker, Nydelse, slængte, Måltrosten, Ærmer, hvidbarmede, Frimurersange, Smerter, Fjærkræflok, Synes, 144, Tegning, Kvinders, Engel, Formuen, Baggrunden, Muligt, Tobak, herlig, Petersburg, afgik, gjenvakte, Læserens, følesløs, Seilere, Avertissementet, alvorsfulde, Perle, gjækkende, svære, vipper, dieser, flygte, Vissenpind, udjevner, Huse, Tilskikkelser, ovenomtalte, indfaldne, Formue, vadet, Smagløseste, undervistes, skrå, 337, Opvækst, indstuderet, Beroliget, Runde, Selvbevidstheds, martyriserer, Høne, In, Hvidhed, fornødne, sorgløse, Vandene, henved, Grønkål, takseres, kjølig, Læs, Sæsonens, dukke, Nürnbergerkram, Sandeltræ, Kornet, Gruppen, foreslå, sloges, udstå, Ædefadet, 37, eksalterede, rage, Frøkenen, rost, Skabningers, Balancen, afværget, Å, tvivlsom, hjælp, bie, dikterede, Kjødboller, forbyde, Botaniserkassen, Søgen, Overtræk, udregne, Lur, Forvandlingen, broncefarvet, femogtyve, Vandplask, fortryllende, Vragen, budt, ærbødighedsfuld, bønlige, Skorstenen, indhylle, gjensidige, overende, Silketørklæde, Sødheder, Utrættelig, steile, bortgifte, undergravet, rødstribet, Forkjøbet, Fingerpeg, vellykket, Vare, Spotter, Digte, Pelts, Kjøb, kjedet, kastes, fuldstændiggjorde, plaskede, ugift, Nereidegruppe, Koromandelkysten, Kapellanens, velopdragne, Viser, Træfarve, jasket, gudelig, Skjend, drukner, vandre, Slutningen, Underlige, Mandfolk, Velfærd, Effekten, jevnbyrdige, ulig, smerteligste, Trankebar, afbad, forresten, kjendende, Udnævnelse, Ed, Guitaren, skrigende, Pietist, grundigste, hule, omkranset, Stænk, Blus, knuses, besynderligste, ens, Cantate, Bassin, George, nærmer, Forevigede, Processer, Betoning, småligen, Ryk, forlængesiden, Graners, tilfølge, Haneben, prise, brunt, Lamhed, skrækkeligste, ægteskabelig, spændt, afskrækkende, timeligt, gen, Kjæleord, Zirkel, bornert, Marvbudding, Natlampe, Fjas, leiret, Menneskenaturen, gudhengiven, Sindighed, uforbederlig, tysk, uberørte, berusede, Spadserturens, Teknikken, utækkeligt, Masken, guldgule, Drivfjeder, iland, Rundt, Forlov, Begjerlighed, Dessert, Samtalens, trættede, nedsteg, forsultne, zart, Dagligstue, Hængebirk, ønsket, Slapheden, Skovluft, glider, Præstekald, smeltede, salvelsesfuld, 105, udvalgte, 57, sitrende, sørgende, Provstindens, ophørte, kjedede, Ringe, smigrende, lær, nordligste, hænge, Luftninger, omkredser, modnedes, Omridsene, Vægtskål, Fabeldyr, Kjøretur, husk, Dødsstødet, Fromhedsmaske, Nødens, attråede, banet, Cold, ubehændige, balsamiske, sulten, 139, Atom, forkynde, spraglede, hellig, bydende, oprettet, Tenotomi, Bro, vanhellige, Vært, Voksnes, statueres, usigelige, Sprækken, Halefjer, gyser, Fortvivlelse, Treds, åndede, forstørres, bornerte, uklædelige, syttenårige, Valfartssted, Bygdeveien, Ansigtsfarve, udelukke, Barnagtige, spadserende, dæmpe, Kongeveien, Sadelknappen, vuggende, Kasse, knytter, Jugend, Brøchern10, konfirmeret, Usædvanligt, opbyggende, Størrelse, Trondhjems, solbeskinnede, eftersat, Vampyrer, meddelte, gledet, Børnenes, tænkes, flygtende, Græsstrå, Nåde, Misere, frygteligt, forkvaklet, specielt, betydningsfulde, Hatten, Accent, rigeligere, a, Aar, forskrækkelig, indbød, Rørt, udløst, Skovvei, storartet, rækket, Dyreverdenen, Kaffeen, smekker, artig, aus, 154, halvrådden, Luner, Bjørne, påstod, beseet, Skridtgang, Minder, minder, Chikori, nordre, Speciedaler, Hulen, ubetydelige, døiet, undgår, Skelen, Svingninger, opløbne, speidede, slåes, sengeliggende, himmelhøie, Leder, Skinhellighed, Blålærreds, Strømpe, bymæssig, henter, Modsigelser, Trav, frit, overført, bestikkeligere, pippede, strikket, ulykkeligt, Tvivlens, prangend, Amtmandsgården, håndtere, Udsvævelsen, bearbeidede, hentede, grånende, mosgroet, Klipperevne, påtog, forstummende, opgik, selskabeligt, blaffede, Oplevet, Kløer, Fjorden, Geskjæftighed, undselig, Formaningstale, Sykurv, Subsistents, gjennemskar, godtroende, evindelig, Gebild, faderlige, Heks, Glemt, Hændelsen, Grønne, glædelige, Grøftekanten, Hykler, uskyldig, spædlemmet, frygteligere, Befrielse, Bønderfolk, svale, pertentlig, herrlich, veltet, Smertessuk, Mils, Smørrebrød, Strikketøiet, tilhyllede, ugjennemtrængelig, meldte, Theatret, behændig, ein, Nandrup, Ål, Huslærerpost, omstrømme, Husholderske, bestem, Skålen, Kattens, ædelformet, Buskene, omringede, overdøvet, stædet, Drage, wie, Dages, in, blænder, afskedigede, Instinkter, Komode, Sagtmodighed, Hovedlaget, Lege, sammensvor, 129, nedblæst, Oldemoder, sælsom, bruger, velbanede, Spedalsk, gjøres, Stuedør, derhos, Forsagthedens, Höh, Sygelighed, ynkværdige, Tilbedere, Amt, des, sygelig, skjev, Gjemme, kritisere, forstummede, Hestene, Argumentation, væk, meddele, undskyldte, Instinkt, Hm, langtfra, forfriskende, boende, tyveårig, Brunen, udvisket, Mammelukker, uforlignelig, karrige, 292, tilbørlige, djerve, Ubillige, barnligt, Tyngde, irriterer, Komposition, kinesisk, Tschacot, Farveveksling, Skib, fattigt, Blomsterkalken, 130, Kommers, hollandske, Rusdage, Afgudsbilleder, tilbageviste, Fornedrelsestilstand, lovlig, prydet, pompøst, grønlige, Hjerteblod, bestøvlede, Omkvæd, bestyrke, sværmeriske, Hyrdeverden, genere, tyede, Illusion, Lyn, Musikken, Tudes, sunkne, Mahognispeil, Himmelen, skjævt, belave, ofrer, dreven, tillidsfulde, taust, ulykkeligst, afvexlede, Bygda, Sturm, Indignations, Søm, indført, Stiftsgården, afgårde, Rørelse, Extaser, 29, Uting, Eventyrligt, selvkjerlige, Levealder, Idealerne, Baldragter, Provstefruen, Tapeter, 90, Blusel, Grenen, speilblanke, formange, undte, svor, opriver, Skjønheder, opklare, Farverne, Ombud, Postbudet, Beruselser, kjøbt, Ventende, Åg, Lignelser, Svada, 199, varmede, Høiagtelse, bevingede, Afgrund, Mancha, overgået, forvandlede, Gros, halvblind, skjerpet, Erobringer, Oktobersolen, Fodspark, ulovlige, Menneskeomgang, Uniform, Fjerne, Øiekast, talende, Dydsbegreber, Anakronismer, misforståede, Dæmoner, Feiltrin, Forresten, Alles, synkende, stilet, Blå, Tilfældighedens, Forfatterinde, uvis, Statholderen, oppustede, dømt, løsnes, blyfarvede, Le, Glædesdag, reven, Sengegardinerne, Eiermand, Skriveri, Bind, Yngres, smilede, Takelagen, Mandarin, overleve, Hyrdinder, ubekjendte, aftviste, Selvovervindelse, stammende, konkurere, Antastelser, nedstemme, Uomskiftelighed, ophører, Piedestal, beliggende, Studenterlivets, konserverede, Lagener, berettiget, Slægtning, sundere, Voksdugshuen, Gade, urigtigt, Drikketider, udskårne, skrinlagte, tillægger, Lægdslem, herskede, 244, 72, beroede, ensbetydende, Posthuset, Vanskeligheder, Egensind, Svir, forstandige, nødvendiggjort, mærkværdige, Slagsmål, vrikkede, skynde, Vellyd, Fugl, Angjeldende, falme, vrøvlede, Frokosttime, pikerede, indrømmende, Speiden, Ballast, flagre, prosaisk, Uafhængighed, Bastillen, Karakterer, forhindret, indvies, Busken, Præcis, Tradition, 305, Forråd, 322, Alen, prægtigt, pinlig, gyseligt, fintskårne, tilfældige, Profil, Skjebnens, hyppigere, Vås, Billedhugger, fordrevet, Mellemting, fløien, sanctum, umådelig, 150, løierlig, Befrielsesforsøg, hykkelsk, Stevnemødet, formode, villiestærk, Krogvold, frydede, indvirket, årvågne, åbner, Afveie, Frugten, forønskede, binder, Silketeppe, Opveksten, Lands, Bouchers, sanctorum, Vrængebillede, enedes, Skare, Modgang, Smålighed, Trubadour, Hyrdescener, hviler, Ophævelsen, Oprindelighed, Livsfylde, skyggede, overbeviste, hastig, forfeilet, udjevne, Drangperiode, skrupuløs, krøllede, Enemærker, 26, Giv, Verkensvesten, omstyrtede, higede, Vandstand, Studenterdage, Azur, Tingenes, pathetisk, afgnaver, Årsens, Tankerække, Skrifter, veksle, Monolog, Uforskammethed, indsmigrende, forsmået, velvillige, Unger, Dragesvands, Søstres, anstillet, Indtræden, Slægten, allerlettest, øves, Kultus, smalt, Model, usalige, Sløvhedstilstand, Smiger, Kokarden, svimlede, forsone, Møller, Fordybninger, Dusin, yppigt, Substants, Tigger, fristedes, forestille, nedover, skyllede, sparsom, Birke, hensynsløst, energiske, kaldtes, Vask, Fordærvelsens, rank, slynges, stemt, tankefulde, indvundet, Individet, rode, Stedets, glædestrålende, Ekstravagante, Sonoffer, Landhandlertobak, Åbenhjertighed, Landhandlernes, blød, Levninger, hedde, Færdighed, Bleg, Ungdoms, Klippevæggen, martrende, forbausende, sønderbrudte, Prindsesser, Skuffelsens, Speidende, Terrasse, nedværdiget, mægtig, indladt, Terræn, brat, Gutteskolen, rund, Vandel, Tidsfordriv, Løkker, tilintetgjort, forbause, Duge, Menneskehænder, Bestilling, Udtør, Drømmeren, skammeligt, Slip, betydningsfuld, Mølletaget, Løvskov, ifra, jevnet, Halvkreds, solblanke, 274, nødtørftigt, sikreste, oventil, Ridse, ugifte, Nutidens, løste, beså, Spigerfabrik, Hjælpekilder, Forbandelsens, Belæring, mælet, Tørring, trint, Indvendige, Ligklæde, bearbeide, 226, bestrøet, husede, Klippeblokke, megettalende, Strøg, Fodsti, respekterede, begrænsede, hermed, delende, Nicher, såvelsom, Ujevnhed, Klippemasser, seksårig, besmittede, Medium, medicinske, ærefulde, Barnets, Arbeidere, Herligheden, forberedte, cylinderformet, studsede, tiltaget, Maske, Ødelæggelsen, rummelig, afvist, Tilknytningspunkter, Julehelgen, Enge, Sværmeri, 164, Arrangement, Opgaver, hul, sårede, Menneskekundskab, uheldigvis, Bedraget, overgiven, skimtede, 35, forekastede, Indtrængen, Baghånden, tillidsfuldere, Grotte, Svagere, tilslængt, Lystigheden, forhånet, dygtigt, Nord, 179, alvorligste, kureret, nølende, Benauelser, Dens, Ensomtfostrede, Husmasse, Kyllinger, regelmæssig, Protektion, Gruset, Illusorisk, igrunden, smagte, Småpigerne, besat, Forhænget, Håndværkskarle, omtaler, VII, underholdende, blåagtigt, Fruentimmernetheder, usandsynligt, ukunstlede, male, Spalte, Opklarelsens, skovløse, dæmrende, undskylde, Fromhed, sjelelige, bortreist, krasse, gjestfrie, gunstig, venligere, indviede, Småhuse, hvarpå, merkede, frembringe, Monologer, opnåede, Feberfantasier, udsmykkede, allersørgeligste, lunefulde, Ekspektorationer, symmetriske, kirurgiske, omstreifende, Opmerksomhed, sakramentalsk, Edvards, spredt, flygtet, hvidhåret, Dal, Pind, Vrangstruben, 36, Livsfænomen, krøb, abstrakte, dræbende, Sønderrevne, indbragte, Resultat, Tinter, Hospitalet, Slyngplanter, Forstuen, plyndrede, Ukultiveret, Koket, bortryddede, 4, Ild, Dunkle, Gårdspladsen, Broderi, beskjæftigende, Ironien, bredt, gyder, surt, Småfald, udvidede, uelsket, henstrøede, Adsplittet, Overfrakke, Brød, Båndet, bortskjære, rystet, klimpre, Adspredelser, Uvilkårlig, Enemerker, Teglverk, Studier, Feberen, Fodstykket, ubønhørlige, Belæringen, Rune, Ordknaphed, Overtalelse, Vildeste, overgroede, vindes, boet, Romangriller, umiddelbart, nødtørftigste, Omhyggelig, Beskuerens, Passet, ytrer, hungre, løftende, Udenom, Bevidsthedens, fad, wer, tilbagelægge, deler, Selvtænkt, Dronnings, wissen, Karmen, sammensmeltet, Bordgjæsterne, forældede, Sindelag, fordoblet, selvstændigt, Buk, Sæterjenten, formløst, Fjeldkløften, Bagefter, 185, gjenlydende, Hovedrollerne, nøieste, betages, Hestens, fuldere, imorges, vibrerende, indprentet, modern, Lyderne, Blufærdighed, mørkladen, lummer, Hårvækst, udbrugte, rådslå, Hamburg, Vippen, uangribelig, derunder, Uskyld, Udartning, Kauen, Overvegt, såvist, mangehånde, husfaderlig, hades, sagkyndig, Knude, vinkende, Haud, mødige, indirekte, sangvinsk, hvisket, Spændkraft, sprætte, Dragen, Fuglevildt, henkastet, kastaniebrun, Skumringen, foragteligt, ustanselig, unddraget, Undervisningen, forøget, hjemad, reflecterende, høflige, dybtfølende, dansk, Koncerter, Naturers, Merskumshoved, aufhört, Fruentimmerstemmer, Øines, belæssede, Susen, flammede, lettest, upåklagelige, moralsk, Morgenjagten, Formiddagstimerne, Forstod, udspendt, koparret, Dronningmine, Dagverk, kann, Stakler, Formerne, Andagtsgysen, grundforskjellige, hinsides, alleslags, Fem, selvstændig, Karikatur, brøler, vaktes, råde, Koen, Adskilligt, ubestemmelige, Melankoli, ydmyget, strammet, dimitteret, Fjeldmark, forestillet, afpudset, begjerlig, Skrædder, Støbegodsopdragelse, Trykkende, Søndagene, sydostlige, gjennemstrømmede, kjendeligt, udspandt, forløb, fornærmeligere, hviles, Begyndelsen, Snerperi, Ubestemthed, Brinken, beginnt, 249, Grundforskjellighed, nedladt, betvunget, tillags, regelret, Indfatning, Reaction, sondre, Idealitet, 133, Aftenskjeret, Reisedragt, brunet, bøielig, befalede, antiklassiske, Vinterdag, skjødesløs, Nedspændthed, Bazarskranken, Bedrageren, Eftertryk, Bjældeko, overvættes, Jagten, Dennegang, forrædersk, Lysttur, skyr, glindse, Høst, vildfremmed, 53, Høstsøle, Flygten, værne, Baldragt, Gjæstgiverskens, Møllens, Birkeskoven, Stående, reglementeret, Blev, Inkarnation, fortrydelig, smudsige, bladløse, Stjerner, klokkeren, hoppede, Vindens, tilbageholdte, Annekset, ustandset, smage, Personlighedens, Misbilligelse, nydt, Kunstværk, bevægeligt, Strålenet, strækker, Lächeln, Større, Kniplinger, bemerkes, Overfladen, Cigar, Marmorbleghed, Ubetydelig, Elv, Skvalder, lurvet, Sæter, dygtige, bøielige, aspirere, Ugers, adspredende, Hadeværdigt, høirøstede, Skovdybder, Klaveret, Skabningen, Hvorved, Familiearv, Dommedagsrøst, græske, Pigebarn, Ligesåvist, stærktbygget, trivielt, Stump, wo, frændeløs, glattet, nogensteds, indtraf, Assessorindens, klæbrige, påstodes, Frisurer, Vår-, Døgnopinionen, afslibe, Heles, 207, ansat, Marianøgler, læspende, Futiliteter, opstået, overse, svække, Solglansen, Iagttager, Beholdning, Jægere, Udvækster, Spindelvævtråde, Buen, Tidsfænomener, kaue, Protest, pinligst, frekt, afsondret, blændede, Trofæ, opløftende, Affectation, brummende, Hjerterne, Embedsstilling, Morgenhimmel, Dyrerøster, Lænken, Kulturformer, Ædelsten, Gjenlyd, ligesån11, døve, Krisis, skjelnede, bundet, klædelige, glansfuldt, Bedragne, løsnet, Svigermoder, Forstyrren, udløben, Bænke, ubetingede, Dyderne, indpodede, dukker, mætte, frembringer, Vegt, oprigtigt, Pinagtigheder, Taknemmelighed, Humle, Knopper, Overdrivelse, Blåveis, rettelig, kjæmpende, Usselt, nedsætte, Besætning, pladskende, umådelige, Grubekongen, Enkelthed, Sætervangen, Gjenfødelse, letslumrende, skjælde, Hytten, Vise, spinkle, ligesåvist, Kreaturerne, Menneske-, Hæk, Yppighed, ligeligere, Nielsen, Otte, Bogladerne, Glimre-, Broderdatter, Byrder, Æbletræet, Kvast, Fatalist, Morins, Dumrian, Kanape, stuet, Fastsurring, modtagne, kvit, send, hæslig, festlig, Fattigmand, Lydløst, Diskantrøst, Netteldugs, Kirkens, læsset, ordnede, Rose, Bifaldsråb, nedentil, bødet, Solstråler, Træskrin, echaufferede, Udskeielser, strøet, tilsvarende, Kanarifuglen, ensartede, repræsenteres, kjerlighedsfulde, forfærdiget, Herskesyge, Hængebirken, Overfladisk, Kornsække, oven-, Læderfrakken, Bønderne, indlod, Lunde, forunderlige, Kjælderen, ligeunder, gjengav, folder, Strimler, Honnørs, Tyendeklassen, sprungen, kasseformige, Bærerinder, Idealet, Vogntrinnet, Auriklerne, Thebord, gult, Jammerskikkelse, Landlivet, Silkepapir, Skjerf, veit, Markederne, Forvildelser, udvendige, Fornemmelser, Smertes, smertefuldt, Krig, velformede, forneden, stirret, bortgivet, Berørelser, oprette, kjøbenhavnske, Buket, Sarkasmer, Vinduesrække, Veltilfredshed, geråder, Klenodiet, Minuter, Afreisens, udpakkede, Alleens, herremæssig, fordreiet, gammelagtig, 332, forann29, mørknet, undersøgt, uædlere, Hølk, besudlet, 329, Genius, Tidsregning, Fremtidens, fortolket, Bryllupet, belønnede, maliciøs, håbet, Bryllupsstadsen, åbenbare, reddedes, uddeler, veilede, Melkebod, Spadserture, Krans, Fingerbøl, beherskende, svækket, styrkede, afsluttet, reproducerede, Sysselsættelse, skarpere, besmykket, Sjeldenhed, Vifte, udartet, sparsomt, 176, Generals, ligefrem, Insekt, Afstanden, skjændet, udhalede, forspendt, ubarmhjertige, 312, Forårsmorgen, nyragede, Kufferts, Dit, skrutrygget, Præstegårde, Anathema, Grimasen, Saks, Gallerier, Slette, pudset, Dronninger, Havedøren, Benådningens, betvivler, Bomuldslommetørklæde, statelige, bredskjødet, vegtigere, inte, Regelen, Giftermål, Ege-, væve, Må, feiede, ufravendt, Rad, Morgensolen, ægtet, Uantastelighed, bedragersk, Indhylling, Bøgetræer, Mangelen, Julie, sørgmodig, Hyrdetimer, Pintselilierne, Støvfnug, Halvcirkel, Sæk, kjerne, betænksomt, Hatæsken, behager, Væverkammer, 186, kjøber, roser, Træsorter, Reginas, vårfriske, 295, opmandede, Lyseffekt, Slaglarmen, Kontrastens, diktatorisk, Vinduskarme, falbydes, omhyggelige, Vild, Bede, 41, Kjøkkenredskaber, opstrøgne, Tørklæde, solid, Solbrand, kyndigt, viftede, Presten, Talenter, Kys, poleret, Bogfinkernes, bepakkede, Kariolen, Modehandlerinder, Afbigt, overraget, Domfældte, Toilet, Stik, Forklæde, regnes, spotter, Original, ænsede, anføre, drikke, yste, ufortrøden, Skråen, recommanderet, dunkede, Redningsmand, fåtallige, trodsede, minutiøs, nydelsesrige, Organist, Vartræk, gjennemvåd, Skilderier, skjæve, tærskedes, Madonna, spændte, knirker, knækket, klagende, Forglemmelse, ranke, Kasser, Tøilen, Udtydninger, Fraværende, Skab, Flagren, oplukkede, foranstaltet, fremtræder, Naivetet, ophobede, selskabelig, smutter, skimlede, underkastet, Gruppe, afveg, Båd, klingrede, Herredømmet, trediveårigt, Forbindelsesled, Tålmodighedsverk, forvreden, pilsnart, Personalkritiken, Benævnelse, Grevedon, hændet, Luftningen, afvinde, Åkanderne, Railleri, ligesåmeget, Klæderne, sammensat, Kabinettet, Stuegulv, holdte, gjenfinde, Nodebladet, Forpligtelse, indfange, spare, uenig, Compagni, bælmørke, Resterne, nedslået, Pult, Potetesager, henrykt, Familieportræter, kjølige, umotiveret, heklede, Fuglens, Tilberedelserne, Skovnatur, Unyttigheder, Husholderskens, ækle, Træet, Mishag, smækkede, vældigt, Ege, Dyd, støvede, gjelder, Sammenstød, Valmuebusk, Blomsterbedet, uhelbredeligt, Augustnat, Grinden, tristblikkende, samstemmende, journalière, trøstesløse, Anklage, Sirids, Størrelser, undfangede, stateligt, Halvmørke, Kjedsomhed, Skjult, Nipssager, Eiendommeligheder, Kinden, Nattestilheden, Grundelementer, ekstraordinær, Sønderknuselse, nyudklækkede, Medét, Stønnen, trallede, Fortabelse, Applausen, Barnepigen, Kjævleri, mangelfuld, Lysbræmme, Klynge, Menneskeveråb, Sekretær, Rammerne, Fætter, Cognac, gjenvinder, bevogte, Krænkelserne, Medicinglas, ravnekrogske, indtog, Feiekost, Skrå, opsnappe, Agerrikses, lydløst, Plekter, Kjæmpetræ, nobel, Himmeltag, Takten, forstummer, avancere, flad, hænges, Skilderi, Middagsbord, Klippebred, uddanne, Gårsdagens, himmelvendte, begyndtes, fuldkomne, Væggeprydelser, Naturbegeistring, banket, mådeligt, Kleopatra, Fossens, Landture, bedømmes, Æden, Onder, trøster, Guddom, Påpasselighed, Skyggeverden, taktmæssige, Ensemble, forstene, halvveis, Karl, snirklet, værdfuldeste, opbragte, forknyt, pakkede, Fortolkninger, mundtlig, grumme, Påfyld, Sangtimer, europæiske, Svagheder, broncerede, Speile, Bryllupsdagen, Familieboliger, Breiens, sammenhobe, plaisir, Vande, 132, Vanvittige, Uvidenhed, forsyne, raillere, vifte, Beundrere, Vidielænke, skarpsindig, Bytte, Konversationer, Patienten, Heloise, Granernes, plantet, Grantoppe, smålige, Fortidsdragter, godlunet, opfanger, Fremmedartede, Kontorstøv, Fangenskabet, Sennep, Ribskjer, Forgjeves, stegt, Familietraditionen, pålå, Boligerne, Ildebrand, allerførste, uforvansket, sær, Diplomatien, Blomsterpotte, Værdløst, drevne, Spirituosa, Grundtonen, partie, braset, muligst, upåagtede, drukket, Gratulationer, Tænkemåde, 88, storpralende, Lofterne, blandet, visne, håbløst, broutende, Forfriskning, Tømmerflåde, Foragtens, Løvverket, Fortællingens, pompøse, Hulhed, Hovedgangen, Sørgelige, Kurve, Brøstfældige, ligegyldigste, kjeder, Lykkeligere, Bjelderne, krampagtigt, Bægre, Overflødighedshorn, tirrede, korthalsede, Horizonten, Rivninger, Distraktion, grubler, Sidevæggene, Fingrene, 102, Skjønhedens, taktmæssig, Parasol, Mutters, Havmand, forgyldt, Sofaer, Skildvagt, 232, Munkekor, Skyggerige, Føie, besidde, lurer, Kjernet, oprandt, fortørnet, Hemmelighederne, Kjøbenhavns, Timen, Kvantum, Harpe, Sedia, Stokroser, Ridepidsk, nivellerende, døende, stans, rokkede, spøgelseagtigt, Stemningen, Uldgarns, flytter, Abeillard, fastgjort, platoniske, vågede, Ibenholtsbord, Dråbe, endogså, uensartet, slemmeste, tilsyneladenden18, Forfatternote, Grimase, smilet, Sætere, tyktes, hevne, Huld, formildede, Linas, Vandliljer, Poppel, tilhjælp, Foranstaltninger, Uforskammenhed, della, Gangs, kauede, Europæisk, utrættelige, åndigere, Herredømme, Manglerne, Tankegang, Basta, længselfuldt, forsigtigst, færdedes, muligens, åndige, Udstyret, kasseret, beriger, 228, feiet, Omgivelses, Samlivet, Nips, Bund, Bekjendtskaber, uadskillelige, Nyt, nordlige, Opofrelse, Skoene, lider, Selvdødelses, Forfriskninger, frivilligere, hentes, reisende, giftede, kvækeragtig, Rex, beordret, besvimede, Dr., Live, Hertil, Stormænd, 5, Skjødet, arrangeret, Benene, stemplede, Middagsbordet, Taleren, Minutterne, Aftale, Drømmeri, Kordør, smal, strøgen, Summer, Menneskemasse, Stukkaturarbeide, Præstegenerationer, Forsømmelse, begav, halvanden, Ophavsmand, Børnebal, fuldproppet, higende, fremsattes, saa, Sommervind, seksårs, adstadigt, Juni, Dørstykker, fjantede, forslagent, 10, udførte, udrustet, efterse, Sædet, Rester, Adspredelserne, Mølle, elagt, tilpas, Begivenheden, Tilflugtssteder, bladet, sparsommere, Frun13, udstyret, Samvittighedsfuldhed, Gudssal, Løier, Tilladelse, Frøkener, Forskrækkelsen, Potteplanter, fodre, Skydsstationer, Havetrappen, Holdningsløshed, Utålmodigheden, vanlig, protestere, Maden, Held, Hydra, livslystne, hvidhårede, Oplevelserne, Lænestolen, valgte, jammerlige, Fænomenerne, Grog, Affære, skjære, Gjestekamre, undlade, holdent, beregne, Salmerne, gjæstmilde, Skjorte, Gårdmandssøn, opsøgte, Lægdsdrengen, Løftet, Afløb, Vartpenge, Skolepigen, beredvillig, Årstider, grundspoleret, Trods, undvigende, eftergive, syvende, opnået, bevidstløs, Lavt, Omgang, dør, Kortparti, besvor, Stænder, blegere, Lænet, skabe, Forulykkede, leger, Modersmålet, Skjøn, Fakirnaturer, Sekunder, Trediemanden, understøttet, Derfra, Partier, modløse, Fænomener, 262, mislykket, Skulderen, 168, Fatalister, Solhede, solklar, klamrede, Reiseproviant, Regnbuefarver, 257, Vilkårlighed, extraordinær, bevægelig, werthersk, Uryddighed, Lærdom, overnaturlige, Efterhånden, 122, halvstuderet, Årsag, forfeile, Forladelse, handler, Amtmandindens, oplives, Ridedragt, forårsaget, Beklagelse, gnide, stræbe, 34, tilgjengeligt, utilgivelig, Kunstnere, Skiven, Bid, Indknebet, Anledningen, Prædikestolen, kommende, styggeste, Hjørneværelse, Koloni, Christianus, aristokratiske, Udgave, Selvplagerlov, Faktotum, pralede, Kortspiller, indrømmer, Efterforskninger, skræmme, Løvverk, soler, Gudshus, velsignelsesrig, Lykkesdrøm, skjende, overladte, Herremand, Romandåd, Grådighed, lykkeligvis, Komfort, liflig, farverigt, nødvendig, Sædvanlige, Ekorn, hyle, Tide, overvinde, Mellem, udvexler, forblevet, Vildes, fordredes, Piben, sammenskrumpne, Forveien, snehvid, Gratiens, afstumpet, ideligt, angjeldende, Dødskamp, Skildringen, tvivlsomme, bebreidende, pietetsfuld, dystre, overhovedet, hjertensgod, Paukerne, mørkerødt, udmaies, 74, Prunk, Ud, meddeler, Stumper, udkastet, bortfjernede, vaklende, Krokodil, Håndfuld, Opmuntringer, Liliekonval, Offeret, freidigere, Morgenskoene, Bug, gulnede, Lækkerier, Gab, ligesiden, 101, heldigere, Hvorvidt, Prinsesse, Privilegium, nævnede, dåret, opfundne, bedøver, Urette, Ofringer, forkommet, Folks, Bjerge, folderigt, svulmede, Omkalfatringsværk, Have, funklende, Gemytter, gylden, endrægtig, pikante, fortrædelig, stivnet, viede, Vielsen, ansporede, brugbare, Skilling, Skaldyrnaturerne, oplivet, Individualiteten, dyrisk, Lærred, blegne, Ømfindtlighed, raskt, sødeste, mørkeblå, Grisen, urørt, afvente, henslængte, vegeterede, formet, Brude, Pibebrettet, søges, sædvanligt, indstiftet, opsperret, Aviser, fristende, Bås, ukvindeligt, banale, bestorme, Trådene, troligt, Blomsterparti, Indblikket, pinligt, fuldkomnere, Cymblerne, stikkende, Forestillingsevne, direkte, Nummere, hemmelighedsfuld, undslap, Forværelse, sart, Tilsnit, Overraskelsesdagen, Bogfinke, Rullen, svinger, 143, blommede, beleilige, halvåbne, Ligeoverfor, dadle, bevaret, producere, 330, Familiescener, ligegyldige, Angrebsplan, Enke, opstablet, vakle, Åndigste, vestlige, Høiden, gebærdede, Udstilling, Lettere, Aftensang, fatalt, betyder, lavt, tankeløse, Brudens, fortærede, Ombøining, Sløret, Åser, Nedgang, Fest, brogetklædte, Foden, trækkes, Udskeielserne, Ridehat, Musikalier, gemytfulde, uvist, forrettede, Effekter, negtet, Dråbens, forbausede, Sorgløshed, Hjemturen, velkomment, tilbagekalde, Gutterne, Afdeling, Slid, kamre, rense, tvungne, Tapreste, Velopdragenhed, forminskede, skuppede, Skolebygning, halsstarrig, runde, overtog, Malice, Kjæledægge, Godnat, 77, Indrømmelse, tittede, Arbeidsmand, Arbeider, Reformer, Skoletvangen, idylliske, Halstørklæde, nedtynger, Husjomfruen, Knark, Mærkværdigt, Skjeppe, Vidunder, Anstaltmæssigt, 190, Overtalelsens, Vævene, værdifulde, Stupiditet, Formand, Sygdommen, Havre, Dumt, udsmykket, udenad, Halvdel, Gjeteren, Lynet, droges, Kokkepigen, forrykt, faldet, ustadigt, distræt, flinkt, drukken, skure, Høstsol, Maskinhus, Klarblik, konvekse, Jagtredskaber, indstændig, slæbt, Regina, 42, harmonerede, hulet, Dagsreise, Skolemesteren, Fepallads, Gemytterne, Reisedag, Birkeløv, Klokkerens, gangne, Bogskab, Dårehus, ærværdige, snurrede, hvidskurede, feirede, vilden32, næstsidste, altklug, Rekonvalescent, 175, Asken, månedslange, Grandtante, formindsket, Solvarmen, langsynet, Husmændene, Ælde, uventede, Flig, hjemfalden, nedslog, syslede, uindskrænket, Ruderne, surrede, Uvigtigt, Næsebriller, fælles, Småkonflikter, Kunstgjenstande, Nattefrost, Seminarist, Mesdemoiselles, forplumrer, Yndlingssted, Rende, Pianoforte, ramle, Såvidt, Bemærkninger, Undervisning, Enspændervogn, antike, Øiemedets, Hanstid, ubefæstet, studsende, Møblement, truede, Psalmebog, opslagen, Udmark, Skoletvang, påstås, lapidarisk, Udgangspunktet, negtedes, Rokkene, 93, mangle, ihjel, Blylod, sjeleglad, St, Nålen, forhenværende, blødende, bevilgede, Flue, lammer, Gemal, Omegnens, Properhed, udrettede, Nyperoser, Prisma, Vrangvillighed, Hyrdescenerne, beboede, Reiseklædt, dovne, Gig, Dryp, Klogskaben, renlige, Afstandens, Vinterdøden, Dråben, Kjøretøier, Førend, beklemmende, opsætsige, Hvorvel, oprippet, Skovveien, hyggelige, sår, stode, halseløs, Kalkulens, Kingos, ivrigere, betoges, Fluer, Slusk, 283, Pigebørn, befatte, formente, Tendenser, Håndarbeider, bortrydde, interessante, stivsindet, Kakkelovnspalten, prøvende, besværede, Projektmager, mørkrædde, nedsunket, Skisser, Pulter, enfoldige, håndhæve, udelikat, håndgribeligt, Haveurter, dunkleste, stifte, Forstanden, Tobaksrøgen, 46, Voxnes, hostede, solbelyste, fravriste, te, Tilfredshed, Nethed, indløben, Koblom, afmægtige, Krakke, slappende, polere, Paa, bidrager, Moskus, Jagtbytte, forgudede, Formåls, eiendomssikker, fældet, Arbeidet, oplukker, Gjøen, Indtræffer, Forryktheder, Fosseduren, Skolehuset, Naturliv, skræk-, sukkede, Husmandsstuer, risikerer, Korn, Modvegt, udstrålede, medynkvækkende, Skabningens, menneskevenlige, Thrines, Renlighed, Gråveir, lufttætte, foryngende, mistænkt, skjendte, anerkjende, Galskaben, omspiller, Huler, utålelig, Mesalliancer, triumferende, forurolige, Begivenhed, gjenlyde, nervøs, magelige, speilede, Hunds, tilbørligt, trofaste, læsse, Lidenskaben, Forlovelserne, hoppende, bandt, anviste, bebygget, Forespørgsler, Emailleøine, Æble-, sædelige, smekre, forynget, sporende, håndsbrede, Nybyggerforholde, Fællesskab, Ingtetsteds, Inspirationer, druknede, Selvbedrag, Formodningen, uoverlagte, Solnedgang, Dåser, Ægteskaber, Toppunktet, åndsvækkende, daterer, afskrive, snor, Skrømt, afholder, neier, Pennen, indeni, smertelige, Selvfortærende, stimler, Forskrækkelse, matte, oprinde, Overgangsstedet, Mines, ufuldkomment, Dalstrøg, dømtes, allerfattigste, stormer, tremens, Hunden, forstødt, spotte, jage, zitrende, Fjelds, snige, Store, hvormeget, Elendig, Rovdyr, Drenge, Steder, hertillands, Gemyt, Afsats, Hannes, Nafta, redeligste, Ledestjerne, Rastløse, bortgiftede, mærkeligt, urenlige, 241, pålagt, uforglemmelige, Troppist, beleire, Overlast, Belæsthed, Nærmestes, Præsts, dristige, Frues, pynteligt, Straffen, Sygestue, Konfirmanden, bitterligt, Ølkveisen, ynkværdigste, seiersmodig, beskylde, Elskende, håbløs, dybsindige, Livshåb, Kirsebærtræer, digter, Fredens, Håndværkere, Hensigter, Talefærdighed, ledede, 339, Stormvind, Spedalskheden, Diktat, Flygtningerne, Deriblandt, national, rettede, Pligtsystem, Menneskesorg, Feverden, Hjerterødder, helbredes, 218, Tordens, Arilds, Ølrus, delirium, 260, gnieragtig, sloge, trives, naive, Kyllingerne, gudsforladte, Indpas, Brudgom, Vågekoner, mennesketomme, Mission, Anelsen, Solglimt, udkåret, Skyerne, udmerke, Gestalt, kvæger, Klædekammer, lasede, Valeriana, 19, Mangt, uselskabelige, afbryd, styrtende, Husmænd, bevirkede, sedvanlige, klinger, Fiskeri, 189, knappet, 273, træagtig, Kommentator, Sølvtøi, Slemt, Førhed, gjennemrislede, Sindssygeanstalterne, betegne, Furer, Skjæret, Livsår, lidenskabeligste, slumrede, forelæst, stansende, heldende, Mester, Chimæriske, Udtryksmåde, forklæder, ansvarsløse, 290, Virvar, cynisk, solhed, Frase, pilsnar, kostede, Kocarde, Verten, Hulheden, Knapper, Sommereftermiddag, Levkøier, Krystallet, vidne, lam, gjenfinder, tømmes, løsrevet, rudet, upudsede, anerkjendt, Armstager, udenbygds, Afbryd, Gryden, Emigranter, bedragne, Årstid, arbeidsom, udbudne, udregnet, improvisatoriske, Vadmelsbenklæder, Kuldegysen, dryppet, skjøtte, Wergelands, Uges, Indbydelser, 3, dueligste, metalagtig, forhekset, Frø, tærske, Ternen, Forhandlinger, nedstyrtede, Meninger, brystede, Børneårene, Ammestuviser, Skydsskaffersted, østlige, tyder, Husnummer, herre-, Tildragelser, tilfredse, Spædhed, Nedslagenhed, luvslidt, Chimærer, foretrukket, to., Opgang, knirkede, Stuedøren, Rosenbuske, Ternens, dragen, Sverd, Åkander, Forbrug, Fjeldtur, Festsalene, Efterkommere, synges, prøvede, Forgemak, Retningers, eventyrlig, Varsomhed, utåleligere, spadsere, Lysekronerne, Pyntelighed, Dagligstubord, Brokadeteppe, Fiskeranders, indbyrdes, deklamerede, tilgroet, kue, værkbrudne, Vråer, Gryde, Overdådighed, Sladderhanke, koges, 302, adskilligt, Natteskyggerne, Novembereftermiddag, Herskerinde, bearbeidet, forborgent, agerer, Utrolige, Forvandling, Toilette, blåternet, børstet, Babas, Ængstelsen, Slankhed, omsnoet, Universaldigteren, hjemlandsk, Dunstkreds, Passiar, smykkede, Glands, Urskovens, forbudt, Morgenrøden, udrevne, Damaskdækketøi, Behold, Tjenstagtighed, Samdrægtighed, kiget, Mundingen, dito, indskjærpede, overnatte, betydet, Pudelhund, Vin, Ligeberettigelse, Marmorbordet, n4, 270, Urter, kvindagtig, Ombytning, Ærerørigt, Ungdomsmodstander, renses, Urenhed, Møllene, Hyttens, elektrisk, Linerlen, stirre, Udslaget, Lægehjælp, Fortællings, strider, disputeret, Skjortekrave, citerede, Divanbordet, nævnet, forblommet, Terrainet, fordomsfuld, Uvane, Bab-al-, skånede, kræve, gravet, Ikkepåagtede, Familiefester, Speilflade, Velling, smudsig, Læ, Kind, indgav, Guldbryllupet, 187, kummerlig, forskrækkede, Billighedsfølelse, søg, ængsteligere, fortræffeligt, huser, reiseklædt, afsløre, tillavet, Eksklamationer, kostbare, nødtvungen, Andragende, Vandflade, overveiede, Limekunsten, uveibart, Verkensvest, tyndere, Vågnende, lærerig, Fløielsvest, bekræftet, afdanket, bredet, respektive, Liden, verdslige, Morgentoilette, Retter, Langhalm, Voxdugsovertræk, Ikkefeterede, Lydighed, fæstede, Anelsesfulde, Skrækkebilleder, 83, 125, Bitterhedens, Tilfældigvis, 287, forsonet, Studenterfeiden, Formernes, hvast, Grundvold, Arbeidsbord, påtager, uvidende, Studerværelset, belevne, vedkom, Halsklud, Morgenvind, Perleslør, specifik, Kosmopoliten, restaurerede, brugte, Fingerspidser, Drillerier, Spaltningen, iverksættes, medtaget, Voldsomhed, Livfuldhed, ynkeligt, Håbs-, udeltagende, forudskikke, Syges, Læreren, brydsomme, rustede, kurere, fastnaglet, sirlig, Linnedskabet, Amme, Gjentagelsens, indbrydende, Menneskebarn, Hvergang, kostet, ægteherrelige, Institutioner, Fortidsbilleder, vogtet, forbleven, menneskekjerlige, Indvending, Utålmodigheds-Udråb, dyrekjøbt, Fyldt, opholde, Ringhed, tilfredsstille, 145, udmærkes, Vandfladen, Bah, Dags, skræmmed, Randen, pessimistisk, opstegen, 229, tilfulde, forklarende, deles, raslede, imødegå, Embedsmand, Måltid, ingensomhelst, Ungkarlekreds, steilt, Trondhjemske, helder, Medynk, Umulighederne, feirer, overhørte, farveløs, hædrer, IV, skrifter, Overvindelse, Anglen, Eva, Omtale, afskediget, Krydstog, svaiende, Dufte, ilsomste, hensynsløse, Dagskjæret, stilles, skrøbeligt, rødmossede, skjær, halvhundrede, stemplet, Sandser, Gisning, Røsters, Uvis, smukkest, hædres, ustandselig, 308, samvittighedsfuldt, sattes, ligesålet, halvandet, Stoikers, Tøflen, stemte, Umagen, Hvorfra, Aftenens, Nemesis, Times, Æble, Livsopfatning, fort, Gifte, pukke, spagfærdig, Omstændelighed, gjenvinde, magiske, fuldelig, Magter, borttaget, fyldig, Fjøsdøren, Gys, afskyeligt, Sengs, Produktet, forarges, omtales, 92, Stængler, Uundgåelighedsundskyldningen, Sølvkniven, underbare, Huslighed, blond, rigelige, 197, private, titte, Uvante, tåget, Uimodståelige, Myndighed, Endog, Tendentsroman, Formaliteter, Datteren, syng, udslukke, flyvende, jevnlige, Hovedanklager, Fjeldpynt, undveg, Anklager, Vugge, Stok, Lokkefylde, apatisk, ledsage, Nats, opramse, Hø, angst, tilskrives, 96, Bjergsø, Djævelen, ubevægelige, Undskyldningstale, egensindige, antydet, Papirer, forlænge, røges, overtager, Overbærelse, Sygeværelset, Husråd, ifald, Udmerkelse, gjennemtrænges, huede, skjælver, Maskineriet, forenes, Kummers, Skabt, 265, ræsonnerer, handlet, opveie, Ønsket, Festliv, Fornedrelse, timedes, Ånds, merket, indviet, Datoen, beboes, spaseret, begrædes, Beredskab, Besværgelsesmidler, Relikve, sure, Torn, snakkede, uopholdelig, svang, Bestemteste, bortødslede, ubændig, bekjæmpes, forfærder, Forbundsmedlem, Livserfaring, slidt, Bedårelse, viln35, kraftigere, Lydløshed, Trylleformel, Hjørneglasskab, ominøse, forhånden, Omtrent, Vern, Grossererenke, fortænke, Brevdues, omtalt, Gothenborg, Forvekslingen, hylde, Opfører, passiaret, Søskendes, overveier, Begavelse, lindre, Velgjørenhed, rulles, Permission, Sommerens, indviklet, fastsatte, fremrykkende, erkjendte, møbleret, flyder, ubeboede, beåndes, sterkere, ut, angrede, Kombinationer, blidgjøre, Ledsagerinde, Indtægter, bedrog, feige, Ødets, Forjettelserne, angstbeklemt, Forberedelser, Faktum, besættes, nøkternt, Naturaliekabinet, Bygden, gledne, begræd, Hjemvendende, Yderverdenen, forebragte, Rekonvalescenter, fornaglet, slukkedes, adstadig, upåklagelig, 288, Værre, Syslen, betragtet, kristelige, Tvungent, ærbødigste, Liaen, Huller, frygtløs, ledig, Diskurser, korrekt, Henstirren, Moralens, trøstigere, Fantasi, Svogerens, Visdom, svanger, foretog, benegtede, bortræsonnere, 309, dadlet, uskadeligt, Stuerne, Maisolen, usedvanlig, Udspring, Morsomme, stadigt, idylliserer, Overtrækkene, Hinder, Vemodig, Bredder, attenårige, beåndet, Daphnis, Alderdom, Tåre, duelig, uundværligste, 114, Skrankerne, Livskrav, Selvprøvelsens, H., beklaget, troskyldig, Lampetterne, væbnede, hvorunder, utilfredsstillede, Millioner, Uhyre, vankede, lønlige, svælgede, bestyrket, koldblodigt, hændt, Bravour, barmhjertig, Berettigelse, Vertshus, Datterens, Gyllembourgs, Anmasselse, Moderation, Ømtfølende, Særling, nedværdiges, fremstående, anbefalede, Forsagthed, antinationale, Forretningsreiser, Hilset, fædrelandsk, Fruentimmernes, Overmorgen, Falskt, behøvern33, ymtedes, antikke, Vederlag, Feltråb, blondindfattede, Hanekam, Mælet, udtog, levere, ubeskyttede, rask, 55, Uudtømmelighed, Forretningsreise, Familiebord, slig, lystigt, Hjørneskab, omskabte, vælte, antyder, Tusmørketimen, Hensynsfuldhed, Sjeldenhederne, V, Middagen, våd, neiende, lysstribet, Fuglekvidder, Ankomst, Stoffet, visselig, 267, tarvelig, Forførerfag, flød, Banghed, Omegnen, romanagtige, regne, Langshawl, hentrylle, Usleste, Lekture, samvirkende, anende, bestående, allersletteste, Samfundets, Prydelses, Hul, overveie, sex, Stunder, skjøndt, Flitter, brunlige, VI, kolerisk, Sundhedens, lyseblå, Møllevinger, Skumpelskud, forbigå, uformodentlig, Morgenkjole, efterabede, bages, Kaméer, smalere, rende, tårepersende, flammende, forventes, derunderforstået, Frihedens, undsluppen, kvalte, Bakkenbarter, Skind, Hjertetrøst, 79, Forklædning, Oversættelse, udfolder, Noveller, Frisur, Forklædningen, 147, Kjendsgjerningernes, kjæle, bevirker, arrangere, Førstes, tilskovs, fremhæve, nogenledes, Digtningen, Upraktiskhed, nys, tvang, nedsteget, opfandt, 282, åbenbart, misbrugte, elendigt, likt, Moden, betænkeligt, pyntes, oprørte, fyrretyve, Kulturtilstande, Indtrædelse, høragtige, Galevogter, sagtner, Begjærlighed, Sypose, Stokprosaister, tiltalte, Livsmagter, byggede, Dagliglivets, lyst, skures, omgjerdede, drages, indrømmede, vindicere, Nærværende, 68, Nornen, Sympathier, Ubændig, importerede, Fortæller, Tinder, Husfader, Ældre, gjentager, yndet, Småbidrag, Partiet, manede, Sensationsroman, Mægling, støttende, pudse, Lytten, Frygten, befrygte, systematisk, Ængstelighed, Ude, beroliger, nedbøiet, bramme, Kvindehjertets, lænede, Underansigt, despotiske, Hvilende, fantasere, spinkel, anbringes, Løgn, Griller, Strudsfjær, bølgende, Nattetider, ægtekvindelige, unaturlige, Indskydelse, udpynte, Ærbødighed, fabelagtig, Gjæstgiverkone, strittede, presenterede, Anthipathier, Fugleprofil, fortrængte, Redebonhed, Tordenslag, Ukrænkelighed, afrette, Damehatte, Udflugt, Forfriskelsen, skildret, mundtlige, Rødder, nedskrev, desbedre, uimodståelige, Anstødeligt, Skaden, betager, dukkede, rasede, uddannet, påståes, Bemerkninger, undertrykt, fløitede, Intuition, Besværligheden, misfornøiet, Bispinden, dryssende, Kurven, Mer, Nysankomne, Husmandskonerne, vogt, Skrækkens, Hvortil, derifra, Vårluft, Vinterkulde, upleiet, Lægdsgut, spiser, Tryghed, liberal, påstå, Døtrenes, slynget, Gjest, våge, udtømte, bratte, 335, Værger, skagede, sist, upraktiske, tilbageholde, Udveksling, rødme, klatrede, hindrende, Fodfæste, Lektier, Rustning, veget, Optegnelse, Næverskrukke, udstoppede, Fuldmånen, Dyrene, Planter, ombytte, Forknyttelse, echaufferet, Tiltale, Uundværlighed, foreslog, indgyder, ophørt, bittesmå, uopfyldt, Mærkeligt, ankommen, Kavringer, Optegnelser, generes, Sæters, Pagt, Håbløsheden, Venskaber, Sukker, Angstens, betydningsfuldere, røvet, Pudel, Brink, beleiligste, leverede, tænde, Dur, Hulveien, Gehør, Kaffen, sørgelig, angribelige, Avner, sved, føleligere, Erfaringsrubriker, Hjemveen, Vinterens, betryggende, Morgentåge, forskanset, kysset, Klima, Staskjole, klamrende, Eftersyn, ukaldede, profetisk, Dolkestik, møisommelige, mønstre, Fakta, useet, udvekslet, Sammenkomst, Snepletter, Overgangstrin, bestået, rasende, uhyggelige, hjemmebagte, Ske, opfostret, plante, Vårfuglenes, klynkende, Præstegjeldet, grundet, Drømtes, Pantser, Uvilligt, mistror, Lystture, Fordel, øreskrigende, Saft, Prøvesten, udfordre, ynkeligste, 279, Heri, inderlige, klækkelig, tilegner, Bedrageriet, bønlig, udmattede, Smerteligt, Hvorhen, Vemodsstemt, opsøger, afkaste, Antipathi, Elvens, Fælden, Bækkenes, rimeligt, Oldemoderbillede, underjordiske, slugte, Pukler, Længselsve, vanzirede, tilslørede, Despoti, sløve, Forseelse, Lin, Indtrædende, Fortrolig, Skuret, 49, allehånde, Perspektiv, spises, Gulv, Tidspunkt, foruroliges, Ageren, puge, Yndlingsstudier, Akkurat, Hovedsagen, Mignonsfysiognomi, Tuer, spørges, Kvindesjelens, Velvære, kunstige, nødtes, Fast, 64, ovenfor, uopmærksom, Kristianiaophold, langvarige, Åsranden, charmante, omklædt, konvenerede, utilfredsstillende, Terske-, negativ, pas, Frygtsom, Ligestemt, overveiende, 266, ilsomst, Flokke, Udvendige, Rædselsskrig, 245, alvist, Sygeleie, raske, klippede, Smuktklingende, kviddrede, forvandle, efventende, Interessante, Erklæringer, hurtigst, Visioner, Kaninbur, Krønike, Pleielen, gjennemførte, Onkel, Matinéer, Valseindretninger, formelige, besvare, Kobbelet, Væverstuen, Tilskyndelsesmidler, bolde, Adfærd, sprænge, Umuligt, Rustet, Hundene, Posten, forgik, Festligheder, Lurede, længselsåndende, Angeren, Septemberaften, Bæst, Forsyns, Forbrydersken, bevisligt, kyse, Snelag, Tyfus, Skoleanstalten, Skrivelser, luede, opsperrede, fremskyndede, Foræring, Hjerne, Bombe, VIII, fremmedartede, Trængsel, Soiréer, Sammenligninger, Dompap, Grublerier, hengive, Undsigelser, Aftenselskaber, Led, Kornneg, overfalde, praktisere, Goutéer, kunstnerisk, afbryde, Hoffets, Kappestrid, utilslørede, Bjørnen, Dinéer, Glædesstråle, Styrelse, Melkeboden, Selskabeligheden, våget, hyppige, Forrretninger, nysgjerrig, vanmægtig, Ufølsomhed, Selvanklagen, forefandtes, Tagene, drypper, overvældet, 192, sjelfuldere, Fluen, tilført, anvendte, deltage, Omhyggelighed, selsom, 307, 238, Tæt, opfindsomme, Havesalen, orienteret, styrket, Gjærdet, sentimental, Prøven, poetiske, dumpe, Just, solgte, forbløffet, flot, Spurvene, udtænkt, raslende, Giftdråber, Gnomegestalt, Adgangen, sled, Helgen, tåler, dryppede, Logis, Hasselkjep, Hønsegård, Halv, Elementer, tilstedes, 104, Reunions, ulægeligt, Stum, Sneflokke, beleven, Forværelset, Bebreidelse, efterlade, Sofistik, hvorvel, Såret, nedsluge, Bur, sleben, Ustadighed, angre, Fornegtelsens, 86, Bonden, Dæmons, raskere, uheldvarslende, fortrække, Knibe, Rødmen, Bondeskytter, Hverdagsdvale, Nervefeber, Gjerrige, dynger, ugratiøst, Bunke, Kjert, Pulsslag, Seminaristen, iformiddags, febrilsk, alkjerligt, tøede, forunderligt, gladest, forholde, forknytte, Skrive, Afdøde, overtalt, Knortekjep, kjøligere, Gjesten, Uhildet, Eneudførelsen, Misfornøielse, Udførlighed, Harer, Klippen, Folderne, æsthetiske, forlader, Stenbænk, Storemo, Væggeskilderier, Blyfarven, Foregående, Belysningen, Amter, Øvriges, 291, Marmor, betydningsfuldt, Jagter, Bords, Spørgende, Gebærde, Tilhøreren, Hælene, Kirkeran, utrøstelige, Generationer, sædelig, Skyds, Klassiske, stiltiende, snilde, Oktoberdags, dyrekjøbte, gunstigt, anså, Trediveårene, Desuagtet, begive, billigt, Betydningen, regnfuld, larmende, indholdsrigt, Bondestue, tilendebragt, opsvulmet, Gjæsteværelse, snaksom, Mønsterægteskab, aldrende, misbrugt, Skybrud, afhænge, glansløse, Skydsskiftet, nærsynet, arrangerede, afskjære, feier, nødvendigvis, Busteagtigt, cotta-Gulhed, ærbødig, Station, ivrige, fremfundet, forpjusket, Fag, afsjelet, afstumpedes, Følsomhed, Sommertørken, Blødhed, citere, Skovdue, Gjesternes, fasttryllet, Ædle, Ruin, indrømmet, smudsigt, Gjesterne, Ungdomsenthusiasme, Frist, smigrede, Iagttagelser, vådt, Lykønskning, Bed, Udmærkelse, drønende, Uforsigtighed, Fortællingen, ført, uredt, Høslåtten, erfare, svøbt, Herbarium, hovedsagelig, tilgrunde, Udsættelse, ubeboet, sindig, proklameret, rømmede, Fremtoning, tillåset, brunlokkede, medtog, Beboerinde, Afkald, Hævd, Skud, beslutte, Spilleværelset, foregriber, hjerteligt, sligt, tilfods, overfaldes, nøktern, anstod, Indbildningskraft, Pebersvend, sømmelig, tænk, Stof, Nattero, Oppustede, splendideste, tiltvunget, syet, gjentagne, Fuglebur, Jægers, optagne, tildækket, Konservatisme, unaturligt, tilsagte, foregjøglede, Kriser, Naturfænomener, Daggry, forøgedes, Maade, 315, udtrykte, smelte, afbrødes, Hvilesteder, vexlede, terra, forråde, tigget, Veninderne, mat, Tristhed, 311, Syd, skuer, Jægerlyst, memoreret, mødtes, forreven, forfra, fortiet, ubetydeligste, Både, Puppen, Taburet, overgive, Forårsnat, Høstaften, bestilte, Skydshestene, Takkeblik, søsterligen8, dvæler, Bjergtrakter, skyldte, Oplivelse, Kudskesædet, Ideerne, Violin, indvendig, bares, Tøieri, Torp, Tråd, Nippet, lydelig, Småstenene, Gådefuldhed, brydsom, Skrøbelighed, Madamen, Romance, Fremmedbesøg, udstyrede, Gårdstunet, Stenene, Triumph, Illusoriske, befæstet, Kudsken, fuldendes, bevidste, Gighen, Spilopmager, undgåes, Tager, vexlet, svensk, svermer, Tilla, Sanserne, 142, skjelner, slappet, Skjønliteratur, 82, Indignation, dæmpedes, Omskiftning, trohjertet, Skarphed, Gruber, anholdt, viljeløse, Vaskeballien, ensomt, n7, 60, Ruden, korslagte, afklæde, Læben, vent, forspændt, modstået, Heden, ond, Ungdomssorger, opfordre, smagløst, Slog, travle, Dobbelttilstand, Portion, halvdrømte, undervise, Familieforhold, 331, Begjæring, Pjalt, ublandet, Drømmeliv, Afsondrethed, betænkte, Stuer, Veer, spadserede, Sjelespænding, Force, 119, Prikke, skumre, Husnisse, Nål, betvinge, Tredje, kjækt, Dæmon, Unåde, Tåget, stivnede, nedværdiger, Forelskelser, Stormogulen, umerkeligt, Skolestuen, Artium, triviel, Arbeidsværelse, Tålmodighedsprøve, udgår, Ubegrænsethed, hvælvet, Reminiscenser, Naturbeskaffenhed, Indflytning, knælende, sobre, Drengen, figurerede, Komfortable, Hvormeget, spring, Tilbøieligheder, 281, skabbet, anerkjendes, kjælede, forskræmte, håbefuld, meste, berettede, Datum, sagteste, Pauser, 304, Bevægelsen, oprunden, begrænses, klarere, Slummer, udfoldende, Sandbanker, sparkede, Enkeltheder, fald, støier, dumpt, Dukker, skelende, koncist, opofrende, Opstigningen, spidsborgerlige, 27, rinder, Lindealle, ufuldstændigt, interessanteste, Forstenelse, Skjævt, Kjerne, Klageråb, kulmineret, fængsleden28, uselskabelig, Overveielser, Krise, øieblikkeligt, gruede, forskjelligartede, Vennen, Familiebegivenhed, agtværdige, Høie, Skylag, Opfyldelse, Mol, Modstandskraft, fortetter, 224, Befolkning, skyndsomt, Ansøgning, Begyndelse, Lancers, Aviserne, beilede, bramløs, Pligtopfyldelse, knyttet, afpræger, hæderlige, Markveien, Papirdrage, afsætter, samtykker, riflede, Gjæring, farve, Eiendommelighed, Villig, underliggende, Dagenn30, Skrab, udrevet, Lycéconcert, Måneskive, indlevere, legende, samtidig, gjennemskjæres, svinder, Exsellencen, udstrakte, tilgivelige, Indsøen, skjæmmede, Stumhed, Due, indtræde, dans, smilte, indstille, Automater, Kotilloner, larmer, Stoffer, Regnskabsfører, ligblege, Vinterbesøg, Fjerdedele, greiede, forkjælet, bittre, skrumper, lukkedes, Brevform, gjennemisnet, flygter, svindende, Livsfilosofi, ransaget, Minerne, M., Tilbageblik, Selvbevidsthed, Naturskjønhed, strømmer, Husherren, ændse, banlyst, Helbredet, politiske, Voksne, Pindene, Lorgnetten, strikkede, Høflighedsfraser, Ørsteds, Lysekrone, gjestede, trøsteligere, tilkommende, Uskånsomhed, Dobbelt, Kjerulf, Maurits, velvillig, frastødt, vedtaget, luftig, Hovslag, anelsesfulde, faststillet, Småstene, overdrages, Skjørtet, Ensomme, rystende, Benyttende, Dernæst, overlægges, Modulationer, skræmmede, Træf, Blomsterbed, Forstyrret, Anpart, hentet, åndrig, Raslen, gjætte, gunstige, apportez, gjenkjendte, glimrede, Konvolut, Faldt, Initiativet, Barnesang, Selskabets, Grundlov, respektere, fostret, Tønde, Vanviddet, Behov, Gigh, Væmmelse, Vestlandet, Nøddehækken, Grundvolden, Miles, skjæmme, sturede, Gjører, driv, Problemer, hjemlandske, Klippegrund, Galanteri, Guder, Fantastens, Særdeleshed, Operationer, varsle, Hansen, forskandsede, Glemmer, Velkomstråb, forbered, Dåre, umilde, Zir, Traurighed, Gjenstanden, Samfundsreglement, velformet, Kvindeliges, klyngede, stegen, Imødekommen, Melodier, urokkelig, Uundgåelige, forflyttet, Fiendskaber, forstummet, Almu-, slipper, Jaja, lugte, beregneligt, Udfaldet, midaldrende, Talglys, udbad, Goethes, Hulens, Novellister, Håndarbeide, Silkedamaskes, modnet, Statslotteri, anelsesfuldt, Småstadsforholdene, forvandler, sydlig, Spilleaftener, videnskabelig, Beilere, Husgeråd, forudfattede, Patricierliv, nynner, Ilbud, Idealistens, garanterede, prægtigste, fuldstændiggjøre, Puds, sensible, tjenende, Forstyrrelsen, Høflighed, Hulspeilevnen, ligesåsnart, Ideerne.n4, opdrive, Heltindesagaer, overdrog, Hvirvelvind, altbelivende, Mørkhedens, Konstance, Ånders, forseglede, taknemlig, Galopper, Fiendskab, Sophies, Håndbog, Omfang, Kameler, Indbildning, stumpe, spærrede, personel, Trækning, forbigående, Forholdsregler, nutildags, Erkjendelse, merkværdig, Pose, bosatte, målt, Mindeblade, Svenske, nordisk, derhjemme, tildel, Syposen, Ligefremhed, verdensberømte, fjollet, afsindig, isinde, Hjemkomsten, Aftenlag, n6, Pleiemoder, III, Hænde, Milde, Selvbiografi, allerulideligste, Gleichens, spænde, Varmt, Landmilitær, Chasseur, Frygteligste, Hjertestyrkning, Håbløshedens, Østers, Bratli, Kalder, Snes, bebyrde, Selvfornegtelse, Reseda, Nærgående, Gjesteseng, fortørnede, Feiere, Rollen, lyser, Betydningsløsheden, Gulvteppe, understøttede, nedfaldne, Partigjængerne, bøde, forsinket, hengiven, Vittigheder, Fortællelyst, 286, uklare, Dromedarer, åndig, Velkomst-, Yndlingsplads, lugtede, Prindsessen, Dialekt, Nødder, Vedkommende, Tellsk, tumle, magede, Sladdersøster, ynkelige, Klammeri, kapriciøs, henreven, Skalk, Pålideligt, styrede, afvæbnet, bortføre, saligt, tilsist, ledige, hjemkommen, Jægerbruden, Renhed, determineret, ubesvaret, Ulig, Ifølge, Geranium, Modværge, Natdragt, bekymrer, Muffe, Potteblomster, kritiske, indvilger, Brochs, lumre, Rosenkrands, Utaknemmelighed, Dannelsen, Stas, Afskrifter, Marmorbillede, Huset.n5, Marksti, forekommen, Dybere, overtage, Præstekjole, tarveligt, ubevægeligt, Tænker, Hulvei, Kosak, hæsligt, Fodpose, cirkulerede, Fjeldstien, Fartøi, Dokument, Kræfterne, næstegang, Blåklokker, Autoritet, skrås, Næsen, Hop, falske, Skyts, Karaktertræk, Brudgommens, Rude, Udsagn, Løsøre, tragiske, sluttet, Pakt, buttede, villieløs, 289, Stilist, Fattigbestyrelsen, dårede, Forbrydelsen, afskyede, Selsommere, velkomneste, koldere, Grænserne, snedig, spæd, Rådgivere, psycheartet, Brylluppet, Menneskenes, valsede, Myrt, nynnede, Vidien, Brudeparret, Hjemture, nedtrådte, anseligere, trættes, Lilier, forårsligt, Døendes, Utyske, forvoven, logrende, Dødssymbolik, hovmodige, Refrainet, Indgang, Overskridelse, klargjøre, stuvet, modtagelig, krænkes, Vuggegave, Tjæreblomster, satiriske, Natteluften, Kari, Femti, Kokette, oprettede, opmærksomt, kappedes, Beskueren, Anstændige, synderligt, skyggefuldt, forskyldt, Ansvar, hulkede, antager, Brudetale, marmorrene, Kjeltring, slukke, Tilskuer, Anke, Gjensynsfølelsens, følende, krystalrent, Lerkrukkens, Jernnatur, Vasens, barsk, Skjødesløshed, låsede, blødeste, Dryppet, nagende, udøst, ubarmhjertigst, nåde, Tilberedelse, Præstekones, ynke, Had, samarbeid, Fløidøre, klaprende, Nysgjerrige, fortroligt, Klartseende, Selvtænkning, forskrækker, hyperboræisk, stoisk, frie, Slusevogtere, mådelige, halvtreds, målløs, besvimer, Nik, lønnede, ufeilbarlig, Vulkan, beringede, henrivende, Efterligninger, Æren, spore, ærgre, Armstagen, Kandidaten, henslængt, Husvalelse, Modenhed, Utvungenhed, dalet, lyksaliggjøre, skriftet, sedvanligt, tales, Forspring, dømte, skildrer, varig, Talemåde, længselsfuldt, optrukne, klappet, forseglet, Grønhedsperiode, Teglstenskolorit, Segnende, 275, 303, tiltænkte, Følgesvende, bruk, Nasjonalbiblioteket, Perpendikel, Nysgjerrighedskrisis, opløftede, Hændelse, Billeder, hulkende, Amazone, 298, Bryn, Blindeste, hjemlige, forkaste, Beskrivelse, Nedrighed, Eruptionen, Tilsidst, redder, grundforskjellig, Midnatstid, befæstede, Voksstabel, Tobakskasse, storagtig, Tomme, 336, Eiendomsbesiddere, strengere, Ulykker, Hulingen, afskrækkede, berøre, Åndepust, tørstig, Hjemve, Tohuwabohu, stadige, Sindsbevægelse, Galop, Stakitport, Syrintræ, Forseelsen, ventes, Lokalet, fordunkle, Livsbetragtning, Beredvillighed, Mandkjøn, eksalteret, 328, 333, Instinktets, Angstråb, ryger, Overvægt, Viljekraft, frastøder, forsikret, pålideligste, støiende, forvænt, gjeldende, Piller, opsnuset, Visergutten, ofre, klynge, sprunget, skrækkeligt, Hud, Vrøvlehoved, Lettelse, Colma, Begjær, skjerende, hylende, ængstet, uægte, Lillesand, Komedier, omgik, Formaninger, indfaldent, Bryd, unddrage, aftørrede, afslørede, ugenerteste, Kildevand, indledende, 269, Midt, sladre, tilkastede, Kolumbus, Henrykkelsesskrig, Oldtidens, sindige, brummede, Gletscherhøide, barfodet, Livsfilosofies, forunde, Sammenspil, forhen, Romanhelt, Isen, Ubevidsthed, Tildækket, gravitetisk, Sår, delikat, aflokkede, propos, Bekvemmeligheder, nedarvet, fransk, Forfremmelse, gedignere, Sandsynlighed, Magelhan, Replikker, Fuldmægtigen, lafontainesk, Dødsfald, Livsregler, Vesle-Ole, Hverdagskappen, Berørelsen, stjålent, selvstændigere, stridig, Tilstedeværelse, pebet, Rør, krybe, Scribe, forvandt, speidet, Mai, Ulykkes, galeste, Holdt, Tildragelsen, stundom, Foldekniv, Dompapen, Hvorlænge, Trætoppene, henover, Dynen, sindrige, forefandt, skjelmsk, Lovise, smigret, tatoverede, Drivhusfølelsen, forfærdes, Smås, mørkeræd, Ossian, firsindstyveårige, bevars, koparrede, Refleks, Spark, Nattetid, Huslæreren, løber, Plan, rimeligere, Pers, Titel, dækkede, Uhr, Skinliv, overseende, Underkastelsesvane, Virkekreds, spøge, tydelige, umodne, Undersøgelser, Bemærkning, Ængstede, Artikel, Øiesyn, Bjerg, Tang, Derimod, Luftens, Grøften, hjertelige, Adamssønner, Såre, Forfatteren, claurensk, bemærkelig, Lokkende, dvælet, Læsningen, Trophæer, Stormenes, Taffel, Skrivebordet, Mellemtid, optrådt, tiltrygle, melodiske, Karriere, Hyttelivet, Tæerne, åbenlyst, klirrede, Bygdereiser, jammerfulde, sturer, Regnen, målte, Selvfølelse, barskt, reproduseres, Georges, Piskeknald, Blide, pyntelig, Marterstolen, Friske, jauchzend, tapetsere, opfylder, uopsættelig, vegtigste, Skrivelse, møisommelig, hildet, velvilligste, Bevis, Høstveir, Februarmorgen, Hefte, galante, Poterne, taknemeligt, tankestreker, sympathiserede, Påtvinge, Bjergånder, Nationer, Stilken, Tabe, Anmeldelser, halvfærdigt, Il, Romantik, Forandringer, bestiltn39, belurer, borttagne, Forretning, zum, Elektriseret, Fløit, lumsk, Knæet, sporløst, avanceret, krøben, botaniske, Optræden, Bevægelsens, Kniber, afskyelig, Tandoperation, Distraction, Damernes, Smægtende, Veianlæg, Tågeslør, Uartighed, prikker, ortografi, Flugten, betrübt, Fossestupet, Sangere, afløst, Søndenvind, Levvel, tilvinket, slukne, Kineseren, Valpladsen, Drag, lånte, interpunksjon, Vestelommen, labbende, Princip, Uregelmessigheter, påskjønnede, observere, Piedestalen, Budet, undergået, 2013, Kariols, Fornuftighed, Statsrådsafdeling, Produktioner, Stilk, Bagateller, Amen, Doktoren, Bliver, Fattigvæsenet, Forhør, løbende, Ondet, husbagt, løierlige, Reisevogn, Molls, Dybets, Ærgjerrighed, Offentlighed, sjette, uforfalskede, opstille, Tonløshed, frodigt, modificeret, Nøddekrattet, Hurtig, indskibede, Anerkjendelse, Skjebner, indtrædende, Forbindelsen, grønt, Tode, afverges, Fremmedes, Prokuratoren, n20, sålidet, mindedes, gjentagen, optagen, piskede, Mærker, tilnikke, nykternt, Himmelhoch, barbarisk, hvorlangt, giftigt, overtale, Albuen, rummelige, tvivlrådig, Gjennemsnit, falskt, skraldende, Drift, gruer, roligste, prædikede, Uhrene, uleilige, parallellvisning, ubrugbare, Tørklædet, forskjellene, Juxta, nedlagt, opplyser, Temperaturovergange, Ordre, følelsesfulde, Nigeln34, Billet, Skafottet, N, Bølgeslag, Lærredet, Nøisomhed, Elisa, 338, ivår, misundt, ubekymret, Justitsaktioner, Eiendomsretten, Kurvene, Indstilling, Sjeleangst, piber, Ikkehjemme, nødig, håb, Sammenligningen, Couleur, Varmen, Ulyst, Skildringer, Shawlet, Skjermbret, kommentert, farligst, Ih, Fadder, kvalme, endringer, ubekvemt, udtryksfuldere, borende, form, Fattigskatten, lænker, Eksemplarer, Tilhørerne, Harmløse, tradisjonelt, Stemninger, lunt, umuliggjort, Felt, mellom, livsalige, m.m., Hjerteslag, gjengjeldte, 1854, nedenfra, Tilbudet, kalket, grundende, støttede, Vest, blankeste, verktøyet, Symptomerne, hjelp, enorm, Festmine, Granen, troløse, Guldstas, derpaa, Utgave, Husmandsdøtrene, Silke, Commons, Ørjasæters, forskjelligste, Skjorter, bivånet, 276, Zoners, Sandefjord, forærede, Klaver, adskilt, Betragt, Henrettelsesscener, knibe, gjennemfor, ublide, Sommerluft, Oldemors, Finmarken, Ørjasæter, Glasdørene, iverksætte, lakonisk, Tredieparter, verkets, skyllet, aflæssede, hilser, Kritiken, Doktorens, Observationer, udentvivl, noter, Udskriften, handlede, Nedstigningen, ondskabsfuld, angstfulde, utgavene, Krave, forsøde, Korridoren, Caspersen, underkue, modsagde, Lig, stedet, 301, fyldigere, forudsat, vidtløftig, øiner, Stymper, Værtinden, Sir, Nyhed, n37, bittersøde, Tømme, moderate, Vennerne, Strandede, Galoppadetrin, Spadsergang, skrevne, forfatterskap, Ridderpligt, tydelig, Forstemt, Lord, 321, tilblivelses-, førsteutgaven, Behøves, Aflukke, Collett, årlig, blir, Pyt, 278, skyldløs, Trøstegrund, oser, Bordvæg, forunderligste, undrer, ordforklaringer, kjørende, Mungo, innledning, manet, humoristiske, bønfaldende, komposisjon, Sognekald, bestige, Menneskeligt, Ryd, plaget, Styrt, Skynding, kommentarer, koket, utgivelseshistorie, Forfærdelige, variantapparat, uskadelige, intrigant, spinder\n",
      "\n"
     ]
    }
   ],
   "source": [
    "gnl.show_communities(Gs)"
   ]
  },
  {
   "cell_type": "code",
   "execution_count": null,
   "metadata": {},
   "outputs": [],
   "source": []
  }
 ],
 "metadata": {
  "kernelspec": {
   "display_name": "Python 3",
   "language": "python",
   "name": "python3"
  },
  "language_info": {
   "codemirror_mode": {
    "name": "ipython",
    "version": 3
   },
   "file_extension": ".py",
   "mimetype": "text/x-python",
   "name": "python",
   "nbconvert_exporter": "python",
   "pygments_lexer": "ipython3",
   "version": "3.7.3"
  }
 },
 "nbformat": 4,
 "nbformat_minor": 2
}
