{
 "cells": [
  {
   "cell_type": "markdown",
   "metadata": {},
   "source": [
    "\n",
    "Vedlegg tilgjengelige fram til 26. nov. 2019\n",
    " \n",
    "Hei!\n",
    "\n",
    "Nå er jeg ikke så veldig langt unna med å ha ferdig analysen av de forrige resultatene jeg fikk. Det er ganske gøy å holde på med det. Men jeg jobber på spreng for å holde tidsskjemaet mitt :)  \n",
    "\n",
    "\n",
    "Dette betyr at jeg snart gjerne vil få hentet ut et siste sett med resultater. Som vi snakket om sist, da ønsker jeg å gjøre bruk av flere automatisk genererte temaer. Jeg satser på å sende deg nye temaer innen torsdag. Det vil bli mindre omfattende enn sist. \n",
    "\n",
    "\n",
    "\n",
    "Men kunne du i mellomtiden hjelpe meg litt med “dyp-topic-modellering” og legge inn flere måter å generere temaer på i notebøkene av de kvinnelige forfatterne mine? \n",
    "\n",
    "\n",
    "Hertha- notebooken er genial i så måte. Her har du lagt inn mange forskjellige parametere for tema-generering.   \n",
    "Klikk for å laste ned\n",
    "TM_Hertha.ipynb\n",
    "385 kB\n",
    "\n",
    "\n",
    "Kunne du sett litt nærmere på de andre notebookene også? Er det flere nyttige fremgangsmåter for automatisk tema-generering du kan legge til? \n",
    "\n",
    "Klikk for å laste ned\n",
    "TM_Til Sverriges Qvinder .ipynb\n",
    "13 kB\n",
    " \n",
    "Klikk for å laste ned\n",
    "denconstitutionelle.txt\n",
    "14 kB\n",
    " \n",
    "Klikk for å laste ned\n",
    "Amtmandens døtre .ipynb\n",
    "1,4 MB\n",
    " \n",
    "Klikk for å laste ned\n",
    "Indiana.ipynb\n",
    "3,1 MB\n",
    " \n",
    "Klikk for å laste ned\n",
    "sand-indiana.txt\n",
    "570 kB\n",
    "\n",
    "\n",
    "I Amtmandens Døtre-notebooken har vi brukt denne teksten  \n",
    "Klikk for å laste ned\n",
    "ad3.txt\n",
    "667 kB\n",
    " men det ville vært veldig fint om vi heller kunne brukt 1855-utgaven: \n",
    "https://www.nb.no/items/fbf5c6432c86426817fe167282f603ad?page=519&searchText=Amtmandens%20døttre\n",
    "\n",
    "\n",
    "Til slutt skulle jeg veldig gjerne laget meg et dokument av de tre artiklene til Aasta Hansteen også. For jeg vil gjerne også få generert automatiske temaer fra hennes tekster. Er det mulig å ta ut Dagbladet-utgavene og legge den inn i et txt-dokument? Jeg kan i tilfelle gå inn i det etterpå og fjerne all annen tekst fra de respektive avisene (slik jeg har gjort for “Til Sverriges Qvinder”) . Her er de tre Dagblad-utgavene det gjelder: \n",
    "\n",
    "Klikk for å laste ned\n",
    "Hansteen 12 August 1870.pdf\n",
    "19,9 MB\n",
    " \n",
    "Klikk for å laste ned\n",
    "Hansteen 06 August 1870.pdf\n",
    "21,4 MB\n",
    " \n",
    "Klikk for å laste ned\n",
    "Hansteen 13 July 1870.pdf\n",
    "20,6 MB\n"
   ]
  },
  {
   "cell_type": "code",
   "execution_count": null,
   "metadata": {},
   "outputs": [],
   "source": [
    "import requests\n",
    "import os\n",
    "from IPython.display import HTML, Markdown, display\n",
    "from urllib.parse import urlparse, urljoin\n",
    "import ipywidgets as widgets\n",
    "\n",
    "def code_toggle(button_text = \"Klikk for å vise/skjule kodeceller\"):\n",
    "    from IPython.display import HTML, display\n",
    "\n",
    "    display(\n",
    "        HTML(\n",
    "        '''<div>\n",
    "                <style>\n",
    "                 .mybutton {\n",
    "                    background-color: lightgrey;\n",
    "                    border: none;\n",
    "                    color: white;\n",
    "                    padding: 10px 16px;\n",
    "                    text-align: center;\n",
    "                    text-decoration: none;\n",
    "                    display: inline-block;\n",
    "                    font-size: 16px;\n",
    "                    margin: 4px 2px;\n",
    "                    cursor: pointer;\n",
    "                }\n",
    "            </style>\n",
    "            <script>\n",
    "                code_show=true; \n",
    "                function code_toggle() {\n",
    "                 if (code_show){\n",
    "                 $('div.input').hide();\n",
    "                 } else {\n",
    "                 $('div.input').show();\n",
    "                 }\n",
    "                 code_show = !code_show\n",
    "                } \n",
    "                $( document ).ready(code_toggle);\n",
    "            </script>\n",
    "            <form  action=\"javascript:code_toggle()\">\n",
    "                <input class='mybutton' type=\"submit\" value=''' + '\"'  + button_text + '\"' + '''>\n",
    "            </form>\n",
    "        </div>'''\n",
    "        ))\n",
    "    \n",
    "def printmd(S):\n",
    "    display(Markdown(S))\n",
    "    return\n",
    "\n",
    "def update(module=\"\", overwrite=True, silent=False):\n",
    "    \"\"\"Fetch modules from Github and write them to folder\"\"\"\n",
    "    nba = requests.get(\n",
    "        \"https://raw.githubusercontent.com/Yoonsen/Modules/master/{module}.py\".format(module=module),\n",
    "        headers={'Cache-Control': 'no-cache'}\n",
    "        )\n",
    "    filename = '{m}.py'.format(m=module)\n",
    "    if nba.status_code == 200:\n",
    "        file_exists = os.path.exists(filename)\n",
    "        if file_exists and not(overwrite):\n",
    "            if not silent:\n",
    "                printmd(\"File {f} exists - call `update('{m}', overwrite = True)` in order to download module `{m}` anyway\".format(f = os.path.abspath(filename), m = module))\n",
    "        else:\n",
    "            nba = nba.text\n",
    "            with open(filename,'w', encoding='UTF-8') as pyfile:\n",
    "                pyfile.write(nba)\n",
    "                pyfile.flush()\n",
    "                pyfile.close()\n",
    "            if not silent:\n",
    "                printmd(\"Updated file `{module}.py`\".format(module= os.path.abspath(module)))\n",
    "    else:\n",
    "        printmd( \n",
    "            \"\"\"{intro} for {module} with error {code}\"\"\".format(\n",
    "                intro = \"An error occured during download\", \n",
    "                module = module, \n",
    "                code= nba.status_code\n",
    "            )\n",
    "        )\n",
    "    return\n",
    "\n"
   ]
  },
  {
   "cell_type": "code",
   "execution_count": 301,
   "metadata": {},
   "outputs": [],
   "source": [
    "import pandas as pd\n",
    "from dhlab.nbtokenizer import tokenize\n",
    "from IPython.display import HTML, Markdown, display\n",
    "from collections import Counter\n",
    "import networkx as nx\n",
    "import json"
   ]
  },
  {
   "cell_type": "code",
   "execution_count": 2,
   "metadata": {},
   "outputs": [
    {
     "data": {
      "text/plain": [
       "['hallo', 'der', 'borte', '.']"
      ]
     },
     "execution_count": 2,
     "metadata": {},
     "output_type": "execute_result"
    }
   ],
   "source": [
    "tokenize(\"hallo der borte.\")"
   ]
  },
  {
   "cell_type": "code",
   "execution_count": 103,
   "metadata": {},
   "outputs": [],
   "source": [
    "with open('ad3.txt', encoding='utf-8') as f:\n",
    "    amt = f.read()"
   ]
  },
  {
   "cell_type": "code",
   "execution_count": 140,
   "metadata": {},
   "outputs": [],
   "source": [
    "#temaene ble lagret med annen notebook - Heidis definisjoner_0_november\n",
    "with open('../Nye tema november 2019/heidis_temadefinisjoner_november.json') as f:\n",
    "    first = json.load(f)\n",
    "\n",
    "wordbags = dict()\n",
    "for f in first:\n",
    "    for wb in first[f]:\n",
    "        wordbags[wb] = first[f][wb]"
   ]
  },
  {
   "cell_type": "code",
   "execution_count": 125,
   "metadata": {},
   "outputs": [],
   "source": [
    "def paragraphs(textfile):\n",
    "    with open('ad3.txt', encoding='utf-8') as f:\n",
    "        text = f.read()\n",
    "    # return tokenizes paragraphs \n",
    "    return [tokenize(p) for p in text.split('\\n')]"
   ]
  },
  {
   "cell_type": "code",
   "execution_count": 126,
   "metadata": {},
   "outputs": [],
   "source": [
    "def paragraphs_hot(textfile, freqlim = 1):\n",
    "    # return tokenizes paragraphs \n",
    "    i = 0\n",
    "    struct = dict()\n",
    "    for p in paragraphs(textfile):\n",
    "        struct[i] = Counter(p)\n",
    "        i += 1\n",
    "    return pd.DataFrame(struct).fillna(0)\n",
    "        "
   ]
  },
  {
   "cell_type": "code",
   "execution_count": 127,
   "metadata": {},
   "outputs": [],
   "source": [
    "amth = paragraphs_hot('ad3.txt')"
   ]
  },
  {
   "cell_type": "code",
   "execution_count": 128,
   "metadata": {},
   "outputs": [],
   "source": [
    "freqs = amth.sum(axis=1).sort_values()"
   ]
  },
  {
   "cell_type": "code",
   "execution_count": 50,
   "metadata": {},
   "outputs": [],
   "source": [
    "def pcoll(word, paras):\n",
    "    \"\"\"paras as a numbered dictionary of paragraphs\"\"\"\n",
    "    hits = pd.DataFrame([paras[para] for para in paras if word in paras[para]])\n",
    "    return hits"
   ]
  },
  {
   "cell_type": "code",
   "execution_count": 161,
   "metadata": {},
   "outputs": [],
   "source": [
    "def coll(word, paras, exp=1.2):\n",
    "    if word in paras.index:\n",
    "        res = (amth[[i for i in amth if amth[i][word] > 0]].sum(axis=1)**exp/freqs).sort_values(ascending=False)\n",
    "    else:\n",
    "        res = pd.Series()\n",
    "    return res"
   ]
  },
  {
   "cell_type": "code",
   "execution_count": 284,
   "metadata": {},
   "outputs": [],
   "source": [
    "def collwb(wordbag, paras, exp=1.2, column=None):\n",
    "    res = pd.DataFrame()\n",
    "    for w in wordbag:\n",
    "        res[w] = coll(w, paras, exp)\n",
    "    result = pd.DataFrame()\n",
    "    if column == None:\n",
    "        colname = 'coll'\n",
    "    else:\n",
    "        colname = column\n",
    "    result[colname] = res.sum(axis=1)\n",
    "    return result.sort_values(by=colname, ascending=False)\n",
    "\n",
    "def combocoll(wordbag, paras, exps = None, freqs = None):\n",
    "    \n",
    "    if exps == None:\n",
    "        exps = [1.05, 1.2]\n",
    "    \n",
    "    rescoll = pd.concat([collwb(wordbag, amth, exp = a, column = a) for a in exps], axis=1, sort=True)\n",
    "    \n",
    "    # wise to compute the frequencies beforehand, it takes a second or so off the time\n",
    "    if freqs == None:\n",
    "        freqs = paras.sum(axis=1)\n",
    "    \n",
    "    rescoll['freq'] = freqs[rescoll.index]\n",
    "    \n",
    "    return rescoll"
   ]
  },
  {
   "cell_type": "code",
   "execution_count": 238,
   "metadata": {},
   "outputs": [],
   "source": [
    "def inspectcoll(collocation, freqlim = 0, colnum = None, colname = None):\n",
    "    if colname == None:\n",
    "        if colnum == None:\n",
    "            column = collocation.columns[0]\n",
    "        else:\n",
    "            column = collocation.columns[colnum]\n",
    "    else:\n",
    "        column = colname\n",
    "        \n",
    "    return collocation[collocation.freq > freqlim].sort_values(by=column, ascending=False)"
   ]
  },
  {
   "cell_type": "code",
   "execution_count": 310,
   "metadata": {},
   "outputs": [],
   "source": [
    "def displaycoll(collocation,n = 20, freqlim = 0):        \n",
    "    for column in collocation:\n",
    "        if column != 'freq':\n",
    "            display(Markdown('### ' + str(column)))\n",
    "            display(Markdown(', '.join(list(collocation[collocation.freq > freqlim].sort_values(by=column, ascending=False).index[:n]))))\n",
    "            display(Markdown('<br>'))"
   ]
  },
  {
   "cell_type": "code",
   "execution_count": 312,
   "metadata": {},
   "outputs": [
    {
     "data": {
      "text/plain": [
       "dict_keys(['Kvinde_', 'Sandhed_', 'Frihed_', 'Legeme_', 'Læserinde_', 'Litteratur_', 'Religion_', 'Kvindeforening_', 'Forfatterinde_', 'Myndighed_', 'Yrkesaktiv_', 'Sivil status_', 'Ligestilling_', 'Folkeoplysning_', 'Sundhed_', 'Befolkningsprosesser_'])"
      ]
     },
     "execution_count": 312,
     "metadata": {},
     "output_type": "execute_result"
    }
   ],
   "source": [
    "wordbags.keys()"
   ]
  },
  {
   "cell_type": "code",
   "execution_count": 314,
   "metadata": {},
   "outputs": [],
   "source": [
    "amtmand_tema = dict()\n",
    "for w in wordbags.keys():\n",
    "    amtmand_tema[w] = combocoll(wordbags[w], amth, exps = [1.05, 1.2, 1.5])\n"
   ]
  },
  {
   "cell_type": "code",
   "execution_count": 316,
   "metadata": {},
   "outputs": [
    {
     "data": {
      "text/markdown": [
       "## Kvinde_"
      ],
      "text/plain": [
       "<IPython.core.display.Markdown object>"
      ]
     },
     "metadata": {},
     "output_type": "display_data"
    },
    {
     "data": {
      "text/markdown": [
       "### 1.05"
      ],
      "text/plain": [
       "<IPython.core.display.Markdown object>"
      ]
     },
     "metadata": {},
     "output_type": "display_data"
    },
    {
     "data": {
      "text/markdown": [
       "Kvindelighedens, ydmygende, Vist, Kvindelighed, Kvinder, Kvindes, Kavallerer, Væsener, Ballet, Damer, brogede, Indkjørselen, Vækst, romantiske, Forsagelse, Damerne, Kvindens, kvindelig, Mor, Kvinde"
      ],
      "text/plain": [
       "<IPython.core.display.Markdown object>"
      ]
     },
     "metadata": {},
     "output_type": "display_data"
    },
    {
     "data": {
      "text/markdown": [
       "<br>"
      ],
      "text/plain": [
       "<IPython.core.display.Markdown object>"
      ]
     },
     "metadata": {},
     "output_type": "display_data"
    },
    {
     "data": {
      "text/markdown": [
       "### 1.2"
      ],
      "text/plain": [
       "<IPython.core.display.Markdown object>"
      ]
     },
     "metadata": {},
     "output_type": "display_data"
    },
    {
     "data": {
      "text/markdown": [
       "Mor, Damer, Moder, Damerne, Dame, Kvindelighedens, Kvindelighed, Kvinde, ydmygende, Vist, Hustru, Kvinder, Kvindens, kvindelig, Kone, kvindelige, Kvindes, Kavallerer, Væsener, Forsagelse"
      ],
      "text/plain": [
       "<IPython.core.display.Markdown object>"
      ]
     },
     "metadata": {},
     "output_type": "display_data"
    },
    {
     "data": {
      "text/markdown": [
       "<br>"
      ],
      "text/plain": [
       "<IPython.core.display.Markdown object>"
      ]
     },
     "metadata": {},
     "output_type": "display_data"
    },
    {
     "data": {
      "text/markdown": [
       "### 1.5"
      ],
      "text/plain": [
       "<IPython.core.display.Markdown object>"
      ]
     },
     "metadata": {},
     "output_type": "display_data"
    },
    {
     "data": {
      "text/markdown": [
       "Moder, Mor, Damer, Dame, ,, Damerne, Kvinde, Hustru, Kone, kvindelig, Kvindens, kvindelige, Kvindelighed, Kvinder, Kvindelighedens, Båden, og, Fruentimmer, ., at"
      ],
      "text/plain": [
       "<IPython.core.display.Markdown object>"
      ]
     },
     "metadata": {},
     "output_type": "display_data"
    },
    {
     "data": {
      "text/markdown": [
       "<br>"
      ],
      "text/plain": [
       "<IPython.core.display.Markdown object>"
      ]
     },
     "metadata": {},
     "output_type": "display_data"
    },
    {
     "data": {
      "text/markdown": [
       "## Sandhed_"
      ],
      "text/plain": [
       "<IPython.core.display.Markdown object>"
      ]
     },
     "metadata": {},
     "output_type": "display_data"
    },
    {
     "data": {
      "text/markdown": [
       "### 1.05"
      ],
      "text/plain": [
       "<IPython.core.display.Markdown object>"
      ]
     },
     "metadata": {},
     "output_type": "display_data"
    },
    {
     "data": {
      "text/markdown": [
       "Sandhed, Længsel, oplyste, Oplysning, Sandheden, Toppen, Alene, Virkninger, vaklede, udfoldet, la, Bal, Sti, tabte, føie, Våren, gjennemgå, Stine, Udholdenhed, Over"
      ],
      "text/plain": [
       "<IPython.core.display.Markdown object>"
      ]
     },
     "metadata": {},
     "output_type": "display_data"
    },
    {
     "data": {
      "text/markdown": [
       "<br>"
      ],
      "text/plain": [
       "<IPython.core.display.Markdown object>"
      ]
     },
     "metadata": {},
     "output_type": "display_data"
    },
    {
     "data": {
      "text/markdown": [
       "### 1.2"
      ],
      "text/plain": [
       "<IPython.core.display.Markdown object>"
      ]
     },
     "metadata": {},
     "output_type": "display_data"
    },
    {
     "data": {
      "text/markdown": [
       "Sandhed, Længsel, oplyste, Sandheden, Oplysning, Toppen, Alene, Bal, vaklede, la, udfoldet, Virkninger, føie, Våren, Stine, tabte, gjennemgå, Sti, Udholdenhed, mægtige"
      ],
      "text/plain": [
       "<IPython.core.display.Markdown object>"
      ]
     },
     "metadata": {},
     "output_type": "display_data"
    },
    {
     "data": {
      "text/markdown": [
       "<br>"
      ],
      "text/plain": [
       "<IPython.core.display.Markdown object>"
      ]
     },
     "metadata": {},
     "output_type": "display_data"
    },
    {
     "data": {
      "text/markdown": [
       "### 1.5"
      ],
      "text/plain": [
       "<IPython.core.display.Markdown object>"
      ]
     },
     "metadata": {},
     "output_type": "display_data"
    },
    {
     "data": {
      "text/markdown": [
       "Sandhed, Længsel, oplyste, Oplysning, Sandheden, Bal, Alene, Toppen, gjennemgå, Stine, Sti, føie, Våren, tabte, ventet, udfoldet, vaklede, la, Virkninger, kvindelige"
      ],
      "text/plain": [
       "<IPython.core.display.Markdown object>"
      ]
     },
     "metadata": {},
     "output_type": "display_data"
    },
    {
     "data": {
      "text/markdown": [
       "<br>"
      ],
      "text/plain": [
       "<IPython.core.display.Markdown object>"
      ]
     },
     "metadata": {},
     "output_type": "display_data"
    },
    {
     "data": {
      "text/markdown": [
       "## Frihed_"
      ],
      "text/plain": [
       "<IPython.core.display.Markdown object>"
      ]
     },
     "metadata": {},
     "output_type": "display_data"
    },
    {
     "data": {
      "text/markdown": [
       "### 1.05"
      ],
      "text/plain": [
       "<IPython.core.display.Markdown object>"
      ]
     },
     "metadata": {},
     "output_type": "display_data"
    },
    {
     "data": {
      "text/markdown": [
       "Villie, Indflydelse, Vilje, Frihed, lystige, Buret, Ånden, Umulige, Besvær, ler, Baggrund, Kort, Udholdenhed, Beslutning, Forsagelse, Hvile, stærkere, øvet, drive, fin"
      ],
      "text/plain": [
       "<IPython.core.display.Markdown object>"
      ]
     },
     "metadata": {},
     "output_type": "display_data"
    },
    {
     "data": {
      "text/markdown": [
       "<br>"
      ],
      "text/plain": [
       "<IPython.core.display.Markdown object>"
      ]
     },
     "metadata": {},
     "output_type": "display_data"
    },
    {
     "data": {
      "text/markdown": [
       "### 1.2"
      ],
      "text/plain": [
       "<IPython.core.display.Markdown object>"
      ]
     },
     "metadata": {},
     "output_type": "display_data"
    },
    {
     "data": {
      "text/markdown": [
       "Villie, Indflydelse, Vilje, Frihed, Ånden, Buret, lystige, ler, Baggrund, Umulige, Besvær, Beslutning, Udholdenhed, Kort, Forsagelse, Hvile, øvet, stærkere, fin, drive"
      ],
      "text/plain": [
       "<IPython.core.display.Markdown object>"
      ]
     },
     "metadata": {},
     "output_type": "display_data"
    },
    {
     "data": {
      "text/markdown": [
       "<br>"
      ],
      "text/plain": [
       "<IPython.core.display.Markdown object>"
      ]
     },
     "metadata": {},
     "output_type": "display_data"
    },
    {
     "data": {
      "text/markdown": [
       "### 1.5"
      ],
      "text/plain": [
       "<IPython.core.display.Markdown object>"
      ]
     },
     "metadata": {},
     "output_type": "display_data"
    },
    {
     "data": {
      "text/markdown": [
       "Villie, Indflydelse, Vilje, Frihed, lystige, Ånden, Buret, Beslutning, Besvær, ler, Baggrund, Umulige, Forsagelse, Hvile, stærkere, øvet, Udholdenhed, Kort, Smag, fatte"
      ],
      "text/plain": [
       "<IPython.core.display.Markdown object>"
      ]
     },
     "metadata": {},
     "output_type": "display_data"
    },
    {
     "data": {
      "text/markdown": [
       "<br>"
      ],
      "text/plain": [
       "<IPython.core.display.Markdown object>"
      ]
     },
     "metadata": {},
     "output_type": "display_data"
    },
    {
     "data": {
      "text/markdown": [
       "## Legeme_"
      ],
      "text/plain": [
       "<IPython.core.display.Markdown object>"
      ]
     },
     "metadata": {},
     "output_type": "display_data"
    },
    {
     "data": {
      "text/markdown": [
       "### 1.05"
      ],
      "text/plain": [
       "<IPython.core.display.Markdown object>"
      ]
     },
     "metadata": {},
     "output_type": "display_data"
    },
    {
     "data": {
      "text/markdown": [
       "Legeme, Følelse, Følelser, Kjøn, Følelsen, legemlig, Besvær, Hanne, inderligere, Instinkt, spørg, murede, jordiske, Naturer, beseire, såsandt, Umage, tilfældigvis, Barmhjertighed, Krav"
      ],
      "text/plain": [
       "<IPython.core.display.Markdown object>"
      ]
     },
     "metadata": {},
     "output_type": "display_data"
    },
    {
     "data": {
      "text/markdown": [
       "<br>"
      ],
      "text/plain": [
       "<IPython.core.display.Markdown object>"
      ]
     },
     "metadata": {},
     "output_type": "display_data"
    },
    {
     "data": {
      "text/markdown": [
       "### 1.2"
      ],
      "text/plain": [
       "<IPython.core.display.Markdown object>"
      ]
     },
     "metadata": {},
     "output_type": "display_data"
    },
    {
     "data": {
      "text/markdown": [
       "Følelse, Følelser, Legeme, Kjøn, Følelsen, legemlig, Besvær, Hanne, murede, spørg, inderligere, Instinkt, jordiske, Naturer, beseire, såsandt, uendelig, Øieblikke, bemærket, Barmhjertighed"
      ],
      "text/plain": [
       "<IPython.core.display.Markdown object>"
      ]
     },
     "metadata": {},
     "output_type": "display_data"
    },
    {
     "data": {
      "text/markdown": [
       "<br>"
      ],
      "text/plain": [
       "<IPython.core.display.Markdown object>"
      ]
     },
     "metadata": {},
     "output_type": "display_data"
    },
    {
     "data": {
      "text/markdown": [
       "### 1.5"
      ],
      "text/plain": [
       "<IPython.core.display.Markdown object>"
      ]
     },
     "metadata": {},
     "output_type": "display_data"
    },
    {
     "data": {
      "text/markdown": [
       "Følelse, Følelser, ,, Legeme, Kjøn, legemlig, Følelsen, ., at, Besvær, Hvorfor, uendelig, Hanne, den, en, og, bemærket, Øieblikke, beseire, såsandt"
      ],
      "text/plain": [
       "<IPython.core.display.Markdown object>"
      ]
     },
     "metadata": {},
     "output_type": "display_data"
    },
    {
     "data": {
      "text/markdown": [
       "<br>"
      ],
      "text/plain": [
       "<IPython.core.display.Markdown object>"
      ]
     },
     "metadata": {},
     "output_type": "display_data"
    },
    {
     "data": {
      "text/markdown": [
       "## Læserinde_"
      ],
      "text/plain": [
       "<IPython.core.display.Markdown object>"
      ]
     },
     "metadata": {},
     "output_type": "display_data"
    },
    {
     "data": {
      "text/markdown": [
       "### 1.05"
      ],
      "text/plain": [
       "<IPython.core.display.Markdown object>"
      ]
     },
     "metadata": {},
     "output_type": "display_data"
    },
    {
     "data": {
      "text/markdown": [
       "tyve, ærlige, dyrebareste, Eks, trække, Sort, slippe, Fanden, dyrebare, f, nytter, bryder, slå, største, Kjere, Altsammen, derfra, skikket, kaste, ende"
      ],
      "text/plain": [
       "<IPython.core.display.Markdown object>"
      ]
     },
     "metadata": {},
     "output_type": "display_data"
    },
    {
     "data": {
      "text/markdown": [
       "<br>"
      ],
      "text/plain": [
       "<IPython.core.display.Markdown object>"
      ]
     },
     "metadata": {},
     "output_type": "display_data"
    },
    {
     "data": {
      "text/markdown": [
       "### 1.2"
      ],
      "text/plain": [
       "<IPython.core.display.Markdown object>"
      ]
     },
     "metadata": {},
     "output_type": "display_data"
    },
    {
     "data": {
      "text/markdown": [
       "tyve, ærlige, Sort, slippe, Eks, dyrebareste, trække, Fanden, f, nytter, bryder, dyrebare, største, slå, derfra, Kjere, Altsammen, hvorfra, ende, kaste"
      ],
      "text/plain": [
       "<IPython.core.display.Markdown object>"
      ]
     },
     "metadata": {},
     "output_type": "display_data"
    },
    {
     "data": {
      "text/markdown": [
       "<br>"
      ],
      "text/plain": [
       "<IPython.core.display.Markdown object>"
      ]
     },
     "metadata": {},
     "output_type": "display_data"
    },
    {
     "data": {
      "text/markdown": [
       "### 1.5"
      ],
      "text/plain": [
       "<IPython.core.display.Markdown object>"
      ]
     },
     "metadata": {},
     "output_type": "display_data"
    },
    {
     "data": {
      "text/markdown": [
       "tyve, ærlige, dyrebareste, slippe, Eks, trække, Fanden, Sort, dyrebare, nytter, f, bryder, slå, største, lad, Kjere, derfra, Altsammen, ende, hvorfra"
      ],
      "text/plain": [
       "<IPython.core.display.Markdown object>"
      ]
     },
     "metadata": {},
     "output_type": "display_data"
    },
    {
     "data": {
      "text/markdown": [
       "<br>"
      ],
      "text/plain": [
       "<IPython.core.display.Markdown object>"
      ]
     },
     "metadata": {},
     "output_type": "display_data"
    },
    {
     "data": {
      "text/markdown": [
       "## Litteratur_"
      ],
      "text/plain": [
       "<IPython.core.display.Markdown object>"
      ]
     },
     "metadata": {},
     "output_type": "display_data"
    },
    {
     "data": {
      "text/markdown": [
       "### 1.05"
      ],
      "text/plain": [
       "<IPython.core.display.Markdown object>"
      ]
     },
     "metadata": {},
     "output_type": "display_data"
    },
    {
     "data": {
      "text/markdown": [
       "Fortælling, Romaner, Roman, Underholdning, Forståelse, fornøiede, uforsøgt, særlig, velgjørende, Skildring, Forventninger, fornemmelig, fjernt, mægtige, selskabelige, Porten, Hjelp, afløste, Vilkår, behagelig"
      ],
      "text/plain": [
       "<IPython.core.display.Markdown object>"
      ]
     },
     "metadata": {},
     "output_type": "display_data"
    },
    {
     "data": {
      "text/markdown": [
       "<br>"
      ],
      "text/plain": [
       "<IPython.core.display.Markdown object>"
      ]
     },
     "metadata": {},
     "output_type": "display_data"
    },
    {
     "data": {
      "text/markdown": [
       "### 1.2"
      ],
      "text/plain": [
       "<IPython.core.display.Markdown object>"
      ]
     },
     "metadata": {},
     "output_type": "display_data"
    },
    {
     "data": {
      "text/markdown": [
       "Fortælling, Romaner, Roman, Underholdning, fornøiede, Forståelse, uforsøgt, velgjørende, særlig, Skildring, Forventninger, fornemmelig, fjernt, mægtige, Porten, selskabelige, Hjelp, behagelig, Overgang, tildels"
      ],
      "text/plain": [
       "<IPython.core.display.Markdown object>"
      ]
     },
     "metadata": {},
     "output_type": "display_data"
    },
    {
     "data": {
      "text/markdown": [
       "<br>"
      ],
      "text/plain": [
       "<IPython.core.display.Markdown object>"
      ]
     },
     "metadata": {},
     "output_type": "display_data"
    },
    {
     "data": {
      "text/markdown": [
       "### 1.5"
      ],
      "text/plain": [
       "<IPython.core.display.Markdown object>"
      ]
     },
     "metadata": {},
     "output_type": "display_data"
    },
    {
     "data": {
      "text/markdown": [
       "Romaner, Fortælling, Roman, fornøiede, Forståelse, Underholdning, uforsøgt, Skildring, Forventninger, særlig, velgjørende, fornemmelig, Porten, selskabelige, fjernt, mægtige, stige, tildels, Overgang, Hjelp"
      ],
      "text/plain": [
       "<IPython.core.display.Markdown object>"
      ]
     },
     "metadata": {},
     "output_type": "display_data"
    },
    {
     "data": {
      "text/markdown": [
       "<br>"
      ],
      "text/plain": [
       "<IPython.core.display.Markdown object>"
      ]
     },
     "metadata": {},
     "output_type": "display_data"
    },
    {
     "data": {
      "text/markdown": [
       "## Religion_"
      ],
      "text/plain": [
       "<IPython.core.display.Markdown object>"
      ]
     },
     "metadata": {},
     "output_type": "display_data"
    },
    {
     "data": {
      "text/markdown": [
       "### 1.05"
      ],
      "text/plain": [
       "<IPython.core.display.Markdown object>"
      ]
     },
     "metadata": {},
     "output_type": "display_data"
    },
    {
     "data": {
      "text/markdown": [
       "Fruentimmers, Tilfredsstillelse, forestille, Prydelse, Småpiger, trætte, vidt, fordrage, hjertelig, Straf, Slutning, søde, mangengang, hverandre, Nød, glade, levet, Pligter, rev, Derfor"
      ],
      "text/plain": [
       "<IPython.core.display.Markdown object>"
      ]
     },
     "metadata": {},
     "output_type": "display_data"
    },
    {
     "data": {
      "text/markdown": [
       "<br>"
      ],
      "text/plain": [
       "<IPython.core.display.Markdown object>"
      ]
     },
     "metadata": {},
     "output_type": "display_data"
    },
    {
     "data": {
      "text/markdown": [
       "### 1.2"
      ],
      "text/plain": [
       "<IPython.core.display.Markdown object>"
      ]
     },
     "metadata": {},
     "output_type": "display_data"
    },
    {
     "data": {
      "text/markdown": [
       "Fruentimmers, Tilfredsstillelse, forestille, Prydelse, Småpiger, trætte, vidt, fordrage, hjertelig, Straf, Slutning, søde, mangengang, hverandre, Nød, glade, levet, Pligter, rev, Derfor"
      ],
      "text/plain": [
       "<IPython.core.display.Markdown object>"
      ]
     },
     "metadata": {},
     "output_type": "display_data"
    },
    {
     "data": {
      "text/markdown": [
       "<br>"
      ],
      "text/plain": [
       "<IPython.core.display.Markdown object>"
      ]
     },
     "metadata": {},
     "output_type": "display_data"
    },
    {
     "data": {
      "text/markdown": [
       "### 1.5"
      ],
      "text/plain": [
       "<IPython.core.display.Markdown object>"
      ]
     },
     "metadata": {},
     "output_type": "display_data"
    },
    {
     "data": {
      "text/markdown": [
       "Fruentimmers, Tilfredsstillelse, forestille, trætte, Småpiger, fordrage, vidt, Prydelse, Slutning, hjertelig, Straf, hverandre, mangengang, søde, Nød, glade, levet, Pligter, vi, bort"
      ],
      "text/plain": [
       "<IPython.core.display.Markdown object>"
      ]
     },
     "metadata": {},
     "output_type": "display_data"
    },
    {
     "data": {
      "text/markdown": [
       "<br>"
      ],
      "text/plain": [
       "<IPython.core.display.Markdown object>"
      ]
     },
     "metadata": {},
     "output_type": "display_data"
    },
    {
     "data": {
      "text/markdown": [
       "## Kvindeforening_"
      ],
      "text/plain": [
       "<IPython.core.display.Markdown object>"
      ]
     },
     "metadata": {},
     "output_type": "display_data"
    },
    {
     "data": {
      "text/markdown": [
       "### 1.05"
      ],
      "text/plain": [
       "<IPython.core.display.Markdown object>"
      ]
     },
     "metadata": {},
     "output_type": "display_data"
    },
    {
     "data": {
      "text/markdown": [],
      "text/plain": [
       "<IPython.core.display.Markdown object>"
      ]
     },
     "metadata": {},
     "output_type": "display_data"
    },
    {
     "data": {
      "text/markdown": [
       "<br>"
      ],
      "text/plain": [
       "<IPython.core.display.Markdown object>"
      ]
     },
     "metadata": {},
     "output_type": "display_data"
    },
    {
     "data": {
      "text/markdown": [
       "### 1.2"
      ],
      "text/plain": [
       "<IPython.core.display.Markdown object>"
      ]
     },
     "metadata": {},
     "output_type": "display_data"
    },
    {
     "data": {
      "text/markdown": [],
      "text/plain": [
       "<IPython.core.display.Markdown object>"
      ]
     },
     "metadata": {},
     "output_type": "display_data"
    },
    {
     "data": {
      "text/markdown": [
       "<br>"
      ],
      "text/plain": [
       "<IPython.core.display.Markdown object>"
      ]
     },
     "metadata": {},
     "output_type": "display_data"
    },
    {
     "data": {
      "text/markdown": [
       "### 1.5"
      ],
      "text/plain": [
       "<IPython.core.display.Markdown object>"
      ]
     },
     "metadata": {},
     "output_type": "display_data"
    },
    {
     "data": {
      "text/markdown": [],
      "text/plain": [
       "<IPython.core.display.Markdown object>"
      ]
     },
     "metadata": {},
     "output_type": "display_data"
    },
    {
     "data": {
      "text/markdown": [
       "<br>"
      ],
      "text/plain": [
       "<IPython.core.display.Markdown object>"
      ]
     },
     "metadata": {},
     "output_type": "display_data"
    },
    {
     "data": {
      "text/markdown": [
       "## Forfatterinde_"
      ],
      "text/plain": [
       "<IPython.core.display.Markdown object>"
      ]
     },
     "metadata": {},
     "output_type": "display_data"
    },
    {
     "data": {
      "text/markdown": [
       "### 1.05"
      ],
      "text/plain": [
       "<IPython.core.display.Markdown object>"
      ]
     },
     "metadata": {},
     "output_type": "display_data"
    },
    {
     "data": {
      "text/markdown": [
       "Fordomme, utallige, Frihed, Tråde, la, falsk, Dom, fattige, geniale, åndelig, offentlig, borgerlige, forskruede, sandere, Sand, latterlige, Hensyn, Tunge, Udholdenhed, virker"
      ],
      "text/plain": [
       "<IPython.core.display.Markdown object>"
      ]
     },
     "metadata": {},
     "output_type": "display_data"
    },
    {
     "data": {
      "text/markdown": [
       "<br>"
      ],
      "text/plain": [
       "<IPython.core.display.Markdown object>"
      ]
     },
     "metadata": {},
     "output_type": "display_data"
    },
    {
     "data": {
      "text/markdown": [
       "### 1.2"
      ],
      "text/plain": [
       "<IPython.core.display.Markdown object>"
      ]
     },
     "metadata": {},
     "output_type": "display_data"
    },
    {
     "data": {
      "text/markdown": [
       "Fordomme, Tråde, Dom, falsk, utallige, Frihed, la, offentlig, fattige, åndelig, sandere, geniale, borgerlige, forskruede, latterlige, Sand, Hensyn, Udholdenhed, virker, Tunge"
      ],
      "text/plain": [
       "<IPython.core.display.Markdown object>"
      ]
     },
     "metadata": {},
     "output_type": "display_data"
    },
    {
     "data": {
      "text/markdown": [
       "<br>"
      ],
      "text/plain": [
       "<IPython.core.display.Markdown object>"
      ]
     },
     "metadata": {},
     "output_type": "display_data"
    },
    {
     "data": {
      "text/markdown": [
       "### 1.5"
      ],
      "text/plain": [
       "<IPython.core.display.Markdown object>"
      ]
     },
     "metadata": {},
     "output_type": "display_data"
    },
    {
     "data": {
      "text/markdown": [
       "Frihed, Tråde, Dom, falsk, utallige, la, Fordomme, fattige, borgerlige, sandere, åndelig, geniale, forskruede, offentlig, latterlige, Sand, Tunge, virker, Udholdenhed, Hensyn"
      ],
      "text/plain": [
       "<IPython.core.display.Markdown object>"
      ]
     },
     "metadata": {},
     "output_type": "display_data"
    },
    {
     "data": {
      "text/markdown": [
       "<br>"
      ],
      "text/plain": [
       "<IPython.core.display.Markdown object>"
      ]
     },
     "metadata": {},
     "output_type": "display_data"
    },
    {
     "data": {
      "text/markdown": [
       "## Myndighed_"
      ],
      "text/plain": [
       "<IPython.core.display.Markdown object>"
      ]
     },
     "metadata": {},
     "output_type": "display_data"
    },
    {
     "data": {
      "text/markdown": [
       "### 1.05"
      ],
      "text/plain": [
       "<IPython.core.display.Markdown object>"
      ]
     },
     "metadata": {},
     "output_type": "display_data"
    },
    {
     "data": {
      "text/markdown": [
       "slutter, Redskab, farligt, Ængstelser, Forsikringer, Uger, slumrende, nærer, nødt, knuse, muntert, svagt, forelsket, led, gift, betragte, Nærheden, forlovet, Müllers, Offer"
      ],
      "text/plain": [
       "<IPython.core.display.Markdown object>"
      ]
     },
     "metadata": {},
     "output_type": "display_data"
    },
    {
     "data": {
      "text/markdown": [
       "<br>"
      ],
      "text/plain": [
       "<IPython.core.display.Markdown object>"
      ]
     },
     "metadata": {},
     "output_type": "display_data"
    },
    {
     "data": {
      "text/markdown": [
       "### 1.2"
      ],
      "text/plain": [
       "<IPython.core.display.Markdown object>"
      ]
     },
     "metadata": {},
     "output_type": "display_data"
    },
    {
     "data": {
      "text/markdown": [
       "slutter, Redskab, farligt, Ængstelser, Forsikringer, Uger, slumrende, nærer, nødt, knuse, muntert, svagt, forelsket, led, gift, betragte, Nærheden, forlovet, Müllers, Offer"
      ],
      "text/plain": [
       "<IPython.core.display.Markdown object>"
      ]
     },
     "metadata": {},
     "output_type": "display_data"
    },
    {
     "data": {
      "text/markdown": [
       "<br>"
      ],
      "text/plain": [
       "<IPython.core.display.Markdown object>"
      ]
     },
     "metadata": {},
     "output_type": "display_data"
    },
    {
     "data": {
      "text/markdown": [
       "### 1.5"
      ],
      "text/plain": [
       "<IPython.core.display.Markdown object>"
      ]
     },
     "metadata": {},
     "output_type": "display_data"
    },
    {
     "data": {
      "text/markdown": [
       "slutter, Redskab, farligt, Ængstelser, Forsikringer, Uger, slumrende, nærer, nødt, knuse, muntert, svagt, forelsket, led, gift, betragte, Nærheden, forlovet, Müllers, Offer"
      ],
      "text/plain": [
       "<IPython.core.display.Markdown object>"
      ]
     },
     "metadata": {},
     "output_type": "display_data"
    },
    {
     "data": {
      "text/markdown": [
       "<br>"
      ],
      "text/plain": [
       "<IPython.core.display.Markdown object>"
      ]
     },
     "metadata": {},
     "output_type": "display_data"
    },
    {
     "data": {
      "text/markdown": [
       "## Yrkesaktiv_"
      ],
      "text/plain": [
       "<IPython.core.display.Markdown object>"
      ]
     },
     "metadata": {},
     "output_type": "display_data"
    },
    {
     "data": {
      "text/markdown": [
       "### 1.05"
      ],
      "text/plain": [
       "<IPython.core.display.Markdown object>"
      ]
     },
     "metadata": {},
     "output_type": "display_data"
    },
    {
     "data": {
      "text/markdown": [
       "Tjenestepige, skelede, Kår, taug, Hemmeligheden, Vildfarelse, bedækkede, belyst, brogede, stryge, Kappe, skyldig, forefaldt, Atlask, gratiøse, harmonisk, Flid, nyttige, Formiddag, Formiddagen"
      ],
      "text/plain": [
       "<IPython.core.display.Markdown object>"
      ]
     },
     "metadata": {},
     "output_type": "display_data"
    },
    {
     "data": {
      "text/markdown": [
       "<br>"
      ],
      "text/plain": [
       "<IPython.core.display.Markdown object>"
      ]
     },
     "metadata": {},
     "output_type": "display_data"
    },
    {
     "data": {
      "text/markdown": [
       "### 1.2"
      ],
      "text/plain": [
       "<IPython.core.display.Markdown object>"
      ]
     },
     "metadata": {},
     "output_type": "display_data"
    },
    {
     "data": {
      "text/markdown": [
       "skelede, Tjenestepige, Kår, taug, Formiddagen, stumt, uheldig, bedækkede, belyst, brogede, Hemmeligheden, nyttige, Atlask, Formiddag, stryge, gratiøse, harmonisk, skyldig, Flid, indtrådt"
      ],
      "text/plain": [
       "<IPython.core.display.Markdown object>"
      ]
     },
     "metadata": {},
     "output_type": "display_data"
    },
    {
     "data": {
      "text/markdown": [
       "<br>"
      ],
      "text/plain": [
       "<IPython.core.display.Markdown object>"
      ]
     },
     "metadata": {},
     "output_type": "display_data"
    },
    {
     "data": {
      "text/markdown": [
       "### 1.5"
      ],
      "text/plain": [
       "<IPython.core.display.Markdown object>"
      ]
     },
     "metadata": {},
     "output_type": "display_data"
    },
    {
     "data": {
      "text/markdown": [
       "Tjenestepige, skelede, Kår, taug, Bolette, Udvortes, gratiøse, Formiddag, Formiddagen, uheldig, skyldig, nyttige, forefaldt, Simpelhed, Kappe, harmonisk, Hemmeligheden, Provstindens, stumt, stryge"
      ],
      "text/plain": [
       "<IPython.core.display.Markdown object>"
      ]
     },
     "metadata": {},
     "output_type": "display_data"
    },
    {
     "data": {
      "text/markdown": [
       "<br>"
      ],
      "text/plain": [
       "<IPython.core.display.Markdown object>"
      ]
     },
     "metadata": {},
     "output_type": "display_data"
    },
    {
     "data": {
      "text/markdown": [
       "## Sivil status_"
      ],
      "text/plain": [
       "<IPython.core.display.Markdown object>"
      ]
     },
     "metadata": {},
     "output_type": "display_data"
    },
    {
     "data": {
      "text/markdown": [
       "### 1.05"
      ],
      "text/plain": [
       "<IPython.core.display.Markdown object>"
      ]
     },
     "metadata": {},
     "output_type": "display_data"
    },
    {
     "data": {
      "text/markdown": [
       "gift, Hustru, Hustruer, Gift, forelsket, Ugen, skikkelig, vandret, pyntede, Ængstelser, farligt, Kusine, Uger, agter, giftet, slutter, Forsikringer, undvære, Jomfruer, Redskab"
      ],
      "text/plain": [
       "<IPython.core.display.Markdown object>"
      ]
     },
     "metadata": {},
     "output_type": "display_data"
    },
    {
     "data": {
      "text/markdown": [
       "<br>"
      ],
      "text/plain": [
       "<IPython.core.display.Markdown object>"
      ]
     },
     "metadata": {},
     "output_type": "display_data"
    },
    {
     "data": {
      "text/markdown": [
       "### 1.2"
      ],
      "text/plain": [
       "<IPython.core.display.Markdown object>"
      ]
     },
     "metadata": {},
     "output_type": "display_data"
    },
    {
     "data": {
      "text/markdown": [
       "Hustru, gift, Hustruer, Gift, forelsket, Ugen, vandret, skikkelig, Uger, Jomfruer, Ængstelser, desuagtet, Kusine, undvære, Forsikringer, pyntede, slutter, agter, giftet, Redskab"
      ],
      "text/plain": [
       "<IPython.core.display.Markdown object>"
      ]
     },
     "metadata": {},
     "output_type": "display_data"
    },
    {
     "data": {
      "text/markdown": [
       "<br>"
      ],
      "text/plain": [
       "<IPython.core.display.Markdown object>"
      ]
     },
     "metadata": {},
     "output_type": "display_data"
    },
    {
     "data": {
      "text/markdown": [
       "### 1.5"
      ],
      "text/plain": [
       "<IPython.core.display.Markdown object>"
      ]
     },
     "metadata": {},
     "output_type": "display_data"
    },
    {
     "data": {
      "text/markdown": [
       "Hustru, gift, Gift, Hustruer, forelsket, Ugen, vandret, skikkelig, Lidelse, naturligt, passe, hellige, behagelige, modstå, tilgive, Sorger, Rygte, Gardinet, slutter, agter"
      ],
      "text/plain": [
       "<IPython.core.display.Markdown object>"
      ]
     },
     "metadata": {},
     "output_type": "display_data"
    },
    {
     "data": {
      "text/markdown": [
       "<br>"
      ],
      "text/plain": [
       "<IPython.core.display.Markdown object>"
      ]
     },
     "metadata": {},
     "output_type": "display_data"
    },
    {
     "data": {
      "text/markdown": [
       "## Ligestilling_"
      ],
      "text/plain": [
       "<IPython.core.display.Markdown object>"
      ]
     },
     "metadata": {},
     "output_type": "display_data"
    },
    {
     "data": {
      "text/markdown": [
       "### 1.05"
      ],
      "text/plain": [
       "<IPython.core.display.Markdown object>"
      ]
     },
     "metadata": {},
     "output_type": "display_data"
    },
    {
     "data": {
      "text/markdown": [
       "Digter, artede, forsonende, nationale, Forfatternote, Helt, Måder, Grav, uimodståelig, Betragtninger, Sidste, mer, nået, Død, Hvorledes, Trang, Tiden, Punkt, flere, Nat"
      ],
      "text/plain": [
       "<IPython.core.display.Markdown object>"
      ]
     },
     "metadata": {},
     "output_type": "display_data"
    },
    {
     "data": {
      "text/markdown": [
       "<br>"
      ],
      "text/plain": [
       "<IPython.core.display.Markdown object>"
      ]
     },
     "metadata": {},
     "output_type": "display_data"
    },
    {
     "data": {
      "text/markdown": [
       "### 1.2"
      ],
      "text/plain": [
       "<IPython.core.display.Markdown object>"
      ]
     },
     "metadata": {},
     "output_type": "display_data"
    },
    {
     "data": {
      "text/markdown": [
       "Digter, artede, forsonende, nationale, Forfatternote, Helt, Måder, Grav, uimodståelig, Betragtninger, mer, Sidste, nået, Død, Hvorledes, Trang, Tiden, Punkt, flere, Nat"
      ],
      "text/plain": [
       "<IPython.core.display.Markdown object>"
      ]
     },
     "metadata": {},
     "output_type": "display_data"
    },
    {
     "data": {
      "text/markdown": [
       "<br>"
      ],
      "text/plain": [
       "<IPython.core.display.Markdown object>"
      ]
     },
     "metadata": {},
     "output_type": "display_data"
    },
    {
     "data": {
      "text/markdown": [
       "### 1.5"
      ],
      "text/plain": [
       "<IPython.core.display.Markdown object>"
      ]
     },
     "metadata": {},
     "output_type": "display_data"
    },
    {
     "data": {
      "text/markdown": [
       "Digter, artede, forsonende, nationale, Helt, Forfatternote, Grav, Måder, uimodståelig, Betragtninger, mer, Sidste, nået, Død, Hvorledes, Trang, Tiden, Punkt, flere, Nat"
      ],
      "text/plain": [
       "<IPython.core.display.Markdown object>"
      ]
     },
     "metadata": {},
     "output_type": "display_data"
    },
    {
     "data": {
      "text/markdown": [
       "<br>"
      ],
      "text/plain": [
       "<IPython.core.display.Markdown object>"
      ]
     },
     "metadata": {},
     "output_type": "display_data"
    },
    {
     "data": {
      "text/markdown": [
       "## Folkeoplysning_"
      ],
      "text/plain": [
       "<IPython.core.display.Markdown object>"
      ]
     },
     "metadata": {},
     "output_type": "display_data"
    },
    {
     "data": {
      "text/markdown": [
       "### 1.05"
      ],
      "text/plain": [
       "<IPython.core.display.Markdown object>"
      ]
     },
     "metadata": {},
     "output_type": "display_data"
    },
    {
     "data": {
      "text/markdown": [
       "Civilisationens, Mindre, Vilje, Individer, Kilder, flyttede, fjerneste, hånlig, Samfundet, synlige, Illusioner, Digteren, Omvei, værste, Nissen, Gaderne, Blot, nøgne, Forbund, prægtige"
      ],
      "text/plain": [
       "<IPython.core.display.Markdown object>"
      ]
     },
     "metadata": {},
     "output_type": "display_data"
    },
    {
     "data": {
      "text/markdown": [
       "<br>"
      ],
      "text/plain": [
       "<IPython.core.display.Markdown object>"
      ]
     },
     "metadata": {},
     "output_type": "display_data"
    },
    {
     "data": {
      "text/markdown": [
       "### 1.2"
      ],
      "text/plain": [
       "<IPython.core.display.Markdown object>"
      ]
     },
     "metadata": {},
     "output_type": "display_data"
    },
    {
     "data": {
      "text/markdown": [
       "Civilisationens, Mindre, Vilje, Individer, synlige, prægtige, Kilder, Nissen, umoden, plage, Samfundet, Illusioner, Digteren, fjerneste, hånlig, Omvei, bringes, nøgne, Maskine, Forbund"
      ],
      "text/plain": [
       "<IPython.core.display.Markdown object>"
      ]
     },
     "metadata": {},
     "output_type": "display_data"
    },
    {
     "data": {
      "text/markdown": [
       "<br>"
      ],
      "text/plain": [
       "<IPython.core.display.Markdown object>"
      ]
     },
     "metadata": {},
     "output_type": "display_data"
    },
    {
     "data": {
      "text/markdown": [
       "### 1.5"
      ],
      "text/plain": [
       "<IPython.core.display.Markdown object>"
      ]
     },
     "metadata": {},
     "output_type": "display_data"
    },
    {
     "data": {
      "text/markdown": [
       "Civilisationens, Vilje, Mindre, Digteren, Maskine, Omvei, Individer, flyttede, umoden, fjerneste, nøgne, Gaderne, bringes, hånlig, Forbund, Yderligheder, synlige, Illusioner, Samfundet, værste"
      ],
      "text/plain": [
       "<IPython.core.display.Markdown object>"
      ]
     },
     "metadata": {},
     "output_type": "display_data"
    },
    {
     "data": {
      "text/markdown": [
       "<br>"
      ],
      "text/plain": [
       "<IPython.core.display.Markdown object>"
      ]
     },
     "metadata": {},
     "output_type": "display_data"
    },
    {
     "data": {
      "text/markdown": [
       "## Sundhed_"
      ],
      "text/plain": [
       "<IPython.core.display.Markdown object>"
      ]
     },
     "metadata": {},
     "output_type": "display_data"
    },
    {
     "data": {
      "text/markdown": [
       "### 1.05"
      ],
      "text/plain": [
       "<IPython.core.display.Markdown object>"
      ]
     },
     "metadata": {},
     "output_type": "display_data"
    },
    {
     "data": {
      "text/markdown": [
       "Klipperne, Sæder, nytter, Hvælvingen, Sans, vedligeholde, Hustruer, moralske, Opmuntring, Oplysning, sluttes, bygge, Elven, Bækken, Beboerne, savner, foragte, Virksomhed, Hjelp, mærke"
      ],
      "text/plain": [
       "<IPython.core.display.Markdown object>"
      ]
     },
     "metadata": {},
     "output_type": "display_data"
    },
    {
     "data": {
      "text/markdown": [
       "<br>"
      ],
      "text/plain": [
       "<IPython.core.display.Markdown object>"
      ]
     },
     "metadata": {},
     "output_type": "display_data"
    },
    {
     "data": {
      "text/markdown": [
       "### 1.2"
      ],
      "text/plain": [
       "<IPython.core.display.Markdown object>"
      ]
     },
     "metadata": {},
     "output_type": "display_data"
    },
    {
     "data": {
      "text/markdown": [
       "Klipperne, Sæder, nytter, Hvælvingen, vedligeholde, Hustruer, sluttes, bygge, Oplysning, Opmuntring, moralske, Sans, Beboerne, Elven, Bækken, foragte, savner, Hjelp, Virksomhed, mærke"
      ],
      "text/plain": [
       "<IPython.core.display.Markdown object>"
      ]
     },
     "metadata": {},
     "output_type": "display_data"
    },
    {
     "data": {
      "text/markdown": [
       "<br>"
      ],
      "text/plain": [
       "<IPython.core.display.Markdown object>"
      ]
     },
     "metadata": {},
     "output_type": "display_data"
    },
    {
     "data": {
      "text/markdown": [
       "### 1.5"
      ],
      "text/plain": [
       "<IPython.core.display.Markdown object>"
      ]
     },
     "metadata": {},
     "output_type": "display_data"
    },
    {
     "data": {
      "text/markdown": [
       "Klipperne, Sæder, nytter, Hvælvingen, Beboerne, Bækken, Elven, Opmuntring, Oplysning, moralske, Hustruer, Sans, sluttes, bygge, vedligeholde, Hjelp, savner, foragte, Virksomhed, Romaner"
      ],
      "text/plain": [
       "<IPython.core.display.Markdown object>"
      ]
     },
     "metadata": {},
     "output_type": "display_data"
    },
    {
     "data": {
      "text/markdown": [
       "<br>"
      ],
      "text/plain": [
       "<IPython.core.display.Markdown object>"
      ]
     },
     "metadata": {},
     "output_type": "display_data"
    },
    {
     "data": {
      "text/markdown": [
       "## Befolkningsprosesser_"
      ],
      "text/plain": [
       "<IPython.core.display.Markdown object>"
      ]
     },
     "metadata": {},
     "output_type": "display_data"
    },
    {
     "data": {
      "text/markdown": [
       "### 1.05"
      ],
      "text/plain": [
       "<IPython.core.display.Markdown object>"
      ]
     },
     "metadata": {},
     "output_type": "display_data"
    },
    {
     "data": {
      "text/markdown": [
       "Lidet, Præget, hilst, Lyksalighed, Nøiagtighed, matte, Mysterium, iforveien, omvendt, udtale, Opførsel, Scenen, simpel, nationale, Mandens, Lystighed, Norsk, bevidst, ment, Beregning"
      ],
      "text/plain": [
       "<IPython.core.display.Markdown object>"
      ]
     },
     "metadata": {},
     "output_type": "display_data"
    },
    {
     "data": {
      "text/markdown": [
       "<br>"
      ],
      "text/plain": [
       "<IPython.core.display.Markdown object>"
      ]
     },
     "metadata": {},
     "output_type": "display_data"
    },
    {
     "data": {
      "text/markdown": [
       "### 1.2"
      ],
      "text/plain": [
       "<IPython.core.display.Markdown object>"
      ]
     },
     "metadata": {},
     "output_type": "display_data"
    },
    {
     "data": {
      "text/markdown": [
       "Lidet, Nøiagtighed, iforveien, omvendt, Mysterium, matte, Lyksalighed, Præget, hilst, udtale, Opførsel, Norsk, Scenen, ment, Mandens, nationale, Lystighed, Vished, bevidst, Beregning"
      ],
      "text/plain": [
       "<IPython.core.display.Markdown object>"
      ]
     },
     "metadata": {},
     "output_type": "display_data"
    },
    {
     "data": {
      "text/markdown": [
       "<br>"
      ],
      "text/plain": [
       "<IPython.core.display.Markdown object>"
      ]
     },
     "metadata": {},
     "output_type": "display_data"
    },
    {
     "data": {
      "text/markdown": [
       "### 1.5"
      ],
      "text/plain": [
       "<IPython.core.display.Markdown object>"
      ]
     },
     "metadata": {},
     "output_type": "display_data"
    },
    {
     "data": {
      "text/markdown": [
       "Lidet, Opførsel, hilst, Præget, Mysterium, omvendt, Lyksalighed, Nøiagtighed, matte, iforveien, udtale, igår, Vished, Scenen, nationale, bevidst, ment, Beregning, Norsk, Mandens"
      ],
      "text/plain": [
       "<IPython.core.display.Markdown object>"
      ]
     },
     "metadata": {},
     "output_type": "display_data"
    },
    {
     "data": {
      "text/markdown": [
       "<br>"
      ],
      "text/plain": [
       "<IPython.core.display.Markdown object>"
      ]
     },
     "metadata": {},
     "output_type": "display_data"
    }
   ],
   "source": [
    "for w in amtmand_tema:\n",
    "    display(Markdown(\"## \"+ w))\n",
    "    displaycoll(amtmand_tema[w], freqlim=2)"
   ]
  },
  {
   "cell_type": "code",
   "execution_count": 271,
   "metadata": {},
   "outputs": [
    {
     "name": "stdout",
     "output_type": "stream",
     "text": [
      "1.02 Kvindelighedens, ydmygende, Vist, Kvindelighed, Kvinder, Kvindes, Kavallerer, Væsener, Ballet, Vækst\n",
      "\n",
      "1.3 Mor, Moder, Damer, Dame, Damerne, Kvinde, Hustru, Kvindelighed, Kone, kvindelig\n",
      "\n",
      "1.5 Moder, Mor, Damer, Dame, ,, Damerne, Kvinde, Hustru, Kone, kvindelig\n",
      "\n",
      "1.8 ,, Moder, Mor, Damer, Dame, ., og, Damerne, Kvinde, Hustru\n",
      "\n",
      "2.0 ,, Moder, Mor, ., Damer, og, Dame, at, en, i\n",
      "\n",
      "freq ,, ., og, at, det, i, en, den, ikke, var\n",
      "\n"
     ]
    }
   ],
   "source": [
    "displaycoll(coll_kvinde, n = 10, freqlim = 2)"
   ]
  },
  {
   "cell_type": "code",
   "execution_count": 27,
   "metadata": {},
   "outputs": [
    {
     "data": {
      "text/html": [
       "<div>\n",
       "<style scoped>\n",
       "    .dataframe tbody tr th:only-of-type {\n",
       "        vertical-align: middle;\n",
       "    }\n",
       "\n",
       "    .dataframe tbody tr th {\n",
       "        vertical-align: top;\n",
       "    }\n",
       "\n",
       "    .dataframe thead th {\n",
       "        text-align: right;\n",
       "    }\n",
       "</style>\n",
       "<table border=\"1\" class=\"dataframe\">\n",
       "  <thead>\n",
       "    <tr style=\"text-align: right;\">\n",
       "      <th></th>\n",
       "      <th>!</th>\n",
       "      <th>'</th>\n",
       "      <th>(</th>\n",
       "      <th>)</th>\n",
       "      <th>,</th>\n",
       "      <th>-</th>\n",
       "      <th>.</th>\n",
       "      <th>/</th>\n",
       "      <th>05</th>\n",
       "      <th>1</th>\n",
       "      <th>...</th>\n",
       "      <th>»</th>\n",
       "      <th>Â</th>\n",
       "      <th>Ã</th>\n",
       "      <th>â</th>\n",
       "      <th>˜</th>\n",
       "      <th>“</th>\n",
       "      <th>†</th>\n",
       "      <th>…</th>\n",
       "      <th>‰</th>\n",
       "      <th>€</th>\n",
       "    </tr>\n",
       "  </thead>\n",
       "  <tbody>\n",
       "    <tr>\n",
       "      <th>!</th>\n",
       "      <td>2448.0</td>\n",
       "      <td>30.0</td>\n",
       "      <td>0.0</td>\n",
       "      <td>0.0</td>\n",
       "      <td>10459.0</td>\n",
       "      <td>1.0</td>\n",
       "      <td>8732.0</td>\n",
       "      <td>0.0</td>\n",
       "      <td>0.0</td>\n",
       "      <td>0.0</td>\n",
       "      <td>...</td>\n",
       "      <td>108.0</td>\n",
       "      <td>139.0</td>\n",
       "      <td>788.0</td>\n",
       "      <td>499.0</td>\n",
       "      <td>270.0</td>\n",
       "      <td>535.0</td>\n",
       "      <td>51.0</td>\n",
       "      <td>168.0</td>\n",
       "      <td>27.0</td>\n",
       "      <td>535.0</td>\n",
       "    </tr>\n",
       "    <tr>\n",
       "      <th>'</th>\n",
       "      <td>30.0</td>\n",
       "      <td>27.0</td>\n",
       "      <td>0.0</td>\n",
       "      <td>0.0</td>\n",
       "      <td>260.0</td>\n",
       "      <td>0.0</td>\n",
       "      <td>133.0</td>\n",
       "      <td>0.0</td>\n",
       "      <td>0.0</td>\n",
       "      <td>0.0</td>\n",
       "      <td>...</td>\n",
       "      <td>9.0</td>\n",
       "      <td>15.0</td>\n",
       "      <td>15.0</td>\n",
       "      <td>7.0</td>\n",
       "      <td>4.0</td>\n",
       "      <td>7.0</td>\n",
       "      <td>1.0</td>\n",
       "      <td>3.0</td>\n",
       "      <td>0.0</td>\n",
       "      <td>7.0</td>\n",
       "    </tr>\n",
       "    <tr>\n",
       "      <th>(</th>\n",
       "      <td>0.0</td>\n",
       "      <td>0.0</td>\n",
       "      <td>23.0</td>\n",
       "      <td>23.0</td>\n",
       "      <td>85.0</td>\n",
       "      <td>3.0</td>\n",
       "      <td>48.0</td>\n",
       "      <td>4.0</td>\n",
       "      <td>0.0</td>\n",
       "      <td>0.0</td>\n",
       "      <td>...</td>\n",
       "      <td>3.0</td>\n",
       "      <td>2.0</td>\n",
       "      <td>9.0</td>\n",
       "      <td>1.0</td>\n",
       "      <td>3.0</td>\n",
       "      <td>1.0</td>\n",
       "      <td>0.0</td>\n",
       "      <td>1.0</td>\n",
       "      <td>0.0</td>\n",
       "      <td>1.0</td>\n",
       "    </tr>\n",
       "    <tr>\n",
       "      <th>)</th>\n",
       "      <td>0.0</td>\n",
       "      <td>0.0</td>\n",
       "      <td>23.0</td>\n",
       "      <td>23.0</td>\n",
       "      <td>85.0</td>\n",
       "      <td>3.0</td>\n",
       "      <td>48.0</td>\n",
       "      <td>4.0</td>\n",
       "      <td>0.0</td>\n",
       "      <td>0.0</td>\n",
       "      <td>...</td>\n",
       "      <td>3.0</td>\n",
       "      <td>2.0</td>\n",
       "      <td>9.0</td>\n",
       "      <td>1.0</td>\n",
       "      <td>3.0</td>\n",
       "      <td>1.0</td>\n",
       "      <td>0.0</td>\n",
       "      <td>1.0</td>\n",
       "      <td>0.0</td>\n",
       "      <td>1.0</td>\n",
       "    </tr>\n",
       "    <tr>\n",
       "      <th>,</th>\n",
       "      <td>10459.0</td>\n",
       "      <td>260.0</td>\n",
       "      <td>85.0</td>\n",
       "      <td>85.0</td>\n",
       "      <td>178616.0</td>\n",
       "      <td>42.0</td>\n",
       "      <td>94849.0</td>\n",
       "      <td>2.0</td>\n",
       "      <td>0.0</td>\n",
       "      <td>4.0</td>\n",
       "      <td>...</td>\n",
       "      <td>1771.0</td>\n",
       "      <td>2098.0</td>\n",
       "      <td>13611.0</td>\n",
       "      <td>6146.0</td>\n",
       "      <td>4322.0</td>\n",
       "      <td>6245.0</td>\n",
       "      <td>985.0</td>\n",
       "      <td>2744.0</td>\n",
       "      <td>309.0</td>\n",
       "      <td>6245.0</td>\n",
       "    </tr>\n",
       "    <tr>\n",
       "      <th>-</th>\n",
       "      <td>1.0</td>\n",
       "      <td>0.0</td>\n",
       "      <td>3.0</td>\n",
       "      <td>3.0</td>\n",
       "      <td>42.0</td>\n",
       "      <td>22.0</td>\n",
       "      <td>27.0</td>\n",
       "      <td>1.0</td>\n",
       "      <td>4.0</td>\n",
       "      <td>0.0</td>\n",
       "      <td>...</td>\n",
       "      <td>1.0</td>\n",
       "      <td>1.0</td>\n",
       "      <td>6.0</td>\n",
       "      <td>0.0</td>\n",
       "      <td>2.0</td>\n",
       "      <td>0.0</td>\n",
       "      <td>0.0</td>\n",
       "      <td>0.0</td>\n",
       "      <td>0.0</td>\n",
       "      <td>0.0</td>\n",
       "    </tr>\n",
       "    <tr>\n",
       "      <th>.</th>\n",
       "      <td>8732.0</td>\n",
       "      <td>133.0</td>\n",
       "      <td>48.0</td>\n",
       "      <td>48.0</td>\n",
       "      <td>94849.0</td>\n",
       "      <td>27.0</td>\n",
       "      <td>97557.0</td>\n",
       "      <td>9.0</td>\n",
       "      <td>0.0</td>\n",
       "      <td>1.0</td>\n",
       "      <td>...</td>\n",
       "      <td>769.0</td>\n",
       "      <td>904.0</td>\n",
       "      <td>7622.0</td>\n",
       "      <td>3521.0</td>\n",
       "      <td>2654.0</td>\n",
       "      <td>3622.0</td>\n",
       "      <td>538.0</td>\n",
       "      <td>1389.0</td>\n",
       "      <td>213.0</td>\n",
       "      <td>3622.0</td>\n",
       "    </tr>\n",
       "    <tr>\n",
       "      <th>/</th>\n",
       "      <td>0.0</td>\n",
       "      <td>0.0</td>\n",
       "      <td>4.0</td>\n",
       "      <td>4.0</td>\n",
       "      <td>2.0</td>\n",
       "      <td>1.0</td>\n",
       "      <td>9.0</td>\n",
       "      <td>4.0</td>\n",
       "      <td>0.0</td>\n",
       "      <td>0.0</td>\n",
       "      <td>...</td>\n",
       "      <td>1.0</td>\n",
       "      <td>1.0</td>\n",
       "      <td>2.0</td>\n",
       "      <td>0.0</td>\n",
       "      <td>0.0</td>\n",
       "      <td>0.0</td>\n",
       "      <td>0.0</td>\n",
       "      <td>0.0</td>\n",
       "      <td>0.0</td>\n",
       "      <td>0.0</td>\n",
       "    </tr>\n",
       "    <tr>\n",
       "      <th>05</th>\n",
       "      <td>0.0</td>\n",
       "      <td>0.0</td>\n",
       "      <td>0.0</td>\n",
       "      <td>0.0</td>\n",
       "      <td>0.0</td>\n",
       "      <td>4.0</td>\n",
       "      <td>0.0</td>\n",
       "      <td>0.0</td>\n",
       "      <td>1.0</td>\n",
       "      <td>0.0</td>\n",
       "      <td>...</td>\n",
       "      <td>0.0</td>\n",
       "      <td>0.0</td>\n",
       "      <td>0.0</td>\n",
       "      <td>0.0</td>\n",
       "      <td>0.0</td>\n",
       "      <td>0.0</td>\n",
       "      <td>0.0</td>\n",
       "      <td>0.0</td>\n",
       "      <td>0.0</td>\n",
       "      <td>0.0</td>\n",
       "    </tr>\n",
       "    <tr>\n",
       "      <th>1</th>\n",
       "      <td>0.0</td>\n",
       "      <td>0.0</td>\n",
       "      <td>0.0</td>\n",
       "      <td>0.0</td>\n",
       "      <td>4.0</td>\n",
       "      <td>0.0</td>\n",
       "      <td>1.0</td>\n",
       "      <td>0.0</td>\n",
       "      <td>0.0</td>\n",
       "      <td>5.0</td>\n",
       "      <td>...</td>\n",
       "      <td>0.0</td>\n",
       "      <td>0.0</td>\n",
       "      <td>0.0</td>\n",
       "      <td>0.0</td>\n",
       "      <td>0.0</td>\n",
       "      <td>0.0</td>\n",
       "      <td>0.0</td>\n",
       "      <td>0.0</td>\n",
       "      <td>0.0</td>\n",
       "      <td>0.0</td>\n",
       "    </tr>\n",
       "    <tr>\n",
       "      <th>10</th>\n",
       "      <td>0.0</td>\n",
       "      <td>0.0</td>\n",
       "      <td>0.0</td>\n",
       "      <td>0.0</td>\n",
       "      <td>19.0</td>\n",
       "      <td>0.0</td>\n",
       "      <td>7.0</td>\n",
       "      <td>0.0</td>\n",
       "      <td>0.0</td>\n",
       "      <td>0.0</td>\n",
       "      <td>...</td>\n",
       "      <td>0.0</td>\n",
       "      <td>0.0</td>\n",
       "      <td>1.0</td>\n",
       "      <td>0.0</td>\n",
       "      <td>1.0</td>\n",
       "      <td>0.0</td>\n",
       "      <td>0.0</td>\n",
       "      <td>0.0</td>\n",
       "      <td>0.0</td>\n",
       "      <td>0.0</td>\n",
       "    </tr>\n",
       "    <tr>\n",
       "      <th>100</th>\n",
       "      <td>3.0</td>\n",
       "      <td>0.0</td>\n",
       "      <td>0.0</td>\n",
       "      <td>0.0</td>\n",
       "      <td>2.0</td>\n",
       "      <td>0.0</td>\n",
       "      <td>4.0</td>\n",
       "      <td>0.0</td>\n",
       "      <td>0.0</td>\n",
       "      <td>0.0</td>\n",
       "      <td>...</td>\n",
       "      <td>0.0</td>\n",
       "      <td>0.0</td>\n",
       "      <td>0.0</td>\n",
       "      <td>0.0</td>\n",
       "      <td>0.0</td>\n",
       "      <td>0.0</td>\n",
       "      <td>0.0</td>\n",
       "      <td>0.0</td>\n",
       "      <td>0.0</td>\n",
       "      <td>0.0</td>\n",
       "    </tr>\n",
       "    <tr>\n",
       "      <th>101</th>\n",
       "      <td>3.0</td>\n",
       "      <td>0.0</td>\n",
       "      <td>0.0</td>\n",
       "      <td>0.0</td>\n",
       "      <td>9.0</td>\n",
       "      <td>0.0</td>\n",
       "      <td>8.0</td>\n",
       "      <td>0.0</td>\n",
       "      <td>0.0</td>\n",
       "      <td>0.0</td>\n",
       "      <td>...</td>\n",
       "      <td>0.0</td>\n",
       "      <td>0.0</td>\n",
       "      <td>0.0</td>\n",
       "      <td>0.0</td>\n",
       "      <td>0.0</td>\n",
       "      <td>0.0</td>\n",
       "      <td>0.0</td>\n",
       "      <td>0.0</td>\n",
       "      <td>0.0</td>\n",
       "      <td>0.0</td>\n",
       "    </tr>\n",
       "    <tr>\n",
       "      <th>102</th>\n",
       "      <td>0.0</td>\n",
       "      <td>0.0</td>\n",
       "      <td>0.0</td>\n",
       "      <td>0.0</td>\n",
       "      <td>9.0</td>\n",
       "      <td>0.0</td>\n",
       "      <td>11.0</td>\n",
       "      <td>0.0</td>\n",
       "      <td>0.0</td>\n",
       "      <td>0.0</td>\n",
       "      <td>...</td>\n",
       "      <td>0.0</td>\n",
       "      <td>0.0</td>\n",
       "      <td>0.0</td>\n",
       "      <td>0.0</td>\n",
       "      <td>0.0</td>\n",
       "      <td>0.0</td>\n",
       "      <td>0.0</td>\n",
       "      <td>0.0</td>\n",
       "      <td>0.0</td>\n",
       "      <td>0.0</td>\n",
       "    </tr>\n",
       "    <tr>\n",
       "      <th>103</th>\n",
       "      <td>1.0</td>\n",
       "      <td>0.0</td>\n",
       "      <td>0.0</td>\n",
       "      <td>0.0</td>\n",
       "      <td>31.0</td>\n",
       "      <td>0.0</td>\n",
       "      <td>21.0</td>\n",
       "      <td>0.0</td>\n",
       "      <td>0.0</td>\n",
       "      <td>0.0</td>\n",
       "      <td>...</td>\n",
       "      <td>0.0</td>\n",
       "      <td>0.0</td>\n",
       "      <td>3.0</td>\n",
       "      <td>4.0</td>\n",
       "      <td>0.0</td>\n",
       "      <td>4.0</td>\n",
       "      <td>0.0</td>\n",
       "      <td>3.0</td>\n",
       "      <td>0.0</td>\n",
       "      <td>4.0</td>\n",
       "    </tr>\n",
       "    <tr>\n",
       "      <th>104</th>\n",
       "      <td>0.0</td>\n",
       "      <td>0.0</td>\n",
       "      <td>0.0</td>\n",
       "      <td>0.0</td>\n",
       "      <td>4.0</td>\n",
       "      <td>0.0</td>\n",
       "      <td>4.0</td>\n",
       "      <td>0.0</td>\n",
       "      <td>0.0</td>\n",
       "      <td>0.0</td>\n",
       "      <td>...</td>\n",
       "      <td>0.0</td>\n",
       "      <td>0.0</td>\n",
       "      <td>0.0</td>\n",
       "      <td>0.0</td>\n",
       "      <td>0.0</td>\n",
       "      <td>0.0</td>\n",
       "      <td>0.0</td>\n",
       "      <td>0.0</td>\n",
       "      <td>0.0</td>\n",
       "      <td>0.0</td>\n",
       "    </tr>\n",
       "    <tr>\n",
       "      <th>105</th>\n",
       "      <td>0.0</td>\n",
       "      <td>0.0</td>\n",
       "      <td>0.0</td>\n",
       "      <td>0.0</td>\n",
       "      <td>28.0</td>\n",
       "      <td>0.0</td>\n",
       "      <td>6.0</td>\n",
       "      <td>0.0</td>\n",
       "      <td>0.0</td>\n",
       "      <td>0.0</td>\n",
       "      <td>...</td>\n",
       "      <td>1.0</td>\n",
       "      <td>1.0</td>\n",
       "      <td>1.0</td>\n",
       "      <td>0.0</td>\n",
       "      <td>1.0</td>\n",
       "      <td>0.0</td>\n",
       "      <td>0.0</td>\n",
       "      <td>0.0</td>\n",
       "      <td>0.0</td>\n",
       "      <td>0.0</td>\n",
       "    </tr>\n",
       "    <tr>\n",
       "      <th>106</th>\n",
       "      <td>0.0</td>\n",
       "      <td>0.0</td>\n",
       "      <td>0.0</td>\n",
       "      <td>0.0</td>\n",
       "      <td>28.0</td>\n",
       "      <td>0.0</td>\n",
       "      <td>12.0</td>\n",
       "      <td>0.0</td>\n",
       "      <td>0.0</td>\n",
       "      <td>0.0</td>\n",
       "      <td>...</td>\n",
       "      <td>0.0</td>\n",
       "      <td>0.0</td>\n",
       "      <td>1.0</td>\n",
       "      <td>4.0</td>\n",
       "      <td>0.0</td>\n",
       "      <td>4.0</td>\n",
       "      <td>0.0</td>\n",
       "      <td>1.0</td>\n",
       "      <td>0.0</td>\n",
       "      <td>4.0</td>\n",
       "    </tr>\n",
       "    <tr>\n",
       "      <th>107</th>\n",
       "      <td>5.0</td>\n",
       "      <td>1.0</td>\n",
       "      <td>0.0</td>\n",
       "      <td>0.0</td>\n",
       "      <td>62.0</td>\n",
       "      <td>0.0</td>\n",
       "      <td>27.0</td>\n",
       "      <td>0.0</td>\n",
       "      <td>0.0</td>\n",
       "      <td>0.0</td>\n",
       "      <td>...</td>\n",
       "      <td>2.0</td>\n",
       "      <td>3.0</td>\n",
       "      <td>5.0</td>\n",
       "      <td>0.0</td>\n",
       "      <td>1.0</td>\n",
       "      <td>0.0</td>\n",
       "      <td>0.0</td>\n",
       "      <td>1.0</td>\n",
       "      <td>0.0</td>\n",
       "      <td>0.0</td>\n",
       "    </tr>\n",
       "    <tr>\n",
       "      <th>108</th>\n",
       "      <td>2.0</td>\n",
       "      <td>0.0</td>\n",
       "      <td>0.0</td>\n",
       "      <td>0.0</td>\n",
       "      <td>33.0</td>\n",
       "      <td>0.0</td>\n",
       "      <td>19.0</td>\n",
       "      <td>0.0</td>\n",
       "      <td>0.0</td>\n",
       "      <td>0.0</td>\n",
       "      <td>...</td>\n",
       "      <td>0.0</td>\n",
       "      <td>0.0</td>\n",
       "      <td>2.0</td>\n",
       "      <td>1.0</td>\n",
       "      <td>1.0</td>\n",
       "      <td>1.0</td>\n",
       "      <td>0.0</td>\n",
       "      <td>0.0</td>\n",
       "      <td>0.0</td>\n",
       "      <td>1.0</td>\n",
       "    </tr>\n",
       "    <tr>\n",
       "      <th>109</th>\n",
       "      <td>2.0</td>\n",
       "      <td>0.0</td>\n",
       "      <td>0.0</td>\n",
       "      <td>0.0</td>\n",
       "      <td>24.0</td>\n",
       "      <td>0.0</td>\n",
       "      <td>12.0</td>\n",
       "      <td>0.0</td>\n",
       "      <td>0.0</td>\n",
       "      <td>0.0</td>\n",
       "      <td>...</td>\n",
       "      <td>1.0</td>\n",
       "      <td>1.0</td>\n",
       "      <td>2.0</td>\n",
       "      <td>0.0</td>\n",
       "      <td>1.0</td>\n",
       "      <td>0.0</td>\n",
       "      <td>0.0</td>\n",
       "      <td>0.0</td>\n",
       "      <td>0.0</td>\n",
       "      <td>0.0</td>\n",
       "    </tr>\n",
       "    <tr>\n",
       "      <th>11</th>\n",
       "      <td>0.0</td>\n",
       "      <td>0.0</td>\n",
       "      <td>1.0</td>\n",
       "      <td>1.0</td>\n",
       "      <td>68.0</td>\n",
       "      <td>0.0</td>\n",
       "      <td>30.0</td>\n",
       "      <td>0.0</td>\n",
       "      <td>0.0</td>\n",
       "      <td>0.0</td>\n",
       "      <td>...</td>\n",
       "      <td>1.0</td>\n",
       "      <td>1.0</td>\n",
       "      <td>2.0</td>\n",
       "      <td>3.0</td>\n",
       "      <td>0.0</td>\n",
       "      <td>3.0</td>\n",
       "      <td>0.0</td>\n",
       "      <td>2.0</td>\n",
       "      <td>0.0</td>\n",
       "      <td>3.0</td>\n",
       "    </tr>\n",
       "    <tr>\n",
       "      <th>110</th>\n",
       "      <td>3.0</td>\n",
       "      <td>0.0</td>\n",
       "      <td>0.0</td>\n",
       "      <td>0.0</td>\n",
       "      <td>69.0</td>\n",
       "      <td>0.0</td>\n",
       "      <td>39.0</td>\n",
       "      <td>0.0</td>\n",
       "      <td>0.0</td>\n",
       "      <td>0.0</td>\n",
       "      <td>...</td>\n",
       "      <td>0.0</td>\n",
       "      <td>0.0</td>\n",
       "      <td>9.0</td>\n",
       "      <td>2.0</td>\n",
       "      <td>5.0</td>\n",
       "      <td>2.0</td>\n",
       "      <td>1.0</td>\n",
       "      <td>0.0</td>\n",
       "      <td>0.0</td>\n",
       "      <td>2.0</td>\n",
       "    </tr>\n",
       "    <tr>\n",
       "      <th>111</th>\n",
       "      <td>1.0</td>\n",
       "      <td>0.0</td>\n",
       "      <td>0.0</td>\n",
       "      <td>0.0</td>\n",
       "      <td>22.0</td>\n",
       "      <td>0.0</td>\n",
       "      <td>14.0</td>\n",
       "      <td>0.0</td>\n",
       "      <td>0.0</td>\n",
       "      <td>0.0</td>\n",
       "      <td>...</td>\n",
       "      <td>0.0</td>\n",
       "      <td>0.0</td>\n",
       "      <td>3.0</td>\n",
       "      <td>0.0</td>\n",
       "      <td>2.0</td>\n",
       "      <td>0.0</td>\n",
       "      <td>0.0</td>\n",
       "      <td>1.0</td>\n",
       "      <td>0.0</td>\n",
       "      <td>0.0</td>\n",
       "    </tr>\n",
       "    <tr>\n",
       "      <th>112</th>\n",
       "      <td>6.0</td>\n",
       "      <td>0.0</td>\n",
       "      <td>0.0</td>\n",
       "      <td>0.0</td>\n",
       "      <td>28.0</td>\n",
       "      <td>0.0</td>\n",
       "      <td>26.0</td>\n",
       "      <td>0.0</td>\n",
       "      <td>0.0</td>\n",
       "      <td>0.0</td>\n",
       "      <td>...</td>\n",
       "      <td>0.0</td>\n",
       "      <td>0.0</td>\n",
       "      <td>0.0</td>\n",
       "      <td>3.0</td>\n",
       "      <td>0.0</td>\n",
       "      <td>3.0</td>\n",
       "      <td>0.0</td>\n",
       "      <td>0.0</td>\n",
       "      <td>0.0</td>\n",
       "      <td>3.0</td>\n",
       "    </tr>\n",
       "    <tr>\n",
       "      <th>113</th>\n",
       "      <td>7.0</td>\n",
       "      <td>0.0</td>\n",
       "      <td>0.0</td>\n",
       "      <td>0.0</td>\n",
       "      <td>35.0</td>\n",
       "      <td>0.0</td>\n",
       "      <td>16.0</td>\n",
       "      <td>0.0</td>\n",
       "      <td>0.0</td>\n",
       "      <td>0.0</td>\n",
       "      <td>...</td>\n",
       "      <td>1.0</td>\n",
       "      <td>1.0</td>\n",
       "      <td>3.0</td>\n",
       "      <td>0.0</td>\n",
       "      <td>2.0</td>\n",
       "      <td>0.0</td>\n",
       "      <td>0.0</td>\n",
       "      <td>0.0</td>\n",
       "      <td>0.0</td>\n",
       "      <td>0.0</td>\n",
       "    </tr>\n",
       "    <tr>\n",
       "      <th>114</th>\n",
       "      <td>0.0</td>\n",
       "      <td>0.0</td>\n",
       "      <td>0.0</td>\n",
       "      <td>0.0</td>\n",
       "      <td>6.0</td>\n",
       "      <td>0.0</td>\n",
       "      <td>10.0</td>\n",
       "      <td>0.0</td>\n",
       "      <td>0.0</td>\n",
       "      <td>0.0</td>\n",
       "      <td>...</td>\n",
       "      <td>0.0</td>\n",
       "      <td>0.0</td>\n",
       "      <td>3.0</td>\n",
       "      <td>0.0</td>\n",
       "      <td>3.0</td>\n",
       "      <td>0.0</td>\n",
       "      <td>0.0</td>\n",
       "      <td>0.0</td>\n",
       "      <td>0.0</td>\n",
       "      <td>0.0</td>\n",
       "    </tr>\n",
       "    <tr>\n",
       "      <th>115</th>\n",
       "      <td>4.0</td>\n",
       "      <td>0.0</td>\n",
       "      <td>0.0</td>\n",
       "      <td>0.0</td>\n",
       "      <td>25.0</td>\n",
       "      <td>0.0</td>\n",
       "      <td>23.0</td>\n",
       "      <td>0.0</td>\n",
       "      <td>0.0</td>\n",
       "      <td>0.0</td>\n",
       "      <td>...</td>\n",
       "      <td>1.0</td>\n",
       "      <td>1.0</td>\n",
       "      <td>0.0</td>\n",
       "      <td>1.0</td>\n",
       "      <td>0.0</td>\n",
       "      <td>1.0</td>\n",
       "      <td>0.0</td>\n",
       "      <td>0.0</td>\n",
       "      <td>0.0</td>\n",
       "      <td>1.0</td>\n",
       "    </tr>\n",
       "    <tr>\n",
       "      <th>116</th>\n",
       "      <td>2.0</td>\n",
       "      <td>0.0</td>\n",
       "      <td>0.0</td>\n",
       "      <td>0.0</td>\n",
       "      <td>11.0</td>\n",
       "      <td>0.0</td>\n",
       "      <td>6.0</td>\n",
       "      <td>0.0</td>\n",
       "      <td>0.0</td>\n",
       "      <td>0.0</td>\n",
       "      <td>...</td>\n",
       "      <td>0.0</td>\n",
       "      <td>0.0</td>\n",
       "      <td>0.0</td>\n",
       "      <td>3.0</td>\n",
       "      <td>0.0</td>\n",
       "      <td>3.0</td>\n",
       "      <td>0.0</td>\n",
       "      <td>0.0</td>\n",
       "      <td>0.0</td>\n",
       "      <td>3.0</td>\n",
       "    </tr>\n",
       "    <tr>\n",
       "      <th>117</th>\n",
       "      <td>0.0</td>\n",
       "      <td>0.0</td>\n",
       "      <td>0.0</td>\n",
       "      <td>0.0</td>\n",
       "      <td>51.0</td>\n",
       "      <td>0.0</td>\n",
       "      <td>26.0</td>\n",
       "      <td>0.0</td>\n",
       "      <td>0.0</td>\n",
       "      <td>0.0</td>\n",
       "      <td>...</td>\n",
       "      <td>1.0</td>\n",
       "      <td>1.0</td>\n",
       "      <td>10.0</td>\n",
       "      <td>0.0</td>\n",
       "      <td>5.0</td>\n",
       "      <td>0.0</td>\n",
       "      <td>0.0</td>\n",
       "      <td>2.0</td>\n",
       "      <td>0.0</td>\n",
       "      <td>0.0</td>\n",
       "    </tr>\n",
       "    <tr>\n",
       "      <th>...</th>\n",
       "      <td>...</td>\n",
       "      <td>...</td>\n",
       "      <td>...</td>\n",
       "      <td>...</td>\n",
       "      <td>...</td>\n",
       "      <td>...</td>\n",
       "      <td>...</td>\n",
       "      <td>...</td>\n",
       "      <td>...</td>\n",
       "      <td>...</td>\n",
       "      <td>...</td>\n",
       "      <td>...</td>\n",
       "      <td>...</td>\n",
       "      <td>...</td>\n",
       "      <td>...</td>\n",
       "      <td>...</td>\n",
       "      <td>...</td>\n",
       "      <td>...</td>\n",
       "      <td>...</td>\n",
       "      <td>...</td>\n",
       "      <td>...</td>\n",
       "    </tr>\n",
       "    <tr>\n",
       "      <th>ypperlige</th>\n",
       "      <td>2.0</td>\n",
       "      <td>0.0</td>\n",
       "      <td>0.0</td>\n",
       "      <td>0.0</td>\n",
       "      <td>27.0</td>\n",
       "      <td>0.0</td>\n",
       "      <td>20.0</td>\n",
       "      <td>0.0</td>\n",
       "      <td>0.0</td>\n",
       "      <td>0.0</td>\n",
       "      <td>...</td>\n",
       "      <td>1.0</td>\n",
       "      <td>1.0</td>\n",
       "      <td>2.0</td>\n",
       "      <td>2.0</td>\n",
       "      <td>1.0</td>\n",
       "      <td>2.0</td>\n",
       "      <td>0.0</td>\n",
       "      <td>0.0</td>\n",
       "      <td>0.0</td>\n",
       "      <td>2.0</td>\n",
       "    </tr>\n",
       "    <tr>\n",
       "      <th>yppige</th>\n",
       "      <td>1.0</td>\n",
       "      <td>0.0</td>\n",
       "      <td>0.0</td>\n",
       "      <td>0.0</td>\n",
       "      <td>28.0</td>\n",
       "      <td>0.0</td>\n",
       "      <td>18.0</td>\n",
       "      <td>0.0</td>\n",
       "      <td>0.0</td>\n",
       "      <td>0.0</td>\n",
       "      <td>...</td>\n",
       "      <td>1.0</td>\n",
       "      <td>1.0</td>\n",
       "      <td>2.0</td>\n",
       "      <td>1.0</td>\n",
       "      <td>1.0</td>\n",
       "      <td>1.0</td>\n",
       "      <td>0.0</td>\n",
       "      <td>0.0</td>\n",
       "      <td>0.0</td>\n",
       "      <td>1.0</td>\n",
       "    </tr>\n",
       "    <tr>\n",
       "      <th>yppigt</th>\n",
       "      <td>0.0</td>\n",
       "      <td>0.0</td>\n",
       "      <td>0.0</td>\n",
       "      <td>0.0</td>\n",
       "      <td>29.0</td>\n",
       "      <td>0.0</td>\n",
       "      <td>10.0</td>\n",
       "      <td>0.0</td>\n",
       "      <td>0.0</td>\n",
       "      <td>0.0</td>\n",
       "      <td>...</td>\n",
       "      <td>0.0</td>\n",
       "      <td>0.0</td>\n",
       "      <td>3.0</td>\n",
       "      <td>0.0</td>\n",
       "      <td>0.0</td>\n",
       "      <td>0.0</td>\n",
       "      <td>0.0</td>\n",
       "      <td>1.0</td>\n",
       "      <td>0.0</td>\n",
       "      <td>0.0</td>\n",
       "    </tr>\n",
       "    <tr>\n",
       "      <th>yste</th>\n",
       "      <td>1.0</td>\n",
       "      <td>0.0</td>\n",
       "      <td>0.0</td>\n",
       "      <td>0.0</td>\n",
       "      <td>20.0</td>\n",
       "      <td>0.0</td>\n",
       "      <td>6.0</td>\n",
       "      <td>0.0</td>\n",
       "      <td>0.0</td>\n",
       "      <td>0.0</td>\n",
       "      <td>...</td>\n",
       "      <td>0.0</td>\n",
       "      <td>0.0</td>\n",
       "      <td>0.0</td>\n",
       "      <td>0.0</td>\n",
       "      <td>0.0</td>\n",
       "      <td>0.0</td>\n",
       "      <td>0.0</td>\n",
       "      <td>0.0</td>\n",
       "      <td>0.0</td>\n",
       "      <td>0.0</td>\n",
       "    </tr>\n",
       "    <tr>\n",
       "      <th>ytrede</th>\n",
       "      <td>1.0</td>\n",
       "      <td>0.0</td>\n",
       "      <td>0.0</td>\n",
       "      <td>0.0</td>\n",
       "      <td>25.0</td>\n",
       "      <td>0.0</td>\n",
       "      <td>13.0</td>\n",
       "      <td>0.0</td>\n",
       "      <td>0.0</td>\n",
       "      <td>0.0</td>\n",
       "      <td>...</td>\n",
       "      <td>0.0</td>\n",
       "      <td>0.0</td>\n",
       "      <td>1.0</td>\n",
       "      <td>0.0</td>\n",
       "      <td>0.0</td>\n",
       "      <td>0.0</td>\n",
       "      <td>0.0</td>\n",
       "      <td>1.0</td>\n",
       "      <td>0.0</td>\n",
       "      <td>0.0</td>\n",
       "    </tr>\n",
       "    <tr>\n",
       "      <th>ytrer</th>\n",
       "      <td>3.0</td>\n",
       "      <td>0.0</td>\n",
       "      <td>0.0</td>\n",
       "      <td>0.0</td>\n",
       "      <td>11.0</td>\n",
       "      <td>0.0</td>\n",
       "      <td>10.0</td>\n",
       "      <td>0.0</td>\n",
       "      <td>0.0</td>\n",
       "      <td>0.0</td>\n",
       "      <td>...</td>\n",
       "      <td>0.0</td>\n",
       "      <td>0.0</td>\n",
       "      <td>1.0</td>\n",
       "      <td>1.0</td>\n",
       "      <td>1.0</td>\n",
       "      <td>1.0</td>\n",
       "      <td>0.0</td>\n",
       "      <td>0.0</td>\n",
       "      <td>0.0</td>\n",
       "      <td>1.0</td>\n",
       "    </tr>\n",
       "    <tr>\n",
       "      <th>ytret</th>\n",
       "      <td>0.0</td>\n",
       "      <td>0.0</td>\n",
       "      <td>0.0</td>\n",
       "      <td>0.0</td>\n",
       "      <td>32.0</td>\n",
       "      <td>0.0</td>\n",
       "      <td>14.0</td>\n",
       "      <td>0.0</td>\n",
       "      <td>0.0</td>\n",
       "      <td>0.0</td>\n",
       "      <td>...</td>\n",
       "      <td>0.0</td>\n",
       "      <td>0.0</td>\n",
       "      <td>1.0</td>\n",
       "      <td>0.0</td>\n",
       "      <td>1.0</td>\n",
       "      <td>0.0</td>\n",
       "      <td>0.0</td>\n",
       "      <td>0.0</td>\n",
       "      <td>0.0</td>\n",
       "      <td>0.0</td>\n",
       "    </tr>\n",
       "    <tr>\n",
       "      <th>yttrede</th>\n",
       "      <td>1.0</td>\n",
       "      <td>0.0</td>\n",
       "      <td>0.0</td>\n",
       "      <td>0.0</td>\n",
       "      <td>24.0</td>\n",
       "      <td>0.0</td>\n",
       "      <td>12.0</td>\n",
       "      <td>0.0</td>\n",
       "      <td>0.0</td>\n",
       "      <td>0.0</td>\n",
       "      <td>...</td>\n",
       "      <td>1.0</td>\n",
       "      <td>1.0</td>\n",
       "      <td>2.0</td>\n",
       "      <td>0.0</td>\n",
       "      <td>0.0</td>\n",
       "      <td>0.0</td>\n",
       "      <td>0.0</td>\n",
       "      <td>1.0</td>\n",
       "      <td>0.0</td>\n",
       "      <td>0.0</td>\n",
       "    </tr>\n",
       "    <tr>\n",
       "      <th>zart</th>\n",
       "      <td>1.0</td>\n",
       "      <td>0.0</td>\n",
       "      <td>0.0</td>\n",
       "      <td>0.0</td>\n",
       "      <td>28.0</td>\n",
       "      <td>0.0</td>\n",
       "      <td>15.0</td>\n",
       "      <td>0.0</td>\n",
       "      <td>0.0</td>\n",
       "      <td>0.0</td>\n",
       "      <td>...</td>\n",
       "      <td>0.0</td>\n",
       "      <td>0.0</td>\n",
       "      <td>1.0</td>\n",
       "      <td>0.0</td>\n",
       "      <td>0.0</td>\n",
       "      <td>0.0</td>\n",
       "      <td>0.0</td>\n",
       "      <td>0.0</td>\n",
       "      <td>0.0</td>\n",
       "      <td>0.0</td>\n",
       "    </tr>\n",
       "    <tr>\n",
       "      <th>zarteste</th>\n",
       "      <td>1.0</td>\n",
       "      <td>0.0</td>\n",
       "      <td>0.0</td>\n",
       "      <td>0.0</td>\n",
       "      <td>28.0</td>\n",
       "      <td>0.0</td>\n",
       "      <td>10.0</td>\n",
       "      <td>0.0</td>\n",
       "      <td>0.0</td>\n",
       "      <td>0.0</td>\n",
       "      <td>...</td>\n",
       "      <td>0.0</td>\n",
       "      <td>0.0</td>\n",
       "      <td>4.0</td>\n",
       "      <td>0.0</td>\n",
       "      <td>1.0</td>\n",
       "      <td>0.0</td>\n",
       "      <td>1.0</td>\n",
       "      <td>0.0</td>\n",
       "      <td>0.0</td>\n",
       "      <td>0.0</td>\n",
       "    </tr>\n",
       "    <tr>\n",
       "      <th>zitrende</th>\n",
       "      <td>2.0</td>\n",
       "      <td>0.0</td>\n",
       "      <td>0.0</td>\n",
       "      <td>0.0</td>\n",
       "      <td>12.0</td>\n",
       "      <td>0.0</td>\n",
       "      <td>15.0</td>\n",
       "      <td>0.0</td>\n",
       "      <td>0.0</td>\n",
       "      <td>0.0</td>\n",
       "      <td>...</td>\n",
       "      <td>0.0</td>\n",
       "      <td>0.0</td>\n",
       "      <td>0.0</td>\n",
       "      <td>0.0</td>\n",
       "      <td>0.0</td>\n",
       "      <td>0.0</td>\n",
       "      <td>0.0</td>\n",
       "      <td>0.0</td>\n",
       "      <td>0.0</td>\n",
       "      <td>0.0</td>\n",
       "    </tr>\n",
       "    <tr>\n",
       "      <th>zum</th>\n",
       "      <td>0.0</td>\n",
       "      <td>0.0</td>\n",
       "      <td>0.0</td>\n",
       "      <td>0.0</td>\n",
       "      <td>4.0</td>\n",
       "      <td>0.0</td>\n",
       "      <td>1.0</td>\n",
       "      <td>0.0</td>\n",
       "      <td>0.0</td>\n",
       "      <td>0.0</td>\n",
       "      <td>...</td>\n",
       "      <td>0.0</td>\n",
       "      <td>0.0</td>\n",
       "      <td>0.0</td>\n",
       "      <td>0.0</td>\n",
       "      <td>0.0</td>\n",
       "      <td>0.0</td>\n",
       "      <td>0.0</td>\n",
       "      <td>0.0</td>\n",
       "      <td>0.0</td>\n",
       "      <td>0.0</td>\n",
       "    </tr>\n",
       "    <tr>\n",
       "      <th>¤</th>\n",
       "      <td>0.0</td>\n",
       "      <td>3.0</td>\n",
       "      <td>0.0</td>\n",
       "      <td>0.0</td>\n",
       "      <td>29.0</td>\n",
       "      <td>0.0</td>\n",
       "      <td>15.0</td>\n",
       "      <td>0.0</td>\n",
       "      <td>0.0</td>\n",
       "      <td>0.0</td>\n",
       "      <td>...</td>\n",
       "      <td>2.0</td>\n",
       "      <td>3.0</td>\n",
       "      <td>3.0</td>\n",
       "      <td>0.0</td>\n",
       "      <td>2.0</td>\n",
       "      <td>0.0</td>\n",
       "      <td>0.0</td>\n",
       "      <td>1.0</td>\n",
       "      <td>0.0</td>\n",
       "      <td>0.0</td>\n",
       "    </tr>\n",
       "    <tr>\n",
       "      <th>¥</th>\n",
       "      <td>5216.0</td>\n",
       "      <td>128.0</td>\n",
       "      <td>31.0</td>\n",
       "      <td>31.0</td>\n",
       "      <td>82801.0</td>\n",
       "      <td>20.0</td>\n",
       "      <td>47093.0</td>\n",
       "      <td>5.0</td>\n",
       "      <td>0.0</td>\n",
       "      <td>0.0</td>\n",
       "      <td>...</td>\n",
       "      <td>826.0</td>\n",
       "      <td>1000.0</td>\n",
       "      <td>6690.0</td>\n",
       "      <td>2930.0</td>\n",
       "      <td>2193.0</td>\n",
       "      <td>2972.0</td>\n",
       "      <td>465.0</td>\n",
       "      <td>1328.0</td>\n",
       "      <td>154.0</td>\n",
       "      <td>2972.0</td>\n",
       "    </tr>\n",
       "    <tr>\n",
       "      <th>¦</th>\n",
       "      <td>3822.0</td>\n",
       "      <td>84.0</td>\n",
       "      <td>30.0</td>\n",
       "      <td>30.0</td>\n",
       "      <td>68704.0</td>\n",
       "      <td>21.0</td>\n",
       "      <td>38188.0</td>\n",
       "      <td>0.0</td>\n",
       "      <td>0.0</td>\n",
       "      <td>0.0</td>\n",
       "      <td>...</td>\n",
       "      <td>656.0</td>\n",
       "      <td>773.0</td>\n",
       "      <td>5680.0</td>\n",
       "      <td>2399.0</td>\n",
       "      <td>1741.0</td>\n",
       "      <td>2429.0</td>\n",
       "      <td>427.0</td>\n",
       "      <td>1122.0</td>\n",
       "      <td>134.0</td>\n",
       "      <td>2429.0</td>\n",
       "    </tr>\n",
       "    <tr>\n",
       "      <th>¨</th>\n",
       "      <td>0.0</td>\n",
       "      <td>0.0</td>\n",
       "      <td>0.0</td>\n",
       "      <td>0.0</td>\n",
       "      <td>17.0</td>\n",
       "      <td>0.0</td>\n",
       "      <td>7.0</td>\n",
       "      <td>0.0</td>\n",
       "      <td>0.0</td>\n",
       "      <td>0.0</td>\n",
       "      <td>...</td>\n",
       "      <td>0.0</td>\n",
       "      <td>0.0</td>\n",
       "      <td>2.0</td>\n",
       "      <td>0.0</td>\n",
       "      <td>1.0</td>\n",
       "      <td>0.0</td>\n",
       "      <td>0.0</td>\n",
       "      <td>0.0</td>\n",
       "      <td>0.0</td>\n",
       "      <td>0.0</td>\n",
       "    </tr>\n",
       "    <tr>\n",
       "      <th>©</th>\n",
       "      <td>53.0</td>\n",
       "      <td>3.0</td>\n",
       "      <td>0.0</td>\n",
       "      <td>0.0</td>\n",
       "      <td>743.0</td>\n",
       "      <td>0.0</td>\n",
       "      <td>396.0</td>\n",
       "      <td>0.0</td>\n",
       "      <td>0.0</td>\n",
       "      <td>0.0</td>\n",
       "      <td>...</td>\n",
       "      <td>12.0</td>\n",
       "      <td>13.0</td>\n",
       "      <td>88.0</td>\n",
       "      <td>18.0</td>\n",
       "      <td>18.0</td>\n",
       "      <td>18.0</td>\n",
       "      <td>1.0</td>\n",
       "      <td>16.0</td>\n",
       "      <td>2.0</td>\n",
       "      <td>18.0</td>\n",
       "    </tr>\n",
       "    <tr>\n",
       "      <th>«</th>\n",
       "      <td>107.0</td>\n",
       "      <td>10.0</td>\n",
       "      <td>2.0</td>\n",
       "      <td>2.0</td>\n",
       "      <td>1800.0</td>\n",
       "      <td>1.0</td>\n",
       "      <td>774.0</td>\n",
       "      <td>1.0</td>\n",
       "      <td>0.0</td>\n",
       "      <td>0.0</td>\n",
       "      <td>...</td>\n",
       "      <td>169.0</td>\n",
       "      <td>210.0</td>\n",
       "      <td>133.0</td>\n",
       "      <td>67.0</td>\n",
       "      <td>35.0</td>\n",
       "      <td>70.0</td>\n",
       "      <td>5.0</td>\n",
       "      <td>29.0</td>\n",
       "      <td>2.0</td>\n",
       "      <td>70.0</td>\n",
       "    </tr>\n",
       "    <tr>\n",
       "      <th>¶</th>\n",
       "      <td>5.0</td>\n",
       "      <td>1.0</td>\n",
       "      <td>0.0</td>\n",
       "      <td>0.0</td>\n",
       "      <td>36.0</td>\n",
       "      <td>0.0</td>\n",
       "      <td>22.0</td>\n",
       "      <td>0.0</td>\n",
       "      <td>0.0</td>\n",
       "      <td>0.0</td>\n",
       "      <td>...</td>\n",
       "      <td>5.0</td>\n",
       "      <td>5.0</td>\n",
       "      <td>7.0</td>\n",
       "      <td>2.0</td>\n",
       "      <td>3.0</td>\n",
       "      <td>2.0</td>\n",
       "      <td>0.0</td>\n",
       "      <td>2.0</td>\n",
       "      <td>0.0</td>\n",
       "      <td>2.0</td>\n",
       "    </tr>\n",
       "    <tr>\n",
       "      <th>¸</th>\n",
       "      <td>3425.0</td>\n",
       "      <td>84.0</td>\n",
       "      <td>40.0</td>\n",
       "      <td>40.0</td>\n",
       "      <td>60062.0</td>\n",
       "      <td>20.0</td>\n",
       "      <td>33362.0</td>\n",
       "      <td>3.0</td>\n",
       "      <td>0.0</td>\n",
       "      <td>0.0</td>\n",
       "      <td>...</td>\n",
       "      <td>582.0</td>\n",
       "      <td>700.0</td>\n",
       "      <td>5022.0</td>\n",
       "      <td>1939.0</td>\n",
       "      <td>1614.0</td>\n",
       "      <td>1963.0</td>\n",
       "      <td>373.0</td>\n",
       "      <td>913.0</td>\n",
       "      <td>112.0</td>\n",
       "      <td>1963.0</td>\n",
       "    </tr>\n",
       "    <tr>\n",
       "      <th>»</th>\n",
       "      <td>108.0</td>\n",
       "      <td>9.0</td>\n",
       "      <td>3.0</td>\n",
       "      <td>3.0</td>\n",
       "      <td>1771.0</td>\n",
       "      <td>1.0</td>\n",
       "      <td>769.0</td>\n",
       "      <td>1.0</td>\n",
       "      <td>0.0</td>\n",
       "      <td>0.0</td>\n",
       "      <td>...</td>\n",
       "      <td>177.0</td>\n",
       "      <td>201.0</td>\n",
       "      <td>132.0</td>\n",
       "      <td>67.0</td>\n",
       "      <td>34.0</td>\n",
       "      <td>70.0</td>\n",
       "      <td>5.0</td>\n",
       "      <td>29.0</td>\n",
       "      <td>2.0</td>\n",
       "      <td>70.0</td>\n",
       "    </tr>\n",
       "    <tr>\n",
       "      <th>Â</th>\n",
       "      <td>139.0</td>\n",
       "      <td>15.0</td>\n",
       "      <td>2.0</td>\n",
       "      <td>2.0</td>\n",
       "      <td>2098.0</td>\n",
       "      <td>1.0</td>\n",
       "      <td>904.0</td>\n",
       "      <td>1.0</td>\n",
       "      <td>0.0</td>\n",
       "      <td>0.0</td>\n",
       "      <td>...</td>\n",
       "      <td>201.0</td>\n",
       "      <td>266.0</td>\n",
       "      <td>154.0</td>\n",
       "      <td>72.0</td>\n",
       "      <td>36.0</td>\n",
       "      <td>75.0</td>\n",
       "      <td>8.0</td>\n",
       "      <td>36.0</td>\n",
       "      <td>4.0</td>\n",
       "      <td>75.0</td>\n",
       "    </tr>\n",
       "    <tr>\n",
       "      <th>Ã</th>\n",
       "      <td>788.0</td>\n",
       "      <td>15.0</td>\n",
       "      <td>9.0</td>\n",
       "      <td>9.0</td>\n",
       "      <td>13611.0</td>\n",
       "      <td>6.0</td>\n",
       "      <td>7622.0</td>\n",
       "      <td>2.0</td>\n",
       "      <td>0.0</td>\n",
       "      <td>0.0</td>\n",
       "      <td>...</td>\n",
       "      <td>132.0</td>\n",
       "      <td>154.0</td>\n",
       "      <td>2092.0</td>\n",
       "      <td>421.0</td>\n",
       "      <td>699.0</td>\n",
       "      <td>427.0</td>\n",
       "      <td>156.0</td>\n",
       "      <td>411.0</td>\n",
       "      <td>43.0</td>\n",
       "      <td>427.0</td>\n",
       "    </tr>\n",
       "    <tr>\n",
       "      <th>â</th>\n",
       "      <td>499.0</td>\n",
       "      <td>7.0</td>\n",
       "      <td>1.0</td>\n",
       "      <td>1.0</td>\n",
       "      <td>6146.0</td>\n",
       "      <td>0.0</td>\n",
       "      <td>3521.0</td>\n",
       "      <td>0.0</td>\n",
       "      <td>0.0</td>\n",
       "      <td>0.0</td>\n",
       "      <td>...</td>\n",
       "      <td>67.0</td>\n",
       "      <td>72.0</td>\n",
       "      <td>421.0</td>\n",
       "      <td>1176.0</td>\n",
       "      <td>138.0</td>\n",
       "      <td>1194.0</td>\n",
       "      <td>27.0</td>\n",
       "      <td>108.0</td>\n",
       "      <td>10.0</td>\n",
       "      <td>1194.0</td>\n",
       "    </tr>\n",
       "    <tr>\n",
       "      <th>˜</th>\n",
       "      <td>270.0</td>\n",
       "      <td>4.0</td>\n",
       "      <td>3.0</td>\n",
       "      <td>3.0</td>\n",
       "      <td>4322.0</td>\n",
       "      <td>2.0</td>\n",
       "      <td>2654.0</td>\n",
       "      <td>0.0</td>\n",
       "      <td>0.0</td>\n",
       "      <td>0.0</td>\n",
       "      <td>...</td>\n",
       "      <td>34.0</td>\n",
       "      <td>36.0</td>\n",
       "      <td>699.0</td>\n",
       "      <td>138.0</td>\n",
       "      <td>467.0</td>\n",
       "      <td>143.0</td>\n",
       "      <td>26.0</td>\n",
       "      <td>55.0</td>\n",
       "      <td>7.0</td>\n",
       "      <td>143.0</td>\n",
       "    </tr>\n",
       "    <tr>\n",
       "      <th>“</th>\n",
       "      <td>535.0</td>\n",
       "      <td>7.0</td>\n",
       "      <td>1.0</td>\n",
       "      <td>1.0</td>\n",
       "      <td>6245.0</td>\n",
       "      <td>0.0</td>\n",
       "      <td>3622.0</td>\n",
       "      <td>0.0</td>\n",
       "      <td>0.0</td>\n",
       "      <td>0.0</td>\n",
       "      <td>...</td>\n",
       "      <td>70.0</td>\n",
       "      <td>75.0</td>\n",
       "      <td>427.0</td>\n",
       "      <td>1194.0</td>\n",
       "      <td>143.0</td>\n",
       "      <td>1229.0</td>\n",
       "      <td>27.0</td>\n",
       "      <td>109.0</td>\n",
       "      <td>10.0</td>\n",
       "      <td>1229.0</td>\n",
       "    </tr>\n",
       "    <tr>\n",
       "      <th>†</th>\n",
       "      <td>51.0</td>\n",
       "      <td>1.0</td>\n",
       "      <td>0.0</td>\n",
       "      <td>0.0</td>\n",
       "      <td>985.0</td>\n",
       "      <td>0.0</td>\n",
       "      <td>538.0</td>\n",
       "      <td>0.0</td>\n",
       "      <td>0.0</td>\n",
       "      <td>0.0</td>\n",
       "      <td>...</td>\n",
       "      <td>5.0</td>\n",
       "      <td>8.0</td>\n",
       "      <td>156.0</td>\n",
       "      <td>27.0</td>\n",
       "      <td>26.0</td>\n",
       "      <td>27.0</td>\n",
       "      <td>71.0</td>\n",
       "      <td>16.0</td>\n",
       "      <td>0.0</td>\n",
       "      <td>27.0</td>\n",
       "    </tr>\n",
       "    <tr>\n",
       "      <th>…</th>\n",
       "      <td>168.0</td>\n",
       "      <td>3.0</td>\n",
       "      <td>1.0</td>\n",
       "      <td>1.0</td>\n",
       "      <td>2744.0</td>\n",
       "      <td>0.0</td>\n",
       "      <td>1389.0</td>\n",
       "      <td>0.0</td>\n",
       "      <td>0.0</td>\n",
       "      <td>0.0</td>\n",
       "      <td>...</td>\n",
       "      <td>29.0</td>\n",
       "      <td>36.0</td>\n",
       "      <td>411.0</td>\n",
       "      <td>108.0</td>\n",
       "      <td>55.0</td>\n",
       "      <td>109.0</td>\n",
       "      <td>16.0</td>\n",
       "      <td>238.0</td>\n",
       "      <td>5.0</td>\n",
       "      <td>109.0</td>\n",
       "    </tr>\n",
       "    <tr>\n",
       "      <th>‰</th>\n",
       "      <td>27.0</td>\n",
       "      <td>0.0</td>\n",
       "      <td>0.0</td>\n",
       "      <td>0.0</td>\n",
       "      <td>309.0</td>\n",
       "      <td>0.0</td>\n",
       "      <td>213.0</td>\n",
       "      <td>0.0</td>\n",
       "      <td>0.0</td>\n",
       "      <td>0.0</td>\n",
       "      <td>...</td>\n",
       "      <td>2.0</td>\n",
       "      <td>4.0</td>\n",
       "      <td>43.0</td>\n",
       "      <td>10.0</td>\n",
       "      <td>7.0</td>\n",
       "      <td>10.0</td>\n",
       "      <td>0.0</td>\n",
       "      <td>5.0</td>\n",
       "      <td>18.0</td>\n",
       "      <td>10.0</td>\n",
       "    </tr>\n",
       "    <tr>\n",
       "      <th>€</th>\n",
       "      <td>535.0</td>\n",
       "      <td>7.0</td>\n",
       "      <td>1.0</td>\n",
       "      <td>1.0</td>\n",
       "      <td>6245.0</td>\n",
       "      <td>0.0</td>\n",
       "      <td>3622.0</td>\n",
       "      <td>0.0</td>\n",
       "      <td>0.0</td>\n",
       "      <td>0.0</td>\n",
       "      <td>...</td>\n",
       "      <td>70.0</td>\n",
       "      <td>75.0</td>\n",
       "      <td>427.0</td>\n",
       "      <td>1194.0</td>\n",
       "      <td>143.0</td>\n",
       "      <td>1229.0</td>\n",
       "      <td>27.0</td>\n",
       "      <td>109.0</td>\n",
       "      <td>10.0</td>\n",
       "      <td>1229.0</td>\n",
       "    </tr>\n",
       "  </tbody>\n",
       "</table>\n",
       "<p>13627 rows × 13627 columns</p>\n",
       "</div>"
      ],
      "text/plain": [
       "                 !      '     (     )         ,     -        .    /   05    1  \\\n",
       "!           2448.0   30.0   0.0   0.0   10459.0   1.0   8732.0  0.0  0.0  0.0   \n",
       "'             30.0   27.0   0.0   0.0     260.0   0.0    133.0  0.0  0.0  0.0   \n",
       "(              0.0    0.0  23.0  23.0      85.0   3.0     48.0  4.0  0.0  0.0   \n",
       ")              0.0    0.0  23.0  23.0      85.0   3.0     48.0  4.0  0.0  0.0   \n",
       ",          10459.0  260.0  85.0  85.0  178616.0  42.0  94849.0  2.0  0.0  4.0   \n",
       "-              1.0    0.0   3.0   3.0      42.0  22.0     27.0  1.0  4.0  0.0   \n",
       ".           8732.0  133.0  48.0  48.0   94849.0  27.0  97557.0  9.0  0.0  1.0   \n",
       "/              0.0    0.0   4.0   4.0       2.0   1.0      9.0  4.0  0.0  0.0   \n",
       "05             0.0    0.0   0.0   0.0       0.0   4.0      0.0  0.0  1.0  0.0   \n",
       "1              0.0    0.0   0.0   0.0       4.0   0.0      1.0  0.0  0.0  5.0   \n",
       "10             0.0    0.0   0.0   0.0      19.0   0.0      7.0  0.0  0.0  0.0   \n",
       "100            3.0    0.0   0.0   0.0       2.0   0.0      4.0  0.0  0.0  0.0   \n",
       "101            3.0    0.0   0.0   0.0       9.0   0.0      8.0  0.0  0.0  0.0   \n",
       "102            0.0    0.0   0.0   0.0       9.0   0.0     11.0  0.0  0.0  0.0   \n",
       "103            1.0    0.0   0.0   0.0      31.0   0.0     21.0  0.0  0.0  0.0   \n",
       "104            0.0    0.0   0.0   0.0       4.0   0.0      4.0  0.0  0.0  0.0   \n",
       "105            0.0    0.0   0.0   0.0      28.0   0.0      6.0  0.0  0.0  0.0   \n",
       "106            0.0    0.0   0.0   0.0      28.0   0.0     12.0  0.0  0.0  0.0   \n",
       "107            5.0    1.0   0.0   0.0      62.0   0.0     27.0  0.0  0.0  0.0   \n",
       "108            2.0    0.0   0.0   0.0      33.0   0.0     19.0  0.0  0.0  0.0   \n",
       "109            2.0    0.0   0.0   0.0      24.0   0.0     12.0  0.0  0.0  0.0   \n",
       "11             0.0    0.0   1.0   1.0      68.0   0.0     30.0  0.0  0.0  0.0   \n",
       "110            3.0    0.0   0.0   0.0      69.0   0.0     39.0  0.0  0.0  0.0   \n",
       "111            1.0    0.0   0.0   0.0      22.0   0.0     14.0  0.0  0.0  0.0   \n",
       "112            6.0    0.0   0.0   0.0      28.0   0.0     26.0  0.0  0.0  0.0   \n",
       "113            7.0    0.0   0.0   0.0      35.0   0.0     16.0  0.0  0.0  0.0   \n",
       "114            0.0    0.0   0.0   0.0       6.0   0.0     10.0  0.0  0.0  0.0   \n",
       "115            4.0    0.0   0.0   0.0      25.0   0.0     23.0  0.0  0.0  0.0   \n",
       "116            2.0    0.0   0.0   0.0      11.0   0.0      6.0  0.0  0.0  0.0   \n",
       "117            0.0    0.0   0.0   0.0      51.0   0.0     26.0  0.0  0.0  0.0   \n",
       "...            ...    ...   ...   ...       ...   ...      ...  ...  ...  ...   \n",
       "ypperlige      2.0    0.0   0.0   0.0      27.0   0.0     20.0  0.0  0.0  0.0   \n",
       "yppige         1.0    0.0   0.0   0.0      28.0   0.0     18.0  0.0  0.0  0.0   \n",
       "yppigt         0.0    0.0   0.0   0.0      29.0   0.0     10.0  0.0  0.0  0.0   \n",
       "yste           1.0    0.0   0.0   0.0      20.0   0.0      6.0  0.0  0.0  0.0   \n",
       "ytrede         1.0    0.0   0.0   0.0      25.0   0.0     13.0  0.0  0.0  0.0   \n",
       "ytrer          3.0    0.0   0.0   0.0      11.0   0.0     10.0  0.0  0.0  0.0   \n",
       "ytret          0.0    0.0   0.0   0.0      32.0   0.0     14.0  0.0  0.0  0.0   \n",
       "yttrede        1.0    0.0   0.0   0.0      24.0   0.0     12.0  0.0  0.0  0.0   \n",
       "zart           1.0    0.0   0.0   0.0      28.0   0.0     15.0  0.0  0.0  0.0   \n",
       "zarteste       1.0    0.0   0.0   0.0      28.0   0.0     10.0  0.0  0.0  0.0   \n",
       "zitrende       2.0    0.0   0.0   0.0      12.0   0.0     15.0  0.0  0.0  0.0   \n",
       "zum            0.0    0.0   0.0   0.0       4.0   0.0      1.0  0.0  0.0  0.0   \n",
       "¤              0.0    3.0   0.0   0.0      29.0   0.0     15.0  0.0  0.0  0.0   \n",
       "¥           5216.0  128.0  31.0  31.0   82801.0  20.0  47093.0  5.0  0.0  0.0   \n",
       "¦           3822.0   84.0  30.0  30.0   68704.0  21.0  38188.0  0.0  0.0  0.0   \n",
       "¨              0.0    0.0   0.0   0.0      17.0   0.0      7.0  0.0  0.0  0.0   \n",
       "©             53.0    3.0   0.0   0.0     743.0   0.0    396.0  0.0  0.0  0.0   \n",
       "«            107.0   10.0   2.0   2.0    1800.0   1.0    774.0  1.0  0.0  0.0   \n",
       "¶              5.0    1.0   0.0   0.0      36.0   0.0     22.0  0.0  0.0  0.0   \n",
       "¸           3425.0   84.0  40.0  40.0   60062.0  20.0  33362.0  3.0  0.0  0.0   \n",
       "»            108.0    9.0   3.0   3.0    1771.0   1.0    769.0  1.0  0.0  0.0   \n",
       "Â            139.0   15.0   2.0   2.0    2098.0   1.0    904.0  1.0  0.0  0.0   \n",
       "Ã            788.0   15.0   9.0   9.0   13611.0   6.0   7622.0  2.0  0.0  0.0   \n",
       "â            499.0    7.0   1.0   1.0    6146.0   0.0   3521.0  0.0  0.0  0.0   \n",
       "˜            270.0    4.0   3.0   3.0    4322.0   2.0   2654.0  0.0  0.0  0.0   \n",
       "“            535.0    7.0   1.0   1.0    6245.0   0.0   3622.0  0.0  0.0  0.0   \n",
       "†             51.0    1.0   0.0   0.0     985.0   0.0    538.0  0.0  0.0  0.0   \n",
       "…            168.0    3.0   1.0   1.0    2744.0   0.0   1389.0  0.0  0.0  0.0   \n",
       "‰             27.0    0.0   0.0   0.0     309.0   0.0    213.0  0.0  0.0  0.0   \n",
       "€            535.0    7.0   1.0   1.0    6245.0   0.0   3622.0  0.0  0.0  0.0   \n",
       "\n",
       "           ...       »       Â        Ã       â       ˜       “      †  \\\n",
       "!          ...   108.0   139.0    788.0   499.0   270.0   535.0   51.0   \n",
       "'          ...     9.0    15.0     15.0     7.0     4.0     7.0    1.0   \n",
       "(          ...     3.0     2.0      9.0     1.0     3.0     1.0    0.0   \n",
       ")          ...     3.0     2.0      9.0     1.0     3.0     1.0    0.0   \n",
       ",          ...  1771.0  2098.0  13611.0  6146.0  4322.0  6245.0  985.0   \n",
       "-          ...     1.0     1.0      6.0     0.0     2.0     0.0    0.0   \n",
       ".          ...   769.0   904.0   7622.0  3521.0  2654.0  3622.0  538.0   \n",
       "/          ...     1.0     1.0      2.0     0.0     0.0     0.0    0.0   \n",
       "05         ...     0.0     0.0      0.0     0.0     0.0     0.0    0.0   \n",
       "1          ...     0.0     0.0      0.0     0.0     0.0     0.0    0.0   \n",
       "10         ...     0.0     0.0      1.0     0.0     1.0     0.0    0.0   \n",
       "100        ...     0.0     0.0      0.0     0.0     0.0     0.0    0.0   \n",
       "101        ...     0.0     0.0      0.0     0.0     0.0     0.0    0.0   \n",
       "102        ...     0.0     0.0      0.0     0.0     0.0     0.0    0.0   \n",
       "103        ...     0.0     0.0      3.0     4.0     0.0     4.0    0.0   \n",
       "104        ...     0.0     0.0      0.0     0.0     0.0     0.0    0.0   \n",
       "105        ...     1.0     1.0      1.0     0.0     1.0     0.0    0.0   \n",
       "106        ...     0.0     0.0      1.0     4.0     0.0     4.0    0.0   \n",
       "107        ...     2.0     3.0      5.0     0.0     1.0     0.0    0.0   \n",
       "108        ...     0.0     0.0      2.0     1.0     1.0     1.0    0.0   \n",
       "109        ...     1.0     1.0      2.0     0.0     1.0     0.0    0.0   \n",
       "11         ...     1.0     1.0      2.0     3.0     0.0     3.0    0.0   \n",
       "110        ...     0.0     0.0      9.0     2.0     5.0     2.0    1.0   \n",
       "111        ...     0.0     0.0      3.0     0.0     2.0     0.0    0.0   \n",
       "112        ...     0.0     0.0      0.0     3.0     0.0     3.0    0.0   \n",
       "113        ...     1.0     1.0      3.0     0.0     2.0     0.0    0.0   \n",
       "114        ...     0.0     0.0      3.0     0.0     3.0     0.0    0.0   \n",
       "115        ...     1.0     1.0      0.0     1.0     0.0     1.0    0.0   \n",
       "116        ...     0.0     0.0      0.0     3.0     0.0     3.0    0.0   \n",
       "117        ...     1.0     1.0     10.0     0.0     5.0     0.0    0.0   \n",
       "...        ...     ...     ...      ...     ...     ...     ...    ...   \n",
       "ypperlige  ...     1.0     1.0      2.0     2.0     1.0     2.0    0.0   \n",
       "yppige     ...     1.0     1.0      2.0     1.0     1.0     1.0    0.0   \n",
       "yppigt     ...     0.0     0.0      3.0     0.0     0.0     0.0    0.0   \n",
       "yste       ...     0.0     0.0      0.0     0.0     0.0     0.0    0.0   \n",
       "ytrede     ...     0.0     0.0      1.0     0.0     0.0     0.0    0.0   \n",
       "ytrer      ...     0.0     0.0      1.0     1.0     1.0     1.0    0.0   \n",
       "ytret      ...     0.0     0.0      1.0     0.0     1.0     0.0    0.0   \n",
       "yttrede    ...     1.0     1.0      2.0     0.0     0.0     0.0    0.0   \n",
       "zart       ...     0.0     0.0      1.0     0.0     0.0     0.0    0.0   \n",
       "zarteste   ...     0.0     0.0      4.0     0.0     1.0     0.0    1.0   \n",
       "zitrende   ...     0.0     0.0      0.0     0.0     0.0     0.0    0.0   \n",
       "zum        ...     0.0     0.0      0.0     0.0     0.0     0.0    0.0   \n",
       "¤          ...     2.0     3.0      3.0     0.0     2.0     0.0    0.0   \n",
       "¥          ...   826.0  1000.0   6690.0  2930.0  2193.0  2972.0  465.0   \n",
       "¦          ...   656.0   773.0   5680.0  2399.0  1741.0  2429.0  427.0   \n",
       "¨          ...     0.0     0.0      2.0     0.0     1.0     0.0    0.0   \n",
       "©          ...    12.0    13.0     88.0    18.0    18.0    18.0    1.0   \n",
       "«          ...   169.0   210.0    133.0    67.0    35.0    70.0    5.0   \n",
       "¶          ...     5.0     5.0      7.0     2.0     3.0     2.0    0.0   \n",
       "¸          ...   582.0   700.0   5022.0  1939.0  1614.0  1963.0  373.0   \n",
       "»          ...   177.0   201.0    132.0    67.0    34.0    70.0    5.0   \n",
       "Â          ...   201.0   266.0    154.0    72.0    36.0    75.0    8.0   \n",
       "Ã          ...   132.0   154.0   2092.0   421.0   699.0   427.0  156.0   \n",
       "â          ...    67.0    72.0    421.0  1176.0   138.0  1194.0   27.0   \n",
       "˜          ...    34.0    36.0    699.0   138.0   467.0   143.0   26.0   \n",
       "“          ...    70.0    75.0    427.0  1194.0   143.0  1229.0   27.0   \n",
       "†          ...     5.0     8.0    156.0    27.0    26.0    27.0   71.0   \n",
       "…          ...    29.0    36.0    411.0   108.0    55.0   109.0   16.0   \n",
       "‰          ...     2.0     4.0     43.0    10.0     7.0    10.0    0.0   \n",
       "€          ...    70.0    75.0    427.0  1194.0   143.0  1229.0   27.0   \n",
       "\n",
       "                …      ‰       €  \n",
       "!           168.0   27.0   535.0  \n",
       "'             3.0    0.0     7.0  \n",
       "(             1.0    0.0     1.0  \n",
       ")             1.0    0.0     1.0  \n",
       ",          2744.0  309.0  6245.0  \n",
       "-             0.0    0.0     0.0  \n",
       ".          1389.0  213.0  3622.0  \n",
       "/             0.0    0.0     0.0  \n",
       "05            0.0    0.0     0.0  \n",
       "1             0.0    0.0     0.0  \n",
       "10            0.0    0.0     0.0  \n",
       "100           0.0    0.0     0.0  \n",
       "101           0.0    0.0     0.0  \n",
       "102           0.0    0.0     0.0  \n",
       "103           3.0    0.0     4.0  \n",
       "104           0.0    0.0     0.0  \n",
       "105           0.0    0.0     0.0  \n",
       "106           1.0    0.0     4.0  \n",
       "107           1.0    0.0     0.0  \n",
       "108           0.0    0.0     1.0  \n",
       "109           0.0    0.0     0.0  \n",
       "11            2.0    0.0     3.0  \n",
       "110           0.0    0.0     2.0  \n",
       "111           1.0    0.0     0.0  \n",
       "112           0.0    0.0     3.0  \n",
       "113           0.0    0.0     0.0  \n",
       "114           0.0    0.0     0.0  \n",
       "115           0.0    0.0     1.0  \n",
       "116           0.0    0.0     3.0  \n",
       "117           2.0    0.0     0.0  \n",
       "...           ...    ...     ...  \n",
       "ypperlige     0.0    0.0     2.0  \n",
       "yppige        0.0    0.0     1.0  \n",
       "yppigt        1.0    0.0     0.0  \n",
       "yste          0.0    0.0     0.0  \n",
       "ytrede        1.0    0.0     0.0  \n",
       "ytrer         0.0    0.0     1.0  \n",
       "ytret         0.0    0.0     0.0  \n",
       "yttrede       1.0    0.0     0.0  \n",
       "zart          0.0    0.0     0.0  \n",
       "zarteste      0.0    0.0     0.0  \n",
       "zitrende      0.0    0.0     0.0  \n",
       "zum           0.0    0.0     0.0  \n",
       "¤             1.0    0.0     0.0  \n",
       "¥          1328.0  154.0  2972.0  \n",
       "¦          1122.0  134.0  2429.0  \n",
       "¨             0.0    0.0     0.0  \n",
       "©            16.0    2.0    18.0  \n",
       "«            29.0    2.0    70.0  \n",
       "¶             2.0    0.0     2.0  \n",
       "¸           913.0  112.0  1963.0  \n",
       "»            29.0    2.0    70.0  \n",
       "Â            36.0    4.0    75.0  \n",
       "Ã           411.0   43.0   427.0  \n",
       "â           108.0   10.0  1194.0  \n",
       "˜            55.0    7.0   143.0  \n",
       "“           109.0   10.0  1229.0  \n",
       "†            16.0    0.0    27.0  \n",
       "…           238.0    5.0   109.0  \n",
       "‰             5.0   18.0    10.0  \n",
       "€           109.0   10.0  1229.0  \n",
       "\n",
       "[13627 rows x 13627 columns]"
      ]
     },
     "execution_count": 27,
     "metadata": {},
     "output_type": "execute_result"
    }
   ],
   "source": [
    "amtdot"
   ]
  },
  {
   "cell_type": "code",
   "execution_count": 9,
   "metadata": {},
   "outputs": [],
   "source": [
    "amt = paragraphs('ad3.txt')"
   ]
  },
  {
   "cell_type": "code",
   "execution_count": 14,
   "metadata": {},
   "outputs": [
    {
     "data": {
      "text/html": [
       "<div>\n",
       "<style scoped>\n",
       "    .dataframe tbody tr th:only-of-type {\n",
       "        vertical-align: middle;\n",
       "    }\n",
       "\n",
       "    .dataframe tbody tr th {\n",
       "        vertical-align: top;\n",
       "    }\n",
       "\n",
       "    .dataframe thead th {\n",
       "        text-align: right;\n",
       "    }\n",
       "</style>\n",
       "<table border=\"1\" class=\"dataframe\">\n",
       "  <thead>\n",
       "    <tr style=\"text-align: right;\">\n",
       "      <th></th>\n",
       "      <th>0</th>\n",
       "      <th>1</th>\n",
       "      <th>2</th>\n",
       "      <th>3</th>\n",
       "      <th>4</th>\n",
       "      <th>5</th>\n",
       "      <th>6</th>\n",
       "      <th>7</th>\n",
       "      <th>8</th>\n",
       "      <th>9</th>\n",
       "      <th>...</th>\n",
       "      <th>555</th>\n",
       "      <th>556</th>\n",
       "      <th>557</th>\n",
       "      <th>558</th>\n",
       "      <th>559</th>\n",
       "      <th>560</th>\n",
       "      <th>561</th>\n",
       "      <th>562</th>\n",
       "      <th>563</th>\n",
       "      <th>564</th>\n",
       "    </tr>\n",
       "  </thead>\n",
       "  <tbody>\n",
       "    <tr>\n",
       "      <th>0</th>\n",
       "      <td>Camilla</td>\n",
       "      <td>Collett</td>\n",
       "      <td>:</td>\n",
       "      <td>Amtmandens</td>\n",
       "      <td>DÃ</td>\n",
       "      <td>¸</td>\n",
       "      <td>tre</td>\n",
       "      <td>(</td>\n",
       "      <td>3.</td>\n",
       "      <td>utgave</td>\n",
       "      <td>...</td>\n",
       "      <td>None</td>\n",
       "      <td>None</td>\n",
       "      <td>None</td>\n",
       "      <td>None</td>\n",
       "      <td>None</td>\n",
       "      <td>None</td>\n",
       "      <td>None</td>\n",
       "      <td>None</td>\n",
       "      <td>None</td>\n",
       "      <td>None</td>\n",
       "    </tr>\n",
       "    <tr>\n",
       "      <th>1</th>\n",
       "      <td>Det</td>\n",
       "      <td>norske</td>\n",
       "      <td>sprÃ</td>\n",
       "      <td>¥</td>\n",
       "      <td>k</td>\n",
       "      <td>-</td>\n",
       "      <td>og</td>\n",
       "      <td>litteraturselskap</td>\n",
       "      <td>,</td>\n",
       "      <td>2013</td>\n",
       "      <td>...</td>\n",
       "      <td>None</td>\n",
       "      <td>None</td>\n",
       "      <td>None</td>\n",
       "      <td>None</td>\n",
       "      <td>None</td>\n",
       "      <td>None</td>\n",
       "      <td>None</td>\n",
       "      <td>None</td>\n",
       "      <td>None</td>\n",
       "      <td>None</td>\n",
       "    </tr>\n",
       "    <tr>\n",
       "      <th>2</th>\n",
       "      <td>Utgitt</td>\n",
       "      <td>i</td>\n",
       "      <td>samarbeid</td>\n",
       "      <td>med</td>\n",
       "      <td>Nasjonalbiblioteket</td>\n",
       "      <td>None</td>\n",
       "      <td>None</td>\n",
       "      <td>None</td>\n",
       "      <td>None</td>\n",
       "      <td>None</td>\n",
       "      <td>...</td>\n",
       "      <td>None</td>\n",
       "      <td>None</td>\n",
       "      <td>None</td>\n",
       "      <td>None</td>\n",
       "      <td>None</td>\n",
       "      <td>None</td>\n",
       "      <td>None</td>\n",
       "      <td>None</td>\n",
       "      <td>None</td>\n",
       "      <td>None</td>\n",
       "    </tr>\n",
       "    <tr>\n",
       "      <th>3</th>\n",
       "      <td>ISBN</td>\n",
       "      <td>:</td>\n",
       "      <td>978</td>\n",
       "      <td>-</td>\n",
       "      <td>82</td>\n",
       "      <td>-</td>\n",
       "      <td>93134</td>\n",
       "      <td>-</td>\n",
       "      <td>05</td>\n",
       "      <td>-</td>\n",
       "      <td>...</td>\n",
       "      <td>None</td>\n",
       "      <td>None</td>\n",
       "      <td>None</td>\n",
       "      <td>None</td>\n",
       "      <td>None</td>\n",
       "      <td>None</td>\n",
       "      <td>None</td>\n",
       "      <td>None</td>\n",
       "      <td>None</td>\n",
       "      <td>None</td>\n",
       "    </tr>\n",
       "    <tr>\n",
       "      <th>4</th>\n",
       "      <td>Teksten</td>\n",
       "      <td>er</td>\n",
       "      <td>lastet</td>\n",
       "      <td>ned</td>\n",
       "      <td>fra</td>\n",
       "      <td>bokselskap.no</td>\n",
       "      <td>None</td>\n",
       "      <td>None</td>\n",
       "      <td>None</td>\n",
       "      <td>None</td>\n",
       "      <td>...</td>\n",
       "      <td>None</td>\n",
       "      <td>None</td>\n",
       "      <td>None</td>\n",
       "      <td>None</td>\n",
       "      <td>None</td>\n",
       "      <td>None</td>\n",
       "      <td>None</td>\n",
       "      <td>None</td>\n",
       "      <td>None</td>\n",
       "      <td>None</td>\n",
       "    </tr>\n",
       "    <tr>\n",
       "      <th>5</th>\n",
       "      <td>Camilla</td>\n",
       "      <td>Collett</td>\n",
       "      <td>None</td>\n",
       "      <td>None</td>\n",
       "      <td>None</td>\n",
       "      <td>None</td>\n",
       "      <td>None</td>\n",
       "      <td>None</td>\n",
       "      <td>None</td>\n",
       "      <td>None</td>\n",
       "      <td>...</td>\n",
       "      <td>None</td>\n",
       "      <td>None</td>\n",
       "      <td>None</td>\n",
       "      <td>None</td>\n",
       "      <td>None</td>\n",
       "      <td>None</td>\n",
       "      <td>None</td>\n",
       "      <td>None</td>\n",
       "      <td>None</td>\n",
       "      <td>None</td>\n",
       "    </tr>\n",
       "    <tr>\n",
       "      <th>6</th>\n",
       "      <td>Amtmandens</td>\n",
       "      <td>DÃ</td>\n",
       "      <td>¸</td>\n",
       "      <td>tre</td>\n",
       "      <td>None</td>\n",
       "      <td>None</td>\n",
       "      <td>None</td>\n",
       "      <td>None</td>\n",
       "      <td>None</td>\n",
       "      <td>None</td>\n",
       "      <td>...</td>\n",
       "      <td>None</td>\n",
       "      <td>None</td>\n",
       "      <td>None</td>\n",
       "      <td>None</td>\n",
       "      <td>None</td>\n",
       "      <td>None</td>\n",
       "      <td>None</td>\n",
       "      <td>None</td>\n",
       "      <td>None</td>\n",
       "      <td>None</td>\n",
       "    </tr>\n",
       "    <tr>\n",
       "      <th>7</th>\n",
       "      <td>(</td>\n",
       "      <td>tredjeutgavens</td>\n",
       "      <td>versjon</td>\n",
       "      <td>,</td>\n",
       "      <td>fÃ</td>\n",
       "      <td>¸</td>\n",
       "      <td>rst</td>\n",
       "      <td>utgitt</td>\n",
       "      <td>1879</td>\n",
       "      <td>)</td>\n",
       "      <td>...</td>\n",
       "      <td>None</td>\n",
       "      <td>None</td>\n",
       "      <td>None</td>\n",
       "      <td>None</td>\n",
       "      <td>None</td>\n",
       "      <td>None</td>\n",
       "      <td>None</td>\n",
       "      <td>None</td>\n",
       "      <td>None</td>\n",
       "      <td>None</td>\n",
       "    </tr>\n",
       "    <tr>\n",
       "      <th>8</th>\n",
       "      <td>2013</td>\n",
       "      <td>None</td>\n",
       "      <td>None</td>\n",
       "      <td>None</td>\n",
       "      <td>None</td>\n",
       "      <td>None</td>\n",
       "      <td>None</td>\n",
       "      <td>None</td>\n",
       "      <td>None</td>\n",
       "      <td>None</td>\n",
       "      <td>...</td>\n",
       "      <td>None</td>\n",
       "      <td>None</td>\n",
       "      <td>None</td>\n",
       "      <td>None</td>\n",
       "      <td>None</td>\n",
       "      <td>None</td>\n",
       "      <td>None</td>\n",
       "      <td>None</td>\n",
       "      <td>None</td>\n",
       "      <td>None</td>\n",
       "    </tr>\n",
       "    <tr>\n",
       "      <th>9</th>\n",
       "      <td>None</td>\n",
       "      <td>None</td>\n",
       "      <td>None</td>\n",
       "      <td>None</td>\n",
       "      <td>None</td>\n",
       "      <td>None</td>\n",
       "      <td>None</td>\n",
       "      <td>None</td>\n",
       "      <td>None</td>\n",
       "      <td>None</td>\n",
       "      <td>...</td>\n",
       "      <td>None</td>\n",
       "      <td>None</td>\n",
       "      <td>None</td>\n",
       "      <td>None</td>\n",
       "      <td>None</td>\n",
       "      <td>None</td>\n",
       "      <td>None</td>\n",
       "      <td>None</td>\n",
       "      <td>None</td>\n",
       "      <td>None</td>\n",
       "    </tr>\n",
       "    <tr>\n",
       "      <th>10</th>\n",
       "      <td>Om</td>\n",
       "      <td>denne</td>\n",
       "      <td>utgaven</td>\n",
       "      <td>None</td>\n",
       "      <td>None</td>\n",
       "      <td>None</td>\n",
       "      <td>None</td>\n",
       "      <td>None</td>\n",
       "      <td>None</td>\n",
       "      <td>None</td>\n",
       "      <td>...</td>\n",
       "      <td>None</td>\n",
       "      <td>None</td>\n",
       "      <td>None</td>\n",
       "      <td>None</td>\n",
       "      <td>None</td>\n",
       "      <td>None</td>\n",
       "      <td>None</td>\n",
       "      <td>None</td>\n",
       "      <td>None</td>\n",
       "      <td>None</td>\n",
       "    </tr>\n",
       "    <tr>\n",
       "      <th>11</th>\n",
       "      <td>Forord</td>\n",
       "      <td>None</td>\n",
       "      <td>None</td>\n",
       "      <td>None</td>\n",
       "      <td>None</td>\n",
       "      <td>None</td>\n",
       "      <td>None</td>\n",
       "      <td>None</td>\n",
       "      <td>None</td>\n",
       "      <td>None</td>\n",
       "      <td>...</td>\n",
       "      <td>None</td>\n",
       "      <td>None</td>\n",
       "      <td>None</td>\n",
       "      <td>None</td>\n",
       "      <td>None</td>\n",
       "      <td>None</td>\n",
       "      <td>None</td>\n",
       "      <td>None</td>\n",
       "      <td>None</td>\n",
       "      <td>None</td>\n",
       "    </tr>\n",
       "    <tr>\n",
       "      <th>12</th>\n",
       "      <td>FÃ</td>\n",
       "      <td>¸</td>\n",
       "      <td>rste</td>\n",
       "      <td>del</td>\n",
       "      <td>None</td>\n",
       "      <td>None</td>\n",
       "      <td>None</td>\n",
       "      <td>None</td>\n",
       "      <td>None</td>\n",
       "      <td>None</td>\n",
       "      <td>...</td>\n",
       "      <td>None</td>\n",
       "      <td>None</td>\n",
       "      <td>None</td>\n",
       "      <td>None</td>\n",
       "      <td>None</td>\n",
       "      <td>None</td>\n",
       "      <td>None</td>\n",
       "      <td>None</td>\n",
       "      <td>None</td>\n",
       "      <td>None</td>\n",
       "    </tr>\n",
       "    <tr>\n",
       "      <th>13</th>\n",
       "      <td>Del</td>\n",
       "      <td>I</td>\n",
       "      <td>,</td>\n",
       "      <td>kap.</td>\n",
       "      <td>1</td>\n",
       "      <td>None</td>\n",
       "      <td>None</td>\n",
       "      <td>None</td>\n",
       "      <td>None</td>\n",
       "      <td>None</td>\n",
       "      <td>...</td>\n",
       "      <td>None</td>\n",
       "      <td>None</td>\n",
       "      <td>None</td>\n",
       "      <td>None</td>\n",
       "      <td>None</td>\n",
       "      <td>None</td>\n",
       "      <td>None</td>\n",
       "      <td>None</td>\n",
       "      <td>None</td>\n",
       "      <td>None</td>\n",
       "    </tr>\n",
       "    <tr>\n",
       "      <th>14</th>\n",
       "      <td>Del</td>\n",
       "      <td>I</td>\n",
       "      <td>,</td>\n",
       "      <td>kap.</td>\n",
       "      <td>2</td>\n",
       "      <td>None</td>\n",
       "      <td>None</td>\n",
       "      <td>None</td>\n",
       "      <td>None</td>\n",
       "      <td>None</td>\n",
       "      <td>...</td>\n",
       "      <td>None</td>\n",
       "      <td>None</td>\n",
       "      <td>None</td>\n",
       "      <td>None</td>\n",
       "      <td>None</td>\n",
       "      <td>None</td>\n",
       "      <td>None</td>\n",
       "      <td>None</td>\n",
       "      <td>None</td>\n",
       "      <td>None</td>\n",
       "    </tr>\n",
       "    <tr>\n",
       "      <th>15</th>\n",
       "      <td>Del</td>\n",
       "      <td>I</td>\n",
       "      <td>,</td>\n",
       "      <td>kap.</td>\n",
       "      <td>3</td>\n",
       "      <td>None</td>\n",
       "      <td>None</td>\n",
       "      <td>None</td>\n",
       "      <td>None</td>\n",
       "      <td>None</td>\n",
       "      <td>...</td>\n",
       "      <td>None</td>\n",
       "      <td>None</td>\n",
       "      <td>None</td>\n",
       "      <td>None</td>\n",
       "      <td>None</td>\n",
       "      <td>None</td>\n",
       "      <td>None</td>\n",
       "      <td>None</td>\n",
       "      <td>None</td>\n",
       "      <td>None</td>\n",
       "    </tr>\n",
       "    <tr>\n",
       "      <th>16</th>\n",
       "      <td>Del</td>\n",
       "      <td>I</td>\n",
       "      <td>,</td>\n",
       "      <td>kap.</td>\n",
       "      <td>4</td>\n",
       "      <td>(</td>\n",
       "      <td>Af</td>\n",
       "      <td>Georgs</td>\n",
       "      <td>Optegnelser</td>\n",
       "      <td>til</td>\n",
       "      <td>...</td>\n",
       "      <td>None</td>\n",
       "      <td>None</td>\n",
       "      <td>None</td>\n",
       "      <td>None</td>\n",
       "      <td>None</td>\n",
       "      <td>None</td>\n",
       "      <td>None</td>\n",
       "      <td>None</td>\n",
       "      <td>None</td>\n",
       "      <td>None</td>\n",
       "    </tr>\n",
       "    <tr>\n",
       "      <th>17</th>\n",
       "      <td>Del</td>\n",
       "      <td>I</td>\n",
       "      <td>,</td>\n",
       "      <td>kap.</td>\n",
       "      <td>5</td>\n",
       "      <td>None</td>\n",
       "      <td>None</td>\n",
       "      <td>None</td>\n",
       "      <td>None</td>\n",
       "      <td>None</td>\n",
       "      <td>...</td>\n",
       "      <td>None</td>\n",
       "      <td>None</td>\n",
       "      <td>None</td>\n",
       "      <td>None</td>\n",
       "      <td>None</td>\n",
       "      <td>None</td>\n",
       "      <td>None</td>\n",
       "      <td>None</td>\n",
       "      <td>None</td>\n",
       "      <td>None</td>\n",
       "    </tr>\n",
       "    <tr>\n",
       "      <th>18</th>\n",
       "      <td>Del</td>\n",
       "      <td>I</td>\n",
       "      <td>,</td>\n",
       "      <td>kap.</td>\n",
       "      <td>6</td>\n",
       "      <td>(</td>\n",
       "      <td>Til</td>\n",
       "      <td>MÃ</td>\n",
       "      <td>¸</td>\n",
       "      <td>ller</td>\n",
       "      <td>...</td>\n",
       "      <td>None</td>\n",
       "      <td>None</td>\n",
       "      <td>None</td>\n",
       "      <td>None</td>\n",
       "      <td>None</td>\n",
       "      <td>None</td>\n",
       "      <td>None</td>\n",
       "      <td>None</td>\n",
       "      <td>None</td>\n",
       "      <td>None</td>\n",
       "    </tr>\n",
       "    <tr>\n",
       "      <th>19</th>\n",
       "      <td>Del</td>\n",
       "      <td>I</td>\n",
       "      <td>,</td>\n",
       "      <td>kap.</td>\n",
       "      <td>7</td>\n",
       "      <td>(</td>\n",
       "      <td>FortsÃ</td>\n",
       "      <td>¦</td>\n",
       "      <td>ttelse</td>\n",
       "      <td>til</td>\n",
       "      <td>...</td>\n",
       "      <td>None</td>\n",
       "      <td>None</td>\n",
       "      <td>None</td>\n",
       "      <td>None</td>\n",
       "      <td>None</td>\n",
       "      <td>None</td>\n",
       "      <td>None</td>\n",
       "      <td>None</td>\n",
       "      <td>None</td>\n",
       "      <td>None</td>\n",
       "    </tr>\n",
       "    <tr>\n",
       "      <th>20</th>\n",
       "      <td>Del</td>\n",
       "      <td>I</td>\n",
       "      <td>,</td>\n",
       "      <td>kap.</td>\n",
       "      <td>8</td>\n",
       "      <td>None</td>\n",
       "      <td>None</td>\n",
       "      <td>None</td>\n",
       "      <td>None</td>\n",
       "      <td>None</td>\n",
       "      <td>...</td>\n",
       "      <td>None</td>\n",
       "      <td>None</td>\n",
       "      <td>None</td>\n",
       "      <td>None</td>\n",
       "      <td>None</td>\n",
       "      <td>None</td>\n",
       "      <td>None</td>\n",
       "      <td>None</td>\n",
       "      <td>None</td>\n",
       "      <td>None</td>\n",
       "    </tr>\n",
       "    <tr>\n",
       "      <th>21</th>\n",
       "      <td>Del</td>\n",
       "      <td>I</td>\n",
       "      <td>,</td>\n",
       "      <td>kap.</td>\n",
       "      <td>9</td>\n",
       "      <td>None</td>\n",
       "      <td>None</td>\n",
       "      <td>None</td>\n",
       "      <td>None</td>\n",
       "      <td>None</td>\n",
       "      <td>...</td>\n",
       "      <td>None</td>\n",
       "      <td>None</td>\n",
       "      <td>None</td>\n",
       "      <td>None</td>\n",
       "      <td>None</td>\n",
       "      <td>None</td>\n",
       "      <td>None</td>\n",
       "      <td>None</td>\n",
       "      <td>None</td>\n",
       "      <td>None</td>\n",
       "    </tr>\n",
       "    <tr>\n",
       "      <th>22</th>\n",
       "      <td>Del</td>\n",
       "      <td>I</td>\n",
       "      <td>,</td>\n",
       "      <td>kap.</td>\n",
       "      <td>10</td>\n",
       "      <td>None</td>\n",
       "      <td>None</td>\n",
       "      <td>None</td>\n",
       "      <td>None</td>\n",
       "      <td>None</td>\n",
       "      <td>...</td>\n",
       "      <td>None</td>\n",
       "      <td>None</td>\n",
       "      <td>None</td>\n",
       "      <td>None</td>\n",
       "      <td>None</td>\n",
       "      <td>None</td>\n",
       "      <td>None</td>\n",
       "      <td>None</td>\n",
       "      <td>None</td>\n",
       "      <td>None</td>\n",
       "    </tr>\n",
       "    <tr>\n",
       "      <th>23</th>\n",
       "      <td>Del</td>\n",
       "      <td>I</td>\n",
       "      <td>,</td>\n",
       "      <td>kap.</td>\n",
       "      <td>11</td>\n",
       "      <td>(</td>\n",
       "      <td>FortsÃ</td>\n",
       "      <td>¦</td>\n",
       "      <td>ttelse</td>\n",
       "      <td>af</td>\n",
       "      <td>...</td>\n",
       "      <td>None</td>\n",
       "      <td>None</td>\n",
       "      <td>None</td>\n",
       "      <td>None</td>\n",
       "      <td>None</td>\n",
       "      <td>None</td>\n",
       "      <td>None</td>\n",
       "      <td>None</td>\n",
       "      <td>None</td>\n",
       "      <td>None</td>\n",
       "    </tr>\n",
       "    <tr>\n",
       "      <th>24</th>\n",
       "      <td>Del</td>\n",
       "      <td>I</td>\n",
       "      <td>,</td>\n",
       "      <td>kap.</td>\n",
       "      <td>12</td>\n",
       "      <td>None</td>\n",
       "      <td>None</td>\n",
       "      <td>None</td>\n",
       "      <td>None</td>\n",
       "      <td>None</td>\n",
       "      <td>...</td>\n",
       "      <td>None</td>\n",
       "      <td>None</td>\n",
       "      <td>None</td>\n",
       "      <td>None</td>\n",
       "      <td>None</td>\n",
       "      <td>None</td>\n",
       "      <td>None</td>\n",
       "      <td>None</td>\n",
       "      <td>None</td>\n",
       "      <td>None</td>\n",
       "    </tr>\n",
       "    <tr>\n",
       "      <th>25</th>\n",
       "      <td>Del</td>\n",
       "      <td>I</td>\n",
       "      <td>,</td>\n",
       "      <td>kap.</td>\n",
       "      <td>13</td>\n",
       "      <td>(</td>\n",
       "      <td>Uddrag</td>\n",
       "      <td>af</td>\n",
       "      <td>Margrethes</td>\n",
       "      <td>Blade</td>\n",
       "      <td>...</td>\n",
       "      <td>None</td>\n",
       "      <td>None</td>\n",
       "      <td>None</td>\n",
       "      <td>None</td>\n",
       "      <td>None</td>\n",
       "      <td>None</td>\n",
       "      <td>None</td>\n",
       "      <td>None</td>\n",
       "      <td>None</td>\n",
       "      <td>None</td>\n",
       "    </tr>\n",
       "    <tr>\n",
       "      <th>26</th>\n",
       "      <td>Del</td>\n",
       "      <td>I</td>\n",
       "      <td>,</td>\n",
       "      <td>kap.</td>\n",
       "      <td>14</td>\n",
       "      <td>None</td>\n",
       "      <td>None</td>\n",
       "      <td>None</td>\n",
       "      <td>None</td>\n",
       "      <td>None</td>\n",
       "      <td>...</td>\n",
       "      <td>None</td>\n",
       "      <td>None</td>\n",
       "      <td>None</td>\n",
       "      <td>None</td>\n",
       "      <td>None</td>\n",
       "      <td>None</td>\n",
       "      <td>None</td>\n",
       "      <td>None</td>\n",
       "      <td>None</td>\n",
       "      <td>None</td>\n",
       "    </tr>\n",
       "    <tr>\n",
       "      <th>27</th>\n",
       "      <td>Del</td>\n",
       "      <td>I</td>\n",
       "      <td>,</td>\n",
       "      <td>kap.</td>\n",
       "      <td>15</td>\n",
       "      <td>None</td>\n",
       "      <td>None</td>\n",
       "      <td>None</td>\n",
       "      <td>None</td>\n",
       "      <td>None</td>\n",
       "      <td>...</td>\n",
       "      <td>None</td>\n",
       "      <td>None</td>\n",
       "      <td>None</td>\n",
       "      <td>None</td>\n",
       "      <td>None</td>\n",
       "      <td>None</td>\n",
       "      <td>None</td>\n",
       "      <td>None</td>\n",
       "      <td>None</td>\n",
       "      <td>None</td>\n",
       "    </tr>\n",
       "    <tr>\n",
       "      <th>28</th>\n",
       "      <td>Anden</td>\n",
       "      <td>del</td>\n",
       "      <td>None</td>\n",
       "      <td>None</td>\n",
       "      <td>None</td>\n",
       "      <td>None</td>\n",
       "      <td>None</td>\n",
       "      <td>None</td>\n",
       "      <td>None</td>\n",
       "      <td>None</td>\n",
       "      <td>...</td>\n",
       "      <td>None</td>\n",
       "      <td>None</td>\n",
       "      <td>None</td>\n",
       "      <td>None</td>\n",
       "      <td>None</td>\n",
       "      <td>None</td>\n",
       "      <td>None</td>\n",
       "      <td>None</td>\n",
       "      <td>None</td>\n",
       "      <td>None</td>\n",
       "    </tr>\n",
       "    <tr>\n",
       "      <th>29</th>\n",
       "      <td>Del</td>\n",
       "      <td>II</td>\n",
       "      <td>,</td>\n",
       "      <td>kap.</td>\n",
       "      <td>1</td>\n",
       "      <td>None</td>\n",
       "      <td>None</td>\n",
       "      <td>None</td>\n",
       "      <td>None</td>\n",
       "      <td>None</td>\n",
       "      <td>...</td>\n",
       "      <td>None</td>\n",
       "      <td>None</td>\n",
       "      <td>None</td>\n",
       "      <td>None</td>\n",
       "      <td>None</td>\n",
       "      <td>None</td>\n",
       "      <td>None</td>\n",
       "      <td>None</td>\n",
       "      <td>None</td>\n",
       "      <td>None</td>\n",
       "    </tr>\n",
       "    <tr>\n",
       "      <th>...</th>\n",
       "      <td>...</td>\n",
       "      <td>...</td>\n",
       "      <td>...</td>\n",
       "      <td>...</td>\n",
       "      <td>...</td>\n",
       "      <td>...</td>\n",
       "      <td>...</td>\n",
       "      <td>...</td>\n",
       "      <td>...</td>\n",
       "      <td>...</td>\n",
       "      <td>...</td>\n",
       "      <td>...</td>\n",
       "      <td>...</td>\n",
       "      <td>...</td>\n",
       "      <td>...</td>\n",
       "      <td>...</td>\n",
       "      <td>...</td>\n",
       "      <td>...</td>\n",
       "      <td>...</td>\n",
       "      <td>...</td>\n",
       "      <td>...</td>\n",
       "    </tr>\n",
       "    <tr>\n",
       "      <th>1879</th>\n",
       "      <td>n11</td>\n",
       "      <td>.</td>\n",
       "      <td>ligesÃ</td>\n",
       "      <td>¥</td>\n",
       "      <td>]</td>\n",
       "      <td>rettet</td>\n",
       "      <td>fra</td>\n",
       "      <td>:</td>\n",
       "      <td>ljgesÃ</td>\n",
       "      <td>¥</td>\n",
       "      <td>...</td>\n",
       "      <td>None</td>\n",
       "      <td>None</td>\n",
       "      <td>None</td>\n",
       "      <td>None</td>\n",
       "      <td>None</td>\n",
       "      <td>None</td>\n",
       "      <td>None</td>\n",
       "      <td>None</td>\n",
       "      <td>None</td>\n",
       "      <td>None</td>\n",
       "    </tr>\n",
       "    <tr>\n",
       "      <th>1880</th>\n",
       "      <td>n12</td>\n",
       "      <td>.</td>\n",
       "      <td>Ã</td>\n",
       "      <td>…</td>\n",
       "      <td>r</td>\n",
       "      <td>]</td>\n",
       "      <td>rettet</td>\n",
       "      <td>fra</td>\n",
       "      <td>:</td>\n",
       "      <td>Ar</td>\n",
       "      <td>...</td>\n",
       "      <td>None</td>\n",
       "      <td>None</td>\n",
       "      <td>None</td>\n",
       "      <td>None</td>\n",
       "      <td>None</td>\n",
       "      <td>None</td>\n",
       "      <td>None</td>\n",
       "      <td>None</td>\n",
       "      <td>None</td>\n",
       "      <td>None</td>\n",
       "    </tr>\n",
       "    <tr>\n",
       "      <th>1881</th>\n",
       "      <td>n13</td>\n",
       "      <td>.</td>\n",
       "      <td>Fru</td>\n",
       "      <td>]</td>\n",
       "      <td>rettet</td>\n",
       "      <td>fra</td>\n",
       "      <td>:</td>\n",
       "      <td>Eru</td>\n",
       "      <td>None</td>\n",
       "      <td>None</td>\n",
       "      <td>...</td>\n",
       "      <td>None</td>\n",
       "      <td>None</td>\n",
       "      <td>None</td>\n",
       "      <td>None</td>\n",
       "      <td>None</td>\n",
       "      <td>None</td>\n",
       "      <td>None</td>\n",
       "      <td>None</td>\n",
       "      <td>None</td>\n",
       "      <td>None</td>\n",
       "    </tr>\n",
       "    <tr>\n",
       "      <th>1882</th>\n",
       "      <td>n14</td>\n",
       "      <td>.</td>\n",
       "      <td>og</td>\n",
       "      <td>]</td>\n",
       "      <td>rettet</td>\n",
       "      <td>fra</td>\n",
       "      <td>:</td>\n",
       "      <td>eg</td>\n",
       "      <td>None</td>\n",
       "      <td>None</td>\n",
       "      <td>...</td>\n",
       "      <td>None</td>\n",
       "      <td>None</td>\n",
       "      <td>None</td>\n",
       "      <td>None</td>\n",
       "      <td>None</td>\n",
       "      <td>None</td>\n",
       "      <td>None</td>\n",
       "      <td>None</td>\n",
       "      <td>None</td>\n",
       "      <td>None</td>\n",
       "    </tr>\n",
       "    <tr>\n",
       "      <th>1883</th>\n",
       "      <td>n15</td>\n",
       "      <td>.</td>\n",
       "      <td>Ã</td>\n",
       "      <td>…</td>\n",
       "      <td>bningen</td>\n",
       "      <td>]</td>\n",
       "      <td>rettet</td>\n",
       "      <td>fra</td>\n",
       "      <td>:</td>\n",
       "      <td>Abningen</td>\n",
       "      <td>...</td>\n",
       "      <td>None</td>\n",
       "      <td>None</td>\n",
       "      <td>None</td>\n",
       "      <td>None</td>\n",
       "      <td>None</td>\n",
       "      <td>None</td>\n",
       "      <td>None</td>\n",
       "      <td>None</td>\n",
       "      <td>None</td>\n",
       "      <td>None</td>\n",
       "    </tr>\n",
       "    <tr>\n",
       "      <th>1884</th>\n",
       "      <td>n16</td>\n",
       "      <td>.</td>\n",
       "      <td>Ã</td>\n",
       "      <td>…</td>\n",
       "      <td>r</td>\n",
       "      <td>]</td>\n",
       "      <td>rettet</td>\n",
       "      <td>fra</td>\n",
       "      <td>:</td>\n",
       "      <td>Ar</td>\n",
       "      <td>...</td>\n",
       "      <td>None</td>\n",
       "      <td>None</td>\n",
       "      <td>None</td>\n",
       "      <td>None</td>\n",
       "      <td>None</td>\n",
       "      <td>None</td>\n",
       "      <td>None</td>\n",
       "      <td>None</td>\n",
       "      <td>None</td>\n",
       "      <td>None</td>\n",
       "    </tr>\n",
       "    <tr>\n",
       "      <th>1885</th>\n",
       "      <td>n17</td>\n",
       "      <td>.</td>\n",
       "      <td>og</td>\n",
       "      <td>]</td>\n",
       "      <td>rettet</td>\n",
       "      <td>fra</td>\n",
       "      <td>:</td>\n",
       "      <td>sg</td>\n",
       "      <td>None</td>\n",
       "      <td>None</td>\n",
       "      <td>...</td>\n",
       "      <td>None</td>\n",
       "      <td>None</td>\n",
       "      <td>None</td>\n",
       "      <td>None</td>\n",
       "      <td>None</td>\n",
       "      <td>None</td>\n",
       "      <td>None</td>\n",
       "      <td>None</td>\n",
       "      <td>None</td>\n",
       "      <td>None</td>\n",
       "    </tr>\n",
       "    <tr>\n",
       "      <th>1886</th>\n",
       "      <td>n18</td>\n",
       "      <td>.</td>\n",
       "      <td>tilsyneladende</td>\n",
       "      <td>]</td>\n",
       "      <td>rettet</td>\n",
       "      <td>fra</td>\n",
       "      <td>:</td>\n",
       "      <td>tilsynelande</td>\n",
       "      <td>None</td>\n",
       "      <td>None</td>\n",
       "      <td>...</td>\n",
       "      <td>None</td>\n",
       "      <td>None</td>\n",
       "      <td>None</td>\n",
       "      <td>None</td>\n",
       "      <td>None</td>\n",
       "      <td>None</td>\n",
       "      <td>None</td>\n",
       "      <td>None</td>\n",
       "      <td>None</td>\n",
       "      <td>None</td>\n",
       "    </tr>\n",
       "    <tr>\n",
       "      <th>1887</th>\n",
       "      <td>n19</td>\n",
       "      <td>.</td>\n",
       "      <td>bekjendte</td>\n",
       "      <td>]</td>\n",
       "      <td>rettet</td>\n",
       "      <td>fra</td>\n",
       "      <td>:</td>\n",
       "      <td>hekjendte</td>\n",
       "      <td>None</td>\n",
       "      <td>None</td>\n",
       "      <td>...</td>\n",
       "      <td>None</td>\n",
       "      <td>None</td>\n",
       "      <td>None</td>\n",
       "      <td>None</td>\n",
       "      <td>None</td>\n",
       "      <td>None</td>\n",
       "      <td>None</td>\n",
       "      <td>None</td>\n",
       "      <td>None</td>\n",
       "      <td>None</td>\n",
       "    </tr>\n",
       "    <tr>\n",
       "      <th>1888</th>\n",
       "      <td>n20</td>\n",
       "      <td>.</td>\n",
       "      <td>Forfatternote</td>\n",
       "      <td>:</td>\n",
       "      <td>Margrethe</td>\n",
       "      <td>synes</td>\n",
       "      <td>her</td>\n",
       "      <td>i</td>\n",
       "      <td>sin</td>\n",
       "      <td>Opfatning</td>\n",
       "      <td>...</td>\n",
       "      <td>None</td>\n",
       "      <td>None</td>\n",
       "      <td>None</td>\n",
       "      <td>None</td>\n",
       "      <td>None</td>\n",
       "      <td>None</td>\n",
       "      <td>None</td>\n",
       "      <td>None</td>\n",
       "      <td>None</td>\n",
       "      <td>None</td>\n",
       "    </tr>\n",
       "    <tr>\n",
       "      <th>1889</th>\n",
       "      <td>n21</td>\n",
       "      <td>.</td>\n",
       "      <td>Forfatternote</td>\n",
       "      <td>:</td>\n",
       "      <td>Sandheden</td>\n",
       "      <td>tro</td>\n",
       "      <td>mÃ</td>\n",
       "      <td>¥</td>\n",
       "      <td>vi</td>\n",
       "      <td>minde</td>\n",
       "      <td>...</td>\n",
       "      <td>None</td>\n",
       "      <td>None</td>\n",
       "      <td>None</td>\n",
       "      <td>None</td>\n",
       "      <td>None</td>\n",
       "      <td>None</td>\n",
       "      <td>None</td>\n",
       "      <td>None</td>\n",
       "      <td>None</td>\n",
       "      <td>None</td>\n",
       "    </tr>\n",
       "    <tr>\n",
       "      <th>1890</th>\n",
       "      <td>n22</td>\n",
       "      <td>.</td>\n",
       "      <td>Ã</td>\n",
       "      <td>…</td>\n",
       "      <td>nd</td>\n",
       "      <td>]</td>\n",
       "      <td>rettet</td>\n",
       "      <td>fra</td>\n",
       "      <td>:</td>\n",
       "      <td>And</td>\n",
       "      <td>...</td>\n",
       "      <td>None</td>\n",
       "      <td>None</td>\n",
       "      <td>None</td>\n",
       "      <td>None</td>\n",
       "      <td>None</td>\n",
       "      <td>None</td>\n",
       "      <td>None</td>\n",
       "      <td>None</td>\n",
       "      <td>None</td>\n",
       "      <td>None</td>\n",
       "    </tr>\n",
       "    <tr>\n",
       "      <th>1891</th>\n",
       "      <td>n23</td>\n",
       "      <td>.</td>\n",
       "      <td>tifold</td>\n",
       "      <td>]</td>\n",
       "      <td>rettet</td>\n",
       "      <td>fra</td>\n",
       "      <td>:</td>\n",
       "      <td>tilfold</td>\n",
       "      <td>None</td>\n",
       "      <td>None</td>\n",
       "      <td>...</td>\n",
       "      <td>None</td>\n",
       "      <td>None</td>\n",
       "      <td>None</td>\n",
       "      <td>None</td>\n",
       "      <td>None</td>\n",
       "      <td>None</td>\n",
       "      <td>None</td>\n",
       "      <td>None</td>\n",
       "      <td>None</td>\n",
       "      <td>None</td>\n",
       "    </tr>\n",
       "    <tr>\n",
       "      <th>1892</th>\n",
       "      <td>n24</td>\n",
       "      <td>.</td>\n",
       "      <td>Lea</td>\n",
       "      <td>.</td>\n",
       "      <td>]</td>\n",
       "      <td>rettet</td>\n",
       "      <td>fra</td>\n",
       "      <td>:</td>\n",
       "      <td>Lea</td>\n",
       "      <td>(</td>\n",
       "      <td>...</td>\n",
       "      <td>None</td>\n",
       "      <td>None</td>\n",
       "      <td>None</td>\n",
       "      <td>None</td>\n",
       "      <td>None</td>\n",
       "      <td>None</td>\n",
       "      <td>None</td>\n",
       "      <td>None</td>\n",
       "      <td>None</td>\n",
       "      <td>None</td>\n",
       "    </tr>\n",
       "    <tr>\n",
       "      <th>1893</th>\n",
       "      <td>n25</td>\n",
       "      <td>.</td>\n",
       "      <td>langtfra</td>\n",
       "      <td>]</td>\n",
       "      <td>rettet</td>\n",
       "      <td>fra</td>\n",
       "      <td>:</td>\n",
       "      <td>langtfa</td>\n",
       "      <td>None</td>\n",
       "      <td>None</td>\n",
       "      <td>...</td>\n",
       "      <td>None</td>\n",
       "      <td>None</td>\n",
       "      <td>None</td>\n",
       "      <td>None</td>\n",
       "      <td>None</td>\n",
       "      <td>None</td>\n",
       "      <td>None</td>\n",
       "      <td>None</td>\n",
       "      <td>None</td>\n",
       "      <td>None</td>\n",
       "    </tr>\n",
       "    <tr>\n",
       "      <th>1894</th>\n",
       "      <td>n26</td>\n",
       "      <td>.</td>\n",
       "      <td>Bibliothek</td>\n",
       "      <td>]</td>\n",
       "      <td>rettet</td>\n",
       "      <td>fra</td>\n",
       "      <td>:</td>\n",
       "      <td>Bibliothet</td>\n",
       "      <td>None</td>\n",
       "      <td>None</td>\n",
       "      <td>...</td>\n",
       "      <td>None</td>\n",
       "      <td>None</td>\n",
       "      <td>None</td>\n",
       "      <td>None</td>\n",
       "      <td>None</td>\n",
       "      <td>None</td>\n",
       "      <td>None</td>\n",
       "      <td>None</td>\n",
       "      <td>None</td>\n",
       "      <td>None</td>\n",
       "    </tr>\n",
       "    <tr>\n",
       "      <th>1895</th>\n",
       "      <td>n27</td>\n",
       "      <td>.</td>\n",
       "      <td>beherske</td>\n",
       "      <td>]</td>\n",
       "      <td>rettet</td>\n",
       "      <td>fra</td>\n",
       "      <td>:</td>\n",
       "      <td>behershe</td>\n",
       "      <td>None</td>\n",
       "      <td>None</td>\n",
       "      <td>...</td>\n",
       "      <td>None</td>\n",
       "      <td>None</td>\n",
       "      <td>None</td>\n",
       "      <td>None</td>\n",
       "      <td>None</td>\n",
       "      <td>None</td>\n",
       "      <td>None</td>\n",
       "      <td>None</td>\n",
       "      <td>None</td>\n",
       "      <td>None</td>\n",
       "    </tr>\n",
       "    <tr>\n",
       "      <th>1896</th>\n",
       "      <td>n28</td>\n",
       "      <td>.</td>\n",
       "      <td>fÃ</td>\n",
       "      <td>¦</td>\n",
       "      <td>ngslede</td>\n",
       "      <td>]</td>\n",
       "      <td>rettet</td>\n",
       "      <td>fra</td>\n",
       "      <td>:</td>\n",
       "      <td>fÃ</td>\n",
       "      <td>...</td>\n",
       "      <td>None</td>\n",
       "      <td>None</td>\n",
       "      <td>None</td>\n",
       "      <td>None</td>\n",
       "      <td>None</td>\n",
       "      <td>None</td>\n",
       "      <td>None</td>\n",
       "      <td>None</td>\n",
       "      <td>None</td>\n",
       "      <td>None</td>\n",
       "    </tr>\n",
       "    <tr>\n",
       "      <th>1897</th>\n",
       "      <td>n29</td>\n",
       "      <td>.</td>\n",
       "      <td>foran</td>\n",
       "      <td>]</td>\n",
       "      <td>rettet</td>\n",
       "      <td>fra</td>\n",
       "      <td>:</td>\n",
       "      <td>forÃ</td>\n",
       "      <td>¥</td>\n",
       "      <td>n</td>\n",
       "      <td>...</td>\n",
       "      <td>None</td>\n",
       "      <td>None</td>\n",
       "      <td>None</td>\n",
       "      <td>None</td>\n",
       "      <td>None</td>\n",
       "      <td>None</td>\n",
       "      <td>None</td>\n",
       "      <td>None</td>\n",
       "      <td>None</td>\n",
       "      <td>None</td>\n",
       "    </tr>\n",
       "    <tr>\n",
       "      <th>1898</th>\n",
       "      <td>n30</td>\n",
       "      <td>.</td>\n",
       "      <td>Dagen</td>\n",
       "      <td>]</td>\n",
       "      <td>rettet</td>\n",
       "      <td>fra</td>\n",
       "      <td>:</td>\n",
       "      <td>DÃ</td>\n",
       "      <td>¥</td>\n",
       "      <td>gen</td>\n",
       "      <td>...</td>\n",
       "      <td>None</td>\n",
       "      <td>None</td>\n",
       "      <td>None</td>\n",
       "      <td>None</td>\n",
       "      <td>None</td>\n",
       "      <td>None</td>\n",
       "      <td>None</td>\n",
       "      <td>None</td>\n",
       "      <td>None</td>\n",
       "      <td>None</td>\n",
       "    </tr>\n",
       "    <tr>\n",
       "      <th>1899</th>\n",
       "      <td>n31</td>\n",
       "      <td>.</td>\n",
       "      <td>bliv</td>\n",
       "      <td>]</td>\n",
       "      <td>rettet</td>\n",
       "      <td>fra</td>\n",
       "      <td>:</td>\n",
       "      <td>hliv</td>\n",
       "      <td>None</td>\n",
       "      <td>None</td>\n",
       "      <td>...</td>\n",
       "      <td>None</td>\n",
       "      <td>None</td>\n",
       "      <td>None</td>\n",
       "      <td>None</td>\n",
       "      <td>None</td>\n",
       "      <td>None</td>\n",
       "      <td>None</td>\n",
       "      <td>None</td>\n",
       "      <td>None</td>\n",
       "      <td>None</td>\n",
       "    </tr>\n",
       "    <tr>\n",
       "      <th>1900</th>\n",
       "      <td>n32</td>\n",
       "      <td>.</td>\n",
       "      <td>vilde</td>\n",
       "      <td>]</td>\n",
       "      <td>rettet</td>\n",
       "      <td>fra</td>\n",
       "      <td>:</td>\n",
       "      <td>vild</td>\n",
       "      <td>None</td>\n",
       "      <td>None</td>\n",
       "      <td>...</td>\n",
       "      <td>None</td>\n",
       "      <td>None</td>\n",
       "      <td>None</td>\n",
       "      <td>None</td>\n",
       "      <td>None</td>\n",
       "      <td>None</td>\n",
       "      <td>None</td>\n",
       "      <td>None</td>\n",
       "      <td>None</td>\n",
       "      <td>None</td>\n",
       "    </tr>\n",
       "    <tr>\n",
       "      <th>1901</th>\n",
       "      <td>n33</td>\n",
       "      <td>.</td>\n",
       "      <td>behÃ</td>\n",
       "      <td>¸</td>\n",
       "      <td>ver</td>\n",
       "      <td>]</td>\n",
       "      <td>rettet</td>\n",
       "      <td>fra</td>\n",
       "      <td>:</td>\n",
       "      <td>hehÃ</td>\n",
       "      <td>...</td>\n",
       "      <td>None</td>\n",
       "      <td>None</td>\n",
       "      <td>None</td>\n",
       "      <td>None</td>\n",
       "      <td>None</td>\n",
       "      <td>None</td>\n",
       "      <td>None</td>\n",
       "      <td>None</td>\n",
       "      <td>None</td>\n",
       "      <td>None</td>\n",
       "    </tr>\n",
       "    <tr>\n",
       "      <th>1902</th>\n",
       "      <td>n34</td>\n",
       "      <td>.</td>\n",
       "      <td>Forfatternote</td>\n",
       "      <td>:</td>\n",
       "      <td>Se</td>\n",
       "      <td>Walter</td>\n",
       "      <td>Scotts</td>\n",
       "      <td>Roman</td>\n",
       "      <td>.</td>\n",
       "      <td>None</td>\n",
       "      <td>...</td>\n",
       "      <td>None</td>\n",
       "      <td>None</td>\n",
       "      <td>None</td>\n",
       "      <td>None</td>\n",
       "      <td>None</td>\n",
       "      <td>None</td>\n",
       "      <td>None</td>\n",
       "      <td>None</td>\n",
       "      <td>None</td>\n",
       "      <td>None</td>\n",
       "    </tr>\n",
       "    <tr>\n",
       "      <th>1903</th>\n",
       "      <td>n35</td>\n",
       "      <td>.</td>\n",
       "      <td>vil</td>\n",
       "      <td>]</td>\n",
       "      <td>rettet</td>\n",
       "      <td>fra</td>\n",
       "      <td>:</td>\n",
       "      <td>vi</td>\n",
       "      <td>None</td>\n",
       "      <td>None</td>\n",
       "      <td>...</td>\n",
       "      <td>None</td>\n",
       "      <td>None</td>\n",
       "      <td>None</td>\n",
       "      <td>None</td>\n",
       "      <td>None</td>\n",
       "      <td>None</td>\n",
       "      <td>None</td>\n",
       "      <td>None</td>\n",
       "      <td>None</td>\n",
       "      <td>None</td>\n",
       "    </tr>\n",
       "    <tr>\n",
       "      <th>1904</th>\n",
       "      <td>n36</td>\n",
       "      <td>.</td>\n",
       "      <td>sagde</td>\n",
       "      <td>]</td>\n",
       "      <td>rettet</td>\n",
       "      <td>fra</td>\n",
       "      <td>:</td>\n",
       "      <td>sagde</td>\n",
       "      <td>(</td>\n",
       "      <td>uten</td>\n",
       "      <td>...</td>\n",
       "      <td>None</td>\n",
       "      <td>None</td>\n",
       "      <td>None</td>\n",
       "      <td>None</td>\n",
       "      <td>None</td>\n",
       "      <td>None</td>\n",
       "      <td>None</td>\n",
       "      <td>None</td>\n",
       "      <td>None</td>\n",
       "      <td>None</td>\n",
       "    </tr>\n",
       "    <tr>\n",
       "      <th>1905</th>\n",
       "      <td>n37</td>\n",
       "      <td>.</td>\n",
       "      <td>sagde</td>\n",
       "      <td>han</td>\n",
       "      <td>,</td>\n",
       "      <td>]</td>\n",
       "      <td>rettet</td>\n",
       "      <td>fra</td>\n",
       "      <td>:</td>\n",
       "      <td>sagde</td>\n",
       "      <td>...</td>\n",
       "      <td>None</td>\n",
       "      <td>None</td>\n",
       "      <td>None</td>\n",
       "      <td>None</td>\n",
       "      <td>None</td>\n",
       "      <td>None</td>\n",
       "      <td>None</td>\n",
       "      <td>None</td>\n",
       "      <td>None</td>\n",
       "      <td>None</td>\n",
       "    </tr>\n",
       "    <tr>\n",
       "      <th>1906</th>\n",
       "      <td>n38</td>\n",
       "      <td>.</td>\n",
       "      <td>bedrÃ</td>\n",
       "      <td>¸</td>\n",
       "      <td>vet</td>\n",
       "      <td>]</td>\n",
       "      <td>rettet</td>\n",
       "      <td>fra</td>\n",
       "      <td>:</td>\n",
       "      <td>bedÃ</td>\n",
       "      <td>...</td>\n",
       "      <td>None</td>\n",
       "      <td>None</td>\n",
       "      <td>None</td>\n",
       "      <td>None</td>\n",
       "      <td>None</td>\n",
       "      <td>None</td>\n",
       "      <td>None</td>\n",
       "      <td>None</td>\n",
       "      <td>None</td>\n",
       "      <td>None</td>\n",
       "    </tr>\n",
       "    <tr>\n",
       "      <th>1907</th>\n",
       "      <td>n39</td>\n",
       "      <td>.</td>\n",
       "      <td>bestilt</td>\n",
       "      <td>]</td>\n",
       "      <td>rettet</td>\n",
       "      <td>fra</td>\n",
       "      <td>:</td>\n",
       "      <td>besilt</td>\n",
       "      <td>None</td>\n",
       "      <td>None</td>\n",
       "      <td>...</td>\n",
       "      <td>None</td>\n",
       "      <td>None</td>\n",
       "      <td>None</td>\n",
       "      <td>None</td>\n",
       "      <td>None</td>\n",
       "      <td>None</td>\n",
       "      <td>None</td>\n",
       "      <td>None</td>\n",
       "      <td>None</td>\n",
       "      <td>None</td>\n",
       "    </tr>\n",
       "    <tr>\n",
       "      <th>1908</th>\n",
       "      <td>Camilla</td>\n",
       "      <td>Colletts</td>\n",
       "      <td>Amtmandens</td>\n",
       "      <td>DÃ</td>\n",
       "      <td>¸</td>\n",
       "      <td>tre</td>\n",
       "      <td>er</td>\n",
       "      <td>lastet</td>\n",
       "      <td>ned</td>\n",
       "      <td>gratis</td>\n",
       "      <td>...</td>\n",
       "      <td>None</td>\n",
       "      <td>None</td>\n",
       "      <td>None</td>\n",
       "      <td>None</td>\n",
       "      <td>None</td>\n",
       "      <td>None</td>\n",
       "      <td>None</td>\n",
       "      <td>None</td>\n",
       "      <td>None</td>\n",
       "      <td>None</td>\n",
       "    </tr>\n",
       "  </tbody>\n",
       "</table>\n",
       "<p>1909 rows × 565 columns</p>\n",
       "</div>"
      ],
      "text/plain": [
       "             0               1               2           3    \\\n",
       "0        Camilla         Collett               :  Amtmandens   \n",
       "1            Det          norske            sprÃ           ¥   \n",
       "2         Utgitt               i       samarbeid         med   \n",
       "3           ISBN               :             978           -   \n",
       "4        Teksten              er          lastet         ned   \n",
       "5        Camilla         Collett            None        None   \n",
       "6     Amtmandens              DÃ               ¸         tre   \n",
       "7              (  tredjeutgavens         versjon           ,   \n",
       "8           2013            None            None        None   \n",
       "9           None            None            None        None   \n",
       "10            Om           denne         utgaven        None   \n",
       "11        Forord            None            None        None   \n",
       "12            FÃ               ¸            rste         del   \n",
       "13           Del               I               ,        kap.   \n",
       "14           Del               I               ,        kap.   \n",
       "15           Del               I               ,        kap.   \n",
       "16           Del               I               ,        kap.   \n",
       "17           Del               I               ,        kap.   \n",
       "18           Del               I               ,        kap.   \n",
       "19           Del               I               ,        kap.   \n",
       "20           Del               I               ,        kap.   \n",
       "21           Del               I               ,        kap.   \n",
       "22           Del               I               ,        kap.   \n",
       "23           Del               I               ,        kap.   \n",
       "24           Del               I               ,        kap.   \n",
       "25           Del               I               ,        kap.   \n",
       "26           Del               I               ,        kap.   \n",
       "27           Del               I               ,        kap.   \n",
       "28         Anden             del            None        None   \n",
       "29           Del              II               ,        kap.   \n",
       "...          ...             ...             ...         ...   \n",
       "1879         n11               .          ligesÃ           ¥   \n",
       "1880         n12               .               Ã           …   \n",
       "1881         n13               .             Fru           ]   \n",
       "1882         n14               .              og           ]   \n",
       "1883         n15               .               Ã           …   \n",
       "1884         n16               .               Ã           …   \n",
       "1885         n17               .              og           ]   \n",
       "1886         n18               .  tilsyneladende           ]   \n",
       "1887         n19               .       bekjendte           ]   \n",
       "1888         n20               .   Forfatternote           :   \n",
       "1889         n21               .   Forfatternote           :   \n",
       "1890         n22               .               Ã           …   \n",
       "1891         n23               .          tifold           ]   \n",
       "1892         n24               .             Lea           .   \n",
       "1893         n25               .        langtfra           ]   \n",
       "1894         n26               .      Bibliothek           ]   \n",
       "1895         n27               .        beherske           ]   \n",
       "1896         n28               .              fÃ           ¦   \n",
       "1897         n29               .           foran           ]   \n",
       "1898         n30               .           Dagen           ]   \n",
       "1899         n31               .            bliv           ]   \n",
       "1900         n32               .           vilde           ]   \n",
       "1901         n33               .            behÃ           ¸   \n",
       "1902         n34               .   Forfatternote           :   \n",
       "1903         n35               .             vil           ]   \n",
       "1904         n36               .           sagde           ]   \n",
       "1905         n37               .           sagde         han   \n",
       "1906         n38               .           bedrÃ           ¸   \n",
       "1907         n39               .         bestilt           ]   \n",
       "1908     Camilla        Colletts      Amtmandens          DÃ   \n",
       "\n",
       "                      4              5       6                  7    \\\n",
       "0                      DÃ              ¸     tre                  (   \n",
       "1                       k              -      og  litteraturselskap   \n",
       "2     Nasjonalbiblioteket           None    None               None   \n",
       "3                      82              -   93134                  -   \n",
       "4                     fra  bokselskap.no    None               None   \n",
       "5                    None           None    None               None   \n",
       "6                    None           None    None               None   \n",
       "7                      fÃ              ¸     rst             utgitt   \n",
       "8                    None           None    None               None   \n",
       "9                    None           None    None               None   \n",
       "10                   None           None    None               None   \n",
       "11                   None           None    None               None   \n",
       "12                   None           None    None               None   \n",
       "13                      1           None    None               None   \n",
       "14                      2           None    None               None   \n",
       "15                      3           None    None               None   \n",
       "16                      4              (      Af             Georgs   \n",
       "17                      5           None    None               None   \n",
       "18                      6              (     Til                 MÃ   \n",
       "19                      7              (  FortsÃ                  ¦   \n",
       "20                      8           None    None               None   \n",
       "21                      9           None    None               None   \n",
       "22                     10           None    None               None   \n",
       "23                     11              (  FortsÃ                  ¦   \n",
       "24                     12           None    None               None   \n",
       "25                     13              (  Uddrag                 af   \n",
       "26                     14           None    None               None   \n",
       "27                     15           None    None               None   \n",
       "28                   None           None    None               None   \n",
       "29                      1           None    None               None   \n",
       "...                   ...            ...     ...                ...   \n",
       "1879                    ]         rettet     fra                  :   \n",
       "1880                    r              ]  rettet                fra   \n",
       "1881               rettet            fra       :                Eru   \n",
       "1882               rettet            fra       :                 eg   \n",
       "1883              bningen              ]  rettet                fra   \n",
       "1884                    r              ]  rettet                fra   \n",
       "1885               rettet            fra       :                 sg   \n",
       "1886               rettet            fra       :       tilsynelande   \n",
       "1887               rettet            fra       :          hekjendte   \n",
       "1888            Margrethe          synes     her                  i   \n",
       "1889            Sandheden            tro      mÃ                  ¥   \n",
       "1890                   nd              ]  rettet                fra   \n",
       "1891               rettet            fra       :            tilfold   \n",
       "1892                    ]         rettet     fra                  :   \n",
       "1893               rettet            fra       :            langtfa   \n",
       "1894               rettet            fra       :         Bibliothet   \n",
       "1895               rettet            fra       :           behershe   \n",
       "1896              ngslede              ]  rettet                fra   \n",
       "1897               rettet            fra       :               forÃ   \n",
       "1898               rettet            fra       :                 DÃ   \n",
       "1899               rettet            fra       :               hliv   \n",
       "1900               rettet            fra       :               vild   \n",
       "1901                  ver              ]  rettet                fra   \n",
       "1902                   Se         Walter  Scotts              Roman   \n",
       "1903               rettet            fra       :                 vi   \n",
       "1904               rettet            fra       :              sagde   \n",
       "1905                    ,              ]  rettet                fra   \n",
       "1906                  vet              ]  rettet                fra   \n",
       "1907               rettet            fra       :             besilt   \n",
       "1908                    ¸            tre      er             lastet   \n",
       "\n",
       "              8          9    ...   555   556   557   558   559   560   561  \\\n",
       "0              3.     utgave  ...  None  None  None  None  None  None  None   \n",
       "1               ,       2013  ...  None  None  None  None  None  None  None   \n",
       "2            None       None  ...  None  None  None  None  None  None  None   \n",
       "3              05          -  ...  None  None  None  None  None  None  None   \n",
       "4            None       None  ...  None  None  None  None  None  None  None   \n",
       "5            None       None  ...  None  None  None  None  None  None  None   \n",
       "6            None       None  ...  None  None  None  None  None  None  None   \n",
       "7            1879          )  ...  None  None  None  None  None  None  None   \n",
       "8            None       None  ...  None  None  None  None  None  None  None   \n",
       "9            None       None  ...  None  None  None  None  None  None  None   \n",
       "10           None       None  ...  None  None  None  None  None  None  None   \n",
       "11           None       None  ...  None  None  None  None  None  None  None   \n",
       "12           None       None  ...  None  None  None  None  None  None  None   \n",
       "13           None       None  ...  None  None  None  None  None  None  None   \n",
       "14           None       None  ...  None  None  None  None  None  None  None   \n",
       "15           None       None  ...  None  None  None  None  None  None  None   \n",
       "16    Optegnelser        til  ...  None  None  None  None  None  None  None   \n",
       "17           None       None  ...  None  None  None  None  None  None  None   \n",
       "18              ¸       ller  ...  None  None  None  None  None  None  None   \n",
       "19         ttelse        til  ...  None  None  None  None  None  None  None   \n",
       "20           None       None  ...  None  None  None  None  None  None  None   \n",
       "21           None       None  ...  None  None  None  None  None  None  None   \n",
       "22           None       None  ...  None  None  None  None  None  None  None   \n",
       "23         ttelse         af  ...  None  None  None  None  None  None  None   \n",
       "24           None       None  ...  None  None  None  None  None  None  None   \n",
       "25     Margrethes      Blade  ...  None  None  None  None  None  None  None   \n",
       "26           None       None  ...  None  None  None  None  None  None  None   \n",
       "27           None       None  ...  None  None  None  None  None  None  None   \n",
       "28           None       None  ...  None  None  None  None  None  None  None   \n",
       "29           None       None  ...  None  None  None  None  None  None  None   \n",
       "...           ...        ...  ...   ...   ...   ...   ...   ...   ...   ...   \n",
       "1879       ljgesÃ          ¥  ...  None  None  None  None  None  None  None   \n",
       "1880            :         Ar  ...  None  None  None  None  None  None  None   \n",
       "1881         None       None  ...  None  None  None  None  None  None  None   \n",
       "1882         None       None  ...  None  None  None  None  None  None  None   \n",
       "1883            :   Abningen  ...  None  None  None  None  None  None  None   \n",
       "1884            :         Ar  ...  None  None  None  None  None  None  None   \n",
       "1885         None       None  ...  None  None  None  None  None  None  None   \n",
       "1886         None       None  ...  None  None  None  None  None  None  None   \n",
       "1887         None       None  ...  None  None  None  None  None  None  None   \n",
       "1888          sin  Opfatning  ...  None  None  None  None  None  None  None   \n",
       "1889           vi      minde  ...  None  None  None  None  None  None  None   \n",
       "1890            :        And  ...  None  None  None  None  None  None  None   \n",
       "1891         None       None  ...  None  None  None  None  None  None  None   \n",
       "1892          Lea          (  ...  None  None  None  None  None  None  None   \n",
       "1893         None       None  ...  None  None  None  None  None  None  None   \n",
       "1894         None       None  ...  None  None  None  None  None  None  None   \n",
       "1895         None       None  ...  None  None  None  None  None  None  None   \n",
       "1896            :         fÃ  ...  None  None  None  None  None  None  None   \n",
       "1897            ¥          n  ...  None  None  None  None  None  None  None   \n",
       "1898            ¥        gen  ...  None  None  None  None  None  None  None   \n",
       "1899         None       None  ...  None  None  None  None  None  None  None   \n",
       "1900         None       None  ...  None  None  None  None  None  None  None   \n",
       "1901            :       hehÃ  ...  None  None  None  None  None  None  None   \n",
       "1902            .       None  ...  None  None  None  None  None  None  None   \n",
       "1903         None       None  ...  None  None  None  None  None  None  None   \n",
       "1904            (       uten  ...  None  None  None  None  None  None  None   \n",
       "1905            :      sagde  ...  None  None  None  None  None  None  None   \n",
       "1906            :       bedÃ  ...  None  None  None  None  None  None  None   \n",
       "1907         None       None  ...  None  None  None  None  None  None  None   \n",
       "1908          ned     gratis  ...  None  None  None  None  None  None  None   \n",
       "\n",
       "       562   563   564  \n",
       "0     None  None  None  \n",
       "1     None  None  None  \n",
       "2     None  None  None  \n",
       "3     None  None  None  \n",
       "4     None  None  None  \n",
       "5     None  None  None  \n",
       "6     None  None  None  \n",
       "7     None  None  None  \n",
       "8     None  None  None  \n",
       "9     None  None  None  \n",
       "10    None  None  None  \n",
       "11    None  None  None  \n",
       "12    None  None  None  \n",
       "13    None  None  None  \n",
       "14    None  None  None  \n",
       "15    None  None  None  \n",
       "16    None  None  None  \n",
       "17    None  None  None  \n",
       "18    None  None  None  \n",
       "19    None  None  None  \n",
       "20    None  None  None  \n",
       "21    None  None  None  \n",
       "22    None  None  None  \n",
       "23    None  None  None  \n",
       "24    None  None  None  \n",
       "25    None  None  None  \n",
       "26    None  None  None  \n",
       "27    None  None  None  \n",
       "28    None  None  None  \n",
       "29    None  None  None  \n",
       "...    ...   ...   ...  \n",
       "1879  None  None  None  \n",
       "1880  None  None  None  \n",
       "1881  None  None  None  \n",
       "1882  None  None  None  \n",
       "1883  None  None  None  \n",
       "1884  None  None  None  \n",
       "1885  None  None  None  \n",
       "1886  None  None  None  \n",
       "1887  None  None  None  \n",
       "1888  None  None  None  \n",
       "1889  None  None  None  \n",
       "1890  None  None  None  \n",
       "1891  None  None  None  \n",
       "1892  None  None  None  \n",
       "1893  None  None  None  \n",
       "1894  None  None  None  \n",
       "1895  None  None  None  \n",
       "1896  None  None  None  \n",
       "1897  None  None  None  \n",
       "1898  None  None  None  \n",
       "1899  None  None  None  \n",
       "1900  None  None  None  \n",
       "1901  None  None  None  \n",
       "1902  None  None  None  \n",
       "1903  None  None  None  \n",
       "1904  None  None  None  \n",
       "1905  None  None  None  \n",
       "1906  None  None  None  \n",
       "1907  None  None  None  \n",
       "1908  None  None  None  \n",
       "\n",
       "[1909 rows x 565 columns]"
      ]
     },
     "execution_count": 14,
     "metadata": {},
     "output_type": "execute_result"
    }
   ],
   "source": [
    "pd.DataFrame(amt)"
   ]
  }
 ],
 "metadata": {
  "kernelspec": {
   "display_name": "Python 3",
   "language": "python",
   "name": "python3"
  },
  "language_info": {
   "codemirror_mode": {
    "name": "ipython",
    "version": 3
   },
   "file_extension": ".py",
   "mimetype": "text/x-python",
   "name": "python",
   "nbconvert_exporter": "python",
   "pygments_lexer": "ipython3",
   "version": "3.7.3"
  }
 },
 "nbformat": 4,
 "nbformat_minor": 2
}
