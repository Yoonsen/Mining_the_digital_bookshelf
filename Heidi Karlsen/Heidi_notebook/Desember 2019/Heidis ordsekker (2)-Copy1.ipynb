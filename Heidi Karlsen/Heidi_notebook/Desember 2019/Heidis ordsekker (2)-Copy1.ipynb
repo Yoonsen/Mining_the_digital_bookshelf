{
 "cells": [
  {
   "cell_type": "code",
   "execution_count": 2,
   "metadata": {},
   "outputs": [],
   "source": [
    "themes = \"\"\"\n",
    "#\n",
    "“Det moderlige(1)/ The motherly”;;\n",
    "Moderlige_: moderlige, modcrlige, modcrligc, moderligc, mor, moder, modcr, moderlig, modre, modrcne, modrc, modcrlig, modcrlighcden, modcrlighed, moderlighed, modcrlighcd;\n",
    "Omfatte_: omfatte, omfatter, omfattc, omfattcr, omfavne, omfavner, omfavnc, omfavncr;\n",
    "Qvindes_: kvinne, kvinnen, kvinner, kvinnene, kvinnerne, kvinnes, kvinnens, kvinners, kvinnenes, kvinnernes, kvinde, kvinden, kvinder, kvinderne, kvindens, kvindes, kvindernes, kvinders, kvindelige, kvindelig, kvindeligt, kvindene, kvindeme, kvindenes, kvindemes, kvindc, kvindcr, kvindcn, kvindcns, kvindcs, kvindcrnes, kvindcrnc, kvindcrs, kvindcrncs, kvindclighed, kvindcligheden, kuindc, kuindcr, kuindcn, kuindcs, kuindcrne, kuindcns, kuinde, kuinder, kuinden, kuinderne, kuindens, kuinders, kuindes, Kvmde, Kvmder, Kvmderne, Kvmden, Kvmdens, Kvmdes, Kvmdernes, Kvmders, Kvmdelige, Kvmdc, Kvmdcr, Kvmdelig, Kvmds, Kvmder, Kvmdcs, Kvmdei, stvinder, stvindcr, qvinde, qvinden, qvinder, qvinderne, qvindene, quinde, quinden, quinder, qvinderne, qvindene, qvindcr, quindcr, qvindcrne, qvindene, quindcrne, quindcne, Qvmde, Qvmder, Qvmden, Qvmdens, Qvmderne, Qvmdes, Qvmdfolk, Qvmders, Qvmdc, Qvmdm, Qvmd, Qvmdcr, Qvmdernes, Qvmdfolck, Qvmdis, Qvmds, Qvmdelig, Qvmdekwn, Qvmdcs, Qvmdcn, Qvmdeligt, Qvmdernis, Qvmdcrs, Qvmdt;\n",
    "Familien_: familie, familien, familie, familicn, Famillie, Famlie, Famllie;\n",
    "Hjem_: hjem, hjcm, hjemmet, hjcmmet, hjcmmct, hjemmct; \n",
    "Sædelighed_: sædelighed, Scrdclighed, sædelig, sædelige, sædeligt, sædlige, sædelighed, sædeligheden, sedelig, sedelige, sedelighet, scedelighed, sædelighedens, sedelighed, scrdelighed, sædeligheds, sedeligheten, sedeligheden, sadelighed, scedeligheden, sædeligheds, sædelighed, sedelighedens, scedeligheds, soedelighed, sædeligheten, sedelighets, sædelighet, scrdeligheden, scedelighcds, scedcligheds, scedcligheden;\n",
    "Livet_:  liv, livet, livct;\n",
    "Rest_: men, blot, vi, derfor, deri, gives, maa;\n",
    "#\n",
    "“Det moderlige(2)/ The motherly”;;\n",
    "Moderlige_: moderlige, modcrlige, modcrligc, moderligc, mor, moder, modcr, moderlig, modre, modrcne, modrc, modcrlig, modcrlighcden, modcrlighed, moderlighed, modcrlighcd;\n",
    "Omfatte_: omfatte, omfatter, omfattc, omfattcr, omfavne, omfavner, omfavnc, omfavncr; \n",
    "Menneskeheden_: Menneskeheden, Menneskehedens, Menneskehed, Menneskelighedmenneske, Mennesket, Menneskets, menniske;\n",
    "Fedrelandet_: fedrelandet, Fcrdrclandet, Fædreland, Fcedreland, Fedrelandets, Fædrelands, Fædrenelandet, Fcedreneland, Fcrdreland, Fcedrelandet, Fedrelands, Fcrdreneland, Fædrenelands, Fcedrelandets, Fcedrelands, Foedreland, Fadreland, Fedrenelandet, Fadrelands, Foedrelandets, Foedrelands, Fædrenelandsk, Fccdreland;\n",
    "Private_: privat, private, privatc, Privatsfære;\n",
    "Rest_: maa, men, blot, Det, der, Ord, rores, saafremt, private, elige;\n",
    "#\n",
    "“Det moderlige(3)/ The motherly”;;\n",
    "Moderlige_: moderlige, modcrlige, modcrligc, moderligc, mor, moder, modcr, moderlig, modre, modrcne, modrc, modcrlig, modcrlighcden, modcrlighed, moderlighed, modcrlighcd;\n",
    "Virke_: virke, virker, virkc, virkcr;\n",
    "Menneskeheden_: Mennesket, Menneskeheden, Menneskehedens, Menneskehed, Menneskelighed, menneske, Mennesket, Menneskets, menniske; \n",
    "Almene_: almen, almcn, almcnc, almcnnt, alment, almennt, almene, almenes;\n",
    "Private_: privat, private, privatc, Privatsfære;\n",
    "Rest_: maa, men, blot, ei;\n",
    "#\n",
    "“Det moderlige(4)/ The motherly”;;\n",
    "Moderlige_: moderlige, modcrlige, modcrligc, moderligc, mor, moder, modcr, moderlig, modre, modrcne, modrc, modcrlig, modcrlighcden, modcrlighed, moderlighed, modcrlighcd;\n",
    "Qvindes_: kvinne, kvinnen, kvinner, kvinnene, kvinnerne, kvinnes, kvinnens, kvinners, kvinnenes, kvinnernes, kvinde, kvinden, kvinder, kvinderne, kvindens, kvindes, kvindernes, kvinders, kvindelige, kvindelig, kvindeligt, kvindene, kvindeme, kvindenes, kvindemes, kvindc, kvindcr, kvindcn, kvindcns, kvindcs, kvindcrnes, kvindcrnc, kvindcrs, kvindcrncs, kvindclighed, kvindcligheden, kuindc, kuindcr, kuindcn, kuindcs, kuindcrne, kuindcns, kuinde, kuinder, kuinden, kuinderne, kuindens, kuinders, kuindes, Kvmde, Kvmder, Kvmderne, Kvmden, Kvmdens, Kvmdes, Kvmdernes, Kvmders, Kvmdelige, Kvmdc, Kvmdcr, Kvmdelig, Kvmds, Kvmder, Kvmdcs, Kvmdei, stvinder, stvindcr, qvinde, qvinden, qvinder, qvinderne, qvindene, quinde, quinden, quinder, qvinderne, qvindene, qvindcr, quindcr, qvindcrne, qvindene, quindcrne, quindcne, Qvmde, Qvmder, Qvmden, Qvmdens, Qvmderne, Qvmdes, Qvmdfolk, Qvmders, Qvmdc, Qvmdm, Qvmd, Qvmdcr, Qvmdernes, Qvmdfolck, Qvmdis, Qvmds, Qvmdelig, Qvmdekwn, Qvmdcs, Qvmdcn, Qvmdeligt, Qvmdernis, Qvmdcrs, Qvmdt;\n",
    "Vogterske_: vogterske, vogtcrske, vogtcrskc, vogterskc, Vogterinde, Vogterste;\n",
    "Hjerte_: hjerte, hjcrtc, hjcrte, hjente, hjertes, hjentes, hjcrtcs, hjcrtes, hjarte, hjærte, hjcerte, hjérte, hjsrte, hjar-te, hjaerte, hjærtet, hjærter, hjærtens, hjærtes, hjærtets, hjærterne, hjcertet, hjcertens, hjcerter, hjcertes, hjcertets, hjcerterne, hjcrtets, hjcrtens, hjcrtene, hjcrtet, puls, pulsen, pulscn; \n",
    "Virke_: virke, virker, virkc, virkcr;\n",
    "Menneskeheden_:  Mennesket, Menneskeheden, Menneskehedens, Menneskehed, Menneskelighed, menneske, Mennesket, Menneskets, menniske;  \n",
    "Almene_: almen, almcn, almcnc, almcnnt, alment, almennt, almene, almenes;\n",
    "Private_: privat, private, privatc, Privatsfære;\n",
    "Rest_: maa, men, blot, ei; \n",
    "#\n",
    "“Barmhjertighed (1)/charity”;;\n",
    "Barmhjertighed_: Barmhjertighed, Varmhjertighed, Barmhjcrtighedsvcrrk, Varmhjcrtighedsvcrrk, Barmhjertighedens, Varmhjertighedens, Barmhiertighed, Barmhjærtighed, Barmhjcrtighed, Barmhicrtighed, Barmhjcertighed, Barmhiettighed, Barmhlertighed, Barmhmtighed, Barmhintighed, Barmhiærtighed, Barmhtertighed, Barmhjcrrtighed, Barmhertighed, Barmhjeitighed, Barmhjertighcd, Barmhjcrtighcd, Barmhiertighcd, Barmhicrtighcd, Barmhjertigheds, Barmhiertighed, Barmhjertighedens, Varmhiertighed, Varmhjertigheds, Varmhjertighcd, Varmhjertighedens, Varmhjcrtighed, Varmhjcrtighcdm Varmhjertigheden, Varmhjertigheder;\n",
    "Moderbryst_: moderbryst, modcrbryst;\n",
    "Gave_: Gave, Gaven, gavc, gavcn, gaver, gavcr, gavcne, gavcnc, gavenc, gavcrne, gaverne, gavcrnc, gavernc, Gavemild, gavcmild; \n",
    "Midlet_: Middel, middcl, Midlet, middlct; \n",
    "Be_: be, bc, ber, bcr;\n",
    "Angivet_: angivet, angivct; \n",
    "Rest_: hvis, Alt; \n",
    "#\n",
    "“Barmhjertighed (2)/charity”;;\n",
    "Barmhjertighed_: Barmhjertighed, Varmhjertighed, Barmhjcrtighedsvcrrk, Varmhjcrtighedsvcrrk, Barmhjertighedens, Varmhjertighedens, Barmhiertighed, Barmhjærtighed, Barmhjcrtighed, Barmhicrtighed, Barmhjcertighed, Barmhiettighed, Barmhlertighed, Barmhmtighed, Barmhintighed, Barmhiærtighed, Barmhtertighed, Barmhjcrrtighed, Barmhertighed, Barmhjeitighed, Barmhjertighcd, Barmhjcrtighcd, Barmhiertighcd, Barmhicrtighcd, Barmhjertigheds, Barmhiertighed, Barmhjertighedens, Varmhiertighed, Varmhjertigheds, Varmhjertighcd, Varmhjertighedens, Varmhjcrtighed, Varmhjcrtighcdm Varmhjertigheden, Varmhjertigheder;\n",
    "Moderbryst_: moderbryst, modcrbryst, moderlige, modcrlige, modcrligc, moderligc, mor, moder, modcr, moderlig, modre, modrcne, modrc, modcrlig, modcrlighcden, modcrlighed, moderlighed, modcrlighcd;\n",
    "Gave_: Gave, Gaven, gavc, gavcn, gaver, gavcr, gavcne, gavcnc, gavenc, gavcrne, gaverne, gavcrnc, gavernc, Gavemild, gavcmild; \n",
    "Be_: be, bc, ber, bcr;\n",
    "Rest_: hvis, har; \n",
    "#\n",
    "“Skjønne piker/ beautiful girls”;;\n",
    "Piker_: pike, piken, piker, pikene, pikerne, pikes, pikens, pikers, pikenes, pikernes, pikebarn, pikebørn, pige, pige, piger, pigene, pigerne, piges, pigens, pigers, pigenes, pigernes, pigebarn, pigebarnet, pigeborn, pigc, pigcn, pigcr, pigcne, pigcrne, pigcs, pigcbarn, pigcbarnet, pigcborn; \n",
    "Skjønne_: skjønn, skjonn, skøn, skon, skjønne, skjønnc, skjonne, skjonnc;\n",
    "Naturen_: natur, naturen, naturcn; \n",
    "Sjel_: sjel, Sjelen, Sjels, Sjelens, Sjelelig, Sjelelige, Sjcl, Sjclen, Sjcls, Sjclens, Sjclcn, Sjclcns; \n",
    "Rest_; min, mine, ny, nye, disse, burde; \n",
    "#\n",
    "“Moderlige inntrykk/Motherly impressions” ;;\n",
    "Inntrykk: inntrykk, indtryk, indtrykk, intryk, intrykk;\n",
    "Moderlige_: moderlige, modcrlige, modcrligc, moderligc, mor, moder, modcr, moderlig, modre, modrcne, modrc, modcrlig, modcrlighcden, modcrlighed, moderlighed, modcrlighcd;\n",
    "Edle_: , edle, edel, cdel, cdcl, edcl, cdlc, cdle, edlc; \n",
    "Fryktede_: fryktede, fryktet, fryktct, fryktcde, fryktcdc, fryktedc; \n",
    "Enkle_: enkle, enklc, cnklc, cnkle, enkel, cnkel, cnkcl, enkcl; \n",
    "Sjels_: Sjel, Sjelen, Sjels, Sjelens, Sjelelig, Sjelelige, Sjcl, Sjclen, Sjcls, Sjclens, Sjclcn, Sjclcns; \n",
    "Så_: se, ser, sc, scr, så, saa; \n",
    "#\n",
    "“Kvinnen i samfunnet/Woman in society”;;\n",
    "Hennes_: hun, henne, hcnne, hcnnc, hennc, hennes, hcnnes, hcnncs, henncs, hende, hcnde, hcndc, hendc, hendes, hcndes, hcndcs, hendcs;\n",
    "Innflytelse_: Innflytelse, Innflydelsen, Innflydelse, Inflydelse, Inflydelsen, Inflydelser, Inflydclse,  Indflydelse, Indflydelsen, Indflydelser, Indflydclse, Indflydelsc, Indflvdelse, Indflpdelse, Indflydclsc, Indflydelst, Indflydelses, Indflndelse, Indflhdelse, Indflydrlse, Indfludelse, Indflydelserne, Indflydelsens, Indflydels, Indflpdclse, Indflydelsers, Indflydclsen, Indflydelscn, Indflydelss, Indflydélse, Indflydelsé, Indflydelsr, Indflvdelsen, Indflpdelsen, Indflydclscr, Indfludclse, Indflpdclsc, Indflydllse, Indflydelsm, Indflvdelser, Indflvdclsc, Indfllidelse, Indflydrlsc, Indflydelseu, Indfltzdelse, Indflydlse, Indflvdelsc, IndflydeLse, Indflyldelse\n",
    "Makt_: makt, magt, makten, maktcn, magten, magtcn;  \n",
    "Religion_: religion, religionen, rcligion, réligion, relligion, regligion, rsligion, religios, religiose, religiositet, religissitet, religiositcit, rcligiositet, rcligissitet, religissitct, religissitcet, kristen, kristcn, kristelig,  kristslig, kristelige, kristeliges, kristclige, kristeligt, kristlige, kristligt, christen, christcn, christelig, christclig, christlig, christelige, christeligt, christclige, christeligen, christclig, christeliges, christeligs, christeligc, christlige, christlig, christcligc, ccristcligt, christeliges, kristendommen, kristendommens, chritstendommen, chrtstendommen, chritstendommens, chrtstendommens; \n",
    "Historie_: historie, historic, historien, historicn; \n",
    "Forhold_: forehold, forholdet, forholdct, Relasjon, Relation, Relacion, Forbindelse, Forbindelsen, Forbindelser, Forbindclse, Forbindclsc, Forbindelsc;\n",
    "#\n",
    "“Pigelivets begrensninger/the restrictions of a girl’s life”;;\n",
    "Pige_: pike, piken, piker, pikene, pikerne, pikes, pikens, pikers, pikenes, pikernes, pikebarn, pikebørn, pige, pige, piger, pigene, pigerne, piges, pigens, pigers, pigenes, pigernes, pigebarn, pigebarnet, pigeborn, pigc, pigcn, pigcr, pigcne, pigcrne, pigcs, pigcbarn, pigcbarnet, pigcborn;\n",
    "Kjøns_: kjøn, kjøns, kjon, kjons, kjsn, kjsns, kjm, kjms, kjM, kiMs, kvindekjon, kvindekjons, kvindekjsn, kvindekjsns, kvindekjM, kvindekjMs, Kvindekjonnet, Kvindkjøn, kvindekjøns, Kvindekjsnnet, Kvindekjønnets, Kvindekjen, Kvindekøn, Kvindekjonncts, Kvindckjonnets, Kvindckjsn, Kvindckjsnnet, Kvindekjpnnets, Kuindekjon, Kuindekjonnet, Kuindekjsn, Kvmdekjsn, Kvmdekjøn, Qvindekjøn, Qvindekjønnet, Qvindekjon, Qvindekjsnnet, Qvindekjonnet, Qvindekjøns, Qvindekjsn, Qvindekjønnets, Qvindekjonnets, Qvindekjsnnets, Qvindekjbn, Qvindekjennet, Qvindeskjød, Qvinde-Kjønnet, Qvindekj, QvindekjM, Qvindkjøn, Qvinde-Kjsn, Qvinde-Kjon, Qvindekjonnct, Qvinde-Kjonnet, Qvindekjen, Qvindekjsnnct, Qvindckjsnnet, Qvindckjon, Qvindekjemnet, Qvindckjøns, Qvindekjpnnet, Quindekjønnet, Quindekjøn, Quindekjønnets, Quinde-Kjønnet, Quindekjonnet, Quindekjøns, Quindekj, Quindekjsnnet, Quindkjøn, Quinde-Kjsnnet, Qvmdekjon, Qvmdekjsn, Qvmde-Kion, Qvmdekwn, Qvmde-Kisn, Qvindekiøn, Qvindekion, Qvinde-Kion, Qvindekisn, Qvinde-Kiøn, Qvinde-Kisn, Qvinde-Kwn, Qvindekwn, Qvindekjbn, Qvindekien, Qvinde-kion, Qvinde-Kien, Qvindckisn, Qvindckion, Qvinde-Kjsn, Qvindkjøn, Qvinde-Kjon, Qvindekjen, Qvindekiy;\n",
    "Indskrænkninger_: Indskrænkninger, Indskrenkninger, Indskrcenkninger, Indskrcrnkninger, Indskroenkninger, Indskrankninger, Indskrcrnkningcr, Indskrcenkningcr;\n",
    "Stakkels_: stakkel, stakkels, stakkars, stakkal, Stakkcl, Stakkal, Stakkrl, Stakkl, StakkeL, Stakkél, Stattel, Stackel, Staßßel, Stacel, StafTel, StakeL, Stakfel, StakkeL, Stachcl, Staffcl, Stattcl, Staktcl, tstallels, Stallel, tallels, stallels, Stallel, statkels; \n",
    "Hæve_: hæve, hceve, heve, hcve, hævc, hcevc, hevce; \n",
    "Småligheder_: smålighed, smaalighed, småligheder, smaaligheder, smålighcd, smaalighcd, smålighcder, smaalighcder, smålighcdcr, smaalighcdcr, smålighedcr, smaalighedcr;\n",
    "Krænke_: krænke, krænkc, krcenke, krcenkc, krænker, krænkcr, krcenker, krcenkcr; \n",
    "Rest: gjør, gjor, lade, Om, Nogen, gjøre, gjore, tro, o, Dem; \n",
    "#\n",
    "“Dansens metafor/the metaphor of dance”;;\n",
    "Danse_: danse, dansc, danser, danscr, dansen, danscn;\n",
    "Burde_: burde burdc, bør, bor;\n",
    "Hvem_: hvem, hvcm;\n",
    "Musiken_: Musiken, musik, musikk, musikken, musikkcn, musikcn;\n",
    "Uheldige_: uheldige, uheldig, uhcldige, uhcldig, uheldigc, uhcldigc;\n",
    "Glæde_: Glæde, glædc, glcede, glcedc;\n",
    "Rest_: får, mit, gjerne;\n",
    "#\n",
    "“Kvindekjønnets last (1)/The vice of the female sex”;;\n",
    "Kjøns_: kjøn, kjøns, kjon, kjons, kjsn, kjsns, kjm, kjms, kjM, kiMs, kvindekjon, kvindekjons, kvindekjsn, kvindekjsns, kvindekjM, kvindekjMs, Kvindekjonnet, Kvindkjøn, kvindekjøns, Kvindekjsnnet, Kvindekjønnets, Kvindekjen, Kvindekøn, Kvindekjonncts, Kvindckjonnets, Kvindckjsn, Kvindckjsnnet, Kvindekjpnnets, Kuindekjon, Kuindekjonnet, Kuindekjsn, Kvmdekjsn, Kvmdekjøn, Qvindekjøn, Qvindekjønnet, Qvindekjon, Qvindekjsnnet, Qvindekjonnet, Qvindekjøns, Qvindekjsn, Qvindekjønnets, Qvindekjonnets, Qvindekjsnnets, Qvindekjbn, Qvindekjennet, Qvindeskjød, Qvinde-Kjønnet, Qvindekj, QvindekjM, Qvindkjøn, Qvinde-Kjsn, Qvinde-Kjon, Qvindekjonnct, Qvinde-Kjonnet, Qvindekjen, Qvindekjsnnct, Qvindckjsnnet, Qvindckjon, Qvindekjemnet, Qvindckjøns, Qvindekjpnnet, Quindekjønnet, Quindekjøn, Quindekjønnets, Quinde-Kjønnet, Quindekjonnet, Quindekjøns, Quindekj, Quindekjsnnet, Quindkjøn, Quinde-Kjsnnet, Qvmdekjon, Qvmdekjsn, Qvmde-Kion, Qvmdekwn, Qvmde-Kisn, Qvindekiøn, Qvindekion, Qvinde-Kion, Qvindekisn, Qvinde-Kiøn, Qvinde-Kisn, Qvinde-Kwn, Qvindekwn, Qvindekjbn, Qvindekien, Qvinde-kion, Qvinde-Kien, Qvindckisn, Qvindckion, Qvinde-Kjsn, Qvindkjøn, Qvinde-Kjon, Qvindekjen, Qvindekiy;\n",
    "Skinnet_: Skinnet, skinnct, skinn, vedtegt, vcdtegt, vcdtcgt, vedtcgt, vædtegt, vædtcgt, vcedtegt, vcedtcg, vedtegten, vcdtegten, vcdtcgten,  vedtcgten, vædtegten, vædtcgten, vcedtegten, vcedtcgten, vedtegtcn, vcdtegtcn, vcdtcgtcn, vedtcgtcn, vædtegtcn, vædtcgtcn, vcedtegtcn, vcedtcgcn; \n",
    "Foragt_: foragt, foragte, foragtc, foragter, foragtcr, slet, slct; \n",
    "Lyst_: lyst, lysten, lystcn;\n",
    "Momenter_: moment, momcnt,  momenter, momentcr, momcnter, momcntcr; \n",
    "Rest_: også, dyb, indtil, kommet; \n",
    "#\n",
    "“Kvindekjønnets last (2)/The vice of the female sex”;;\n",
    "Kjøns_: kjøn, kjøns, kjon, kjons, kjsn, kjsns, kjm, kjms, kjM, kiMs, kvindekjon, kvindekjons, kvindekjsn, kvindekjsns, kvindekjM, kvindekjMs, Kvindekjonnet, Kvindkjøn, kvindekjøns, Kvindekjsnnet, Kvindekjønnets, Kvindekjen, Kvindekøn, Kvindekjonncts, Kvindckjonnets, Kvindckjsn, Kvindckjsnnet, Kvindekjpnnets, Kuindekjon, Kuindekjonnet, Kuindekjsn, Kvmdekjsn, Kvmdekjøn, Qvindekjøn, Qvindekjønnet, Qvindekjon, Qvindekjsnnet, Qvindekjonnet, Qvindekjøns, Qvindekjsn, Qvindekjønnets, Qvindekjonnets, Qvindekjsnnets, Qvindekjbn, Qvindekjennet, Qvindeskjød, Qvinde-Kjønnet, Qvindekj, QvindekjM, Qvindkjøn, Qvinde-Kjsn, Qvinde-Kjon, Qvindekjonnct, Qvinde-Kjonnet, Qvindekjen, Qvindekjsnnct, Qvindckjsnnet, Qvindckjon, Qvindekjemnet, Qvindckjøns, Qvindekjpnnet, Quindekjønnet, Quindekjøn, Quindekjønnets, Quinde-Kjønnet, Quindekjonnet, Quindekjøns, Quindekj, Quindekjsnnet, Quindkjøn, Quinde-Kjsnnet, Qvmdekjon, Qvmdekjsn, Qvmde-Kion, Qvmdekwn, Qvmde-Kisn, Qvindekiøn, Qvindekion, Qvinde-Kion, Qvindekisn, Qvinde-Kiøn, Qvinde-Kisn, Qvinde-Kwn, Qvindekwn, Qvindekjbn, Qvindekien, Qvinde-kion, Qvinde-Kien, Qvindckisn, Qvindckion, Qvinde-Kjsn, Qvindkjøn, Qvinde-Kjon, Qvindekjen, Qvindekiy;\n",
    "Skinnet_: Skinnet, skinnct, skinn, vedtegt, vcdtegt, vcdtcgt, vedtcgt, vædtegt, vædtcgt, vcedtegt, vcedtcg, vedtegten, vcdtegten, vcdtcgten,  vedtcgten, vædtegten, vædtcgten, vcedtegten, vcedtcgten, vedtegtcn, vcdtegtcn, vcdtcgtcn, vedtcgtcn, vædtegtcn, vædtcgtcn, vcedtegtcn, vcedtcgcn; \n",
    "Foragt_: foragt, foragte, foragtc, foragter, foragtcr, slet, slct; \n",
    "Slår_: slår, slaar;\n",
    "Rest_: også, Deres, kommet, kjere, indtil, ikke, holde, især, dyb, gid; \n",
    "#\n",
    "“Woman’s happiness”;;\n",
    "Lykke_: lykke, lykken, lykkelig, lykkc, lykkcn, lykkclig;\n",
    "Hende_: hun, henne, hcnne, hcnnc, hennc, hennes, hcnnes, hcnncs, henncs, hende, hcnde, hcndc, hendc, hendes, hcndes, hcndcs, hendcs; \n",
    "Turde_: turde, turdc, turbe, tnrde, tnrdc; \n",
    "Leve_: leve, lever, lcve, lcvc, levc, lcver, lcvcr, levcr; \n",
    "Egoistisk_: egen, cgen, cgcn, egcn, egoistisk, cegoistisk; \n",
    "Rest_: os, Hvor, gaves, Gang, om, trådte, for, først; \n",
    "#\n",
    "“Kvinnens behov/woman’s needs”;;\n",
    "Kvinne_: kvinne, kvinnen, kvinner, kvinnene, kvinnerne, kvinnes, kvinnens, kvinners, kvinnenes, kvinnernes, kvinde, kvinden, kvinder, kvinderne, kvindens, kvindes, kvindernes, kvinders, kvindelige, kvindelig, kvindeligt, kvindene, kvindeme, kvindenes, kvindemes, kvindc, kvindcr, kvindcn, kvindcns, kvindcs, kvindcrnes, kvindcrnc, kvindcrs, kvindcrncs, kvindclighed, kvindcligheden, kuindc, kuindcr, kuindcn, kuindcs, kuindcrne, kuindcns, kuinde, kuinder, kuinden, kuinderne, kuindens, kuinders, kuindes, Kvmde, Kvmder, Kvmderne, Kvmden, Kvmdens, Kvmdes, Kvmdernes, Kvmders, Kvmdelige, Kvmdc, Kvmdcr, Kvmdelig, Kvmds, Kvmder, Kvmdcs, Kvmdei, stvinder, stvindcr, qvinde, qvinden, qvinder, qvinderne, qvindene, quinde, quinden, quinder, qvinderne, qvindene, qvindcr, quindcr, qvindcrne, qvindene, quindcrne, quindcne, Qvmde, Qvmder, Qvmden, Qvmdens, Qvmderne, Qvmdes, Qvmdfolk, Qvmders, Qvmdc, Qvmdm, Qvmd, Qvmdcr, Qvmdernes, Qvmdfolck, Qvmdis, Qvmds, Qvmdelig, Qvmdekwn, Qvmdcs, Qvmdcn, Qvmdeligt, Qvmdernis, Qvmdcrs, Qvmdt; \n",
    "Behov_: behov, bchov, bebov, bcbov, trenger, trcnger, trengcr, trcngcr, trænger, trcenger, trcrnger, trcengcr, trcrngcr ; \n",
    "Kjærlighed_: Kjærlighed, kjærlighed, kjærlig, kjcerlig, kjcerligt, kjærligheden, kjærlighedens, kjcerlighed, kjcerligheden, kjcerlighedens, kjcrrlighed, kjcrrligheden, kjcrrlighedens, kjaerlighet, kjaerligheten, kjaerlighetens, kjerlighed, kjærligbed, kjærligked, kjarlighed, kjwrlighed, kjårlighed, kjætlighed, kjerligbed, kjæilighed, kjærlighcd, kjarlighcd, kjælighed, kjerlighcd, kjærligheD, kjnrlighed, kjærlighéd, kjNrligked, kjwrlighcd, kjxrlighed, kjerligked, kjelighed, kjærlighod, kjærligded, kjærlighd, kjællighed, kjXrligned, kjærlighsd, kjNrligned, kjærligmed, kjærligned, kjErlighed, kjXrligked, kjirlighed, kjærligued, kjXlligked, kjæflighed, kjsrlighed, kjNlligked, kjærlighød, kjålighed, kjærligksd, kjærliglud, kjerligned, kjmlighed, kjcrlighed, kjVrlighed kjcerlighet, kjZerlignet, kjarlighet, kj??rlighet, kjærligbet, kjZerligket, kjærlighct, kjerlighet, kjoerlighet, kjXrligket, kjlerligket, kjserlighet, kjærligKet, kjNrligket, kjcerligbet, kjcrrlighet, kjeerlighet, kjærlig-het kjærligheds, kjerligheden, kjcerlighedens, kjerlighedens, kjcerligheds, kjcerlighcd, kjcerlighedcn, kjxrlighed, kjeerlighcd, kjcerligheden, kjierlighed, kj??rlighedens, kjcrrlighedl, kjarlighedens, kjcerlighedcns, kjærlighedcn, kjoerlighed;\n",
    "Negasjon_: ikke, hverken, hvcrkcn, hvcrken, ingenting, ingcnting; \n",
    "Kraft_: kraft, krafl, styrke, styrkc, styrle, styrlc;\n",
    "Gjør_: gjør, gjor, lade, gjorde, gjordc, ladet, ladct; \n",
    "#\n",
    "“En glødende sjels livsvilkår/ the life conditions of a fiery soul” ;;\n",
    "sjeler_: Sjel, Sjelen, Sjels, Sjelens, Sjelelig, Sjelelige, Sjcl, Sjclen, Sjcls, Sjclens, Sjclcn, Sjclcns;  \n",
    "Samfund_: samfund, Samfund, Samfundet, Samfundct, Samsundet, Samundsd, Samiundet, Samfnndet, Samfnndct, Samfuudet, verden, værden, vcrden, vcerden, verdcn, værdcn, vcrdcn, vcerdcn;  \n",
    "Liv_: liv, livet, livct;\n",
    "Privat_: privat, private, privatc, Privatsfære; \n",
    "Tenke_: tenke, tænke, tcnke, tcnkc, tenkc, tænkc, tcenke, tcenkc, tcrnke, tcrnkc, refleksjon, rcfleksjon, reflcksjon, rcflcksjon, reflektjon, rcflektjon, reflcktjon, rcflcktjon, reflektion, rcflektion, reflcktion, rcflcktion, reflekcion, rcflekcion, reflckcion, rcflckcion ; \n",
    "Glødende_: glødende, glødcnde, glødcndc, glødendc, glodende, glodecnde, glodendc, glodcndc, glodeude, sterk, stcrk; \n",
    "Fare_: Fare, Farc, Faren, Farcn, Farer, Farcr, Farene, Farcnc, Farcne, Farenc; \n",
    "Rest_: så, denne, mindre, ennå, nok, dyb, hennes, hans; \n",
    "#\n",
    "“Kvindens frihed/Woman’s freedom”;;\n",
    "Frihed_: frihed, Frihed, Frihcd, Frihrd, Frihsd, Frihod, Frihéd, Frihtd, Frihd, FrihZd, Frihe.d, Frihkd, Frihld,  Fribed, Friked, Frided, Friled, FriKed, Frimed, FriHed, Frived, Frjhed, Frlhed, FrHed, Frzhed, Frhed, Frfhed, FriHed, Frkhed, Frrhed; \n",
    "Kvinne_: kvinne, kvinnen, kvinner, kvinnene, kvinnerne, kvinnes, kvinnens, kvinners, kvinnenes, kvinnernes, kvinde, kvinden, kvinder, kvinderne, kvindens, kvindes, kvindernes, kvinders, kvindelige, kvindelig, kvindeligt, kvindene, kvindeme, kvindenes, kvindemes, kvindc, kvindcr, kvindcn, kvindcns, kvindcs, kvindcrnes, kvindcrnc, kvindcrs, kvindcrncs, kvindclighed, kvindcligheden, kuindc, kuindcr, kuindcn, kuindcs, kuindcrne, kuindcns, kuinde, kuinder, kuinden, kuinderne, kuindens, kuinders, kuindes, Kvmde, Kvmder, Kvmderne, Kvmden, Kvmdens, Kvmdes, Kvmdernes, Kvmders, Kvmdelige, Kvmdc, Kvmdcr, Kvmdelig, Kvmds, Kvmder, Kvmdcs, Kvmdei, stvinder, stvindcr, qvinde, qvinden, qvinder, qvinderne, qvindene, quinde, quinden, quinder, qvinderne, qvindene, qvindcr, quindcr, qvindcrne, qvindene, quindcrne, quindcne, Qvmde, Qvmder, Qvmden, Qvmdens, Qvmderne, Qvmdes, Qvmdfolk, Qvmders, Qvmdc, Qvmdm, Qvmd, Qvmdcr, Qvmdernes, Qvmdfolck, Qvmdis, Qvmds, Qvmdelig, Qvmdekwn, Qvmdcs, Qvmdcn, Qvmdeligt, Qvmdernis, Qvmdcrs, Qvmdt;\n",
    "Situasjon_: situasjon, situation, situacion, situalion, situasjonen, situationen, situationcn, situationcn, sutacionen, situacioncn, situalionen, situalioncn; \n",
    "Interesser_: interesse, intcresse, interessc, intcressc, interesser, intcresser, interesscr, intcresscr, gavn;\n",
    "Følte_: følte, føltc, folte, foltc, kjente, kjcnte, kjentc, kjcntc, kiente, kientc, kicntc, kicntc, merket, mcrket, merkct, mcrkct; \n",
    "Ville_: ville, vilde, villc, vildc; \n",
    "Rest_: lite, kunne, være, nok, gjøre, ville, kom, mye, var, ikke; \n",
    "#\n",
    "“Guds skapelse av mennesket (1)/God’s creation of man”;;\n",
    "Mand_: Mand, Manden, Mænd, Mcend, Mcrnd, Mccnd, M33nd, MWnd, Mcendene, Mcendenes, Mcendcne, Mcendenc, Mcender, Mcendme, Mcendcnes, Mcendcnc, Mcendeue, McendeneZ, Mcendens, McendsDom, Mcendsom, Mcendeues, McendeneS, Mcendcncs, Mcrndene, Mcrndenes, Mcrndcne, Mcrndenc, McrndS, Mcrndcnc, Mcrndencs, Mcrnder, Mcrndcnes, Mcrndme, McrndZ, Mcrndeue, Mcrnden, Mcrndcncs, McrndeneZ, McrndeneS;\n",
    "Kvinde_: kvinne, kvinnen, kvinner, kvinnene, kvinnerne, kvinnes, kvinnens, kvinners, kvinnenes, kvinnernes, kvinde, kvinden, kvinder, kvinderne, kvindens, kvindes, kvindernes, kvinders, kvindelige, kvindelig, kvindeligt, kvindene, kvindeme, kvindenes, kvindemes, kvindc, kvindcr, kvindcn, kvindcns, kvindcs, kvindcrnes, kvindcrnc, kvindcrs, kvindcrncs, kvindclighed, kvindcligheden, kuindc, kuindcr, kuindcn, kuindcs, kuindcrne, kuindcns, kuinde, kuinder, kuinden, kuinderne, kuindens, kuinders, kuindes, Kvmde, Kvmder, Kvmderne, Kvmden, Kvmdens, Kvmdes, Kvmdernes, Kvmders, Kvmdelige, Kvmdc, Kvmdcr, Kvmdelig, Kvmds, Kvmder, Kvmdcs, Kvmdei, stvinder, stvindcr, qvinde, qvinden, qvinder, qvinderne, qvindene, quinde, quinden, quinder, qvinderne, qvindene, qvindcr, quindcr, qvindcrne, qvindene, quindcrne, quindcne, Qvmde, Qvmder, Qvmden, Qvmdens, Qvmderne, Qvmdes, Qvmdfolk, Qvmders, Qvmdc, Qvmdm, Qvmd, Qvmdcr, Qvmdernes, Qvmdfolck, Qvmdis, Qvmds, Qvmdelig, Qvmdekwn, Qvmdcs, Qvmdcn, Qvmdeligt, Qvmdernis, Qvmdcrs, Qvmdt;\n",
    "Menneske_: menneske, Mennesket, Menneskets, menniske; \n",
    "Guds_: Gud, Guds; \n",
    "Billede_: Billede, billcde, billcdc, billedc, Billed, billcd; \n",
    "Skapte_: skapte, skable, skaptc, skapblc; \n",
    "Skjonhed_: Skjonhed, skjonhcd, skjonbed, skjonbcd, skjønhed, skjønhcd, skjønbed, skjønbcd; \n",
    "Rest_: deri, ligger, forste, de, Den, Grad; \n",
    "#\n",
    "“Guds skapelse av mennesket (2)/God’s creation of man”;;\n",
    "Mand_: Mand, Manden, Mænd, Mcend, Mcrnd, Mccnd, M33nd, MWnd, Mcendene, Mcendenes, Mcendcne, Mcendenc, Mcender, Mcendme, Mcendcnes, Mcendcnc, Mcendeue, McendeneZ, Mcendens, McendsDom, Mcendsom, Mcendeues, McendeneS, Mcendcncs, Mcrndene, Mcrndenes, Mcrndcne, Mcrndenc, McrndS, Mcrndcnc, Mcrndencs, Mcrnder, Mcrndcnes, Mcrndme, McrndZ, Mcrndeue, Mcrnden, Mcrndcncs, McrndeneZ, McrndeneS;\n",
    "Kvinde_: kvinne, kvinnen, kvinner, kvinnene, kvinnerne, kvinnes, kvinnens, kvinners, kvinnenes, kvinnernes, kvinde, kvinden, kvinder, kvinderne, kvindens, kvindes, kvindernes, kvinders, kvindelige, kvindelig, kvindeligt, kvindene, kvindeme, kvindenes, kvindemes, kvindc, kvindcr, kvindcn, kvindcns, kvindcs, kvindcrnes, kvindcrnc, kvindcrs, kvindcrncs, kvindclighed, kvindcligheden, kuindc, kuindcr, kuindcn, kuindcs, kuindcrne, kuindcns, kuinde, kuinder, kuinden, kuinderne, kuindens, kuinders, kuindes, Kvmde, Kvmder, Kvmderne, Kvmden, Kvmdens, Kvmdes, Kvmdernes, Kvmders, Kvmdelige, Kvmdc, Kvmdcr, Kvmdelig, Kvmds, Kvmder, Kvmdcs, Kvmdei, stvinder, stvindcr, qvinde, qvinden, qvinder, qvinderne, qvindene, quinde, quinden, quinder, qvinderne, qvindene, qvindcr, quindcr, qvindcrne, qvindene, quindcrne, quindcne, Qvmde, Qvmder, Qvmden, Qvmdens, Qvmderne, Qvmdes, Qvmdfolk, Qvmders, Qvmdc, Qvmdm, Qvmd, Qvmdcr, Qvmdernes, Qvmdfolck, Qvmdis, Qvmds, Qvmdelig, Qvmdekwn, Qvmdcs, Qvmdcn, Qvmdeligt, Qvmdernis, Qvmdcrs, Qvmdt;\n",
    "Menneske_: menneske, Mennesket, Menneskets; \n",
    "Guds_: Gud, Guds; \n",
    "Billede_: Billede, billcde, billcdc, billedc, Billed, billcd; \n",
    "Skjonhed_: Skjonhed, Skjonhed, skjonhcd, skjonbed, skjonbcd, skjønhed, skjønhcd, skjønbed, skjønbcd; \n",
    "Rest_: paa, deri, forste; \n",
    "#\n",
    "“Guds skapelse av kvinden / God’s creation of woman”;;\n",
    "Gud_: Gud, Guds, herre, Herre, Herren, herrens, herrer, herrers, herrene, herrenes, herrerne, herrernes, hcerre, hecrren, hcrrens, hcrrer, hcrrers, hcrrene, hcrrenes, hcrrcn; \n",
    "Skabningens_: Skabningens, Skaberens, Skabningens, Skabningen, Skabningcn, Skabningn, Skabningcns, SkabningenS, Stabningens, Skabningcns, Slabningens, SabningenS, SkabningenS, SfabningenS, Skabuingens, Skabniugens, Stabningcns, Slabning, Stabningens, Slabninger, Elabning, Stabningeus; \n",
    "Kvinden_: kvinne, kvinnen, kvinner, kvinnene, kvinnerne, kvinnes, kvinnens, kvinners, kvinnenes, kvinnernes, kvinde, kvinden, kvinder, kvinderne, kvindens, kvindes, kvindernes, kvinders, kvindelige, kvindelig, kvindeligt, kvindene, kvindeme, kvindenes, kvindemes, kvindc, kvindcr, kvindcn, kvindcns, kvindcs, kvindcrnes, kvindcrnc, kvindcrs, kvindcrncs, kvindclighed, kvindcligheden, kuindc, kuindcr, kuindcn, kuindcs, kuindcrne, kuindcns, kuinde, kuinder, kuinden, kuinderne, kuindens, kuinders, kuindes, Kvmde, Kvmder, Kvmderne, Kvmden, Kvmdens, Kvmdes, Kvmdernes, Kvmders, Kvmdelige, Kvmdc, Kvmdcr, Kvmdelig, Kvmds, Kvmder, Kvmdcs, Kvmdei, stvinder, stvindcr, qvinde, qvinden, qvinder, qvinderne, qvindene, quinde, quinden, quinder, qvinderne, qvindene, qvindcr, quindcr, qvindcrne, qvindene, quindcrne, quindcne, Qvmde, Qvmder, Qvmden, Qvmdens, Qvmderne, Qvmdes, Qvmdfolk, Qvmders, Qvmdc, Qvmdm, Qvmd, Qvmdcr, Qvmdernes, Qvmdfolck, Qvmdis, Qvmds, Qvmdelig, Qvmdekwn, Qvmdcs, Qvmdcn, Qvmdeligt, Qvmdernis, Qvmdcrs, Qvmdt;\n",
    "Fuldkommen_: fuldkommen, fuldkommcn, fnldkommen, fnldkommcn; \n",
    "Halvdel_: halvdel, halvdcl; \n",
    "Rest_: har, mere, om; \n",
    "#\n",
    "“Holdning til samfunnet/ Attitude towards society”;;\n",
    "Samfundet_: Samfund, Samfundet, Samfundct, Samsundet, Samundsd, Samiundet, Samfnndet, Samfnndct, Samfuudet;\n",
    "Retferdighed_: retfærdighed, retfcerdighed, retferdighed, retfcrrdighed, retfoerdighed, retfardighed, rctfcerdighed, rettfærdighed, rætfærdighed, rctfcrrdighed, rættferdighed, retfaerdighed, rctferdighed, retfccrdighed, retfwrdighed, retftrrdighed, rætferdighed, rættfærdighed, retfterdighed, retfeerdighed, rctfardighed, retfserdighed, retfirrdighed, retflrrdighed, rctfoerdighed, retfærdlghed, rertferdighed, retfcerdtghed, rettferdughed, retttferdighed, retførdighed, retfierdighed, retfcrrdlghed, rctfccrdighed, retfErdighed, retfsrdighed, rettférdighed, rettferdghed, ratfardighed, retfcerdlghed, retfZerdighed, retfardlghed, retftrdighed, rctfærdighed, retfHrdighed, uretfa-rdighed, retfcerdelighed, rettferdleghed retfssrdighed, rettferdiighed, retfcrdighed, retfcrrdtghed, rettferddighed, rcrtfcrrdighed, retferrdighed, retferdlghed, retfærdighcd, retfcerdighcd, retferdighcd, retfcrrdighcd, retfoerdighcd, retfardighcd, rctfcerdighcd, rettfærdighcd, rætfærdighcd, rctfcrrdighcd, rættferdighcd, retfaerdighcd, rctferdighcd, retfccrdighcd, retfwrdighcd, retftrrdighcd, rætferdighcd, rættfærdighcd, retfterdighcd, retfeerdighcd, rctfardighcd, retfserdighcd, retfirrdighcd, retflrrdighcd, rctfoerdighcd, retfærdlghcd, rertferdighcd, retfcerdtghcd, rettferdughcd, retttferdighcd, retførdighcd, retfierdighcd, retfcrrdlghcd, rctfccrdighcd, retfErdighcd, retfsrdighcd, rettférdighcd, rettferdghcd, ratfardighcd, retfcerdlghcd, retfZerdighcd, retfardlghcd, retftrdighcd, rctfærdighcd, retfHrdighcd, uretfa-rdighcd, retfcerdelighcd, rettferdleghcd retfssrdighcd, rettferdiighcd, retfcrdighcd, retfcrrdtghcd, rettferddighcd, rcrtfcrrdighcd, retferrdighcd, retferdlghcd;; \n",
    "Engstelse_: Engstelse, engstclse, engstclsc, engstelsc, eugstelse, eugstclse, eugstclse, eugstclsc; \n",
    "Indbildning_: Indbildning, indbilduing, iudbildning;\n",
    "Ligegyldig_: Ligegyldighed, Ligegyldighcd, Ligcgyldighed, Ligcgyldighcd, Ligegyldighrd, Ligegyldighéd, Lige-Gyldighed, Ligrgyldighcd, Ligegyldightd, Ligegyldigbed, Ligegyldigked, Ligegyldigyed, Ligegyldiglied, Ligegyldigned, Ligcgyldigbed, Ligcgyldighcd, Ligegyldlghed, Ligegyldlghed, ligegvldigned, ligegvldigked, ligegvldiglied, ligegvldighed, ligegvldigbed,  Ligegyidighed, Ligegnldighed, Ligegpldighed, Ligegpldighcd, Ligeghldighed, Ligeguldighed,  Ligegytdighed, Ligegjddighed, Ligcgvldighcd, Ligcgvldighed, Ligcgpldighed, Ligegyldlghed, Ligegyldtghed, Ligegyldjghed, Ligcgvldighcd, Ligcgpldighed, Ligcgvldighed, ligegyldig, ligcgyldig, lige-gyldig, ligrgyldig, ligogyldig, ligsgyldig, ligegvldig, ligegyidig, ligegnldig, ligegpldig, ligeghldig, ligeguldig, ligegytdig, ligegjddig, ligegydig, ligegjldig, ligcgvldig, ligcgpldig, ligegyldlg, ligegyldtg, ligegyldjg, ligcgvldig, ligcgpldig; \n",
    "Rest_: har, mere, om, kogt, vil, dem, selv, give, engang, ytrede; \n",
    "#\n",
    "“Kvindens underskastelse/ Woman’s submission”;;\n",
    "Kvinde_: kvinne, kvinnen, kvinner, kvinnene, kvinnerne, kvinnes, kvinnens, kvinners, kvinnenes, kvinnernes, kvinde, kvinden, kvinder, kvinderne, kvindens, kvindes, kvindernes, kvinders, kvindelige, kvindelig, kvindeligt, kvindene, kvindeme, kvindenes, kvindemes, kvindc, kvindcr, kvindcn, kvindcns, kvindcs, kvindcrnes, kvindcrnc, kvindcrs, kvindcrncs, kvindclighed, kvindcligheden, kuindc, kuindcr, kuindcn, kuindcs, kuindcrne, kuindcns, kuinde, kuinder, kuinden, kuinderne, kuindens, kuinders, kuindes, Kvmde, Kvmder, Kvmderne, Kvmden, Kvmdens, Kvmdes, Kvmdernes, Kvmders, Kvmdelige, Kvmdc, Kvmdcr, Kvmdelig, Kvmds, Kvmder, Kvmdcs, Kvmdei, stvinder, stvindcr, qvinde, qvinden, qvinder, qvinderne, qvindene, quinde, quinden, quinder, qvinderne, qvindene, qvindcr, quindcr, qvindcrne, qvindene, quindcrne, quindcne, Qvmde, Qvmder, Qvmden, Qvmdens, Qvmderne, Qvmdes, Qvmdfolk, Qvmders, Qvmdc, Qvmdm, Qvmd, Qvmdcr, Qvmdernes, Qvmdfolck, Qvmdis, Qvmds, Qvmdelig, Qvmdekwn, Qvmdcs, Qvmdcn, Qvmdeligt, Qvmdernis, Qvmdcrs, Qvmdt;\n",
    "Mand_: Mand, Manden, Mænd, Mcend, Mcrnd, Mccnd, M33nd, MWnd, Mcendene, Mcendenes, Mcendcne, Mcendenc, Mcender, Mcendme, Mcendcnes, Mcendcnc, Mcendeue, McendeneZ, Mcendens, McendsDom, Mcendsom, Mcendeues, McendeneS, Mcendcncs, Mcrndene, Mcrndenes, Mcrndcne, Mcrndenc, McrndS, Mcrndcnc, Mcrndencs, Mcrnder, Mcrndcnes, Mcrndme, McrndZ, Mcrndeue, Mcrnden, Mcrndcncs, McrndeneZ, McrndeneS; \n",
    "Smigren_: Smigren, smigrcn, Beundring, bcundring, beundrer, bcundrer, bcundrcr, beundrcr, Kryben, smiger, Smigrer, Smigger, Smigren, Smigrerier, Smiger, opvarte, Smigr, Smigrcr, Smigrar, Smigcr, Smiggcr, Smigjer, SmiZger; \n",
    "Trelldomsaand_: trelldomsaand, Trceldomsaand, Trcrlldomsaand, Trcrldomsaand, TrcrldomSaand, Trcrldomsliv, Trcrllestand, Trcrllesind, Trceldomsaag, Trcelleaag; \n",
    "Rest_: da, maatte, Protest, mod, denne, dette, hvormed, dybe,, varmeste; \n",
    "#\n",
    "“Kvindens menneskeverd/ Woman’s dignity”;;\n",
    "Kvinde_: kvinne, kvinnen, kvinner, kvinnene, kvinnerne, kvinnes, kvinnens, kvinners, kvinnenes, kvinnernes, kvinde, kvinden, kvinder, kvinderne, kvindens, kvindes, kvindernes, kvinders, kvindelige, kvindelig, kvindeligt, kvindene, kvindeme, kvindenes, kvindemes, kvindc, kvindcr, kvindcn, kvindcns, kvindcs, kvindcrnes, kvindcrnc, kvindcrs, kvindcrncs, kvindclighed, kvindcligheden, kuindc, kuindcr, kuindcn, kuindcs, kuindcrne, kuindcns, kuinde, kuinder, kuinden, kuinderne, kuindens, kuinders, kuindes, Kvmde, Kvmder, Kvmderne, Kvmden, Kvmdens, Kvmdes, Kvmdernes, Kvmders, Kvmdelige, Kvmdc, Kvmdcr, Kvmdelig, Kvmds, Kvmder, Kvmdcs, Kvmdei, stvinder, stvindcr, qvinde, qvinden, qvinder, qvinderne, qvindene, quinde, quinden, quinder, qvinderne, qvindene, qvindcr, quindcr, qvindcrne, qvindene, quindcrne, quindcne, Qvmde, Qvmder, Qvmden, Qvmdens, Qvmderne, Qvmdes, Qvmdfolk, Qvmders, Qvmdc, Qvmdm, Qvmd, Qvmdcr, Qvmdernes, Qvmdfolck, Qvmdis, Qvmds, Qvmdelig, Qvmdekwn, Qvmdcs, Qvmdcn, Qvmdeligt, Qvmdernis, Qvmdcrs, Qvmdt, hun, henne, hcnne, hcnnc, hennc, hennes, hcnnes, hcnncs, henncs, hende, hcnde, hcndc, hendc, hendes, hcndes, hcndcs, hendcs; \n",
    "Menneskeverdighed_: Menneskeverd, Menneskeverdighed, Menneskeværd, Menneskeværdighed, Menneskevcerdighed; \n",
    "Bevidsthed_: Bevidsthed, Bcvisthed, Bcvisthcd, Bevisthcd, Beviosthed, Bevldsthed, Beviclsthed, Bevidsthrd, Bevidsthsd, Bevibsthed, Bevtdsthed, Brvidsthed, Bevidsthéd, Bcvisthed, Bevidstbed, Bevidstlied, Bevidstked, BevidstKed, Bcvidstbed, Bevidstned, Bevidsted, Bevidstwshed; \n",
    "Røst_: røst, røsten, Rosten, Rost, stemme, stemmen, tale, talt; \n",
    "Rest_: har, om, sin, vcere, vort,, kjcer, klar; \n",
    "\"\"\""
   ]
  },
  {
   "cell_type": "code",
   "execution_count": 3,
   "metadata": {},
   "outputs": [],
   "source": [
    "import dhlab.nbtext as nb"
   ]
  },
  {
   "cell_type": "code",
   "execution_count": 4,
   "metadata": {},
   "outputs": [],
   "source": [
    "def def2dict(ddef):\n",
    "    \"\"\"A theme is a set of words, a word is a set of possible occurences\"\"\"\n",
    "    theme_sets = dict()\n",
    "    #make a list of themes\n",
    "    defs = ddef.split('#')\n",
    "    #print(defs[:2])\n",
    "    for d in defs:\n",
    "        #theme title in front of double ;;\n",
    "        theme = d.split(';;')\n",
    "        if len(theme) == 2:\n",
    "            theme_name = theme[0].strip()\n",
    "            theme_defs = theme[1].split(';')\n",
    "            theme_sets[theme_name] = dict()\n",
    "            for hyper_lexeme in theme_defs:\n",
    "                hyper_struct = hyper_lexeme.split(':')\n",
    "                if len(hyper_struct) == 2:\n",
    "                    #print('#'.join(lex))\n",
    "                    hyper_name = hyper_struct[0].strip()\n",
    "                    hyper_words = [x.strip() for x in hyper_struct[1].split(',')]\n",
    "                    theme_sets[theme_name][hyper_name] = hyper_words\n",
    "                    for w in theme_sets[theme_name][hyper_name]:\n",
    "                        if w.capitalize() not in theme_sets[theme_name][hyper_name]:\n",
    "                            theme_sets[theme_name][hyper_name].append(w.capitalize())\n",
    "    return theme_sets"
   ]
  },
  {
   "cell_type": "code",
   "execution_count": 5,
   "metadata": {},
   "outputs": [],
   "source": [
    "def interesting_urns(df, limit):\n",
    "    jaccard = dict((df > 0).astype(int).sum(axis=1))\n",
    "    res = []\n",
    "    for urn in jaccard:\n",
    "        if jaccard[urn] >= limit:\n",
    "            res.append(urn)\n",
    "    return res\n",
    "\n",
    "def get_para(para_list):\n",
    "    import ast\n",
    "    paras = []\n",
    "    for p in para_list:\n",
    "        paras.append(ast.literal_eval(p))\n",
    "    urns = [x[0] for x in paras]\n",
    "    paradict = {u:[x[1] for x in paras if x[0] == u] for u in urns}\n",
    "    paragraphs = dict()\n",
    "    for u in paradict:\n",
    "        paragraphs[u] = get_paragraphs(u, paradict[u])\n",
    "    return paragraphs\n",
    "\n",
    "def interesting_paragraphs(urns, wordbag, limit):\n",
    "    interest = dict()\n",
    "    for u in urns:\n",
    "        paragraphs = nb.wordbag_eval_para(wordbag, [u])\n",
    "        for x in paragraphs:\n",
    "            if len(paragraphs[x]) >= limit:\n",
    "                #rint(paragraphs[x])\n",
    "                interest[x] = paragraphs[x]\n",
    "    return interest\n",
    "\n",
    "import requests\n",
    "def get_paragraphs(urn, paras):\n",
    "    \"\"\"Return paragraphs for urn\"\"\"\n",
    "    param = dict()\n",
    "    param['paragraphs'] = paras\n",
    "    param['urn'] = urn\n",
    "    r = requests.get(\"https://api.nb.no/ngram/paragraphs\", json=param)\n",
    "    return r.json()"
   ]
  },
  {
   "cell_type": "code",
   "execution_count": 6,
   "metadata": {},
   "outputs": [],
   "source": [
    "def major_urns(df):\n",
    "    res = []\n",
    "    means = df.mean()\n",
    "    for urn in df.index:\n",
    "        good_urn = True\n",
    "        for theme in means.index:\n",
    "            good_urn &= df[theme][urn] > means[theme]\n",
    "        if good_urn:\n",
    "            res.append(urn)\n",
    "    return res"
   ]
  },
  {
   "cell_type": "code",
   "execution_count": 7,
   "metadata": {},
   "outputs": [],
   "source": [
    "first = def2dict(themes)"
   ]
  },
  {
   "cell_type": "code",
   "execution_count": 8,
   "metadata": {},
   "outputs": [
    {
     "data": {
      "text/plain": [
       "dict_keys(['“Det moderlige(1)/ The motherly”', '“Det moderlige(2)/ The motherly”', '“Det moderlige(3)/ The motherly”', '“Det moderlige(4)/ The motherly”', '“Barmhjertighed (1)/charity”', '“Barmhjertighed (2)/charity”', '“Skjønne piker/ beautiful girls”', '“Moderlige inntrykk/Motherly impressions”', '“Kvinnen i samfunnet/Woman in society”', '“Pigelivets begrensninger/the restrictions of a girl’s life”', '“Dansens metafor/the metaphor of dance”', '“Kvindekjønnets last (1)/The vice of the female sex”', '“Kvindekjønnets last (2)/The vice of the female sex”', '“Woman’s happiness”', '“Kvinnens behov/woman’s needs”', '“En glødende sjels livsvilkår/ the life conditions of a fiery soul”', '“Kvindens frihed/Woman’s freedom”', '“Guds skapelse av mennesket (1)/God’s creation of man”', '“Guds skapelse av mennesket (2)/God’s creation of man”', '“Guds skapelse av kvinden / God’s creation of woman”', '“Kvindens underskastelse/ Woman’s submission”', '“Kvindens menneskeverd/ Woman’s dignity”'])"
      ]
     },
     "execution_count": 8,
     "metadata": {},
     "output_type": "execute_result"
    }
   ],
   "source": [
    "first.keys()"
   ]
  },
  {
   "cell_type": "code",
   "execution_count": 9,
   "metadata": {},
   "outputs": [],
   "source": [
    "import json\n",
    "\n",
    "json.dump(first, open('heidis_temadefinisjoner_desember.json', 'w', encoding='utf-8'))"
   ]
  },
  {
   "cell_type": "code",
   "execution_count": 15,
   "metadata": {},
   "outputs": [
    {
     "data": {
      "text/plain": [
       "['“Det moderlige(1)/ The motherly”',\n",
       " '“Det moderlige(2)/ The motherly”',\n",
       " '“Det moderlige(3)/ The motherly”',\n",
       " '“Det moderlige(4)/ The motherly”',\n",
       " '“Barmhjertighed (1)/charity”',\n",
       " '“Barmhjertighed (2)/charity”',\n",
       " '“Skjønne piker/ beautiful girls”',\n",
       " '“Moderlige inntrykk/Motherly impressions”',\n",
       " '“Kvinnen i samfunnet/Woman in society”',\n",
       " '“Pigelivets begrensninger/the restrictions of a girl’s life”',\n",
       " '“Dansens metafor/the metaphor of dance”',\n",
       " '“Kvindekjønnets last (1)/The vice of the female sex”',\n",
       " '“Woman’s happiness”',\n",
       " '“Kvinnens behov/woman’s needs”',\n",
       " '“En glødende sjels livsvilkår/ the life conditions of a fiery soul”',\n",
       " '“Kvindens frihed/Woman’s freedom”',\n",
       " '“Guds skapelse av mennesket (1)/God’s creation of man”',\n",
       " '“Guds skapelse av mennesket (2)/God’s creation of man”',\n",
       " '“Guds skapelse av kvinden / God’s creation of woman”',\n",
       " '“Kvindens underskastelse/ Woman’s submission”',\n",
       " '“Kvindens menneskeverd/ Woman’s dignity”']"
      ]
     },
     "execution_count": 15,
     "metadata": {},
     "output_type": "execute_result"
    }
   ],
   "source": [
    "list_of_themes = list(first.keys())\n",
    "list_of_themes"
   ]
  },
  {
   "cell_type": "markdown",
   "metadata": {},
   "source": [
    "Her er URNene det skal søkes i"
   ]
  },
  {
   "cell_type": "code",
   "execution_count": 16,
   "metadata": {},
   "outputs": [
    {
     "data": {
      "text/plain": [
       "6803"
      ]
     },
     "execution_count": 16,
     "metadata": {},
     "output_type": "execute_result"
    }
   ],
   "source": [
    "urns = nb.book_urn(period=(1830, 1880), limit=12000)\n",
    "\n",
    "len(urns)"
   ]
  },
  {
   "cell_type": "code",
   "execution_count": 17,
   "metadata": {},
   "outputs": [
    {
     "data": {
      "text/plain": [
       "6"
      ]
     },
     "execution_count": 17,
     "metadata": {},
     "output_type": "execute_result"
    }
   ],
   "source": [
    "\n",
    "round(90*7/100)"
   ]
  },
  {
   "cell_type": "markdown",
   "metadata": {},
   "source": [
    "## Hovedloop \n",
    "\n",
    "Gå gjennom temaene, generer interessante URNer og finn avsnitt i dem."
   ]
  },
  {
   "cell_type": "code",
   "execution_count": null,
   "metadata": {
    "scrolled": false
   },
   "outputs": [
    {
     "name": "stdout",
     "output_type": "stream",
     "text": [
      "“Det moderlige(1)/ The motherly” antall urner 117\n",
      "problember med: 2009092203014, Berg, C., 1864, Græsk-Dansk Ordbog til Skolebrug, , Chr. Steen &amp; Søn, unknown, cd4425cb3aa25a9971f69930e4f8835f, mul, \n",
      "\n",
      "\n",
      "“Det moderlige(2)/ The motherly” antall urner 77\n",
      "\n",
      "\n",
      "“Det moderlige(3)/ The motherly” antall urner 62\n",
      "\n",
      "\n",
      "“Det moderlige(4)/ The motherly” antall urner 3\n",
      "problember med: 2009092203014, Berg, C., 1864, Græsk-Dansk Ordbog til Skolebrug, , Chr. Steen &amp; Søn, unknown, cd4425cb3aa25a9971f69930e4f8835f, mul, \n",
      "\n",
      "\n",
      "“Barmhjertighed (1)/charity” antall urner 0\n",
      "“Barmhjertighed (2)/charity” antall urner 11\n",
      "2008100603020, , 1850, Det Nye Testament med Forklaringer, Indledninger, en Harmoni for de fire Evangelier, en Tidstavle for Apostelhistorien og et Sag-Register, udarbeidet til Brug for enhver som har det guddommelige Ord kjært, i Særdeleshed for Lærere i Kirken og Skolen, Trykt i Carl C. Werner og Comp.s Bogtrykkeri, notfiction, 6d589687db5a7b5d959ad467154fb013, nob, ger 1\n",
      "\n",
      "\n",
      "“Skjønne piker/ beautiful girls” antall urner 66\n",
      "\n",
      "\n",
      "“Moderlige inntrykk/Motherly impressions” antall urner 0\n",
      "“Kvinnen i samfunnet/Woman in society” antall urner 190\n",
      "2008100803022, Kennedy, Grace, 1850, Miss Grace Kennedy's samtlige Værker, , W. C. Lønning;Christiania : W. C. Lønning, 1850-1854, unknown, 91580f5680df120c8ef11b3b34128c0f, und,  1\n",
      "2014082608023, James, John Angell, 1872, unge Kvinde, en Ven og Ledsager for hende gjennem Livet til Udødeligheden, eller om Kvindens kristelige Opdragelse for sit Kald, Cammermeyer, unknown, dd4bdb82a7fab8d9830c5fe1b3444b4a, nob,  1\n"
     ]
    }
   ],
   "source": [
    "for theme in first:\n",
    "    theme_eval = nb.wordbag_eval(first[theme], urns)\n",
    "    sorted_urns = theme_eval.loc[major_urns(theme_eval)]\n",
    "    print(theme,'antall urner', len(sorted_urns))\n",
    "    filename = \"\".join([c for c in theme if c.isalpha() or c.isdigit() or c==' ']).rstrip() + '.json'\n",
    "    theme_dict = dict()\n",
    "    if list(sorted_urns.index) != []:\n",
    "        for urn in nb.pure_urn(list(sorted_urns.index)):\n",
    "            try:\n",
    "                paras = interesting_paragraphs( [urn], first[theme], round(90*len(first[theme])/100))\n",
    "                if len(paras) > 0:\n",
    "                    print(', '.join([str(x) for x in nb.metadata(urn)[0]]), len(paras))\n",
    "                for w in paras:\n",
    "                    theme_dict[w] = paras[w]\n",
    "            except:\n",
    "                print('problember med:',  ', '.join([str(x) for x in nb.metadata(urn)[0]]))\n",
    "        print('\\n')      \n",
    "        json.dump(theme_dict, open(filename, 'w', encoding='utf-8'))"
   ]
  },
  {
   "cell_type": "code",
   "execution_count": null,
   "metadata": {},
   "outputs": [],
   "source": []
  }
 ],
 "metadata": {
  "kernelspec": {
   "display_name": "Python 3",
   "language": "python",
   "name": "python3"
  },
  "language_info": {
   "codemirror_mode": {
    "name": "ipython",
    "version": 3
   },
   "file_extension": ".py",
   "mimetype": "text/x-python",
   "name": "python",
   "nbconvert_exporter": "python",
   "pygments_lexer": "ipython3",
   "version": "3.7.3"
  }
 },
 "nbformat": 4,
 "nbformat_minor": 2
}
