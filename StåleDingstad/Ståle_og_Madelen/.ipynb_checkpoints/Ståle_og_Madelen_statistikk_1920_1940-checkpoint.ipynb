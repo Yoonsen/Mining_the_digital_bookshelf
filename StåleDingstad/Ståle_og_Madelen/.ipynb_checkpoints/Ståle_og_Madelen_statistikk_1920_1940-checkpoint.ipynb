{
 "cells": [
  {
   "cell_type": "markdown",
   "metadata": {},
   "source": [
    "# Statistikk fra Bokhylla på _jøde_\n",
    "\n",
    "Bare hopp over den første biten til dere kommer til en neste hovedoverskrift. Deretter kan narrative følges.\n",
    "\n",
    "Fra mail:\n",
    "``\n",
    "1. Antall bokutgivelser som inneholder følgende ord: jøde, jøden, jøder, jødene, jøderne, jødisk, jødiske.\n",
    " \n",
    "\n",
    "Her må det lages lister over bokutgivelsene med forfatter og titler. \n",
    "\n",
    "2. Hva står i umiddelbar nærhet av ord og ordsammensetninger med jøde?\n",
    "\n",
    "Her må betydningsbærende ord fremheves og disse må kunne skilles i nøytrale, positive og negative kategorier.\n",
    "\n",
    "Av bokutgivelser for perioden ser jeg at det er ca. 200 titler pr. år. Forekomstene av ord og ordkombinasjoner med jøde i hver enkelt bokutgivelse varierer stort.\n",
    "\n",
    "For min egen del trenger jeg en slik statistikk for å kunne si noe om det store bildet på bakgrunn av Hamsuns bokutgivelser som jeg leser manuelt.\n",
    "``"
   ]
  },
  {
   "cell_type": "markdown",
   "metadata": {},
   "source": [
    "##### Boot cell\n",
    "\n",
    "Skip if `module_update.py` is in same folder as notebook, next cell downloads this file which in turn will download other files."
   ]
  },
  {
   "cell_type": "code",
   "execution_count": 1,
   "metadata": {},
   "outputs": [],
   "source": [
    "import urllib.request, shutil\n",
    "with urllib.request.urlopen(\"https://raw.githubusercontent.com/Yoonsen/Modules/master/module_update.py\") as response, open(\"module_update.py\", 'wb') as out_file:\n",
    "    shutil.copyfileobj(response, out_file)"
   ]
  },
  {
   "cell_type": "markdown",
   "metadata": {},
   "source": [
    "##### Get essentials\n",
    "\n",
    "Import text and graph modules for analysis, and css for display"
   ]
  },
  {
   "cell_type": "code",
   "execution_count": 2,
   "metadata": {
    "slideshow": {
     "slide_type": "slide"
    }
   },
   "outputs": [],
   "source": [
    "from module_update import update, css"
   ]
  },
  {
   "cell_type": "code",
   "execution_count": 3,
   "metadata": {},
   "outputs": [
    {
     "data": {
      "text/html": [
       "<style>@import url(\n",
       "http://fonts.googleapis.com/css?family=Lato|Philosopher|Montserrat|Source+Code+Pro|Istok+Web|Philosopher|Assistant:200,400,700);\n",
       "\n",
       "/*\n",
       "#notebook-container {\n",
       "\t-webkit-box-shadow: none;\n",
       "\tbox-shadow: none;\n",
       "}\n",
       "*/\n",
       "\n",
       "h1, h2, h3, h4, h5, h6 {\n",
       "\tfont-family: 'Montserrat', sans-serif;\n",
       "\tline-height: 2em;\n",
       "    color: #004f99;\n",
       "    font-weight: 600;\n",
       "}\n",
       "\n",
       "h1 { font-size: 4.5em; }\n",
       "h2 { font-size: 4em; }\n",
       "h3 { font-size: 3.5em; }\n",
       "h4 { font-size: 3em; }\n",
       "h5 { font-size: 2.5em; color:DarkSlateGray; }\n",
       "h6 { font-size: 2em; }\n",
       "\n",
       "p {\n",
       "\tfont-family: 'Assistant', sans-serif; \n",
       "\tfont-size: 1.2em;\n",
       "\tline-height: 1.4em;\n",
       "\tcolor: black;\n",
       "}\n",
       "p code {\n",
       "\tfont-size:0.9em;\n",
       "}\n",
       "div.input_area {\n",
       "\tborder:none !important;\n",
       "\tborder-left:1px solid #ff851b !important\n",
       "}\n",
       "\n",
       "span.cm-keyword {\n",
       "\tcolor:#339966 !important;\n",
       "}\n",
       "span.nn {  /*span.cm-variable, span.cm-property*/\n",
       "\tcolor: #3399ff !important;\n",
       "}\n",
       "div.CodeMirror {\n",
       "\tfont-family: 'Inconsolata', monospace;\n",
       "\tfont-size: 1.1em;\n",
       "\t\n",
       "}\n",
       "</style>"
      ],
      "text/plain": [
       "<IPython.core.display.HTML object>"
      ]
     },
     "execution_count": 3,
     "metadata": {},
     "output_type": "execute_result"
    }
   ],
   "source": [
    "css()"
   ]
  },
  {
   "cell_type": "markdown",
   "metadata": {},
   "source": [
    "##### Module imports"
   ]
  },
  {
   "cell_type": "code",
   "execution_count": 4,
   "metadata": {},
   "outputs": [
    {
     "data": {
      "text/markdown": [
       "Updated file `C:\\Users\\larsj\\Documents\\Notebookprosjekter\\Ståle_og_Madelen\\graph_networkx_louvain.py`"
      ],
      "text/plain": [
       "<IPython.core.display.Markdown object>"
      ]
     },
     "metadata": {},
     "output_type": "display_data"
    }
   ],
   "source": [
    "update('graph_networkx_louvain')\n",
    "import nbtext as nb\n",
    "import graph_networkx_louvain as gnl\n",
    "import networkx as nx\n",
    "from graph_networkx_louvain import cutdown, make_collocation_graph\n",
    "import pandas as pd\n",
    "from IPython.display import Markdown as md\n",
    "import matplotlib.pyplot as plt\n",
    "%matplotlib inline"
   ]
  },
  {
   "cell_type": "markdown",
   "metadata": {
    "slideshow": {
     "slide_type": "slide"
    }
   },
   "source": [
    "# Bygg korpus og analysér\n",
    "\n",
    "Hent URN-er fra tekst eller metadata. URNene representer korpuset, eller en definisjon av korpuset. Korpuset bygges med ordene som metadata lagt inn i variabelen `words`. Korpusets URNer ligger i variabelen `korpusår`."
   ]
  },
  {
   "cell_type": "code",
   "execution_count": 5,
   "metadata": {},
   "outputs": [],
   "source": [
    "words = \"\"\" jøde, jøden, jøder, jødene, jøderne, jødisk, jødiske\"\"\".split(', ')\n",
    "words = words + [x.capitalize() for x in words]\n",
    "korpusår = dict()\n",
    "for anno in range(1920, 1941):\n",
    "    korpusår[anno] = nb.get_urn({'words':words, 'year':anno, 'next':0, 'limit':1000})"
   ]
  },
  {
   "cell_type": "markdown",
   "metadata": {},
   "source": [
    "## Oversikt pr år\n",
    "\n",
    "Her er statistikk over alle bøkene som inneholder minst en av ordene i `words`. Variabelen `anno_data` innholder statistikken over antall bøker fordelt på år, se også stolpediagrammet under."
   ]
  },
  {
   "cell_type": "code",
   "execution_count": 6,
   "metadata": {},
   "outputs": [],
   "source": [
    "anno_data = pd.DataFrame.from_dict({a: len(korpusår[a]) for a in korpusår}, orient='index')"
   ]
  },
  {
   "cell_type": "code",
   "execution_count": 7,
   "metadata": {},
   "outputs": [
    {
     "data": {
      "text/plain": [
       "<matplotlib.axes._subplots.AxesSubplot at 0x27232abdcf8>"
      ]
     },
     "execution_count": 7,
     "metadata": {},
     "output_type": "execute_result"
    },
    {
     "data": {
      "image/png": "[encoded data removed]",
      "text/plain": [
       "<Figure size 1296x360 with 1 Axes>"
      ]
     },
     "metadata": {},
     "output_type": "display_data"
    }
   ],
   "source": [
    "anno_data.plot(kind='bar', figsize=(18,5), rot=0)"
   ]
  },
  {
   "cell_type": "markdown",
   "metadata": {},
   "source": [
    "Det totale antallet bøker for perioden 1920-1940 som inneholder en av ordene i `words` er 3277."
   ]
  },
  {
   "cell_type": "code",
   "execution_count": 8,
   "metadata": {},
   "outputs": [
    {
     "data": {
      "text/plain": [
       "3277"
      ]
     },
     "execution_count": 8,
     "metadata": {},
     "output_type": "execute_result"
    }
   ],
   "source": [
    "int(anno_data.sum())"
   ]
  },
  {
   "cell_type": "markdown",
   "metadata": {},
   "source": [
    "## Frekvenser over ordene"
   ]
  },
  {
   "cell_type": "markdown",
   "metadata": {},
   "source": [
    "Slå sammen korpuset til en stor ordbag, en liste over alle frekvenser. Variabelen `all_urns` inneholder alle URNene i korpuset."
   ]
  },
  {
   "cell_type": "code",
   "execution_count": 52,
   "metadata": {},
   "outputs": [
    {
     "data": {
      "text/plain": [
       "3277"
      ]
     },
     "execution_count": 52,
     "metadata": {},
     "output_type": "execute_result"
    }
   ],
   "source": [
    "all_urns = []\n",
    "for anno in korpusår:\n",
    "    all_urns += korpusår[anno]\n",
    "len(all_urns)"
   ]
  },
  {
   "cell_type": "code",
   "execution_count": 79,
   "metadata": {},
   "outputs": [],
   "source": [
    "aggs.to_pickle('Ståle_og_Madelen')"
   ]
  },
  {
   "cell_type": "code",
   "execution_count": 9,
   "metadata": {},
   "outputs": [],
   "source": [
    "aggs = pd.DataFrame()"
   ]
  },
  {
   "cell_type": "code",
   "execution_count": 10,
   "metadata": {},
   "outputs": [
    {
     "ename": "AttributeError",
     "evalue": "'DataFrame' object has no attribute 'from_pickle'",
     "output_type": "error",
     "traceback": [
      "\u001b[1;31m---------------------------------------------------------------------------\u001b[0m",
      "\u001b[1;31mAttributeError\u001b[0m                            Traceback (most recent call last)",
      "\u001b[1;32m<ipython-input-10-ca5b5a034edd>\u001b[0m in \u001b[0;36m<module>\u001b[1;34m()\u001b[0m\n\u001b[1;32m----> 1\u001b[1;33m \u001b[0maggs\u001b[0m\u001b[1;33m.\u001b[0m\u001b[0mfrom_pickle\u001b[0m\u001b[1;33m(\u001b[0m\u001b[1;34m'Ståle_og_Madelen'\u001b[0m\u001b[1;33m)\u001b[0m\u001b[1;33m\u001b[0m\u001b[0m\n\u001b[0m",
      "\u001b[1;32m~\\AppData\\Local\\Continuum\\anaconda3\\lib\\site-packages\\pandas\\core\\generic.py\u001b[0m in \u001b[0;36m__getattr__\u001b[1;34m(self, name)\u001b[0m\n\u001b[0;32m   4370\u001b[0m             \u001b[1;32mif\u001b[0m \u001b[0mself\u001b[0m\u001b[1;33m.\u001b[0m\u001b[0m_info_axis\u001b[0m\u001b[1;33m.\u001b[0m\u001b[0m_can_hold_identifiers_and_holds_name\u001b[0m\u001b[1;33m(\u001b[0m\u001b[0mname\u001b[0m\u001b[1;33m)\u001b[0m\u001b[1;33m:\u001b[0m\u001b[1;33m\u001b[0m\u001b[0m\n\u001b[0;32m   4371\u001b[0m                 \u001b[1;32mreturn\u001b[0m \u001b[0mself\u001b[0m\u001b[1;33m[\u001b[0m\u001b[0mname\u001b[0m\u001b[1;33m]\u001b[0m\u001b[1;33m\u001b[0m\u001b[0m\n\u001b[1;32m-> 4372\u001b[1;33m             \u001b[1;32mreturn\u001b[0m \u001b[0mobject\u001b[0m\u001b[1;33m.\u001b[0m\u001b[0m__getattribute__\u001b[0m\u001b[1;33m(\u001b[0m\u001b[0mself\u001b[0m\u001b[1;33m,\u001b[0m \u001b[0mname\u001b[0m\u001b[1;33m)\u001b[0m\u001b[1;33m\u001b[0m\u001b[0m\n\u001b[0m\u001b[0;32m   4373\u001b[0m \u001b[1;33m\u001b[0m\u001b[0m\n\u001b[0;32m   4374\u001b[0m     \u001b[1;32mdef\u001b[0m \u001b[0m__setattr__\u001b[0m\u001b[1;33m(\u001b[0m\u001b[0mself\u001b[0m\u001b[1;33m,\u001b[0m \u001b[0mname\u001b[0m\u001b[1;33m,\u001b[0m \u001b[0mvalue\u001b[0m\u001b[1;33m)\u001b[0m\u001b[1;33m:\u001b[0m\u001b[1;33m\u001b[0m\u001b[0m\n",
      "\u001b[1;31mAttributeError\u001b[0m: 'DataFrame' object has no attribute 'from_pickle'"
     ]
    }
   ],
   "source": [
    "aggs.from_pickle('Ståle_og_Madelen')"
   ]
  },
  {
   "cell_type": "code",
   "execution_count": 53,
   "metadata": {},
   "outputs": [],
   "source": [
    "aggs = nb.get_aggregated_corpus(all_urns)"
   ]
  },
  {
   "cell_type": "markdown",
   "metadata": {},
   "source": [
    "Frekvens for ordet _jøde_ for hele perioden"
   ]
  },
  {
   "cell_type": "code",
   "execution_count": 58,
   "metadata": {},
   "outputs": [
    {
     "data": {
      "text/plain": [
       "0    4607\n",
       "Name: jøde, dtype: int64"
      ]
     },
     "execution_count": 58,
     "metadata": {},
     "output_type": "execute_result"
    }
   ],
   "source": [
    "aggs.transpose()['jøde']"
   ]
  },
  {
   "cell_type": "markdown",
   "metadata": {},
   "source": [
    "Lagrer det aggregerte korpuset. Det tar en viss tid å rekonstruere så greit å ha det på disk."
   ]
  },
  {
   "cell_type": "markdown",
   "metadata": {},
   "source": [
    "## Generer kollokasjoner\n",
    "\n",
    "Kollokasjonene er for hele settet av ord, andre sett kan gi forskjellig resultat."
   ]
  },
  {
   "cell_type": "code",
   "execution_count": 76,
   "metadata": {},
   "outputs": [
    {
     "name": "stdout",
     "output_type": "stream",
     "text": [
      "[' jøde', 'jøden', 'jøder', 'jødene', 'jøderne', 'jødisk', 'jødiske', ' jøde', 'Jøden', 'Jøder', 'Jødene', 'Jøderne', 'Jødisk', 'Jødiske']\n"
     ]
    }
   ],
   "source": [
    "print(words)"
   ]
  },
  {
   "cell_type": "code",
   "execution_count": 59,
   "metadata": {},
   "outputs": [],
   "source": [
    "colls = nb.urn_coll_words(words, urns=all_urns)"
   ]
  },
  {
   "cell_type": "markdown",
   "metadata": {},
   "source": [
    "## Kollokasjoner \n",
    "\n",
    "Her kjøres kollokasjoner for ord med forskjellige krav til frekvens. Tar tre kjøringer, med krav om 6, 3 og 1 forekomster av ordet i korpuset (ingen krav til kollokasjonen)."
   ]
  },
  {
   "cell_type": "markdown",
   "metadata": {},
   "source": [
    "### Kollokasjoner for n=5\n",
    "\n",
    "For å være med i kollokasjonene kreves at ordet forekommer minst 6 ganger i hele korpuset"
   ]
  },
  {
   "cell_type": "code",
   "execution_count": 71,
   "metadata": {},
   "outputs": [],
   "source": [
    "colls_top = pd.DataFrame(colls[0]**1.01/(aggs[aggs > 5][0])).sort_values(by=0, ascending=False)"
   ]
  },
  {
   "cell_type": "code",
   "execution_count": 72,
   "metadata": {},
   "outputs": [
    {
     "name": "stdout",
     "output_type": "stream",
     "text": [
      "Torneqviste, jiidisch, diktningene, Skevas, orientalia, Jødinder, syvårspakten, Jødinnen, Philipson, menighetsforstander., tømmermandssøn, juive, Leontopolis, Blomsterstykke,, passahfest, fremtidsforventning, jehudith, gullalder-skildringer, læstina, 5729, middelhavstype, (liberal), mosaisch, Jødedommen,, Hasmonæer, Julaftenen, Religionsfilosof, Kjøtere, Menasse-ben-, Litauer, Forstødte, Jødekirsebær, gudstjenestelokale, juwlii, tisri, Morgenbønnen, Fangenskabs, SOLOPGANG, kulturdannende, Katol, bankierslekt, mønten, Messianisme, overrabbiner, Genrestykke, Suss, Gojim, Apella, sefardiske, rabbin, Bandsættelse, Stæder,, rasebiolog, Shushan, landflygtighetens, Elefantis, Nabostat, judaique, oppvarteren, tornekvister, Juleaftenen, klippegrav, Apokalyptik, folkelov, Ruthenere, Jødinden, Lucaz, fariséerne, Hviderussere, stammebeslægtede, opfinner,, Indvan, djævlebesættelse, Siiss, Tryphon, godseierfamilie, Shiiter, grågåsa, Sliss, Ukrainere, språkfamilie, beråbe, gammelkjendt, Israélite, gråtemuren, 4001, udelukte, Samaritanere, Purim, teaterinstruktør, Sionisme, Persertiden, kirkelæra, apokalyptikk, minuto, juif, Rabbinsk, Arkelaos, jødekolonier, spredelse, afkrævedes, Sjammai, hebreisk, Kristne,, ujødisk, Tefillin, Anderledestroende, Jarnefelt, undlivet, Rosenfelder, Talmud,, Statskapitalismen, Üblandet, gaon, funksjonærerne, innslag., 8394, urchristliche, pengekilder, 5686, Hovedsta-, Hundredtusinde, polio, Israelsmissionens, syngetone, Privatkapital, Ikke-Jøder, Indstiftet, Indstrømmen, besmykkede, 6149, poaly, Nazister, Naziene, beslutlet, fromhetstyper, 5520, Tyskere., storhandleren, alexandr, innvending:, Uif, L6dz, Synodister, Leidebreve, frelsestanke, hurtige,, Standsprivilegier, kjøbmandsfamilie, Rabl, livsgrundlag, vendunt, Limburger, Missionspraksis, Mardokais, statløse, verdert, lejesvenden, refrygt,, retligen, ydmygheds, Smaaborger, 3346, strafløs, 4349, practiserer, 5155, 503,50, Jerusalen, være,, 4864, 4813, sorene, Nadeshda, afskyes, Hodanns, forstemin, mandalske, 4064, Kanaljer, Søndagshelg, 3946, reklamesyke, Reminiscenses, stridsvogne, 3720, juvelers, innslag,, lerodes, teltvever, innrangere, Politilovgivning, sengræsk, Antisemittismen, Garverier,, myrdet,, Goguel, tomrum., Ziircher, Amru, Schmu, Scilicet, skuffelsernes, ørkenvandringer, godhetsfull, Algeciras-Konferencen, europæiserede, trakkende, skarlagensfarvet, Existensberettigelse, Terah, Orografisk, der_, Forbryder,, oplsBeB, Badensere, Yankeen, dicis, 8894, tildeis, Thyrsusstav, Fler-, kunstforma, direke, høitdannet, Falbelade, domsmyndighet., Armeniere,, saafreml, Babylo, efterexilske, Heidningen, Botryomykose, nisterne, talmud-, Selotene, haremsintriger, nephiternes, Herodianus, Pinselilje, epidemier,, t6Bt, Buddister, jord-b, Circæa, Centripetaldriften, Hjerteangst, Sextiaarene, Helbind., Handelsgartneri\n"
     ]
    }
   ],
   "source": [
    "print(', '.join(list(colls_top.index[:250])))"
   ]
  },
  {
   "cell_type": "code",
   "execution_count": 80,
   "metadata": {},
   "outputs": [
    {
     "data": {
      "text/html": [
       "<div>\n",
       "<style scoped>\n",
       "    .dataframe tbody tr th:only-of-type {\n",
       "        vertical-align: middle;\n",
       "    }\n",
       "\n",
       "    .dataframe tbody tr th {\n",
       "        vertical-align: top;\n",
       "    }\n",
       "\n",
       "    .dataframe thead th {\n",
       "        text-align: right;\n",
       "    }\n",
       "</style>\n",
       "<table border=\"1\" class=\"dataframe\">\n",
       "  <thead>\n",
       "    <tr style=\"text-align: right;\">\n",
       "      <th></th>\n",
       "      <th>0</th>\n",
       "    </tr>\n",
       "  </thead>\n",
       "  <tbody>\n",
       "    <tr>\n",
       "      <th>Torneqviste</th>\n",
       "      <td>0.846854</td>\n",
       "    </tr>\n",
       "    <tr>\n",
       "      <th>jiidisch</th>\n",
       "      <td>0.793061</td>\n",
       "    </tr>\n",
       "    <tr>\n",
       "      <th>diktningene</th>\n",
       "      <td>0.793061</td>\n",
       "    </tr>\n",
       "    <tr>\n",
       "      <th>Skevas</th>\n",
       "      <td>0.534866</td>\n",
       "    </tr>\n",
       "    <tr>\n",
       "      <th>orientalia</th>\n",
       "      <td>0.508112</td>\n",
       "    </tr>\n",
       "    <tr>\n",
       "      <th>Jødinder</th>\n",
       "      <td>0.508112</td>\n",
       "    </tr>\n",
       "    <tr>\n",
       "      <th>syvårspakten</th>\n",
       "      <td>0.505523</td>\n",
       "    </tr>\n",
       "    <tr>\n",
       "      <th>Jødinnen</th>\n",
       "      <td>0.460225</td>\n",
       "    </tr>\n",
       "    <tr>\n",
       "      <th>Philipson</th>\n",
       "      <td>0.433306</td>\n",
       "    </tr>\n",
       "    <tr>\n",
       "      <th>menighetsforstander.</th>\n",
       "      <td>0.433306</td>\n",
       "    </tr>\n",
       "    <tr>\n",
       "      <th>tømmermandssøn</th>\n",
       "      <td>0.433306</td>\n",
       "    </tr>\n",
       "    <tr>\n",
       "      <th>juive</th>\n",
       "      <td>0.379143</td>\n",
       "    </tr>\n",
       "    <tr>\n",
       "      <th>Leontopolis</th>\n",
       "      <td>0.379143</td>\n",
       "    </tr>\n",
       "    <tr>\n",
       "      <th>Blomsterstykke,</th>\n",
       "      <td>0.379143</td>\n",
       "    </tr>\n",
       "    <tr>\n",
       "      <th>passahfest</th>\n",
       "      <td>0.368713</td>\n",
       "    </tr>\n",
       "    <tr>\n",
       "      <th>fremtidsforventning</th>\n",
       "      <td>0.339360</td>\n",
       "    </tr>\n",
       "    <tr>\n",
       "      <th>jehudith</th>\n",
       "      <td>0.337016</td>\n",
       "    </tr>\n",
       "    <tr>\n",
       "      <th>gullalder-skildringer</th>\n",
       "      <td>0.337016</td>\n",
       "    </tr>\n",
       "    <tr>\n",
       "      <th>læstina</th>\n",
       "      <td>0.335652</td>\n",
       "    </tr>\n",
       "    <tr>\n",
       "      <th>5729</th>\n",
       "      <td>0.335652</td>\n",
       "    </tr>\n",
       "    <tr>\n",
       "      <th>middelhavstype</th>\n",
       "      <td>0.335652</td>\n",
       "    </tr>\n",
       "    <tr>\n",
       "      <th>(liberal)</th>\n",
       "      <td>0.335652</td>\n",
       "    </tr>\n",
       "    <tr>\n",
       "      <th>mosaisch</th>\n",
       "      <td>0.335652</td>\n",
       "    </tr>\n",
       "    <tr>\n",
       "      <th>Jødedommen,</th>\n",
       "      <td>0.335652</td>\n",
       "    </tr>\n",
       "    <tr>\n",
       "      <th>Hasmonæer</th>\n",
       "      <td>0.335652</td>\n",
       "    </tr>\n",
       "    <tr>\n",
       "      <th>Julaftenen</th>\n",
       "      <td>0.335652</td>\n",
       "    </tr>\n",
       "    <tr>\n",
       "      <th>Religionsfilosof</th>\n",
       "      <td>0.335652</td>\n",
       "    </tr>\n",
       "    <tr>\n",
       "      <th>Kjøtere</th>\n",
       "      <td>0.335652</td>\n",
       "    </tr>\n",
       "    <tr>\n",
       "      <th>Menasse-ben-</th>\n",
       "      <td>0.335652</td>\n",
       "    </tr>\n",
       "    <tr>\n",
       "      <th>Litauer</th>\n",
       "      <td>0.326724</td>\n",
       "    </tr>\n",
       "    <tr>\n",
       "      <th>Forstødte</th>\n",
       "      <td>0.311988</td>\n",
       "    </tr>\n",
       "    <tr>\n",
       "      <th>Jødekirsebær</th>\n",
       "      <td>0.303314</td>\n",
       "    </tr>\n",
       "    <tr>\n",
       "      <th>gudstjenestelokale</th>\n",
       "      <td>0.287702</td>\n",
       "    </tr>\n",
       "    <tr>\n",
       "      <th>juwlii</th>\n",
       "      <td>0.287702</td>\n",
       "    </tr>\n",
       "    <tr>\n",
       "      <th>tisri</th>\n",
       "      <td>0.287702</td>\n",
       "    </tr>\n",
       "    <tr>\n",
       "      <th>Morgenbønnen</th>\n",
       "      <td>0.287702</td>\n",
       "    </tr>\n",
       "    <tr>\n",
       "      <th>Fangenskabs</th>\n",
       "      <td>0.287702</td>\n",
       "    </tr>\n",
       "    <tr>\n",
       "      <th>SOLOPGANG</th>\n",
       "      <td>0.287702</td>\n",
       "    </tr>\n",
       "    <tr>\n",
       "      <th>kulturdannende</th>\n",
       "      <td>0.287702</td>\n",
       "    </tr>\n",
       "    <tr>\n",
       "      <th>Katol</th>\n",
       "      <td>0.287702</td>\n",
       "    </tr>\n",
       "    <tr>\n",
       "      <th>bankierslekt</th>\n",
       "      <td>0.287702</td>\n",
       "    </tr>\n",
       "    <tr>\n",
       "      <th>mønten</th>\n",
       "      <td>0.287702</td>\n",
       "    </tr>\n",
       "    <tr>\n",
       "      <th>Messianisme</th>\n",
       "      <td>0.287702</td>\n",
       "    </tr>\n",
       "    <tr>\n",
       "      <th>overrabbiner</th>\n",
       "      <td>0.287702</td>\n",
       "    </tr>\n",
       "    <tr>\n",
       "      <th>Genrestykke</th>\n",
       "      <td>0.287702</td>\n",
       "    </tr>\n",
       "    <tr>\n",
       "      <th>Suss</th>\n",
       "      <td>0.286698</td>\n",
       "    </tr>\n",
       "    <tr>\n",
       "      <th>Gojim</th>\n",
       "      <td>0.281674</td>\n",
       "    </tr>\n",
       "    <tr>\n",
       "      <th>Apella</th>\n",
       "      <td>0.276566</td>\n",
       "    </tr>\n",
       "    <tr>\n",
       "      <th>sefardiske</th>\n",
       "      <td>0.270389</td>\n",
       "    </tr>\n",
       "    <tr>\n",
       "      <th>rabbin</th>\n",
       "      <td>0.254520</td>\n",
       "    </tr>\n",
       "  </tbody>\n",
       "</table>\n",
       "</div>"
      ],
      "text/plain": [
       "                              0\n",
       "Torneqviste            0.846854\n",
       "jiidisch               0.793061\n",
       "diktningene            0.793061\n",
       "Skevas                 0.534866\n",
       "orientalia             0.508112\n",
       "Jødinder               0.508112\n",
       "syvårspakten           0.505523\n",
       "Jødinnen               0.460225\n",
       "Philipson              0.433306\n",
       "menighetsforstander.   0.433306\n",
       "tømmermandssøn         0.433306\n",
       "juive                  0.379143\n",
       "Leontopolis            0.379143\n",
       "Blomsterstykke,        0.379143\n",
       "passahfest             0.368713\n",
       "fremtidsforventning    0.339360\n",
       "jehudith               0.337016\n",
       "gullalder-skildringer  0.337016\n",
       "læstina                0.335652\n",
       "5729                   0.335652\n",
       "middelhavstype         0.335652\n",
       "(liberal)              0.335652\n",
       "mosaisch               0.335652\n",
       "Jødedommen,            0.335652\n",
       "Hasmonæer              0.335652\n",
       "Julaftenen             0.335652\n",
       "Religionsfilosof       0.335652\n",
       "Kjøtere                0.335652\n",
       "Menasse-ben-           0.335652\n",
       "Litauer                0.326724\n",
       "Forstødte              0.311988\n",
       "Jødekirsebær           0.303314\n",
       "gudstjenestelokale     0.287702\n",
       "juwlii                 0.287702\n",
       "tisri                  0.287702\n",
       "Morgenbønnen           0.287702\n",
       "Fangenskabs            0.287702\n",
       "SOLOPGANG              0.287702\n",
       "kulturdannende         0.287702\n",
       "Katol                  0.287702\n",
       "bankierslekt           0.287702\n",
       "mønten                 0.287702\n",
       "Messianisme            0.287702\n",
       "overrabbiner           0.287702\n",
       "Genrestykke            0.287702\n",
       "Suss                   0.286698\n",
       "Gojim                  0.281674\n",
       "Apella                 0.276566\n",
       "sefardiske             0.270389\n",
       "rabbin                 0.254520"
      ]
     },
     "execution_count": 80,
     "metadata": {},
     "output_type": "execute_result"
    }
   ],
   "source": [
    "colls_top[:50]"
   ]
  },
  {
   "cell_type": "markdown",
   "metadata": {},
   "source": [
    "### Kollokasjoner for n=3\n",
    "\n",
    "Ordet forekommer minst 6 ganger i hele korpuset"
   ]
  },
  {
   "cell_type": "code",
   "execution_count": 73,
   "metadata": {},
   "outputs": [],
   "source": [
    "colls_top2 = pd.DataFrame(colls[0]**1.01/(aggs[aggs > 2][0])).sort_values(by=0, ascending=False)"
   ]
  },
  {
   "cell_type": "code",
   "execution_count": 74,
   "metadata": {},
   "outputs": [
    {
     "name": "stdout",
     "output_type": "stream",
     "text": [
      "ottestrengede, lygnprofet, Smaabørn;, provinsreligion, Torneqviste, Jødetysk, jiidisch, diktningene, Græcker, Tornekvisten, ashkenasiske, løynlag, Schvinepelser, 9131, nationalhistorie, egteskapsstiftelsens, Barnow, ekteskapsformidler., nutidslitteraturen, s-minister, Naemis, Fischberg, Rebbes, mmelighet, heilagsegn, (dissentere),, Chassidismen, gatevisen, Midrasj, paradisdrøm, bibelforbud, fredeligen, makkabeerætten, Skevas, Jødinder, orientalia, syvårspakten, HØIDEPUNKTET, Snublesten, Obermainkredsen, kab-, helleniserede, Petroleumsraffinaderier, Momsen, kunnskapskrets, 8946, internasjonaliseringen, ULTIMA, syvårspakt, høiforræders, Genne, Jødinnen, menighetsforstander., tømmermandssøn, Philipson, Israelittisk-jødisk, pengetenkning, Mosambikk, Schåchtning, Kastebaandet, Overrabbiner, Austerlandi,, tempelsang, iscenesettes, heregnet, Samtræf, Jazzens, vestas, Jaffe, Bar-Kochba, Leontopolis, juive, Blomsterstykke,, passahfest, fremtidsforventning, gullalder-skildringer, jehudith, (liberal), Jødedommen,, 5729, Kjøtere, middelhavstype, Julaftenen, Menasse-ben-, mosaisch, Hasmonæer, Religionsfilosof, læstina, halv-officielt, Bønnetime, Produkt., aandiggjørelse, Raskolnikere, Privilegium,, golem, lærerfamilie, 7885, laavar, Zipz, Børnes, længenok, Zigeunere., Campegius, 8205, Rabbiner,, Rabbinat, rabbinersønn, kolportasjevirksomhet, Raadsforsamling., løegge, Qvikkel, Chaldæere, Tamentit, detyr, aandsomraade, alkekengi, kt6i-, medina, aled, mauscheln, mauen, Opbud., deretter:, deriblaudt, vekedagene, PLYNDRET, aism, Tiggermunkene., Pagtsbog, Papile, stolpebuder, 1585000, testerede, aarliundre, Pengeudlaaner, makkabæeren, 7717, Tiggerordenernes, Bar-Jisva, Pliktlæren, uttryksmate, Pogromerne, raaae, ermeldte, rekabiterne, Retsstillingen, låyog, lankoli, stedsbetegnelse,, hassan, Sigøjnere, Sudannegre, ugudelig;, Sief, dødsdømte., dødeligbeten, Utænkeligt, korsfarerrike, Verdenskjente, sionis, Bibelkritiker, racefølelse, spanjolsk, hedenska, Baatmand, Schabbas, Ugandisterne, Trossamfundene, Bataverkjerlighed, spanskportugisiske, sjakrende, Bechts, purpurkremmersken, Tschecher, psykoanalyseres, tankebyttet, pseudomorfoser, kulturbolsjeviker, Skriftlærdom, Skravlet, lffl, lebeblomst, Å9, konservatorium,, Religions-Øvelse, dyrkningsbidrag, grundtræk., hasmoneerne, youyou, lovåaloi, Yiddish, Syrierne, grundlovsforslaget, brændeude, Spiseværtinde, hcrrer, sølvsnusdåse, enearvinger, Rentemestre, Szczara, Religionssekt, Syndetikon, plethi, Satanas,, kulturbolsjevikiske, Synago, Bilmann, teokratisk-messianske, t.-ung, Saadja, Spiselovene, ponten, utvilsorat, konfiskeringer, emanciperes, Rubinens, Borgerpligterne, lovlærdom, Breakage, Risches, æiske, endnuk, skrift-lærd, begravel-, Kantiner, opslitte, Jødinner, Jødevne, forbrukskreditt, innbalsamert, Jærmer, Juristisches, belejres, hjemfarne, Judenschule, Freu, bylta, ilati, ihjælslog, ihjelsloges, Jeshua, Kapporeth, Karæer, murrest, Katholiker,, avfødninger, jemenitiske, Folke-Liv, Kuylenstjerna, parlamenet\n"
     ]
    }
   ],
   "source": [
    "print(', '.join(list(colls_top2.index[:250])))"
   ]
  },
  {
   "cell_type": "code",
   "execution_count": 78,
   "metadata": {},
   "outputs": [
    {
     "data": {
      "text/html": [
       "<div>\n",
       "<style scoped>\n",
       "    .dataframe tbody tr th:only-of-type {\n",
       "        vertical-align: middle;\n",
       "    }\n",
       "\n",
       "    .dataframe tbody tr th {\n",
       "        vertical-align: top;\n",
       "    }\n",
       "\n",
       "    .dataframe thead th {\n",
       "        text-align: right;\n",
       "    }\n",
       "</style>\n",
       "<table border=\"1\" class=\"dataframe\">\n",
       "  <thead>\n",
       "    <tr style=\"text-align: right;\">\n",
       "      <th></th>\n",
       "      <th>0</th>\n",
       "    </tr>\n",
       "  </thead>\n",
       "  <tbody>\n",
       "    <tr>\n",
       "      <th>ottestrengede</th>\n",
       "      <td>1.013959</td>\n",
       "    </tr>\n",
       "    <tr>\n",
       "      <th>lygnprofet</th>\n",
       "      <td>1.011047</td>\n",
       "    </tr>\n",
       "    <tr>\n",
       "      <th>Smaabørn;</th>\n",
       "      <td>1.011047</td>\n",
       "    </tr>\n",
       "    <tr>\n",
       "      <th>provinsreligion</th>\n",
       "      <td>1.011047</td>\n",
       "    </tr>\n",
       "    <tr>\n",
       "      <th>Torneqviste</th>\n",
       "      <td>0.846854</td>\n",
       "    </tr>\n",
       "    <tr>\n",
       "      <th>Jødetysk</th>\n",
       "      <td>0.811168</td>\n",
       "    </tr>\n",
       "    <tr>\n",
       "      <th>jiidisch</th>\n",
       "      <td>0.793061</td>\n",
       "    </tr>\n",
       "    <tr>\n",
       "      <th>diktningene</th>\n",
       "      <td>0.793061</td>\n",
       "    </tr>\n",
       "    <tr>\n",
       "      <th>Græcker</th>\n",
       "      <td>0.758285</td>\n",
       "    </tr>\n",
       "    <tr>\n",
       "      <th>Tornekvisten</th>\n",
       "      <td>0.758285</td>\n",
       "    </tr>\n",
       "    <tr>\n",
       "      <th>ashkenasiske</th>\n",
       "      <td>0.758285</td>\n",
       "    </tr>\n",
       "    <tr>\n",
       "      <th>løynlag</th>\n",
       "      <td>0.758285</td>\n",
       "    </tr>\n",
       "    <tr>\n",
       "      <th>Schvinepelser</th>\n",
       "      <td>0.671304</td>\n",
       "    </tr>\n",
       "    <tr>\n",
       "      <th>9131</th>\n",
       "      <td>0.671304</td>\n",
       "    </tr>\n",
       "    <tr>\n",
       "      <th>nationalhistorie</th>\n",
       "      <td>0.671304</td>\n",
       "    </tr>\n",
       "    <tr>\n",
       "      <th>egteskapsstiftelsens</th>\n",
       "      <td>0.671304</td>\n",
       "    </tr>\n",
       "    <tr>\n",
       "      <th>Barnow</th>\n",
       "      <td>0.671304</td>\n",
       "    </tr>\n",
       "    <tr>\n",
       "      <th>ekteskapsformidler.</th>\n",
       "      <td>0.671304</td>\n",
       "    </tr>\n",
       "    <tr>\n",
       "      <th>nutidslitteraturen</th>\n",
       "      <td>0.671304</td>\n",
       "    </tr>\n",
       "    <tr>\n",
       "      <th>s-minister</th>\n",
       "      <td>0.671304</td>\n",
       "    </tr>\n",
       "    <tr>\n",
       "      <th>Naemis</th>\n",
       "      <td>0.671304</td>\n",
       "    </tr>\n",
       "    <tr>\n",
       "      <th>Fischberg</th>\n",
       "      <td>0.671304</td>\n",
       "    </tr>\n",
       "    <tr>\n",
       "      <th>Rebbes</th>\n",
       "      <td>0.671304</td>\n",
       "    </tr>\n",
       "    <tr>\n",
       "      <th>mmelighet</th>\n",
       "      <td>0.671304</td>\n",
       "    </tr>\n",
       "    <tr>\n",
       "      <th>heilagsegn</th>\n",
       "      <td>0.671304</td>\n",
       "    </tr>\n",
       "    <tr>\n",
       "      <th>(dissentere),</th>\n",
       "      <td>0.671304</td>\n",
       "    </tr>\n",
       "    <tr>\n",
       "      <th>Chassidismen</th>\n",
       "      <td>0.671304</td>\n",
       "    </tr>\n",
       "    <tr>\n",
       "      <th>gatevisen</th>\n",
       "      <td>0.671304</td>\n",
       "    </tr>\n",
       "    <tr>\n",
       "      <th>Midrasj</th>\n",
       "      <td>0.671304</td>\n",
       "    </tr>\n",
       "    <tr>\n",
       "      <th>paradisdrøm</th>\n",
       "      <td>0.671304</td>\n",
       "    </tr>\n",
       "    <tr>\n",
       "      <th>bibelforbud</th>\n",
       "      <td>0.671304</td>\n",
       "    </tr>\n",
       "    <tr>\n",
       "      <th>fredeligen</th>\n",
       "      <td>0.606628</td>\n",
       "    </tr>\n",
       "    <tr>\n",
       "      <th>makkabeerætten</th>\n",
       "      <td>0.606628</td>\n",
       "    </tr>\n",
       "    <tr>\n",
       "      <th>Skevas</th>\n",
       "      <td>0.534866</td>\n",
       "    </tr>\n",
       "    <tr>\n",
       "      <th>Jødinder</th>\n",
       "      <td>0.508112</td>\n",
       "    </tr>\n",
       "    <tr>\n",
       "      <th>orientalia</th>\n",
       "      <td>0.508112</td>\n",
       "    </tr>\n",
       "    <tr>\n",
       "      <th>syvårspakten</th>\n",
       "      <td>0.505523</td>\n",
       "    </tr>\n",
       "    <tr>\n",
       "      <th>HØIDEPUNKTET</th>\n",
       "      <td>0.503478</td>\n",
       "    </tr>\n",
       "    <tr>\n",
       "      <th>Snublesten</th>\n",
       "      <td>0.503478</td>\n",
       "    </tr>\n",
       "    <tr>\n",
       "      <th>Obermainkredsen</th>\n",
       "      <td>0.503478</td>\n",
       "    </tr>\n",
       "    <tr>\n",
       "      <th>kab-</th>\n",
       "      <td>0.503478</td>\n",
       "    </tr>\n",
       "    <tr>\n",
       "      <th>helleniserede</th>\n",
       "      <td>0.503478</td>\n",
       "    </tr>\n",
       "    <tr>\n",
       "      <th>Petroleumsraffinaderier</th>\n",
       "      <td>0.503478</td>\n",
       "    </tr>\n",
       "    <tr>\n",
       "      <th>Momsen</th>\n",
       "      <td>0.503478</td>\n",
       "    </tr>\n",
       "    <tr>\n",
       "      <th>kunnskapskrets</th>\n",
       "      <td>0.503478</td>\n",
       "    </tr>\n",
       "    <tr>\n",
       "      <th>8946</th>\n",
       "      <td>0.503478</td>\n",
       "    </tr>\n",
       "    <tr>\n",
       "      <th>internasjonaliseringen</th>\n",
       "      <td>0.503478</td>\n",
       "    </tr>\n",
       "    <tr>\n",
       "      <th>ULTIMA</th>\n",
       "      <td>0.503478</td>\n",
       "    </tr>\n",
       "    <tr>\n",
       "      <th>syvårspakt</th>\n",
       "      <td>0.503478</td>\n",
       "    </tr>\n",
       "    <tr>\n",
       "      <th>høiforræders</th>\n",
       "      <td>0.503478</td>\n",
       "    </tr>\n",
       "  </tbody>\n",
       "</table>\n",
       "</div>"
      ],
      "text/plain": [
       "                                0\n",
       "ottestrengede            1.013959\n",
       "lygnprofet               1.011047\n",
       "Smaabørn;                1.011047\n",
       "provinsreligion          1.011047\n",
       "Torneqviste              0.846854\n",
       "Jødetysk                 0.811168\n",
       "jiidisch                 0.793061\n",
       "diktningene              0.793061\n",
       "Græcker                  0.758285\n",
       "Tornekvisten             0.758285\n",
       "ashkenasiske             0.758285\n",
       "løynlag                  0.758285\n",
       "Schvinepelser            0.671304\n",
       "9131                     0.671304\n",
       "nationalhistorie         0.671304\n",
       "egteskapsstiftelsens     0.671304\n",
       "Barnow                   0.671304\n",
       "ekteskapsformidler.      0.671304\n",
       "nutidslitteraturen       0.671304\n",
       "s-minister               0.671304\n",
       "Naemis                   0.671304\n",
       "Fischberg                0.671304\n",
       "Rebbes                   0.671304\n",
       "mmelighet                0.671304\n",
       "heilagsegn               0.671304\n",
       "(dissentere),            0.671304\n",
       "Chassidismen             0.671304\n",
       "gatevisen                0.671304\n",
       "Midrasj                  0.671304\n",
       "paradisdrøm              0.671304\n",
       "bibelforbud              0.671304\n",
       "fredeligen               0.606628\n",
       "makkabeerætten           0.606628\n",
       "Skevas                   0.534866\n",
       "Jødinder                 0.508112\n",
       "orientalia               0.508112\n",
       "syvårspakten             0.505523\n",
       "HØIDEPUNKTET             0.503478\n",
       "Snublesten               0.503478\n",
       "Obermainkredsen          0.503478\n",
       "kab-                     0.503478\n",
       "helleniserede            0.503478\n",
       "Petroleumsraffinaderier  0.503478\n",
       "Momsen                   0.503478\n",
       "kunnskapskrets           0.503478\n",
       "8946                     0.503478\n",
       "internasjonaliseringen   0.503478\n",
       "ULTIMA                   0.503478\n",
       "syvårspakt               0.503478\n",
       "høiforræders             0.503478"
      ]
     },
     "execution_count": 78,
     "metadata": {},
     "output_type": "execute_result"
    }
   ],
   "source": [
    "colls_top2[:50]"
   ]
  },
  {
   "cell_type": "markdown",
   "metadata": {},
   "source": [
    "### Kollokasjoner for n=1\n",
    "\n",
    "Ordet forekommer minst 6 ganger i hele korpuset"
   ]
  },
  {
   "cell_type": "code",
   "execution_count": 81,
   "metadata": {},
   "outputs": [],
   "source": [
    "colls_top3 = pd.DataFrame(colls[0]**1.01/(aggs[aggs > 0][0])).sort_values(by=0, ascending=False)"
   ]
  },
  {
   "cell_type": "code",
   "execution_count": 82,
   "metadata": {},
   "outputs": [
    {
     "name": "stdout",
     "output_type": "stream",
     "text": [
      "anti-mennesket, Schæchtning, mauschle, jewishness, motmennesket,, 136241, Naskovs, flodbadet, ottestrengede, Smaabørn;, lygnprofet, provinsreligion, reklame-makeri, Fyllehunder, Diospora, ikke-muhammedansk, knivmenn, Tornequiste, jødevennlig., høitidsår,, Åkerkarler, Palestina»), Jødmden, Utvekster, rabbinage, rentetagen, anti-frimureren, antizionistiske, Falascha, utabygds., Sahara-Rige, råtsji, Flåere, Bronstein-Trotsky, terrorgruppe,, Løverdagshelgen, kappefald, verdens-sovjetrepublikken, statsmedlemskap, handelsmentalitet, landsfordreven, dekomposisjonens, Revepelser, Kræmmeren,, korporasjonsliv, madnagar, Trældomspagt, Finaly-konsernet, (religionshistorie,, Askenazim, kjøbmannsfam, farcert, Nordstetten, spanskfødt, rase-patriotisme, Hviterusser, port.-ital, utskylledes, Spotteraab, Toubctioi, judalas, Florius, straffedommen.,  Muligheter, ekteskapsstiftelsens, Fodbøjler, 49115, Turca, Tschirikoff, uikt, Finansherlighed, Trotzky-Bronstein, 47977, Fllon, Fivsforhold, 47882, Trilogk, judentiimUch, Flauius, ujnévos, Torneqviste», jubelaars-periodene, 46337, ukjendeligere, Tjørnblomsterkrands, jordbegrenset, oprinnelseo, oprørsstifter,, Tindingelokker, emanciperedes, un6ta3ei36, Tilskikkelse;, Tilpassede, opstandelseshaapet, emansiperes, Fordeelbringende, Ti15k.1935.1.302, opvokß6nde, 42667, stlna, 42325, 44087, Tluysums, umoral,, Foldekjortel, 46225, judaiseres, ukjønnethet, 45954, judafque, elementærvesener, eksilarker, 45229, josuiter, eliBioNBkrjke6, Toraekrands, elitekorpset, Folkesamvittighed., jtidisch, Toledotb, elscns, Feuchtwanger,, Feder,, jullle, Festprogram., Elisabetgrad, 60431, jødiskhellensk, jødinuV, Vælgerkorps,, Emancipations-Act, ecnar, symbolvisdom, syiv, Vlaker, VlaHets, Vishnu-tilbederne, syd-europæere, Vin-Tilvirkning, omtrnt, sviskampanje, Vestkant-intelligens, onalbvrsskap, opby§§Hse,, WdhßetzM, synagoge^forstander., Westphalske-, Eiréné, ZIONISMEN, kakofemi, démus, désemmailloter, oksekjøtt-etere, Yoldshandlinger, synagogetj, kabbalist,, 62158, Whitechapel., Yandrere, XjeidenliHvn, olåh, ka.iman, XVer^elands, Wånersborg, omeiboc, jørkal, efreukrandset, jødere, Esdraelons, jøde-tru, Falascher, Udvisningsdoni, oplevde3, studlde, studentiske, 5171., Udjagelsen, Fattigfolk,, ufravigeiig, subjektiv-etisk, Tømmerhdlr, jø:-jøkel,, opløsningsbakterier, jæk.æl, Tyskere;, strykeremselger, Festas, Festordneren, stødepaa, jødehatende, EsrA.overskr, jødene.», Essenpolitiet, opfautet, suzerainity, jødepræst., jødepræget, Vaffelboutiker, VISHNU-KULTUS, Usbeger., Urtekræmmernes, Undertrykkede, opgivst, Uopgitte, sundhetsforsikrifter, Ungdomsforelskelse, Undtagelsesstilling,, 54243, F190vi, 53817, Tephilath, Tartarer,, underklædninger, Georgier,, sportsfdrere, sportsberømtheter, Skatteindtægter., Ginegar, parterkrigene, Skandinavisk-, innskrift-setel, Skalottløk, Gmlsemilisk, Godgjørenhedstræk, Goite, Sionf, utdestillert, spidshuede, Silver-døtrenes, licbreisk, patrisier-familie, Gotce, pectoraux, Georgiere,, Skevas,, emigrantdikter., 33515, sprogbæuk, Slotsporten,, palestinsk,, Slagteprøve, 34537, Skythopolitanerne, 34311, Skyggeseen,, intellektuell?;, papyrusskriftene, institusjon\",, sprdtes, Gebyhrs\n"
     ]
    }
   ],
   "source": [
    "print(', '.join(list(colls_top3.index[:250])))"
   ]
  },
  {
   "cell_type": "code",
   "execution_count": 83,
   "metadata": {},
   "outputs": [
    {
     "data": {
      "text/html": [
       "<div>\n",
       "<style scoped>\n",
       "    .dataframe tbody tr th:only-of-type {\n",
       "        vertical-align: middle;\n",
       "    }\n",
       "\n",
       "    .dataframe tbody tr th {\n",
       "        vertical-align: top;\n",
       "    }\n",
       "\n",
       "    .dataframe thead th {\n",
       "        text-align: right;\n",
       "    }\n",
       "</style>\n",
       "<table border=\"1\" class=\"dataframe\">\n",
       "  <thead>\n",
       "    <tr style=\"text-align: right;\">\n",
       "      <th></th>\n",
       "      <th>0</th>\n",
       "    </tr>\n",
       "  </thead>\n",
       "  <tbody>\n",
       "    <tr>\n",
       "      <th>anti-mennesket</th>\n",
       "      <td>2.013911</td>\n",
       "    </tr>\n",
       "    <tr>\n",
       "      <th>Schæchtning</th>\n",
       "      <td>2.013911</td>\n",
       "    </tr>\n",
       "    <tr>\n",
       "      <th>mauschle</th>\n",
       "      <td>2.013911</td>\n",
       "    </tr>\n",
       "    <tr>\n",
       "      <th>jewishness</th>\n",
       "      <td>2.013911</td>\n",
       "    </tr>\n",
       "    <tr>\n",
       "      <th>motmennesket,</th>\n",
       "      <td>2.013911</td>\n",
       "    </tr>\n",
       "    <tr>\n",
       "      <th>136241</th>\n",
       "      <td>2.013911</td>\n",
       "    </tr>\n",
       "    <tr>\n",
       "      <th>Naskovs</th>\n",
       "      <td>2.013911</td>\n",
       "    </tr>\n",
       "    <tr>\n",
       "      <th>flodbadet</th>\n",
       "      <td>1.516570</td>\n",
       "    </tr>\n",
       "    <tr>\n",
       "      <th>ottestrengede</th>\n",
       "      <td>1.013959</td>\n",
       "    </tr>\n",
       "    <tr>\n",
       "      <th>Smaabørn;</th>\n",
       "      <td>1.011047</td>\n",
       "    </tr>\n",
       "    <tr>\n",
       "      <th>lygnprofet</th>\n",
       "      <td>1.011047</td>\n",
       "    </tr>\n",
       "    <tr>\n",
       "      <th>provinsreligion</th>\n",
       "      <td>1.011047</td>\n",
       "    </tr>\n",
       "    <tr>\n",
       "      <th>reklame-makeri</th>\n",
       "      <td>1.006956</td>\n",
       "    </tr>\n",
       "    <tr>\n",
       "      <th>Fyllehunder</th>\n",
       "      <td>1.006956</td>\n",
       "    </tr>\n",
       "    <tr>\n",
       "      <th>Diospora</th>\n",
       "      <td>1.006956</td>\n",
       "    </tr>\n",
       "    <tr>\n",
       "      <th>ikke-muhammedansk</th>\n",
       "      <td>1.006956</td>\n",
       "    </tr>\n",
       "    <tr>\n",
       "      <th>knivmenn</th>\n",
       "      <td>1.006956</td>\n",
       "    </tr>\n",
       "    <tr>\n",
       "      <th>Tornequiste</th>\n",
       "      <td>1.006956</td>\n",
       "    </tr>\n",
       "    <tr>\n",
       "      <th>jødevennlig.</th>\n",
       "      <td>1.006956</td>\n",
       "    </tr>\n",
       "    <tr>\n",
       "      <th>høitidsår,</th>\n",
       "      <td>1.006956</td>\n",
       "    </tr>\n",
       "    <tr>\n",
       "      <th>Åkerkarler</th>\n",
       "      <td>1.006956</td>\n",
       "    </tr>\n",
       "    <tr>\n",
       "      <th>Palestina»)</th>\n",
       "      <td>1.006956</td>\n",
       "    </tr>\n",
       "    <tr>\n",
       "      <th>Jødmden</th>\n",
       "      <td>1.006956</td>\n",
       "    </tr>\n",
       "    <tr>\n",
       "      <th>Utvekster</th>\n",
       "      <td>1.006956</td>\n",
       "    </tr>\n",
       "    <tr>\n",
       "      <th>rabbinage</th>\n",
       "      <td>1.006956</td>\n",
       "    </tr>\n",
       "    <tr>\n",
       "      <th>rentetagen</th>\n",
       "      <td>1.006956</td>\n",
       "    </tr>\n",
       "    <tr>\n",
       "      <th>anti-frimureren</th>\n",
       "      <td>1.006956</td>\n",
       "    </tr>\n",
       "    <tr>\n",
       "      <th>antizionistiske</th>\n",
       "      <td>1.006956</td>\n",
       "    </tr>\n",
       "    <tr>\n",
       "      <th>Falascha</th>\n",
       "      <td>1.006956</td>\n",
       "    </tr>\n",
       "    <tr>\n",
       "      <th>utabygds.</th>\n",
       "      <td>1.006956</td>\n",
       "    </tr>\n",
       "    <tr>\n",
       "      <th>Sahara-Rige</th>\n",
       "      <td>1.006956</td>\n",
       "    </tr>\n",
       "    <tr>\n",
       "      <th>råtsji</th>\n",
       "      <td>1.006956</td>\n",
       "    </tr>\n",
       "    <tr>\n",
       "      <th>Flåere</th>\n",
       "      <td>1.006956</td>\n",
       "    </tr>\n",
       "    <tr>\n",
       "      <th>Bronstein-Trotsky</th>\n",
       "      <td>1.006956</td>\n",
       "    </tr>\n",
       "    <tr>\n",
       "      <th>terrorgruppe,</th>\n",
       "      <td>1.006956</td>\n",
       "    </tr>\n",
       "    <tr>\n",
       "      <th>Løverdagshelgen</th>\n",
       "      <td>1.006956</td>\n",
       "    </tr>\n",
       "    <tr>\n",
       "      <th>kappefald</th>\n",
       "      <td>1.006956</td>\n",
       "    </tr>\n",
       "    <tr>\n",
       "      <th>verdens-sovjetrepublikken</th>\n",
       "      <td>1.006956</td>\n",
       "    </tr>\n",
       "    <tr>\n",
       "      <th>statsmedlemskap</th>\n",
       "      <td>1.006956</td>\n",
       "    </tr>\n",
       "    <tr>\n",
       "      <th>handelsmentalitet</th>\n",
       "      <td>1.006956</td>\n",
       "    </tr>\n",
       "    <tr>\n",
       "      <th>landsfordreven</th>\n",
       "      <td>1.006956</td>\n",
       "    </tr>\n",
       "    <tr>\n",
       "      <th>dekomposisjonens</th>\n",
       "      <td>1.006956</td>\n",
       "    </tr>\n",
       "    <tr>\n",
       "      <th>Revepelser</th>\n",
       "      <td>1.006956</td>\n",
       "    </tr>\n",
       "    <tr>\n",
       "      <th>Kræmmeren,</th>\n",
       "      <td>1.006956</td>\n",
       "    </tr>\n",
       "    <tr>\n",
       "      <th>korporasjonsliv</th>\n",
       "      <td>1.006956</td>\n",
       "    </tr>\n",
       "    <tr>\n",
       "      <th>madnagar</th>\n",
       "      <td>1.006956</td>\n",
       "    </tr>\n",
       "    <tr>\n",
       "      <th>Trældomspagt</th>\n",
       "      <td>1.006956</td>\n",
       "    </tr>\n",
       "    <tr>\n",
       "      <th>Finaly-konsernet</th>\n",
       "      <td>1.006956</td>\n",
       "    </tr>\n",
       "    <tr>\n",
       "      <th>(religionshistorie,</th>\n",
       "      <td>1.006956</td>\n",
       "    </tr>\n",
       "    <tr>\n",
       "      <th>Askenazim</th>\n",
       "      <td>1.006956</td>\n",
       "    </tr>\n",
       "  </tbody>\n",
       "</table>\n",
       "</div>"
      ],
      "text/plain": [
       "                                  0\n",
       "anti-mennesket             2.013911\n",
       "Schæchtning                2.013911\n",
       "mauschle                   2.013911\n",
       "jewishness                 2.013911\n",
       "motmennesket,              2.013911\n",
       "136241                     2.013911\n",
       "Naskovs                    2.013911\n",
       "flodbadet                  1.516570\n",
       "ottestrengede              1.013959\n",
       "Smaabørn;                  1.011047\n",
       "lygnprofet                 1.011047\n",
       "provinsreligion            1.011047\n",
       "reklame-makeri             1.006956\n",
       "Fyllehunder                1.006956\n",
       "Diospora                   1.006956\n",
       "ikke-muhammedansk          1.006956\n",
       "knivmenn                   1.006956\n",
       "Tornequiste                1.006956\n",
       "jødevennlig.               1.006956\n",
       "høitidsår,                 1.006956\n",
       "Åkerkarler                 1.006956\n",
       "Palestina»)                1.006956\n",
       "Jødmden                    1.006956\n",
       "Utvekster                  1.006956\n",
       "rabbinage                  1.006956\n",
       "rentetagen                 1.006956\n",
       "anti-frimureren            1.006956\n",
       "antizionistiske            1.006956\n",
       "Falascha                   1.006956\n",
       "utabygds.                  1.006956\n",
       "Sahara-Rige                1.006956\n",
       "råtsji                     1.006956\n",
       "Flåere                     1.006956\n",
       "Bronstein-Trotsky          1.006956\n",
       "terrorgruppe,              1.006956\n",
       "Løverdagshelgen            1.006956\n",
       "kappefald                  1.006956\n",
       "verdens-sovjetrepublikken  1.006956\n",
       "statsmedlemskap            1.006956\n",
       "handelsmentalitet          1.006956\n",
       "landsfordreven             1.006956\n",
       "dekomposisjonens           1.006956\n",
       "Revepelser                 1.006956\n",
       "Kræmmeren,                 1.006956\n",
       "korporasjonsliv            1.006956\n",
       "madnagar                   1.006956\n",
       "Trældomspagt               1.006956\n",
       "Finaly-konsernet           1.006956\n",
       "(religionshistorie,        1.006956\n",
       "Askenazim                  1.006956"
      ]
     },
     "execution_count": 83,
     "metadata": {},
     "output_type": "execute_result"
    }
   ],
   "source": [
    "colls_top3[:50]"
   ]
  },
  {
   "cell_type": "code",
   "execution_count": null,
   "metadata": {},
   "outputs": [],
   "source": []
  }
 ],
 "metadata": {
  "kernelspec": {
   "display_name": "Python 3",
   "language": "python",
   "name": "python3"
  },
  "language_info": {
   "codemirror_mode": {
    "name": "ipython",
    "version": 3
   },
   "file_extension": ".py",
   "mimetype": "text/x-python",
   "name": "python",
   "nbconvert_exporter": "python",
   "pygments_lexer": "ipython3",
   "version": "3.6.5"
  }
 },
 "nbformat": 4,
 "nbformat_minor": 2
}
