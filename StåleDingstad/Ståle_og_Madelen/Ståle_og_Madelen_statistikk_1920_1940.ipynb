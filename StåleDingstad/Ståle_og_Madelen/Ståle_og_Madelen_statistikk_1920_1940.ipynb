{
 "cells": [
  {
   "cell_type": "markdown",
   "metadata": {},
   "source": [
    "# Statistikk fra Bokhylla på _jøde_\n",
    "\n",
    "Bare hopp over den første biten til dere kommer til en neste hovedoverskrift. Deretter kan narrative følges.\n",
    "\n",
    "Fra mail:\n",
    "``\n",
    "1. Antall bokutgivelser som inneholder følgende ord: jøde, jøden, jøder, jødene, jøderne, jødisk, jødiske.\n",
    " \n",
    "\n",
    "Her må det lages lister over bokutgivelsene med forfatter og titler. \n",
    "\n",
    "2. Hva står i umiddelbar nærhet av ord og ordsammensetninger med jøde?\n",
    "\n",
    "Her må betydningsbærende ord fremheves og disse må kunne skilles i nøytrale, positive og negative kategorier.\n",
    "\n",
    "Av bokutgivelser for perioden ser jeg at det er ca. 200 titler pr. år. Forekomstene av ord og ordkombinasjoner med jøde i hver enkelt bokutgivelse varierer stort.\n",
    "\n",
    "For min egen del trenger jeg en slik statistikk for å kunne si noe om det store bildet på bakgrunn av Hamsuns bokutgivelser som jeg leser manuelt.\n",
    "``"
   ]
  },
  {
   "cell_type": "markdown",
   "metadata": {},
   "source": [
    "##### Boot cell\n",
    "\n",
    "Skip if `module_update.py` is in same folder as notebook, next cell downloads this file which in turn will download other files."
   ]
  },
  {
   "cell_type": "code",
   "execution_count": 1,
   "metadata": {},
   "outputs": [],
   "source": [
    "import urllib.request, shutil\n",
    "with urllib.request.urlopen(\"https://raw.githubusercontent.com/Yoonsen/Modules/master/module_update.py\") as response, open(\"module_update.py\", 'wb') as out_file:\n",
    "    shutil.copyfileobj(response, out_file)"
   ]
  },
  {
   "cell_type": "markdown",
   "metadata": {},
   "source": [
    "##### Get essentials\n",
    "\n",
    "Import text and graph modules for analysis, and css for display"
   ]
  },
  {
   "cell_type": "code",
   "execution_count": 2,
   "metadata": {
    "slideshow": {
     "slide_type": "slide"
    }
   },
   "outputs": [],
   "source": [
    "from module_update import update, css"
   ]
  },
  {
   "cell_type": "code",
   "execution_count": 3,
   "metadata": {},
   "outputs": [
    {
     "data": {
      "text/html": [
       "<style>@import url(\n",
       "http://fonts.googleapis.com/css?family=Lato|Philosopher|Montserrat|Source+Code+Pro|Istok+Web|Philosopher|Assistant:200,400,700);\n",
       "\n",
       "/*\n",
       "#notebook-container {\n",
       "\t-webkit-box-shadow: none;\n",
       "\tbox-shadow: none;\n",
       "}\n",
       "*/\n",
       "\n",
       "h1, h2, h3, h4, h5, h6 {\n",
       "\tfont-family: 'Montserrat', sans-serif;\n",
       "\tline-height: 2em;\n",
       "    color: #004f99;\n",
       "    font-weight: 600;\n",
       "}\n",
       "\n",
       "h1 { font-size: 4.5em; }\n",
       "h2 { font-size: 4em; }\n",
       "h3 { font-size: 3.5em; }\n",
       "h4 { font-size: 3em; }\n",
       "h5 { font-size: 2.5em; color:DarkSlateGray; }\n",
       "h6 { font-size: 2em; }\n",
       "\n",
       "p {\n",
       "\tfont-family: 'Assistant', sans-serif; \n",
       "\tfont-size: 1.2em;\n",
       "\tline-height: 1.4em;\n",
       "\tcolor: black;\n",
       "}\n",
       "p code {\n",
       "\tfont-size:0.9em;\n",
       "}\n",
       "div.input_area {\n",
       "\tborder:none !important;\n",
       "\tborder-left:1px solid #ff851b !important\n",
       "}\n",
       "\n",
       "span.cm-keyword {\n",
       "\tcolor:#339966 !important;\n",
       "}\n",
       "span.nn {  /*span.cm-variable, span.cm-property*/\n",
       "\tcolor: #3399ff !important;\n",
       "}\n",
       "div.CodeMirror {\n",
       "\tfont-family: 'Inconsolata', monospace;\n",
       "\tfont-size: 1.1em;\n",
       "\t\n",
       "}\n",
       "</style>"
      ],
      "text/plain": [
       "<IPython.core.display.HTML object>"
      ]
     },
     "execution_count": 3,
     "metadata": {},
     "output_type": "execute_result"
    }
   ],
   "source": [
    "css()"
   ]
  },
  {
   "cell_type": "markdown",
   "metadata": {},
   "source": [
    "##### Module imports"
   ]
  },
  {
   "cell_type": "code",
   "execution_count": 4,
   "metadata": {},
   "outputs": [
    {
     "data": {
      "text/markdown": [
       "Updated file `C:\\Users\\larsj\\Documents\\Notebookprosjekter\\Ståle_og_Madelen\\graph_networkx_louvain.py`"
      ],
      "text/plain": [
       "<IPython.core.display.Markdown object>"
      ]
     },
     "metadata": {},
     "output_type": "display_data"
    }
   ],
   "source": [
    "update('graph_networkx_louvain')\n",
    "import nbtext as nb\n",
    "import graph_networkx_louvain as gnl\n",
    "import networkx as nx\n",
    "from graph_networkx_louvain import cutdown, make_collocation_graph\n",
    "import pandas as pd\n",
    "from IPython.display import Markdown as md\n",
    "import matplotlib.pyplot as plt\n",
    "%matplotlib inline"
   ]
  },
  {
   "cell_type": "markdown",
   "metadata": {
    "slideshow": {
     "slide_type": "slide"
    }
   },
   "source": [
    "# Bygg korpus og analysér\n",
    "\n",
    "Hent URN-er fra tekst eller metadata. URNene representer korpuset, eller en definisjon av korpuset. Korpuset bygges med ordene som metadata lagt inn i variabelen `words`. Korpusets URNer ligger i variabelen `korpusår`."
   ]
  },
  {
   "cell_type": "code",
   "execution_count": 5,
   "metadata": {},
   "outputs": [],
   "source": [
    "words = \"\"\" jøde, jøden, jøder, jødene, jøderne, jødisk, jødiske\"\"\".split(', ')\n",
    "words = words + [x.capitalize() for x in words]\n",
    "korpusår = dict()\n",
    "for anno in range(1920, 1941):\n",
    "    korpusår[anno] = nb.get_urn({'words':words, 'year':anno, 'next':0, 'limit':1000})"
   ]
  },
  {
   "cell_type": "markdown",
   "metadata": {},
   "source": [
    "## Oversikt pr år\n",
    "\n",
    "Her er statistikk over alle bøkene som inneholder minst en av ordene i `words`. Variabelen `anno_data` innholder statistikken over antall bøker fordelt på år, se også stolpediagrammet under."
   ]
  },
  {
   "cell_type": "code",
   "execution_count": 6,
   "metadata": {},
   "outputs": [],
   "source": [
    "anno_data = pd.DataFrame.from_dict({a: len(korpusår[a]) for a in korpusår}, orient='index')"
   ]
  },
  {
   "cell_type": "code",
   "execution_count": 7,
   "metadata": {},
   "outputs": [
    {
     "data": {
      "text/plain": [
       "<matplotlib.axes._subplots.AxesSubplot at 0x27232abdcf8>"
      ]
     },
     "execution_count": 7,
     "metadata": {},
     "output_type": "execute_result"
    },
    {
     "data": {
      "image/png": "[encoded data removed]",
      "text/plain": [
       "<Figure size 1296x360 with 1 Axes>"
      ]
     },
     "metadata": {},
     "output_type": "display_data"
    }
   ],
   "source": [
    "anno_data.plot(kind='bar', figsize=(18,5), rot=0)"
   ]
  },
  {
   "cell_type": "markdown",
   "metadata": {},
   "source": [
    "Det totale antallet bøker for perioden 1920-1940 som inneholder en av ordene i `words` er 3277."
   ]
  },
  {
   "cell_type": "code",
   "execution_count": 8,
   "metadata": {},
   "outputs": [
    {
     "data": {
      "text/plain": [
       "3277"
      ]
     },
     "execution_count": 8,
     "metadata": {},
     "output_type": "execute_result"
    }
   ],
   "source": [
    "int(anno_data.sum())"
   ]
  },
  {
   "cell_type": "markdown",
   "metadata": {},
   "source": [
    "## Frekvenser over ordene"
   ]
  },
  {
   "cell_type": "markdown",
   "metadata": {},
   "source": [
    "Slå sammen korpuset til en stor ordbag, en liste over alle frekvenser. Variabelen `all_urns` inneholder alle URNene i korpuset."
   ]
  },
  {
   "cell_type": "code",
   "execution_count": 25,
   "metadata": {},
   "outputs": [
    {
     "data": {
      "text/plain": [
       "3277"
      ]
     },
     "execution_count": 25,
     "metadata": {},
     "output_type": "execute_result"
    }
   ],
   "source": [
    "all_urns = []\n",
    "for anno in korpusår:\n",
    "    all_urns += korpusår[anno]\n",
    "len(all_urns)"
   ]
  },
  {
   "cell_type": "markdown",
   "metadata": {},
   "source": [
    "### Fra lagrede data\n",
    "\n",
    "Speeder opp prosessen ved å bruke lagrede data"
   ]
  },
  {
   "cell_type": "markdown",
   "metadata": {},
   "source": [
    "Aggreger korpus - kommentert ut siden data er lagret, konverter cellene til `code` for å kjøre på nytt."
   ]
  },
  {
   "cell_type": "markdown",
   "metadata": {},
   "source": [
    "aggs = nb.get_aggregated_corpus(all_urns)"
   ]
  },
  {
   "cell_type": "markdown",
   "metadata": {},
   "source": [
    "aggs.to_pickle('Ståle_og_Madelen')"
   ]
  },
  {
   "cell_type": "code",
   "execution_count": 11,
   "metadata": {},
   "outputs": [],
   "source": [
    "aggs = pd.read_pickle('Ståle_og_Madelen')"
   ]
  },
  {
   "cell_type": "markdown",
   "metadata": {},
   "source": [
    "Frekvens for ordet _jøde_ for hele perioden"
   ]
  },
  {
   "cell_type": "code",
   "execution_count": 47,
   "metadata": {},
   "outputs": [
    {
     "data": {
      "text/plain": [
       "0    0.000014\n",
       "Name: jøde, dtype: float64"
      ]
     },
     "execution_count": 47,
     "metadata": {},
     "output_type": "execute_result"
    }
   ],
   "source": [
    "aggs.transpose()['jøde']"
   ]
  },
  {
   "cell_type": "code",
   "execution_count": 22,
   "metadata": {},
   "outputs": [
    {
     "data": {
      "text/plain": [
       "343349"
      ]
     },
     "execution_count": 22,
     "metadata": {},
     "output_type": "execute_result"
    }
   ],
   "source": [
    "len(aggs[aggs[0] > 20][0])"
   ]
  },
  {
   "cell_type": "markdown",
   "metadata": {},
   "source": [
    "Lagrer det aggregerte korpuset. Det tar en viss tid å rekonstruere så greit å ha det på disk."
   ]
  },
  {
   "cell_type": "markdown",
   "metadata": {},
   "source": [
    "## Generer kollokasjoner\n",
    "\n",
    "Kollokasjonene er for hele settet av ord, andre sett kan gi forskjellig resultat."
   ]
  },
  {
   "cell_type": "code",
   "execution_count": 24,
   "metadata": {},
   "outputs": [
    {
     "name": "stdout",
     "output_type": "stream",
     "text": [
      "[' jøde', 'jøden', 'jøder', 'jødene', 'jøderne', 'jødisk', 'jødiske', ' jøde', 'Jøden', 'Jøder', 'Jødene', 'Jøderne', 'Jødisk', 'Jødiske']\n"
     ]
    }
   ],
   "source": [
    "print(words)"
   ]
  },
  {
   "cell_type": "code",
   "execution_count": 26,
   "metadata": {},
   "outputs": [],
   "source": [
    "colls = nb.urn_coll_words(words, urns=all_urns)"
   ]
  },
  {
   "cell_type": "markdown",
   "metadata": {},
   "source": [
    "Lagre kollokasjonene som pickle"
   ]
  },
  {
   "cell_type": "markdown",
   "metadata": {},
   "source": [
    "Sjekk med normaliserte data"
   ]
  },
  {
   "cell_type": "code",
   "execution_count": 34,
   "metadata": {},
   "outputs": [
    {
     "data": {
      "text/plain": [
       "True"
      ]
     },
     "execution_count": 34,
     "metadata": {},
     "output_type": "execute_result"
    }
   ],
   "source": [
    "nb.normalize_corpus_dataframe(colls)\n",
    "nb.normalize_corpus_dataframe(aggs)"
   ]
  },
  {
   "cell_type": "markdown",
   "metadata": {},
   "source": [
    "## Kollokasjoner \n",
    "\n",
    "Her kjøres kollokasjoner for ord med forskjellige krav til frekvens. Tar tre kjøringer, med krav om 6, 3 og 1 forekomster av ordet i korpuset (ingen krav til kollokasjonen)."
   ]
  },
  {
   "cell_type": "markdown",
   "metadata": {},
   "source": [
    "### Kollokasjoner for n=20\n",
    "\n",
    "For å være med i kollokasjonene kreves at ordet forekommer minst 21 ganger i hele korpuset"
   ]
  },
  {
   "cell_type": "code",
   "execution_count": 59,
   "metadata": {},
   "outputs": [],
   "source": [
    "colls_top = pd.DataFrame(colls[0]/(aggs[aggs[0] > 0.000004][0])).sort_values(by=0, ascending=False)"
   ]
  },
  {
   "cell_type": "code",
   "execution_count": 60,
   "metadata": {},
   "outputs": [
    {
     "name": "stdout",
     "output_type": "stream",
     "text": [
      "hedninger, grekere, arabere, Palestina, herkomst, Palæstina, sabbaten, sekt, Kristne, Jødene, russere, hedningene, katolikker, Babylon, jøde, tyskere, jødisk, jødiske, protestanter, nasjonalt, jøder, nation, hedensk, araberne, forargelse, skikker, vantro, skriftlærde, Jøder, hebraisk, yppersteprest, Alexandria, jødenes, ortodokse, Jerusalems, sprogbruk, fortrin, hedenske, jødene, forfølgelse, fangenskap, jøden, hebraiske, forfulgte, tradisjon, omvendte, Pilatus, fordrevet, kristne, frelsen, jøderne, arabiske, polske, kalender, fromme, overlevering, forkastet, nasjon, Antiokia, Jøderne, tradition, Halvdelen, Jerusalem, påske, templet, Adgang, grekerne, hvoriblandt, negrer, religion, Messias, fariseerne, Damaskus, anklaget, rase, fødte, romerne, forbød, kultus, vennen, bibel, hebr, tankegang, fiendskap, spredt, Heine, utelukket, blandt, kanon, menighet, Barnabas, forkynt, gresk, befolkning, vidnet, Titus, koloni, Herodes, foraktet, arabisk, hatet, Menighed, ødeleggelse, forfulgt, menigheter, skikk, Babel, Frankfurt, Romerne, europeere, egyptiske, kolonier, Efesus, Salomon, Riget, fromhet, filosof, miljø, autoriteter, velstående, utlendinger, Mose, profeter, Religion, skikke, Hitlers, propaganda, kretser, læger, anklage, folks, forkynner, samkvem, utvalgte, anklager, foreldre, Syria, egypterne, blomstrende, feiret, græsk, Jahve, forsvarte, påstod, skik, gudstjeneste, filosofer, evangeliet, skylden, bygdens, Salomos, Tempel, omvende, lærde, race, Abrahams, 6000, forbudt, oprinnelse, tilstedeværende, Muhammed, apostlene, Bund, plyndret, forventning, fredag, pct, adgang, Amsterdam, teologi, urene, pint, forfattere, fedreland, million, 1742, lesere, ansette, troende, folkeslag, bodde, datidens, apostelens, litteratur, motsetningen, greske, tempel, Ni, tillått, frykt, dragt, Egypten, polsk, fordum, tusenvis, Tel, testamente, Wergelands, bosatte, grusomme, romerske, tusener, %, skrifter, Claudius, Paulus, opstand, forarget, skriftene, fremstående, Mange, fester, kristelig, 4000, elementer, romersk, romernes, forståes, grunnloven, landsmenn, hvoraf, samtid, forakt, oprør, drept, tradisjoner, dræpt, forfølge, hustruer, fryktet, utryddet, ledere, Forældre, familier, iblandt, persiske, perserne, pet, slegt, opfyllelse, græske, bevissthet, ætt, Forbud, forfølger, Byerne, tilhørere, Jehova, Samaria, Befolkning\n"
     ]
    }
   ],
   "source": [
    "print(', '.join(list(colls_top.index[:250])))"
   ]
  },
  {
   "cell_type": "code",
   "execution_count": 61,
   "metadata": {},
   "outputs": [
    {
     "data": {
      "text/html": [
       "<div>\n",
       "<style scoped>\n",
       "    .dataframe tbody tr th:only-of-type {\n",
       "        vertical-align: middle;\n",
       "    }\n",
       "\n",
       "    .dataframe tbody tr th {\n",
       "        vertical-align: top;\n",
       "    }\n",
       "\n",
       "    .dataframe thead th {\n",
       "        text-align: right;\n",
       "    }\n",
       "</style>\n",
       "<table border=\"1\" class=\"dataframe\">\n",
       "  <thead>\n",
       "    <tr style=\"text-align: right;\">\n",
       "      <th></th>\n",
       "      <th>0</th>\n",
       "    </tr>\n",
       "  </thead>\n",
       "  <tbody>\n",
       "    <tr>\n",
       "      <th>hedninger</th>\n",
       "      <td>153.844785</td>\n",
       "    </tr>\n",
       "    <tr>\n",
       "      <th>grekere</th>\n",
       "      <td>89.401328</td>\n",
       "    </tr>\n",
       "    <tr>\n",
       "      <th>arabere</th>\n",
       "      <td>79.886133</td>\n",
       "    </tr>\n",
       "    <tr>\n",
       "      <th>Palestina</th>\n",
       "      <td>65.347594</td>\n",
       "    </tr>\n",
       "    <tr>\n",
       "      <th>herkomst</th>\n",
       "      <td>51.300740</td>\n",
       "    </tr>\n",
       "    <tr>\n",
       "      <th>Palæstina</th>\n",
       "      <td>47.242466</td>\n",
       "    </tr>\n",
       "    <tr>\n",
       "      <th>sabbaten</th>\n",
       "      <td>37.046057</td>\n",
       "    </tr>\n",
       "    <tr>\n",
       "      <th>sekt</th>\n",
       "      <td>36.527979</td>\n",
       "    </tr>\n",
       "    <tr>\n",
       "      <th>Kristne</th>\n",
       "      <td>36.363054</td>\n",
       "    </tr>\n",
       "    <tr>\n",
       "      <th>Jødene</th>\n",
       "      <td>35.397715</td>\n",
       "    </tr>\n",
       "    <tr>\n",
       "      <th>russere</th>\n",
       "      <td>34.991960</td>\n",
       "    </tr>\n",
       "    <tr>\n",
       "      <th>hedningene</th>\n",
       "      <td>33.719729</td>\n",
       "    </tr>\n",
       "    <tr>\n",
       "      <th>katolikker</th>\n",
       "      <td>32.027578</td>\n",
       "    </tr>\n",
       "    <tr>\n",
       "      <th>Babylon</th>\n",
       "      <td>31.219280</td>\n",
       "    </tr>\n",
       "    <tr>\n",
       "      <th>jøde</th>\n",
       "      <td>29.984148</td>\n",
       "    </tr>\n",
       "    <tr>\n",
       "      <th>tyskere</th>\n",
       "      <td>29.402430</td>\n",
       "    </tr>\n",
       "    <tr>\n",
       "      <th>jødisk</th>\n",
       "      <td>28.332660</td>\n",
       "    </tr>\n",
       "    <tr>\n",
       "      <th>jødiske</th>\n",
       "      <td>28.200455</td>\n",
       "    </tr>\n",
       "    <tr>\n",
       "      <th>protestanter</th>\n",
       "      <td>27.151809</td>\n",
       "    </tr>\n",
       "    <tr>\n",
       "      <th>nasjonalt</th>\n",
       "      <td>24.883051</td>\n",
       "    </tr>\n",
       "    <tr>\n",
       "      <th>jøder</th>\n",
       "      <td>24.106345</td>\n",
       "    </tr>\n",
       "    <tr>\n",
       "      <th>nation</th>\n",
       "      <td>22.962342</td>\n",
       "    </tr>\n",
       "    <tr>\n",
       "      <th>hedensk</th>\n",
       "      <td>22.708443</td>\n",
       "    </tr>\n",
       "    <tr>\n",
       "      <th>araberne</th>\n",
       "      <td>22.308942</td>\n",
       "    </tr>\n",
       "    <tr>\n",
       "      <th>forargelse</th>\n",
       "      <td>22.280810</td>\n",
       "    </tr>\n",
       "    <tr>\n",
       "      <th>skikker</th>\n",
       "      <td>21.962684</td>\n",
       "    </tr>\n",
       "    <tr>\n",
       "      <th>vantro</th>\n",
       "      <td>21.777582</td>\n",
       "    </tr>\n",
       "    <tr>\n",
       "      <th>skriftlærde</th>\n",
       "      <td>21.539669</td>\n",
       "    </tr>\n",
       "    <tr>\n",
       "      <th>Jøder</th>\n",
       "      <td>21.438573</td>\n",
       "    </tr>\n",
       "    <tr>\n",
       "      <th>hebraisk</th>\n",
       "      <td>19.143655</td>\n",
       "    </tr>\n",
       "    <tr>\n",
       "      <th>yppersteprest</th>\n",
       "      <td>19.081863</td>\n",
       "    </tr>\n",
       "    <tr>\n",
       "      <th>Alexandria</th>\n",
       "      <td>18.373225</td>\n",
       "    </tr>\n",
       "    <tr>\n",
       "      <th>jødenes</th>\n",
       "      <td>17.760193</td>\n",
       "    </tr>\n",
       "    <tr>\n",
       "      <th>ortodokse</th>\n",
       "      <td>17.595786</td>\n",
       "    </tr>\n",
       "    <tr>\n",
       "      <th>Jerusalems</th>\n",
       "      <td>17.571132</td>\n",
       "    </tr>\n",
       "    <tr>\n",
       "      <th>sprogbruk</th>\n",
       "      <td>17.548185</td>\n",
       "    </tr>\n",
       "    <tr>\n",
       "      <th>fortrin</th>\n",
       "      <td>17.165171</td>\n",
       "    </tr>\n",
       "    <tr>\n",
       "      <th>hedenske</th>\n",
       "      <td>16.882443</td>\n",
       "    </tr>\n",
       "    <tr>\n",
       "      <th>jødene</th>\n",
       "      <td>16.795669</td>\n",
       "    </tr>\n",
       "    <tr>\n",
       "      <th>forfølgelse</th>\n",
       "      <td>16.776325</td>\n",
       "    </tr>\n",
       "    <tr>\n",
       "      <th>fangenskap</th>\n",
       "      <td>16.458950</td>\n",
       "    </tr>\n",
       "    <tr>\n",
       "      <th>jøden</th>\n",
       "      <td>16.455050</td>\n",
       "    </tr>\n",
       "    <tr>\n",
       "      <th>hebraiske</th>\n",
       "      <td>16.299522</td>\n",
       "    </tr>\n",
       "    <tr>\n",
       "      <th>forfulgte</th>\n",
       "      <td>15.863369</td>\n",
       "    </tr>\n",
       "    <tr>\n",
       "      <th>tradisjon</th>\n",
       "      <td>15.846747</td>\n",
       "    </tr>\n",
       "    <tr>\n",
       "      <th>omvendte</th>\n",
       "      <td>15.690814</td>\n",
       "    </tr>\n",
       "    <tr>\n",
       "      <th>Pilatus</th>\n",
       "      <td>15.585485</td>\n",
       "    </tr>\n",
       "    <tr>\n",
       "      <th>fordrevet</th>\n",
       "      <td>15.538567</td>\n",
       "    </tr>\n",
       "    <tr>\n",
       "      <th>kristne</th>\n",
       "      <td>15.534545</td>\n",
       "    </tr>\n",
       "    <tr>\n",
       "      <th>frelsen</th>\n",
       "      <td>15.500897</td>\n",
       "    </tr>\n",
       "  </tbody>\n",
       "</table>\n",
       "</div>"
      ],
      "text/plain": [
       "                        0\n",
       "hedninger      153.844785\n",
       "grekere         89.401328\n",
       "arabere         79.886133\n",
       "Palestina       65.347594\n",
       "herkomst        51.300740\n",
       "Palæstina       47.242466\n",
       "sabbaten        37.046057\n",
       "sekt            36.527979\n",
       "Kristne         36.363054\n",
       "Jødene          35.397715\n",
       "russere         34.991960\n",
       "hedningene      33.719729\n",
       "katolikker      32.027578\n",
       "Babylon         31.219280\n",
       "jøde            29.984148\n",
       "tyskere         29.402430\n",
       "jødisk          28.332660\n",
       "jødiske         28.200455\n",
       "protestanter    27.151809\n",
       "nasjonalt       24.883051\n",
       "jøder           24.106345\n",
       "nation          22.962342\n",
       "hedensk         22.708443\n",
       "araberne        22.308942\n",
       "forargelse      22.280810\n",
       "skikker         21.962684\n",
       "vantro          21.777582\n",
       "skriftlærde     21.539669\n",
       "Jøder           21.438573\n",
       "hebraisk        19.143655\n",
       "yppersteprest   19.081863\n",
       "Alexandria      18.373225\n",
       "jødenes         17.760193\n",
       "ortodokse       17.595786\n",
       "Jerusalems      17.571132\n",
       "sprogbruk       17.548185\n",
       "fortrin         17.165171\n",
       "hedenske        16.882443\n",
       "jødene          16.795669\n",
       "forfølgelse     16.776325\n",
       "fangenskap      16.458950\n",
       "jøden           16.455050\n",
       "hebraiske       16.299522\n",
       "forfulgte       15.863369\n",
       "tradisjon       15.846747\n",
       "omvendte        15.690814\n",
       "Pilatus         15.585485\n",
       "fordrevet       15.538567\n",
       "kristne         15.534545\n",
       "frelsen         15.500897"
      ]
     },
     "execution_count": 61,
     "metadata": {},
     "output_type": "execute_result"
    }
   ],
   "source": [
    "colls_top[:50]"
   ]
  },
  {
   "cell_type": "markdown",
   "metadata": {},
   "source": [
    "### Kollokasjoner for n=3\n",
    "\n",
    "Ordet forekommer minst 6 ganger i hele korpuset"
   ]
  },
  {
   "cell_type": "code",
   "execution_count": 63,
   "metadata": {},
   "outputs": [],
   "source": [
    "colls_top2 = pd.DataFrame(colls[0]**1.01/(aggs[aggs[0] > 0.00002][0])).sort_values(by=0, ascending=False)"
   ]
  },
  {
   "cell_type": "code",
   "execution_count": 64,
   "metadata": {},
   "outputs": [
    {
     "name": "stdout",
     "output_type": "stream",
     "text": [
      "jødiske, jøder, jødene, kristne, Jerusalem, templet, religion, Messias, romerne, blandt, menighet, befolkning, skikk, folks, foreldre, evangeliet, lærde, forbudt, pct, adgang, troende, bodde, litteratur, greske, tempel, frykt, Egypten, romerske, %, Paulus, skrifter, Mange, romersk, hvoraf, oprør, drept, iblandt, ætt, Polen, forf., pleide, Moses, spanske, trekk, Blandt, både, Josef, opfatning, riket, folk, kristendommen, strengt, Både, fandtes, betraktet, motsetning, fantes, slekt, bor, Asia, tilhørte, Jesu, Hos, ihjel, familie, lærere, russiske, stat, trodde, byene, Historie, overfor, fiender, befolkningen, overensstemmelse, rettigheter, evangelium, strenge, innflytelse, lærte, kristelige, ty., Israel, loven, nasjonale, hos, gråt, ifølge, betegnelse, Jesus, forskjell, baade, religiøse, mengde, vinne, Ap, rettet, type, Nogen, ledende, Tysklands, tyske, herredømme, vende, ekte, overhodet, kristen, Ham, utgjør, middelalderen, talte, historie, Spania, vendt, apostelen, hold, samfund, levde, dikt, vinde, prester, regnet, flokk, Loven, Rom, Også, sml, forfatter, arbeidere, fremmede, læge, oprinnelig, religiøs, vidnesbyrd, piker, bestod, gud, soldater, lov, kalte, fremfor, hvorav, Folk, finnes, fremdeles, drevet, Bibelen, Kristus, Israels, rike, likhet, forholdet, gamle, dikter, brukte, fest, almindelighet, overalt, Abraham, 000, visstnok, graven, byer, søker, Wergeland, arv, samler, ropte, Wien, vendte, mange, tusen, vesle, hellig, internasjonale, regner, skrift, stammer, sen, innenfor, søkte, spilte, bygge, filosofi, nikket, millioner, krig, fattige, borgere, tegn, behandlet, blandet, diktning, grunn, hin, kapital, bevis, hjem, At, penger, nektet, kvinner, vanlige, mot, Kristi, Gjennem, navn, gj, standpunkt, verdens, skrek, foruten, selvstendig, kjent, kommet, indenfor, kjente, hovedstad, levet, York, vesentlig, ofre, tro, ere, gjaldt, dengang, Tyskland, Sml, reist, blod, lært, likeså, Disse, kaldte, Derfor, historien, borgerlige, kjendt, særlig, slå, 61, deres, fordi, ånd, dessuten, frelse, opstod, landets, hender, forlate\n"
     ]
    }
   ],
   "source": [
    "print(', '.join(list(colls_top2.index[:250])))"
   ]
  },
  {
   "cell_type": "code",
   "execution_count": 65,
   "metadata": {},
   "outputs": [
    {
     "data": {
      "text/html": [
       "<div>\n",
       "<style scoped>\n",
       "    .dataframe tbody tr th:only-of-type {\n",
       "        vertical-align: middle;\n",
       "    }\n",
       "\n",
       "    .dataframe tbody tr th {\n",
       "        vertical-align: top;\n",
       "    }\n",
       "\n",
       "    .dataframe thead th {\n",
       "        text-align: right;\n",
       "    }\n",
       "</style>\n",
       "<table border=\"1\" class=\"dataframe\">\n",
       "  <thead>\n",
       "    <tr style=\"text-align: right;\">\n",
       "      <th></th>\n",
       "      <th>0</th>\n",
       "    </tr>\n",
       "  </thead>\n",
       "  <tbody>\n",
       "    <tr>\n",
       "      <th>jødiske</th>\n",
       "      <td>26.255714</td>\n",
       "    </tr>\n",
       "    <tr>\n",
       "      <th>jøder</th>\n",
       "      <td>22.376317</td>\n",
       "    </tr>\n",
       "    <tr>\n",
       "      <th>jødene</th>\n",
       "      <td>15.546144</td>\n",
       "    </tr>\n",
       "    <tr>\n",
       "      <th>kristne</th>\n",
       "      <td>14.604723</td>\n",
       "    </tr>\n",
       "    <tr>\n",
       "      <th>Jerusalem</th>\n",
       "      <td>12.641881</td>\n",
       "    </tr>\n",
       "    <tr>\n",
       "      <th>templet</th>\n",
       "      <td>12.358776</td>\n",
       "    </tr>\n",
       "    <tr>\n",
       "      <th>religion</th>\n",
       "      <td>11.671799</td>\n",
       "    </tr>\n",
       "    <tr>\n",
       "      <th>Messias</th>\n",
       "      <td>11.370082</td>\n",
       "    </tr>\n",
       "    <tr>\n",
       "      <th>romerne</th>\n",
       "      <td>11.001047</td>\n",
       "    </tr>\n",
       "    <tr>\n",
       "      <th>blandt</th>\n",
       "      <td>10.095795</td>\n",
       "    </tr>\n",
       "    <tr>\n",
       "      <th>menighet</th>\n",
       "      <td>9.820802</td>\n",
       "    </tr>\n",
       "    <tr>\n",
       "      <th>befolkning</th>\n",
       "      <td>9.499318</td>\n",
       "    </tr>\n",
       "    <tr>\n",
       "      <th>skikk</th>\n",
       "      <td>8.952094</td>\n",
       "    </tr>\n",
       "    <tr>\n",
       "      <th>folks</th>\n",
       "      <td>8.154323</td>\n",
       "    </tr>\n",
       "    <tr>\n",
       "      <th>foreldre</th>\n",
       "      <td>8.014923</td>\n",
       "    </tr>\n",
       "    <tr>\n",
       "      <th>evangeliet</th>\n",
       "      <td>7.395485</td>\n",
       "    </tr>\n",
       "    <tr>\n",
       "      <th>lærde</th>\n",
       "      <td>7.052064</td>\n",
       "    </tr>\n",
       "    <tr>\n",
       "      <th>forbudt</th>\n",
       "      <td>6.892524</td>\n",
       "    </tr>\n",
       "    <tr>\n",
       "      <th>pct</th>\n",
       "      <td>6.644433</td>\n",
       "    </tr>\n",
       "    <tr>\n",
       "      <th>adgang</th>\n",
       "      <td>6.613262</td>\n",
       "    </tr>\n",
       "    <tr>\n",
       "      <th>troende</th>\n",
       "      <td>6.330651</td>\n",
       "    </tr>\n",
       "    <tr>\n",
       "      <th>bodde</th>\n",
       "      <td>6.313274</td>\n",
       "    </tr>\n",
       "    <tr>\n",
       "      <th>litteratur</th>\n",
       "      <td>6.232124</td>\n",
       "    </tr>\n",
       "    <tr>\n",
       "      <th>greske</th>\n",
       "      <td>6.198480</td>\n",
       "    </tr>\n",
       "    <tr>\n",
       "      <th>tempel</th>\n",
       "      <td>6.161044</td>\n",
       "    </tr>\n",
       "    <tr>\n",
       "      <th>frykt</th>\n",
       "      <td>6.099833</td>\n",
       "    </tr>\n",
       "    <tr>\n",
       "      <th>Egypten</th>\n",
       "      <td>5.968104</td>\n",
       "    </tr>\n",
       "    <tr>\n",
       "      <th>romerske</th>\n",
       "      <td>5.913590</td>\n",
       "    </tr>\n",
       "    <tr>\n",
       "      <th>%</th>\n",
       "      <td>5.870870</td>\n",
       "    </tr>\n",
       "    <tr>\n",
       "      <th>Paulus</th>\n",
       "      <td>5.789821</td>\n",
       "    </tr>\n",
       "    <tr>\n",
       "      <th>skrifter</th>\n",
       "      <td>5.774735</td>\n",
       "    </tr>\n",
       "    <tr>\n",
       "      <th>Mange</th>\n",
       "      <td>5.706622</td>\n",
       "    </tr>\n",
       "    <tr>\n",
       "      <th>romersk</th>\n",
       "      <td>5.583702</td>\n",
       "    </tr>\n",
       "    <tr>\n",
       "      <th>hvoraf</th>\n",
       "      <td>5.529163</td>\n",
       "    </tr>\n",
       "    <tr>\n",
       "      <th>oprør</th>\n",
       "      <td>5.518875</td>\n",
       "    </tr>\n",
       "    <tr>\n",
       "      <th>drept</th>\n",
       "      <td>5.507958</td>\n",
       "    </tr>\n",
       "    <tr>\n",
       "      <th>iblandt</th>\n",
       "      <td>5.382855</td>\n",
       "    </tr>\n",
       "    <tr>\n",
       "      <th>ætt</th>\n",
       "      <td>5.241546</td>\n",
       "    </tr>\n",
       "    <tr>\n",
       "      <th>Polen</th>\n",
       "      <td>4.994476</td>\n",
       "    </tr>\n",
       "    <tr>\n",
       "      <th>forf.</th>\n",
       "      <td>4.952342</td>\n",
       "    </tr>\n",
       "    <tr>\n",
       "      <th>pleide</th>\n",
       "      <td>4.914895</td>\n",
       "    </tr>\n",
       "    <tr>\n",
       "      <th>Moses</th>\n",
       "      <td>4.869796</td>\n",
       "    </tr>\n",
       "    <tr>\n",
       "      <th>spanske</th>\n",
       "      <td>4.823757</td>\n",
       "    </tr>\n",
       "    <tr>\n",
       "      <th>trekk</th>\n",
       "      <td>4.801473</td>\n",
       "    </tr>\n",
       "    <tr>\n",
       "      <th>Blandt</th>\n",
       "      <td>4.778266</td>\n",
       "    </tr>\n",
       "    <tr>\n",
       "      <th>både</th>\n",
       "      <td>4.295245</td>\n",
       "    </tr>\n",
       "    <tr>\n",
       "      <th>Josef</th>\n",
       "      <td>4.294791</td>\n",
       "    </tr>\n",
       "    <tr>\n",
       "      <th>opfatning</th>\n",
       "      <td>4.241303</td>\n",
       "    </tr>\n",
       "    <tr>\n",
       "      <th>riket</th>\n",
       "      <td>4.238608</td>\n",
       "    </tr>\n",
       "    <tr>\n",
       "      <th>folk</th>\n",
       "      <td>4.143658</td>\n",
       "    </tr>\n",
       "  </tbody>\n",
       "</table>\n",
       "</div>"
      ],
      "text/plain": [
       "                    0\n",
       "jødiske     26.255714\n",
       "jøder       22.376317\n",
       "jødene      15.546144\n",
       "kristne     14.604723\n",
       "Jerusalem   12.641881\n",
       "templet     12.358776\n",
       "religion    11.671799\n",
       "Messias     11.370082\n",
       "romerne     11.001047\n",
       "blandt      10.095795\n",
       "menighet     9.820802\n",
       "befolkning   9.499318\n",
       "skikk        8.952094\n",
       "folks        8.154323\n",
       "foreldre     8.014923\n",
       "evangeliet   7.395485\n",
       "lærde        7.052064\n",
       "forbudt      6.892524\n",
       "pct          6.644433\n",
       "adgang       6.613262\n",
       "troende      6.330651\n",
       "bodde        6.313274\n",
       "litteratur   6.232124\n",
       "greske       6.198480\n",
       "tempel       6.161044\n",
       "frykt        6.099833\n",
       "Egypten      5.968104\n",
       "romerske     5.913590\n",
       "%            5.870870\n",
       "Paulus       5.789821\n",
       "skrifter     5.774735\n",
       "Mange        5.706622\n",
       "romersk      5.583702\n",
       "hvoraf       5.529163\n",
       "oprør        5.518875\n",
       "drept        5.507958\n",
       "iblandt      5.382855\n",
       "ætt          5.241546\n",
       "Polen        4.994476\n",
       "forf.        4.952342\n",
       "pleide       4.914895\n",
       "Moses        4.869796\n",
       "spanske      4.823757\n",
       "trekk        4.801473\n",
       "Blandt       4.778266\n",
       "både         4.295245\n",
       "Josef        4.294791\n",
       "opfatning    4.241303\n",
       "riket        4.238608\n",
       "folk         4.143658"
      ]
     },
     "execution_count": 65,
     "metadata": {},
     "output_type": "execute_result"
    }
   ],
   "source": [
    "colls_top2[:50]"
   ]
  },
  {
   "cell_type": "markdown",
   "metadata": {},
   "source": [
    "### Kollokasjoner for n=1\n",
    "\n",
    "Ordet forekommer minst 6 ganger i hele korpuset"
   ]
  },
  {
   "cell_type": "code",
   "execution_count": 81,
   "metadata": {},
   "outputs": [],
   "source": [
    "colls_top3 = pd.DataFrame(colls[0]**1.01/(aggs[aggs > 0][0])).sort_values(by=0, ascending=False)"
   ]
  },
  {
   "cell_type": "code",
   "execution_count": 82,
   "metadata": {},
   "outputs": [
    {
     "name": "stdout",
     "output_type": "stream",
     "text": [
      "anti-mennesket, Schæchtning, mauschle, jewishness, motmennesket,, 136241, Naskovs, flodbadet, ottestrengede, Smaabørn;, lygnprofet, provinsreligion, reklame-makeri, Fyllehunder, Diospora, ikke-muhammedansk, knivmenn, Tornequiste, jødevennlig., høitidsår,, Åkerkarler, Palestina»), Jødmden, Utvekster, rabbinage, rentetagen, anti-frimureren, antizionistiske, Falascha, utabygds., Sahara-Rige, råtsji, Flåere, Bronstein-Trotsky, terrorgruppe,, Løverdagshelgen, kappefald, verdens-sovjetrepublikken, statsmedlemskap, handelsmentalitet, landsfordreven, dekomposisjonens, Revepelser, Kræmmeren,, korporasjonsliv, madnagar, Trældomspagt, Finaly-konsernet, (religionshistorie,, Askenazim, kjøbmannsfam, farcert, Nordstetten, spanskfødt, rase-patriotisme, Hviterusser, port.-ital, utskylledes, Spotteraab, Toubctioi, judalas, Florius, straffedommen.,  Muligheter, ekteskapsstiftelsens, Fodbøjler, 49115, Turca, Tschirikoff, uikt, Finansherlighed, Trotzky-Bronstein, 47977, Fllon, Fivsforhold, 47882, Trilogk, judentiimUch, Flauius, ujnévos, Torneqviste», jubelaars-periodene, 46337, ukjendeligere, Tjørnblomsterkrands, jordbegrenset, oprinnelseo, oprørsstifter,, Tindingelokker, emanciperedes, un6ta3ei36, Tilskikkelse;, Tilpassede, opstandelseshaapet, emansiperes, Fordeelbringende, Ti15k.1935.1.302, opvokß6nde, 42667, stlna, 42325, 44087, Tluysums, umoral,, Foldekjortel, 46225, judaiseres, ukjønnethet, 45954, judafque, elementærvesener, eksilarker, 45229, josuiter, eliBioNBkrjke6, Toraekrands, elitekorpset, Folkesamvittighed., jtidisch, Toledotb, elscns, Feuchtwanger,, Feder,, jullle, Festprogram., Elisabetgrad, 60431, jødiskhellensk, jødinuV, Vælgerkorps,, Emancipations-Act, ecnar, symbolvisdom, syiv, Vlaker, VlaHets, Vishnu-tilbederne, syd-europæere, Vin-Tilvirkning, omtrnt, sviskampanje, Vestkant-intelligens, onalbvrsskap, opby§§Hse,, WdhßetzM, synagoge^forstander., Westphalske-, Eiréné, ZIONISMEN, kakofemi, démus, désemmailloter, oksekjøtt-etere, Yoldshandlinger, synagogetj, kabbalist,, 62158, Whitechapel., Yandrere, XjeidenliHvn, olåh, ka.iman, XVer^elands, Wånersborg, omeiboc, jørkal, efreukrandset, jødere, Esdraelons, jøde-tru, Falascher, Udvisningsdoni, oplevde3, studlde, studentiske, 5171., Udjagelsen, Fattigfolk,, ufravigeiig, subjektiv-etisk, Tømmerhdlr, jø:-jøkel,, opløsningsbakterier, jæk.æl, Tyskere;, strykeremselger, Festas, Festordneren, stødepaa, jødehatende, EsrA.overskr, jødene.», Essenpolitiet, opfautet, suzerainity, jødepræst., jødepræget, Vaffelboutiker, VISHNU-KULTUS, Usbeger., Urtekræmmernes, Undertrykkede, opgivst, Uopgitte, sundhetsforsikrifter, Ungdomsforelskelse, Undtagelsesstilling,, 54243, F190vi, 53817, Tephilath, Tartarer,, underklædninger, Georgier,, sportsfdrere, sportsberømtheter, Skatteindtægter., Ginegar, parterkrigene, Skandinavisk-, innskrift-setel, Skalottløk, Gmlsemilisk, Godgjørenhedstræk, Goite, Sionf, utdestillert, spidshuede, Silver-døtrenes, licbreisk, patrisier-familie, Gotce, pectoraux, Georgiere,, Skevas,, emigrantdikter., 33515, sprogbæuk, Slotsporten,, palestinsk,, Slagteprøve, 34537, Skythopolitanerne, 34311, Skyggeseen,, intellektuell?;, papyrusskriftene, institusjon\",, sprdtes, Gebyhrs\n"
     ]
    }
   ],
   "source": [
    "print(', '.join(list(colls_top3.index[:250])))"
   ]
  },
  {
   "cell_type": "code",
   "execution_count": 83,
   "metadata": {},
   "outputs": [
    {
     "data": {
      "text/html": [
       "<div>\n",
       "<style scoped>\n",
       "    .dataframe tbody tr th:only-of-type {\n",
       "        vertical-align: middle;\n",
       "    }\n",
       "\n",
       "    .dataframe tbody tr th {\n",
       "        vertical-align: top;\n",
       "    }\n",
       "\n",
       "    .dataframe thead th {\n",
       "        text-align: right;\n",
       "    }\n",
       "</style>\n",
       "<table border=\"1\" class=\"dataframe\">\n",
       "  <thead>\n",
       "    <tr style=\"text-align: right;\">\n",
       "      <th></th>\n",
       "      <th>0</th>\n",
       "    </tr>\n",
       "  </thead>\n",
       "  <tbody>\n",
       "    <tr>\n",
       "      <th>anti-mennesket</th>\n",
       "      <td>2.013911</td>\n",
       "    </tr>\n",
       "    <tr>\n",
       "      <th>Schæchtning</th>\n",
       "      <td>2.013911</td>\n",
       "    </tr>\n",
       "    <tr>\n",
       "      <th>mauschle</th>\n",
       "      <td>2.013911</td>\n",
       "    </tr>\n",
       "    <tr>\n",
       "      <th>jewishness</th>\n",
       "      <td>2.013911</td>\n",
       "    </tr>\n",
       "    <tr>\n",
       "      <th>motmennesket,</th>\n",
       "      <td>2.013911</td>\n",
       "    </tr>\n",
       "    <tr>\n",
       "      <th>136241</th>\n",
       "      <td>2.013911</td>\n",
       "    </tr>\n",
       "    <tr>\n",
       "      <th>Naskovs</th>\n",
       "      <td>2.013911</td>\n",
       "    </tr>\n",
       "    <tr>\n",
       "      <th>flodbadet</th>\n",
       "      <td>1.516570</td>\n",
       "    </tr>\n",
       "    <tr>\n",
       "      <th>ottestrengede</th>\n",
       "      <td>1.013959</td>\n",
       "    </tr>\n",
       "    <tr>\n",
       "      <th>Smaabørn;</th>\n",
       "      <td>1.011047</td>\n",
       "    </tr>\n",
       "    <tr>\n",
       "      <th>lygnprofet</th>\n",
       "      <td>1.011047</td>\n",
       "    </tr>\n",
       "    <tr>\n",
       "      <th>provinsreligion</th>\n",
       "      <td>1.011047</td>\n",
       "    </tr>\n",
       "    <tr>\n",
       "      <th>reklame-makeri</th>\n",
       "      <td>1.006956</td>\n",
       "    </tr>\n",
       "    <tr>\n",
       "      <th>Fyllehunder</th>\n",
       "      <td>1.006956</td>\n",
       "    </tr>\n",
       "    <tr>\n",
       "      <th>Diospora</th>\n",
       "      <td>1.006956</td>\n",
       "    </tr>\n",
       "    <tr>\n",
       "      <th>ikke-muhammedansk</th>\n",
       "      <td>1.006956</td>\n",
       "    </tr>\n",
       "    <tr>\n",
       "      <th>knivmenn</th>\n",
       "      <td>1.006956</td>\n",
       "    </tr>\n",
       "    <tr>\n",
       "      <th>Tornequiste</th>\n",
       "      <td>1.006956</td>\n",
       "    </tr>\n",
       "    <tr>\n",
       "      <th>jødevennlig.</th>\n",
       "      <td>1.006956</td>\n",
       "    </tr>\n",
       "    <tr>\n",
       "      <th>høitidsår,</th>\n",
       "      <td>1.006956</td>\n",
       "    </tr>\n",
       "    <tr>\n",
       "      <th>Åkerkarler</th>\n",
       "      <td>1.006956</td>\n",
       "    </tr>\n",
       "    <tr>\n",
       "      <th>Palestina»)</th>\n",
       "      <td>1.006956</td>\n",
       "    </tr>\n",
       "    <tr>\n",
       "      <th>Jødmden</th>\n",
       "      <td>1.006956</td>\n",
       "    </tr>\n",
       "    <tr>\n",
       "      <th>Utvekster</th>\n",
       "      <td>1.006956</td>\n",
       "    </tr>\n",
       "    <tr>\n",
       "      <th>rabbinage</th>\n",
       "      <td>1.006956</td>\n",
       "    </tr>\n",
       "    <tr>\n",
       "      <th>rentetagen</th>\n",
       "      <td>1.006956</td>\n",
       "    </tr>\n",
       "    <tr>\n",
       "      <th>anti-frimureren</th>\n",
       "      <td>1.006956</td>\n",
       "    </tr>\n",
       "    <tr>\n",
       "      <th>antizionistiske</th>\n",
       "      <td>1.006956</td>\n",
       "    </tr>\n",
       "    <tr>\n",
       "      <th>Falascha</th>\n",
       "      <td>1.006956</td>\n",
       "    </tr>\n",
       "    <tr>\n",
       "      <th>utabygds.</th>\n",
       "      <td>1.006956</td>\n",
       "    </tr>\n",
       "    <tr>\n",
       "      <th>Sahara-Rige</th>\n",
       "      <td>1.006956</td>\n",
       "    </tr>\n",
       "    <tr>\n",
       "      <th>råtsji</th>\n",
       "      <td>1.006956</td>\n",
       "    </tr>\n",
       "    <tr>\n",
       "      <th>Flåere</th>\n",
       "      <td>1.006956</td>\n",
       "    </tr>\n",
       "    <tr>\n",
       "      <th>Bronstein-Trotsky</th>\n",
       "      <td>1.006956</td>\n",
       "    </tr>\n",
       "    <tr>\n",
       "      <th>terrorgruppe,</th>\n",
       "      <td>1.006956</td>\n",
       "    </tr>\n",
       "    <tr>\n",
       "      <th>Løverdagshelgen</th>\n",
       "      <td>1.006956</td>\n",
       "    </tr>\n",
       "    <tr>\n",
       "      <th>kappefald</th>\n",
       "      <td>1.006956</td>\n",
       "    </tr>\n",
       "    <tr>\n",
       "      <th>verdens-sovjetrepublikken</th>\n",
       "      <td>1.006956</td>\n",
       "    </tr>\n",
       "    <tr>\n",
       "      <th>statsmedlemskap</th>\n",
       "      <td>1.006956</td>\n",
       "    </tr>\n",
       "    <tr>\n",
       "      <th>handelsmentalitet</th>\n",
       "      <td>1.006956</td>\n",
       "    </tr>\n",
       "    <tr>\n",
       "      <th>landsfordreven</th>\n",
       "      <td>1.006956</td>\n",
       "    </tr>\n",
       "    <tr>\n",
       "      <th>dekomposisjonens</th>\n",
       "      <td>1.006956</td>\n",
       "    </tr>\n",
       "    <tr>\n",
       "      <th>Revepelser</th>\n",
       "      <td>1.006956</td>\n",
       "    </tr>\n",
       "    <tr>\n",
       "      <th>Kræmmeren,</th>\n",
       "      <td>1.006956</td>\n",
       "    </tr>\n",
       "    <tr>\n",
       "      <th>korporasjonsliv</th>\n",
       "      <td>1.006956</td>\n",
       "    </tr>\n",
       "    <tr>\n",
       "      <th>madnagar</th>\n",
       "      <td>1.006956</td>\n",
       "    </tr>\n",
       "    <tr>\n",
       "      <th>Trældomspagt</th>\n",
       "      <td>1.006956</td>\n",
       "    </tr>\n",
       "    <tr>\n",
       "      <th>Finaly-konsernet</th>\n",
       "      <td>1.006956</td>\n",
       "    </tr>\n",
       "    <tr>\n",
       "      <th>(religionshistorie,</th>\n",
       "      <td>1.006956</td>\n",
       "    </tr>\n",
       "    <tr>\n",
       "      <th>Askenazim</th>\n",
       "      <td>1.006956</td>\n",
       "    </tr>\n",
       "  </tbody>\n",
       "</table>\n",
       "</div>"
      ],
      "text/plain": [
       "                                  0\n",
       "anti-mennesket             2.013911\n",
       "Schæchtning                2.013911\n",
       "mauschle                   2.013911\n",
       "jewishness                 2.013911\n",
       "motmennesket,              2.013911\n",
       "136241                     2.013911\n",
       "Naskovs                    2.013911\n",
       "flodbadet                  1.516570\n",
       "ottestrengede              1.013959\n",
       "Smaabørn;                  1.011047\n",
       "lygnprofet                 1.011047\n",
       "provinsreligion            1.011047\n",
       "reklame-makeri             1.006956\n",
       "Fyllehunder                1.006956\n",
       "Diospora                   1.006956\n",
       "ikke-muhammedansk          1.006956\n",
       "knivmenn                   1.006956\n",
       "Tornequiste                1.006956\n",
       "jødevennlig.               1.006956\n",
       "høitidsår,                 1.006956\n",
       "Åkerkarler                 1.006956\n",
       "Palestina»)                1.006956\n",
       "Jødmden                    1.006956\n",
       "Utvekster                  1.006956\n",
       "rabbinage                  1.006956\n",
       "rentetagen                 1.006956\n",
       "anti-frimureren            1.006956\n",
       "antizionistiske            1.006956\n",
       "Falascha                   1.006956\n",
       "utabygds.                  1.006956\n",
       "Sahara-Rige                1.006956\n",
       "råtsji                     1.006956\n",
       "Flåere                     1.006956\n",
       "Bronstein-Trotsky          1.006956\n",
       "terrorgruppe,              1.006956\n",
       "Løverdagshelgen            1.006956\n",
       "kappefald                  1.006956\n",
       "verdens-sovjetrepublikken  1.006956\n",
       "statsmedlemskap            1.006956\n",
       "handelsmentalitet          1.006956\n",
       "landsfordreven             1.006956\n",
       "dekomposisjonens           1.006956\n",
       "Revepelser                 1.006956\n",
       "Kræmmeren,                 1.006956\n",
       "korporasjonsliv            1.006956\n",
       "madnagar                   1.006956\n",
       "Trældomspagt               1.006956\n",
       "Finaly-konsernet           1.006956\n",
       "(religionshistorie,        1.006956\n",
       "Askenazim                  1.006956"
      ]
     },
     "execution_count": 83,
     "metadata": {},
     "output_type": "execute_result"
    }
   ],
   "source": [
    "colls_top3[:50]"
   ]
  },
  {
   "cell_type": "code",
   "execution_count": null,
   "metadata": {},
   "outputs": [],
   "source": []
  }
 ],
 "metadata": {
  "kernelspec": {
   "display_name": "Python 3",
   "language": "python",
   "name": "python3"
  },
  "language_info": {
   "codemirror_mode": {
    "name": "ipython",
    "version": 3
   },
   "file_extension": ".py",
   "mimetype": "text/x-python",
   "name": "python",
   "nbconvert_exporter": "python",
   "pygments_lexer": "ipython3",
   "version": "3.6.5"
  }
 },
 "nbformat": 4,
 "nbformat_minor": 2
}
