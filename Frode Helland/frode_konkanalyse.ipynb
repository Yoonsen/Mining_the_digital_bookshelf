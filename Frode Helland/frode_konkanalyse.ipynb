{
 "cells": [
  {
   "cell_type": "markdown",
   "metadata": {
    "extensions": {
     "jupyter_dashboards": {
      "version": 1,
      "views": {
       "grid_default": {
        "col": 4,
        "height": 4,
        "hidden": false,
        "row": 0,
        "width": 4
       },
       "report_default": {
        "hidden": false
       }
      }
     }
    }
   },
   "source": [
    "## Konkordansanalyse og topic modelling"
   ]
  },
  {
   "cell_type": "markdown",
   "metadata": {
    "extensions": {
     "jupyter_dashboards": {
      "version": 1,
      "views": {
       "grid_default": {
        "col": 8,
        "height": 4,
        "hidden": false,
        "row": 16,
        "width": 4
       },
       "report_default": {
        "hidden": true
       }
      }
     }
    }
   },
   "source": [
    "Litt boilerplate import"
   ]
  },
  {
   "cell_type": "code",
   "execution_count": null,
   "metadata": {
    "collapsed": true
   },
   "outputs": [],
   "source": []
  },
  {
   "cell_type": "code",
   "execution_count": 20,
   "metadata": {
    "collapsed": false,
    "extensions": {
     "jupyter_dashboards": {
      "version": 1,
      "views": {
       "grid_default": {
        "hidden": true
       },
       "report_default": {
        "hidden": true
       }
      }
     }
    }
   },
   "outputs": [],
   "source": [
    "import topicmodelling as tm\n",
    "import imp\n",
    "import util\n",
    "import sqlite3\n",
    "import numpy as np\n",
    "from collections import Counter\n",
    "from IPython.display import HTML, display\n",
    "import pandas as pd"
   ]
  },
  {
   "cell_type": "markdown",
   "metadata": {
    "extensions": {
     "jupyter_dashboards": {
      "version": 1,
      "views": {
       "grid_default": {
        "col": 0,
        "height": 5,
        "hidden": false,
        "row": 205,
        "width": 12
       },
       "report_default": {
        "hidden": false
       }
      }
     }
    }
   },
   "source": [
    "#### Finn filer\n",
    "\n",
    "Skriv inn filnavn i listen under. Ved aktivering bygges en frekvensliste **freqs** og et format på filene ligger i variabelen **korpus**"
   ]
  },
  {
   "cell_type": "code",
   "execution_count": 6,
   "metadata": {
    "collapsed": false,
    "extensions": {
     "jupyter_dashboards": {
      "version": 1,
      "views": {
       "grid_default": {
        "col": 0,
        "height": 14,
        "hidden": false,
        "row": 12,
        "width": 4
       },
       "report_default": {
        "hidden": false
       }
      }
     }
    },
    "scrolled": true
   },
   "outputs": [
    {
     "name": "stdout",
     "output_type": "stream",
     "text": [
      "korpus til filer ok\n"
     ]
    }
   ],
   "source": [
    "korpus = tm.files2corpus(\n",
    "    [\n",
    "        \"c:/users/larsj/downloads/frode_jøde_1918_1940.html\", \n",
    "        \"c:/users/larsj/Downloads/frode_jøde_extra_1918_19402.html\"\n",
    "    ]\n",
    ")\n",
    "\n",
    "print('korpus til filer ok')\n",
    "\n",
    "freqs = tm.corpusfreq(korpus)\n",
    "\n"
   ]
  },
  {
   "cell_type": "markdown",
   "metadata": {},
   "source": [
    "### Sjekk de meste frekvente "
   ]
  },
  {
   "cell_type": "code",
   "execution_count": null,
   "metadata": {
    "collapsed": false
   },
   "outputs": [],
   "source": [
    "freqs.most_common(20)"
   ]
  },
  {
   "cell_type": "markdown",
   "metadata": {
    "collapsed": false,
    "extensions": {
     "jupyter_dashboards": {
      "version": 1,
      "views": {
       "grid_default": {
        "col": 4,
        "height": 4,
        "hidden": false,
        "row": 210,
        "width": 4
       },
       "report_default": {
        "hidden": false
       }
      }
     }
    }
   },
   "source": []
  },
  {
   "cell_type": "code",
   "execution_count": 2,
   "metadata": {
    "collapsed": true
   },
   "outputs": [],
   "source": [
    "def query(db, sql, param = (), size=10):\n",
    "    import sqlite3\n",
    "    import sys\n",
    "    res = []\n",
    "    if type(sql) is str:\n",
    "        sqls = sql.split(';')\n",
    "    else:\n",
    "        print('sql?')\n",
    "        return\n",
    "    with sqlite3.connect(db) as con:\n",
    "        cur = con.cursor()\n",
    "        try:\n",
    "            for sql in sqls[:-1]:\n",
    "                cur.execute(sql)\n",
    "            cur.execute(sqls[-1], param)\n",
    "            if size <= 0:\n",
    "                res = cur.fetchall()\n",
    "            else:\n",
    "                res = cur.fetchmany(size)\n",
    "        except:\n",
    "            print('en feil oppstod:', str(sys.exc_info()[1]) )\n",
    "    return res"
   ]
  },
  {
   "cell_type": "markdown",
   "metadata": {},
   "source": [
    "### Frekvenslister (unigram) for bøker og aviser bør ligge et sted"
   ]
  },
  {
   "cell_type": "code",
   "execution_count": 3,
   "metadata": {
    "collapsed": true
   },
   "outputs": [],
   "source": [
    "avis_ngram = \"c:/users/larsj/Downloads/avis-unigram-one-row.db\""
   ]
  },
  {
   "cell_type": "code",
   "execution_count": 7,
   "metadata": {
    "collapsed": false
   },
   "outputs": [
    {
     "data": {
      "text/plain": [
       "{'bort': 2530501,\n",
       " 'brune': 152749,\n",
       " 'flytte-biler': 19,\n",
       " 'hugget': 46714,\n",
       " 'iherdig': 69611,\n",
       " 'undersøkte': 52893,\n",
       " 'kirkens': 157586,\n",
       " 'armé': 35679,\n",
       " 'ilden': 179056,\n",
       " 'nasjonalflagg': 1268,\n",
       " 'Bryggearbeidernes': 335,\n",
       " 'hoff': 24176,\n",
       " 'papir': 290122,\n",
       " 'fulgte': 690292,\n",
       " 'opslkt': 1149,\n",
       " 'krediteres': 4745,\n",
       " 'Barnet': 66473,\n",
       " 'vinterhjelpen': 218,\n",
       " 'siden-': 1657,\n",
       " 'lugtet': 579,\n",
       " 'Rathenau': 779,\n",
       " 'Savabini': 626,\n",
       " 'togene': 46624,\n",
       " 'påfølgende': 121978,\n",
       " 'trusel': 72438,\n",
       " 'dyret': 104339,\n",
       " 'assimilere': 1052,\n",
       " '1935': 226396,\n",
       " 'Polske': 32673,\n",
       " 'ølne': 8241,\n",
       " 'behandledes': 16683,\n",
       " 'tilom': 237,\n",
       " 'Le': 603359,\n",
       " 'øvrige': 992197,\n",
       " 'hodet': 764791,\n",
       " 'brokede': 1042,\n",
       " 'ngen': 177683,\n",
       " 'uomvendte': 460,\n",
       " 'jødeforfølgelser': 1439,\n",
       " 'kjører': 643551,\n",
       " 'Myrstad': 28382,\n",
       " 'slor': 73446,\n",
       " 'trekke': 834723,\n",
       " 'trak': 33547,\n",
       " 'Vossische': 1730,\n",
       " 'guder': 26054,\n",
       " 'André': 436403,\n",
       " 'påtatt': 61254,\n",
       " 'Drama': 331608,\n",
       " 'aktivitet': 602314,\n",
       " 'Olene': 7678,\n",
       " 'Hel': 183865,\n",
       " 'RØSBERG': 52,\n",
       " 'Canada': 578616,\n",
       " 'Berthe': 17942,\n",
       " 'plakatene': 17212,\n",
       " 'griske': 5677,\n",
       " 'overrekke': 23508,\n",
       " 'Var': 664984,\n",
       " 'ørt': 27681,\n",
       " 'Gdynia': 7685,\n",
       " 'smått': 187681,\n",
       " 'bondeætt': 1097,\n",
       " 'fhv': 6583,\n",
       " 'introduseres': 11268,\n",
       " 'overhode': 48077,\n",
       " 'apostlene': 4607,\n",
       " 'snikskyttere': 5083,\n",
       " 'veksle': 28409,\n",
       " 'retningen': 49977,\n",
       " 'kommisjonen': 104448,\n",
       " 'almindeligere': 1063,\n",
       " 'hvia': 13991,\n",
       " 'jødehatet': 1946,\n",
       " 'havn': 394509,\n",
       " 'milliarden': 14349,\n",
       " 'overfallsmennene': 4629,\n",
       " 'storsinnet': 2788,\n",
       " 'preges': 76024,\n",
       " 'tilstedeværende': 46009,\n",
       " 'M': 16021074,\n",
       " 'træffer': 9128,\n",
       " 'fredag': 4793085,\n",
       " 'Frekk': 6641,\n",
       " 'varone': 970,\n",
       " 'Ålesund': 758974,\n",
       " 'Po-': 7841,\n",
       " 'fremkomme': 35220,\n",
       " 'geni': 34987,\n",
       " 'innspille': 900,\n",
       " 'drøfte': 236019,\n",
       " 'Herzl': 1250,\n",
       " 'date': 41107,\n",
       " 'forskjell': 319857,\n",
       " 'heldigvis': 305933,\n",
       " 'endring': 428841,\n",
       " 'overtredelsen': 3228,\n",
       " 'bestod': 87744,\n",
       " 'antikviteter': 62307,\n",
       " 'tuelle': 9064,\n",
       " 'ET': 426246,\n",
       " 'scener': 124868,\n",
       " 'bier': 50191,\n",
       " 'Kalergi': 87,\n",
       " 'syv': 718891,\n",
       " 'Vt': 163219,\n",
       " 'Grænsen': 45165,\n",
       " 'næsten': 139476,\n",
       " 'Hadjian': 1531,\n",
       " '6.75': 34725,\n",
       " 'strømmer': 118389,\n",
       " 'vakkert': 422971,\n",
       " 'spi': 29441,\n",
       " 'arier': 12728,\n",
       " 'Utallige': 17215,\n",
       " 'kolonien': 26094,\n",
       " 'assimilering': 1149,\n",
       " 'Mellem': 52628,\n",
       " 'dope': 6398,\n",
       " 'bygger': 624417,\n",
       " 'faktiske': 138160,\n",
       " 'gutter': 911162,\n",
       " 'adresse': 640826,\n",
       " 'Nytestamentet': 1442,\n",
       " 'offentlig': 1321167,\n",
       " 'medfølelse': 40912,\n",
       " 'heldig': 362286,\n",
       " 'pågikk': 61173,\n",
       " 'bestemt': 1412235,\n",
       " 'fascismen': 15349,\n",
       " 'mave': 15634,\n",
       " 'medlemsliste': 982,\n",
       " 'næringsdrivende': 110211,\n",
       " 'utdrag': 104892,\n",
       " 'innskrifter': 2736,\n",
       " 'jødefientlige': 18,\n",
       " 'optre': 6042,\n",
       " 'selskapets': 561994,\n",
       " 'Tii': 86799,\n",
       " 'medfødte': 13497,\n",
       " 'forklare': 276079,\n",
       " 'skadet': 591871,\n",
       " 'aV': 95961,\n",
       " 'ly': 287874,\n",
       " 'antok': 41266,\n",
       " 'avgjort': 457090,\n",
       " 'sjon': 258785,\n",
       " 'kram': 9696,\n",
       " 'forlatt': 172782,\n",
       " 'rumenerne': 8050,\n",
       " 'behov': 1895774,\n",
       " 'Jødefolkets': 174,\n",
       " 'venner': 1678483,\n",
       " 'interessert': 1112791,\n",
       " 'innehaver': 78386,\n",
       " 'møtes': 527355,\n",
       " '12 000': 248469,\n",
       " 'rasehatet': 828,\n",
       " 'husene': 185200,\n",
       " 'maatte': 533375,\n",
       " 'Kravet': 113089,\n",
       " 'ødeleggelser': 36998,\n",
       " 'Len': 38746,\n",
       " 'naboer': 266143,\n",
       " 'Sa': 542362,\n",
       " 'angst': 123692,\n",
       " 'sorg': 226417,\n",
       " 'innvandre': 1974,\n",
       " 'kalte': 191529,\n",
       " 'operaen': 92596,\n",
       " 'innskrenkningene': 3696,\n",
       " 'kristnes': 10278,\n",
       " 'minister': 134572,\n",
       " 'Stockholm': 1115577,\n",
       " 'avvist': 207440,\n",
       " '9': 24224829,\n",
       " 'universiteter': 79383,\n",
       " 'drept': 867256,\n",
       " 'Enda': 148754,\n",
       " 'Brighton': 72056,\n",
       " 'Endelig': 436435,\n",
       " 'Nero': 20687,\n",
       " 'jødernes': 260,\n",
       " 'makter': 173244,\n",
       " 'riks-': 31620,\n",
       " 'politiets': 265881,\n",
       " 'Jack': 457130,\n",
       " 'bearbeidet': 47348,\n",
       " 'forlikes': 1015,\n",
       " 'vicekonge': 566,\n",
       " 'Tsar-': 296,\n",
       " 'avreise': 86456,\n",
       " 'riktignok': 339289,\n",
       " 'redselsfulle': 4641,\n",
       " 'tunge': 411739,\n",
       " 'regnes': 364220,\n",
       " 'Aa': 163228,\n",
       " 'levelige': 11511,\n",
       " 'bringer': 463969,\n",
       " 'ge': 690204,\n",
       " 'beroligelse': 1891,\n",
       " 'misjonens': 15589,\n",
       " 'utpræget': 2409,\n",
       " 'forretning': 502074,\n",
       " 'foretrekker': 135466,\n",
       " 'levestandard': 64632,\n",
       " 'harmen': 3917,\n",
       " 'åat': 834,\n",
       " 'Britiske': 98116,\n",
       " 'nasjonens': 39703,\n",
       " 'Bergs': 59480,\n",
       " 'denfor': 4516,\n",
       " 'båre': 38139,\n",
       " 'trenge': 177400,\n",
       " 'arte': 34995,\n",
       " 'Du': 4050594,\n",
       " 'altfor': 862364,\n",
       " 'avvikle': 101235,\n",
       " 'sip': 14511,\n",
       " 'øverste': 257023,\n",
       " 'deira': 149790,\n",
       " 'lilla': 75148,\n",
       " 'utmerket': 485743,\n",
       " 'tek': 463935,\n",
       " 'hilste': 94471,\n",
       " 'mangfoldige': 60955,\n",
       " '47': 2304094,\n",
       " 'modell': 802060,\n",
       " '4': 39709790,\n",
       " 'Suss': 16106,\n",
       " 'statsborgerrett': 1082,\n",
       " 'Masaryk': 3305,\n",
       " 'gift': 444538,\n",
       " 'ganske': 2307408,\n",
       " 'kronen': 71573,\n",
       " 'omDet': 79,\n",
       " 'agitatorisk': 2135,\n",
       " '84,000': 1883,\n",
       " 'materiale': 291788,\n",
       " 'realitet': 130354,\n",
       " 'aarhundreders': 337,\n",
       " 'sinde': 30106,\n",
       " 'Johanne': 456886,\n",
       " 'Aksjon': 63598,\n",
       " 'restau': 2842,\n",
       " 'storbyene': 30116,\n",
       " 'maven': 29032,\n",
       " 'Telef': 392501,\n",
       " 'morallære': 1146,\n",
       " 'korrespondenten': 7626,\n",
       " 'Aviv': 51970,\n",
       " 'helvete': 96997,\n",
       " 'met': 1592292,\n",
       " 'ungdom': 1379926,\n",
       " 'romanen': 168147,\n",
       " 'iogså': 176,\n",
       " 'mm': 3906126,\n",
       " '93': 2525926,\n",
       " 'Jet': 141339,\n",
       " 'Harbitz': 23721,\n",
       " 'haus': 33214,\n",
       " 'Begravelsen': 272945,\n",
       " 'vaktposter': 4097,\n",
       " 'ærender': 7184,\n",
       " 'truer': 262993,\n",
       " 'stivt': 26583,\n",
       " 'meddomsret': 3346,\n",
       " 'forslagene': 127651,\n",
       " 'Goldmann': 2126,\n",
       " 'Hvorfor': 950953,\n",
       " 'folgende': 311622,\n",
       " 'Biirckel': 75,\n",
       " 'hivis': 807,\n",
       " 'strøm': 880981,\n",
       " 'følgelig': 112552,\n",
       " 'sak': 1728278,\n",
       " 'regulert': 156425,\n",
       " 'TIMES': 4818,\n",
       " 'bolsjevisme': 2531,\n",
       " 'ogtil': 1831,\n",
       " 'avd.': 2093301,\n",
       " 'ansettes': 327359,\n",
       " 'pinsedagen': 1200,\n",
       " 'miljø': 1110693,\n",
       " 'sint': 133828,\n",
       " 'understøtte': 10449,\n",
       " 'lovforordninger': 70,\n",
       " 'bakepulver': 12729,\n",
       " 'viker': 33190,\n",
       " 'bosatte': 32546,\n",
       " 'høve': 297465,\n",
       " 'ved': 38825019,\n",
       " 'nasjonaløkonom': 342,\n",
       " 'dårlige': 512239,\n",
       " 'privat': 1129573,\n",
       " 'halsen': 160124,\n",
       " 'forklædt': 974,\n",
       " 'katoliker': 565,\n",
       " 'pengesterke': 13929,\n",
       " 'Kultur': 320482,\n",
       " 'dok': 40770,\n",
       " 'Ojennom': 1022,\n",
       " 'Ulrik': 73309,\n",
       " 'konstatere': 180516,\n",
       " 'stjaalet': 13617,\n",
       " 'VOLDGIFT': 263,\n",
       " '52,000': 3773,\n",
       " 'skriftlig': 808513,\n",
       " 'østens': 2827,\n",
       " 'vinter': 852876,\n",
       " 'Kagan': 1826,\n",
       " 'be': 4751902,\n",
       " 'Fjeld': 149116,\n",
       " 'pulsåren': 1826,\n",
       " 'tillates': 60621,\n",
       " 'vorte': 174153,\n",
       " 'sigøinere': 365,\n",
       " 'århundrer': 34896,\n",
       " 'eneste': 2933828,\n",
       " 'årgang': 206697,\n",
       " 'dage': 330531,\n",
       " 'gunst': 35146,\n",
       " 'Trieste': 10395,\n",
       " 'biskop': 271692,\n",
       " 'virksomhet': 1252928,\n",
       " 'værste': 31503,\n",
       " 'eiere': 297170,\n",
       " 'skaffer': 151229,\n",
       " 'hviledagen': 4232,\n",
       " 'inatt': 44539,\n",
       " 'innebære': 104478,\n",
       " 'handlingen': 128660,\n",
       " 'ryke': 23338,\n",
       " 'ulovlig': 389698,\n",
       " 'kristendomen': 7050,\n",
       " 'forblev': 5943,\n",
       " 'Bela': 19280,\n",
       " 'innrømmes': 29555,\n",
       " 'lalfall': 5870,\n",
       " 'gråtende': 16234,\n",
       " '10.': 2583996,\n",
       " 'realisere': 140012,\n",
       " 'konstaterer': 197724,\n",
       " 'akseptert': 137316,\n",
       " 'patienter': 17419,\n",
       " 'kulde': 146227,\n",
       " 'fjellene': 94742,\n",
       " 'hugg': 13203,\n",
       " 'klagemur': 1635,\n",
       " 'Rust': 51081,\n",
       " 'ergret': 10170,\n",
       " 'planen': 766432,\n",
       " 'løsen': 3466,\n",
       " 'serie': 1281155,\n",
       " 'republikken': 52818,\n",
       " 'nikket': 49574,\n",
       " 'miljon': 13926,\n",
       " 'utentor': 7061,\n",
       " 'påført': 149932,\n",
       " 'muhamedanske': 2747,\n",
       " '1694': 6024,\n",
       " 'iverksatt': 72863,\n",
       " 'Ug': 121237,\n",
       " 'forat': 31207,\n",
       " 'stammet': 23652,\n",
       " 'mis': 44606,\n",
       " 'frihet': 384544,\n",
       " 'hilsen': 482637,\n",
       " 'påer': 114,\n",
       " 'mor': 2103613,\n",
       " 'Jagas': 103,\n",
       " 'rakke': 14212,\n",
       " 'jodiske': 7123,\n",
       " 'fald': 61238,\n",
       " 'mit': 360032,\n",
       " 'Sandler': 18640,\n",
       " 'stol': 233176,\n",
       " 'Adresseavisen': 741845,\n",
       " 'disputaser': 437,\n",
       " 'Bergen': 4346188,\n",
       " 'avstamning': 42845,\n",
       " 'grensen': 506978,\n",
       " 'finske': 392302,\n",
       " 'goder': 76638,\n",
       " 'utført': 512004,\n",
       " 'presenterer': 420835,\n",
       " 'Reservatet': 777,\n",
       " 'stanser': 83710,\n",
       " 'høl': 29251,\n",
       " 'menneskers': 82622,\n",
       " 'lagt': 3223329,\n",
       " 'Idd': 31627,\n",
       " 'befalte': 8046,\n",
       " 'fåes': 253351,\n",
       " 'emigrere': 7122,\n",
       " 'stiller': 1440842,\n",
       " 'baltiske': 38942,\n",
       " 'East': 137102,\n",
       " 'ske': 291291,\n",
       " 'betaler': 846141,\n",
       " 'tidi': 22198,\n",
       " 'rein': 151114,\n",
       " 'vove': 12564,\n",
       " 'nazis': 762,\n",
       " 'Per': 3998045,\n",
       " 'dd': 177385,\n",
       " 'Ben': 369331,\n",
       " 'tredjedele': 1553,\n",
       " 'heldige': 236503,\n",
       " 'teoretisk': 188372,\n",
       " 'palasset': 9984,\n",
       " 'senator': 48514,\n",
       " 'oftest': 216604,\n",
       " 'fastsat': 22626,\n",
       " 'kløften': 10195,\n",
       " 'segjer': 21345,\n",
       " 'gisler': 43450,\n",
       " 'adspredelse': 7383,\n",
       " ',': 951174910,\n",
       " 'yt': 75141,\n",
       " 'Russiske': 39974,\n",
       " 'tekstilindustrien': 10067,\n",
       " 'gjenkalder': 201,\n",
       " 'drøm': 229727,\n",
       " 'koma': 312057,\n",
       " 'foT': 8272,\n",
       " 'septbr': 90288,\n",
       " 'problem': 961302,\n",
       " 'slaktehus': 5892,\n",
       " 'advares': 22193,\n",
       " 'omn': 17027,\n",
       " 'slakter': 25932,\n",
       " 'risikerer': 210752,\n",
       " 'rases': 2630,\n",
       " 'Mottar': 37675,\n",
       " 'søker': 3402060,\n",
       " 'ørken': 24268,\n",
       " 'måi': 6361,\n",
       " '3.50': 196807,\n",
       " 'smerte': 103480,\n",
       " 'bladet': 382912,\n",
       " 'deo': 33061,\n",
       " 'Nordisk': 360610,\n",
       " 'Hverken': 95854,\n",
       " 'Berlin-korrespondent': 996,\n",
       " 'avsondrethet': 308,\n",
       " 'Nederst': 43972,\n",
       " 'årige': 350995,\n",
       " 'idrett': 382722,\n",
       " 'nærmast': 12855,\n",
       " 'fiendtlige': 87983,\n",
       " 'oner': 131724,\n",
       " '1902': 117247,\n",
       " 'KØBENHAVN': 43122,\n",
       " 'kolonisering': 3352,\n",
       " 'JØDE': 229,\n",
       " 'omslag': 33252,\n",
       " 'neseborene': 3534,\n",
       " 'korridor': 17140,\n",
       " 'Sent': 104747,\n",
       " 'anslår': 85910,\n",
       " 'nøiaktig': 16120,\n",
       " 'majestet': 13550,\n",
       " 'oftere': 140266,\n",
       " 'Sønderborg': 1946,\n",
       " 'boikottloven': 1530,\n",
       " 'ræd': 7974,\n",
       " 'høiesterettsdommer': 1380,\n",
       " 'skaffes': 314510,\n",
       " 'Dekretet': 1640,\n",
       " '70,000': 23285,\n",
       " 'begrep': 114736,\n",
       " 'propagandaen': 15454,\n",
       " 'jødesvin': 123,\n",
       " 'misnøien': 726,\n",
       " 'import': 197819,\n",
       " 'se': 7265379,\n",
       " 'nåar': 184196,\n",
       " 'Aabel': 44692,\n",
       " 'ugift': 58156,\n",
       " 'engelske': 763667,\n",
       " 'overgrep': 228451,\n",
       " 'betydningsfulle': 45226,\n",
       " 'bod': 685185,\n",
       " 'Ignatiew': 111,\n",
       " 'emnet': 144450,\n",
       " 'hjemmeindustri': 4391,\n",
       " 'invasion': 1735,\n",
       " 'guldsmed': 3637,\n",
       " 'personlig': 975065,\n",
       " 'skjender': 407,\n",
       " 'godkjennelse': 87376,\n",
       " 'kjettere': 1682,\n",
       " 'plass': 5597785,\n",
       " 'hand': 611383,\n",
       " 'imid': 11142,\n",
       " 'meise': 11087,\n",
       " 'HO': 304183,\n",
       " 'stopp': 214412,\n",
       " 'forretningsfolk': 36655,\n",
       " 'forordningar': 410,\n",
       " 'tilkommer': 46996,\n",
       " 'franskmænd': 1485,\n",
       " 'bevisstløse': 7486,\n",
       " 'rykket': 280528,\n",
       " 'sikkerhets': 56814,\n",
       " 'sjelen': 57877,\n",
       " 'Skytterlag': 69943,\n",
       " 'ore': 442298,\n",
       " 's': 27765557,\n",
       " 'Hensikten': 169572,\n",
       " 'territorium': 63348,\n",
       " 'Paa': 600535,\n",
       " 'tku': 750,\n",
       " 'cc': 201283,\n",
       " 'mester': 258625,\n",
       " 'katolsk': 39821,\n",
       " 'underkuede': 990,\n",
       " 'rigtig': 75832,\n",
       " 'Karl': 1990403,\n",
       " 'slagord': 76821,\n",
       " 'disponere': 123249,\n",
       " 'hansi': 170,\n",
       " 'forferdet': 17144,\n",
       " 'overstrømmende': 9276,\n",
       " '4110': 15766,\n",
       " 'iske': 36347,\n",
       " 'profet': 19565,\n",
       " 'bindende': 78014,\n",
       " 'pakk': 10593,\n",
       " 'vide': 218892,\n",
       " 'brydd': 25566,\n",
       " 'tilav': 259,\n",
       " 'levde': 214182,\n",
       " 'forferdede': 689,\n",
       " 'lose': 179042,\n",
       " 'Kaukasus': 19367,\n",
       " 'Inntok': 2884,\n",
       " 'forpligtet': 15100,\n",
       " 'underkuet': 1776,\n",
       " 'Franco': 63158,\n",
       " 'tatt': 5706787,\n",
       " 'get': 292012,\n",
       " 'gategutter': 1202,\n",
       " 'merkelige': 117470,\n",
       " 'isoleres': 8560,\n",
       " 'slipp': 73278,\n",
       " 'forbitret': 15878,\n",
       " 'konserten': 398034,\n",
       " 'preker': 20323,\n",
       " 'takket': 603435,\n",
       " 'Ledende': 33887,\n",
       " 'dreiv': 58445,\n",
       " 'giftet': 255183,\n",
       " 'djevelsk': 10860,\n",
       " 'son': 657327,\n",
       " 'hvadenten': 760,\n",
       " 'tida': 950754,\n",
       " 'lækjar': 9095,\n",
       " 'bekjenner': 19319,\n",
       " 'selge': 388964,\n",
       " 'fienden': 111752,\n",
       " 'Ophisset': 82,\n",
       " 'ansiktet': 262080,\n",
       " '350,000': 6773,\n",
       " 'Hugo': 236721,\n",
       " 'armer': 98495,\n",
       " 'musikalsk': 262999,\n",
       " 'dansk': 440245,\n",
       " 'sum': 548058,\n",
       " 'blusse': 8886,\n",
       " 'klagemuren': 1357,\n",
       " 'les': 363845,\n",
       " 'aftenen': 74105,\n",
       " 'ta': 10214841,\n",
       " 'deltagere': 264792,\n",
       " 'unitarer': 52,\n",
       " 'tyskhet': 136,\n",
       " 'fargestrålende': 1247,\n",
       " 'Maatte': 7202,\n",
       " 'ferie': 578650,\n",
       " 'boikotten': 19863,\n",
       " 'avgjørelse': 413718,\n",
       " 'Aage': 203272,\n",
       " 'oprørerne': 4806,\n",
       " 'forbrytere': 28376,\n",
       " 'hen': 430029,\n",
       " 'baadc': 10602,\n",
       " 'avfyrt': 37685,\n",
       " 'ukers': 220025,\n",
       " 'rettroende': 4075,\n",
       " 'forskjelligste': 25764,\n",
       " 'grått': 97282,\n",
       " 'liggende': 410450,\n",
       " 'centralstyre': 3606,\n",
       " 'aksjonen': 276757,\n",
       " 'tilstrekkelig': 479435,\n",
       " 'Streicher': 744,\n",
       " 'samfølelse': 3336,\n",
       " 'konsulen': 12832,\n",
       " 'Coudenhove-': 27,\n",
       " 'tradisjon': 349161,\n",
       " 'flittig': 124598,\n",
       " 'Frost': 97839,\n",
       " '85': 3603459,\n",
       " 'undtas': 5604,\n",
       " 'verdensorganisasjon': 2059,\n",
       " 'hodepine': 59256,\n",
       " 'Siktet': 15111,\n",
       " 'Amsterdaminternasjonalen': 52,\n",
       " 'Lyder': 58527,\n",
       " 'husleie': 174504,\n",
       " '60,000': 35094,\n",
       " 'Nytorvet': 38219,\n",
       " 'bryter': 265617,\n",
       " 'jordkjøp': 321,\n",
       " 'Arbeidsfronten': 83,\n",
       " 'play': 28054,\n",
       " 'reint': 86201,\n",
       " 'tilfældigvis': 2747,\n",
       " 'makker': 69388,\n",
       " '200': 2866261,\n",
       " 'kristendommens': 19629,\n",
       " 'kristendom': 63629,\n",
       " 'fengsles': 5758,\n",
       " 'tidene': 191631,\n",
       " 'selvbevissthet': 4258,\n",
       " 'drag': 114748,\n",
       " 'Verdenslitteraturens': 404,\n",
       " 'jødespørsmål': 113,\n",
       " 'masser': 63576,\n",
       " 'deu': 80579,\n",
       " 'tempel': 30199,\n",
       " 'Mr': 755184,\n",
       " 'gammelt': 425830,\n",
       " 'overveiende': 91041,\n",
       " 'unddra': 1476,\n",
       " 'Ord': 507529,\n",
       " 'Tysk-': 9271,\n",
       " 'underbygge': 15755,\n",
       " 'Ledet': 10950,\n",
       " 'polakken': 14669,\n",
       " 'Ignaliew': 31,\n",
       " 'motet': 290967,\n",
       " 'Gyldendals': 27713,\n",
       " 'snes': 23937,\n",
       " 'Aden': 24263,\n",
       " 'John': 2650521,\n",
       " 'telegrambyrås': 922,\n",
       " 'bestå': 268428,\n",
       " 'fåtall': 51920,\n",
       " 'objektiv': 41826,\n",
       " 'forsvarte': 66148,\n",
       " 'vokset': 39115,\n",
       " 'stemmerett': 90688,\n",
       " 'racer': 19303,\n",
       " 'arbeide': 2607272,\n",
       " 'hellige': 171756,\n",
       " 'presisere': 54574,\n",
       " 'Ingeniør': 186644,\n",
       " 'optrede': 4244,\n",
       " 'Leningrad': 56756,\n",
       " 'Sovjet-Unionen': 65240,\n",
       " 'pasifisten': 1155,\n",
       " 'fjerde': 556900,\n",
       " 'uantastet': 1546,\n",
       " 'fortvilte': 42247,\n",
       " 'solide': 329692,\n",
       " '14.00': 5233571,\n",
       " 'kristen': 229972,\n",
       " 'Hvert': 221874,\n",
       " 'eim': 50182,\n",
       " 'rolig': 1105784,\n",
       " 'op': 2107914,\n",
       " 'stender': 3631,\n",
       " 'politikk': 1189560,\n",
       " 'handverker': 20037,\n",
       " 'frafalne': 3284,\n",
       " 'landsretten': 680,\n",
       " 'resten': 1216055,\n",
       " 'deres': 2896417,\n",
       " 'u': 6622361,\n",
       " 'socialismen': 3275,\n",
       " 'livlig': 164605,\n",
       " 'not': 245590,\n",
       " 'Hvorvidt': 65009,\n",
       " 'marts': 39207,\n",
       " 'set': 447598,\n",
       " 'opfatning': 69171,\n",
       " 'pseudonym': 7276,\n",
       " 'motstanden': 93034,\n",
       " 'jordisk': 10019,\n",
       " '7': 25484385,\n",
       " 'utplyndret': 802,\n",
       " 'såre': 63351,\n",
       " 'Kort': 1005929,\n",
       " 'druknet': 111666,\n",
       " 'Weiss': 12150,\n",
       " 'goodtemplarorden': 131,\n",
       " 'lighet': 58904,\n",
       " 'likhet': 390703,\n",
       " 'politiske': 2084308,\n",
       " 'studere': 283477,\n",
       " 'påkalte': 3059,\n",
       " 'telefonsamtale': 22098,\n",
       " 'tykke': 111481,\n",
       " '5.30': 87351,\n",
       " 'Ca': 1577762,\n",
       " 'Mile': 44979,\n",
       " 'fascistpartiet': 593,\n",
       " 'kjørte': 746562,\n",
       " 'zionismens': 73,\n",
       " 'provinsene': 13217,\n",
       " 'hai': 684803,\n",
       " 'forfra': 14341,\n",
       " 'deltagerne': 175633,\n",
       " 'palestina': 315,\n",
       " 'gjentar': 102197,\n",
       " 'fordrer': 41093,\n",
       " 'tramgjeng': 110,\n",
       " 'igåraltes': 175,\n",
       " 'kjønn': 164496,\n",
       " 'utenfor': 2573053,\n",
       " 'Tyskerne': 57093,\n",
       " 'lenker': 30616,\n",
       " 'SAXLUNDS': 69,\n",
       " 'fabel': 13240,\n",
       " 'læge': 59399,\n",
       " 'Marxister': 287,\n",
       " 'påstå': 103874,\n",
       " 'Kesten': 448,\n",
       " 'Storbritannien': 21150,\n",
       " 'glimrende': 304063,\n",
       " 'tjenere': 43920,\n",
       " 'lutherske': 48143,\n",
       " 'mors': 97687,\n",
       " 'fjernere': 18758,\n",
       " 'industriherrer': 1264,\n",
       " 'talemaskinen': 303,\n",
       " 'største': 3786633,\n",
       " 'bésluttet': 264,\n",
       " 'oprinnclig': 172,\n",
       " 'tiltaket': 157899,\n",
       " 'smykker': 157606,\n",
       " 'overtro': 25181,\n",
       " 'gjentatt': 52406,\n",
       " 'billett': 151597,\n",
       " 'handelsmoral': 224,\n",
       " 'givet': 83789,\n",
       " 'Munch': 142089,\n",
       " 'Deporteringen': 41,\n",
       " 'arbeidsherren': 388,\n",
       " 'flytter': 367851,\n",
       " 'ogjeg': 11067,\n",
       " 'Didrik': 82443,\n",
       " 'nesen': 96064,\n",
       " 'Dertil': 107115,\n",
       " 'indvandret': 358,\n",
       " 'gjorde': 3078475,\n",
       " 'havnen': 116112,\n",
       " 'Henrik': 1065171,\n",
       " 'begå': 43088,\n",
       " 'Lyn': 437729,\n",
       " 'kolossale': 27952,\n",
       " 'atog': 174,\n",
       " 'dyrtiden': 6625,\n",
       " 'lysestaken': 1877,\n",
       " 'overmåte': 36572,\n",
       " 'ng': 660998,\n",
       " 'åpnet': 1131868,\n",
       " 'iakttat': 399,\n",
       " 'ammel': 5304,\n",
       " 'sp': 235825,\n",
       " 'bål': 70703,\n",
       " 'Anschluss': 1630,\n",
       " 'omtaler': 106662,\n",
       " 'sået': 257,\n",
       " 'ordinære': 304794,\n",
       " 'enhver': 1172589,\n",
       " 'avsluttet': 669245,\n",
       " 'europeere': 32099,\n",
       " 'ansikt': 315637,\n",
       " 'Fei': 13044,\n",
       " 'Dykk': 39860,\n",
       " 'Bentzen': 53112,\n",
       " 'bytte': 606157,\n",
       " '12.00': 4606011,\n",
       " 'jakt': 609784,\n",
       " 'ermor': 867,\n",
       " 'fakulteter': 9237,\n",
       " '600.000': 77382,\n",
       " 'deilige': 70162,\n",
       " 'tsaren': 8278,\n",
       " 'Wilhelm': 267250,\n",
       " 'inngående': 103588,\n",
       " 'svigerinde': 6045,\n",
       " 'åpne': 930350,\n",
       " 'ikké': 16642,\n",
       " 'lår': 304567,\n",
       " 'Nasaret': 12257,\n",
       " 'ovennevnte': 139602,\n",
       " 'velhavende': 7285,\n",
       " 'underlegne': 12744,\n",
       " 'and': 3714530,\n",
       " 'Branner': 5682,\n",
       " 'ogmed': 3610,\n",
       " 'understøttelse': 13288,\n",
       " 'istykker': 16733,\n",
       " 'turistførere': 43,\n",
       " 'kunstneriske': 122594,\n",
       " 'etasje': 959776,\n",
       " 'hill': 19716,\n",
       " 'takknemlige': 55822,\n",
       " 'rase': 97871,\n",
       " '48': 3085316,\n",
       " 'individualist': 3005,\n",
       " 'Interesse': 220564,\n",
       " 'katedral': 17944,\n",
       " 'jødinne': 1006,\n",
       " 'hardkokte': 11197,\n",
       " 'fordeler': 359633,\n",
       " 'voldsom': 184106,\n",
       " 'celebre': 15453,\n",
       " 'tilhørende': 250216,\n",
       " 'Nikolai': 125535,\n",
       " 'stanset': 288467,\n",
       " 'Griinewald': 702,\n",
       " 'overrettssakfører': 33385,\n",
       " 'ikke-ariske': 80,\n",
       " 'bl': 2008267,\n",
       " 'Kommisjonen': 70066,\n",
       " 'Illustrert': 26526,\n",
       " 'skapte': 381551,\n",
       " 'hansom': 1078,\n",
       " 'hængt': 2789,\n",
       " 'underskrift': 35511,\n",
       " 'institusjon': 192834,\n",
       " 'egypterne': 11487,\n",
       " 'Voldshandlinger': 612,\n",
       " 'mc': 181954,\n",
       " 'forbindelse': 2700843,\n",
       " 'K': 6946175,\n",
       " 'innførte': 69495,\n",
       " 'forvrengt': 6835,\n",
       " '«': 124498263,\n",
       " 'schåchtning': 92,\n",
       " 'Lew': 3578,\n",
       " 'ditto': 59890,\n",
       " 'koloniminister': 2287,\n",
       " 'talerstol': 29832,\n",
       " 'Har': 2803265,\n",
       " 'besynderlig': 23896,\n",
       " 'peke': 132429,\n",
       " 'forlangte': 122646,\n",
       " 'jadene': 394,\n",
       " 'Rothe': 3610,\n",
       " 'veritabel': 12005,\n",
       " 'Neppe': 69312,\n",
       " 'indgaar': 5022,\n",
       " 'templer': 9666,\n",
       " 'rekkene': 38770,\n",
       " '72': 3699561,\n",
       " 'vegg': 248541,\n",
       " 'transportert': 46096,\n",
       " 'Aslen': 786,\n",
       " 'Mahoney': 3068,\n",
       " 'sikrere': 85140,\n",
       " 'alt.': 407441,\n",
       " 'Jaffa': 10905,\n",
       " 'reservat': 4849,\n",
       " 'Times': 273071,\n",
       " 'skjebne': 247115,\n",
       " '.30': 166591,\n",
       " 'trampet': 18273,\n",
       " 'Alvorlige': 11005,\n",
       " 'kollektiv': 96934,\n",
       " 'ilt': 197587,\n",
       " 'Odda': 596988,\n",
       " 'Arabiske': 13109,\n",
       " 'kvote': 78559,\n",
       " 'vin': 497259,\n",
       " 'DEN': 538461,\n",
       " 'jødeforfølgelsens': 20,\n",
       " 'glemmer': 175506,\n",
       " 'soldater': 500843,\n",
       " 'menigheten': 153624,\n",
       " 'Kringkastingen': 40215,\n",
       " 'ingenting': 673704,\n",
       " 'panikkstemning': 1263,\n",
       " 'ver-': 84090,\n",
       " 'ri': 1634887,\n",
       " 'ifølge': 1476350,\n",
       " 'Holland': 162775,\n",
       " 'tue': 56949,\n",
       " 'bos': 115945,\n",
       " 'soirt': 158,\n",
       " 'broene': 8859,\n",
       " 'spør': 819291,\n",
       " 'lever': 1113236,\n",
       " 'skaffe': 1294131,\n",
       " 'åv': 17206,\n",
       " 'optagelse': 21562,\n",
       " 'fedrene': 19327,\n",
       " 'ulykkelige': 61437,\n",
       " 'må': 20485688,\n",
       " 'soim': 3392,\n",
       " 'offisiell': 120984,\n",
       " 'medisinsk': 243856,\n",
       " 'koret': 208515,\n",
       " 'ul': 1189645,\n",
       " 'rasefeller': 712,\n",
       " 'rådgiver': 272412,\n",
       " 'Efterat': 44108,\n",
       " 'barbarisk': 6561,\n",
       " 'Vær': 636019,\n",
       " 'polere': 3765,\n",
       " 'derfra': 137621,\n",
       " 'følge': 2071250,\n",
       " 'ridende': 19593,\n",
       " 'makten': 230674,\n",
       " 'Mekka': 24879,\n",
       " 'mun': 59149,\n",
       " 'bitre': 72895,\n",
       " 'sportsfolk': 3077,\n",
       " 'hjemløs': 8749,\n",
       " 'Nobelprisen': 27387,\n",
       " 'politikonstabler': 5492,\n",
       " 'foregaar': 178668,\n",
       " 'folkelige': 49003,\n",
       " 'årelange': 14048,\n",
       " 'klædt': 8164,\n",
       " 'negeren': 6921,\n",
       " 'aksjonskomite': 3977,\n",
       " 'flokk': 124566,\n",
       " 'Peder': 625189,\n",
       " 'U1': 33058,\n",
       " 'Oslobåt': 332,\n",
       " 'bortsett': 322454,\n",
       " 'innen-': 37171,\n",
       " 'flyvende': 39241,\n",
       " 'eksisterte': 43321,\n",
       " 'signal': 155407,\n",
       " 'hvitrussere': 41,\n",
       " 'Dødsfald': 28021,\n",
       " 'østlige': 68402,\n",
       " 'mishandlede': 12245,\n",
       " 'gjere': 295155,\n",
       " 'blott': 41562,\n",
       " 'araberes': 326,\n",
       " 'tilsammen': 453405,\n",
       " 'fredens': 38850,\n",
       " 'saaret': 15612,\n",
       " 'Lindbæk': 15737,\n",
       " 'arbeider-': 8335,\n",
       " '500,000': 23100,\n",
       " 'Dreisers': 402,\n",
       " 'Frihetskampen': 225,\n",
       " 'Nobelpristageren': 709,\n",
       " 'Oliver': 177019,\n",
       " '000': 1187579,\n",
       " 'Torkelsen': 33622,\n",
       " 'inngått': 346637,\n",
       " 'vidnesbyrd': 44886,\n",
       " 'usikkert': 163515,\n",
       " 'svindlerier': 507,\n",
       " 'kommer': 10803464,\n",
       " 'lokaler': 912318,\n",
       " 'fastboende': 63511,\n",
       " 'offervilje': 13431,\n",
       " 'moralen': 27020,\n",
       " 'baroner': 2508,\n",
       " 'utskrevet': 41883,\n",
       " 'ideelle': 123334,\n",
       " 'm': 38809347,\n",
       " 'innrømmelser': 28319,\n",
       " 'Lublin': 2857,\n",
       " 'porter': 57946,\n",
       " 'Transjordania': 553,\n",
       " 'adelige': 7234,\n",
       " 'ses': 347508,\n",
       " 'zionistiske': 450,\n",
       " 'awikler': 5367,\n",
       " 'utsultes': 81,\n",
       " 'fiende': 109064,\n",
       " 'penge-': 17486,\n",
       " 'jernbanelinjen': 22958,\n",
       " 'hygieniske': 22595,\n",
       " 'nævne': 12595,\n",
       " 'tankegang': 51756,\n",
       " 'derigjennem': 6361,\n",
       " 'fjellet': 615743,\n",
       " 'grønne': 353901,\n",
       " '43': 2903596,\n",
       " 'hensynsløse': 20314,\n",
       " 'arbeidsliv': 89491,\n",
       " 'verdier': 400390,\n",
       " '50.': 328951,\n",
       " '33.': 149115,\n",
       " 'Karmel': 6770,\n",
       " 'vennen': 71019,\n",
       " ...}"
      ]
     },
     "execution_count": 7,
     "metadata": {},
     "output_type": "execute_result"
    }
   ],
   "source": [
    "diff = []\n",
    "for word in freqs:\n",
    "    if freqs[word] > 1:\n",
    "        glob = query(avis_ngram, \"select first, freq from unigram where first = ?\",(word,))\n",
    "        if glob != []:\n",
    "            diff.append(glob[0])\n",
    "dict(diff)"
   ]
  },
  {
   "cell_type": "code",
   "execution_count": 11,
   "metadata": {
    "collapsed": false
   },
   "outputs": [],
   "source": [
    "tot = Counter(dict(diff))"
   ]
  },
  {
   "cell_type": "markdown",
   "metadata": {},
   "source": [
    "### Inspiser verdiene"
   ]
  },
  {
   "cell_type": "code",
   "execution_count": 18,
   "metadata": {
    "collapsed": false
   },
   "outputs": [
    {
     "data": {
      "text/html": [
       "<table>\n",
       "    <tr>\n",
       "        <th>Total</th>\n",
       "        <th>Freqs</th>\n",
       "    </tr>\n",
       "    <tr>\n",
       "        <th>17027473771</th>\n",
       "        <th>427167</th>\n",
       "        \n",
       "    </tr>\n",
       "</table>"
      ],
      "text/plain": [
       "<IPython.core.display.HTML object>"
      ]
     },
     "execution_count": 18,
     "metadata": {},
     "output_type": "execute_result"
    }
   ],
   "source": [
    "HTML(\"\"\"<table>\n",
    "    <tr>\n",
    "        <th>Total</th>\n",
    "        <th>Freqs</th>\n",
    "    </tr>\n",
    "    <tr>\n",
    "        <th>{tot}</th>\n",
    "        <th>{freqs}</th>\n",
    "        \n",
    "    </tr>\n",
    "</table>\"\"\".format(tot = sum(tot.values()), freqs= sum(freqs.values())))\n"
   ]
  },
  {
   "cell_type": "markdown",
   "metadata": {},
   "source": [
    "### Fra tallene lages datarammer"
   ]
  },
  {
   "cell_type": "code",
   "execution_count": 21,
   "metadata": {
    "collapsed": false
   },
   "outputs": [],
   "source": [
    "corpus = pd.DataFrame.from_dict(freqs, orient='index')\n",
    "totals = pd.DataFrame.from_dict(tot, orient='index')"
   ]
  },
  {
   "cell_type": "code",
   "execution_count": 22,
   "metadata": {
    "collapsed": false
   },
   "outputs": [],
   "source": [
    "corpus_rel = corpus.apply(lambda x: x/sum(freqs.values()))\n",
    "totals_rel = totals.apply(lambda x: x/sum(tot.values()))"
   ]
  },
  {
   "cell_type": "code",
   "execution_count": 23,
   "metadata": {
    "collapsed": false
   },
   "outputs": [],
   "source": [
    "new = corpus_rel.merge(totals_rel,how='outer', left_index=True, right_index=True, sort=False)"
   ]
  },
  {
   "cell_type": "code",
   "execution_count": 70,
   "metadata": {
    "collapsed": false
   },
   "outputs": [],
   "source": [
    "pdnew = pd.DataFrame(np.log2(new['0_x']/new['0_y']))"
   ]
  },
  {
   "cell_type": "code",
   "execution_count": 56,
   "metadata": {
    "collapsed": false
   },
   "outputs": [
    {
     "data": {
      "text/html": [
       "<div>\n",
       "<table border=\"1\" class=\"dataframe\">\n",
       "  <thead>\n",
       "    <tr style=\"text-align: right;\">\n",
       "      <th></th>\n",
       "      <th>0</th>\n",
       "    </tr>\n",
       "  </thead>\n",
       "  <tbody>\n",
       "    <tr>\n",
       "      <th>nasjonaltyske</th>\n",
       "      <td>245.517562</td>\n",
       "    </tr>\n",
       "    <tr>\n",
       "      <th>riksborger</th>\n",
       "      <td>244.512451</td>\n",
       "    </tr>\n",
       "    <tr>\n",
       "      <th>statsborgerskåp</th>\n",
       "      <td>242.510864</td>\n",
       "    </tr>\n",
       "    <tr>\n",
       "      <th>Heksetog</th>\n",
       "      <td>239.887972</td>\n",
       "    </tr>\n",
       "    <tr>\n",
       "      <th>Storbiritannia</th>\n",
       "      <td>235.162857</td>\n",
       "    </tr>\n",
       "    <tr>\n",
       "      <th>Riabinin</th>\n",
       "      <td>235.162857</td>\n",
       "    </tr>\n",
       "    <tr>\n",
       "      <th>formuestelling</th>\n",
       "      <td>232.154430</td>\n",
       "    </tr>\n",
       "    <tr>\n",
       "      <th>Ogog</th>\n",
       "      <td>229.463300</td>\n",
       "    </tr>\n",
       "    <tr>\n",
       "      <th>Fasael</th>\n",
       "      <td>229.463300</td>\n",
       "    </tr>\n",
       "    <tr>\n",
       "      <th>schachtet</th>\n",
       "      <td>227.392973</td>\n",
       "    </tr>\n",
       "    <tr>\n",
       "      <th>ektemændene</th>\n",
       "      <td>227.028877</td>\n",
       "    </tr>\n",
       "    <tr>\n",
       "      <th>Sudetlandets</th>\n",
       "      <td>227.028877</td>\n",
       "    </tr>\n",
       "    <tr>\n",
       "      <th>Steinschneider</th>\n",
       "      <td>225.416063</td>\n",
       "    </tr>\n",
       "    <tr>\n",
       "      <th>Langfuhr</th>\n",
       "      <td>224.806423</td>\n",
       "    </tr>\n",
       "    <tr>\n",
       "      <th>forpestelse</th>\n",
       "      <td>224.806423</td>\n",
       "    </tr>\n",
       "    <tr>\n",
       "      <th>salgsdepoter</th>\n",
       "      <td>222.761964</td>\n",
       "    </tr>\n",
       "    <tr>\n",
       "      <th>Palestinaforhandlingene</th>\n",
       "      <td>222.761964</td>\n",
       "    </tr>\n",
       "    <tr>\n",
       "      <th>nazirevolusjonen</th>\n",
       "      <td>222.761964</td>\n",
       "    </tr>\n",
       "    <tr>\n",
       "      <th>Volga-tyskernes</th>\n",
       "      <td>222.761964</td>\n",
       "    </tr>\n",
       "    <tr>\n",
       "      <th>Palestinakysten</th>\n",
       "      <td>222.761964</td>\n",
       "    </tr>\n",
       "  </tbody>\n",
       "</table>\n",
       "</div>"
      ],
      "text/plain": [
       "                                  0\n",
       "nasjonaltyske            245.517562\n",
       "riksborger               244.512451\n",
       "statsborgerskåp          242.510864\n",
       "Heksetog                 239.887972\n",
       "Storbiritannia           235.162857\n",
       "Riabinin                 235.162857\n",
       "formuestelling           232.154430\n",
       "Ogog                     229.463300\n",
       "Fasael                   229.463300\n",
       "schachtet                227.392973\n",
       "ektemændene              227.028877\n",
       "Sudetlandets             227.028877\n",
       "Steinschneider           225.416063\n",
       "Langfuhr                 224.806423\n",
       "forpestelse              224.806423\n",
       "salgsdepoter             222.761964\n",
       "Palestinaforhandlingene  222.761964\n",
       "nazirevolusjonen         222.761964\n",
       "Volga-tyskernes          222.761964\n",
       "Palestinakysten          222.761964"
      ]
     },
     "execution_count": 56,
     "metadata": {},
     "output_type": "execute_result"
    }
   ],
   "source": [
    "pdnew.sort_values(by=0, ascending=False)[:20]"
   ]
  },
  {
   "cell_type": "code",
   "execution_count": 28,
   "metadata": {
    "collapsed": true
   },
   "outputs": [],
   "source": [
    "def check_words(df, words):\n",
    "    return df.loc[words].sort_values(by=0, ascending=False)"
   ]
  },
  {
   "cell_type": "code",
   "execution_count": null,
   "metadata": {
    "collapsed": false
   },
   "outputs": [],
   "source": []
  },
  {
   "cell_type": "code",
   "execution_count": 71,
   "metadata": {
    "collapsed": false
   },
   "outputs": [
    {
     "data": {
      "text/html": [
       "<div>\n",
       "<table border=\"1\" class=\"dataframe\">\n",
       "  <thead>\n",
       "    <tr style=\"text-align: right;\">\n",
       "      <th></th>\n",
       "      <th>0</th>\n",
       "    </tr>\n",
       "  </thead>\n",
       "  <tbody>\n",
       "    <tr>\n",
       "      <th>bolsjeviker</th>\n",
       "      <td>7.167431</td>\n",
       "    </tr>\n",
       "    <tr>\n",
       "      <th>nazister</th>\n",
       "      <td>5.831036</td>\n",
       "    </tr>\n",
       "    <tr>\n",
       "      <th>kommunister</th>\n",
       "      <td>5.408229</td>\n",
       "    </tr>\n",
       "    <tr>\n",
       "      <th>fascister</th>\n",
       "      <td>5.049085</td>\n",
       "    </tr>\n",
       "    <tr>\n",
       "      <th>demokrater</th>\n",
       "      <td>4.037509</td>\n",
       "    </tr>\n",
       "    <tr>\n",
       "      <th>regjeringer</th>\n",
       "      <td>1.044061</td>\n",
       "    </tr>\n",
       "  </tbody>\n",
       "</table>\n",
       "</div>"
      ],
      "text/plain": [
       "                    0\n",
       "bolsjeviker  7.167431\n",
       "nazister     5.831036\n",
       "kommunister  5.408229\n",
       "fascister    5.049085\n",
       "demokrater   4.037509\n",
       "regjeringer  1.044061"
      ]
     },
     "execution_count": 71,
     "metadata": {},
     "output_type": "execute_result"
    }
   ],
   "source": [
    "check_words(pdnew, 'fascister bolsjeviker kommunister nazister demokrater regjeringer'.split())"
   ]
  },
  {
   "cell_type": "code",
   "execution_count": 73,
   "metadata": {
    "collapsed": false
   },
   "outputs": [
    {
     "data": {
      "text/html": [
       "<div>\n",
       "<table border=\"1\" class=\"dataframe\">\n",
       "  <thead>\n",
       "    <tr style=\"text-align: right;\">\n",
       "      <th></th>\n",
       "      <th>0</th>\n",
       "    </tr>\n",
       "  </thead>\n",
       "  <tbody>\n",
       "    <tr>\n",
       "      <th>Tyskland</th>\n",
       "      <td>4.580114</td>\n",
       "    </tr>\n",
       "    <tr>\n",
       "      <th>Polen</th>\n",
       "      <td>3.655827</td>\n",
       "    </tr>\n",
       "    <tr>\n",
       "      <th>Amerika</th>\n",
       "      <td>2.431462</td>\n",
       "    </tr>\n",
       "    <tr>\n",
       "      <th>Russland</th>\n",
       "      <td>1.743338</td>\n",
       "    </tr>\n",
       "    <tr>\n",
       "      <th>Frankrike</th>\n",
       "      <td>0.955590</td>\n",
       "    </tr>\n",
       "    <tr>\n",
       "      <th>Storbritannia</th>\n",
       "      <td>0.201019</td>\n",
       "    </tr>\n",
       "    <tr>\n",
       "      <th>Danmark</th>\n",
       "      <td>-0.257921</td>\n",
       "    </tr>\n",
       "    <tr>\n",
       "      <th>Sverige</th>\n",
       "      <td>-0.808658</td>\n",
       "    </tr>\n",
       "    <tr>\n",
       "      <th>Finland</th>\n",
       "      <td>-1.099248</td>\n",
       "    </tr>\n",
       "    <tr>\n",
       "      <th>Norge</th>\n",
       "      <td>-1.353216</td>\n",
       "    </tr>\n",
       "  </tbody>\n",
       "</table>\n",
       "</div>"
      ],
      "text/plain": [
       "                      0\n",
       "Tyskland       4.580114\n",
       "Polen          3.655827\n",
       "Amerika        2.431462\n",
       "Russland       1.743338\n",
       "Frankrike      0.955590\n",
       "Storbritannia  0.201019\n",
       "Danmark       -0.257921\n",
       "Sverige       -0.808658\n",
       "Finland       -1.099248\n",
       "Norge         -1.353216"
      ]
     },
     "execution_count": 73,
     "metadata": {},
     "output_type": "execute_result"
    }
   ],
   "source": [
    "check_words(pdnew, \"Norge Sverige Storbritannia Tyskland Russland Frankrike Danmark Polen Finland Amerika\".split())"
   ]
  },
  {
   "cell_type": "code",
   "execution_count": null,
   "metadata": {
    "collapsed": false
   },
   "outputs": [],
   "source": []
  },
  {
   "cell_type": "markdown",
   "metadata": {
    "extensions": {
     "jupyter_dashboards": {
      "version": 1,
      "views": {
       "grid_default": {},
       "report_default": {
        "hidden": false
       }
      }
     }
    }
   },
   "source": [
    "## Bruker eksisterende stoppordliste"
   ]
  },
  {
   "cell_type": "code",
   "execution_count": 5,
   "metadata": {
    "collapsed": false,
    "extensions": {
     "jupyter_dashboards": {
      "version": 1,
      "views": {
       "grid_default": {
        "hidden": true
       },
       "report_default": {
        "hidden": true
       }
      }
     }
    }
   },
   "outputs": [],
   "source": [
    "stop_words = tm.stop_words"
   ]
  },
  {
   "cell_type": "code",
   "execution_count": 7,
   "metadata": {
    "collapsed": true
   },
   "outputs": [],
   "source": [
    "stop_words = dict({x:freqs[x] for (x,freqs[x]) in freqs.most_common(100) })"
   ]
  },
  {
   "cell_type": "markdown",
   "metadata": {
    "extensions": {
     "jupyter_dashboards": {
      "version": 1,
      "views": {
       "grid_default": {
        "col": 0,
        "height": 4,
        "hidden": false,
        "row": 46,
        "width": 4
       },
       "report_default": {
        "hidden": false
       }
      }
     }
    }
   },
   "source": [
    "## Topic model NMF (~ Mallet)"
   ]
  },
  {
   "cell_type": "markdown",
   "metadata": {
    "extensions": {
     "jupyter_dashboards": {
      "version": 1,
      "views": {
       "grid_default": {
        "col": 0,
        "height": 4,
        "hidden": false,
        "row": 56,
        "width": 12
       },
       "report_default": {
        "hidden": false
       }
      }
     }
    }
   },
   "source": [
    "**Modeller tema/topic**\n",
    "\n",
    "Modifisert kode fra fra http://derekgreene.com/nmf-topic/\n",
    "\n",
    "Aktiver cellen under - den definerer et skript for å utføre modelleringen"
   ]
  },
  {
   "cell_type": "markdown",
   "metadata": {
    "extensions": {
     "jupyter_dashboards": {
      "version": 1,
      "views": {
       "grid_default": {
        "col": 0,
        "height": 11,
        "hidden": false,
        "row": 60,
        "width": 12
       },
       "report_default": {
        "hidden": true
       }
      }
     }
    },
    "slideshow": {
     "slide_type": "slide"
    }
   },
   "source": [
    "Ved temamodellering mallet-style må man bestemme seg for antallet tema, i tillegg til at teksten må brytes opp i mindre biter av en gitt størrelse. En liste over stoppord må også angis. Parametrene spesifiseres i kallet til tm.modeller() eller tm.modeller_set() på den her måten:\n",
    "\n",
    "<p style=\"font-family:courier\">tm.modeller(**teksten**, *tema*=**10**, *chunk_size*=**1000**, *topic_size*=**20**, *stop_words*=**stop_words**)</p>\n",
    "<p style=\"font-family:courier\">tm.modeller_set(**liste_av_tekster**, *tema*=**10**, *chunk_size*=**1000**, *topic_size*=**20**, *stop_words*=**stop_words**)</p>\n",
    "\n",
    "Forskjellen på de to er at med *modeller()* skal teksten, det som er første argument, være en eneste tekst, mens for *modeller_set()* er det flere tekster. For eksempel, er *my_corpus* definert som i de første cellene, kan \n",
    "\n",
    "<p style=\"font-family:courier\">tm.modeller(my_corpus[3], *tema*=**10**, *chunk_size*=**1000**, *topic_size*=**20**, *stop_words*=**stop_words**)</p>\n",
    "\n",
    "være et kall, mens for *modeller_set* brukes referansen til hele listen:\n",
    "<p style=\"font-family:courier\">tm.modeller_set(my_corpus, *tema*=**10**, *chunk_size*=**1000**, *topic_size*=**20**, *stop_words*=**stop_words**)</p>\n",
    "\n",
    "Se de to neste eksemplene"
   ]
  },
  {
   "cell_type": "markdown",
   "metadata": {
    "extensions": {
     "jupyter_dashboards": {
      "version": 1,
      "views": {
       "grid_default": {},
       "report_default": {
        "hidden": false
       }
      }
     }
    }
   },
   "source": [
    "**Her modelleres selve Fengselslovutvalget**"
   ]
  },
  {
   "cell_type": "code",
   "execution_count": 12,
   "metadata": {
    "collapsed": false,
    "extensions": {
     "jupyter_dashboards": {
      "version": 1,
      "views": {
       "grid_default": {
        "col": 0,
        "height": 35,
        "hidden": false,
        "row": 71,
        "width": 4
       },
       "report_default": {
        "hidden": false
       }
      }
     }
    },
    "slideshow": {
     "slide_type": "subslide"
    }
   },
   "outputs": [
    {
     "data": {
      "text/plain": [
       "['Berlin, blitt, få, får, siste, inn, arrestert, landet, nye, Fra, hvis, Man, Alle, Wien, lov',\n",
       " 'Øog, jo, „, aa, saa, vært, siden, Jesus, Jerusalem, både, Alle, oss, Hitler, dog, fikk',\n",
       " 'paa, saa, ogsaa, russiske, nogen, aa, gamle, os, sit, af, faa, end, aar, fik, gaar',\n",
       " '2, 3, ^, 4, kristen, 5, /, E, Gojim, ¦, 3., l, side, nye, Lord',\n",
       " 'kristne, muhamedanere, kristen, På, Vi, op, igjen, finnes, både, kirke, 3, heller, går, mens, hittil',\n",
       " 'drept, såret, to, Jerusalem, muhamedanere, blitt, sammenstøt, 20, 8, alvorlig, 45, britiske, 10, flere, 4',\n",
       " 'fordi, hans, tilbake, folk, s, noen, tysk, unge, navn, alt, vært, blitt, både, hvad, gjøre',\n",
       " 'ham, evige, kom, Jeg, to, op, hans, sa, Da, navn, r, fikk, hun, lille, Hovedr',\n",
       " 'blandt, særlig, hjem, både, side, araberne, sitt, ta, arbeide, mest, arbeider, norske, annen, mere, arbeidet',\n",
       " 'kjære, gammel, stille, aar, mor, Min, f, far, /, vår, søster, Oslo, vor, Stavanger, t',\n",
       " 'hele, verden, folk, hjem, vel, Der, hver, står, gamle, store, sitt, nye, Man, mest, deres',\n",
       " 'jødiske, hjem, store, araberne, sitt, deres, tilbake, folk, kommet, jødisk, nasjonalt, inn, flere, del, innvandring',\n",
       " 'jeg, Jeg, mig, seiv, vet, vilde, hvad, sa, Min, min, gamle, tysk, du, kunde, mine',\n",
       " 'millioner, Polen, ca., 3, flere, Av, del, million, alt, Europa, bor, to, tyskere, prosent, omkring',\n",
       " 'a, >, •, \\\\, r, <, s, ■, t, ^, e, n, |, g, ei',\n",
       " 'meget, f, tid, stor, folk, ingen, seiv, deres, samme, før, gamle, Dette, været, eks., op',\n",
       " 'hos, folk, nogen, nye, Ingen, tysker, Dette, vilde, bok, vel, sitt, støtter, For, kom, noget',\n",
       " 'polske, Polen, arrestert, grensen, polakker, pass, russiske, utvist, kommer, både, tusen, f, to, kommet, korrespondent',\n",
       " 'skulde, få, deres, hjem, nogen, samme, tid, sitt, nasjonalt, gi, gjøre, kom, gav, vet, bestemt',\n",
       " 'her, greker, landet, fri, Her, trell, mann, Ikke, Norge, kvinne, ord, tid, nogen, Jeg, ikkje']"
      ]
     },
     "execution_count": 12,
     "metadata": {},
     "output_type": "execute_result"
    }
   ],
   "source": [
    "tm.modeller(mitt_korpus[0], tema=20, chunk_size=50, stop_words = stop_words, topic_size=15)"
   ]
  },
  {
   "cell_type": "code",
   "execution_count": null,
   "metadata": {
    "collapsed": true
   },
   "outputs": [],
   "source": []
  },
  {
   "cell_type": "markdown",
   "metadata": {
    "extensions": {
     "jupyter_dashboards": {
      "version": 1,
      "views": {
       "grid_default": {
        "col": 0,
        "height": 4,
        "hidden": false,
        "row": 201,
        "width": 12
       },
       "report_default": {
        "hidden": false
       }
      }
     }
    }
   },
   "source": [
    "** Her er noen konkordanser også **"
   ]
  },
  {
   "cell_type": "code",
   "execution_count": 39,
   "metadata": {
    "collapsed": false,
    "extensions": {
     "jupyter_dashboards": {
      "version": 1,
      "views": {
       "grid_default": {
        "col": 8,
        "height": 57,
        "hidden": false,
        "row": 71,
        "width": 4
       },
       "report_default": {
        "hidden": false
       }
      }
     }
    }
   },
   "outputs": [
    {
     "data": {
      "text/plain": [
       "['disse Raa er den Kvinde , som i foreliggende Sog',\n",
       " 'helt igjennem ben æble Kvinde oærbig og i et Par',\n",
       " 'Thi hun var en Kvinde , fom ved sin ualmindelige',\n",
       " 'Keiserinden og Keiserprindsen fom Kvinde og Barn , men kun',\n",
       " 'at enhver Mand og Kvinde herefter skal » ære fuldmyndig',\n",
       " 'nemlig , at ugift Kvinde over 21 Aar , Enker',\n",
       " ', at myndig ugift Kvinde kan faa Sagnærge . Man',\n",
       " '. Naar da en Kvinde en Tid i Sønbom er',\n",
       " 'Undersogelser , og en Kvinde , fra hvem Rygtet skulde',\n",
       " 'ogfaa Sogllmneldelse- Den unge Kvinde af James . Ulv .',\n",
       " 'vedkommende \" Mand og Kvinde for Notarius puTjliciis ( 9',\n",
       " ', af Mand og Kvinde ihukommes med Hjertens © læbe',\n",
       " 'lige for Mand og Kvinde , føltes dette stemt for',\n",
       " 'at finde en velskikket Kvinde til Bestyrerinde ; thi det',\n",
       " 'er ikke Mand efter Kvinde \" , © at .',\n",
       " 'en Mand og en Kvinde , som scmledes solges ab',\n",
       " 'flere Kvinder eller en Kvinde og flere Mcend fom følge',\n",
       " ') til ben samaritanske Kvinde hist ved Jacobs Vrond kan',\n",
       " 'Verden fodt af en Kvinde , fobi under Loven ,',\n",
       " 'paastaar , at en Kvinde klcedt efter Tidens Mode unnt',\n",
       " 'med Infanterne . En Kvinde raabte : „ Min Gud',\n",
       " 'Virkeligheden var en villieslcerk Kvinde , besluttede hun fvr enhver',\n",
       " 'hverken paa Mand eller Kvinde , fom er pita Din',\n",
       " 'voultdevenir moulier Sil blive Kvinde Et filer entre pucelettes .',\n",
       " 'bun ( den bpopbragne Kvinde iscer ) fig rigtigt bevidst',\n",
       " 'Ninene paa Mand etter Kvinde , til hoire elter venstre',\n",
       " 'Overenskomst imellem Mand og Kvinde om Wgtestab , som bar',\n",
       " '« bar en lastefuld Kvinde , gjorde han hende til',\n",
       " 'Sted ser vi en Kvinde , [ om leder toeb',\n",
       " 'hyre bordan geriseS En Kvinde sommer bet sig at »',\n",
       " ', at dersom nogen Kvinde bliver trolovet ( beweddod )',\n",
       " 'vigtigste Gjenstand for en Kvinde var henbeg £ > aar',\n",
       " 'fri Mand eller fri Kvinde bar det altid langt ,',\n",
       " 'ber kneb en fri Kvinde i Armen nedenfor Albuen ,',\n",
       " 'sige , ben tro Kvinde . Udtrykkets Skjsnhed bil falde',\n",
       " ', „ ben magelsse Kvinde \" ( incomnarabilis femina .',\n",
       " 'er umuligt for en Kvinde \" , siger han ,',\n",
       " 'Sats at en vild Kvinde , naar man tager Ordet',\n",
       " 'til Gud hver en Kvinde og Mand : Gjennem Tiderne',\n",
       " 'f . Ex . Kvinde , Kvcern , Kvinna ,',\n",
       " 'Mand og enhver ugift Kvinde vcere fuldmyndig . § 2',\n",
       " '§ 3 . Ugift Kvinde over 21 Aar saavelsom Enke',\n",
       " '5 Mcend og 1 Kvinde have bræbt fig ved Kuldamp',\n",
       " 'og agtvcerdig Mand og Kvinde af < gaanboærfiofian = den',\n",
       " '5 % „ ene Kvinde 4 s , § 4',\n",
       " 'i Drury-Lane en sorgeklcedt Kvinde ved sit Arbeide . Hendes',\n",
       " ', ba ben stakkels Kvinde gjennemblodt af Regnen og skjelvende',\n",
       " 'flammelig Usandhev , hvad Kvinde , vover at sige ?',\n",
       " 'og faaoel Mand som Kvinde kunde efter ben anvendte glib',\n",
       " 'hans Side en smuk Kvinde holdende paa Skjodet et Barn',\n",
       " 'antages . Mand etter Kvinde , ber har obnaaet 17']"
      ]
     },
     "execution_count": 39,
     "metadata": {},
     "output_type": "execute_result"
    }
   ],
   "source": [
    "tm.conc(mitt_korpus[0], 'Kvinde', num_of_result=50, offset=0)"
   ]
  },
  {
   "cell_type": "code",
   "execution_count": 58,
   "metadata": {
    "collapsed": false,
    "extensions": {
     "jupyter_dashboards": {
      "version": 1,
      "views": {
       "grid_default": {
        "hidden": true
       },
       "report_default": {
        "hidden": true
       }
      }
     }
    }
   },
   "outputs": [],
   "source": [
    "?tm.conc\n"
   ]
  }
 ],
 "metadata": {
  "anaconda-cloud": {},
  "extensions": {
   "jupyter_dashboards": {
    "activeView": "report_default",
    "version": 1,
    "views": {
     "grid_default": {
      "cellMargin": 10,
      "defaultCellHeight": 20,
      "maxColumns": 12,
      "name": "grid",
      "type": "grid"
     },
     "report_default": {
      "name": "report",
      "type": "report"
     }
    }
   }
  },
  "kernelspec": {
   "display_name": "Python [default]",
   "language": "python",
   "name": "python3"
  },
  "language_info": {
   "codemirror_mode": {
    "name": "ipython",
    "version": 3
   },
   "file_extension": ".py",
   "mimetype": "text/x-python",
   "name": "python",
   "nbconvert_exporter": "python",
   "pygments_lexer": "ipython3",
   "version": "3.5.1"
  }
 },
 "nbformat": 4,
 "nbformat_minor": 0
}
