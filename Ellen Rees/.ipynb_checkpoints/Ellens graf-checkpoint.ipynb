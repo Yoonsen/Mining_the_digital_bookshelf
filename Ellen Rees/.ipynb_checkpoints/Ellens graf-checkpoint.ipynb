{
 "cells": [
  {
   "cell_type": "markdown",
   "metadata": {},
   "source": [
    "#### Boot cell\n",
    "\n",
    "Skip if `module_update.py` is in same folder as notebook, next cell downloads this file which in turn will download other files."
   ]
  },
  {
   "cell_type": "code",
   "execution_count": null,
   "metadata": {},
   "outputs": [],
   "source": [
    "import urllib.request, shutil\n",
    "with urllib.request.urlopen(\"https://raw.githubusercontent.com/Yoonsen/Modules/master/module_update.py\") as response, open(\"module_update.py\", 'wb') as out_file:\n",
    "    shutil.copyfileobj(response, out_file)"
   ]
  },
  {
   "cell_type": "markdown",
   "metadata": {},
   "source": [
    "#### Get essentials\n",
    "\n",
    "Import text and graph modules for analysis, and css for display"
   ]
  },
  {
   "cell_type": "code",
   "execution_count": 1,
   "metadata": {
    "slideshow": {
     "slide_type": "slide"
    }
   },
   "outputs": [],
   "source": [
    "from module_update import update, css"
   ]
  },
  {
   "cell_type": "code",
   "execution_count": 2,
   "metadata": {},
   "outputs": [
    {
     "data": {
      "text/html": [
       "<style>@import url(\n",
       "http://fonts.googleapis.com/css?family=Lato|Philosopher|Montserrat|Source+Code+Pro|Istok+Web|Philosopher|Assistant:200,400,700);\n",
       "\n",
       "/*\n",
       "#notebook-container {\n",
       "\t-webkit-box-shadow: none;\n",
       "\tbox-shadow: none;\n",
       "}\n",
       "*/\n",
       "\n",
       "h1, h2, h3, h4, h5, h6 {\n",
       "\tfont-family: 'Montserrat', sans-serif;\n",
       "\tline-height: 2em;\n",
       "    color: #004f99;\n",
       "    font-weight: 600;\n",
       "}\n",
       "\n",
       "h1 { font-size: 4.5em; }\n",
       "h2 { font-size: 4em; }\n",
       "h3 { font-size: 3.5em; }\n",
       "h4 { font-size: 3em; }\n",
       "h5 { font-size: 2.5em; color:DarkSlateGray; }\n",
       "h6 { font-size: 2em; }\n",
       "\n",
       "p {\n",
       "\tfont-family: 'Assistant', sans-serif; \n",
       "\tfont-size: 1.2em;\n",
       "\tline-height: 1.4em;\n",
       "\tcolor: black;\n",
       "}\n",
       "p code {\n",
       "\tfont-size:0.9em;\n",
       "}\n",
       "div.input_area {\n",
       "\tborder:none !important;\n",
       "\tborder-left:1px solid #ff851b !important\n",
       "}\n",
       "\n",
       "span.cm-keyword {\n",
       "\tcolor:#339966 !important;\n",
       "}\n",
       "span.nn {  /*span.cm-variable, span.cm-property*/\n",
       "\tcolor: #3399ff !important;\n",
       "}\n",
       "div.CodeMirror {\n",
       "\tfont-family: 'Inconsolata', monospace;\n",
       "\tfont-size: 1.1em;\n",
       "\t\n",
       "}\n",
       "</style>"
      ],
      "text/plain": [
       "<IPython.core.display.HTML object>"
      ]
     },
     "execution_count": 2,
     "metadata": {},
     "output_type": "execute_result"
    }
   ],
   "source": [
    "css()"
   ]
  },
  {
   "cell_type": "code",
   "execution_count": null,
   "metadata": {},
   "outputs": [],
   "source": [
    "import requests\n",
    "def ner(text = None):\n",
    "    r = []\n",
    "    if text != None:\n",
    "        r = requests.post(\"https://api.nb.no/ngram/ner\", json={'text':text})\n",
    "    return r.json()\n",
    "    "
   ]
  },
  {
   "cell_type": "code",
   "execution_count": 6,
   "metadata": {},
   "outputs": [
    {
     "data": {
      "text/markdown": [
       "Updated file `C:\\Users\\larsj\\Documents\\Notebookprosjekter\\nbtext.py`"
      ],
      "text/plain": [
       "<IPython.core.display.Markdown object>"
      ]
     },
     "metadata": {},
     "output_type": "display_data"
    }
   ],
   "source": [
    "update('nbtext', overwrite=True)"
   ]
  },
  {
   "cell_type": "code",
   "execution_count": 7,
   "metadata": {},
   "outputs": [
    {
     "data": {
      "text/plain": [
       "<module 'nbtext' from 'C:\\\\Users\\\\larsj\\\\Documents\\\\Notebookprosjekter\\\\nbtext.py'>"
      ]
     },
     "execution_count": 7,
     "metadata": {},
     "output_type": "execute_result"
    }
   ],
   "source": [
    "import imp\n",
    "imp.reload(nb)"
   ]
  },
  {
   "cell_type": "code",
   "execution_count": 8,
   "metadata": {},
   "outputs": [],
   "source": [
    "nb??"
   ]
  },
  {
   "cell_type": "code",
   "execution_count": 9,
   "metadata": {},
   "outputs": [],
   "source": [
    "import nbtext as nb\n",
    "from nbtext import ner"
   ]
  },
  {
   "cell_type": "code",
   "execution_count": 24,
   "metadata": {},
   "outputs": [
    {
     "data": {
      "text/plain": [
       "['Det',\n",
       " 'sier',\n",
       " ['Henrik Urdal', 'person'],\n",
       " ',',\n",
       " 'direktør',\n",
       " 'ved',\n",
       " ['Fredsforskningsinstituttet Prio', 'sted'],\n",
       " ',',\n",
       " 'og',\n",
       " 'tidligere',\n",
       " 'redaktør',\n",
       " 'for',\n",
       " ['Journal', 'sted'],\n",
       " 'of',\n",
       " ['Peace Research', 'sted'],\n",
       " ',',\n",
       " 'det',\n",
       " 'kanskje',\n",
       " 'mest',\n",
       " 'prestisjefylte',\n",
       " 'vitenskapelige',\n",
       " 'tidsskriftet',\n",
       " 'med',\n",
       " 'base',\n",
       " 'i',\n",
       " ['Norge', 'sted'],\n",
       " '.',\n",
       " ['Forrige', 'person'],\n",
       " 'uke',\n",
       " 'avdekket',\n",
       " ['Morgenbladet', 'person'],\n",
       " 'at',\n",
       " 'det',\n",
       " 'norske',\n",
       " '«',\n",
       " 'tellekantsystemet',\n",
       " '»',\n",
       " 'godkjenner',\n",
       " 'mer',\n",
       " 'enn',\n",
       " '60',\n",
       " 'tidsskrifter',\n",
       " 'som',\n",
       " 'er',\n",
       " 'klassifisert',\n",
       " 'som',\n",
       " 'røvertidsskrifter',\n",
       " '(',\n",
       " 'predatory',\n",
       " 'journals',\n",
       " ')',\n",
       " 'i',\n",
       " 'en',\n",
       " 'svarteliste',\n",
       " 'hos',\n",
       " 'selskapet',\n",
       " ['Cabells Scholarly Analytics', 'sted'],\n",
       " '.',\n",
       " 'Her',\n",
       " 'henviste',\n",
       " 'flere',\n",
       " 'til',\n",
       " 'det',\n",
       " 'norske',\n",
       " ['Kanalregisteret', 'person'],\n",
       " 'som',\n",
       " 'en',\n",
       " 'garantist',\n",
       " 'for',\n",
       " 'at',\n",
       " 'tidsskriftene',\n",
       " 'var',\n",
       " 'gode',\n",
       " 'nok',\n",
       " '.',\n",
       " ['Urdal', 'person'],\n",
       " 'sier',\n",
       " 'imidlertid',\n",
       " 'det',\n",
       " 'er',\n",
       " '«',\n",
       " 'skjødesløst',\n",
       " '»',\n",
       " 'av',\n",
       " 'forskere',\n",
       " 'ikke',\n",
       " 'selv',\n",
       " 'å',\n",
       " 'undersøke',\n",
       " 'kvaliteten',\n",
       " 'på',\n",
       " 'publikasjonene',\n",
       " 'man',\n",
       " 'velger',\n",
       " 'å',\n",
       " 'benytte',\n",
       " '.',\n",
       " '–',\n",
       " 'Det',\n",
       " 'overrasker',\n",
       " 'meg',\n",
       " 'hvor',\n",
       " 'lett',\n",
       " 'man',\n",
       " 'tar',\n",
       " 'på',\n",
       " 'det',\n",
       " ',',\n",
       " 'sier',\n",
       " ['Urdal', 'person'],\n",
       " ',',\n",
       " 'som',\n",
       " 'mener',\n",
       " 'kriteriene',\n",
       " 'til',\n",
       " ['Cabells', 'person'],\n",
       " 'peker',\n",
       " 'på',\n",
       " 'helt',\n",
       " 'grunnleggende',\n",
       " 'ting',\n",
       " 'som',\n",
       " 'må',\n",
       " 'være',\n",
       " 'på',\n",
       " 'plass',\n",
       " 'i',\n",
       " 'et',\n",
       " 'tidsskrift',\n",
       " 'som',\n",
       " 'vil',\n",
       " 'bli',\n",
       " 'tatt',\n",
       " 'seriøst',\n",
       " '.']"
      ]
     },
     "execution_count": 24,
     "metadata": {},
     "output_type": "execute_result"
    }
   ],
   "source": [
    "nb.ner(\"\"\"Det sier Henrik Urdal, direktør ved Fredsforskningsinstituttet Prio, og tidligere redaktør for Journal of Peace Research, det kanskje mest prestisjefylte vitenskapelige tidsskriftet med base i Norge. Forrige uke avdekket Morgenbladet at det norske «tellekantsystemet» godkjenner mer enn 60 tidsskrifter som er klassifisert som røvertidsskrifter (predatory journals) i en svarteliste hos selskapet Cabells Scholarly Analytics. Her henviste flere til det norske Kanalregisteret som en garantist for at tidsskriftene var gode nok. \n",
    "\n",
    "Urdal sier imidlertid det er «skjødesløst» av forskere ikke selv å undersøke kvaliteten på publikasjonene man velger å benytte.\n",
    "\n",
    "– Det overrasker meg hvor lett man tar på det, sier Urdal, som mener kriteriene til Cabells peker på helt grunnleggende ting som må være på plass i et tidsskrift som vil bli tatt seriøst.\"\"\", dist= False)"
   ]
  },
  {
   "cell_type": "markdown",
   "metadata": {
    "slideshow": {
     "slide_type": "slide"
    }
   },
   "source": [
    "# Ellen - analyse av Pan"
   ]
  },
  {
   "cell_type": "markdown",
   "metadata": {},
   "source": [
    "Her har du selve notebooken som henter ut navn og lager graf."
   ]
  },
  {
   "cell_type": "markdown",
   "metadata": {},
   "source": [
    "### Start med å importere modulene"
   ]
  },
  {
   "cell_type": "code",
   "execution_count": null,
   "metadata": {},
   "outputs": [],
   "source": [
    "update('graph_networkx_louvain')\n",
    "import nbtext as nb\n",
    "import graph_networkx_louvain as gnl\n",
    "from graph_networkx_louvain import cutdown, make_collocation_graph"
   ]
  },
  {
   "cell_type": "code",
   "execution_count": null,
   "metadata": {},
   "outputs": [],
   "source": [
    "def genitives(G):\n",
    "    pairs = []\n",
    "    for i in G.nodes():\n",
    "        if i+'s' in G.nodes():\n",
    "            pairs.append((i, i+'s'))\n",
    "    return pairs\n",
    "\n",
    "def genitives_in_list(G):\n",
    "    gens = []\n",
    "    for i in G:\n",
    "        if i+'s' in G:\n",
    "            gens.append(i+'s')\n",
    "    return gens"
   ]
  },
  {
   "cell_type": "markdown",
   "metadata": {
    "slideshow": {
     "slide_type": "slide"
    }
   },
   "source": [
    "## Bygg korpus og analysér\n",
    "\n",
    "Hent URN-er fra tekst eller metadata"
   ]
  },
  {
   "cell_type": "code",
   "execution_count": null,
   "metadata": {},
   "outputs": [],
   "source": [
    "korpus = nb.get_urn({'author':'hamsun%', 'title':'%pan%'})"
   ]
  },
  {
   "cell_type": "code",
   "execution_count": null,
   "metadata": {},
   "outputs": [],
   "source": [
    "korpus"
   ]
  },
  {
   "cell_type": "code",
   "execution_count": null,
   "metadata": {},
   "outputs": [],
   "source": [
    "bok =  [2008121004041, 'Hamsun, Knut', 'Pan', 1968]\n"
   ]
  },
  {
   "cell_type": "markdown",
   "metadata": {},
   "source": [
    "## Analyse"
   ]
  },
  {
   "cell_type": "markdown",
   "metadata": {},
   "source": [
    "Hent ut mulige navn fra boken"
   ]
  },
  {
   "cell_type": "code",
   "execution_count": null,
   "metadata": {},
   "outputs": [],
   "source": [
    "boknavn = nb.navn(bok)"
   ]
  },
  {
   "cell_type": "code",
   "execution_count": null,
   "metadata": {},
   "outputs": [],
   "source": [
    "genitives = genitives_in_list(boknavn)"
   ]
  },
  {
   "cell_type": "markdown",
   "metadata": {},
   "source": [
    "En liste med ord som heuristikken over kan ta med som navn men som vi fjerner"
   ]
  },
  {
   "cell_type": "code",
   "execution_count": null,
   "metadata": {},
   "outputs": [],
   "source": [
    "stopnavn = ['Nordland', 'Undskyld','Goddag','Thomas','Cora', 'Sirilund', 'Knut', 'Hamsun', 'Indien', 'Korholmerne','Gud','Guds', 'Ja', 'Nei', 'Nå', 'Dem', 'De', 'Deres', 'Unnskyld', 'Ikke', 'Ah', 'Hmm', 'Jaså', 'Eder', 'Pause', 'Pan']"
   ]
  },
  {
   "cell_type": "code",
   "execution_count": null,
   "metadata": {},
   "outputs": [],
   "source": [
    "stopnavn += genitives"
   ]
  },
  {
   "cell_type": "markdown",
   "metadata": {},
   "source": [
    "Her skjer fjerningen"
   ]
  },
  {
   "cell_type": "code",
   "execution_count": null,
   "metadata": {},
   "outputs": [],
   "source": [
    "boknavncheck = nb.check_navn(boknavn, limit=2, remove=stopnavn)"
   ]
  },
  {
   "cell_type": "code",
   "execution_count": null,
   "metadata": {},
   "outputs": [],
   "source": [
    "boknavncheck"
   ]
  },
  {
   "cell_type": "code",
   "execution_count": null,
   "metadata": {},
   "outputs": [],
   "source": [
    "nb.get_urnkonk('Henriette', {'urns':bok, 'size':50})"
   ]
  },
  {
   "cell_type": "code",
   "execution_count": null,
   "metadata": {},
   "outputs": [],
   "source": [
    "boknavncheck['doktoren'] = 1\n",
    "boknavncheck['løitnant'] = 1\n",
    "boknavncheck['løytnant'] = 1\n",
    "#boknavncheck['Henriette'] = 1\n",
    "boknavncheck['smeden'] = 1\n",
    "#boknavncheck['jeg'] = 1"
   ]
  },
  {
   "cell_type": "markdown",
   "metadata": {},
   "source": [
    "Så lages grafen"
   ]
  },
  {
   "cell_type": "code",
   "execution_count": null,
   "metadata": {},
   "outputs": [],
   "source": [
    "navnegraf = nb.make_network_graph(bok[0], boknavncheck)"
   ]
  },
  {
   "cell_type": "code",
   "execution_count": null,
   "metadata": {},
   "outputs": [],
   "source": [
    "boknavncheck"
   ]
  },
  {
   "cell_type": "markdown",
   "metadata": {},
   "source": [
    "visualisering"
   ]
  },
  {
   "cell_type": "code",
   "execution_count": null,
   "metadata": {},
   "outputs": [],
   "source": [
    "gnl.show_graph(navnegraf)"
   ]
  },
  {
   "cell_type": "markdown",
   "metadata": {},
   "source": [
    "Clustring slik fargene viser"
   ]
  },
  {
   "cell_type": "code",
   "execution_count": null,
   "metadata": {},
   "outputs": [],
   "source": [
    "gnl.show_community(navnegraf)"
   ]
  },
  {
   "cell_type": "markdown",
   "metadata": {},
   "source": [
    "Se litt på hva statistikken viser"
   ]
  },
  {
   "cell_type": "code",
   "execution_count": null,
   "metadata": {},
   "outputs": [],
   "source": [
    "dict(nb.central_betweenness_characters(navnegraf, n=10))"
   ]
  },
  {
   "cell_type": "code",
   "execution_count": null,
   "metadata": {},
   "outputs": [],
   "source": [
    "dict(nb.central_characters(navnegraf, n=10))"
   ]
  },
  {
   "cell_type": "markdown",
   "metadata": {},
   "source": [
    "Lager en subgraf basert på vekting av buene i grafen"
   ]
  },
  {
   "cell_type": "code",
   "execution_count": null,
   "metadata": {},
   "outputs": [],
   "source": [
    "graphs = []\n",
    "for i in range(len(korpus)):\n",
    "    graphs.append(nb.make_network_graph(korpus[i][0], boknavncheck))"
   ]
  },
  {
   "cell_type": "code",
   "execution_count": null,
   "metadata": {},
   "outputs": [],
   "source": [
    "print(nb.metadata(korpus[0]))\n",
    "gnl.show_graph(graphs[0])"
   ]
  },
  {
   "cell_type": "code",
   "execution_count": null,
   "metadata": {},
   "outputs": [],
   "source": [
    "print(nb.metadata(korpus[1]))\n",
    "gnl.show_graph(graphs[1])"
   ]
  },
  {
   "cell_type": "code",
   "execution_count": null,
   "metadata": {},
   "outputs": [],
   "source": [
    "print(nb.metadata(korpus[2]))\n",
    "gnl.show_graph(graphs[2])"
   ]
  },
  {
   "cell_type": "code",
   "execution_count": null,
   "metadata": {},
   "outputs": [],
   "source": [
    "print(nb.metadata(korpus[3]))\n",
    "gnl.show_graph(graphs[3])"
   ]
  },
  {
   "cell_type": "code",
   "execution_count": null,
   "metadata": {},
   "outputs": [],
   "source": [
    "print(nb.metadata(korpus[4]))\n",
    "gnl.show_graph(graphs[4])"
   ]
  },
  {
   "cell_type": "code",
   "execution_count": null,
   "metadata": {},
   "outputs": [],
   "source": [
    "print(nb.metadata(korpus[5]))\n",
    "gnl.show_graph(graphs[5])"
   ]
  },
  {
   "cell_type": "code",
   "execution_count": null,
   "metadata": {},
   "outputs": [],
   "source": [
    "print(nb.metadata(korpus[6]))\n",
    "gnl.show_graph(graphs[6])"
   ]
  },
  {
   "cell_type": "code",
   "execution_count": null,
   "metadata": {},
   "outputs": [],
   "source": [
    "print(nb.metadata(korpus[7]))\n",
    "gnl.show_graph(graphs[7])"
   ]
  },
  {
   "cell_type": "code",
   "execution_count": null,
   "metadata": {},
   "outputs": [],
   "source": [
    "print(nb.metadata(korpus[8]))\n",
    "gnl.show_graph(graphs[8])"
   ]
  },
  {
   "cell_type": "code",
   "execution_count": null,
   "metadata": {},
   "outputs": [],
   "source": [
    "print(nb.metadata(korpus[9]))\n",
    "gnl.show_graph(graphs[9])"
   ]
  },
  {
   "cell_type": "code",
   "execution_count": null,
   "metadata": {},
   "outputs": [],
   "source": [
    "print(nb.metadata(korpus[10]))\n",
    "gnl.show_graph(graphs[10])"
   ]
  },
  {
   "cell_type": "code",
   "execution_count": null,
   "metadata": {},
   "outputs": [],
   "source": []
  },
  {
   "cell_type": "code",
   "execution_count": null,
   "metadata": {},
   "outputs": [],
   "source": [
    "[edge for edge in navnegraf.edges(data=True) if edge[2]['weight'] > 0]"
   ]
  },
  {
   "cell_type": "code",
   "execution_count": null,
   "metadata": {},
   "outputs": [],
   "source": [
    "subedge = [(edge[0], edge[1]) for edge in navnegraf.edges(data=True) if edge[2]['weight'] > 5]"
   ]
  },
  {
   "cell_type": "code",
   "execution_count": null,
   "metadata": {},
   "outputs": [],
   "source": [
    "gnl.show_graph(navnegraf.edge_subgraph(subedge))"
   ]
  },
  {
   "cell_type": "code",
   "execution_count": null,
   "metadata": {},
   "outputs": [],
   "source": [
    "nb.central_betweenness_characters(navnegraf.edge_subgraph(subedge))"
   ]
  },
  {
   "cell_type": "code",
   "execution_count": null,
   "metadata": {},
   "outputs": [],
   "source": [
    "nb.central_characters(navnegraf.edge_subgraph(subedge))"
   ]
  },
  {
   "cell_type": "code",
   "execution_count": null,
   "metadata": {},
   "outputs": [],
   "source": []
  },
  {
   "cell_type": "code",
   "execution_count": null,
   "metadata": {},
   "outputs": [],
   "source": [
    "dgen = dict(genitives(navnegraf_r))\n",
    "dgen"
   ]
  },
  {
   "cell_type": "code",
   "execution_count": null,
   "metadata": {},
   "outputs": [],
   "source": [
    "import networkx as nx"
   ]
  },
  {
   "cell_type": "code",
   "execution_count": null,
   "metadata": {},
   "outputs": [],
   "source": [
    "def contracted_nodes(G, u, v, self_loops=True):\n",
    "    \"\"\"Returns the graph that results from contracting `u` and `v`.\n",
    "    Node contraction identifies the two nodes as a single node incident to any\n",
    "    edge that was incident to the original two nodes.\n",
    "    Parameters\n",
    "    ----------\n",
    "    G : NetworkX graph\n",
    "       The graph whose nodes will be contracted.\n",
    "    u, v : nodes\n",
    "       Must be nodes in `G`.\n",
    "    self_loops : Boolean\n",
    "       If this is True, any edges joining `u` and `v` in `G` become\n",
    "       self-loops on the new node in the returned graph.\n",
    "    Returns\n",
    "    -------\n",
    "    Networkx graph\n",
    "       A new graph object of the same type as `G` (leaving `G` unmodified)\n",
    "       with `u` and `v` identified in a single node. The right node `v`\n",
    "       will be merged into the node `u`, so only `u` will appear in the\n",
    "       returned graph.\n",
    "    Examples\n",
    "    --------\n",
    "    Contracting two nonadjacent nodes of the cycle graph on four nodes `C_4`\n",
    "    yields the path graph (ignoring parallel edges)::\n",
    "        >>> import networkx as nx\n",
    "        >>> G = nx.cycle_graph(4)\n",
    "        >>> M = nx.contracted_nodes(G, 1, 3)\n",
    "        >>> P3 = nx.path_graph(3)\n",
    "        >>> nx.is_isomorphic(M, P3)\n",
    "        True\n",
    "    See also\n",
    "    --------\n",
    "    contracted_edge\n",
    "    quotient_graph\n",
    "    Notes\n",
    "    -----\n",
    "    This function is also available as `identified_nodes`.\n",
    "    \"\"\"\n",
    "\n",
    "    H = G.copy()\n",
    "    if H.is_directed():\n",
    "        in_edges = ((w, u, d) for w, x, d in G.in_edges(v, data=True)\n",
    "                    if self_loops or w != u)\n",
    "        out_edges = ((u, w, d) for x, w, d in G.out_edges(v, data=True)\n",
    "                     if self_loops or w != u)\n",
    "        new_edges = chain(in_edges, out_edges)\n",
    "    else:\n",
    "        # new_edges = ((u, w, d) for x, w, d in G.edges(v, data=True)\n",
    "        #              if self_loops or w != u)\n",
    "        # new_edges = ((u, w, d) for x, w, d in G.edges(v, data=True)\n",
    "        # if self_loops or w != u)\n",
    "        new_edges = list()\n",
    "        nodes_u = [w for x, w in G.edges(u)]\n",
    "        for x, w, d in G.edges(v, data=True):\n",
    "            if w != u:\n",
    "                if w not in nodes_u:\n",
    "                    new_edges.append((u, w, d))\n",
    "                else:\n",
    "                    max_d = max(d, G[u][w])\n",
    "                    new_edges.append((u, w, max_d))\n",
    "    v_data = H.node[v]\n",
    "    pdb.set_trace()\n",
    "    H.remove_node(v)\n",
    "    H.add_edges_from(new_edges)\n",
    "    if 'contraction' in H.node[u]:\n",
    "        H.node[u]['contraction'][v] = v_data\n",
    "    else:\n",
    "        H.node[u]['contraction'] = {v: v_data}\n",
    "    return H\n"
   ]
  },
  {
   "cell_type": "code",
   "execution_count": null,
   "metadata": {},
   "outputs": [],
   "source": [
    "G = navnegraf_r\n",
    "for p in genitives(navnegraf):\n",
    "    G = nx.contracted_nodes(G, p[0], p[1])\n",
    "navnegraf = G\n",
    "for (x,y) in navnegraf"
   ]
  },
  {
   "cell_type": "code",
   "execution_count": null,
   "metadata": {},
   "outputs": [],
   "source": [
    "navnegraf.edges(data=True)"
   ]
  },
  {
   "cell_type": "code",
   "execution_count": null,
   "metadata": {},
   "outputs": [],
   "source": [
    "navnegraf_r.edges(data=True)"
   ]
  }
 ],
 "metadata": {
  "kernelspec": {
   "display_name": "Python 3",
   "language": "python",
   "name": "python3"
  },
  "language_info": {
   "codemirror_mode": {
    "name": "ipython",
    "version": 3
   },
   "file_extension": ".py",
   "mimetype": "text/x-python",
   "name": "python",
   "nbconvert_exporter": "python",
   "pygments_lexer": "ipython3",
   "version": "3.7.3"
  }
 },
 "nbformat": 4,
 "nbformat_minor": 2
}
